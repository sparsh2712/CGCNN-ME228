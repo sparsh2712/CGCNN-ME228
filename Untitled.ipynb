{
 "cells": [
  {
   "cell_type": "code",
   "execution_count": 1,
   "id": "38c77816-3664-4d78-9e55-2b08638cd428",
   "metadata": {},
   "outputs": [],
   "source": [
    "import pandas as pd \n",
    "import numpy as np \n",
    "import matplotlib.pyplot as plt"
   ]
  },
  {
   "cell_type": "code",
   "execution_count": 2,
   "id": "59bd1bdf-5e6b-407f-bc40-f4457928e022",
   "metadata": {},
   "outputs": [
    {
     "name": "stderr",
     "output_type": "stream",
     "text": [
      "/opt/anaconda3/envs/cgcnn/lib/python3.10/site-packages/tqdm/auto.py:21: TqdmWarning: IProgress not found. Please update jupyter and ipywidgets. See https://ipywidgets.readthedocs.io/en/stable/user_install.html\n",
      "  from .autonotebook import tqdm as notebook_tqdm\n"
     ]
    }
   ],
   "source": [
    "from mp_api.client import MPRester"
   ]
  },
  {
   "cell_type": "code",
   "execution_count": 3,
   "id": "4fd55318-dbce-445e-9981-4488613dc7b9",
   "metadata": {},
   "outputs": [],
   "source": [
    "m = MPRester(api_key=\"PULAwCzMQFzgXRhElkO1T4BoM6mQAjnO\")"
   ]
  },
  {
   "cell_type": "code",
   "execution_count": 4,
   "id": "f7515937-1035-4a2f-b221-8b84de0688dc",
   "metadata": {},
   "outputs": [
    {
     "name": "stderr",
     "output_type": "stream",
     "text": [
      "Retrieving MaterialsDoc documents: 100%|████████| 1/1 [00:00<00:00, 9098.27it/s]\n"
     ]
    }
   ],
   "source": [
    "structure = m.get_structure_by_material_id(\"mp-1234\")\n",
    "cif_data = structure.to(fmt=\"cif\")\n",
    "with open(\"mp-1234.cif\", \"w\") as f:\n",
    "    f.write(cif_data)\n"
   ]
  },
  {
   "cell_type": "code",
   "execution_count": 5,
   "id": "26809d1e-e823-42f9-ab93-c861bb9b924f",
   "metadata": {},
   "outputs": [],
   "source": [
    "cif_list = pd.read_csv('mp-ids-3402.csv', header=None, names=['material-id'])"
   ]
  },
  {
   "cell_type": "code",
   "execution_count": 6,
   "id": "9628eb95-9c8e-4f39-9e36-1d9bec27c61c",
   "metadata": {},
   "outputs": [],
   "source": [
    "cif_list['material-id'] = cif_list['material-id'].astype(str)"
   ]
  },
  {
   "cell_type": "code",
   "execution_count": 7,
   "id": "cf93b4b1-1ba3-404d-81ba-ff269322f28d",
   "metadata": {},
   "outputs": [
    {
     "name": "stderr",
     "output_type": "stream",
     "text": [
      "Retrieving MaterialsDoc documents: 100%|███████| 1/1 [00:00<00:00, 25731.93it/s]\n",
      "Retrieving MaterialsDoc documents: 100%|███████| 1/1 [00:00<00:00, 27962.03it/s]\n",
      "Retrieving MaterialsDoc documents: 100%|███████| 1/1 [00:00<00:00, 27776.85it/s]\n",
      "Retrieving MaterialsDoc documents: 100%|███████| 1/1 [00:00<00:00, 28728.11it/s]\n",
      "Retrieving MaterialsDoc documents: 100%|███████| 1/1 [00:00<00:00, 28532.68it/s]\n",
      "Retrieving MaterialsDoc documents: 100%|███████| 1/1 [00:00<00:00, 29330.80it/s]\n",
      "Retrieving MaterialsDoc documents: 100%|███████| 1/1 [00:00<00:00, 26886.56it/s]\n",
      "Retrieving MaterialsDoc documents: 100%|███████| 1/1 [00:00<00:00, 27776.85it/s]\n",
      "Retrieving MaterialsDoc documents: 100%|███████| 1/1 [00:00<00:00, 23831.27it/s]\n",
      "Retrieving MaterialsDoc documents: 100%|███████| 1/1 [00:00<00:00, 27594.11it/s]\n",
      "Retrieving MaterialsDoc documents: 100%|███████| 1/1 [00:00<00:00, 27594.11it/s]\n",
      "Retrieving MaterialsDoc documents: 100%|███████| 1/1 [00:00<00:00, 28728.11it/s]\n",
      "Retrieving MaterialsDoc documents: 100%|███████| 1/1 [00:00<00:00, 28532.68it/s]\n",
      "Retrieving MaterialsDoc documents: 100%|███████| 1/1 [00:00<00:00, 30174.85it/s]\n",
      "Retrieving MaterialsDoc documents: 100%|███████| 1/1 [00:00<00:00, 29537.35it/s]\n",
      "Retrieving MaterialsDoc documents: 100%|███████| 1/1 [00:00<00:00, 28532.68it/s]\n",
      "Retrieving MaterialsDoc documents: 100%|███████| 1/1 [00:00<00:00, 28339.89it/s]\n",
      "Retrieving MaterialsDoc documents: 100%|███████| 1/1 [00:00<00:00, 28728.11it/s]\n",
      "Retrieving MaterialsDoc documents: 100%|███████| 1/1 [00:00<00:00, 27776.85it/s]\n",
      "Retrieving MaterialsDoc documents: 100%|███████| 1/1 [00:00<00:00, 24385.49it/s]\n",
      "Retrieving MaterialsDoc documents: 100%|███████| 1/1 [00:00<00:00, 25575.02it/s]\n",
      "Retrieving MaterialsDoc documents: 100%|███████| 1/1 [00:00<00:00, 28532.68it/s]\n",
      "Retrieving MaterialsDoc documents: 100%|███████| 1/1 [00:00<00:00, 27594.11it/s]\n",
      "Retrieving MaterialsDoc documents: 100%|███████| 1/1 [00:00<00:00, 29330.80it/s]\n",
      "Retrieving MaterialsDoc documents: 100%|███████| 1/1 [00:00<00:00, 29537.35it/s]\n",
      "Retrieving MaterialsDoc documents: 100%|███████| 1/1 [00:00<00:00, 27235.74it/s]\n",
      "Retrieving MaterialsDoc documents: 100%|███████| 1/1 [00:00<00:00, 28532.68it/s]\n",
      "Retrieving MaterialsDoc documents: 100%|███████| 1/1 [00:00<00:00, 26379.27it/s]\n",
      "Retrieving MaterialsDoc documents: 100%|███████| 1/1 [00:00<00:00, 29330.80it/s]\n",
      "Retrieving MaterialsDoc documents: 0it [00:00, ?it/s]\n"
     ]
    },
    {
     "name": "stdout",
     "output_type": "stream",
     "text": [
      "Error occurred for material ID mp-776791: 'list' object has no attribute 'to'\n"
     ]
    },
    {
     "name": "stderr",
     "output_type": "stream",
     "text": [
      "Retrieving MaterialsDoc documents: 100%|███████| 1/1 [00:00<00:00, 26886.56it/s]\n",
      "Retrieving MaterialsDoc documents: 100%|███████| 1/1 [00:00<00:00, 28532.68it/s]\n",
      "Retrieving MaterialsDoc documents: 100%|███████| 1/1 [00:00<00:00, 29330.80it/s]\n",
      "Retrieving MaterialsDoc documents: 100%|███████| 1/1 [00:00<00:00, 26214.40it/s]\n",
      "Retrieving MaterialsDoc documents: 100%|███████| 1/1 [00:00<00:00, 27060.03it/s]\n",
      "Retrieving MaterialsDoc documents: 0it [00:00, ?it/s]\n"
     ]
    },
    {
     "name": "stdout",
     "output_type": "stream",
     "text": [
      "Error occurred for material ID mp-764004: 'list' object has no attribute 'to'\n"
     ]
    },
    {
     "name": "stderr",
     "output_type": "stream",
     "text": [
      "Retrieving MaterialsDoc documents: 100%|███████| 1/1 [00:00<00:00, 18808.54it/s]\n",
      "Retrieving MaterialsDoc documents: 100%|███████| 1/1 [00:00<00:00, 27776.85it/s]\n",
      "Retrieving MaterialsDoc documents: 100%|███████| 1/1 [00:00<00:00, 28728.11it/s]\n",
      "Retrieving MaterialsDoc documents: 100%|███████| 1/1 [00:00<00:00, 28532.68it/s]\n",
      "Retrieving MaterialsDoc documents: 100%|███████| 1/1 [00:00<00:00, 26214.40it/s]\n",
      "Retrieving MaterialsDoc documents: 100%|███████| 1/1 [00:00<00:00, 17549.39it/s]\n",
      "Retrieving MaterialsDoc documents: 100%|███████| 1/1 [00:00<00:00, 28728.11it/s]\n",
      "Retrieving MaterialsDoc documents: 100%|███████| 1/1 [00:00<00:00, 28532.68it/s]\n",
      "Retrieving MaterialsDoc documents: 100%|███████| 1/1 [00:00<00:00, 28532.68it/s]\n",
      "Retrieving MaterialsDoc documents: 100%|███████| 1/1 [00:00<00:00, 28532.68it/s]\n",
      "Retrieving MaterialsDoc documents: 100%|███████| 1/1 [00:00<00:00, 21732.15it/s]\n",
      "Retrieving MaterialsDoc documents: 100%|███████| 1/1 [00:00<00:00, 28728.11it/s]\n",
      "Retrieving MaterialsDoc documents: 100%|███████| 1/1 [00:00<00:00, 27776.85it/s]\n",
      "Retrieving MaterialsDoc documents: 100%|███████| 1/1 [00:00<00:00, 27776.85it/s]\n",
      "Retrieving MaterialsDoc documents: 100%|███████| 1/1 [00:00<00:00, 28532.68it/s]\n",
      "Retrieving MaterialsDoc documents: 100%|███████| 1/1 [00:00<00:00, 27962.03it/s]\n",
      "Retrieving MaterialsDoc documents: 100%|███████| 1/1 [00:00<00:00, 28532.68it/s]\n",
      "Retrieving MaterialsDoc documents: 100%|███████| 1/1 [00:00<00:00, 26546.23it/s]\n",
      "Retrieving MaterialsDoc documents: 100%|███████| 1/1 [00:00<00:00, 27594.11it/s]\n",
      "Retrieving MaterialsDoc documents: 100%|███████| 1/1 [00:00<00:00, 26886.56it/s]\n",
      "Retrieving MaterialsDoc documents: 100%|███████| 1/1 [00:00<00:00, 27962.03it/s]\n",
      "Retrieving MaterialsDoc documents: 0it [00:00, ?it/s]\n"
     ]
    },
    {
     "name": "stdout",
     "output_type": "stream",
     "text": [
      "Error occurred for material ID mp-675163: 'list' object has no attribute 'to'\n"
     ]
    },
    {
     "name": "stderr",
     "output_type": "stream",
     "text": [
      "Retrieving MaterialsDoc documents: 100%|███████| 1/1 [00:00<00:00, 26214.40it/s]\n",
      "Retrieving MaterialsDoc documents: 100%|███████| 1/1 [00:00<00:00, 27235.74it/s]\n",
      "Retrieving MaterialsDoc documents: 100%|███████| 1/1 [00:00<00:00, 27594.11it/s]\n",
      "Retrieving MaterialsDoc documents: 100%|███████| 1/1 [00:00<00:00, 27594.11it/s]\n",
      "Retrieving MaterialsDoc documents: 0it [00:00, ?it/s]\n"
     ]
    },
    {
     "name": "stdout",
     "output_type": "stream",
     "text": [
      "Error occurred for material ID mp-25545: 'list' object has no attribute 'to'\n"
     ]
    },
    {
     "name": "stderr",
     "output_type": "stream",
     "text": [
      "Retrieving MaterialsDoc documents: 0it [00:00, ?it/s]\n"
     ]
    },
    {
     "name": "stdout",
     "output_type": "stream",
     "text": [
      "Error occurred for material ID mp-778780: 'list' object has no attribute 'to'\n"
     ]
    },
    {
     "name": "stderr",
     "output_type": "stream",
     "text": [
      "Retrieving MaterialsDoc documents: 100%|███████| 1/1 [00:00<00:00, 27962.03it/s]\n",
      "Retrieving MaterialsDoc documents: 100%|███████| 1/1 [00:00<00:00, 29330.80it/s]\n",
      "Retrieving MaterialsDoc documents: 100%|███████| 1/1 [00:00<00:00, 24966.10it/s]\n",
      "Retrieving MaterialsDoc documents: 100%|███████| 1/1 [00:00<00:00, 26886.56it/s]\n",
      "Retrieving MaterialsDoc documents: 100%|███████| 1/1 [00:00<00:00, 27776.85it/s]\n",
      "Retrieving MaterialsDoc documents: 100%|███████| 1/1 [00:00<00:00, 25731.93it/s]\n",
      "Retrieving MaterialsDoc documents: 100%|███████| 1/1 [00:00<00:00, 28532.68it/s]\n",
      "Retrieving MaterialsDoc documents: 100%|███████| 1/1 [00:00<00:00, 27776.85it/s]\n",
      "Retrieving MaterialsDoc documents: 100%|███████| 1/1 [00:00<00:00, 30615.36it/s]\n",
      "Retrieving MaterialsDoc documents: 100%|███████| 1/1 [00:00<00:00, 27776.85it/s]\n",
      "Retrieving MaterialsDoc documents: 100%|███████| 1/1 [00:00<00:00, 27060.03it/s]\n",
      "Retrieving MaterialsDoc documents: 100%|███████| 1/1 [00:00<00:00, 26886.56it/s]\n",
      "Retrieving MaterialsDoc documents: 100%|███████| 1/1 [00:00<00:00, 27776.85it/s]\n",
      "Retrieving MaterialsDoc documents: 100%|███████| 1/1 [00:00<00:00, 27776.85it/s]\n",
      "Retrieving MaterialsDoc documents: 100%|███████| 1/1 [00:00<00:00, 24966.10it/s]\n",
      "Retrieving MaterialsDoc documents: 100%|███████| 1/1 [00:00<00:00, 28532.68it/s]\n",
      "Retrieving MaterialsDoc documents: 100%|███████| 1/1 [00:00<00:00, 27962.03it/s]\n",
      "Retrieving MaterialsDoc documents: 100%|███████| 1/1 [00:00<00:00, 27235.74it/s]\n",
      "Retrieving MaterialsDoc documents: 100%|███████| 1/1 [00:00<00:00, 27060.03it/s]\n",
      "Retrieving MaterialsDoc documents: 100%|███████| 1/1 [00:00<00:00, 27962.03it/s]\n",
      "Retrieving MaterialsDoc documents: 100%|███████| 1/1 [00:00<00:00, 29537.35it/s]\n",
      "Retrieving MaterialsDoc documents: 100%|███████| 1/1 [00:00<00:00, 27776.85it/s]\n",
      "Retrieving MaterialsDoc documents: 100%|███████| 1/1 [00:00<00:00, 27776.85it/s]\n",
      "Retrieving MaterialsDoc documents: 100%|███████| 1/1 [00:00<00:00, 31068.92it/s]\n",
      "Retrieving MaterialsDoc documents: 100%|███████| 1/1 [00:00<00:00, 28532.68it/s]\n",
      "Retrieving MaterialsDoc documents: 100%|███████| 1/1 [00:00<00:00, 28339.89it/s]\n",
      "Retrieving MaterialsDoc documents: 100%|███████| 1/1 [00:00<00:00, 26379.27it/s]\n",
      "Retrieving MaterialsDoc documents: 100%|███████| 1/1 [00:00<00:00, 27060.03it/s]\n",
      "Retrieving MaterialsDoc documents: 100%|███████| 1/1 [00:00<00:00, 25115.59it/s]\n",
      "Retrieving MaterialsDoc documents: 100%|███████| 1/1 [00:00<00:00, 28532.68it/s]\n",
      "Retrieving MaterialsDoc documents: 100%|███████| 1/1 [00:00<00:00, 25575.02it/s]\n",
      "Retrieving MaterialsDoc documents: 100%|███████| 1/1 [00:00<00:00, 28532.68it/s]\n",
      "Retrieving MaterialsDoc documents: 100%|███████| 1/1 [00:00<00:00, 27962.03it/s]\n",
      "Retrieving MaterialsDoc documents: 100%|███████| 1/1 [00:00<00:00, 27776.85it/s]\n",
      "Retrieving MaterialsDoc documents: 100%|███████| 1/1 [00:00<00:00, 29537.35it/s]\n",
      "Retrieving MaterialsDoc documents: 0it [00:00, ?it/s]\n"
     ]
    },
    {
     "name": "stdout",
     "output_type": "stream",
     "text": [
      "Error occurred for material ID mp-770002: 'list' object has no attribute 'to'\n"
     ]
    },
    {
     "name": "stderr",
     "output_type": "stream",
     "text": [
      "Retrieving MaterialsDoc documents: 100%|███████| 1/1 [00:00<00:00, 24966.10it/s]\n",
      "Retrieving MaterialsDoc documents: 100%|███████| 1/1 [00:00<00:00, 15363.75it/s]\n",
      "Retrieving MaterialsDoc documents: 100%|███████| 1/1 [00:00<00:00, 28728.11it/s]\n",
      "Retrieving MaterialsDoc documents: 100%|███████| 1/1 [00:00<00:00, 26379.27it/s]\n",
      "Retrieving MaterialsDoc documents: 100%|███████| 1/1 [00:00<00:00, 27594.11it/s]\n",
      "Retrieving MaterialsDoc documents: 100%|███████| 1/1 [00:00<00:00, 27060.03it/s]\n",
      "Retrieving MaterialsDoc documents: 0it [00:00, ?it/s]\n"
     ]
    },
    {
     "name": "stdout",
     "output_type": "stream",
     "text": [
      "Error occurred for material ID mp-675127: 'list' object has no attribute 'to'\n"
     ]
    },
    {
     "name": "stderr",
     "output_type": "stream",
     "text": [
      "Retrieving MaterialsDoc documents: 100%|███████| 1/1 [00:00<00:00, 27776.85it/s]\n",
      "Retrieving MaterialsDoc documents: 100%|███████| 1/1 [00:00<00:00, 27594.11it/s]\n",
      "Retrieving MaterialsDoc documents: 100%|███████| 1/1 [00:00<00:00, 30393.51it/s]\n",
      "Retrieving MaterialsDoc documents: 100%|███████| 1/1 [00:00<00:00, 28532.68it/s]\n",
      "Retrieving MaterialsDoc documents: 100%|███████| 1/1 [00:00<00:00, 17331.83it/s]\n",
      "Retrieving MaterialsDoc documents: 100%|███████| 1/1 [00:00<00:00, 28532.68it/s]\n",
      "Retrieving MaterialsDoc documents: 100%|███████| 1/1 [00:00<00:00, 28532.68it/s]\n",
      "Retrieving MaterialsDoc documents: 100%|███████| 1/1 [00:00<00:00, 27776.85it/s]\n",
      "Retrieving MaterialsDoc documents: 100%|███████| 1/1 [00:00<00:00, 28532.68it/s]\n",
      "Retrieving MaterialsDoc documents: 100%|███████| 1/1 [00:00<00:00, 28532.68it/s]\n",
      "Retrieving MaterialsDoc documents: 100%|███████| 1/1 [00:00<00:00, 27776.85it/s]\n",
      "Retrieving MaterialsDoc documents: 100%|███████| 1/1 [00:00<00:00, 27776.85it/s]\n",
      "Retrieving MaterialsDoc documents: 100%|███████| 1/1 [00:00<00:00, 26379.27it/s]\n",
      "Retrieving MaterialsDoc documents: 100%|███████| 1/1 [00:00<00:00, 26886.56it/s]\n",
      "Retrieving MaterialsDoc documents: 100%|███████| 1/1 [00:00<00:00, 26214.40it/s]\n",
      "Retrieving MaterialsDoc documents: 100%|███████| 1/1 [00:00<00:00, 29746.84it/s]\n",
      "Retrieving MaterialsDoc documents: 100%|███████| 1/1 [00:00<00:00, 28532.68it/s]\n",
      "Retrieving MaterialsDoc documents: 100%|███████| 1/1 [00:00<00:00, 27060.03it/s]\n",
      "Retrieving MaterialsDoc documents: 100%|███████| 1/1 [00:00<00:00, 27060.03it/s]\n",
      "Retrieving MaterialsDoc documents: 100%|███████| 1/1 [00:00<00:00, 27060.03it/s]\n",
      "Retrieving MaterialsDoc documents: 100%|███████| 1/1 [00:00<00:00, 30393.51it/s]\n",
      "Retrieving MaterialsDoc documents: 100%|███████| 1/1 [00:00<00:00, 28728.11it/s]\n",
      "Retrieving MaterialsDoc documents: 100%|███████| 1/1 [00:00<00:00, 26886.56it/s]\n",
      "Retrieving MaterialsDoc documents: 100%|███████| 1/1 [00:00<00:00, 30393.51it/s]\n",
      "Retrieving MaterialsDoc documents: 100%|███████| 1/1 [00:00<00:00, 15827.56it/s]\n",
      "Retrieving MaterialsDoc documents: 100%|███████| 1/1 [00:00<00:00, 28532.68it/s]\n",
      "Retrieving MaterialsDoc documents: 100%|███████| 1/1 [00:00<00:00, 28728.11it/s]\n",
      "Retrieving MaterialsDoc documents: 100%|███████| 1/1 [00:00<00:00, 20763.88it/s]\n",
      "Retrieving MaterialsDoc documents: 100%|███████| 1/1 [00:00<00:00, 24385.49it/s]\n",
      "Retrieving MaterialsDoc documents: 100%|███████| 1/1 [00:00<00:00, 29330.80it/s]\n",
      "Retrieving MaterialsDoc documents: 100%|███████| 1/1 [00:00<00:00, 26379.27it/s]\n",
      "Retrieving MaterialsDoc documents: 0it [00:00, ?it/s]\n"
     ]
    },
    {
     "name": "stdout",
     "output_type": "stream",
     "text": [
      "Error occurred for material ID mp-772245: 'list' object has no attribute 'to'\n"
     ]
    },
    {
     "name": "stderr",
     "output_type": "stream",
     "text": [
      "Retrieving MaterialsDoc documents: 100%|███████| 1/1 [00:00<00:00, 27060.03it/s]\n",
      "Retrieving MaterialsDoc documents: 100%|███████| 1/1 [00:00<00:00, 28728.11it/s]\n",
      "Retrieving MaterialsDoc documents: 100%|███████| 1/1 [00:00<00:00, 28532.68it/s]\n",
      "Retrieving MaterialsDoc documents: 100%|███████| 1/1 [00:00<00:00, 26214.40it/s]\n",
      "Retrieving MaterialsDoc documents: 100%|███████| 1/1 [00:00<00:00, 27594.11it/s]\n",
      "Retrieving MaterialsDoc documents: 100%|███████| 1/1 [00:00<00:00, 26546.23it/s]\n",
      "Retrieving MaterialsDoc documents: 100%|███████| 1/1 [00:00<00:00, 26214.40it/s]\n",
      "Retrieving MaterialsDoc documents: 100%|███████| 1/1 [00:00<00:00, 27060.03it/s]\n",
      "Retrieving MaterialsDoc documents: 100%|███████| 1/1 [00:00<00:00, 29330.80it/s]\n",
      "Retrieving MaterialsDoc documents: 100%|███████| 1/1 [00:00<00:00, 28532.68it/s]\n",
      "Retrieving MaterialsDoc documents: 0it [00:00, ?it/s]\n"
     ]
    },
    {
     "name": "stdout",
     "output_type": "stream",
     "text": [
      "Error occurred for material ID mp-565994: 'list' object has no attribute 'to'\n"
     ]
    },
    {
     "name": "stderr",
     "output_type": "stream",
     "text": [
      "Retrieving MaterialsDoc documents: 0it [00:00, ?it/s]\n"
     ]
    },
    {
     "name": "stdout",
     "output_type": "stream",
     "text": [
      "Error occurred for material ID mp-561637: 'list' object has no attribute 'to'\n"
     ]
    },
    {
     "name": "stderr",
     "output_type": "stream",
     "text": [
      "Retrieving MaterialsDoc documents: 100%|███████| 1/1 [00:00<00:00, 29330.80it/s]\n",
      "Retrieving MaterialsDoc documents: 100%|███████| 1/1 [00:00<00:00, 27962.03it/s]\n",
      "Retrieving MaterialsDoc documents: 100%|███████| 1/1 [00:00<00:00, 27962.03it/s]\n",
      "Retrieving MaterialsDoc documents: 100%|███████| 1/1 [00:00<00:00, 26379.27it/s]\n",
      "Retrieving MaterialsDoc documents: 100%|███████| 1/1 [00:00<00:00, 29330.80it/s]\n",
      "Retrieving MaterialsDoc documents: 100%|███████| 1/1 [00:00<00:00, 30393.51it/s]\n",
      "Retrieving MaterialsDoc documents: 100%|███████| 1/1 [00:00<00:00, 29330.80it/s]\n",
      "Retrieving MaterialsDoc documents: 100%|███████| 1/1 [00:00<00:00, 22919.69it/s]\n",
      "Retrieving MaterialsDoc documents: 100%|███████| 1/1 [00:00<00:00, 25115.59it/s]\n",
      "Retrieving MaterialsDoc documents: 100%|███████| 1/1 [00:00<00:00, 26886.56it/s]\n",
      "Retrieving MaterialsDoc documents: 100%|███████| 1/1 [00:00<00:00, 27776.85it/s]\n",
      "Retrieving MaterialsDoc documents: 100%|███████| 1/1 [00:00<00:00, 27962.03it/s]\n",
      "Retrieving MaterialsDoc documents: 100%|███████| 1/1 [00:00<00:00, 27060.03it/s]\n",
      "Retrieving MaterialsDoc documents: 100%|███████| 1/1 [00:00<00:00, 27962.03it/s]\n",
      "Retrieving MaterialsDoc documents: 100%|███████| 1/1 [00:00<00:00, 29330.80it/s]\n",
      "Retrieving MaterialsDoc documents: 100%|███████| 1/1 [00:00<00:00, 29330.80it/s]\n",
      "Retrieving MaterialsDoc documents: 100%|███████| 1/1 [00:00<00:00, 28532.68it/s]\n",
      "Retrieving MaterialsDoc documents: 100%|███████| 1/1 [00:00<00:00, 28532.68it/s]\n",
      "Retrieving MaterialsDoc documents: 100%|███████| 1/1 [00:00<00:00, 27962.03it/s]\n",
      "Retrieving MaterialsDoc documents: 100%|███████| 1/1 [00:00<00:00, 27776.85it/s]\n",
      "Retrieving MaterialsDoc documents: 100%|███████| 1/1 [00:00<00:00, 27776.85it/s]\n",
      "Retrieving MaterialsDoc documents: 100%|███████| 1/1 [00:00<00:00, 27962.03it/s]\n",
      "Retrieving MaterialsDoc documents: 100%|███████| 1/1 [00:00<00:00, 26886.56it/s]\n",
      "Retrieving MaterialsDoc documents: 100%|███████| 1/1 [00:00<00:00, 26214.40it/s]\n",
      "Retrieving MaterialsDoc documents: 100%|███████| 1/1 [00:00<00:00, 30174.85it/s]\n",
      "Retrieving MaterialsDoc documents: 0it [00:00, ?it/s]\n"
     ]
    },
    {
     "name": "stdout",
     "output_type": "stream",
     "text": [
      "Error occurred for material ID mp-741706: 'list' object has no attribute 'to'\n"
     ]
    },
    {
     "name": "stderr",
     "output_type": "stream",
     "text": [
      "Retrieving MaterialsDoc documents: 100%|███████| 1/1 [00:00<00:00, 27594.11it/s]\n",
      "Retrieving MaterialsDoc documents: 100%|███████| 1/1 [00:00<00:00, 27962.03it/s]\n",
      "Retrieving MaterialsDoc documents: 100%|███████| 1/1 [00:00<00:00, 29537.35it/s]\n",
      "Retrieving MaterialsDoc documents: 100%|███████| 1/1 [00:00<00:00, 28532.68it/s]\n",
      "Retrieving MaterialsDoc documents: 100%|███████| 1/1 [00:00<00:00, 26886.56it/s]\n",
      "Retrieving MaterialsDoc documents: 100%|███████| 1/1 [00:00<00:00, 29330.80it/s]\n",
      "Retrieving MaterialsDoc documents: 100%|███████| 1/1 [00:00<00:00, 28532.68it/s]\n",
      "Retrieving MaterialsDoc documents: 100%|███████| 1/1 [00:00<00:00, 29537.35it/s]\n",
      "Retrieving MaterialsDoc documents: 100%|███████| 1/1 [00:00<00:00, 25420.02it/s]\n",
      "Retrieving MaterialsDoc documents: 100%|███████| 1/1 [00:00<00:00, 27776.85it/s]\n",
      "Retrieving MaterialsDoc documents: 0it [00:00, ?it/s]\n"
     ]
    },
    {
     "name": "stdout",
     "output_type": "stream",
     "text": [
      "Error occurred for material ID mp-561238: 'list' object has no attribute 'to'\n"
     ]
    },
    {
     "name": "stderr",
     "output_type": "stream",
     "text": [
      "Retrieving MaterialsDoc documents: 100%|███████| 1/1 [00:00<00:00, 26214.40it/s]\n",
      "Retrieving MaterialsDoc documents: 100%|███████| 1/1 [00:00<00:00, 26886.56it/s]\n",
      "Retrieving MaterialsDoc documents: 100%|███████| 1/1 [00:00<00:00, 24244.53it/s]\n",
      "Retrieving MaterialsDoc documents: 100%|███████| 1/1 [00:00<00:00, 28532.68it/s]\n",
      "Retrieving MaterialsDoc documents: 100%|███████| 1/1 [00:00<00:00, 28532.68it/s]\n",
      "Retrieving MaterialsDoc documents: 0it [00:00, ?it/s]\n"
     ]
    },
    {
     "name": "stdout",
     "output_type": "stream",
     "text": [
      "Error occurred for material ID mp-766917: 'list' object has no attribute 'to'\n"
     ]
    },
    {
     "name": "stderr",
     "output_type": "stream",
     "text": [
      "Retrieving MaterialsDoc documents: 100%|███████| 1/1 [00:00<00:00, 27776.85it/s]\n",
      "Retrieving MaterialsDoc documents: 100%|███████| 1/1 [00:00<00:00, 29330.80it/s]\n",
      "Retrieving MaterialsDoc documents: 100%|███████| 1/1 [00:00<00:00, 16070.13it/s]\n",
      "Retrieving MaterialsDoc documents: 100%|███████| 1/1 [00:00<00:00, 31300.78it/s]\n",
      "Retrieving MaterialsDoc documents: 100%|███████| 1/1 [00:00<00:00, 31300.78it/s]\n",
      "Retrieving MaterialsDoc documents: 100%|███████| 1/1 [00:00<00:00, 28532.68it/s]\n",
      "Retrieving MaterialsDoc documents: 100%|███████| 1/1 [00:00<00:00, 28532.68it/s]\n",
      "Retrieving MaterialsDoc documents: 100%|███████| 1/1 [00:00<00:00, 27060.03it/s]\n",
      "Retrieving MaterialsDoc documents: 0it [00:00, ?it/s]\n"
     ]
    },
    {
     "name": "stdout",
     "output_type": "stream",
     "text": [
      "Error occurred for material ID mp-772231: 'list' object has no attribute 'to'\n"
     ]
    },
    {
     "name": "stderr",
     "output_type": "stream",
     "text": [
      "Retrieving MaterialsDoc documents: 0it [00:00, ?it/s]\n"
     ]
    },
    {
     "name": "stdout",
     "output_type": "stream",
     "text": [
      "Error occurred for material ID mp-774117: 'list' object has no attribute 'to'\n"
     ]
    },
    {
     "name": "stderr",
     "output_type": "stream",
     "text": [
      "Retrieving MaterialsDoc documents: 100%|███████| 1/1 [00:00<00:00, 28532.68it/s]\n",
      "Retrieving MaterialsDoc documents: 100%|███████| 1/1 [00:00<00:00, 28532.68it/s]\n",
      "Retrieving MaterialsDoc documents: 100%|███████| 1/1 [00:00<00:00, 28532.68it/s]\n",
      "Retrieving MaterialsDoc documents: 100%|███████| 1/1 [00:00<00:00, 29330.80it/s]\n",
      "Retrieving MaterialsDoc documents: 100%|███████| 1/1 [00:00<00:00, 28532.68it/s]\n",
      "Retrieving MaterialsDoc documents: 100%|███████| 1/1 [00:00<00:00, 27776.85it/s]\n",
      "Retrieving MaterialsDoc documents: 100%|███████| 1/1 [00:00<00:00, 28532.68it/s]\n",
      "Retrieving MaterialsDoc documents: 100%|███████| 1/1 [00:00<00:00, 28532.68it/s]\n",
      "Retrieving MaterialsDoc documents: 100%|███████| 1/1 [00:00<00:00, 27776.85it/s]\n",
      "Retrieving MaterialsDoc documents: 100%|███████| 1/1 [00:00<00:00, 27594.11it/s]\n",
      "Retrieving MaterialsDoc documents: 100%|███████| 1/1 [00:00<00:00, 15650.39it/s]\n",
      "Retrieving MaterialsDoc documents: 100%|███████| 1/1 [00:00<00:00, 29330.80it/s]\n",
      "Retrieving MaterialsDoc documents: 100%|███████| 1/1 [00:00<00:00, 17549.39it/s]\n",
      "Retrieving MaterialsDoc documents: 100%|███████| 1/1 [00:00<00:00, 26214.40it/s]\n",
      "Retrieving MaterialsDoc documents: 100%|███████| 1/1 [00:00<00:00, 26379.27it/s]\n",
      "Retrieving MaterialsDoc documents: 0it [00:00, ?it/s]\n"
     ]
    },
    {
     "name": "stdout",
     "output_type": "stream",
     "text": [
      "Error occurred for material ID mp-32449: 'list' object has no attribute 'to'\n"
     ]
    },
    {
     "name": "stderr",
     "output_type": "stream",
     "text": [
      "Retrieving MaterialsDoc documents: 100%|███████| 1/1 [00:00<00:00, 27962.03it/s]\n",
      "Retrieving MaterialsDoc documents: 100%|███████| 1/1 [00:00<00:00, 27962.03it/s]\n",
      "Retrieving MaterialsDoc documents: 100%|███████| 1/1 [00:00<00:00, 29330.80it/s]\n",
      "Retrieving MaterialsDoc documents: 0it [00:00, ?it/s]\n"
     ]
    },
    {
     "name": "stdout",
     "output_type": "stream",
     "text": [
      "Error occurred for material ID mp-12992: 'list' object has no attribute 'to'\n"
     ]
    },
    {
     "name": "stderr",
     "output_type": "stream",
     "text": [
      "Retrieving MaterialsDoc documents: 100%|███████| 1/1 [00:00<00:00, 27776.85it/s]\n",
      "Retrieving MaterialsDoc documents: 100%|███████| 1/1 [00:00<00:00, 28728.11it/s]\n",
      "Retrieving MaterialsDoc documents: 0it [00:00, ?it/s]\n"
     ]
    },
    {
     "name": "stdout",
     "output_type": "stream",
     "text": [
      "Error occurred for material ID mp-766154: 'list' object has no attribute 'to'\n"
     ]
    },
    {
     "name": "stderr",
     "output_type": "stream",
     "text": [
      "Retrieving MaterialsDoc documents: 100%|███████| 1/1 [00:00<00:00, 26546.23it/s]\n",
      "Retrieving MaterialsDoc documents: 100%|███████| 1/1 [00:00<00:00, 27962.03it/s]\n",
      "Retrieving MaterialsDoc documents: 100%|███████| 1/1 [00:00<00:00, 26886.56it/s]\n",
      "Retrieving MaterialsDoc documents: 100%|███████| 1/1 [00:00<00:00, 27776.85it/s]\n",
      "Retrieving MaterialsDoc documents: 100%|███████| 1/1 [00:00<00:00, 28532.68it/s]\n",
      "Retrieving MaterialsDoc documents: 100%|███████| 1/1 [00:00<00:00, 26214.40it/s]\n",
      "Retrieving MaterialsDoc documents: 100%|███████| 1/1 [00:00<00:00, 26379.27it/s]\n",
      "Retrieving MaterialsDoc documents: 100%|███████| 1/1 [00:00<00:00, 28532.68it/s]\n",
      "Retrieving MaterialsDoc documents: 100%|███████| 1/1 [00:00<00:00, 27594.11it/s]\n",
      "Retrieving MaterialsDoc documents: 100%|███████| 1/1 [00:00<00:00, 27594.11it/s]\n",
      "Retrieving MaterialsDoc documents: 100%|███████| 1/1 [00:00<00:00, 24818.37it/s]\n",
      "Retrieving MaterialsDoc documents: 100%|███████| 1/1 [00:00<00:00, 27594.11it/s]\n",
      "Retrieving MaterialsDoc documents: 100%|███████| 1/1 [00:00<00:00, 27962.03it/s]\n",
      "Retrieving MaterialsDoc documents: 100%|███████| 1/1 [00:00<00:00, 28532.68it/s]\n",
      "Retrieving MaterialsDoc documents: 100%|███████| 1/1 [00:00<00:00, 32263.88it/s]\n",
      "Retrieving MaterialsDoc documents: 0it [00:00, ?it/s]\n"
     ]
    },
    {
     "name": "stdout",
     "output_type": "stream",
     "text": [
      "Error occurred for material ID mp-776184: 'list' object has no attribute 'to'\n"
     ]
    },
    {
     "name": "stderr",
     "output_type": "stream",
     "text": [
      "Retrieving MaterialsDoc documents: 100%|███████| 1/1 [00:00<00:00, 27235.74it/s]\n",
      "Retrieving MaterialsDoc documents: 100%|███████| 1/1 [00:00<00:00, 28532.68it/s]\n",
      "Retrieving MaterialsDoc documents: 100%|███████| 1/1 [00:00<00:00, 27060.03it/s]\n",
      "Retrieving MaterialsDoc documents: 100%|███████| 1/1 [00:00<00:00, 27594.11it/s]\n",
      "Retrieving MaterialsDoc documents: 100%|███████| 1/1 [00:00<00:00, 27776.85it/s]\n",
      "Retrieving MaterialsDoc documents: 100%|███████| 1/1 [00:00<00:00, 27776.85it/s]\n",
      "Retrieving MaterialsDoc documents: 100%|███████| 1/1 [00:00<00:00, 27060.03it/s]\n",
      "Retrieving MaterialsDoc documents: 100%|███████| 1/1 [00:00<00:00, 27962.03it/s]\n",
      "Retrieving MaterialsDoc documents: 100%|███████| 1/1 [00:00<00:00, 27776.85it/s]\n",
      "Retrieving MaterialsDoc documents: 100%|███████| 1/1 [00:00<00:00, 26886.56it/s]\n",
      "Retrieving MaterialsDoc documents: 100%|███████| 1/1 [00:00<00:00, 27962.03it/s]\n",
      "Retrieving MaterialsDoc documents: 100%|███████| 1/1 [00:00<00:00, 29537.35it/s]\n",
      "Retrieving MaterialsDoc documents: 100%|███████| 1/1 [00:00<00:00, 28532.68it/s]\n",
      "Retrieving MaterialsDoc documents: 100%|███████| 1/1 [00:00<00:00, 26886.56it/s]\n",
      "Retrieving MaterialsDoc documents: 100%|███████| 1/1 [00:00<00:00, 28532.68it/s]\n",
      "Retrieving MaterialsDoc documents: 100%|███████| 1/1 [00:00<00:00, 27962.03it/s]\n",
      "Retrieving MaterialsDoc documents: 100%|███████| 1/1 [00:00<00:00, 27962.03it/s]\n",
      "Retrieving MaterialsDoc documents: 100%|███████| 1/1 [00:00<00:00, 27776.85it/s]\n",
      "Retrieving MaterialsDoc documents: 100%|███████| 1/1 [00:00<00:00, 27962.03it/s]\n",
      "Retrieving MaterialsDoc documents: 0it [00:00, ?it/s]\n"
     ]
    },
    {
     "name": "stdout",
     "output_type": "stream",
     "text": [
      "Error occurred for material ID mp-762915: 'list' object has no attribute 'to'\n"
     ]
    },
    {
     "name": "stderr",
     "output_type": "stream",
     "text": [
      "Retrieving MaterialsDoc documents: 100%|███████| 1/1 [00:00<00:00, 28728.11it/s]\n",
      "Retrieving MaterialsDoc documents: 100%|███████| 1/1 [00:00<00:00, 29330.80it/s]\n",
      "Retrieving MaterialsDoc documents: 0it [00:00, ?it/s]\n"
     ]
    },
    {
     "name": "stdout",
     "output_type": "stream",
     "text": [
      "Error occurred for material ID mp-853247: 'list' object has no attribute 'to'\n"
     ]
    },
    {
     "name": "stderr",
     "output_type": "stream",
     "text": [
      "Retrieving MaterialsDoc documents: 100%|███████| 1/1 [00:00<00:00, 28728.11it/s]\n",
      "Retrieving MaterialsDoc documents: 100%|███████| 1/1 [00:00<00:00, 23831.27it/s]\n",
      "Retrieving MaterialsDoc documents: 100%|███████| 1/1 [00:00<00:00, 25575.02it/s]\n",
      "Retrieving MaterialsDoc documents: 100%|███████| 1/1 [00:00<00:00, 27060.03it/s]\n",
      "Retrieving MaterialsDoc documents: 0it [00:00, ?it/s]\n"
     ]
    },
    {
     "name": "stdout",
     "output_type": "stream",
     "text": [
      "Error occurred for material ID mp-764362: 'list' object has no attribute 'to'\n"
     ]
    },
    {
     "name": "stderr",
     "output_type": "stream",
     "text": [
      "Retrieving MaterialsDoc documents: 100%|███████| 1/1 [00:00<00:00, 28728.11it/s]\n",
      "Retrieving MaterialsDoc documents: 100%|███████| 1/1 [00:00<00:00, 27776.85it/s]\n",
      "Retrieving MaterialsDoc documents: 100%|███████| 1/1 [00:00<00:00, 28728.11it/s]\n",
      "Retrieving MaterialsDoc documents: 100%|███████| 1/1 [00:00<00:00, 28532.68it/s]\n",
      "Retrieving MaterialsDoc documents: 100%|███████| 1/1 [00:00<00:00, 29537.35it/s]\n",
      "Retrieving MaterialsDoc documents: 100%|███████| 1/1 [00:00<00:00, 27235.74it/s]\n",
      "Retrieving MaterialsDoc documents: 100%|███████| 1/1 [00:00<00:00, 29537.35it/s]\n",
      "Retrieving MaterialsDoc documents: 0it [00:00, ?it/s]\n"
     ]
    },
    {
     "name": "stdout",
     "output_type": "stream",
     "text": [
      "Error occurred for material ID mp-762920: 'list' object has no attribute 'to'\n"
     ]
    },
    {
     "name": "stderr",
     "output_type": "stream",
     "text": [
      "Retrieving MaterialsDoc documents: 100%|███████| 1/1 [00:00<00:00, 26379.27it/s]\n",
      "Retrieving MaterialsDoc documents: 0it [00:00, ?it/s]\n"
     ]
    },
    {
     "name": "stdout",
     "output_type": "stream",
     "text": [
      "Error occurred for material ID mp-776626: 'list' object has no attribute 'to'\n"
     ]
    },
    {
     "name": "stderr",
     "output_type": "stream",
     "text": [
      "Retrieving MaterialsDoc documents: 100%|███████| 1/1 [00:00<00:00, 14926.35it/s]\n",
      "Retrieving MaterialsDoc documents: 100%|███████| 1/1 [00:00<00:00, 26379.27it/s]\n",
      "Retrieving MaterialsDoc documents: 100%|███████| 1/1 [00:00<00:00, 27594.11it/s]\n",
      "Retrieving MaterialsDoc documents: 100%|███████| 1/1 [00:00<00:00, 27962.03it/s]\n",
      "Retrieving MaterialsDoc documents: 100%|███████| 1/1 [00:00<00:00, 29330.80it/s]\n",
      "Retrieving MaterialsDoc documents: 100%|███████| 1/1 [00:00<00:00, 23831.27it/s]\n",
      "Retrieving MaterialsDoc documents: 100%|███████| 1/1 [00:00<00:00, 27776.85it/s]\n",
      "Retrieving MaterialsDoc documents: 100%|███████| 1/1 [00:00<00:00, 27060.03it/s]\n",
      "Retrieving MaterialsDoc documents: 100%|███████| 1/1 [00:00<00:00, 24385.49it/s]\n",
      "Retrieving MaterialsDoc documents: 100%|███████| 1/1 [00:00<00:00, 23831.27it/s]\n",
      "Retrieving MaterialsDoc documents: 100%|███████| 1/1 [00:00<00:00, 25420.02it/s]\n",
      "Retrieving MaterialsDoc documents: 100%|███████| 1/1 [00:00<00:00, 18477.11it/s]\n",
      "Retrieving MaterialsDoc documents: 100%|███████| 1/1 [00:00<00:00, 27962.03it/s]\n",
      "Retrieving MaterialsDoc documents: 100%|███████| 1/1 [00:00<00:00, 27776.85it/s]\n",
      "Retrieving MaterialsDoc documents: 100%|███████| 1/1 [00:00<00:00, 23831.27it/s]\n",
      "Retrieving MaterialsDoc documents: 100%|███████| 1/1 [00:00<00:00, 27776.85it/s]\n",
      "Retrieving MaterialsDoc documents: 100%|███████| 1/1 [00:00<00:00, 27776.85it/s]\n",
      "Retrieving MaterialsDoc documents: 100%|███████| 1/1 [00:00<00:00, 27060.03it/s]\n",
      "Retrieving MaterialsDoc documents: 100%|███████| 1/1 [00:00<00:00, 30393.51it/s]\n",
      "Retrieving MaterialsDoc documents: 100%|███████| 1/1 [00:00<00:00, 27776.85it/s]\n",
      "Retrieving MaterialsDoc documents: 100%|███████| 1/1 [00:00<00:00, 29537.35it/s]\n",
      "Retrieving MaterialsDoc documents: 100%|███████| 1/1 [00:00<00:00, 27235.74it/s]\n",
      "Retrieving MaterialsDoc documents: 100%|███████| 1/1 [00:00<00:00, 26379.27it/s]\n",
      "Retrieving MaterialsDoc documents: 100%|███████| 1/1 [00:00<00:00, 27060.03it/s]\n",
      "Retrieving MaterialsDoc documents: 100%|███████| 1/1 [00:00<00:00, 27060.03it/s]\n",
      "Retrieving MaterialsDoc documents: 100%|███████| 1/1 [00:00<00:00, 27594.11it/s]\n",
      "Retrieving MaterialsDoc documents: 0it [00:00, ?it/s]\n"
     ]
    },
    {
     "name": "stdout",
     "output_type": "stream",
     "text": [
      "Error occurred for material ID mp-776985: 'list' object has no attribute 'to'\n"
     ]
    },
    {
     "name": "stderr",
     "output_type": "stream",
     "text": [
      "Retrieving MaterialsDoc documents: 100%|███████| 1/1 [00:00<00:00, 28532.68it/s]\n",
      "Retrieving MaterialsDoc documents: 100%|███████| 1/1 [00:00<00:00, 27594.11it/s]\n",
      "Retrieving MaterialsDoc documents: 100%|███████| 1/1 [00:00<00:00, 27594.11it/s]\n",
      "Retrieving MaterialsDoc documents: 100%|███████| 1/1 [00:00<00:00, 27776.85it/s]\n",
      "Retrieving MaterialsDoc documents: 0it [00:00, ?it/s]\n"
     ]
    },
    {
     "name": "stdout",
     "output_type": "stream",
     "text": [
      "Error occurred for material ID mp-626512: 'list' object has no attribute 'to'\n"
     ]
    },
    {
     "name": "stderr",
     "output_type": "stream",
     "text": [
      "Retrieving MaterialsDoc documents: 100%|███████| 1/1 [00:00<00:00, 27962.03it/s]\n",
      "Retrieving MaterialsDoc documents: 100%|███████| 1/1 [00:00<00:00, 29330.80it/s]\n",
      "Retrieving MaterialsDoc documents: 100%|███████| 1/1 [00:00<00:00, 28532.68it/s]\n",
      "Retrieving MaterialsDoc documents: 100%|███████| 1/1 [00:00<00:00, 29330.80it/s]\n",
      "Retrieving MaterialsDoc documents: 100%|███████| 1/1 [00:00<00:00, 30393.51it/s]\n",
      "Retrieving MaterialsDoc documents: 100%|███████| 1/1 [00:00<00:00, 26886.56it/s]\n",
      "Retrieving MaterialsDoc documents: 100%|███████| 1/1 [00:00<00:00, 26379.27it/s]\n",
      "Retrieving MaterialsDoc documents: 100%|███████| 1/1 [00:00<00:00, 30174.85it/s]\n",
      "Retrieving MaterialsDoc documents: 100%|███████| 1/1 [00:00<00:00, 27235.74it/s]\n",
      "Retrieving MaterialsDoc documents: 100%|███████| 1/1 [00:00<00:00, 29746.84it/s]\n",
      "Retrieving MaterialsDoc documents: 100%|███████| 1/1 [00:00<00:00, 27962.03it/s]\n",
      "Retrieving MaterialsDoc documents: 100%|███████| 1/1 [00:00<00:00, 28532.68it/s]\n",
      "Retrieving MaterialsDoc documents: 100%|███████| 1/1 [00:00<00:00, 29330.80it/s]\n",
      "Retrieving MaterialsDoc documents: 100%|███████| 1/1 [00:00<00:00, 27962.03it/s]\n",
      "Retrieving MaterialsDoc documents: 100%|███████| 1/1 [00:00<00:00, 27776.85it/s]\n",
      "Retrieving MaterialsDoc documents: 100%|███████| 1/1 [00:00<00:00, 29330.80it/s]\n",
      "Retrieving MaterialsDoc documents: 100%|███████| 1/1 [00:00<00:00, 27776.85it/s]\n",
      "Retrieving MaterialsDoc documents: 100%|███████| 1/1 [00:00<00:00, 27235.74it/s]\n",
      "Retrieving MaterialsDoc documents: 100%|███████| 1/1 [00:00<00:00, 28532.68it/s]\n",
      "Retrieving MaterialsDoc documents: 100%|███████| 1/1 [00:00<00:00, 25115.59it/s]\n",
      "Retrieving MaterialsDoc documents: 100%|███████| 1/1 [00:00<00:00, 26214.40it/s]\n",
      "Retrieving MaterialsDoc documents: 100%|███████| 1/1 [00:00<00:00, 28728.11it/s]\n",
      "Retrieving MaterialsDoc documents: 100%|███████| 1/1 [00:00<00:00, 27776.85it/s]\n",
      "Retrieving MaterialsDoc documents: 100%|███████| 1/1 [00:00<00:00, 29330.80it/s]\n",
      "Retrieving MaterialsDoc documents: 100%|███████| 1/1 [00:00<00:00, 28339.89it/s]\n",
      "Retrieving MaterialsDoc documents: 100%|███████| 1/1 [00:00<00:00, 29330.80it/s]\n",
      "Retrieving MaterialsDoc documents: 100%|███████| 1/1 [00:00<00:00, 27776.85it/s]\n",
      "Retrieving MaterialsDoc documents: 100%|███████| 1/1 [00:00<00:00, 26886.56it/s]\n",
      "Retrieving MaterialsDoc documents: 100%|███████| 1/1 [00:00<00:00, 28532.68it/s]\n",
      "Retrieving MaterialsDoc documents: 100%|███████| 1/1 [00:00<00:00, 16980.99it/s]\n",
      "Retrieving MaterialsDoc documents: 100%|███████| 1/1 [00:00<00:00, 27060.03it/s]\n",
      "Retrieving MaterialsDoc documents: 100%|███████| 1/1 [00:00<00:00, 29330.80it/s]\n",
      "Retrieving MaterialsDoc documents: 100%|███████| 1/1 [00:00<00:00, 27962.03it/s]\n",
      "Retrieving MaterialsDoc documents: 100%|███████| 1/1 [00:00<00:00, 27060.03it/s]\n",
      "Retrieving MaterialsDoc documents: 100%|███████| 1/1 [00:00<00:00, 29330.80it/s]\n",
      "Retrieving MaterialsDoc documents: 100%|███████| 1/1 [00:00<00:00, 26379.27it/s]\n",
      "Retrieving MaterialsDoc documents: 100%|███████| 1/1 [00:00<00:00, 27776.85it/s]\n",
      "Retrieving MaterialsDoc documents: 100%|███████| 1/1 [00:00<00:00, 27060.03it/s]\n",
      "Retrieving MaterialsDoc documents: 100%|███████| 1/1 [00:00<00:00, 27060.03it/s]\n",
      "Retrieving MaterialsDoc documents: 100%|███████| 1/1 [00:00<00:00, 26379.27it/s]\n",
      "Retrieving MaterialsDoc documents: 100%|███████| 1/1 [00:00<00:00, 27776.85it/s]\n",
      "Retrieving MaterialsDoc documents: 100%|███████| 1/1 [00:00<00:00, 28532.68it/s]\n",
      "Retrieving MaterialsDoc documents: 100%|███████| 1/1 [00:00<00:00, 27776.85it/s]\n",
      "Retrieving MaterialsDoc documents: 100%|███████| 1/1 [00:00<00:00, 26886.56it/s]\n",
      "Retrieving MaterialsDoc documents: 100%|███████| 1/1 [00:00<00:00, 29330.80it/s]\n",
      "Retrieving MaterialsDoc documents: 100%|███████| 1/1 [00:00<00:00, 28728.11it/s]\n",
      "Retrieving MaterialsDoc documents: 100%|███████| 1/1 [00:00<00:00, 28532.68it/s]\n",
      "Retrieving MaterialsDoc documents: 100%|███████| 1/1 [00:00<00:00, 27060.03it/s]\n",
      "Retrieving MaterialsDoc documents: 100%|███████| 1/1 [00:00<00:00, 29537.35it/s]\n",
      "Retrieving MaterialsDoc documents: 100%|███████| 1/1 [00:00<00:00, 29330.80it/s]\n",
      "Retrieving MaterialsDoc documents: 100%|███████| 1/1 [00:00<00:00, 28532.68it/s]\n",
      "Retrieving MaterialsDoc documents: 100%|███████| 1/1 [00:00<00:00, 16131.94it/s]\n",
      "Retrieving MaterialsDoc documents: 100%|███████| 1/1 [00:00<00:00, 24385.49it/s]\n",
      "Retrieving MaterialsDoc documents: 100%|███████| 1/1 [00:00<00:00, 28532.68it/s]\n",
      "Retrieving MaterialsDoc documents: 100%|███████| 1/1 [00:00<00:00, 28532.68it/s]\n",
      "Retrieving MaterialsDoc documents: 100%|███████| 1/1 [00:00<00:00, 26379.27it/s]\n",
      "Retrieving MaterialsDoc documents: 100%|███████| 1/1 [00:00<00:00, 27594.11it/s]\n",
      "Retrieving MaterialsDoc documents: 100%|███████| 1/1 [00:00<00:00, 27776.85it/s]\n",
      "Retrieving MaterialsDoc documents: 100%|███████| 1/1 [00:00<00:00, 27962.03it/s]\n",
      "Retrieving MaterialsDoc documents: 100%|███████| 1/1 [00:00<00:00, 29330.80it/s]\n",
      "Retrieving MaterialsDoc documents: 100%|███████| 1/1 [00:00<00:00, 27594.11it/s]\n",
      "Retrieving MaterialsDoc documents: 100%|███████| 1/1 [00:00<00:00, 27962.03it/s]\n",
      "Retrieving MaterialsDoc documents: 100%|███████| 1/1 [00:00<00:00, 27235.74it/s]\n",
      "Retrieving MaterialsDoc documents: 100%|███████| 1/1 [00:00<00:00, 27060.03it/s]\n",
      "Retrieving MaterialsDoc documents: 100%|███████| 1/1 [00:00<00:00, 27776.85it/s]\n",
      "Retrieving MaterialsDoc documents: 100%|███████| 1/1 [00:00<00:00, 19508.39it/s]\n",
      "Retrieving MaterialsDoc documents: 100%|███████| 1/1 [00:00<00:00, 30393.51it/s]\n",
      "Retrieving MaterialsDoc documents: 100%|███████| 1/1 [00:00<00:00, 31300.78it/s]\n",
      "Retrieving MaterialsDoc documents: 100%|███████| 1/1 [00:00<00:00, 23301.69it/s]\n",
      "Retrieving MaterialsDoc documents: 100%|███████| 1/1 [00:00<00:00, 29330.80it/s]\n"
     ]
    },
    {
     "name": "stdout",
     "output_type": "stream",
     "text": [
      "Error occurred for material ID mp-616559: HTTPSConnectionPool(host='api.materialsproject.org', port=443): Read timed out.\n"
     ]
    },
    {
     "name": "stderr",
     "output_type": "stream",
     "text": [
      "Retrieving MaterialsDoc documents: 100%|███████| 1/1 [00:00<00:00, 26886.56it/s]\n",
      "Retrieving MaterialsDoc documents: 0it [00:00, ?it/s]\n"
     ]
    },
    {
     "name": "stdout",
     "output_type": "stream",
     "text": [
      "Error occurred for material ID mp-867689: 'list' object has no attribute 'to'\n"
     ]
    },
    {
     "name": "stderr",
     "output_type": "stream",
     "text": [
      "Retrieving MaterialsDoc documents: 100%|███████| 1/1 [00:00<00:00, 26214.40it/s]\n",
      "Retrieving MaterialsDoc documents: 0it [00:00, ?it/s]\n"
     ]
    },
    {
     "name": "stdout",
     "output_type": "stream",
     "text": [
      "Error occurred for material ID mp-34134: 'list' object has no attribute 'to'\n"
     ]
    },
    {
     "name": "stderr",
     "output_type": "stream",
     "text": [
      "Retrieving MaterialsDoc documents: 100%|███████| 1/1 [00:00<00:00, 28532.68it/s]\n",
      "Retrieving MaterialsDoc documents: 100%|███████| 1/1 [00:00<00:00, 19508.39it/s]\n",
      "Retrieving MaterialsDoc documents: 100%|███████| 1/1 [00:00<00:00, 28532.68it/s]\n",
      "Retrieving MaterialsDoc documents: 100%|███████| 1/1 [00:00<00:00, 26214.40it/s]\n",
      "Retrieving MaterialsDoc documents: 0it [00:00, ?it/s]\n"
     ]
    },
    {
     "name": "stdout",
     "output_type": "stream",
     "text": [
      "Error occurred for material ID mp-771798: 'list' object has no attribute 'to'\n"
     ]
    },
    {
     "name": "stderr",
     "output_type": "stream",
     "text": [
      "Retrieving MaterialsDoc documents: 100%|███████| 1/1 [00:00<00:00, 26379.27it/s]\n",
      "Retrieving MaterialsDoc documents: 100%|███████| 1/1 [00:00<00:00, 27235.74it/s]\n",
      "Retrieving MaterialsDoc documents: 100%|███████| 1/1 [00:00<00:00, 31300.78it/s]\n",
      "Retrieving MaterialsDoc documents: 100%|███████| 1/1 [00:00<00:00, 27235.74it/s]\n",
      "Retrieving MaterialsDoc documents: 100%|███████| 1/1 [00:00<00:00, 27776.85it/s]\n",
      "Retrieving MaterialsDoc documents: 100%|███████| 1/1 [00:00<00:00, 27594.11it/s]\n",
      "Retrieving MaterialsDoc documents: 100%|███████| 1/1 [00:00<00:00, 27776.85it/s]\n",
      "Retrieving MaterialsDoc documents: 100%|███████| 1/1 [00:00<00:00, 26379.27it/s]\n",
      "Retrieving MaterialsDoc documents: 100%|███████| 1/1 [00:00<00:00, 28532.68it/s]\n",
      "Retrieving MaterialsDoc documents: 100%|███████| 1/1 [00:00<00:00, 26214.40it/s]\n",
      "Retrieving MaterialsDoc documents: 100%|███████| 1/1 [00:00<00:00, 26886.56it/s]\n",
      "Retrieving MaterialsDoc documents: 100%|███████| 1/1 [00:00<00:00, 27594.11it/s]\n",
      "Retrieving MaterialsDoc documents: 100%|███████| 1/1 [00:00<00:00, 29330.80it/s]\n",
      "Retrieving MaterialsDoc documents: 0it [00:00, ?it/s]\n"
     ]
    },
    {
     "name": "stdout",
     "output_type": "stream",
     "text": [
      "Error occurred for material ID mp-771844: 'list' object has no attribute 'to'\n"
     ]
    },
    {
     "name": "stderr",
     "output_type": "stream",
     "text": [
      "Retrieving MaterialsDoc documents: 100%|███████| 1/1 [00:00<00:00, 27776.85it/s]\n",
      "Retrieving MaterialsDoc documents: 100%|███████| 1/1 [00:00<00:00, 29746.84it/s]\n",
      "Retrieving MaterialsDoc documents: 100%|███████| 1/1 [00:00<00:00, 27776.85it/s]\n",
      "Retrieving MaterialsDoc documents: 100%|███████| 1/1 [00:00<00:00, 28532.68it/s]\n",
      "Retrieving MaterialsDoc documents: 100%|███████| 1/1 [00:00<00:00, 27594.11it/s]\n",
      "Retrieving MaterialsDoc documents: 0it [00:00, ?it/s]\n"
     ]
    },
    {
     "name": "stdout",
     "output_type": "stream",
     "text": [
      "Error occurred for material ID mp-770086: 'list' object has no attribute 'to'\n"
     ]
    },
    {
     "name": "stderr",
     "output_type": "stream",
     "text": [
      "Retrieving MaterialsDoc documents: 100%|███████| 1/1 [00:00<00:00, 26379.27it/s]\n",
      "Retrieving MaterialsDoc documents: 100%|███████| 1/1 [00:00<00:00, 29746.84it/s]\n",
      "Retrieving MaterialsDoc documents: 0it [00:00, ?it/s]\n"
     ]
    },
    {
     "name": "stdout",
     "output_type": "stream",
     "text": [
      "Error occurred for material ID mp-762869: 'list' object has no attribute 'to'\n"
     ]
    },
    {
     "name": "stderr",
     "output_type": "stream",
     "text": [
      "Retrieving MaterialsDoc documents: 0it [00:00, ?it/s]\n"
     ]
    },
    {
     "name": "stdout",
     "output_type": "stream",
     "text": [
      "Error occurred for material ID mp-765445: 'list' object has no attribute 'to'\n"
     ]
    },
    {
     "name": "stderr",
     "output_type": "stream",
     "text": [
      "Retrieving MaterialsDoc documents: 100%|███████| 1/1 [00:00<00:00, 27594.11it/s]\n",
      "Retrieving MaterialsDoc documents: 100%|███████| 1/1 [00:00<00:00, 25575.02it/s]\n",
      "Retrieving MaterialsDoc documents: 100%|███████| 1/1 [00:00<00:00, 19152.07it/s]\n",
      "Retrieving MaterialsDoc documents: 100%|███████| 1/1 [00:00<00:00, 29330.80it/s]\n",
      "Retrieving MaterialsDoc documents: 100%|███████| 1/1 [00:00<00:00, 27594.11it/s]\n",
      "Retrieving MaterialsDoc documents: 100%|███████| 1/1 [00:00<00:00, 23172.95it/s]\n",
      "Retrieving MaterialsDoc documents: 100%|███████| 1/1 [00:00<00:00, 28728.11it/s]\n",
      "Retrieving MaterialsDoc documents: 100%|███████| 1/1 [00:00<00:00, 26214.40it/s]\n",
      "Retrieving MaterialsDoc documents: 100%|███████| 1/1 [00:00<00:00, 27060.03it/s]\n",
      "Retrieving MaterialsDoc documents: 100%|███████| 1/1 [00:00<00:00, 27962.03it/s]\n",
      "Retrieving MaterialsDoc documents: 100%|███████| 1/1 [00:00<00:00, 30393.51it/s]\n",
      "Retrieving MaterialsDoc documents: 100%|███████| 1/1 [00:00<00:00, 27962.03it/s]\n",
      "Retrieving MaterialsDoc documents: 100%|███████| 1/1 [00:00<00:00, 25731.93it/s]\n",
      "Retrieving MaterialsDoc documents: 100%|███████| 1/1 [00:00<00:00, 27962.03it/s]\n",
      "Retrieving MaterialsDoc documents: 100%|███████| 1/1 [00:00<00:00, 26379.27it/s]\n",
      "Retrieving MaterialsDoc documents: 100%|███████| 1/1 [00:00<00:00, 26546.23it/s]\n",
      "Retrieving MaterialsDoc documents: 100%|███████| 1/1 [00:00<00:00, 27594.11it/s]\n",
      "Retrieving MaterialsDoc documents: 100%|███████| 1/1 [00:00<00:00, 29330.80it/s]\n",
      "Retrieving MaterialsDoc documents: 100%|███████| 1/1 [00:00<00:00, 28532.68it/s]\n",
      "Retrieving MaterialsDoc documents: 0it [00:00, ?it/s]\n"
     ]
    },
    {
     "name": "stdout",
     "output_type": "stream",
     "text": [
      "Error occurred for material ID mp-25008: 'list' object has no attribute 'to'\n"
     ]
    },
    {
     "name": "stderr",
     "output_type": "stream",
     "text": [
      "Retrieving MaterialsDoc documents: 100%|███████| 1/1 [00:00<00:00, 25731.93it/s]\n",
      "Retrieving MaterialsDoc documents: 100%|███████| 1/1 [00:00<00:00, 28339.89it/s]\n",
      "Retrieving MaterialsDoc documents: 100%|███████| 1/1 [00:00<00:00, 28532.68it/s]\n",
      "Retrieving MaterialsDoc documents: 100%|███████| 1/1 [00:00<00:00, 27962.03it/s]\n",
      "Retrieving MaterialsDoc documents: 100%|███████| 1/1 [00:00<00:00, 31300.78it/s]\n",
      "Retrieving MaterialsDoc documents: 0it [00:00, ?it/s]\n"
     ]
    },
    {
     "name": "stdout",
     "output_type": "stream",
     "text": [
      "Error occurred for material ID mp-510559: 'list' object has no attribute 'to'\n"
     ]
    },
    {
     "name": "stderr",
     "output_type": "stream",
     "text": [
      "Retrieving MaterialsDoc documents: 100%|███████| 1/1 [00:00<00:00, 26379.27it/s]\n",
      "Retrieving MaterialsDoc documents: 100%|███████| 1/1 [00:00<00:00, 29537.35it/s]\n",
      "Retrieving MaterialsDoc documents: 100%|███████| 1/1 [00:00<00:00, 30393.51it/s]\n",
      "Retrieving MaterialsDoc documents: 100%|███████| 1/1 [00:00<00:00, 25575.02it/s]\n",
      "Retrieving MaterialsDoc documents: 100%|███████| 1/1 [00:00<00:00, 27594.11it/s]\n",
      "Retrieving MaterialsDoc documents: 100%|███████| 1/1 [00:00<00:00, 29537.35it/s]\n",
      "Retrieving MaterialsDoc documents: 100%|███████| 1/1 [00:00<00:00, 30393.51it/s]\n",
      "Retrieving MaterialsDoc documents: 100%|███████| 1/1 [00:00<00:00, 16384.00it/s]\n",
      "Retrieving MaterialsDoc documents: 100%|███████| 1/1 [00:00<00:00, 28728.11it/s]\n",
      "Retrieving MaterialsDoc documents: 100%|███████| 1/1 [00:00<00:00, 29330.80it/s]\n",
      "Retrieving MaterialsDoc documents: 100%|███████| 1/1 [00:00<00:00, 27594.11it/s]\n",
      "Retrieving MaterialsDoc documents: 0it [00:00, ?it/s]\n"
     ]
    },
    {
     "name": "stdout",
     "output_type": "stream",
     "text": [
      "Error occurred for material ID mp-775620: 'list' object has no attribute 'to'\n"
     ]
    },
    {
     "name": "stderr",
     "output_type": "stream",
     "text": [
      "Retrieving MaterialsDoc documents: 100%|███████| 1/1 [00:00<00:00, 28728.11it/s]\n",
      "Retrieving MaterialsDoc documents: 100%|███████| 1/1 [00:00<00:00, 27776.85it/s]\n",
      "Retrieving MaterialsDoc documents: 100%|███████| 1/1 [00:00<00:00, 19152.07it/s]\n",
      "Retrieving MaterialsDoc documents: 100%|███████| 1/1 [00:00<00:00, 28532.68it/s]\n",
      "Retrieving MaterialsDoc documents: 100%|███████| 1/1 [00:00<00:00, 28728.11it/s]\n",
      "Retrieving MaterialsDoc documents: 0it [00:00, ?it/s]\n"
     ]
    },
    {
     "name": "stdout",
     "output_type": "stream",
     "text": [
      "Error occurred for material ID mp-764338: 'list' object has no attribute 'to'\n"
     ]
    },
    {
     "name": "stderr",
     "output_type": "stream",
     "text": [
      "Retrieving MaterialsDoc documents: 100%|███████| 1/1 [00:00<00:00, 28532.68it/s]\n",
      "Retrieving MaterialsDoc documents: 100%|███████| 1/1 [00:00<00:00, 28532.68it/s]\n",
      "Retrieving MaterialsDoc documents: 100%|███████| 1/1 [00:00<00:00, 27060.03it/s]\n",
      "Retrieving MaterialsDoc documents: 100%|███████| 1/1 [00:00<00:00, 28532.68it/s]\n",
      "Retrieving MaterialsDoc documents: 100%|███████| 1/1 [00:00<00:00, 26886.56it/s]\n",
      "Retrieving MaterialsDoc documents: 100%|███████| 1/1 [00:00<00:00, 26214.40it/s]\n",
      "Retrieving MaterialsDoc documents: 100%|███████| 1/1 [00:00<00:00, 22919.69it/s]\n",
      "Retrieving MaterialsDoc documents: 100%|███████| 1/1 [00:00<00:00, 26214.40it/s]\n",
      "Retrieving MaterialsDoc documents: 100%|███████| 1/1 [00:00<00:00, 30174.85it/s]\n",
      "Retrieving MaterialsDoc documents: 100%|███████| 1/1 [00:00<00:00, 28532.68it/s]\n",
      "Retrieving MaterialsDoc documents: 100%|███████| 1/1 [00:00<00:00, 27776.85it/s]\n",
      "Retrieving MaterialsDoc documents: 100%|███████| 1/1 [00:00<00:00, 26546.23it/s]\n",
      "Retrieving MaterialsDoc documents: 100%|███████| 1/1 [00:00<00:00, 28532.68it/s]\n",
      "Retrieving MaterialsDoc documents: 100%|███████| 1/1 [00:00<00:00, 26379.27it/s]\n",
      "Retrieving MaterialsDoc documents: 100%|███████| 1/1 [00:00<00:00, 25115.59it/s]\n",
      "Retrieving MaterialsDoc documents: 100%|███████| 1/1 [00:00<00:00, 28532.68it/s]\n",
      "Retrieving MaterialsDoc documents: 0it [00:00, ?it/s]\n"
     ]
    },
    {
     "name": "stdout",
     "output_type": "stream",
     "text": [
      "Error occurred for material ID mp-868359: 'list' object has no attribute 'to'\n"
     ]
    },
    {
     "name": "stderr",
     "output_type": "stream",
     "text": [
      "Retrieving MaterialsDoc documents: 100%|███████| 1/1 [00:00<00:00, 26214.40it/s]\n",
      "Retrieving MaterialsDoc documents: 100%|███████| 1/1 [00:00<00:00, 30393.51it/s]\n",
      "Retrieving MaterialsDoc documents: 100%|███████| 1/1 [00:00<00:00, 28532.68it/s]\n",
      "Retrieving MaterialsDoc documents: 100%|███████| 1/1 [00:00<00:00, 29330.80it/s]\n",
      "Retrieving MaterialsDoc documents: 100%|███████| 1/1 [00:00<00:00, 28532.68it/s]\n",
      "Retrieving MaterialsDoc documents: 100%|███████| 1/1 [00:00<00:00, 27060.03it/s]\n",
      "Retrieving MaterialsDoc documents: 100%|███████| 1/1 [00:00<00:00, 29537.35it/s]\n",
      "Retrieving MaterialsDoc documents: 0it [00:00, ?it/s]\n"
     ]
    },
    {
     "name": "stdout",
     "output_type": "stream",
     "text": [
      "Error occurred for material ID mp-771532: 'list' object has no attribute 'to'\n"
     ]
    },
    {
     "name": "stderr",
     "output_type": "stream",
     "text": [
      "Retrieving MaterialsDoc documents: 100%|███████| 1/1 [00:00<00:00, 28532.68it/s]\n",
      "Retrieving MaterialsDoc documents: 100%|███████| 1/1 [00:00<00:00, 27594.11it/s]\n",
      "Retrieving MaterialsDoc documents: 100%|███████| 1/1 [00:00<00:00, 28532.68it/s]\n",
      "Retrieving MaterialsDoc documents: 100%|███████| 1/1 [00:00<00:00, 29330.80it/s]\n",
      "Retrieving MaterialsDoc documents: 100%|███████| 1/1 [00:00<00:00, 31300.78it/s]\n",
      "Retrieving MaterialsDoc documents: 100%|███████| 1/1 [00:00<00:00, 28532.68it/s]\n",
      "Retrieving MaterialsDoc documents: 100%|███████| 1/1 [00:00<00:00, 30615.36it/s]\n",
      "Retrieving MaterialsDoc documents: 100%|███████| 1/1 [00:00<00:00, 24966.10it/s]\n",
      "Retrieving MaterialsDoc documents: 100%|███████| 1/1 [00:00<00:00, 28532.68it/s]\n",
      "Retrieving MaterialsDoc documents: 100%|███████| 1/1 [00:00<00:00, 27776.85it/s]\n",
      "Retrieving MaterialsDoc documents: 100%|███████| 1/1 [00:00<00:00, 27776.85it/s]\n",
      "Retrieving MaterialsDoc documents: 100%|███████| 1/1 [00:00<00:00, 26379.27it/s]\n",
      "Retrieving MaterialsDoc documents: 100%|███████| 1/1 [00:00<00:00, 28532.68it/s]\n",
      "Retrieving MaterialsDoc documents: 100%|███████| 1/1 [00:00<00:00, 28532.68it/s]\n",
      "Retrieving MaterialsDoc documents: 100%|███████| 1/1 [00:00<00:00, 29746.84it/s]\n",
      "Retrieving MaterialsDoc documents: 100%|███████| 1/1 [00:00<00:00, 21732.15it/s]\n",
      "Retrieving MaterialsDoc documents: 100%|███████| 1/1 [00:00<00:00, 26886.56it/s]\n",
      "Retrieving MaterialsDoc documents: 100%|███████| 1/1 [00:00<00:00, 28728.11it/s]\n",
      "Retrieving MaterialsDoc documents: 100%|███████| 1/1 [00:00<00:00, 28728.11it/s]\n",
      "Retrieving MaterialsDoc documents: 100%|███████| 1/1 [00:00<00:00, 28532.68it/s]\n",
      "Retrieving MaterialsDoc documents: 100%|███████| 1/1 [00:00<00:00, 27594.11it/s]\n",
      "Retrieving MaterialsDoc documents: 100%|███████| 1/1 [00:00<00:00, 28532.68it/s]\n",
      "Retrieving MaterialsDoc documents: 100%|███████| 1/1 [00:00<00:00, 28339.89it/s]\n",
      "Retrieving MaterialsDoc documents: 100%|███████| 1/1 [00:00<00:00, 27060.03it/s]\n",
      "Retrieving MaterialsDoc documents: 100%|███████| 1/1 [00:00<00:00, 27776.85it/s]\n",
      "Retrieving MaterialsDoc documents: 100%|███████| 1/1 [00:00<00:00, 26886.56it/s]\n",
      "Retrieving MaterialsDoc documents: 100%|███████| 1/1 [00:00<00:00, 24818.37it/s]\n",
      "Retrieving MaterialsDoc documents: 100%|███████| 1/1 [00:00<00:00, 25731.93it/s]\n",
      "Retrieving MaterialsDoc documents: 100%|███████| 1/1 [00:00<00:00, 28532.68it/s]\n",
      "Retrieving MaterialsDoc documents: 100%|███████| 1/1 [00:00<00:00, 28532.68it/s]\n",
      "Retrieving MaterialsDoc documents: 100%|███████| 1/1 [00:00<00:00, 28728.11it/s]\n",
      "Retrieving MaterialsDoc documents: 100%|███████| 1/1 [00:00<00:00, 30393.51it/s]\n",
      "Retrieving MaterialsDoc documents: 100%|███████| 1/1 [00:00<00:00, 31300.78it/s]\n",
      "Retrieving MaterialsDoc documents: 100%|███████| 1/1 [00:00<00:00, 29330.80it/s]\n",
      "Retrieving MaterialsDoc documents: 100%|███████| 1/1 [00:00<00:00, 28532.68it/s]\n",
      "Retrieving MaterialsDoc documents: 100%|███████| 1/1 [00:00<00:00, 28728.11it/s]\n",
      "Retrieving MaterialsDoc documents: 0it [00:00, ?it/s]\n"
     ]
    },
    {
     "name": "stdout",
     "output_type": "stream",
     "text": [
      "Error occurred for material ID mp-552787: 'list' object has no attribute 'to'\n"
     ]
    },
    {
     "name": "stderr",
     "output_type": "stream",
     "text": [
      "Retrieving MaterialsDoc documents: 100%|███████| 1/1 [00:00<00:00, 28532.68it/s]\n",
      "Retrieving MaterialsDoc documents: 100%|███████| 1/1 [00:00<00:00, 27776.85it/s]\n",
      "Retrieving MaterialsDoc documents: 100%|███████| 1/1 [00:00<00:00, 28532.68it/s]\n",
      "Retrieving MaterialsDoc documents: 0it [00:00, ?it/s]\n"
     ]
    },
    {
     "name": "stdout",
     "output_type": "stream",
     "text": [
      "Error occurred for material ID mp-771858: 'list' object has no attribute 'to'\n"
     ]
    },
    {
     "name": "stderr",
     "output_type": "stream",
     "text": [
      "Retrieving MaterialsDoc documents: 100%|███████| 1/1 [00:00<00:00, 19972.88it/s]\n",
      "Retrieving MaterialsDoc documents: 100%|███████| 1/1 [00:00<00:00, 27060.03it/s]\n",
      "Retrieving MaterialsDoc documents: 100%|███████| 1/1 [00:00<00:00, 26379.27it/s]\n",
      "Retrieving MaterialsDoc documents: 100%|███████| 1/1 [00:00<00:00, 26886.56it/s]\n",
      "Retrieving MaterialsDoc documents: 100%|███████| 1/1 [00:00<00:00, 29330.80it/s]\n",
      "Retrieving MaterialsDoc documents: 100%|███████| 1/1 [00:00<00:00, 26214.40it/s]\n",
      "Retrieving MaterialsDoc documents: 100%|███████| 1/1 [00:00<00:00, 30174.85it/s]\n",
      "Retrieving MaterialsDoc documents: 100%|███████| 1/1 [00:00<00:00, 28728.11it/s]\n",
      "Retrieving MaterialsDoc documents: 100%|███████| 1/1 [00:00<00:00, 28728.11it/s]\n",
      "Retrieving MaterialsDoc documents: 100%|███████| 1/1 [00:00<00:00, 32263.88it/s]\n",
      "Retrieving MaterialsDoc documents: 100%|███████| 1/1 [00:00<00:00, 26886.56it/s]\n",
      "Retrieving MaterialsDoc documents: 100%|███████| 1/1 [00:00<00:00, 27962.03it/s]\n",
      "Retrieving MaterialsDoc documents: 100%|███████| 1/1 [00:00<00:00, 31300.78it/s]\n",
      "Retrieving MaterialsDoc documents: 100%|███████| 1/1 [00:00<00:00, 28532.68it/s]\n",
      "Retrieving MaterialsDoc documents: 100%|███████| 1/1 [00:00<00:00, 29330.80it/s]\n",
      "Retrieving MaterialsDoc documents: 100%|███████| 1/1 [00:00<00:00, 27962.03it/s]\n",
      "Retrieving MaterialsDoc documents: 100%|███████| 1/1 [00:00<00:00, 28339.89it/s]\n",
      "Retrieving MaterialsDoc documents: 100%|███████| 1/1 [00:00<00:00, 30174.85it/s]\n",
      "Retrieving MaterialsDoc documents: 100%|███████| 1/1 [00:00<00:00, 28532.68it/s]\n",
      "Retrieving MaterialsDoc documents: 100%|███████| 1/1 [00:00<00:00, 26886.56it/s]\n",
      "Retrieving MaterialsDoc documents: 0it [00:00, ?it/s]\n"
     ]
    },
    {
     "name": "stdout",
     "output_type": "stream",
     "text": [
      "Error occurred for material ID mp-690526: 'list' object has no attribute 'to'\n"
     ]
    },
    {
     "name": "stderr",
     "output_type": "stream",
     "text": [
      "Retrieving MaterialsDoc documents: 100%|███████| 1/1 [00:00<00:00, 28532.68it/s]\n",
      "Retrieving MaterialsDoc documents: 100%|███████| 1/1 [00:00<00:00, 27594.11it/s]\n",
      "Retrieving MaterialsDoc documents: 100%|███████| 1/1 [00:00<00:00, 29330.80it/s]\n",
      "Retrieving MaterialsDoc documents: 100%|███████| 1/1 [00:00<00:00, 27594.11it/s]\n",
      "Retrieving MaterialsDoc documents: 100%|███████| 1/1 [00:00<00:00, 28728.11it/s]\n",
      "Retrieving MaterialsDoc documents: 100%|███████| 1/1 [00:00<00:00, 26379.27it/s]\n",
      "Retrieving MaterialsDoc documents: 100%|███████| 1/1 [00:00<00:00, 16644.06it/s]\n",
      "Retrieving MaterialsDoc documents: 100%|███████| 1/1 [00:00<00:00, 27776.85it/s]\n",
      "Retrieving MaterialsDoc documents: 100%|███████| 1/1 [00:00<00:00, 26886.56it/s]\n",
      "Retrieving MaterialsDoc documents: 100%|███████| 1/1 [00:00<00:00, 28532.68it/s]\n",
      "Retrieving MaterialsDoc documents: 100%|███████| 1/1 [00:00<00:00, 28728.11it/s]\n",
      "Retrieving MaterialsDoc documents: 100%|███████| 1/1 [00:00<00:00, 26214.40it/s]\n",
      "Retrieving MaterialsDoc documents: 100%|███████| 1/1 [00:00<00:00, 16710.37it/s]\n",
      "Retrieving MaterialsDoc documents: 100%|███████| 1/1 [00:00<00:00, 28532.68it/s]\n",
      "Retrieving MaterialsDoc documents: 100%|███████| 1/1 [00:00<00:00, 31300.78it/s]\n",
      "Retrieving MaterialsDoc documents: 100%|███████| 1/1 [00:00<00:00, 26379.27it/s]\n",
      "Retrieving MaterialsDoc documents: 100%|███████| 1/1 [00:00<00:00, 26886.56it/s]\n",
      "Retrieving MaterialsDoc documents: 100%|███████| 1/1 [00:00<00:00, 28728.11it/s]\n",
      "Retrieving MaterialsDoc documents: 100%|███████| 1/1 [00:00<00:00, 29537.35it/s]\n",
      "Retrieving MaterialsDoc documents: 100%|███████| 1/1 [00:00<00:00, 28339.89it/s]\n",
      "Retrieving MaterialsDoc documents: 100%|████████| 1/1 [00:00<00:00, 9986.44it/s]\n",
      "Retrieving MaterialsDoc documents: 100%|███████| 1/1 [00:00<00:00, 28532.68it/s]\n",
      "Retrieving MaterialsDoc documents: 100%|███████| 1/1 [00:00<00:00, 28532.68it/s]\n",
      "Retrieving MaterialsDoc documents: 100%|███████| 1/1 [00:00<00:00, 28532.68it/s]\n",
      "Retrieving MaterialsDoc documents: 100%|███████| 1/1 [00:00<00:00, 22192.08it/s]\n",
      "Retrieving MaterialsDoc documents: 100%|███████| 1/1 [00:00<00:00, 29537.35it/s]\n",
      "Retrieving MaterialsDoc documents: 100%|███████| 1/1 [00:00<00:00, 26379.27it/s]\n",
      "Retrieving MaterialsDoc documents: 100%|███████| 1/1 [00:00<00:00, 27962.03it/s]\n",
      "Retrieving MaterialsDoc documents: 100%|███████| 1/1 [00:00<00:00, 27776.85it/s]\n",
      "Retrieving MaterialsDoc documents: 100%|███████| 1/1 [00:00<00:00, 32263.88it/s]\n",
      "Retrieving MaterialsDoc documents: 100%|███████| 1/1 [00:00<00:00, 30174.85it/s]\n",
      "Retrieving MaterialsDoc documents: 100%|███████| 1/1 [00:00<00:00, 27060.03it/s]\n",
      "Retrieving MaterialsDoc documents: 100%|███████| 1/1 [00:00<00:00, 27594.11it/s]\n",
      "Retrieving MaterialsDoc documents: 100%|███████| 1/1 [00:00<00:00, 27594.11it/s]\n",
      "Retrieving MaterialsDoc documents: 100%|███████| 1/1 [00:00<00:00, 29330.80it/s]\n",
      "Retrieving MaterialsDoc documents: 100%|███████| 1/1 [00:00<00:00, 30393.51it/s]\n",
      "Retrieving MaterialsDoc documents: 100%|███████| 1/1 [00:00<00:00, 30174.85it/s]\n",
      "Retrieving MaterialsDoc documents: 100%|███████| 1/1 [00:00<00:00, 29746.84it/s]\n",
      "Retrieving MaterialsDoc documents: 100%|███████| 1/1 [00:00<00:00, 30174.85it/s]\n",
      "Retrieving MaterialsDoc documents: 100%|███████| 1/1 [00:00<00:00, 24966.10it/s]\n",
      "Retrieving MaterialsDoc documents: 0it [00:00, ?it/s]\n"
     ]
    },
    {
     "name": "stdout",
     "output_type": "stream",
     "text": [
      "Error occurred for material ID mp-776803: 'list' object has no attribute 'to'\n"
     ]
    },
    {
     "name": "stderr",
     "output_type": "stream",
     "text": [
      "Retrieving MaterialsDoc documents: 100%|███████| 1/1 [00:00<00:00, 27776.85it/s]\n",
      "Retrieving MaterialsDoc documents: 100%|███████| 1/1 [00:00<00:00, 29330.80it/s]\n",
      "Retrieving MaterialsDoc documents: 100%|███████| 1/1 [00:00<00:00, 20460.02it/s]\n",
      "Retrieving MaterialsDoc documents: 100%|███████| 1/1 [00:00<00:00, 28532.68it/s]\n",
      "Retrieving MaterialsDoc documents: 100%|███████| 1/1 [00:00<00:00, 23831.27it/s]\n",
      "Retrieving MaterialsDoc documents: 100%|███████| 1/1 [00:00<00:00, 27776.85it/s]\n",
      "Retrieving MaterialsDoc documents: 100%|███████| 1/1 [00:00<00:00, 28532.68it/s]\n",
      "Retrieving MaterialsDoc documents: 100%|███████| 1/1 [00:00<00:00, 27060.03it/s]\n",
      "Retrieving MaterialsDoc documents: 100%|███████| 1/1 [00:00<00:00, 30174.85it/s]\n",
      "Retrieving MaterialsDoc documents: 100%|███████| 1/1 [00:00<00:00, 28532.68it/s]\n",
      "Retrieving MaterialsDoc documents: 100%|███████| 1/1 [00:00<00:00, 28532.68it/s]\n",
      "Retrieving MaterialsDoc documents: 100%|███████| 1/1 [00:00<00:00, 31300.78it/s]\n",
      "Retrieving MaterialsDoc documents: 100%|███████| 1/1 [00:00<00:00, 29537.35it/s]\n",
      "Retrieving MaterialsDoc documents: 100%|███████| 1/1 [00:00<00:00, 29537.35it/s]\n",
      "Retrieving MaterialsDoc documents: 100%|███████| 1/1 [00:00<00:00, 26886.56it/s]\n",
      "Retrieving MaterialsDoc documents: 100%|███████| 1/1 [00:00<00:00, 28532.68it/s]\n",
      "Retrieving MaterialsDoc documents: 100%|███████| 1/1 [00:00<00:00, 25420.02it/s]\n",
      "Retrieving MaterialsDoc documents: 100%|███████| 1/1 [00:00<00:00, 27060.03it/s]\n",
      "Retrieving MaterialsDoc documents: 100%|███████| 1/1 [00:00<00:00, 29537.35it/s]\n",
      "Retrieving MaterialsDoc documents: 0it [00:00, ?it/s]\n"
     ]
    },
    {
     "name": "stdout",
     "output_type": "stream",
     "text": [
      "Error occurred for material ID mp-690110: 'list' object has no attribute 'to'\n"
     ]
    },
    {
     "name": "stderr",
     "output_type": "stream",
     "text": [
      "Retrieving MaterialsDoc documents: 100%|███████| 1/1 [00:00<00:00, 29537.35it/s]\n",
      "Retrieving MaterialsDoc documents: 100%|███████| 1/1 [00:00<00:00, 29330.80it/s]\n",
      "Retrieving MaterialsDoc documents: 100%|███████| 1/1 [00:00<00:00, 27776.85it/s]\n",
      "Retrieving MaterialsDoc documents: 100%|███████| 1/1 [00:00<00:00, 29537.35it/s]\n",
      "Retrieving MaterialsDoc documents: 100%|███████| 1/1 [00:00<00:00, 28728.11it/s]\n",
      "Retrieving MaterialsDoc documents: 100%|███████| 1/1 [00:00<00:00, 30393.51it/s]\n",
      "Retrieving MaterialsDoc documents: 100%|███████| 1/1 [00:00<00:00, 30393.51it/s]\n",
      "Retrieving MaterialsDoc documents: 0it [00:00, ?it/s]\n"
     ]
    },
    {
     "name": "stdout",
     "output_type": "stream",
     "text": [
      "Error occurred for material ID mp-775236: 'list' object has no attribute 'to'\n"
     ]
    },
    {
     "name": "stderr",
     "output_type": "stream",
     "text": [
      "Retrieving MaterialsDoc documents: 100%|███████| 1/1 [00:00<00:00, 29537.35it/s]\n",
      "Retrieving MaterialsDoc documents: 100%|███████| 1/1 [00:00<00:00, 29537.35it/s]\n",
      "Retrieving MaterialsDoc documents: 100%|███████| 1/1 [00:00<00:00, 28728.11it/s]\n",
      "Retrieving MaterialsDoc documents: 100%|███████| 1/1 [00:00<00:00, 30393.51it/s]\n",
      "Retrieving MaterialsDoc documents: 100%|███████| 1/1 [00:00<00:00, 26379.27it/s]\n",
      "Retrieving MaterialsDoc documents: 100%|███████| 1/1 [00:00<00:00, 28532.68it/s]\n",
      "Retrieving MaterialsDoc documents: 100%|███████| 1/1 [00:00<00:00, 29330.80it/s]\n",
      "Retrieving MaterialsDoc documents: 100%|███████| 1/1 [00:00<00:00, 27776.85it/s]\n",
      "Retrieving MaterialsDoc documents: 100%|███████| 1/1 [00:00<00:00, 29537.35it/s]\n",
      "Retrieving MaterialsDoc documents: 100%|███████| 1/1 [00:00<00:00, 27962.03it/s]\n",
      "Retrieving MaterialsDoc documents: 100%|███████| 1/1 [00:00<00:00, 27776.85it/s]\n",
      "Retrieving MaterialsDoc documents: 100%|███████| 1/1 [00:00<00:00, 29330.80it/s]\n",
      "Retrieving MaterialsDoc documents: 100%|███████| 1/1 [00:00<00:00, 31300.78it/s]\n",
      "Retrieving MaterialsDoc documents: 100%|███████| 1/1 [00:00<00:00, 27060.03it/s]\n",
      "Retrieving MaterialsDoc documents: 100%|███████| 1/1 [00:00<00:00, 19239.93it/s]\n",
      "Retrieving MaterialsDoc documents: 100%|███████| 1/1 [00:00<00:00, 29330.80it/s]\n",
      "Retrieving MaterialsDoc documents: 100%|███████| 1/1 [00:00<00:00, 27060.03it/s]\n",
      "Retrieving MaterialsDoc documents: 100%|███████| 1/1 [00:00<00:00, 27962.03it/s]\n",
      "Retrieving MaterialsDoc documents: 100%|███████| 1/1 [00:00<00:00, 29746.84it/s]\n",
      "Retrieving MaterialsDoc documents: 100%|███████| 1/1 [00:00<00:00, 24528.09it/s]\n",
      "Retrieving MaterialsDoc documents: 0it [00:00, ?it/s]\n"
     ]
    },
    {
     "name": "stdout",
     "output_type": "stream",
     "text": [
      "Error occurred for material ID mp-770398: 'list' object has no attribute 'to'\n"
     ]
    },
    {
     "name": "stderr",
     "output_type": "stream",
     "text": [
      "Retrieving MaterialsDoc documents: 100%|███████| 1/1 [00:00<00:00, 25731.93it/s]\n",
      "Retrieving MaterialsDoc documents: 100%|███████| 1/1 [00:00<00:00, 27776.85it/s]\n",
      "Retrieving MaterialsDoc documents: 100%|███████| 1/1 [00:00<00:00, 28532.68it/s]\n",
      "Retrieving MaterialsDoc documents: 100%|███████| 1/1 [00:00<00:00, 27776.85it/s]\n",
      "Retrieving MaterialsDoc documents: 100%|███████| 1/1 [00:00<00:00, 29330.80it/s]\n",
      "Retrieving MaterialsDoc documents: 100%|███████| 1/1 [00:00<00:00, 30174.85it/s]\n",
      "Retrieving MaterialsDoc documents: 100%|███████| 1/1 [00:00<00:00, 28532.68it/s]\n",
      "Retrieving MaterialsDoc documents: 100%|███████| 1/1 [00:00<00:00, 27594.11it/s]\n",
      "Retrieving MaterialsDoc documents: 100%|███████| 1/1 [00:00<00:00, 28339.89it/s]\n",
      "Retrieving MaterialsDoc documents: 100%|███████| 1/1 [00:00<00:00, 31068.92it/s]\n",
      "Retrieving MaterialsDoc documents: 100%|███████| 1/1 [00:00<00:00, 29746.84it/s]\n",
      "Retrieving MaterialsDoc documents: 100%|███████| 1/1 [00:00<00:00, 31300.78it/s]\n",
      "Retrieving MaterialsDoc documents: 100%|███████| 1/1 [00:00<00:00, 15592.21it/s]\n",
      "Retrieving MaterialsDoc documents: 100%|███████| 1/1 [00:00<00:00, 23831.27it/s]\n",
      "Retrieving MaterialsDoc documents: 100%|███████| 1/1 [00:00<00:00, 28728.11it/s]\n",
      "Retrieving MaterialsDoc documents: 100%|███████| 1/1 [00:00<00:00, 20262.34it/s]\n",
      "Retrieving MaterialsDoc documents: 100%|███████| 1/1 [00:00<00:00, 28532.68it/s]\n",
      "Retrieving MaterialsDoc documents: 100%|███████| 1/1 [00:00<00:00, 29330.80it/s]\n",
      "Retrieving MaterialsDoc documents: 100%|███████| 1/1 [00:00<00:00, 27962.03it/s]\n",
      "Retrieving MaterialsDoc documents: 100%|███████| 1/1 [00:00<00:00, 28728.11it/s]\n",
      "Retrieving MaterialsDoc documents: 100%|███████| 1/1 [00:00<00:00, 28532.68it/s]\n",
      "Retrieving MaterialsDoc documents: 0it [00:00, ?it/s]\n"
     ]
    },
    {
     "name": "stdout",
     "output_type": "stream",
     "text": [
      "Error occurred for material ID mp-765183: 'list' object has no attribute 'to'\n"
     ]
    },
    {
     "name": "stderr",
     "output_type": "stream",
     "text": [
      "Retrieving MaterialsDoc documents: 100%|███████| 1/1 [00:00<00:00, 30393.51it/s]\n",
      "Retrieving MaterialsDoc documents: 100%|███████| 1/1 [00:00<00:00, 28532.68it/s]\n",
      "Retrieving MaterialsDoc documents: 100%|███████| 1/1 [00:00<00:00, 29330.80it/s]\n",
      "Retrieving MaterialsDoc documents: 100%|███████| 1/1 [00:00<00:00, 28532.68it/s]\n",
      "Retrieving MaterialsDoc documents: 100%|███████| 1/1 [00:00<00:00, 27776.85it/s]\n",
      "Retrieving MaterialsDoc documents: 100%|███████| 1/1 [00:00<00:00, 26546.23it/s]\n",
      "Retrieving MaterialsDoc documents: 100%|███████| 1/1 [00:00<00:00, 29330.80it/s]\n",
      "Retrieving MaterialsDoc documents: 100%|███████| 1/1 [00:00<00:00, 29330.80it/s]\n",
      "Retrieving MaterialsDoc documents: 100%|███████| 1/1 [00:00<00:00, 29330.80it/s]\n",
      "Retrieving MaterialsDoc documents: 100%|███████| 1/1 [00:00<00:00, 28339.89it/s]\n",
      "Retrieving MaterialsDoc documents: 0it [00:00, ?it/s]\n"
     ]
    },
    {
     "name": "stdout",
     "output_type": "stream",
     "text": [
      "Error occurred for material ID mp-714961: 'list' object has no attribute 'to'\n"
     ]
    },
    {
     "name": "stderr",
     "output_type": "stream",
     "text": [
      "Retrieving MaterialsDoc documents: 100%|███████| 1/1 [00:00<00:00, 28728.11it/s]\n",
      "Retrieving MaterialsDoc documents: 100%|███████| 1/1 [00:00<00:00, 26379.27it/s]\n",
      "Retrieving MaterialsDoc documents: 100%|███████| 1/1 [00:00<00:00, 32263.88it/s]\n",
      "Retrieving MaterialsDoc documents: 100%|███████| 1/1 [00:00<00:00, 28532.68it/s]\n",
      "Retrieving MaterialsDoc documents: 100%|███████| 1/1 [00:00<00:00, 28339.89it/s]\n",
      "Retrieving MaterialsDoc documents: 100%|███████| 1/1 [00:00<00:00, 29537.35it/s]\n",
      "Retrieving MaterialsDoc documents: 100%|███████| 1/1 [00:00<00:00, 26886.56it/s]\n",
      "Retrieving MaterialsDoc documents: 100%|███████| 1/1 [00:00<00:00, 29330.80it/s]\n",
      "Retrieving MaterialsDoc documents: 100%|███████| 1/1 [00:00<00:00, 28532.68it/s]\n",
      "Retrieving MaterialsDoc documents: 100%|███████| 1/1 [00:00<00:00, 27962.03it/s]\n",
      "Retrieving MaterialsDoc documents: 100%|███████| 1/1 [00:00<00:00, 30174.85it/s]\n",
      "Retrieving MaterialsDoc documents: 100%|███████| 1/1 [00:00<00:00, 29330.80it/s]\n",
      "Retrieving MaterialsDoc documents: 0it [00:00, ?it/s]\n"
     ]
    },
    {
     "name": "stdout",
     "output_type": "stream",
     "text": [
      "Error occurred for material ID mp-19575: 'list' object has no attribute 'to'\n"
     ]
    },
    {
     "name": "stderr",
     "output_type": "stream",
     "text": [
      "Retrieving MaterialsDoc documents: 100%|███████| 1/1 [00:00<00:00, 27235.74it/s]\n",
      "Retrieving MaterialsDoc documents: 100%|███████| 1/1 [00:00<00:00, 28532.68it/s]\n",
      "Retrieving MaterialsDoc documents: 100%|███████| 1/1 [00:00<00:00, 30393.51it/s]\n",
      "Retrieving MaterialsDoc documents: 100%|███████| 1/1 [00:00<00:00, 29330.80it/s]\n",
      "Retrieving MaterialsDoc documents: 100%|███████| 1/1 [00:00<00:00, 28339.89it/s]\n",
      "Retrieving MaterialsDoc documents: 100%|███████| 1/1 [00:00<00:00, 28532.68it/s]\n",
      "Retrieving MaterialsDoc documents: 100%|███████| 1/1 [00:00<00:00, 30174.85it/s]\n",
      "Retrieving MaterialsDoc documents: 100%|███████| 1/1 [00:00<00:00, 28339.89it/s]\n",
      "Retrieving MaterialsDoc documents: 100%|███████| 1/1 [00:00<00:00, 28532.68it/s]\n",
      "Retrieving MaterialsDoc documents: 100%|███████| 1/1 [00:00<00:00, 28728.11it/s]\n",
      "Retrieving MaterialsDoc documents: 100%|███████| 1/1 [00:00<00:00, 28728.11it/s]\n",
      "Retrieving MaterialsDoc documents: 100%|███████| 1/1 [00:00<00:00, 28728.11it/s]\n",
      "Retrieving MaterialsDoc documents: 100%|███████| 1/1 [00:00<00:00, 26886.56it/s]\n",
      "Retrieving MaterialsDoc documents: 100%|███████| 1/1 [00:00<00:00, 27594.11it/s]\n",
      "Retrieving MaterialsDoc documents: 100%|███████| 1/1 [00:00<00:00, 27776.85it/s]\n",
      "Retrieving MaterialsDoc documents: 100%|███████| 1/1 [00:00<00:00, 28532.68it/s]\n",
      "Retrieving MaterialsDoc documents: 100%|███████| 1/1 [00:00<00:00, 20460.02it/s]\n",
      "Retrieving MaterialsDoc documents: 100%|███████| 1/1 [00:00<00:00, 29746.84it/s]\n",
      "Retrieving MaterialsDoc documents: 100%|███████| 1/1 [00:00<00:00, 26379.27it/s]\n",
      "Retrieving MaterialsDoc documents: 100%|███████| 1/1 [00:00<00:00, 30393.51it/s]\n",
      "Retrieving MaterialsDoc documents: 100%|███████| 1/1 [00:00<00:00, 29537.35it/s]\n",
      "Retrieving MaterialsDoc documents: 100%|███████| 1/1 [00:00<00:00, 28532.68it/s]\n",
      "Retrieving MaterialsDoc documents: 100%|███████| 1/1 [00:00<00:00, 27962.03it/s]\n",
      "Retrieving MaterialsDoc documents: 100%|███████| 1/1 [00:00<00:00, 29330.80it/s]\n",
      "Retrieving MaterialsDoc documents: 100%|███████| 1/1 [00:00<00:00, 25575.02it/s]\n",
      "Retrieving MaterialsDoc documents: 100%|███████| 1/1 [00:00<00:00, 27776.85it/s]\n",
      "Retrieving MaterialsDoc documents: 100%|███████| 1/1 [00:00<00:00, 32263.88it/s]\n",
      "Retrieving MaterialsDoc documents: 100%|███████| 1/1 [00:00<00:00, 27594.11it/s]\n",
      "Retrieving MaterialsDoc documents: 100%|███████| 1/1 [00:00<00:00, 27776.85it/s]\n",
      "Retrieving MaterialsDoc documents: 100%|███████| 1/1 [00:00<00:00, 27962.03it/s]\n",
      "Retrieving MaterialsDoc documents: 100%|███████| 1/1 [00:00<00:00, 29330.80it/s]\n",
      "Retrieving MaterialsDoc documents: 100%|███████| 1/1 [00:00<00:00, 27060.03it/s]\n",
      "Retrieving MaterialsDoc documents: 100%|███████| 1/1 [00:00<00:00, 28532.68it/s]\n",
      "Retrieving MaterialsDoc documents: 100%|███████| 1/1 [00:00<00:00, 27060.03it/s]\n",
      "Retrieving MaterialsDoc documents: 100%|███████| 1/1 [00:00<00:00, 27776.85it/s]\n",
      "Retrieving MaterialsDoc documents: 100%|███████| 1/1 [00:00<00:00, 24385.49it/s]\n",
      "Retrieving MaterialsDoc documents: 100%|███████| 1/1 [00:00<00:00, 28532.68it/s]\n",
      "Retrieving MaterialsDoc documents: 100%|███████| 1/1 [00:00<00:00, 25731.93it/s]\n",
      "Retrieving MaterialsDoc documents: 100%|███████| 1/1 [00:00<00:00, 28532.68it/s]\n",
      "Retrieving MaterialsDoc documents: 100%|███████| 1/1 [00:00<00:00, 26886.56it/s]\n",
      "Retrieving MaterialsDoc documents: 100%|███████| 1/1 [00:00<00:00, 25731.93it/s]\n",
      "Retrieving MaterialsDoc documents: 100%|███████| 1/1 [00:00<00:00, 26214.40it/s]\n",
      "Retrieving MaterialsDoc documents: 100%|███████| 1/1 [00:00<00:00, 28532.68it/s]\n",
      "Retrieving MaterialsDoc documents: 100%|███████| 1/1 [00:00<00:00, 29330.80it/s]\n",
      "Retrieving MaterialsDoc documents: 100%|███████| 1/1 [00:00<00:00, 29330.80it/s]\n",
      "Retrieving MaterialsDoc documents: 100%|███████| 1/1 [00:00<00:00, 32263.88it/s]\n",
      "Retrieving MaterialsDoc documents: 100%|███████| 1/1 [00:00<00:00, 26214.40it/s]\n",
      "Retrieving MaterialsDoc documents: 100%|███████| 1/1 [00:00<00:00, 27060.03it/s]\n",
      "Retrieving MaterialsDoc documents: 100%|███████| 1/1 [00:00<00:00, 29330.80it/s]\n",
      "Retrieving MaterialsDoc documents: 100%|███████| 1/1 [00:00<00:00, 28532.68it/s]\n",
      "Retrieving MaterialsDoc documents: 100%|███████| 1/1 [00:00<00:00, 25731.93it/s]\n",
      "Retrieving MaterialsDoc documents: 100%|███████| 1/1 [00:00<00:00, 27060.03it/s]\n",
      "Retrieving MaterialsDoc documents: 100%|███████| 1/1 [00:00<00:00, 25575.02it/s]\n",
      "Retrieving MaterialsDoc documents: 100%|███████| 1/1 [00:00<00:00, 29537.35it/s]\n",
      "Retrieving MaterialsDoc documents: 100%|███████| 1/1 [00:00<00:00, 26379.27it/s]\n",
      "Retrieving MaterialsDoc documents: 100%|███████| 1/1 [00:00<00:00, 30174.85it/s]\n",
      "Retrieving MaterialsDoc documents: 100%|███████| 1/1 [00:00<00:00, 28532.68it/s]\n",
      "Retrieving MaterialsDoc documents: 100%|███████| 1/1 [00:00<00:00, 28532.68it/s]\n",
      "Retrieving MaterialsDoc documents: 100%|███████| 1/1 [00:00<00:00, 29330.80it/s]\n",
      "Retrieving MaterialsDoc documents: 100%|███████| 1/1 [00:00<00:00, 20360.70it/s]\n",
      "Retrieving MaterialsDoc documents: 100%|███████| 1/1 [00:00<00:00, 27235.74it/s]\n",
      "Retrieving MaterialsDoc documents: 100%|███████| 1/1 [00:00<00:00, 27594.11it/s]\n",
      "Retrieving MaterialsDoc documents: 100%|███████| 1/1 [00:00<00:00, 23172.95it/s]\n",
      "Retrieving MaterialsDoc documents: 100%|███████| 1/1 [00:00<00:00, 30393.51it/s]\n",
      "Retrieving MaterialsDoc documents: 100%|███████| 1/1 [00:00<00:00, 29330.80it/s]\n",
      "Retrieving MaterialsDoc documents: 100%|███████| 1/1 [00:00<00:00, 29537.35it/s]\n",
      "Retrieving MaterialsDoc documents: 100%|███████| 1/1 [00:00<00:00, 27235.74it/s]\n",
      "Retrieving MaterialsDoc documents: 100%|███████| 1/1 [00:00<00:00, 27776.85it/s]\n",
      "Retrieving MaterialsDoc documents: 100%|███████| 1/1 [00:00<00:00, 30393.51it/s]\n",
      "Retrieving MaterialsDoc documents: 100%|███████| 1/1 [00:00<00:00, 26214.40it/s]\n",
      "Retrieving MaterialsDoc documents: 100%|███████| 1/1 [00:00<00:00, 29330.80it/s]\n",
      "Retrieving MaterialsDoc documents: 0it [00:00, ?it/s]\n"
     ]
    },
    {
     "name": "stdout",
     "output_type": "stream",
     "text": [
      "Error occurred for material ID mp-778746: 'list' object has no attribute 'to'\n"
     ]
    },
    {
     "name": "stderr",
     "output_type": "stream",
     "text": [
      "Retrieving MaterialsDoc documents: 100%|███████| 1/1 [00:00<00:00, 28728.11it/s]\n",
      "Retrieving MaterialsDoc documents: 100%|███████| 1/1 [00:00<00:00, 29330.80it/s]\n",
      "Retrieving MaterialsDoc documents: 100%|███████| 1/1 [00:00<00:00, 24528.09it/s]\n",
      "Retrieving MaterialsDoc documents: 0it [00:00, ?it/s]\n"
     ]
    },
    {
     "name": "stdout",
     "output_type": "stream",
     "text": [
      "Error occurred for material ID mp-782681: 'list' object has no attribute 'to'\n"
     ]
    },
    {
     "name": "stderr",
     "output_type": "stream",
     "text": [
      "Retrieving MaterialsDoc documents: 100%|███████| 1/1 [00:00<00:00, 19239.93it/s]\n",
      "Retrieving MaterialsDoc documents: 100%|███████| 1/1 [00:00<00:00, 26214.40it/s]\n",
      "Retrieving MaterialsDoc documents: 100%|███████| 1/1 [00:00<00:00, 26379.27it/s]\n",
      "Retrieving MaterialsDoc documents: 100%|███████| 1/1 [00:00<00:00, 29330.80it/s]\n",
      "Retrieving MaterialsDoc documents: 100%|███████| 1/1 [00:00<00:00, 26214.40it/s]\n",
      "Retrieving MaterialsDoc documents: 100%|███████| 1/1 [00:00<00:00, 26379.27it/s]\n",
      "Retrieving MaterialsDoc documents: 100%|███████| 1/1 [00:00<00:00, 27962.03it/s]\n",
      "Retrieving MaterialsDoc documents: 100%|███████| 1/1 [00:00<00:00, 27962.03it/s]\n",
      "Retrieving MaterialsDoc documents: 100%|███████| 1/1 [00:00<00:00, 27776.85it/s]\n",
      "Retrieving MaterialsDoc documents: 100%|███████| 1/1 [00:00<00:00, 28532.68it/s]\n",
      "Retrieving MaterialsDoc documents: 100%|███████| 1/1 [00:00<00:00, 27962.03it/s]\n",
      "Retrieving MaterialsDoc documents: 100%|███████| 1/1 [00:00<00:00, 28532.68it/s]\n",
      "Retrieving MaterialsDoc documents: 100%|███████| 1/1 [00:00<00:00, 29330.80it/s]\n",
      "Retrieving MaterialsDoc documents: 100%|███████| 1/1 [00:00<00:00, 26379.27it/s]\n",
      "Retrieving MaterialsDoc documents: 100%|███████| 1/1 [00:00<00:00, 27776.85it/s]\n",
      "Retrieving MaterialsDoc documents: 100%|███████| 1/1 [00:00<00:00, 27776.85it/s]\n",
      "Retrieving MaterialsDoc documents: 100%|███████| 1/1 [00:00<00:00, 27235.74it/s]\n",
      "Retrieving MaterialsDoc documents: 100%|███████| 1/1 [00:00<00:00, 28532.68it/s]\n",
      "Retrieving MaterialsDoc documents: 100%|███████| 1/1 [00:00<00:00, 27594.11it/s]\n",
      "Retrieving MaterialsDoc documents: 100%|███████| 1/1 [00:00<00:00, 28532.68it/s]\n",
      "Retrieving MaterialsDoc documents: 100%|███████| 1/1 [00:00<00:00, 30393.51it/s]\n",
      "Retrieving MaterialsDoc documents: 100%|███████| 1/1 [00:00<00:00, 29330.80it/s]\n",
      "Retrieving MaterialsDoc documents: 100%|███████| 1/1 [00:00<00:00, 29330.80it/s]\n",
      "Retrieving MaterialsDoc documents: 100%|███████| 1/1 [00:00<00:00, 27776.85it/s]\n",
      "Retrieving MaterialsDoc documents: 100%|███████| 1/1 [00:00<00:00, 26214.40it/s]\n",
      "Retrieving MaterialsDoc documents: 100%|███████| 1/1 [00:00<00:00, 28532.68it/s]\n",
      "Retrieving MaterialsDoc documents: 100%|███████| 1/1 [00:00<00:00, 26886.56it/s]\n",
      "Retrieving MaterialsDoc documents: 100%|███████| 1/1 [00:00<00:00, 30174.85it/s]\n",
      "Retrieving MaterialsDoc documents: 100%|███████| 1/1 [00:00<00:00, 30393.51it/s]\n",
      "Retrieving MaterialsDoc documents: 100%|███████| 1/1 [00:00<00:00, 27060.03it/s]\n",
      "Retrieving MaterialsDoc documents: 100%|███████| 1/1 [00:00<00:00, 27776.85it/s]\n",
      "Retrieving MaterialsDoc documents: 100%|███████| 1/1 [00:00<00:00, 29537.35it/s]\n",
      "Retrieving MaterialsDoc documents: 100%|███████| 1/1 [00:00<00:00, 28532.68it/s]\n",
      "Retrieving MaterialsDoc documents: 100%|███████| 1/1 [00:00<00:00, 28339.89it/s]\n",
      "Retrieving MaterialsDoc documents: 100%|███████| 1/1 [00:00<00:00, 28728.11it/s]\n",
      "Retrieving MaterialsDoc documents: 100%|███████| 1/1 [00:00<00:00, 17189.77it/s]\n",
      "Retrieving MaterialsDoc documents: 100%|███████| 1/1 [00:00<00:00, 23831.27it/s]\n",
      "Retrieving MaterialsDoc documents: 100%|███████| 1/1 [00:00<00:00, 28532.68it/s]\n",
      "Retrieving MaterialsDoc documents: 100%|███████| 1/1 [00:00<00:00, 28339.89it/s]\n",
      "Retrieving MaterialsDoc documents: 100%|███████| 1/1 [00:00<00:00, 28532.68it/s]\n",
      "Retrieving MaterialsDoc documents: 100%|███████| 1/1 [00:00<00:00, 25575.02it/s]\n",
      "Retrieving MaterialsDoc documents: 100%|███████| 1/1 [00:00<00:00, 29330.80it/s]\n",
      "Retrieving MaterialsDoc documents: 100%|███████| 1/1 [00:00<00:00, 24966.10it/s]\n",
      "Retrieving MaterialsDoc documents: 100%|███████| 1/1 [00:00<00:00, 27060.03it/s]\n",
      "Retrieving MaterialsDoc documents: 100%|███████| 1/1 [00:00<00:00, 28339.89it/s]\n",
      "Retrieving MaterialsDoc documents: 100%|███████| 1/1 [00:00<00:00, 27776.85it/s]\n",
      "Retrieving MaterialsDoc documents: 100%|███████| 1/1 [00:00<00:00, 28532.68it/s]\n",
      "Retrieving MaterialsDoc documents: 100%|███████| 1/1 [00:00<00:00, 30174.85it/s]\n",
      "Retrieving MaterialsDoc documents: 100%|███████| 1/1 [00:00<00:00, 30174.85it/s]\n",
      "Retrieving MaterialsDoc documents: 100%|███████| 1/1 [00:00<00:00, 28532.68it/s]\n",
      "Retrieving MaterialsDoc documents: 100%|███████| 1/1 [00:00<00:00, 27962.03it/s]\n",
      "Retrieving MaterialsDoc documents: 100%|███████| 1/1 [00:00<00:00, 27060.03it/s]\n",
      "Retrieving MaterialsDoc documents: 100%|███████| 1/1 [00:00<00:00, 28532.68it/s]\n",
      "Retrieving MaterialsDoc documents: 100%|███████| 1/1 [00:00<00:00, 29330.80it/s]\n",
      "Retrieving MaterialsDoc documents: 100%|███████| 1/1 [00:00<00:00, 27776.85it/s]\n",
      "Retrieving MaterialsDoc documents: 100%|███████| 1/1 [00:00<00:00, 27776.85it/s]\n",
      "Retrieving MaterialsDoc documents: 100%|███████| 1/1 [00:00<00:00, 29537.35it/s]\n",
      "Retrieving MaterialsDoc documents: 100%|███████| 1/1 [00:00<00:00, 16384.00it/s]\n",
      "Retrieving MaterialsDoc documents: 100%|███████| 1/1 [00:00<00:00, 28532.68it/s]\n",
      "Retrieving MaterialsDoc documents: 0it [00:00, ?it/s]\n"
     ]
    },
    {
     "name": "stdout",
     "output_type": "stream",
     "text": [
      "Error occurred for material ID mp-777555: 'list' object has no attribute 'to'\n"
     ]
    },
    {
     "name": "stderr",
     "output_type": "stream",
     "text": [
      "Retrieving MaterialsDoc documents: 100%|███████| 1/1 [00:00<00:00, 25115.59it/s]\n",
      "Retrieving MaterialsDoc documents: 100%|███████| 1/1 [00:00<00:00, 26886.56it/s]\n",
      "Retrieving MaterialsDoc documents: 100%|███████| 1/1 [00:00<00:00, 28728.11it/s]\n",
      "Retrieving MaterialsDoc documents: 100%|███████| 1/1 [00:00<00:00, 29537.35it/s]\n",
      "Retrieving MaterialsDoc documents: 100%|███████| 1/1 [00:00<00:00, 27235.74it/s]\n",
      "Retrieving MaterialsDoc documents: 100%|███████| 1/1 [00:00<00:00, 27060.03it/s]\n",
      "Retrieving MaterialsDoc documents: 100%|███████| 1/1 [00:00<00:00, 28532.68it/s]\n",
      "Retrieving MaterialsDoc documents: 100%|███████| 1/1 [00:00<00:00, 31300.78it/s]\n",
      "Retrieving MaterialsDoc documents: 100%|███████| 1/1 [00:00<00:00, 27776.85it/s]\n",
      "Retrieving MaterialsDoc documents: 100%|███████| 1/1 [00:00<00:00, 26379.27it/s]\n",
      "Retrieving MaterialsDoc documents: 100%|███████| 1/1 [00:00<00:00, 25420.02it/s]\n",
      "Retrieving MaterialsDoc documents: 100%|███████| 1/1 [00:00<00:00, 29537.35it/s]\n",
      "Retrieving MaterialsDoc documents: 100%|███████| 1/1 [00:00<00:00, 29537.35it/s]\n",
      "Retrieving MaterialsDoc documents: 100%|███████| 1/1 [00:00<00:00, 29330.80it/s]\n",
      "Retrieving MaterialsDoc documents: 100%|███████| 1/1 [00:00<00:00, 27594.11it/s]\n",
      "Retrieving MaterialsDoc documents: 100%|███████| 1/1 [00:00<00:00, 27962.03it/s]\n",
      "Retrieving MaterialsDoc documents: 100%|███████| 1/1 [00:00<00:00, 31068.92it/s]\n",
      "Retrieving MaterialsDoc documents: 100%|███████| 1/1 [00:00<00:00, 29330.80it/s]\n",
      "Retrieving MaterialsDoc documents: 0it [00:00, ?it/s]\n"
     ]
    },
    {
     "name": "stdout",
     "output_type": "stream",
     "text": [
      "Error occurred for material ID mp-763136: 'list' object has no attribute 'to'\n"
     ]
    },
    {
     "name": "stderr",
     "output_type": "stream",
     "text": [
      "Retrieving MaterialsDoc documents: 100%|███████| 1/1 [00:00<00:00, 25575.02it/s]\n",
      "Retrieving MaterialsDoc documents: 100%|███████| 1/1 [00:00<00:00, 29330.80it/s]\n",
      "Retrieving MaterialsDoc documents: 100%|███████| 1/1 [00:00<00:00, 24385.49it/s]\n",
      "Retrieving MaterialsDoc documents: 100%|███████| 1/1 [00:00<00:00, 30393.51it/s]\n",
      "Retrieving MaterialsDoc documents: 100%|███████| 1/1 [00:00<00:00, 28728.11it/s]\n",
      "Retrieving MaterialsDoc documents: 100%|███████| 1/1 [00:00<00:00, 29330.80it/s]\n",
      "Retrieving MaterialsDoc documents: 100%|███████| 1/1 [00:00<00:00, 29330.80it/s]\n",
      "Retrieving MaterialsDoc documents: 100%|███████| 1/1 [00:00<00:00, 27776.85it/s]\n",
      "Retrieving MaterialsDoc documents: 100%|███████| 1/1 [00:00<00:00, 28728.11it/s]\n",
      "Retrieving MaterialsDoc documents: 100%|███████| 1/1 [00:00<00:00, 24528.09it/s]\n",
      "Retrieving MaterialsDoc documents: 100%|███████| 1/1 [00:00<00:00, 29330.80it/s]\n",
      "Retrieving MaterialsDoc documents: 100%|███████| 1/1 [00:00<00:00, 29330.80it/s]\n",
      "Retrieving MaterialsDoc documents: 100%|███████| 1/1 [00:00<00:00, 29330.80it/s]\n",
      "Retrieving MaterialsDoc documents: 100%|███████| 1/1 [00:00<00:00, 26379.27it/s]\n",
      "Retrieving MaterialsDoc documents: 100%|███████| 1/1 [00:00<00:00, 28532.68it/s]\n",
      "Retrieving MaterialsDoc documents: 100%|███████| 1/1 [00:00<00:00, 26214.40it/s]\n",
      "Retrieving MaterialsDoc documents: 100%|███████| 1/1 [00:00<00:00, 29537.35it/s]\n",
      "Retrieving MaterialsDoc documents: 100%|███████| 1/1 [00:00<00:00, 27776.85it/s]\n",
      "Retrieving MaterialsDoc documents: 100%|███████| 1/1 [00:00<00:00, 28532.68it/s]\n",
      "Retrieving MaterialsDoc documents: 100%|███████| 1/1 [00:00<00:00, 27060.03it/s]\n",
      "Retrieving MaterialsDoc documents: 100%|███████| 1/1 [00:00<00:00, 26886.56it/s]\n",
      "Retrieving MaterialsDoc documents: 0it [00:00, ?it/s]\n"
     ]
    },
    {
     "name": "stdout",
     "output_type": "stream",
     "text": [
      "Error occurred for material ID mp-765967: 'list' object has no attribute 'to'\n"
     ]
    },
    {
     "name": "stderr",
     "output_type": "stream",
     "text": [
      "Retrieving MaterialsDoc documents: 100%|███████| 1/1 [00:00<00:00, 29537.35it/s]\n",
      "Retrieving MaterialsDoc documents: 100%|███████| 1/1 [00:00<00:00, 27962.03it/s]\n",
      "Retrieving MaterialsDoc documents: 100%|███████| 1/1 [00:00<00:00, 27235.74it/s]\n",
      "Retrieving MaterialsDoc documents: 100%|███████| 1/1 [00:00<00:00, 28532.68it/s]\n",
      "Retrieving MaterialsDoc documents: 100%|███████| 1/1 [00:00<00:00, 27060.03it/s]\n",
      "Retrieving MaterialsDoc documents: 100%|███████| 1/1 [00:00<00:00, 25731.93it/s]\n",
      "Retrieving MaterialsDoc documents: 100%|███████| 1/1 [00:00<00:00, 32513.98it/s]\n",
      "Retrieving MaterialsDoc documents: 100%|███████| 1/1 [00:00<00:00, 28532.68it/s]\n",
      "Retrieving MaterialsDoc documents: 100%|███████| 1/1 [00:00<00:00, 29537.35it/s]\n",
      "Retrieving MaterialsDoc documents: 100%|███████| 1/1 [00:00<00:00, 28532.68it/s]\n",
      "Retrieving MaterialsDoc documents: 100%|███████| 1/1 [00:00<00:00, 30174.85it/s]\n",
      "Retrieving MaterialsDoc documents: 100%|███████| 1/1 [00:00<00:00, 28532.68it/s]\n",
      "Retrieving MaterialsDoc documents: 100%|███████| 1/1 [00:00<00:00, 28532.68it/s]\n",
      "Retrieving MaterialsDoc documents: 100%|███████| 1/1 [00:00<00:00, 30393.51it/s]\n",
      "Retrieving MaterialsDoc documents: 100%|███████| 1/1 [00:00<00:00, 27060.03it/s]\n",
      "Retrieving MaterialsDoc documents: 100%|███████| 1/1 [00:00<00:00, 28728.11it/s]\n",
      "Retrieving MaterialsDoc documents: 100%|███████| 1/1 [00:00<00:00, 30174.85it/s]\n",
      "Retrieving MaterialsDoc documents: 100%|███████| 1/1 [00:00<00:00, 27962.03it/s]\n",
      "Retrieving MaterialsDoc documents: 100%|███████| 1/1 [00:00<00:00, 28532.68it/s]\n",
      "Retrieving MaterialsDoc documents: 100%|███████| 1/1 [00:00<00:00, 27776.85it/s]\n",
      "Retrieving MaterialsDoc documents: 100%|███████| 1/1 [00:00<00:00, 29330.80it/s]\n",
      "Retrieving MaterialsDoc documents: 100%|███████| 1/1 [00:00<00:00, 29746.84it/s]\n",
      "Retrieving MaterialsDoc documents: 100%|███████| 1/1 [00:00<00:00, 27060.03it/s]\n",
      "Retrieving MaterialsDoc documents: 100%|███████| 1/1 [00:00<00:00, 27594.11it/s]\n",
      "Retrieving MaterialsDoc documents: 100%|███████| 1/1 [00:00<00:00, 28728.11it/s]\n",
      "Retrieving MaterialsDoc documents: 100%|███████| 1/1 [00:00<00:00, 28728.11it/s]\n",
      "Retrieving MaterialsDoc documents: 100%|███████| 1/1 [00:00<00:00, 27776.85it/s]\n",
      "Retrieving MaterialsDoc documents: 100%|███████| 1/1 [00:00<00:00, 29330.80it/s]\n",
      "Retrieving MaterialsDoc documents: 100%|███████| 1/1 [00:00<00:00, 18893.26it/s]\n",
      "Retrieving MaterialsDoc documents: 100%|███████| 1/1 [00:00<00:00, 27776.85it/s]\n",
      "Retrieving MaterialsDoc documents: 100%|███████| 1/1 [00:00<00:00, 29330.80it/s]\n",
      "Retrieving MaterialsDoc documents: 0it [00:00, ?it/s]\n"
     ]
    },
    {
     "name": "stdout",
     "output_type": "stream",
     "text": [
      "Error occurred for material ID mp-778717: 'list' object has no attribute 'to'\n"
     ]
    },
    {
     "name": "stderr",
     "output_type": "stream",
     "text": [
      "Retrieving MaterialsDoc documents: 0it [00:00, ?it/s]\n"
     ]
    },
    {
     "name": "stdout",
     "output_type": "stream",
     "text": [
      "Error occurred for material ID mp-776230: 'list' object has no attribute 'to'\n"
     ]
    },
    {
     "name": "stderr",
     "output_type": "stream",
     "text": [
      "Retrieving MaterialsDoc documents: 100%|███████| 1/1 [00:00<00:00, 27776.85it/s]\n",
      "Retrieving MaterialsDoc documents: 100%|███████| 1/1 [00:00<00:00, 27776.85it/s]\n",
      "Retrieving MaterialsDoc documents: 100%|███████| 1/1 [00:00<00:00, 26886.56it/s]\n",
      "Retrieving MaterialsDoc documents: 100%|███████| 1/1 [00:00<00:00, 27060.03it/s]\n",
      "Retrieving MaterialsDoc documents: 100%|███████| 1/1 [00:00<00:00, 30174.85it/s]\n",
      "Retrieving MaterialsDoc documents: 100%|███████| 1/1 [00:00<00:00, 22192.08it/s]\n",
      "Retrieving MaterialsDoc documents: 100%|███████| 1/1 [00:00<00:00, 27776.85it/s]\n",
      "Retrieving MaterialsDoc documents: 100%|███████| 1/1 [00:00<00:00, 26886.56it/s]\n",
      "Retrieving MaterialsDoc documents: 100%|███████| 1/1 [00:00<00:00, 27060.03it/s]\n",
      "Retrieving MaterialsDoc documents: 100%|███████| 1/1 [00:00<00:00, 27776.85it/s]\n",
      "Retrieving MaterialsDoc documents: 100%|███████| 1/1 [00:00<00:00, 28532.68it/s]\n",
      "Retrieving MaterialsDoc documents: 100%|███████| 1/1 [00:00<00:00, 28532.68it/s]\n",
      "Retrieving MaterialsDoc documents: 100%|███████| 1/1 [00:00<00:00, 27060.03it/s]\n",
      "Retrieving MaterialsDoc documents: 100%|███████| 1/1 [00:00<00:00, 27776.85it/s]\n",
      "Retrieving MaterialsDoc documents: 100%|███████| 1/1 [00:00<00:00, 29330.80it/s]\n",
      "Retrieving MaterialsDoc documents: 100%|███████| 1/1 [00:00<00:00, 26214.40it/s]\n",
      "Retrieving MaterialsDoc documents: 100%|███████| 1/1 [00:00<00:00, 28728.11it/s]\n",
      "Retrieving MaterialsDoc documents: 100%|███████| 1/1 [00:00<00:00, 27776.85it/s]\n",
      "Retrieving MaterialsDoc documents: 100%|███████| 1/1 [00:00<00:00, 25420.02it/s]\n",
      "Retrieving MaterialsDoc documents: 100%|███████| 1/1 [00:00<00:00, 29330.80it/s]\n",
      "Retrieving MaterialsDoc documents: 100%|███████| 1/1 [00:00<00:00, 27060.03it/s]\n",
      "Retrieving MaterialsDoc documents: 100%|███████| 1/1 [00:00<00:00, 27776.85it/s]\n",
      "Retrieving MaterialsDoc documents: 100%|███████| 1/1 [00:00<00:00, 27594.11it/s]\n",
      "Retrieving MaterialsDoc documents: 100%|███████| 1/1 [00:00<00:00, 27060.03it/s]\n",
      "Retrieving MaterialsDoc documents: 100%|███████| 1/1 [00:00<00:00, 22671.91it/s]\n",
      "Retrieving MaterialsDoc documents: 100%|███████| 1/1 [00:00<00:00, 26886.56it/s]\n",
      "Retrieving MaterialsDoc documents: 100%|███████| 1/1 [00:00<00:00, 26379.27it/s]\n",
      "Retrieving MaterialsDoc documents: 100%|███████| 1/1 [00:00<00:00, 28728.11it/s]\n",
      "Retrieving MaterialsDoc documents: 100%|███████| 1/1 [00:00<00:00, 26886.56it/s]\n",
      "Retrieving MaterialsDoc documents: 100%|███████| 1/1 [00:00<00:00, 27962.03it/s]\n",
      "Retrieving MaterialsDoc documents: 100%|███████| 1/1 [00:00<00:00, 29537.35it/s]\n",
      "Retrieving MaterialsDoc documents: 100%|███████| 1/1 [00:00<00:00, 27962.03it/s]\n",
      "Retrieving MaterialsDoc documents: 100%|███████| 1/1 [00:00<00:00, 27060.03it/s]\n",
      "Retrieving MaterialsDoc documents: 100%|███████| 1/1 [00:00<00:00, 29330.80it/s]\n",
      "Retrieving MaterialsDoc documents: 100%|███████| 1/1 [00:00<00:00, 27594.11it/s]\n",
      "Retrieving MaterialsDoc documents: 100%|███████| 1/1 [00:00<00:00, 26886.56it/s]\n",
      "Retrieving MaterialsDoc documents: 100%|███████| 1/1 [00:00<00:00, 24385.49it/s]\n",
      "Retrieving MaterialsDoc documents: 100%|███████| 1/1 [00:00<00:00, 26379.27it/s]\n",
      "Retrieving MaterialsDoc documents: 100%|███████| 1/1 [00:00<00:00, 24528.09it/s]\n",
      "Retrieving MaterialsDoc documents: 100%|███████| 1/1 [00:00<00:00, 25115.59it/s]\n",
      "Retrieving MaterialsDoc documents: 100%|███████| 1/1 [00:00<00:00, 27594.11it/s]\n",
      "Retrieving MaterialsDoc documents: 100%|███████| 1/1 [00:00<00:00, 29330.80it/s]\n",
      "Retrieving MaterialsDoc documents: 100%|███████| 1/1 [00:00<00:00, 23301.69it/s]\n",
      "Retrieving MaterialsDoc documents: 100%|███████| 1/1 [00:00<00:00, 29537.35it/s]\n",
      "Retrieving MaterialsDoc documents: 100%|███████| 1/1 [00:00<00:00, 27776.85it/s]\n",
      "Retrieving MaterialsDoc documents: 100%|███████| 1/1 [00:00<00:00, 28728.11it/s]\n",
      "Retrieving MaterialsDoc documents: 100%|███████| 1/1 [00:00<00:00, 24966.10it/s]\n",
      "Retrieving MaterialsDoc documents: 100%|███████| 1/1 [00:00<00:00, 20763.88it/s]\n",
      "Retrieving MaterialsDoc documents: 100%|███████| 1/1 [00:00<00:00, 31068.92it/s]\n",
      "Retrieving MaterialsDoc documents: 100%|███████| 1/1 [00:00<00:00, 25115.59it/s]\n",
      "Retrieving MaterialsDoc documents: 0it [00:00, ?it/s]\n"
     ]
    },
    {
     "name": "stdout",
     "output_type": "stream",
     "text": [
      "Error occurred for material ID mp-767367: 'list' object has no attribute 'to'\n"
     ]
    },
    {
     "name": "stderr",
     "output_type": "stream",
     "text": [
      "Retrieving MaterialsDoc documents: 100%|███████| 1/1 [00:00<00:00, 27962.03it/s]\n",
      "Retrieving MaterialsDoc documents: 100%|███████| 1/1 [00:00<00:00, 28728.11it/s]\n",
      "Retrieving MaterialsDoc documents: 100%|███████| 1/1 [00:00<00:00, 29330.80it/s]\n",
      "Retrieving MaterialsDoc documents: 100%|███████| 1/1 [00:00<00:00, 25575.02it/s]\n",
      "Retrieving MaterialsDoc documents: 100%|███████| 1/1 [00:00<00:00, 25731.93it/s]\n",
      "Retrieving MaterialsDoc documents: 100%|███████| 1/1 [00:00<00:00, 28728.11it/s]\n",
      "Retrieving MaterialsDoc documents: 100%|███████| 1/1 [00:00<00:00, 28532.68it/s]\n",
      "Retrieving MaterialsDoc documents: 100%|███████| 1/1 [00:00<00:00, 29330.80it/s]\n",
      "Retrieving MaterialsDoc documents: 100%|███████| 1/1 [00:00<00:00, 29330.80it/s]\n",
      "Retrieving MaterialsDoc documents: 0it [00:00, ?it/s]\n"
     ]
    },
    {
     "name": "stdout",
     "output_type": "stream",
     "text": [
      "Error occurred for material ID mp-715324: 'list' object has no attribute 'to'\n"
     ]
    },
    {
     "name": "stderr",
     "output_type": "stream",
     "text": [
      "Retrieving MaterialsDoc documents: 100%|███████| 1/1 [00:00<00:00, 27776.85it/s]\n",
      "Retrieving MaterialsDoc documents: 100%|███████| 1/1 [00:00<00:00, 28728.11it/s]\n",
      "Retrieving MaterialsDoc documents: 100%|███████| 1/1 [00:00<00:00, 30174.85it/s]\n",
      "Retrieving MaterialsDoc documents: 0it [00:00, ?it/s]\n"
     ]
    },
    {
     "name": "stdout",
     "output_type": "stream",
     "text": [
      "Error occurred for material ID mp-771841: 'list' object has no attribute 'to'\n"
     ]
    },
    {
     "name": "stderr",
     "output_type": "stream",
     "text": [
      "Retrieving MaterialsDoc documents: 100%|███████| 1/1 [00:00<00:00, 23696.63it/s]\n",
      "Retrieving MaterialsDoc documents: 100%|███████| 1/1 [00:00<00:00, 27594.11it/s]\n",
      "Retrieving MaterialsDoc documents: 100%|███████| 1/1 [00:00<00:00, 24818.37it/s]\n",
      "Retrieving MaterialsDoc documents: 100%|███████| 1/1 [00:00<00:00, 26886.56it/s]\n",
      "Retrieving MaterialsDoc documents: 100%|███████| 1/1 [00:00<00:00, 29330.80it/s]\n",
      "Retrieving MaterialsDoc documents: 100%|███████| 1/1 [00:00<00:00, 28532.68it/s]\n",
      "Retrieving MaterialsDoc documents: 100%|███████| 1/1 [00:00<00:00, 26886.56it/s]\n",
      "Retrieving MaterialsDoc documents: 100%|███████| 1/1 [00:00<00:00, 27594.11it/s]\n",
      "Retrieving MaterialsDoc documents: 100%|███████| 1/1 [00:00<00:00, 29330.80it/s]\n",
      "Retrieving MaterialsDoc documents: 100%|███████| 1/1 [00:00<00:00, 29537.35it/s]\n",
      "Retrieving MaterialsDoc documents: 100%|███████| 1/1 [00:00<00:00, 28532.68it/s]\n",
      "Retrieving MaterialsDoc documents: 100%|███████| 1/1 [00:00<00:00, 28728.11it/s]\n",
      "Retrieving MaterialsDoc documents: 100%|███████| 1/1 [00:00<00:00, 29330.80it/s]\n",
      "Retrieving MaterialsDoc documents: 100%|███████| 1/1 [00:00<00:00, 26886.56it/s]\n",
      "Retrieving MaterialsDoc documents: 100%|███████| 1/1 [00:00<00:00, 23831.27it/s]\n",
      "Retrieving MaterialsDoc documents: 100%|███████| 1/1 [00:00<00:00, 28532.68it/s]\n",
      "Retrieving MaterialsDoc documents: 0it [00:00, ?it/s]\n"
     ]
    },
    {
     "name": "stdout",
     "output_type": "stream",
     "text": [
      "Error occurred for material ID mp-764226: 'list' object has no attribute 'to'\n"
     ]
    },
    {
     "name": "stderr",
     "output_type": "stream",
     "text": [
      "Retrieving MaterialsDoc documents: 100%|███████| 1/1 [00:00<00:00, 27776.85it/s]\n",
      "Retrieving MaterialsDoc documents: 100%|███████| 1/1 [00:00<00:00, 28728.11it/s]\n",
      "Retrieving MaterialsDoc documents: 100%|███████| 1/1 [00:00<00:00, 30393.51it/s]\n",
      "Retrieving MaterialsDoc documents: 100%|███████| 1/1 [00:00<00:00, 29537.35it/s]\n",
      "Retrieving MaterialsDoc documents: 100%|███████| 1/1 [00:00<00:00, 28532.68it/s]\n",
      "Retrieving MaterialsDoc documents: 100%|███████| 1/1 [00:00<00:00, 28532.68it/s]\n",
      "Retrieving MaterialsDoc documents: 100%|███████| 1/1 [00:00<00:00, 29746.84it/s]\n",
      "Retrieving MaterialsDoc documents: 100%|███████| 1/1 [00:00<00:00, 29330.80it/s]\n",
      "Retrieving MaterialsDoc documents: 100%|███████| 1/1 [00:00<00:00, 28728.11it/s]\n",
      "Retrieving MaterialsDoc documents: 100%|███████| 1/1 [00:00<00:00, 27962.03it/s]\n",
      "Retrieving MaterialsDoc documents: 100%|███████| 1/1 [00:00<00:00, 28728.11it/s]\n",
      "Retrieving MaterialsDoc documents: 100%|███████| 1/1 [00:00<00:00, 28532.68it/s]\n",
      "Retrieving MaterialsDoc documents: 100%|███████| 1/1 [00:00<00:00, 29330.80it/s]\n",
      "Retrieving MaterialsDoc documents: 100%|███████| 1/1 [00:00<00:00, 27962.03it/s]\n",
      "Retrieving MaterialsDoc documents: 100%|███████| 1/1 [00:00<00:00, 28728.11it/s]\n",
      "Retrieving MaterialsDoc documents: 100%|███████| 1/1 [00:00<00:00, 21845.33it/s]\n",
      "Retrieving MaterialsDoc documents: 100%|███████| 1/1 [00:00<00:00, 27235.74it/s]\n",
      "Retrieving MaterialsDoc documents: 100%|███████| 1/1 [00:00<00:00, 28728.11it/s]\n",
      "Retrieving MaterialsDoc documents: 100%|███████| 1/1 [00:00<00:00, 19239.93it/s]\n",
      "Retrieving MaterialsDoc documents: 100%|███████| 1/1 [00:00<00:00, 26886.56it/s]\n",
      "Retrieving MaterialsDoc documents: 100%|███████| 1/1 [00:00<00:00, 26214.40it/s]\n",
      "Retrieving MaterialsDoc documents: 100%|███████| 1/1 [00:00<00:00, 27060.03it/s]\n",
      "Retrieving MaterialsDoc documents: 100%|███████| 1/1 [00:00<00:00, 30174.85it/s]\n",
      "Retrieving MaterialsDoc documents: 100%|███████| 1/1 [00:00<00:00, 26214.40it/s]\n",
      "Retrieving MaterialsDoc documents: 100%|███████| 1/1 [00:00<00:00, 28532.68it/s]\n",
      "Retrieving MaterialsDoc documents: 100%|███████| 1/1 [00:00<00:00, 27776.85it/s]\n",
      "Retrieving MaterialsDoc documents: 100%|███████| 1/1 [00:00<00:00, 25575.02it/s]\n",
      "Retrieving MaterialsDoc documents: 100%|███████| 1/1 [00:00<00:00, 29330.80it/s]\n",
      "Retrieving MaterialsDoc documents: 100%|███████| 1/1 [00:00<00:00, 30393.51it/s]\n",
      "Retrieving MaterialsDoc documents: 100%|███████| 1/1 [00:00<00:00, 29330.80it/s]\n",
      "Retrieving MaterialsDoc documents: 100%|███████| 1/1 [00:00<00:00, 28532.68it/s]\n",
      "Retrieving MaterialsDoc documents: 100%|███████| 1/1 [00:00<00:00, 27060.03it/s]\n",
      "Retrieving MaterialsDoc documents: 100%|███████| 1/1 [00:00<00:00, 28532.68it/s]\n",
      "Retrieving MaterialsDoc documents: 100%|███████| 1/1 [00:00<00:00, 27594.11it/s]\n",
      "Retrieving MaterialsDoc documents: 100%|███████| 1/1 [00:00<00:00, 28532.68it/s]\n",
      "Retrieving MaterialsDoc documents: 100%|███████| 1/1 [00:00<00:00, 27776.85it/s]\n",
      "Retrieving MaterialsDoc documents: 100%|███████| 1/1 [00:00<00:00, 27060.03it/s]\n",
      "Retrieving MaterialsDoc documents: 100%|███████| 1/1 [00:00<00:00, 28532.68it/s]\n",
      "Retrieving MaterialsDoc documents: 100%|███████| 1/1 [00:00<00:00, 30174.85it/s]\n",
      "Retrieving MaterialsDoc documents: 100%|███████| 1/1 [00:00<00:00, 28532.68it/s]\n",
      "Retrieving MaterialsDoc documents: 100%|███████| 1/1 [00:00<00:00, 29330.80it/s]\n",
      "Retrieving MaterialsDoc documents: 100%|███████| 1/1 [00:00<00:00, 28728.11it/s]\n",
      "Retrieving MaterialsDoc documents: 100%|███████| 1/1 [00:00<00:00, 29330.80it/s]\n",
      "Retrieving MaterialsDoc documents: 100%|███████| 1/1 [00:00<00:00, 16912.52it/s]\n",
      "Retrieving MaterialsDoc documents: 100%|███████| 1/1 [00:00<00:00, 28532.68it/s]\n",
      "Retrieving MaterialsDoc documents: 100%|███████| 1/1 [00:00<00:00, 29330.80it/s]\n",
      "Retrieving MaterialsDoc documents: 100%|███████| 1/1 [00:00<00:00, 30393.51it/s]\n",
      "Retrieving MaterialsDoc documents: 100%|███████| 1/1 [00:00<00:00, 28532.68it/s]\n",
      "Retrieving MaterialsDoc documents: 100%|███████| 1/1 [00:00<00:00, 29330.80it/s]\n",
      "Retrieving MaterialsDoc documents: 100%|███████| 1/1 [00:00<00:00, 30174.85it/s]\n",
      "Retrieving MaterialsDoc documents: 100%|███████| 1/1 [00:00<00:00, 29537.35it/s]\n",
      "Retrieving MaterialsDoc documents: 100%|███████| 1/1 [00:00<00:00, 29330.80it/s]\n",
      "Retrieving MaterialsDoc documents: 100%|███████| 1/1 [00:00<00:00, 29330.80it/s]\n",
      "Retrieving MaterialsDoc documents: 100%|███████| 1/1 [00:00<00:00, 27594.11it/s]\n",
      "Retrieving MaterialsDoc documents: 0it [00:00, ?it/s]\n"
     ]
    },
    {
     "name": "stdout",
     "output_type": "stream",
     "text": [
      "Error occurred for material ID mp-763351: 'list' object has no attribute 'to'\n"
     ]
    },
    {
     "name": "stderr",
     "output_type": "stream",
     "text": [
      "Retrieving MaterialsDoc documents: 100%|███████| 1/1 [00:00<00:00, 28532.68it/s]\n",
      "Retrieving MaterialsDoc documents: 0it [00:00, ?it/s]\n"
     ]
    },
    {
     "name": "stdout",
     "output_type": "stream",
     "text": [
      "Error occurred for material ID mp-25094: 'list' object has no attribute 'to'\n"
     ]
    },
    {
     "name": "stderr",
     "output_type": "stream",
     "text": [
      "Retrieving MaterialsDoc documents: 100%|███████| 1/1 [00:00<00:00, 28532.68it/s]\n",
      "Retrieving MaterialsDoc documents: 100%|███████| 1/1 [00:00<00:00, 28728.11it/s]\n",
      "Retrieving MaterialsDoc documents: 100%|███████| 1/1 [00:00<00:00, 29330.80it/s]\n",
      "Retrieving MaterialsDoc documents: 100%|███████| 1/1 [00:00<00:00, 28532.68it/s]\n",
      "Retrieving MaterialsDoc documents: 100%|███████| 1/1 [00:00<00:00, 27776.85it/s]\n",
      "Retrieving MaterialsDoc documents: 100%|███████| 1/1 [00:00<00:00, 30393.51it/s]\n",
      "Retrieving MaterialsDoc documents: 100%|███████| 1/1 [00:00<00:00, 29330.80it/s]\n",
      "Retrieving MaterialsDoc documents: 100%|███████| 1/1 [00:00<00:00, 27776.85it/s]\n",
      "Retrieving MaterialsDoc documents: 100%|███████| 1/1 [00:00<00:00, 31300.78it/s]\n",
      "Retrieving MaterialsDoc documents: 100%|███████| 1/1 [00:00<00:00, 30393.51it/s]\n",
      "Retrieving MaterialsDoc documents: 100%|███████| 1/1 [00:00<00:00, 26379.27it/s]\n",
      "Retrieving MaterialsDoc documents: 100%|███████| 1/1 [00:00<00:00, 17331.83it/s]\n",
      "Retrieving MaterialsDoc documents: 100%|███████| 1/1 [00:00<00:00, 27060.03it/s]\n",
      "Retrieving MaterialsDoc documents: 100%|███████| 1/1 [00:00<00:00, 28339.89it/s]\n",
      "Retrieving MaterialsDoc documents: 100%|███████| 1/1 [00:00<00:00, 27962.03it/s]\n",
      "Retrieving MaterialsDoc documents: 100%|███████| 1/1 [00:00<00:00, 29330.80it/s]\n",
      "Retrieving MaterialsDoc documents: 100%|███████| 1/1 [00:00<00:00, 28728.11it/s]\n",
      "Retrieving MaterialsDoc documents: 100%|███████| 1/1 [00:00<00:00, 31300.78it/s]\n",
      "Retrieving MaterialsDoc documents: 100%|███████| 1/1 [00:00<00:00, 27962.03it/s]\n",
      "Retrieving MaterialsDoc documents: 100%|███████| 1/1 [00:00<00:00, 26379.27it/s]\n",
      "Retrieving MaterialsDoc documents: 100%|███████| 1/1 [00:00<00:00, 29330.80it/s]\n",
      "Retrieving MaterialsDoc documents: 100%|███████| 1/1 [00:00<00:00, 27594.11it/s]\n",
      "Retrieving MaterialsDoc documents: 100%|███████| 1/1 [00:00<00:00, 27776.85it/s]\n",
      "Retrieving MaterialsDoc documents: 100%|███████| 1/1 [00:00<00:00, 28532.68it/s]\n",
      "Retrieving MaterialsDoc documents: 100%|███████| 1/1 [00:00<00:00, 26214.40it/s]\n",
      "Retrieving MaterialsDoc documents: 100%|███████| 1/1 [00:00<00:00, 29330.80it/s]\n",
      "Retrieving MaterialsDoc documents: 100%|███████| 1/1 [00:00<00:00, 28532.68it/s]\n",
      "Retrieving MaterialsDoc documents: 100%|███████| 1/1 [00:00<00:00, 28532.68it/s]\n",
      "Retrieving MaterialsDoc documents: 100%|███████| 1/1 [00:00<00:00, 27776.85it/s]\n",
      "Retrieving MaterialsDoc documents: 100%|███████| 1/1 [00:00<00:00, 30174.85it/s]\n",
      "Retrieving MaterialsDoc documents: 100%|███████| 1/1 [00:00<00:00, 27776.85it/s]\n",
      "Retrieving MaterialsDoc documents: 0it [00:00, ?it/s]\n"
     ]
    },
    {
     "name": "stdout",
     "output_type": "stream",
     "text": [
      "Error occurred for material ID mp-715590: 'list' object has no attribute 'to'\n"
     ]
    },
    {
     "name": "stderr",
     "output_type": "stream",
     "text": [
      "Retrieving MaterialsDoc documents: 100%|███████| 1/1 [00:00<00:00, 29537.35it/s]\n",
      "Retrieving MaterialsDoc documents: 100%|███████| 1/1 [00:00<00:00, 28532.68it/s]\n",
      "Retrieving MaterialsDoc documents: 100%|███████| 1/1 [00:00<00:00, 24966.10it/s]\n",
      "Retrieving MaterialsDoc documents: 100%|███████| 1/1 [00:00<00:00, 19239.93it/s]\n",
      "Retrieving MaterialsDoc documents: 100%|███████| 1/1 [00:00<00:00, 26886.56it/s]\n",
      "Retrieving MaterialsDoc documents: 100%|███████| 1/1 [00:00<00:00, 30393.51it/s]\n",
      "Retrieving MaterialsDoc documents: 100%|███████| 1/1 [00:00<00:00, 27235.74it/s]\n",
      "Retrieving MaterialsDoc documents: 0it [00:00, ?it/s]\n"
     ]
    },
    {
     "name": "stdout",
     "output_type": "stream",
     "text": [
      "Error occurred for material ID mp-776827: 'list' object has no attribute 'to'\n"
     ]
    },
    {
     "name": "stderr",
     "output_type": "stream",
     "text": [
      "Retrieving MaterialsDoc documents: 100%|███████| 1/1 [00:00<00:00, 29330.80it/s]\n",
      "Retrieving MaterialsDoc documents: 100%|███████| 1/1 [00:00<00:00, 27594.11it/s]\n",
      "Retrieving MaterialsDoc documents: 100%|███████| 1/1 [00:00<00:00, 28532.68it/s]\n",
      "Retrieving MaterialsDoc documents: 100%|███████| 1/1 [00:00<00:00, 28532.68it/s]\n",
      "Retrieving MaterialsDoc documents: 100%|███████| 1/1 [00:00<00:00, 29330.80it/s]\n",
      "Retrieving MaterialsDoc documents: 100%|███████| 1/1 [00:00<00:00, 27776.85it/s]\n",
      "Retrieving MaterialsDoc documents: 100%|███████| 1/1 [00:00<00:00, 30393.51it/s]\n",
      "Retrieving MaterialsDoc documents: 100%|███████| 1/1 [00:00<00:00, 27776.85it/s]\n",
      "Retrieving MaterialsDoc documents: 100%|███████| 1/1 [00:00<00:00, 27776.85it/s]\n",
      "Retrieving MaterialsDoc documents: 100%|███████| 1/1 [00:00<00:00, 29746.84it/s]\n",
      "Retrieving MaterialsDoc documents: 100%|███████| 1/1 [00:00<00:00, 27594.11it/s]\n",
      "Retrieving MaterialsDoc documents: 100%|███████| 1/1 [00:00<00:00, 31300.78it/s]\n",
      "Retrieving MaterialsDoc documents: 100%|███████| 1/1 [00:00<00:00, 27594.11it/s]\n",
      "Retrieving MaterialsDoc documents: 100%|███████| 1/1 [00:00<00:00, 28532.68it/s]\n",
      "Retrieving MaterialsDoc documents: 100%|███████| 1/1 [00:00<00:00, 29330.80it/s]\n",
      "Retrieving MaterialsDoc documents: 100%|███████| 1/1 [00:00<00:00, 32263.88it/s]\n",
      "Retrieving MaterialsDoc documents: 100%|███████| 1/1 [00:00<00:00, 27776.85it/s]\n",
      "Retrieving MaterialsDoc documents: 100%|███████| 1/1 [00:00<00:00, 29537.35it/s]\n",
      "Retrieving MaterialsDoc documents: 0it [00:00, ?it/s]\n"
     ]
    },
    {
     "name": "stdout",
     "output_type": "stream",
     "text": [
      "Error occurred for material ID mp-32403: 'list' object has no attribute 'to'\n"
     ]
    },
    {
     "name": "stderr",
     "output_type": "stream",
     "text": [
      "Retrieving MaterialsDoc documents: 100%|███████| 1/1 [00:00<00:00, 18558.87it/s]\n",
      "Retrieving MaterialsDoc documents: 100%|███████| 1/1 [00:00<00:00, 25731.93it/s]\n",
      "Retrieving MaterialsDoc documents: 100%|███████| 1/1 [00:00<00:00, 27776.85it/s]\n",
      "Retrieving MaterialsDoc documents: 100%|███████| 1/1 [00:00<00:00, 26379.27it/s]\n",
      "Retrieving MaterialsDoc documents: 100%|███████| 1/1 [00:00<00:00, 27962.03it/s]\n",
      "Retrieving MaterialsDoc documents: 100%|███████| 1/1 [00:00<00:00, 28728.11it/s]\n",
      "Retrieving MaterialsDoc documents: 100%|███████| 1/1 [00:00<00:00, 29330.80it/s]\n",
      "Retrieving MaterialsDoc documents: 100%|███████| 1/1 [00:00<00:00, 26214.40it/s]\n",
      "Retrieving MaterialsDoc documents: 100%|███████| 1/1 [00:00<00:00, 21290.88it/s]\n",
      "Retrieving MaterialsDoc documents: 100%|███████| 1/1 [00:00<00:00, 30174.85it/s]\n",
      "Retrieving MaterialsDoc documents: 100%|███████| 1/1 [00:00<00:00, 28728.11it/s]\n",
      "Retrieving MaterialsDoc documents: 100%|███████| 1/1 [00:00<00:00, 28532.68it/s]\n",
      "Retrieving MaterialsDoc documents: 100%|███████| 1/1 [00:00<00:00, 27962.03it/s]\n",
      "Retrieving MaterialsDoc documents: 100%|███████| 1/1 [00:00<00:00, 28339.89it/s]\n",
      "Retrieving MaterialsDoc documents: 100%|███████| 1/1 [00:00<00:00, 30174.85it/s]\n",
      "Retrieving MaterialsDoc documents: 0it [00:00, ?it/s]\n"
     ]
    },
    {
     "name": "stdout",
     "output_type": "stream",
     "text": [
      "Error occurred for material ID mp-25730: 'list' object has no attribute 'to'\n"
     ]
    },
    {
     "name": "stderr",
     "output_type": "stream",
     "text": [
      "Retrieving MaterialsDoc documents: 100%|███████| 1/1 [00:00<00:00, 28728.11it/s]\n",
      "Retrieving MaterialsDoc documents: 100%|███████| 1/1 [00:00<00:00, 31300.78it/s]\n",
      "Retrieving MaterialsDoc documents: 100%|███████| 1/1 [00:00<00:00, 26886.56it/s]\n",
      "Retrieving MaterialsDoc documents: 100%|███████| 1/1 [00:00<00:00, 25731.93it/s]\n",
      "Retrieving MaterialsDoc documents: 100%|███████| 1/1 [00:00<00:00, 27776.85it/s]\n",
      "Retrieving MaterialsDoc documents: 100%|███████| 1/1 [00:00<00:00, 29330.80it/s]\n",
      "Retrieving MaterialsDoc documents: 100%|███████| 1/1 [00:00<00:00, 31068.92it/s]\n",
      "Retrieving MaterialsDoc documents: 100%|███████| 1/1 [00:00<00:00, 20763.88it/s]\n",
      "Retrieving MaterialsDoc documents: 100%|███████| 1/1 [00:00<00:00, 30174.85it/s]\n",
      "Retrieving MaterialsDoc documents: 0it [00:00, ?it/s]\n"
     ]
    },
    {
     "name": "stdout",
     "output_type": "stream",
     "text": [
      "Error occurred for material ID mp-767013: 'list' object has no attribute 'to'\n"
     ]
    },
    {
     "name": "stderr",
     "output_type": "stream",
     "text": [
      "Retrieving MaterialsDoc documents: 100%|███████| 1/1 [00:00<00:00, 28532.68it/s]\n",
      "Retrieving MaterialsDoc documents: 100%|███████| 1/1 [00:00<00:00, 18893.26it/s]\n",
      "Retrieving MaterialsDoc documents: 100%|███████| 1/1 [00:00<00:00, 28532.68it/s]\n",
      "Retrieving MaterialsDoc documents: 100%|███████| 1/1 [00:00<00:00, 27060.03it/s]\n",
      "Retrieving MaterialsDoc documents: 100%|███████| 1/1 [00:00<00:00, 22671.91it/s]\n",
      "Retrieving MaterialsDoc documents: 100%|███████| 1/1 [00:00<00:00, 27776.85it/s]\n",
      "Retrieving MaterialsDoc documents: 100%|███████| 1/1 [00:00<00:00, 26886.56it/s]\n",
      "Retrieving MaterialsDoc documents: 100%|███████| 1/1 [00:00<00:00, 29330.80it/s]\n",
      "Retrieving MaterialsDoc documents: 100%|███████| 1/1 [00:00<00:00, 32263.88it/s]\n",
      "Retrieving MaterialsDoc documents: 100%|███████| 1/1 [00:00<00:00, 28532.68it/s]\n",
      "Retrieving MaterialsDoc documents: 100%|███████| 1/1 [00:00<00:00, 28728.11it/s]\n",
      "Retrieving MaterialsDoc documents: 100%|███████| 1/1 [00:00<00:00, 29330.80it/s]\n",
      "Retrieving MaterialsDoc documents: 100%|███████| 1/1 [00:00<00:00, 27776.85it/s]\n",
      "Retrieving MaterialsDoc documents: 100%|███████| 1/1 [00:00<00:00, 27060.03it/s]\n",
      "Retrieving MaterialsDoc documents: 0it [00:00, ?it/s]\n"
     ]
    },
    {
     "name": "stdout",
     "output_type": "stream",
     "text": [
      "Error occurred for material ID mp-24854: 'list' object has no attribute 'to'\n"
     ]
    },
    {
     "name": "stderr",
     "output_type": "stream",
     "text": [
      "Retrieving MaterialsDoc documents: 100%|███████| 1/1 [00:00<00:00, 26546.23it/s]\n",
      "Retrieving MaterialsDoc documents: 100%|███████| 1/1 [00:00<00:00, 29330.80it/s]\n",
      "Retrieving MaterialsDoc documents: 100%|███████| 1/1 [00:00<00:00, 27962.03it/s]\n",
      "Retrieving MaterialsDoc documents: 100%|███████| 1/1 [00:00<00:00, 30393.51it/s]\n",
      "Retrieving MaterialsDoc documents: 100%|███████| 1/1 [00:00<00:00, 25575.02it/s]\n",
      "Retrieving MaterialsDoc documents: 100%|███████| 1/1 [00:00<00:00, 28728.11it/s]\n",
      "Retrieving MaterialsDoc documents: 0it [00:00, ?it/s]\n"
     ]
    },
    {
     "name": "stdout",
     "output_type": "stream",
     "text": [
      "Error occurred for material ID mp-555391: 'list' object has no attribute 'to'\n"
     ]
    },
    {
     "name": "stderr",
     "output_type": "stream",
     "text": [
      "Retrieving MaterialsDoc documents: 100%|███████| 1/1 [00:00<00:00, 24966.10it/s]\n",
      "Retrieving MaterialsDoc documents: 100%|███████| 1/1 [00:00<00:00, 25575.02it/s]\n",
      "Retrieving MaterialsDoc documents: 100%|███████| 1/1 [00:00<00:00, 28728.11it/s]\n",
      "Retrieving MaterialsDoc documents: 100%|███████| 1/1 [00:00<00:00, 28532.68it/s]\n",
      "Retrieving MaterialsDoc documents: 100%|███████| 1/1 [00:00<00:00, 27060.03it/s]\n",
      "Retrieving MaterialsDoc documents: 100%|███████| 1/1 [00:00<00:00, 29537.35it/s]\n",
      "Retrieving MaterialsDoc documents: 100%|███████| 1/1 [00:00<00:00, 27776.85it/s]\n",
      "Retrieving MaterialsDoc documents: 100%|███████| 1/1 [00:00<00:00, 29330.80it/s]\n",
      "Retrieving MaterialsDoc documents: 100%|███████| 1/1 [00:00<00:00, 25575.02it/s]\n",
      "Retrieving MaterialsDoc documents: 100%|███████| 1/1 [00:00<00:00, 26379.27it/s]\n",
      "Retrieving MaterialsDoc documents: 100%|███████| 1/1 [00:00<00:00, 14122.24it/s]\n",
      "Retrieving MaterialsDoc documents: 100%|████████| 1/1 [00:00<00:00, 1575.03it/s]\n",
      "Retrieving MaterialsDoc documents: 100%|█████████| 1/1 [00:00<00:00, 160.93it/s]\n",
      "Retrieving MaterialsDoc documents: 100%|███████| 1/1 [00:00<00:00, 27060.03it/s]\n",
      "Retrieving MaterialsDoc documents: 100%|███████| 1/1 [00:00<00:00, 25420.02it/s]\n",
      "Retrieving MaterialsDoc documents: 100%|███████| 1/1 [00:00<00:00, 28532.68it/s]\n",
      "Retrieving MaterialsDoc documents: 100%|███████| 1/1 [00:00<00:00, 27776.85it/s]\n",
      "Retrieving MaterialsDoc documents: 0it [00:00, ?it/s]\n"
     ]
    },
    {
     "name": "stdout",
     "output_type": "stream",
     "text": [
      "Error occurred for material ID mp-780811: 'list' object has no attribute 'to'\n"
     ]
    },
    {
     "name": "stderr",
     "output_type": "stream",
     "text": [
      "Retrieving MaterialsDoc documents: 0it [00:00, ?it/s]\n"
     ]
    },
    {
     "name": "stdout",
     "output_type": "stream",
     "text": [
      "Error occurred for material ID mp-773929: 'list' object has no attribute 'to'\n"
     ]
    },
    {
     "name": "stderr",
     "output_type": "stream",
     "text": [
      "Retrieving MaterialsDoc documents: 100%|███████| 1/1 [00:00<00:00, 28532.68it/s]\n",
      "Retrieving MaterialsDoc documents: 100%|███████| 1/1 [00:00<00:00, 28532.68it/s]\n",
      "Retrieving MaterialsDoc documents: 100%|███████| 1/1 [00:00<00:00, 29537.35it/s]\n",
      "Retrieving MaterialsDoc documents: 100%|███████| 1/1 [00:00<00:00, 29537.35it/s]\n",
      "Retrieving MaterialsDoc documents: 100%|███████| 1/1 [00:00<00:00, 30174.85it/s]\n",
      "Retrieving MaterialsDoc documents: 100%|███████| 1/1 [00:00<00:00, 27776.85it/s]\n",
      "Retrieving MaterialsDoc documents: 100%|███████| 1/1 [00:00<00:00, 28728.11it/s]\n",
      "Retrieving MaterialsDoc documents: 100%|███████| 1/1 [00:00<00:00, 28728.11it/s]\n",
      "Retrieving MaterialsDoc documents: 100%|███████| 1/1 [00:00<00:00, 23831.27it/s]\n",
      "Retrieving MaterialsDoc documents: 100%|███████| 1/1 [00:00<00:00, 27594.11it/s]\n",
      "Retrieving MaterialsDoc documents: 100%|███████| 1/1 [00:00<00:00, 27060.03it/s]\n",
      "Retrieving MaterialsDoc documents: 100%|███████| 1/1 [00:00<00:00, 27060.03it/s]\n",
      "Retrieving MaterialsDoc documents: 100%|███████| 1/1 [00:00<00:00, 29330.80it/s]\n",
      "Retrieving MaterialsDoc documents: 100%|███████| 1/1 [00:00<00:00, 26886.56it/s]\n",
      "Retrieving MaterialsDoc documents: 100%|███████| 1/1 [00:00<00:00, 27962.03it/s]\n",
      "Retrieving MaterialsDoc documents: 0it [00:00, ?it/s]\n"
     ]
    },
    {
     "name": "stdout",
     "output_type": "stream",
     "text": [
      "Error occurred for material ID mp-566755: 'list' object has no attribute 'to'\n"
     ]
    },
    {
     "name": "stderr",
     "output_type": "stream",
     "text": [
      "Retrieving MaterialsDoc documents: 0it [00:00, ?it/s]\n"
     ]
    },
    {
     "name": "stdout",
     "output_type": "stream",
     "text": [
      "Error occurred for material ID mp-766953: 'list' object has no attribute 'to'\n"
     ]
    },
    {
     "name": "stderr",
     "output_type": "stream",
     "text": [
      "Retrieving MaterialsDoc documents: 100%|███████| 1/1 [00:00<00:00, 27594.11it/s]\n",
      "Retrieving MaterialsDoc documents: 100%|███████| 1/1 [00:00<00:00, 27962.03it/s]\n",
      "Retrieving MaterialsDoc documents: 100%|███████| 1/1 [00:00<00:00, 28728.11it/s]\n",
      "Retrieving MaterialsDoc documents: 100%|███████| 1/1 [00:00<00:00, 29330.80it/s]\n",
      "Retrieving MaterialsDoc documents: 100%|███████| 1/1 [00:00<00:00, 28339.89it/s]\n",
      "Retrieving MaterialsDoc documents: 100%|███████| 1/1 [00:00<00:00, 29330.80it/s]\n",
      "Retrieving MaterialsDoc documents: 100%|███████| 1/1 [00:00<00:00, 26379.27it/s]\n",
      "Retrieving MaterialsDoc documents: 100%|███████| 1/1 [00:00<00:00, 30393.51it/s]\n",
      "Retrieving MaterialsDoc documents: 100%|███████| 1/1 [00:00<00:00, 30174.85it/s]\n",
      "Retrieving MaterialsDoc documents: 100%|███████| 1/1 [00:00<00:00, 30393.51it/s]\n",
      "Retrieving MaterialsDoc documents: 100%|███████| 1/1 [00:00<00:00, 27776.85it/s]\n",
      "Retrieving MaterialsDoc documents: 100%|███████| 1/1 [00:00<00:00, 27962.03it/s]\n",
      "Retrieving MaterialsDoc documents: 100%|███████| 1/1 [00:00<00:00, 29537.35it/s]\n",
      "Retrieving MaterialsDoc documents: 100%|███████| 1/1 [00:00<00:00, 25575.02it/s]\n",
      "Retrieving MaterialsDoc documents: 100%|███████| 1/1 [00:00<00:00, 31300.78it/s]\n",
      "Retrieving MaterialsDoc documents: 100%|███████| 1/1 [00:00<00:00, 28532.68it/s]\n",
      "Retrieving MaterialsDoc documents: 100%|███████| 1/1 [00:00<00:00, 30174.85it/s]\n",
      "Retrieving MaterialsDoc documents: 100%|███████| 1/1 [00:00<00:00, 28532.68it/s]\n",
      "Retrieving MaterialsDoc documents: 100%|███████| 1/1 [00:00<00:00, 26379.27it/s]\n",
      "Retrieving MaterialsDoc documents: 100%|███████| 1/1 [00:00<00:00, 27594.11it/s]\n",
      "Retrieving MaterialsDoc documents: 100%|███████| 1/1 [00:00<00:00, 26886.56it/s]\n",
      "Retrieving MaterialsDoc documents: 100%|███████| 1/1 [00:00<00:00, 28532.68it/s]\n",
      "Retrieving MaterialsDoc documents: 100%|███████| 1/1 [00:00<00:00, 29330.80it/s]\n",
      "Retrieving MaterialsDoc documents: 100%|███████| 1/1 [00:00<00:00, 30393.51it/s]\n",
      "Retrieving MaterialsDoc documents: 100%|███████| 1/1 [00:00<00:00, 28532.68it/s]\n",
      "Retrieving MaterialsDoc documents: 0it [00:00, ?it/s]\n"
     ]
    },
    {
     "name": "stdout",
     "output_type": "stream",
     "text": [
      "Error occurred for material ID mp-636289: 'list' object has no attribute 'to'\n"
     ]
    },
    {
     "name": "stderr",
     "output_type": "stream",
     "text": [
      "Retrieving MaterialsDoc documents: 100%|███████| 1/1 [00:00<00:00, 28728.11it/s]\n",
      "Retrieving MaterialsDoc documents: 100%|███████| 1/1 [00:00<00:00, 28532.68it/s]\n",
      "Retrieving MaterialsDoc documents: 100%|███████| 1/1 [00:00<00:00, 27776.85it/s]\n",
      "Retrieving MaterialsDoc documents: 100%|███████| 1/1 [00:00<00:00, 28532.68it/s]\n",
      "Retrieving MaterialsDoc documents: 100%|███████| 1/1 [00:00<00:00, 27776.85it/s]\n",
      "Retrieving MaterialsDoc documents: 100%|███████| 1/1 [00:00<00:00, 27060.03it/s]\n",
      "Retrieving MaterialsDoc documents: 100%|███████| 1/1 [00:00<00:00, 29330.80it/s]\n",
      "Retrieving MaterialsDoc documents: 100%|███████| 1/1 [00:00<00:00, 26379.27it/s]\n",
      "Retrieving MaterialsDoc documents: 100%|███████| 1/1 [00:00<00:00, 26379.27it/s]\n",
      "Retrieving MaterialsDoc documents: 100%|███████| 1/1 [00:00<00:00, 26379.27it/s]\n",
      "Retrieving MaterialsDoc documents: 100%|███████| 1/1 [00:00<00:00, 25731.93it/s]\n",
      "Retrieving MaterialsDoc documents: 100%|███████| 1/1 [00:00<00:00, 29537.35it/s]\n",
      "Retrieving MaterialsDoc documents: 100%|███████| 1/1 [00:00<00:00, 29746.84it/s]\n",
      "Retrieving MaterialsDoc documents: 100%|███████| 1/1 [00:00<00:00, 28339.89it/s]\n",
      "Retrieving MaterialsDoc documents: 100%|███████| 1/1 [00:00<00:00, 26214.40it/s]\n",
      "Retrieving MaterialsDoc documents: 100%|███████| 1/1 [00:00<00:00, 29537.35it/s]\n",
      "Retrieving MaterialsDoc documents: 100%|███████| 1/1 [00:00<00:00, 31300.78it/s]\n",
      "Retrieving MaterialsDoc documents: 100%|███████| 1/1 [00:00<00:00, 30174.85it/s]\n",
      "Retrieving MaterialsDoc documents: 100%|███████| 1/1 [00:00<00:00, 27776.85it/s]\n",
      "Retrieving MaterialsDoc documents: 100%|███████| 1/1 [00:00<00:00, 31300.78it/s]\n",
      "Retrieving MaterialsDoc documents: 100%|███████| 1/1 [00:00<00:00, 27594.11it/s]\n",
      "Retrieving MaterialsDoc documents: 100%|███████| 1/1 [00:00<00:00, 27060.03it/s]\n",
      "Retrieving MaterialsDoc documents: 100%|███████| 1/1 [00:00<00:00, 29330.80it/s]\n",
      "Retrieving MaterialsDoc documents: 100%|███████| 1/1 [00:00<00:00, 27776.85it/s]\n",
      "Retrieving MaterialsDoc documents: 100%|███████| 1/1 [00:00<00:00, 30393.51it/s]\n",
      "Retrieving MaterialsDoc documents: 0it [00:00, ?it/s]\n"
     ]
    },
    {
     "name": "stdout",
     "output_type": "stream",
     "text": [
      "Error occurred for material ID mp-765892: 'list' object has no attribute 'to'\n"
     ]
    },
    {
     "name": "stderr",
     "output_type": "stream",
     "text": [
      "Retrieving MaterialsDoc documents: 100%|███████| 1/1 [00:00<00:00, 28339.89it/s]\n",
      "Retrieving MaterialsDoc documents: 100%|███████| 1/1 [00:00<00:00, 28532.68it/s]\n",
      "Retrieving MaterialsDoc documents: 100%|███████| 1/1 [00:00<00:00, 29537.35it/s]\n",
      "Retrieving MaterialsDoc documents: 100%|███████| 1/1 [00:00<00:00, 28532.68it/s]\n",
      "Retrieving MaterialsDoc documents: 100%|███████| 1/1 [00:00<00:00, 29330.80it/s]\n",
      "Retrieving MaterialsDoc documents: 100%|███████| 1/1 [00:00<00:00, 28532.68it/s]\n",
      "Retrieving MaterialsDoc documents: 0it [00:00, ?it/s]\n"
     ]
    },
    {
     "name": "stdout",
     "output_type": "stream",
     "text": [
      "Error occurred for material ID mp-849354: 'list' object has no attribute 'to'\n"
     ]
    },
    {
     "name": "stderr",
     "output_type": "stream",
     "text": [
      "Retrieving MaterialsDoc documents: 0it [00:00, ?it/s]\n"
     ]
    },
    {
     "name": "stdout",
     "output_type": "stream",
     "text": [
      "Error occurred for material ID mp-771811: 'list' object has no attribute 'to'\n"
     ]
    },
    {
     "name": "stderr",
     "output_type": "stream",
     "text": [
      "Retrieving MaterialsDoc documents: 100%|███████| 1/1 [00:00<00:00, 24966.10it/s]\n",
      "Retrieving MaterialsDoc documents: 100%|███████| 1/1 [00:00<00:00, 27776.85it/s]\n",
      "Retrieving MaterialsDoc documents: 0it [00:00, ?it/s]\n"
     ]
    },
    {
     "name": "stdout",
     "output_type": "stream",
     "text": [
      "Error occurred for material ID mp-25118: 'list' object has no attribute 'to'\n"
     ]
    },
    {
     "name": "stderr",
     "output_type": "stream",
     "text": [
      "Retrieving MaterialsDoc documents: 100%|███████| 1/1 [00:00<00:00, 25731.93it/s]\n",
      "Retrieving MaterialsDoc documents: 100%|███████| 1/1 [00:00<00:00, 27235.74it/s]\n",
      "Retrieving MaterialsDoc documents: 100%|███████| 1/1 [00:00<00:00, 28532.68it/s]\n",
      "Retrieving MaterialsDoc documents: 100%|███████| 1/1 [00:00<00:00, 28532.68it/s]\n",
      "Retrieving MaterialsDoc documents: 100%|███████| 1/1 [00:00<00:00, 30393.51it/s]\n",
      "Retrieving MaterialsDoc documents: 100%|███████| 1/1 [00:00<00:00, 27594.11it/s]\n",
      "Retrieving MaterialsDoc documents: 100%|███████| 1/1 [00:00<00:00, 29537.35it/s]\n",
      "Retrieving MaterialsDoc documents: 100%|███████| 1/1 [00:00<00:00, 28532.68it/s]\n",
      "Retrieving MaterialsDoc documents: 100%|███████| 1/1 [00:00<00:00, 30393.51it/s]\n",
      "Retrieving MaterialsDoc documents: 100%|███████| 1/1 [00:00<00:00, 31068.92it/s]\n",
      "Retrieving MaterialsDoc documents: 100%|███████| 1/1 [00:00<00:00, 27060.03it/s]\n",
      "Retrieving MaterialsDoc documents: 100%|███████| 1/1 [00:00<00:00, 29330.80it/s]\n",
      "Retrieving MaterialsDoc documents: 100%|███████| 1/1 [00:00<00:00, 28728.11it/s]\n",
      "Retrieving MaterialsDoc documents: 100%|███████| 1/1 [00:00<00:00, 27060.03it/s]\n",
      "Retrieving MaterialsDoc documents: 100%|███████| 1/1 [00:00<00:00, 25731.93it/s]\n",
      "Retrieving MaterialsDoc documents: 100%|███████| 1/1 [00:00<00:00, 27060.03it/s]\n",
      "Retrieving MaterialsDoc documents: 100%|███████| 1/1 [00:00<00:00, 20867.18it/s]\n",
      "Retrieving MaterialsDoc documents: 100%|███████| 1/1 [00:00<00:00, 21620.12it/s]\n",
      "Retrieving MaterialsDoc documents: 100%|███████| 1/1 [00:00<00:00, 29537.35it/s]\n",
      "Retrieving MaterialsDoc documents: 100%|███████| 1/1 [00:00<00:00, 26214.40it/s]\n",
      "Retrieving MaterialsDoc documents: 100%|███████| 1/1 [00:00<00:00, 29330.80it/s]\n",
      "Retrieving MaterialsDoc documents: 100%|███████| 1/1 [00:00<00:00, 27594.11it/s]\n",
      "Retrieving MaterialsDoc documents: 100%|███████| 1/1 [00:00<00:00, 30393.51it/s]\n",
      "Retrieving MaterialsDoc documents: 0it [00:00, ?it/s]\n"
     ]
    },
    {
     "name": "stdout",
     "output_type": "stream",
     "text": [
      "Error occurred for material ID mp-776864: 'list' object has no attribute 'to'\n"
     ]
    },
    {
     "name": "stderr",
     "output_type": "stream",
     "text": [
      "Retrieving MaterialsDoc documents: 100%|███████| 1/1 [00:00<00:00, 26214.40it/s]\n",
      "Retrieving MaterialsDoc documents: 100%|███████| 1/1 [00:00<00:00, 29746.84it/s]\n",
      "Retrieving MaterialsDoc documents: 100%|███████| 1/1 [00:00<00:00, 28532.68it/s]\n",
      "Retrieving MaterialsDoc documents: 100%|███████| 1/1 [00:00<00:00, 27776.85it/s]\n",
      "Retrieving MaterialsDoc documents: 100%|███████| 1/1 [00:00<00:00, 28532.68it/s]\n",
      "Retrieving MaterialsDoc documents: 100%|███████| 1/1 [00:00<00:00, 31300.78it/s]\n",
      "Retrieving MaterialsDoc documents: 100%|███████| 1/1 [00:00<00:00, 24966.10it/s]\n",
      "Retrieving MaterialsDoc documents: 100%|███████| 1/1 [00:00<00:00, 24818.37it/s]\n",
      "Retrieving MaterialsDoc documents: 100%|███████| 1/1 [00:00<00:00, 28532.68it/s]\n",
      "Retrieving MaterialsDoc documents: 100%|███████| 1/1 [00:00<00:00, 27594.11it/s]\n",
      "Retrieving MaterialsDoc documents: 100%|███████| 1/1 [00:00<00:00, 31068.92it/s]\n",
      "Retrieving MaterialsDoc documents: 100%|███████| 1/1 [00:00<00:00, 27776.85it/s]\n",
      "Retrieving MaterialsDoc documents: 100%|███████| 1/1 [00:00<00:00, 28728.11it/s]\n",
      "Retrieving MaterialsDoc documents: 100%|███████| 1/1 [00:00<00:00, 27594.11it/s]\n",
      "Retrieving MaterialsDoc documents: 100%|███████| 1/1 [00:00<00:00, 28532.68it/s]\n",
      "Retrieving MaterialsDoc documents: 100%|███████| 1/1 [00:00<00:00, 27776.85it/s]\n",
      "Retrieving MaterialsDoc documents: 100%|███████| 1/1 [00:00<00:00, 26886.56it/s]\n",
      "Retrieving MaterialsDoc documents: 100%|███████| 1/1 [00:00<00:00, 26886.56it/s]\n",
      "Retrieving MaterialsDoc documents: 100%|███████| 1/1 [00:00<00:00, 27235.74it/s]\n",
      "Retrieving MaterialsDoc documents: 100%|███████| 1/1 [00:00<00:00, 27776.85it/s]\n",
      "Retrieving MaterialsDoc documents: 100%|███████| 1/1 [00:00<00:00, 27962.03it/s]\n",
      "Retrieving MaterialsDoc documents: 100%|███████| 1/1 [00:00<00:00, 30174.85it/s]\n",
      "Retrieving MaterialsDoc documents: 100%|███████| 1/1 [00:00<00:00, 30393.51it/s]\n",
      "Retrieving MaterialsDoc documents: 100%|███████| 1/1 [00:00<00:00, 27962.03it/s]\n",
      "Retrieving MaterialsDoc documents: 100%|███████| 1/1 [00:00<00:00, 28532.68it/s]\n",
      "Retrieving MaterialsDoc documents: 100%|███████| 1/1 [00:00<00:00, 27776.85it/s]\n",
      "Retrieving MaterialsDoc documents: 100%|███████| 1/1 [00:00<00:00, 28532.68it/s]\n",
      "Retrieving MaterialsDoc documents: 100%|███████| 1/1 [00:00<00:00, 27235.74it/s]\n",
      "Retrieving MaterialsDoc documents: 100%|███████| 1/1 [00:00<00:00, 23831.27it/s]\n",
      "Retrieving MaterialsDoc documents: 100%|███████| 1/1 [00:00<00:00, 29330.80it/s]\n",
      "Retrieving MaterialsDoc documents: 100%|███████| 1/1 [00:00<00:00, 27594.11it/s]\n",
      "Retrieving MaterialsDoc documents: 100%|███████| 1/1 [00:00<00:00, 28728.11it/s]\n",
      "Retrieving MaterialsDoc documents: 100%|███████| 1/1 [00:00<00:00, 26214.40it/s]\n",
      "Retrieving MaterialsDoc documents: 0it [00:00, ?it/s]\n"
     ]
    },
    {
     "name": "stdout",
     "output_type": "stream",
     "text": [
      "Error occurred for material ID mp-559175: 'list' object has no attribute 'to'\n"
     ]
    },
    {
     "name": "stderr",
     "output_type": "stream",
     "text": [
      "Retrieving MaterialsDoc documents: 100%|███████| 1/1 [00:00<00:00, 29537.35it/s]\n",
      "Retrieving MaterialsDoc documents: 100%|███████| 1/1 [00:00<00:00, 31300.78it/s]\n",
      "Retrieving MaterialsDoc documents: 100%|███████| 1/1 [00:00<00:00, 29537.35it/s]\n",
      "Retrieving MaterialsDoc documents: 100%|███████| 1/1 [00:00<00:00, 29330.80it/s]\n",
      "Retrieving MaterialsDoc documents: 100%|███████| 1/1 [00:00<00:00, 27776.85it/s]\n",
      "Retrieving MaterialsDoc documents: 100%|███████| 1/1 [00:00<00:00, 27594.11it/s]\n",
      "Retrieving MaterialsDoc documents: 100%|███████| 1/1 [00:00<00:00, 28532.68it/s]\n",
      "Retrieving MaterialsDoc documents: 100%|███████| 1/1 [00:00<00:00, 27776.85it/s]\n",
      "Retrieving MaterialsDoc documents: 100%|███████| 1/1 [00:00<00:00, 16384.00it/s]\n",
      "Retrieving MaterialsDoc documents: 100%|███████| 1/1 [00:00<00:00, 28532.68it/s]\n",
      "Retrieving MaterialsDoc documents: 100%|███████| 1/1 [00:00<00:00, 25575.02it/s]\n",
      "Retrieving MaterialsDoc documents: 100%|███████| 1/1 [00:00<00:00, 28532.68it/s]\n",
      "Retrieving MaterialsDoc documents: 100%|███████| 1/1 [00:00<00:00, 32263.88it/s]\n",
      "Retrieving MaterialsDoc documents: 100%|███████| 1/1 [00:00<00:00, 26886.56it/s]\n",
      "Retrieving MaterialsDoc documents: 100%|███████| 1/1 [00:00<00:00, 28728.11it/s]\n",
      "Retrieving MaterialsDoc documents: 100%|███████| 1/1 [00:00<00:00, 28532.68it/s]\n",
      "Retrieving MaterialsDoc documents: 100%|███████| 1/1 [00:00<00:00, 29330.80it/s]\n",
      "Retrieving MaterialsDoc documents: 100%|███████| 1/1 [00:00<00:00, 28728.11it/s]\n",
      "Retrieving MaterialsDoc documents: 100%|███████| 1/1 [00:00<00:00, 27060.03it/s]\n",
      "Retrieving MaterialsDoc documents: 100%|███████| 1/1 [00:00<00:00, 29330.80it/s]\n",
      "Retrieving MaterialsDoc documents: 0it [00:00, ?it/s]\n"
     ]
    },
    {
     "name": "stdout",
     "output_type": "stream",
     "text": [
      "Error occurred for material ID mp-763095: 'list' object has no attribute 'to'\n"
     ]
    },
    {
     "name": "stderr",
     "output_type": "stream",
     "text": [
      "Retrieving MaterialsDoc documents: 100%|███████| 1/1 [00:00<00:00, 27776.85it/s]\n",
      "Retrieving MaterialsDoc documents: 100%|███████| 1/1 [00:00<00:00, 27962.03it/s]\n",
      "Retrieving MaterialsDoc documents: 100%|███████| 1/1 [00:00<00:00, 28532.68it/s]\n",
      "Retrieving MaterialsDoc documents: 100%|███████| 1/1 [00:00<00:00, 28532.68it/s]\n",
      "Retrieving MaterialsDoc documents: 100%|███████| 1/1 [00:00<00:00, 27594.11it/s]\n",
      "Retrieving MaterialsDoc documents: 100%|███████| 1/1 [00:00<00:00, 27776.85it/s]\n",
      "Retrieving MaterialsDoc documents: 100%|███████| 1/1 [00:00<00:00, 27776.85it/s]\n",
      "Retrieving MaterialsDoc documents: 100%|███████| 1/1 [00:00<00:00, 28532.68it/s]\n",
      "Retrieving MaterialsDoc documents: 100%|███████| 1/1 [00:00<00:00, 28728.11it/s]\n",
      "Retrieving MaterialsDoc documents: 100%|███████| 1/1 [00:00<00:00, 30615.36it/s]\n",
      "Retrieving MaterialsDoc documents: 100%|███████| 1/1 [00:00<00:00, 31068.92it/s]\n",
      "Retrieving MaterialsDoc documents: 100%|███████| 1/1 [00:00<00:00, 27060.03it/s]\n",
      "Retrieving MaterialsDoc documents: 100%|███████| 1/1 [00:00<00:00, 27776.85it/s]\n",
      "Retrieving MaterialsDoc documents: 100%|███████| 1/1 [00:00<00:00, 27060.03it/s]\n",
      "Retrieving MaterialsDoc documents: 100%|███████| 1/1 [00:00<00:00, 30393.51it/s]\n",
      "Retrieving MaterialsDoc documents: 100%|███████| 1/1 [00:00<00:00, 31068.92it/s]\n",
      "Retrieving MaterialsDoc documents: 100%|███████| 1/1 [00:00<00:00, 27235.74it/s]\n",
      "Retrieving MaterialsDoc documents: 100%|███████| 1/1 [00:00<00:00, 27060.03it/s]\n",
      "Retrieving MaterialsDoc documents: 100%|███████| 1/1 [00:00<00:00, 28532.68it/s]\n",
      "Retrieving MaterialsDoc documents: 100%|███████| 1/1 [00:00<00:00, 28728.11it/s]\n",
      "Retrieving MaterialsDoc documents: 100%|███████| 1/1 [00:00<00:00, 27962.03it/s]\n",
      "Retrieving MaterialsDoc documents: 100%|███████| 1/1 [00:00<00:00, 26379.27it/s]\n",
      "Retrieving MaterialsDoc documents: 100%|███████| 1/1 [00:00<00:00, 26379.27it/s]\n",
      "Retrieving MaterialsDoc documents: 100%|███████| 1/1 [00:00<00:00, 28532.68it/s]\n",
      "Retrieving MaterialsDoc documents: 100%|███████| 1/1 [00:00<00:00, 26379.27it/s]\n",
      "Retrieving MaterialsDoc documents: 100%|███████| 1/1 [00:00<00:00, 29330.80it/s]\n",
      "Retrieving MaterialsDoc documents: 100%|███████| 1/1 [00:00<00:00, 30174.85it/s]\n",
      "Retrieving MaterialsDoc documents: 100%|███████| 1/1 [00:00<00:00, 27594.11it/s]\n",
      "Retrieving MaterialsDoc documents: 0it [00:00, ?it/s]\n"
     ]
    },
    {
     "name": "stdout",
     "output_type": "stream",
     "text": [
      "Error occurred for material ID mp-867300: 'list' object has no attribute 'to'\n"
     ]
    },
    {
     "name": "stderr",
     "output_type": "stream",
     "text": [
      "Retrieving MaterialsDoc documents: 100%|███████| 1/1 [00:00<00:00, 24966.10it/s]\n",
      "Retrieving MaterialsDoc documents: 100%|███████| 1/1 [00:00<00:00, 28532.68it/s]\n",
      "Retrieving MaterialsDoc documents: 100%|███████| 1/1 [00:00<00:00, 26214.40it/s]\n",
      "Retrieving MaterialsDoc documents: 100%|███████| 1/1 [00:00<00:00, 27962.03it/s]\n",
      "Retrieving MaterialsDoc documents: 100%|███████| 1/1 [00:00<00:00, 20068.44it/s]\n",
      "Retrieving MaterialsDoc documents: 100%|███████| 1/1 [00:00<00:00, 29330.80it/s]\n",
      "Retrieving MaterialsDoc documents: 100%|███████| 1/1 [00:00<00:00, 28532.68it/s]\n",
      "Retrieving MaterialsDoc documents: 100%|███████| 1/1 [00:00<00:00, 28532.68it/s]\n",
      "Retrieving MaterialsDoc documents: 100%|███████| 1/1 [00:00<00:00, 29330.80it/s]\n",
      "Retrieving MaterialsDoc documents: 100%|███████| 1/1 [00:00<00:00, 28532.68it/s]\n",
      "Retrieving MaterialsDoc documents: 100%|███████| 1/1 [00:00<00:00, 27962.03it/s]\n",
      "Retrieving MaterialsDoc documents: 0it [00:00, ?it/s]\n"
     ]
    },
    {
     "name": "stdout",
     "output_type": "stream",
     "text": [
      "Error occurred for material ID mp-764716: 'list' object has no attribute 'to'\n"
     ]
    },
    {
     "name": "stderr",
     "output_type": "stream",
     "text": [
      "Retrieving MaterialsDoc documents: 100%|███████| 1/1 [00:00<00:00, 29330.80it/s]\n",
      "Retrieving MaterialsDoc documents: 100%|███████| 1/1 [00:00<00:00, 27962.03it/s]\n",
      "Retrieving MaterialsDoc documents: 100%|███████| 1/1 [00:00<00:00, 30393.51it/s]\n",
      "Retrieving MaterialsDoc documents: 100%|███████| 1/1 [00:00<00:00, 26214.40it/s]\n",
      "Retrieving MaterialsDoc documents: 0it [00:00, ?it/s]\n"
     ]
    },
    {
     "name": "stdout",
     "output_type": "stream",
     "text": [
      "Error occurred for material ID mp-765545: 'list' object has no attribute 'to'\n"
     ]
    },
    {
     "name": "stderr",
     "output_type": "stream",
     "text": [
      "Retrieving MaterialsDoc documents: 100%|███████| 1/1 [00:00<00:00, 27594.11it/s]\n",
      "Retrieving MaterialsDoc documents: 100%|███████| 1/1 [00:00<00:00, 28532.68it/s]\n",
      "Retrieving MaterialsDoc documents: 100%|███████| 1/1 [00:00<00:00, 25115.59it/s]\n",
      "Retrieving MaterialsDoc documents: 100%|███████| 1/1 [00:00<00:00, 27060.03it/s]\n",
      "Retrieving MaterialsDoc documents: 0it [00:00, ?it/s]\n"
     ]
    },
    {
     "name": "stdout",
     "output_type": "stream",
     "text": [
      "Error occurred for material ID mp-767016: 'list' object has no attribute 'to'\n"
     ]
    },
    {
     "name": "stderr",
     "output_type": "stream",
     "text": [
      "Retrieving MaterialsDoc documents: 100%|███████| 1/1 [00:00<00:00, 29330.80it/s]\n",
      "Retrieving MaterialsDoc documents: 100%|███████| 1/1 [00:00<00:00, 16980.99it/s]\n",
      "Retrieving MaterialsDoc documents: 100%|███████| 1/1 [00:00<00:00, 27776.85it/s]\n",
      "Retrieving MaterialsDoc documents: 100%|███████| 1/1 [00:00<00:00, 30174.85it/s]\n",
      "Retrieving MaterialsDoc documents: 100%|███████| 1/1 [00:00<00:00, 27776.85it/s]\n",
      "Retrieving MaterialsDoc documents: 100%|███████| 1/1 [00:00<00:00, 28532.68it/s]\n",
      "Retrieving MaterialsDoc documents: 100%|███████| 1/1 [00:00<00:00, 25731.93it/s]\n",
      "Retrieving MaterialsDoc documents: 100%|███████| 1/1 [00:00<00:00, 28532.68it/s]\n",
      "Retrieving MaterialsDoc documents: 100%|███████| 1/1 [00:00<00:00, 26379.27it/s]\n",
      "Retrieving MaterialsDoc documents: 100%|███████| 1/1 [00:00<00:00, 31300.78it/s]\n",
      "Retrieving MaterialsDoc documents: 100%|███████| 1/1 [00:00<00:00, 27594.11it/s]\n",
      "Retrieving MaterialsDoc documents: 100%|███████| 1/1 [00:00<00:00, 28532.68it/s]\n",
      "Retrieving MaterialsDoc documents: 100%|███████| 1/1 [00:00<00:00, 30174.85it/s]\n",
      "Retrieving MaterialsDoc documents: 100%|███████| 1/1 [00:00<00:00, 27962.03it/s]\n",
      "Retrieving MaterialsDoc documents: 100%|███████| 1/1 [00:00<00:00, 28728.11it/s]\n",
      "Retrieving MaterialsDoc documents: 100%|███████| 1/1 [00:00<00:00, 25575.02it/s]\n",
      "Retrieving MaterialsDoc documents: 100%|███████| 1/1 [00:00<00:00, 26886.56it/s]\n",
      "Retrieving MaterialsDoc documents: 100%|███████| 1/1 [00:00<00:00, 27776.85it/s]\n",
      "Retrieving MaterialsDoc documents: 100%|███████| 1/1 [00:00<00:00, 30174.85it/s]\n",
      "Retrieving MaterialsDoc documents: 0it [00:00, ?it/s]\n"
     ]
    },
    {
     "name": "stdout",
     "output_type": "stream",
     "text": [
      "Error occurred for material ID mp-25122: 'list' object has no attribute 'to'\n"
     ]
    },
    {
     "name": "stderr",
     "output_type": "stream",
     "text": [
      "Retrieving MaterialsDoc documents: 100%|███████| 1/1 [00:00<00:00, 27962.03it/s]\n",
      "Retrieving MaterialsDoc documents: 100%|███████| 1/1 [00:00<00:00, 26379.27it/s]\n",
      "Retrieving MaterialsDoc documents: 100%|███████| 1/1 [00:00<00:00, 27962.03it/s]\n",
      "Retrieving MaterialsDoc documents: 100%|███████| 1/1 [00:00<00:00, 27594.11it/s]\n",
      "Retrieving MaterialsDoc documents: 0it [00:00, ?it/s]\n"
     ]
    },
    {
     "name": "stdout",
     "output_type": "stream",
     "text": [
      "Error occurred for material ID mp-714882: 'list' object has no attribute 'to'\n"
     ]
    },
    {
     "name": "stderr",
     "output_type": "stream",
     "text": [
      "Retrieving MaterialsDoc documents: 100%|███████| 1/1 [00:00<00:00, 27776.85it/s]\n",
      "Retrieving MaterialsDoc documents: 100%|███████| 1/1 [00:00<00:00, 28728.11it/s]\n",
      "Retrieving MaterialsDoc documents: 100%|███████| 1/1 [00:00<00:00, 25115.59it/s]\n",
      "Retrieving MaterialsDoc documents: 100%|███████| 1/1 [00:00<00:00, 27776.85it/s]\n",
      "Retrieving MaterialsDoc documents: 100%|███████| 1/1 [00:00<00:00, 28339.89it/s]\n",
      "Retrieving MaterialsDoc documents: 100%|███████| 1/1 [00:00<00:00, 28728.11it/s]\n",
      "Retrieving MaterialsDoc documents: 100%|███████| 1/1 [00:00<00:00, 27776.85it/s]\n",
      "Retrieving MaterialsDoc documents: 100%|███████| 1/1 [00:00<00:00, 27235.74it/s]\n",
      "Retrieving MaterialsDoc documents: 100%|███████| 1/1 [00:00<00:00, 29330.80it/s]\n",
      "Retrieving MaterialsDoc documents: 100%|███████| 1/1 [00:00<00:00, 28532.68it/s]\n",
      "Retrieving MaterialsDoc documents: 0it [00:00, ?it/s]\n"
     ]
    },
    {
     "name": "stdout",
     "output_type": "stream",
     "text": [
      "Error occurred for material ID mp-764360: 'list' object has no attribute 'to'\n"
     ]
    },
    {
     "name": "stderr",
     "output_type": "stream",
     "text": [
      "Retrieving MaterialsDoc documents: 100%|███████| 1/1 [00:00<00:00, 27235.74it/s]\n",
      "Retrieving MaterialsDoc documents: 0it [00:00, ?it/s]\n"
     ]
    },
    {
     "name": "stdout",
     "output_type": "stream",
     "text": [
      "Error occurred for material ID mp-776137: 'list' object has no attribute 'to'\n"
     ]
    },
    {
     "name": "stderr",
     "output_type": "stream",
     "text": [
      "Retrieving MaterialsDoc documents: 100%|███████| 1/1 [00:00<00:00, 26886.56it/s]\n",
      "Retrieving MaterialsDoc documents: 100%|███████| 1/1 [00:00<00:00, 28728.11it/s]\n",
      "Retrieving MaterialsDoc documents: 100%|███████| 1/1 [00:00<00:00, 32263.88it/s]\n",
      "Retrieving MaterialsDoc documents: 100%|███████| 1/1 [00:00<00:00, 27060.03it/s]\n",
      "Retrieving MaterialsDoc documents: 100%|███████| 1/1 [00:00<00:00, 31300.78it/s]\n",
      "Retrieving MaterialsDoc documents: 100%|███████| 1/1 [00:00<00:00, 27776.85it/s]\n",
      "Retrieving MaterialsDoc documents: 100%|███████| 1/1 [00:00<00:00, 27235.74it/s]\n",
      "Retrieving MaterialsDoc documents: 100%|███████| 1/1 [00:00<00:00, 28532.68it/s]\n",
      "Retrieving MaterialsDoc documents: 100%|███████| 1/1 [00:00<00:00, 27060.03it/s]\n",
      "Retrieving MaterialsDoc documents: 0it [00:00, ?it/s]\n"
     ]
    },
    {
     "name": "stdout",
     "output_type": "stream",
     "text": [
      "Error occurred for material ID mp-764312: 'list' object has no attribute 'to'\n"
     ]
    },
    {
     "name": "stderr",
     "output_type": "stream",
     "text": [
      "Retrieving MaterialsDoc documents: 100%|███████| 1/1 [00:00<00:00, 29330.80it/s]\n",
      "Retrieving MaterialsDoc documents: 100%|███████| 1/1 [00:00<00:00, 30393.51it/s]\n",
      "Retrieving MaterialsDoc documents: 0it [00:00, ?it/s]\n"
     ]
    },
    {
     "name": "stdout",
     "output_type": "stream",
     "text": [
      "Error occurred for material ID mp-773305: 'list' object has no attribute 'to'\n"
     ]
    },
    {
     "name": "stderr",
     "output_type": "stream",
     "text": [
      "Retrieving MaterialsDoc documents: 100%|███████| 1/1 [00:00<00:00, 27594.11it/s]\n",
      "Retrieving MaterialsDoc documents: 100%|███████| 1/1 [00:00<00:00, 29330.80it/s]\n",
      "Retrieving MaterialsDoc documents: 100%|███████| 1/1 [00:00<00:00, 29330.80it/s]\n",
      "Retrieving MaterialsDoc documents: 100%|███████| 1/1 [00:00<00:00, 24385.49it/s]\n",
      "Retrieving MaterialsDoc documents: 100%|███████| 1/1 [00:00<00:00, 26886.56it/s]\n",
      "Retrieving MaterialsDoc documents: 100%|███████| 1/1 [00:00<00:00, 27594.11it/s]\n",
      "Retrieving MaterialsDoc documents: 100%|███████| 1/1 [00:00<00:00, 26379.27it/s]\n",
      "Retrieving MaterialsDoc documents: 100%|███████| 1/1 [00:00<00:00, 27776.85it/s]\n",
      "Retrieving MaterialsDoc documents: 100%|███████| 1/1 [00:00<00:00, 28728.11it/s]\n",
      "Retrieving MaterialsDoc documents: 100%|███████| 1/1 [00:00<00:00, 27962.03it/s]\n",
      "Retrieving MaterialsDoc documents: 100%|███████| 1/1 [00:00<00:00, 28339.89it/s]\n",
      "Retrieving MaterialsDoc documents: 100%|███████| 1/1 [00:00<00:00, 27060.03it/s]\n",
      "Retrieving MaterialsDoc documents: 100%|███████| 1/1 [00:00<00:00, 27962.03it/s]\n",
      "Retrieving MaterialsDoc documents: 100%|███████| 1/1 [00:00<00:00, 19508.39it/s]\n",
      "Retrieving MaterialsDoc documents: 100%|███████| 1/1 [00:00<00:00, 28532.68it/s]\n",
      "Retrieving MaterialsDoc documents: 100%|███████| 1/1 [00:00<00:00, 28532.68it/s]\n",
      "Retrieving MaterialsDoc documents: 100%|███████| 1/1 [00:00<00:00, 28532.68it/s]\n",
      "Retrieving MaterialsDoc documents: 100%|███████| 1/1 [00:00<00:00, 28728.11it/s]\n",
      "Retrieving MaterialsDoc documents: 0it [00:00, ?it/s]\n"
     ]
    },
    {
     "name": "stdout",
     "output_type": "stream",
     "text": [
      "Error occurred for material ID mp-766906: 'list' object has no attribute 'to'\n"
     ]
    },
    {
     "name": "stderr",
     "output_type": "stream",
     "text": [
      "Retrieving MaterialsDoc documents: 100%|███████| 1/1 [00:00<00:00, 31300.78it/s]\n",
      "Retrieving MaterialsDoc documents: 100%|███████| 1/1 [00:00<00:00, 28532.68it/s]\n",
      "Retrieving MaterialsDoc documents: 100%|███████| 1/1 [00:00<00:00, 27776.85it/s]\n",
      "Retrieving MaterialsDoc documents: 100%|███████| 1/1 [00:00<00:00, 28532.68it/s]\n",
      "Retrieving MaterialsDoc documents: 100%|███████| 1/1 [00:00<00:00, 30174.85it/s]\n",
      "Retrieving MaterialsDoc documents: 100%|███████| 1/1 [00:00<00:00, 27962.03it/s]\n",
      "Retrieving MaterialsDoc documents: 100%|███████| 1/1 [00:00<00:00, 29330.80it/s]\n",
      "Retrieving MaterialsDoc documents: 100%|███████| 1/1 [00:00<00:00, 29330.80it/s]\n",
      "Retrieving MaterialsDoc documents: 100%|███████| 1/1 [00:00<00:00, 29330.80it/s]\n",
      "Retrieving MaterialsDoc documents: 100%|███████| 1/1 [00:00<00:00, 27962.03it/s]\n",
      "Retrieving MaterialsDoc documents: 100%|███████| 1/1 [00:00<00:00, 18157.16it/s]\n",
      "Retrieving MaterialsDoc documents: 100%|███████| 1/1 [00:00<00:00, 29537.35it/s]\n",
      "Retrieving MaterialsDoc documents: 100%|███████| 1/1 [00:00<00:00, 29330.80it/s]\n",
      "Retrieving MaterialsDoc documents: 100%|███████| 1/1 [00:00<00:00, 25731.93it/s]\n",
      "Retrieving MaterialsDoc documents: 100%|███████| 1/1 [00:00<00:00, 26886.56it/s]\n",
      "Retrieving MaterialsDoc documents: 100%|███████| 1/1 [00:00<00:00, 28532.68it/s]\n",
      "Retrieving MaterialsDoc documents: 100%|███████| 1/1 [00:00<00:00, 30174.85it/s]\n",
      "Retrieving MaterialsDoc documents: 100%|███████| 1/1 [00:00<00:00, 28728.11it/s]\n",
      "Retrieving MaterialsDoc documents: 100%|███████| 1/1 [00:00<00:00, 30393.51it/s]\n",
      "Retrieving MaterialsDoc documents: 100%|███████| 1/1 [00:00<00:00, 28532.68it/s]\n",
      "Retrieving MaterialsDoc documents: 100%|███████| 1/1 [00:00<00:00, 30174.85it/s]\n",
      "Retrieving MaterialsDoc documents: 100%|███████| 1/1 [00:00<00:00, 26214.40it/s]\n",
      "Retrieving MaterialsDoc documents: 100%|███████| 1/1 [00:00<00:00, 18808.54it/s]\n",
      "Retrieving MaterialsDoc documents: 100%|███████| 1/1 [00:00<00:00, 16578.28it/s]\n",
      "Retrieving MaterialsDoc documents: 100%|███████| 1/1 [00:00<00:00, 26214.40it/s]\n",
      "Retrieving MaterialsDoc documents: 0it [00:00, ?it/s]\n"
     ]
    },
    {
     "name": "stdout",
     "output_type": "stream",
     "text": [
      "Error occurred for material ID mp-764286: 'list' object has no attribute 'to'\n"
     ]
    },
    {
     "name": "stderr",
     "output_type": "stream",
     "text": [
      "Retrieving MaterialsDoc documents: 100%|███████| 1/1 [00:00<00:00, 26886.56it/s]\n",
      "Retrieving MaterialsDoc documents: 100%|███████| 1/1 [00:00<00:00, 24966.10it/s]\n",
      "Retrieving MaterialsDoc documents: 100%|███████| 1/1 [00:00<00:00, 25731.93it/s]\n",
      "Retrieving MaterialsDoc documents: 100%|███████| 1/1 [00:00<00:00, 27776.85it/s]\n",
      "Retrieving MaterialsDoc documents: 100%|███████| 1/1 [00:00<00:00, 31068.92it/s]\n",
      "Retrieving MaterialsDoc documents: 100%|███████| 1/1 [00:00<00:00, 28532.68it/s]\n",
      "Retrieving MaterialsDoc documents: 100%|███████| 1/1 [00:00<00:00, 23301.69it/s]\n",
      "Retrieving MaterialsDoc documents: 100%|███████| 1/1 [00:00<00:00, 29330.80it/s]\n",
      "Retrieving MaterialsDoc documents: 100%|███████| 1/1 [00:00<00:00, 25115.59it/s]\n",
      "Retrieving MaterialsDoc documents: 100%|███████| 1/1 [00:00<00:00, 28532.68it/s]\n",
      "Retrieving MaterialsDoc documents: 100%|███████| 1/1 [00:00<00:00, 28532.68it/s]\n",
      "Retrieving MaterialsDoc documents: 100%|███████| 1/1 [00:00<00:00, 28532.68it/s]\n",
      "Retrieving MaterialsDoc documents: 100%|███████| 1/1 [00:00<00:00, 28532.68it/s]\n",
      "Retrieving MaterialsDoc documents: 100%|███████| 1/1 [00:00<00:00, 28728.11it/s]\n",
      "Retrieving MaterialsDoc documents: 100%|███████| 1/1 [00:00<00:00, 29537.35it/s]\n",
      "Retrieving MaterialsDoc documents: 100%|███████| 1/1 [00:00<00:00, 28728.11it/s]\n",
      "Retrieving MaterialsDoc documents: 100%|███████| 1/1 [00:00<00:00, 20068.44it/s]\n",
      "Retrieving MaterialsDoc documents: 100%|███████| 1/1 [00:00<00:00, 29746.84it/s]\n",
      "Retrieving MaterialsDoc documents: 100%|███████| 1/1 [00:00<00:00, 29330.80it/s]\n",
      "Retrieving MaterialsDoc documents: 100%|███████| 1/1 [00:00<00:00, 28532.68it/s]\n",
      "Retrieving MaterialsDoc documents: 100%|███████| 1/1 [00:00<00:00, 27776.85it/s]\n",
      "Retrieving MaterialsDoc documents: 100%|███████| 1/1 [00:00<00:00, 25731.93it/s]\n",
      "Retrieving MaterialsDoc documents: 0it [00:00, ?it/s]\n"
     ]
    },
    {
     "name": "stdout",
     "output_type": "stream",
     "text": [
      "Error occurred for material ID mp-764895: 'list' object has no attribute 'to'\n"
     ]
    },
    {
     "name": "stderr",
     "output_type": "stream",
     "text": [
      "Retrieving MaterialsDoc documents: 100%|███████| 1/1 [00:00<00:00, 19239.93it/s]\n",
      "Retrieving MaterialsDoc documents: 100%|███████| 1/1 [00:00<00:00, 26886.56it/s]\n",
      "Retrieving MaterialsDoc documents: 100%|███████| 1/1 [00:00<00:00, 32263.88it/s]\n",
      "Retrieving MaterialsDoc documents: 100%|███████| 1/1 [00:00<00:00, 29537.35it/s]\n",
      "Retrieving MaterialsDoc documents: 100%|███████| 1/1 [00:00<00:00, 30174.85it/s]\n",
      "Retrieving MaterialsDoc documents: 100%|███████| 1/1 [00:00<00:00, 31300.78it/s]\n",
      "Retrieving MaterialsDoc documents: 100%|███████| 1/1 [00:00<00:00, 30393.51it/s]\n",
      "Retrieving MaterialsDoc documents: 100%|███████| 1/1 [00:00<00:00, 28728.11it/s]\n",
      "Retrieving MaterialsDoc documents: 100%|███████| 1/1 [00:00<00:00, 27235.74it/s]\n",
      "Retrieving MaterialsDoc documents: 100%|███████| 1/1 [00:00<00:00, 25420.02it/s]\n",
      "Retrieving MaterialsDoc documents: 100%|███████| 1/1 [00:00<00:00, 28532.68it/s]\n",
      "Retrieving MaterialsDoc documents: 100%|███████| 1/1 [00:00<00:00, 28728.11it/s]\n",
      "Retrieving MaterialsDoc documents: 100%|███████| 1/1 [00:00<00:00, 23831.27it/s]\n",
      "Retrieving MaterialsDoc documents: 100%|███████| 1/1 [00:00<00:00, 29330.80it/s]\n",
      "Retrieving MaterialsDoc documents: 100%|███████| 1/1 [00:00<00:00, 29330.80it/s]\n",
      "Retrieving MaterialsDoc documents: 100%|███████| 1/1 [00:00<00:00, 27235.74it/s]\n",
      "Retrieving MaterialsDoc documents: 100%|███████| 1/1 [00:00<00:00, 28532.68it/s]\n",
      "Retrieving MaterialsDoc documents: 100%|███████| 1/1 [00:00<00:00, 28728.11it/s]\n",
      "Retrieving MaterialsDoc documents: 100%|███████| 1/1 [00:00<00:00, 26886.56it/s]\n",
      "Retrieving MaterialsDoc documents: 100%|███████| 1/1 [00:00<00:00, 29537.35it/s]\n",
      "Retrieving MaterialsDoc documents: 100%|███████| 1/1 [00:00<00:00, 27776.85it/s]\n",
      "Retrieving MaterialsDoc documents: 100%|███████| 1/1 [00:00<00:00, 26886.56it/s]\n",
      "Retrieving MaterialsDoc documents: 100%|███████| 1/1 [00:00<00:00, 26886.56it/s]\n",
      "Retrieving MaterialsDoc documents: 100%|███████| 1/1 [00:00<00:00, 29537.35it/s]\n",
      "Retrieving MaterialsDoc documents: 100%|███████| 1/1 [00:00<00:00, 29330.80it/s]\n",
      "Retrieving MaterialsDoc documents: 100%|███████| 1/1 [00:00<00:00, 29330.80it/s]\n",
      "Retrieving MaterialsDoc documents: 100%|███████| 1/1 [00:00<00:00, 28532.68it/s]\n",
      "Retrieving MaterialsDoc documents: 0it [00:00, ?it/s]\n"
     ]
    },
    {
     "name": "stdout",
     "output_type": "stream",
     "text": [
      "Error occurred for material ID mp-25172: 'list' object has no attribute 'to'\n"
     ]
    },
    {
     "name": "stderr",
     "output_type": "stream",
     "text": [
      "Retrieving MaterialsDoc documents: 100%|███████| 1/1 [00:00<00:00, 30174.85it/s]\n",
      "Retrieving MaterialsDoc documents: 100%|███████| 1/1 [00:00<00:00, 29330.80it/s]\n",
      "Retrieving MaterialsDoc documents: 100%|███████| 1/1 [00:00<00:00, 27060.03it/s]\n",
      "Retrieving MaterialsDoc documents: 100%|███████| 1/1 [00:00<00:00, 18477.11it/s]\n",
      "Retrieving MaterialsDoc documents: 100%|███████| 1/1 [00:00<00:00, 27776.85it/s]\n",
      "Retrieving MaterialsDoc documents: 100%|███████| 1/1 [00:00<00:00, 30393.51it/s]\n",
      "Retrieving MaterialsDoc documents: 100%|███████| 1/1 [00:00<00:00, 28339.89it/s]\n",
      "Retrieving MaterialsDoc documents: 100%|███████| 1/1 [00:00<00:00, 28339.89it/s]\n",
      "Retrieving MaterialsDoc documents: 100%|███████| 1/1 [00:00<00:00, 29330.80it/s]\n",
      "Retrieving MaterialsDoc documents: 100%|███████| 1/1 [00:00<00:00, 27594.11it/s]\n",
      "Retrieving MaterialsDoc documents: 100%|███████| 1/1 [00:00<00:00, 30174.85it/s]\n",
      "Retrieving MaterialsDoc documents: 100%|███████| 1/1 [00:00<00:00, 28728.11it/s]\n",
      "Retrieving MaterialsDoc documents: 100%|███████| 1/1 [00:00<00:00, 26379.27it/s]\n",
      "Retrieving MaterialsDoc documents: 100%|███████| 1/1 [00:00<00:00, 30174.85it/s]\n",
      "Retrieving MaterialsDoc documents: 100%|███████| 1/1 [00:00<00:00, 27776.85it/s]\n",
      "Retrieving MaterialsDoc documents: 100%|███████| 1/1 [00:00<00:00, 21732.15it/s]\n",
      "Retrieving MaterialsDoc documents: 100%|███████| 1/1 [00:00<00:00, 29330.80it/s]\n",
      "Retrieving MaterialsDoc documents: 100%|███████| 1/1 [00:00<00:00, 28532.68it/s]\n",
      "Retrieving MaterialsDoc documents: 100%|███████| 1/1 [00:00<00:00, 29537.35it/s]\n",
      "Retrieving MaterialsDoc documents: 100%|███████| 1/1 [00:00<00:00, 27594.11it/s]\n",
      "Retrieving MaterialsDoc documents: 100%|███████| 1/1 [00:00<00:00, 28532.68it/s]\n",
      "Retrieving MaterialsDoc documents: 100%|███████| 1/1 [00:00<00:00, 28532.68it/s]\n",
      "Retrieving MaterialsDoc documents: 100%|███████| 1/1 [00:00<00:00, 30393.51it/s]\n",
      "Retrieving MaterialsDoc documents: 100%|███████| 1/1 [00:00<00:00, 27060.03it/s]\n",
      "Retrieving MaterialsDoc documents: 100%|███████| 1/1 [00:00<00:00, 24385.49it/s]\n",
      "Retrieving MaterialsDoc documents: 100%|███████| 1/1 [00:00<00:00, 32263.88it/s]\n",
      "Retrieving MaterialsDoc documents: 100%|███████| 1/1 [00:00<00:00, 26379.27it/s]\n",
      "Retrieving MaterialsDoc documents: 100%|███████| 1/1 [00:00<00:00, 29330.80it/s]\n",
      "Retrieving MaterialsDoc documents: 100%|███████| 1/1 [00:00<00:00, 28532.68it/s]\n",
      "Retrieving MaterialsDoc documents: 100%|███████| 1/1 [00:00<00:00, 27776.85it/s]\n",
      "Retrieving MaterialsDoc documents: 100%|███████| 1/1 [00:00<00:00, 29330.80it/s]\n",
      "Retrieving MaterialsDoc documents: 100%|███████| 1/1 [00:00<00:00, 18236.10it/s]\n",
      "Retrieving MaterialsDoc documents: 100%|███████| 1/1 [00:00<00:00, 28532.68it/s]\n",
      "Retrieving MaterialsDoc documents: 100%|███████| 1/1 [00:00<00:00, 29537.35it/s]\n",
      "Retrieving MaterialsDoc documents: 100%|███████| 1/1 [00:00<00:00, 33554.43it/s]\n",
      "Retrieving MaterialsDoc documents: 100%|███████| 1/1 [00:00<00:00, 26886.56it/s]\n",
      "Retrieving MaterialsDoc documents: 100%|███████| 1/1 [00:00<00:00, 32017.59it/s]\n",
      "Retrieving MaterialsDoc documents: 100%|███████| 1/1 [00:00<00:00, 31300.78it/s]\n",
      "Retrieving MaterialsDoc documents: 100%|███████| 1/1 [00:00<00:00, 30174.85it/s]\n",
      "Retrieving MaterialsDoc documents: 100%|███████| 1/1 [00:00<00:00, 33288.13it/s]\n",
      "Retrieving MaterialsDoc documents: 100%|███████| 1/1 [00:00<00:00, 28532.68it/s]\n",
      "Retrieving MaterialsDoc documents: 100%|███████| 1/1 [00:00<00:00, 28532.68it/s]\n",
      "Retrieving MaterialsDoc documents: 100%|███████| 1/1 [00:00<00:00, 31300.78it/s]\n",
      "Retrieving MaterialsDoc documents: 100%|███████| 1/1 [00:00<00:00, 27594.11it/s]\n",
      "Retrieving MaterialsDoc documents: 100%|███████| 1/1 [00:00<00:00, 28532.68it/s]\n",
      "Retrieving MaterialsDoc documents: 100%|███████| 1/1 [00:00<00:00, 29537.35it/s]\n",
      "Retrieving MaterialsDoc documents: 100%|███████| 1/1 [00:00<00:00, 18558.87it/s]\n",
      "Retrieving MaterialsDoc documents: 100%|███████| 1/1 [00:00<00:00, 28728.11it/s]\n",
      "Retrieving MaterialsDoc documents: 100%|███████| 1/1 [00:00<00:00, 28532.68it/s]\n",
      "Retrieving MaterialsDoc documents: 100%|███████| 1/1 [00:00<00:00, 28728.11it/s]\n",
      "Retrieving MaterialsDoc documents: 100%|███████| 1/1 [00:00<00:00, 28532.68it/s]\n",
      "Retrieving MaterialsDoc documents: 100%|███████| 1/1 [00:00<00:00, 28532.68it/s]\n",
      "Retrieving MaterialsDoc documents: 100%|███████| 1/1 [00:00<00:00, 27776.85it/s]\n",
      "Retrieving MaterialsDoc documents: 100%|███████| 1/1 [00:00<00:00, 29330.80it/s]\n",
      "Retrieving MaterialsDoc documents: 100%|███████| 1/1 [00:00<00:00, 27776.85it/s]\n",
      "Retrieving MaterialsDoc documents: 100%|███████| 1/1 [00:00<00:00, 27594.11it/s]\n",
      "Retrieving MaterialsDoc documents: 0it [00:00, ?it/s]\n"
     ]
    },
    {
     "name": "stdout",
     "output_type": "stream",
     "text": [
      "Error occurred for material ID mp-716509: 'list' object has no attribute 'to'\n"
     ]
    },
    {
     "name": "stderr",
     "output_type": "stream",
     "text": [
      "Retrieving MaterialsDoc documents: 100%|███████| 1/1 [00:00<00:00, 28728.11it/s]\n",
      "Retrieving MaterialsDoc documents: 100%|███████| 1/1 [00:00<00:00, 27962.03it/s]\n",
      "Retrieving MaterialsDoc documents: 0it [00:00, ?it/s]\n"
     ]
    },
    {
     "name": "stdout",
     "output_type": "stream",
     "text": [
      "Error occurred for material ID mp-543096: 'list' object has no attribute 'to'\n"
     ]
    },
    {
     "name": "stderr",
     "output_type": "stream",
     "text": [
      "Retrieving MaterialsDoc documents: 100%|███████| 1/1 [00:00<00:00, 25731.93it/s]\n",
      "Retrieving MaterialsDoc documents: 100%|███████| 1/1 [00:00<00:00, 27776.85it/s]\n",
      "Retrieving MaterialsDoc documents: 100%|███████| 1/1 [00:00<00:00, 27776.85it/s]\n",
      "Retrieving MaterialsDoc documents: 100%|███████| 1/1 [00:00<00:00, 28532.68it/s]\n",
      "Retrieving MaterialsDoc documents: 100%|███████| 1/1 [00:00<00:00, 27962.03it/s]\n",
      "Retrieving MaterialsDoc documents: 100%|███████| 1/1 [00:00<00:00, 29330.80it/s]\n",
      "Retrieving MaterialsDoc documents: 100%|███████| 1/1 [00:00<00:00, 25115.59it/s]\n",
      "Retrieving MaterialsDoc documents: 100%|███████| 1/1 [00:00<00:00, 26379.27it/s]\n",
      "Retrieving MaterialsDoc documents: 100%|███████| 1/1 [00:00<00:00, 31300.78it/s]\n",
      "Retrieving MaterialsDoc documents: 100%|███████| 1/1 [00:00<00:00, 28728.11it/s]\n",
      "Retrieving MaterialsDoc documents: 100%|███████| 1/1 [00:00<00:00, 24528.09it/s]\n",
      "Retrieving MaterialsDoc documents: 0it [00:00, ?it/s]\n"
     ]
    },
    {
     "name": "stdout",
     "output_type": "stream",
     "text": [
      "Error occurred for material ID mp-556520: 'list' object has no attribute 'to'\n"
     ]
    },
    {
     "name": "stderr",
     "output_type": "stream",
     "text": [
      "Retrieving MaterialsDoc documents: 100%|███████| 1/1 [00:00<00:00, 27962.03it/s]\n",
      "Retrieving MaterialsDoc documents: 100%|███████| 1/1 [00:00<00:00, 27962.03it/s]\n",
      "Retrieving MaterialsDoc documents: 100%|███████| 1/1 [00:00<00:00, 22795.13it/s]\n",
      "Retrieving MaterialsDoc documents: 100%|███████| 1/1 [00:00<00:00, 26379.27it/s]\n",
      "Retrieving MaterialsDoc documents: 100%|███████| 1/1 [00:00<00:00, 29330.80it/s]\n",
      "Retrieving MaterialsDoc documents: 100%|███████| 1/1 [00:00<00:00, 28728.11it/s]\n",
      "Retrieving MaterialsDoc documents: 100%|███████| 1/1 [00:00<00:00, 28532.68it/s]\n",
      "Retrieving MaterialsDoc documents: 100%|███████| 1/1 [00:00<00:00, 27594.11it/s]\n",
      "Retrieving MaterialsDoc documents: 100%|███████| 1/1 [00:00<00:00, 30393.51it/s]\n",
      "Retrieving MaterialsDoc documents: 100%|███████| 1/1 [00:00<00:00, 30393.51it/s]\n",
      "Retrieving MaterialsDoc documents: 100%|███████| 1/1 [00:00<00:00, 28532.68it/s]\n",
      "Retrieving MaterialsDoc documents: 100%|███████| 1/1 [00:00<00:00, 27776.85it/s]\n",
      "Retrieving MaterialsDoc documents: 0it [00:00, ?it/s]\n"
     ]
    },
    {
     "name": "stdout",
     "output_type": "stream",
     "text": [
      "Error occurred for material ID mp-769889: 'list' object has no attribute 'to'\n"
     ]
    },
    {
     "name": "stderr",
     "output_type": "stream",
     "text": [
      "Retrieving MaterialsDoc documents: 100%|███████| 1/1 [00:00<00:00, 28532.68it/s]\n",
      "Retrieving MaterialsDoc documents: 0it [00:00, ?it/s]\n"
     ]
    },
    {
     "name": "stdout",
     "output_type": "stream",
     "text": [
      "Error occurred for material ID mp-765966: 'list' object has no attribute 'to'\n"
     ]
    },
    {
     "name": "stderr",
     "output_type": "stream",
     "text": [
      "Retrieving MaterialsDoc documents: 100%|███████| 1/1 [00:00<00:00, 27060.03it/s]\n",
      "Retrieving MaterialsDoc documents: 100%|███████| 1/1 [00:00<00:00, 29330.80it/s]\n",
      "Retrieving MaterialsDoc documents: 100%|███████| 1/1 [00:00<00:00, 29537.35it/s]\n",
      "Retrieving MaterialsDoc documents: 100%|███████| 1/1 [00:00<00:00, 27776.85it/s]\n",
      "Retrieving MaterialsDoc documents: 100%|███████| 1/1 [00:00<00:00, 25575.02it/s]\n",
      "Retrieving MaterialsDoc documents: 100%|███████| 1/1 [00:00<00:00, 28532.68it/s]\n",
      "Retrieving MaterialsDoc documents: 100%|███████| 1/1 [00:00<00:00, 27776.85it/s]\n",
      "Retrieving MaterialsDoc documents: 100%|███████| 1/1 [00:00<00:00, 29330.80it/s]\n",
      "Retrieving MaterialsDoc documents: 100%|███████| 1/1 [00:00<00:00, 30393.51it/s]\n",
      "Retrieving MaterialsDoc documents: 100%|███████| 1/1 [00:00<00:00, 29537.35it/s]\n",
      "Retrieving MaterialsDoc documents: 100%|███████| 1/1 [00:00<00:00, 27776.85it/s]\n",
      "Retrieving MaterialsDoc documents: 100%|███████| 1/1 [00:00<00:00, 28532.68it/s]\n",
      "Retrieving MaterialsDoc documents: 100%|███████| 1/1 [00:00<00:00, 31300.78it/s]\n",
      "Retrieving MaterialsDoc documents: 100%|███████| 1/1 [00:00<00:00, 27776.85it/s]\n",
      "Retrieving MaterialsDoc documents: 100%|███████| 1/1 [00:00<00:00, 29330.80it/s]\n",
      "Retrieving MaterialsDoc documents: 100%|███████| 1/1 [00:00<00:00, 29746.84it/s]\n",
      "Retrieving MaterialsDoc documents: 100%|███████| 1/1 [00:00<00:00, 19972.88it/s]\n",
      "Retrieving MaterialsDoc documents: 100%|███████| 1/1 [00:00<00:00, 27962.03it/s]\n",
      "Retrieving MaterialsDoc documents: 0it [00:00, ?it/s]\n"
     ]
    },
    {
     "name": "stdout",
     "output_type": "stream",
     "text": [
      "Error occurred for material ID mp-504878: 'list' object has no attribute 'to'\n"
     ]
    },
    {
     "name": "stderr",
     "output_type": "stream",
     "text": [
      "Retrieving MaterialsDoc documents: 100%|███████| 1/1 [00:00<00:00, 26886.56it/s]\n",
      "Retrieving MaterialsDoc documents: 100%|███████| 1/1 [00:00<00:00, 27594.11it/s]\n",
      "Retrieving MaterialsDoc documents: 100%|███████| 1/1 [00:00<00:00, 27776.85it/s]\n",
      "Retrieving MaterialsDoc documents: 100%|███████| 1/1 [00:00<00:00, 27594.11it/s]\n",
      "Retrieving MaterialsDoc documents: 100%|███████| 1/1 [00:00<00:00, 30393.51it/s]\n",
      "Retrieving MaterialsDoc documents: 100%|███████| 1/1 [00:00<00:00, 28728.11it/s]\n",
      "Retrieving MaterialsDoc documents: 100%|███████| 1/1 [00:00<00:00, 27235.74it/s]\n",
      "Retrieving MaterialsDoc documents: 100%|███████| 1/1 [00:00<00:00, 29537.35it/s]\n",
      "Retrieving MaterialsDoc documents: 100%|███████| 1/1 [00:00<00:00, 29330.80it/s]\n",
      "Retrieving MaterialsDoc documents: 100%|███████| 1/1 [00:00<00:00, 29330.80it/s]\n",
      "Retrieving MaterialsDoc documents: 100%|███████| 1/1 [00:00<00:00, 28532.68it/s]\n",
      "Retrieving MaterialsDoc documents: 100%|███████| 1/1 [00:00<00:00, 26214.40it/s]\n",
      "Retrieving MaterialsDoc documents: 100%|███████| 1/1 [00:00<00:00, 29330.80it/s]\n",
      "Retrieving MaterialsDoc documents: 100%|███████| 1/1 [00:00<00:00, 28728.11it/s]\n",
      "Retrieving MaterialsDoc documents: 100%|███████| 1/1 [00:00<00:00, 28532.68it/s]\n",
      "Retrieving MaterialsDoc documents: 100%|███████| 1/1 [00:00<00:00, 23696.63it/s]\n",
      "Retrieving MaterialsDoc documents: 100%|███████| 1/1 [00:00<00:00, 28532.68it/s]\n",
      "Retrieving MaterialsDoc documents: 100%|███████| 1/1 [00:00<00:00, 28728.11it/s]\n",
      "Retrieving MaterialsDoc documents: 100%|███████| 1/1 [00:00<00:00, 25731.93it/s]\n",
      "Retrieving MaterialsDoc documents: 100%|███████| 1/1 [00:00<00:00, 29330.80it/s]\n",
      "Retrieving MaterialsDoc documents: 100%|███████| 1/1 [00:00<00:00, 29537.35it/s]\n",
      "Retrieving MaterialsDoc documents: 100%|███████| 1/1 [00:00<00:00, 27060.03it/s]\n",
      "Retrieving MaterialsDoc documents: 100%|███████| 1/1 [00:00<00:00, 28532.68it/s]\n",
      "Retrieving MaterialsDoc documents: 100%|███████| 1/1 [00:00<00:00, 28532.68it/s]\n",
      "Retrieving MaterialsDoc documents: 100%|███████| 1/1 [00:00<00:00, 28728.11it/s]\n",
      "Retrieving MaterialsDoc documents: 100%|███████| 1/1 [00:00<00:00, 28532.68it/s]\n",
      "Retrieving MaterialsDoc documents: 100%|███████| 1/1 [00:00<00:00, 28532.68it/s]\n",
      "Retrieving MaterialsDoc documents: 100%|███████| 1/1 [00:00<00:00, 30174.85it/s]\n",
      "Retrieving MaterialsDoc documents: 100%|███████| 1/1 [00:00<00:00, 10485.76it/s]\n",
      "Retrieving MaterialsDoc documents: 100%|███████| 1/1 [00:00<00:00, 23172.95it/s]\n",
      "Retrieving MaterialsDoc documents: 100%|███████| 1/1 [00:00<00:00, 29330.80it/s]\n",
      "Retrieving MaterialsDoc documents: 100%|███████| 1/1 [00:00<00:00, 21620.12it/s]\n",
      "Retrieving MaterialsDoc documents: 100%|███████| 1/1 [00:00<00:00, 31300.78it/s]\n",
      "Retrieving MaterialsDoc documents: 100%|███████| 1/1 [00:00<00:00, 26886.56it/s]\n",
      "Retrieving MaterialsDoc documents: 100%|███████| 1/1 [00:00<00:00, 29330.80it/s]\n",
      "Retrieving MaterialsDoc documents: 100%|███████| 1/1 [00:00<00:00, 27060.03it/s]\n",
      "Retrieving MaterialsDoc documents: 100%|███████| 1/1 [00:00<00:00, 28532.68it/s]\n",
      "Retrieving MaterialsDoc documents: 100%|███████| 1/1 [00:00<00:00, 28532.68it/s]\n",
      "Retrieving MaterialsDoc documents: 100%|███████| 1/1 [00:00<00:00, 30174.85it/s]\n",
      "Retrieving MaterialsDoc documents: 100%|███████| 1/1 [00:00<00:00, 31068.92it/s]\n",
      "Retrieving MaterialsDoc documents: 100%|███████| 1/1 [00:00<00:00, 28532.68it/s]\n",
      "Retrieving MaterialsDoc documents: 100%|███████| 1/1 [00:00<00:00, 28532.68it/s]\n",
      "Retrieving MaterialsDoc documents: 100%|███████| 1/1 [00:00<00:00, 25731.93it/s]\n",
      "Retrieving MaterialsDoc documents: 100%|███████| 1/1 [00:00<00:00, 26379.27it/s]\n",
      "Retrieving MaterialsDoc documents: 100%|███████| 1/1 [00:00<00:00, 28532.68it/s]\n",
      "Retrieving MaterialsDoc documents: 100%|███████| 1/1 [00:00<00:00, 31068.92it/s]\n",
      "Retrieving MaterialsDoc documents: 100%|███████| 1/1 [00:00<00:00, 24966.10it/s]\n",
      "Retrieving MaterialsDoc documents: 100%|███████| 1/1 [00:00<00:00, 26379.27it/s]\n",
      "Retrieving MaterialsDoc documents: 100%|███████| 1/1 [00:00<00:00, 28532.68it/s]\n",
      "Retrieving MaterialsDoc documents: 100%|███████| 1/1 [00:00<00:00, 26886.56it/s]\n",
      "Retrieving MaterialsDoc documents: 100%|███████| 1/1 [00:00<00:00, 29537.35it/s]\n",
      "Retrieving MaterialsDoc documents: 0it [00:00, ?it/s]\n"
     ]
    },
    {
     "name": "stdout",
     "output_type": "stream",
     "text": [
      "Error occurred for material ID mp-765125: 'list' object has no attribute 'to'\n"
     ]
    },
    {
     "name": "stderr",
     "output_type": "stream",
     "text": [
      "Retrieving MaterialsDoc documents: 100%|███████| 1/1 [00:00<00:00, 31068.92it/s]\n",
      "Retrieving MaterialsDoc documents: 100%|███████| 1/1 [00:00<00:00, 27060.03it/s]\n",
      "Retrieving MaterialsDoc documents: 100%|███████| 1/1 [00:00<00:00, 19152.07it/s]\n",
      "Retrieving MaterialsDoc documents: 100%|███████| 1/1 [00:00<00:00, 31300.78it/s]\n",
      "Retrieving MaterialsDoc documents: 100%|███████| 1/1 [00:00<00:00, 30393.51it/s]\n",
      "Retrieving MaterialsDoc documents: 100%|███████| 1/1 [00:00<00:00, 27594.11it/s]\n",
      "Retrieving MaterialsDoc documents: 100%|███████| 1/1 [00:00<00:00, 26886.56it/s]\n",
      "Retrieving MaterialsDoc documents: 100%|███████| 1/1 [00:00<00:00, 30174.85it/s]\n",
      "Retrieving MaterialsDoc documents: 100%|███████| 1/1 [00:00<00:00, 32263.88it/s]\n",
      "Retrieving MaterialsDoc documents: 100%|███████| 1/1 [00:00<00:00, 30174.85it/s]\n",
      "Retrieving MaterialsDoc documents: 100%|███████| 1/1 [00:00<00:00, 28532.68it/s]\n",
      "Retrieving MaterialsDoc documents: 100%|███████| 1/1 [00:00<00:00, 27060.03it/s]\n",
      "Retrieving MaterialsDoc documents: 100%|███████| 1/1 [00:00<00:00, 26886.56it/s]\n",
      "Retrieving MaterialsDoc documents: 100%|███████| 1/1 [00:00<00:00, 30174.85it/s]\n",
      "Retrieving MaterialsDoc documents: 100%|███████| 1/1 [00:00<00:00, 28532.68it/s]\n",
      "Retrieving MaterialsDoc documents: 100%|███████| 1/1 [00:00<00:00, 29330.80it/s]\n",
      "Retrieving MaterialsDoc documents: 100%|███████| 1/1 [00:00<00:00, 30393.51it/s]\n",
      "Retrieving MaterialsDoc documents: 100%|███████| 1/1 [00:00<00:00, 28532.68it/s]\n",
      "Retrieving MaterialsDoc documents: 0it [00:00, ?it/s]\n"
     ]
    },
    {
     "name": "stdout",
     "output_type": "stream",
     "text": [
      "Error occurred for material ID mp-781777: 'list' object has no attribute 'to'\n"
     ]
    },
    {
     "name": "stderr",
     "output_type": "stream",
     "text": [
      "Retrieving MaterialsDoc documents: 100%|███████| 1/1 [00:00<00:00, 29537.35it/s]\n",
      "Retrieving MaterialsDoc documents: 100%|███████| 1/1 [00:00<00:00, 20763.88it/s]\n",
      "Retrieving MaterialsDoc documents: 100%|███████| 1/1 [00:00<00:00, 29330.80it/s]\n",
      "Retrieving MaterialsDoc documents: 100%|███████| 1/1 [00:00<00:00, 30174.85it/s]\n",
      "Retrieving MaterialsDoc documents: 100%|███████| 1/1 [00:00<00:00, 30174.85it/s]\n",
      "Retrieving MaterialsDoc documents: 100%|███████| 1/1 [00:00<00:00, 29330.80it/s]\n",
      "Retrieving MaterialsDoc documents: 100%|███████| 1/1 [00:00<00:00, 29330.80it/s]\n",
      "Retrieving MaterialsDoc documents: 100%|███████| 1/1 [00:00<00:00, 26379.27it/s]\n",
      "Retrieving MaterialsDoc documents: 100%|███████| 1/1 [00:00<00:00, 31300.78it/s]\n",
      "Retrieving MaterialsDoc documents: 100%|███████| 1/1 [00:00<00:00, 29330.80it/s]\n",
      "Retrieving MaterialsDoc documents: 100%|███████| 1/1 [00:00<00:00, 28728.11it/s]\n",
      "Retrieving MaterialsDoc documents: 0it [00:00, ?it/s]\n"
     ]
    },
    {
     "name": "stdout",
     "output_type": "stream",
     "text": [
      "Error occurred for material ID mp-771247: 'list' object has no attribute 'to'\n"
     ]
    },
    {
     "name": "stderr",
     "output_type": "stream",
     "text": [
      "Retrieving MaterialsDoc documents: 100%|███████| 1/1 [00:00<00:00, 30174.85it/s]\n",
      "Retrieving MaterialsDoc documents: 100%|███████| 1/1 [00:00<00:00, 31300.78it/s]\n",
      "Retrieving MaterialsDoc documents: 100%|███████| 1/1 [00:00<00:00, 30174.85it/s]\n",
      "Retrieving MaterialsDoc documents: 100%|███████| 1/1 [00:00<00:00, 28532.68it/s]\n",
      "Retrieving MaterialsDoc documents: 100%|███████| 1/1 [00:00<00:00, 32263.88it/s]\n",
      "Retrieving MaterialsDoc documents: 100%|███████| 1/1 [00:00<00:00, 31068.92it/s]\n",
      "Retrieving MaterialsDoc documents: 100%|███████| 1/1 [00:00<00:00, 26886.56it/s]\n",
      "Retrieving MaterialsDoc documents: 100%|███████| 1/1 [00:00<00:00, 21290.88it/s]\n",
      "Retrieving MaterialsDoc documents: 100%|███████| 1/1 [00:00<00:00, 26886.56it/s]\n",
      "Retrieving MaterialsDoc documents: 100%|███████| 1/1 [00:00<00:00, 32263.88it/s]\n",
      "Retrieving MaterialsDoc documents: 100%|███████| 1/1 [00:00<00:00, 31300.78it/s]\n",
      "Retrieving MaterialsDoc documents: 100%|███████| 1/1 [00:00<00:00, 27776.85it/s]\n",
      "Retrieving MaterialsDoc documents: 100%|███████| 1/1 [00:00<00:00, 28532.68it/s]\n",
      "Retrieving MaterialsDoc documents: 100%|███████| 1/1 [00:00<00:00, 31068.92it/s]\n",
      "Retrieving MaterialsDoc documents: 100%|███████| 1/1 [00:00<00:00, 29330.80it/s]\n",
      "Retrieving MaterialsDoc documents: 100%|███████| 1/1 [00:00<00:00, 28532.68it/s]\n",
      "Retrieving MaterialsDoc documents: 0it [00:00, ?it/s]\n"
     ]
    },
    {
     "name": "stdout",
     "output_type": "stream",
     "text": [
      "Error occurred for material ID mp-780539: 'list' object has no attribute 'to'\n"
     ]
    },
    {
     "name": "stderr",
     "output_type": "stream",
     "text": [
      "Retrieving MaterialsDoc documents: 100%|███████| 1/1 [00:00<00:00, 28532.68it/s]\n",
      "Retrieving MaterialsDoc documents: 100%|███████| 1/1 [00:00<00:00, 29330.80it/s]\n",
      "Retrieving MaterialsDoc documents: 100%|███████| 1/1 [00:00<00:00, 31068.92it/s]\n",
      "Retrieving MaterialsDoc documents: 100%|███████| 1/1 [00:00<00:00, 28728.11it/s]\n",
      "Retrieving MaterialsDoc documents: 100%|███████| 1/1 [00:00<00:00, 29330.80it/s]\n",
      "Retrieving MaterialsDoc documents: 100%|███████| 1/1 [00:00<00:00, 28728.11it/s]\n",
      "Retrieving MaterialsDoc documents: 100%|███████| 1/1 [00:00<00:00, 30393.51it/s]\n",
      "Retrieving MaterialsDoc documents: 100%|███████| 1/1 [00:00<00:00, 30393.51it/s]\n",
      "Retrieving MaterialsDoc documents: 100%|███████| 1/1 [00:00<00:00, 27776.85it/s]\n",
      "Retrieving MaterialsDoc documents: 0it [00:00, ?it/s]\n"
     ]
    },
    {
     "name": "stdout",
     "output_type": "stream",
     "text": [
      "Error occurred for material ID mp-763330: 'list' object has no attribute 'to'\n"
     ]
    },
    {
     "name": "stderr",
     "output_type": "stream",
     "text": [
      "Retrieving MaterialsDoc documents: 100%|███████| 1/1 [00:00<00:00, 24966.10it/s]\n",
      "Retrieving MaterialsDoc documents: 100%|███████| 1/1 [00:00<00:00, 30174.85it/s]\n",
      "Retrieving MaterialsDoc documents: 100%|███████| 1/1 [00:00<00:00, 31300.78it/s]\n",
      "Retrieving MaterialsDoc documents: 100%|███████| 1/1 [00:00<00:00, 31068.92it/s]\n",
      "Retrieving MaterialsDoc documents: 100%|███████| 1/1 [00:00<00:00, 28728.11it/s]\n",
      "Retrieving MaterialsDoc documents: 100%|███████| 1/1 [00:00<00:00, 28532.68it/s]\n",
      "Retrieving MaterialsDoc documents: 100%|███████| 1/1 [00:00<00:00, 30393.51it/s]\n",
      "Retrieving MaterialsDoc documents: 100%|███████| 1/1 [00:00<00:00, 30174.85it/s]\n",
      "Retrieving MaterialsDoc documents: 100%|███████| 1/1 [00:00<00:00, 28532.68it/s]\n",
      "Retrieving MaterialsDoc documents: 100%|███████| 1/1 [00:00<00:00, 28728.11it/s]\n",
      "Retrieving MaterialsDoc documents: 100%|███████| 1/1 [00:00<00:00, 30393.51it/s]\n",
      "Retrieving MaterialsDoc documents: 100%|███████| 1/1 [00:00<00:00, 25731.93it/s]\n",
      "Retrieving MaterialsDoc documents: 100%|███████| 1/1 [00:00<00:00, 27776.85it/s]\n",
      "Retrieving MaterialsDoc documents: 100%|███████| 1/1 [00:00<00:00, 18157.16it/s]\n",
      "Retrieving MaterialsDoc documents: 100%|███████| 1/1 [00:00<00:00, 29330.80it/s]\n",
      "Retrieving MaterialsDoc documents: 100%|███████| 1/1 [00:00<00:00, 30393.51it/s]\n",
      "Retrieving MaterialsDoc documents: 100%|███████| 1/1 [00:00<00:00, 31300.78it/s]\n",
      "Retrieving MaterialsDoc documents: 100%|███████| 1/1 [00:00<00:00, 28532.68it/s]\n",
      "Retrieving MaterialsDoc documents: 100%|███████| 1/1 [00:00<00:00, 22795.13it/s]\n",
      "Retrieving MaterialsDoc documents: 100%|███████| 1/1 [00:00<00:00, 30393.51it/s]\n",
      "Retrieving MaterialsDoc documents: 100%|███████| 1/1 [00:00<00:00, 18893.26it/s]\n",
      "Retrieving MaterialsDoc documents: 100%|███████| 1/1 [00:00<00:00, 26379.27it/s]\n",
      "Retrieving MaterialsDoc documents: 100%|███████| 1/1 [00:00<00:00, 24966.10it/s]\n",
      "Retrieving MaterialsDoc documents: 100%|███████| 1/1 [00:00<00:00, 27060.03it/s]\n",
      "Retrieving MaterialsDoc documents: 100%|███████| 1/1 [00:00<00:00, 26886.56it/s]\n",
      "Retrieving MaterialsDoc documents: 100%|███████| 1/1 [00:00<00:00, 29330.80it/s]\n",
      "Retrieving MaterialsDoc documents: 100%|███████| 1/1 [00:00<00:00, 26214.40it/s]\n",
      "Retrieving MaterialsDoc documents: 100%|███████| 1/1 [00:00<00:00, 30393.51it/s]\n",
      "Retrieving MaterialsDoc documents: 100%|███████| 1/1 [00:00<00:00, 29537.35it/s]\n",
      "Retrieving MaterialsDoc documents: 100%|███████| 1/1 [00:00<00:00, 30393.51it/s]\n",
      "Retrieving MaterialsDoc documents: 100%|███████| 1/1 [00:00<00:00, 26214.40it/s]\n",
      "Retrieving MaterialsDoc documents: 100%|███████| 1/1 [00:00<00:00, 28728.11it/s]\n",
      "Retrieving MaterialsDoc documents: 100%|███████| 1/1 [00:00<00:00, 29330.80it/s]\n",
      "Retrieving MaterialsDoc documents: 100%|███████| 1/1 [00:00<00:00, 27594.11it/s]\n",
      "Retrieving MaterialsDoc documents: 100%|███████| 1/1 [00:00<00:00, 29537.35it/s]\n",
      "Retrieving MaterialsDoc documents: 100%|███████| 1/1 [00:00<00:00, 29330.80it/s]\n",
      "Retrieving MaterialsDoc documents: 100%|███████| 1/1 [00:00<00:00, 25115.59it/s]\n",
      "Retrieving MaterialsDoc documents: 100%|███████| 1/1 [00:00<00:00, 29746.84it/s]\n",
      "Retrieving MaterialsDoc documents: 100%|███████| 1/1 [00:00<00:00, 31300.78it/s]\n",
      "Retrieving MaterialsDoc documents: 100%|███████| 1/1 [00:00<00:00, 34663.67it/s]\n",
      "Retrieving MaterialsDoc documents: 100%|███████| 1/1 [00:00<00:00, 30174.85it/s]\n",
      "Retrieving MaterialsDoc documents: 100%|███████| 1/1 [00:00<00:00, 28532.68it/s]\n",
      "Retrieving MaterialsDoc documents: 100%|███████| 1/1 [00:00<00:00, 29330.80it/s]\n",
      "Retrieving MaterialsDoc documents: 100%|███████| 1/1 [00:00<00:00, 32263.88it/s]\n",
      "Retrieving MaterialsDoc documents: 0it [00:00, ?it/s]\n"
     ]
    },
    {
     "name": "stdout",
     "output_type": "stream",
     "text": [
      "Error occurred for material ID mp-24964: 'list' object has no attribute 'to'\n"
     ]
    },
    {
     "name": "stderr",
     "output_type": "stream",
     "text": [
      "Retrieving MaterialsDoc documents: 100%|███████| 1/1 [00:00<00:00, 27060.03it/s]\n",
      "Retrieving MaterialsDoc documents: 100%|███████| 1/1 [00:00<00:00, 24385.49it/s]\n",
      "Retrieving MaterialsDoc documents: 100%|███████| 1/1 [00:00<00:00, 26886.56it/s]\n",
      "Retrieving MaterialsDoc documents: 100%|███████| 1/1 [00:00<00:00, 30393.51it/s]\n",
      "Retrieving MaterialsDoc documents: 100%|███████| 1/1 [00:00<00:00, 28532.68it/s]\n",
      "Retrieving MaterialsDoc documents: 100%|███████| 1/1 [00:00<00:00, 19239.93it/s]\n",
      "Retrieving MaterialsDoc documents: 100%|███████| 1/1 [00:00<00:00, 32263.88it/s]\n",
      "Retrieving MaterialsDoc documents: 0it [00:00, ?it/s]\n"
     ]
    },
    {
     "name": "stdout",
     "output_type": "stream",
     "text": [
      "Error occurred for material ID mp-772246: 'list' object has no attribute 'to'\n"
     ]
    },
    {
     "name": "stderr",
     "output_type": "stream",
     "text": [
      "Retrieving MaterialsDoc documents: 100%|███████| 1/1 [00:00<00:00, 30174.85it/s]\n",
      "Retrieving MaterialsDoc documents: 100%|███████| 1/1 [00:00<00:00, 28532.68it/s]\n",
      "Retrieving MaterialsDoc documents: 100%|███████| 1/1 [00:00<00:00, 26886.56it/s]\n",
      "Retrieving MaterialsDoc documents: 100%|███████| 1/1 [00:00<00:00, 31300.78it/s]\n",
      "Retrieving MaterialsDoc documents: 100%|███████| 1/1 [00:00<00:00, 28532.68it/s]\n",
      "Retrieving MaterialsDoc documents: 100%|███████| 1/1 [00:00<00:00, 26546.23it/s]\n",
      "Retrieving MaterialsDoc documents: 100%|███████| 1/1 [00:00<00:00, 29537.35it/s]\n",
      "Retrieving MaterialsDoc documents: 100%|███████| 1/1 [00:00<00:00, 30393.51it/s]\n",
      "Retrieving MaterialsDoc documents: 0it [00:00, ?it/s]\n"
     ]
    },
    {
     "name": "stdout",
     "output_type": "stream",
     "text": [
      "Error occurred for material ID mp-24864: 'list' object has no attribute 'to'\n"
     ]
    },
    {
     "name": "stderr",
     "output_type": "stream",
     "text": [
      "Retrieving MaterialsDoc documents: 100%|███████| 1/1 [00:00<00:00, 28532.68it/s]\n",
      "Retrieving MaterialsDoc documents: 100%|███████| 1/1 [00:00<00:00, 28532.68it/s]\n",
      "Retrieving MaterialsDoc documents: 100%|███████| 1/1 [00:00<00:00, 30393.51it/s]\n",
      "Retrieving MaterialsDoc documents: 100%|███████| 1/1 [00:00<00:00, 29537.35it/s]\n",
      "Retrieving MaterialsDoc documents: 100%|███████| 1/1 [00:00<00:00, 19972.88it/s]\n",
      "Retrieving MaterialsDoc documents: 100%|███████| 1/1 [00:00<00:00, 32263.88it/s]\n",
      "Retrieving MaterialsDoc documents: 100%|███████| 1/1 [00:00<00:00, 29330.80it/s]\n",
      "Retrieving MaterialsDoc documents: 100%|███████| 1/1 [00:00<00:00, 30174.85it/s]\n",
      "Retrieving MaterialsDoc documents: 100%|███████| 1/1 [00:00<00:00, 28339.89it/s]\n",
      "Retrieving MaterialsDoc documents: 100%|███████| 1/1 [00:00<00:00, 28532.68it/s]\n",
      "Retrieving MaterialsDoc documents: 100%|███████| 1/1 [00:00<00:00, 28339.89it/s]\n",
      "Retrieving MaterialsDoc documents: 100%|███████| 1/1 [00:00<00:00, 32263.88it/s]\n",
      "Retrieving MaterialsDoc documents: 100%|███████| 1/1 [00:00<00:00, 28532.68it/s]\n",
      "Retrieving MaterialsDoc documents: 100%|███████| 1/1 [00:00<00:00, 28532.68it/s]\n",
      "Retrieving MaterialsDoc documents: 100%|███████| 1/1 [00:00<00:00, 30174.85it/s]\n",
      "Retrieving MaterialsDoc documents: 100%|███████| 1/1 [00:00<00:00, 30393.51it/s]\n",
      "Retrieving MaterialsDoc documents: 100%|███████| 1/1 [00:00<00:00, 28728.11it/s]\n",
      "Retrieving MaterialsDoc documents: 100%|███████| 1/1 [00:00<00:00, 29537.35it/s]\n",
      "Retrieving MaterialsDoc documents: 100%|███████| 1/1 [00:00<00:00, 31300.78it/s]\n",
      "Retrieving MaterialsDoc documents: 100%|███████| 1/1 [00:00<00:00, 29537.35it/s]\n",
      "Retrieving MaterialsDoc documents: 100%|███████| 1/1 [00:00<00:00, 30174.85it/s]\n",
      "Retrieving MaterialsDoc documents: 100%|███████| 1/1 [00:00<00:00, 29330.80it/s]\n",
      "Retrieving MaterialsDoc documents: 100%|███████| 1/1 [00:00<00:00, 19878.22it/s]\n",
      "Retrieving MaterialsDoc documents: 0it [00:00, ?it/s]\n"
     ]
    },
    {
     "name": "stdout",
     "output_type": "stream",
     "text": [
      "Error occurred for material ID mp-24932: 'list' object has no attribute 'to'\n"
     ]
    },
    {
     "name": "stderr",
     "output_type": "stream",
     "text": [
      "Retrieving MaterialsDoc documents: 100%|███████| 1/1 [00:00<00:00, 27962.03it/s]\n",
      "Retrieving MaterialsDoc documents: 100%|███████| 1/1 [00:00<00:00, 30174.85it/s]\n",
      "Retrieving MaterialsDoc documents: 100%|███████| 1/1 [00:00<00:00, 29330.80it/s]\n",
      "Retrieving MaterialsDoc documents: 100%|███████| 1/1 [00:00<00:00, 26379.27it/s]\n",
      "Retrieving MaterialsDoc documents: 100%|███████| 1/1 [00:00<00:00, 30393.51it/s]\n",
      "Retrieving MaterialsDoc documents: 100%|███████| 1/1 [00:00<00:00, 28532.68it/s]\n",
      "Retrieving MaterialsDoc documents: 100%|███████| 1/1 [00:00<00:00, 31300.78it/s]\n",
      "Retrieving MaterialsDoc documents: 100%|███████| 1/1 [00:00<00:00, 30174.85it/s]\n",
      "Retrieving MaterialsDoc documents: 100%|███████| 1/1 [00:00<00:00, 28532.68it/s]\n",
      "Retrieving MaterialsDoc documents: 0it [00:00, ?it/s]\n"
     ]
    },
    {
     "name": "stdout",
     "output_type": "stream",
     "text": [
      "Error occurred for material ID mp-705538: 'list' object has no attribute 'to'\n"
     ]
    },
    {
     "name": "stderr",
     "output_type": "stream",
     "text": [
      "Retrieving MaterialsDoc documents: 100%|███████| 1/1 [00:00<00:00, 27962.03it/s]\n",
      "Retrieving MaterialsDoc documents: 100%|███████| 1/1 [00:00<00:00, 28532.68it/s]\n",
      "Retrieving MaterialsDoc documents: 100%|███████| 1/1 [00:00<00:00, 28728.11it/s]\n",
      "Retrieving MaterialsDoc documents: 100%|███████| 1/1 [00:00<00:00, 30393.51it/s]\n",
      "Retrieving MaterialsDoc documents: 100%|███████| 1/1 [00:00<00:00, 29537.35it/s]\n",
      "Retrieving MaterialsDoc documents: 100%|███████| 1/1 [00:00<00:00, 31300.78it/s]\n",
      "Retrieving MaterialsDoc documents: 100%|███████| 1/1 [00:00<00:00, 30174.85it/s]\n",
      "Retrieving MaterialsDoc documents: 0it [00:00, ?it/s]\n"
     ]
    },
    {
     "name": "stdout",
     "output_type": "stream",
     "text": [
      "Error occurred for material ID mp-763300: 'list' object has no attribute 'to'\n"
     ]
    },
    {
     "name": "stderr",
     "output_type": "stream",
     "text": [
      "Retrieving MaterialsDoc documents: 100%|███████| 1/1 [00:00<00:00, 30174.85it/s]\n",
      "Retrieving MaterialsDoc documents: 100%|███████| 1/1 [00:00<00:00, 30174.85it/s]\n",
      "Retrieving MaterialsDoc documents: 100%|███████| 1/1 [00:00<00:00, 30393.51it/s]\n",
      "Retrieving MaterialsDoc documents: 100%|███████| 1/1 [00:00<00:00, 29330.80it/s]\n",
      "Retrieving MaterialsDoc documents: 100%|███████| 1/1 [00:00<00:00, 31300.78it/s]\n",
      "Retrieving MaterialsDoc documents: 100%|███████| 1/1 [00:00<00:00, 31300.78it/s]\n",
      "Retrieving MaterialsDoc documents: 100%|███████| 1/1 [00:00<00:00, 32263.88it/s]\n",
      "Retrieving MaterialsDoc documents: 100%|███████| 1/1 [00:00<00:00, 30174.85it/s]\n",
      "Retrieving MaterialsDoc documents: 100%|███████| 1/1 [00:00<00:00, 27060.03it/s]\n",
      "Retrieving MaterialsDoc documents: 100%|███████| 1/1 [00:00<00:00, 31300.78it/s]\n",
      "Retrieving MaterialsDoc documents: 100%|███████| 1/1 [00:00<00:00, 27060.03it/s]\n",
      "Retrieving MaterialsDoc documents: 100%|███████| 1/1 [00:00<00:00, 27060.03it/s]\n",
      "Retrieving MaterialsDoc documents: 100%|███████| 1/1 [00:00<00:00, 28532.68it/s]\n",
      "Retrieving MaterialsDoc documents: 100%|███████| 1/1 [00:00<00:00, 28532.68it/s]\n",
      "Retrieving MaterialsDoc documents: 100%|███████| 1/1 [00:00<00:00, 29537.35it/s]\n",
      "Retrieving MaterialsDoc documents: 0it [00:00, ?it/s]\n"
     ]
    },
    {
     "name": "stdout",
     "output_type": "stream",
     "text": [
      "Error occurred for material ID mp-771663: 'list' object has no attribute 'to'\n"
     ]
    },
    {
     "name": "stderr",
     "output_type": "stream",
     "text": [
      "Retrieving MaterialsDoc documents: 100%|███████| 1/1 [00:00<00:00, 26379.27it/s]\n",
      "Retrieving MaterialsDoc documents: 100%|███████| 1/1 [00:00<00:00, 30393.51it/s]\n",
      "Retrieving MaterialsDoc documents: 100%|███████| 1/1 [00:00<00:00, 27962.03it/s]\n",
      "Retrieving MaterialsDoc documents: 100%|███████| 1/1 [00:00<00:00, 25731.93it/s]\n",
      "Retrieving MaterialsDoc documents: 100%|███████| 1/1 [00:00<00:00, 26886.56it/s]\n",
      "Retrieving MaterialsDoc documents: 100%|███████| 1/1 [00:00<00:00, 28532.68it/s]\n",
      "Retrieving MaterialsDoc documents: 100%|███████| 1/1 [00:00<00:00, 29537.35it/s]\n",
      "Retrieving MaterialsDoc documents: 100%|███████| 1/1 [00:00<00:00, 22192.08it/s]\n",
      "Retrieving MaterialsDoc documents: 100%|███████| 1/1 [00:00<00:00, 26379.27it/s]\n",
      "Retrieving MaterialsDoc documents: 0it [00:00, ?it/s]\n"
     ]
    },
    {
     "name": "stdout",
     "output_type": "stream",
     "text": [
      "Error occurred for material ID mp-768030: 'list' object has no attribute 'to'\n"
     ]
    },
    {
     "name": "stderr",
     "output_type": "stream",
     "text": [
      "Retrieving MaterialsDoc documents: 100%|███████| 1/1 [00:00<00:00, 28532.68it/s]\n",
      "Retrieving MaterialsDoc documents: 100%|███████| 1/1 [00:00<00:00, 22310.13it/s]\n",
      "Retrieving MaterialsDoc documents: 100%|███████| 1/1 [00:00<00:00, 15141.89it/s]\n",
      "Retrieving MaterialsDoc documents: 100%|███████| 1/1 [00:00<00:00, 24966.10it/s]\n",
      "Retrieving MaterialsDoc documents: 100%|███████| 1/1 [00:00<00:00, 28532.68it/s]\n",
      "Retrieving MaterialsDoc documents: 100%|███████| 1/1 [00:00<00:00, 27776.85it/s]\n",
      "Retrieving MaterialsDoc documents: 100%|███████| 1/1 [00:00<00:00, 28532.68it/s]\n",
      "Retrieving MaterialsDoc documents: 100%|███████| 1/1 [00:00<00:00, 30393.51it/s]\n",
      "Retrieving MaterialsDoc documents: 0it [00:00, ?it/s]\n"
     ]
    },
    {
     "name": "stdout",
     "output_type": "stream",
     "text": [
      "Error occurred for material ID mp-774160: 'list' object has no attribute 'to'\n"
     ]
    },
    {
     "name": "stderr",
     "output_type": "stream",
     "text": [
      "Retrieving MaterialsDoc documents: 100%|███████| 1/1 [00:00<00:00, 27060.03it/s]\n",
      "Retrieving MaterialsDoc documents: 100%|███████| 1/1 [00:00<00:00, 29330.80it/s]\n",
      "Retrieving MaterialsDoc documents: 100%|███████| 1/1 [00:00<00:00, 27594.11it/s]\n",
      "Retrieving MaterialsDoc documents: 100%|███████| 1/1 [00:00<00:00, 29537.35it/s]\n",
      "Retrieving MaterialsDoc documents: 100%|███████| 1/1 [00:00<00:00, 31300.78it/s]\n",
      "Retrieving MaterialsDoc documents: 100%|███████| 1/1 [00:00<00:00, 29330.80it/s]\n",
      "Retrieving MaterialsDoc documents: 100%|███████| 1/1 [00:00<00:00, 30615.36it/s]\n",
      "Retrieving MaterialsDoc documents: 100%|███████| 1/1 [00:00<00:00, 29537.35it/s]\n",
      "Retrieving MaterialsDoc documents: 100%|███████| 1/1 [00:00<00:00, 28532.68it/s]\n",
      "Retrieving MaterialsDoc documents: 100%|███████| 1/1 [00:00<00:00, 27776.85it/s]\n",
      "Retrieving MaterialsDoc documents: 100%|███████| 1/1 [00:00<00:00, 27962.03it/s]\n",
      "Retrieving MaterialsDoc documents: 0it [00:00, ?it/s]\n"
     ]
    },
    {
     "name": "stdout",
     "output_type": "stream",
     "text": [
      "Error occurred for material ID mp-25001: 'list' object has no attribute 'to'\n"
     ]
    },
    {
     "name": "stderr",
     "output_type": "stream",
     "text": [
      "Retrieving MaterialsDoc documents: 100%|███████| 1/1 [00:00<00:00, 28532.68it/s]\n",
      "Retrieving MaterialsDoc documents: 100%|███████| 1/1 [00:00<00:00, 28532.68it/s]\n",
      "Retrieving MaterialsDoc documents: 100%|███████| 1/1 [00:00<00:00, 28532.68it/s]\n",
      "Retrieving MaterialsDoc documents: 100%|███████| 1/1 [00:00<00:00, 29330.80it/s]\n",
      "Retrieving MaterialsDoc documents: 100%|███████| 1/1 [00:00<00:00, 27962.03it/s]\n",
      "Retrieving MaterialsDoc documents: 100%|███████| 1/1 [00:00<00:00, 29537.35it/s]\n",
      "Retrieving MaterialsDoc documents: 100%|███████| 1/1 [00:00<00:00, 27962.03it/s]\n",
      "Retrieving MaterialsDoc documents: 100%|███████| 1/1 [00:00<00:00, 28532.68it/s]\n",
      "Retrieving MaterialsDoc documents: 100%|███████| 1/1 [00:00<00:00, 30615.36it/s]\n",
      "Retrieving MaterialsDoc documents: 100%|███████| 1/1 [00:00<00:00, 27060.03it/s]\n",
      "Retrieving MaterialsDoc documents: 100%|███████| 1/1 [00:00<00:00, 27594.11it/s]\n",
      "Retrieving MaterialsDoc documents: 100%|███████| 1/1 [00:00<00:00, 28532.68it/s]\n",
      "Retrieving MaterialsDoc documents: 100%|███████| 1/1 [00:00<00:00, 28532.68it/s]\n",
      "Retrieving MaterialsDoc documents: 100%|███████| 1/1 [00:00<00:00, 26214.40it/s]\n",
      "Retrieving MaterialsDoc documents: 100%|███████| 1/1 [00:00<00:00, 28728.11it/s]\n",
      "Retrieving MaterialsDoc documents: 100%|███████| 1/1 [00:00<00:00, 31068.92it/s]\n",
      "Retrieving MaterialsDoc documents: 100%|███████| 1/1 [00:00<00:00, 27962.03it/s]\n",
      "Retrieving MaterialsDoc documents: 100%|███████| 1/1 [00:00<00:00, 30174.85it/s]\n",
      "Retrieving MaterialsDoc documents: 100%|███████| 1/1 [00:00<00:00, 29330.80it/s]\n",
      "Retrieving MaterialsDoc documents: 100%|███████| 1/1 [00:00<00:00, 28339.89it/s]\n",
      "Retrieving MaterialsDoc documents: 100%|███████| 1/1 [00:00<00:00, 29537.35it/s]\n",
      "Retrieving MaterialsDoc documents: 0it [00:00, ?it/s]\n"
     ]
    },
    {
     "name": "stdout",
     "output_type": "stream",
     "text": [
      "Error occurred for material ID mp-764322: 'list' object has no attribute 'to'\n"
     ]
    },
    {
     "name": "stderr",
     "output_type": "stream",
     "text": [
      "Retrieving MaterialsDoc documents: 100%|███████| 1/1 [00:00<00:00, 26886.56it/s]\n",
      "Retrieving MaterialsDoc documents: 100%|███████| 1/1 [00:00<00:00, 28339.89it/s]\n",
      "Retrieving MaterialsDoc documents: 100%|███████| 1/1 [00:00<00:00, 30393.51it/s]\n",
      "Retrieving MaterialsDoc documents: 100%|███████| 1/1 [00:00<00:00, 30393.51it/s]\n",
      "Retrieving MaterialsDoc documents: 100%|███████| 1/1 [00:00<00:00, 28728.11it/s]\n",
      "Retrieving MaterialsDoc documents: 100%|███████| 1/1 [00:00<00:00, 27594.11it/s]\n",
      "Retrieving MaterialsDoc documents: 100%|███████| 1/1 [00:00<00:00, 25731.93it/s]\n",
      "Retrieving MaterialsDoc documents: 100%|███████| 1/1 [00:00<00:00, 29330.80it/s]\n",
      "Retrieving MaterialsDoc documents: 100%|███████| 1/1 [00:00<00:00, 15887.52it/s]\n",
      "Retrieving MaterialsDoc documents: 100%|███████| 1/1 [00:00<00:00, 28339.89it/s]\n",
      "Retrieving MaterialsDoc documents: 100%|███████| 1/1 [00:00<00:00, 26886.56it/s]\n",
      "Retrieving MaterialsDoc documents: 100%|███████| 1/1 [00:00<00:00, 28728.11it/s]\n",
      "Retrieving MaterialsDoc documents: 100%|███████| 1/1 [00:00<00:00, 27594.11it/s]\n",
      "Retrieving MaterialsDoc documents: 100%|███████| 1/1 [00:00<00:00, 29330.80it/s]\n",
      "Retrieving MaterialsDoc documents: 100%|███████| 1/1 [00:00<00:00, 31300.78it/s]\n",
      "Retrieving MaterialsDoc documents: 100%|███████| 1/1 [00:00<00:00, 29330.80it/s]\n",
      "Retrieving MaterialsDoc documents: 100%|███████| 1/1 [00:00<00:00, 27594.11it/s]\n",
      "Retrieving MaterialsDoc documents: 100%|███████| 1/1 [00:00<00:00, 27776.85it/s]\n",
      "Retrieving MaterialsDoc documents: 100%|███████| 1/1 [00:00<00:00, 27060.03it/s]\n",
      "Retrieving MaterialsDoc documents: 100%|███████| 1/1 [00:00<00:00, 28532.68it/s]\n",
      "Retrieving MaterialsDoc documents: 100%|███████| 1/1 [00:00<00:00, 29537.35it/s]\n",
      "Retrieving MaterialsDoc documents: 100%|███████| 1/1 [00:00<00:00, 29537.35it/s]\n",
      "Retrieving MaterialsDoc documents: 100%|███████| 1/1 [00:00<00:00, 26214.40it/s]\n",
      "Retrieving MaterialsDoc documents: 100%|███████| 1/1 [00:00<00:00, 29330.80it/s]\n",
      "Retrieving MaterialsDoc documents: 100%|███████| 1/1 [00:00<00:00, 28532.68it/s]\n",
      "Retrieving MaterialsDoc documents: 100%|███████| 1/1 [00:00<00:00, 29537.35it/s]\n",
      "Retrieving MaterialsDoc documents: 100%|███████| 1/1 [00:00<00:00, 25115.59it/s]\n",
      "Retrieving MaterialsDoc documents: 100%|███████| 1/1 [00:00<00:00, 27962.03it/s]\n",
      "Retrieving MaterialsDoc documents: 100%|███████| 1/1 [00:00<00:00, 29746.84it/s]\n",
      "Retrieving MaterialsDoc documents: 100%|███████| 1/1 [00:00<00:00, 30615.36it/s]\n",
      "Retrieving MaterialsDoc documents: 100%|███████| 1/1 [00:00<00:00, 30393.51it/s]\n",
      "Retrieving MaterialsDoc documents: 100%|███████| 1/1 [00:00<00:00, 28532.68it/s]\n",
      "Retrieving MaterialsDoc documents: 100%|███████| 1/1 [00:00<00:00, 28728.11it/s]\n",
      "Retrieving MaterialsDoc documents: 100%|███████| 1/1 [00:00<00:00, 29537.35it/s]\n",
      "Retrieving MaterialsDoc documents: 100%|███████| 1/1 [00:00<00:00, 28532.68it/s]\n",
      "Retrieving MaterialsDoc documents: 100%|███████| 1/1 [00:00<00:00, 29537.35it/s]\n",
      "Retrieving MaterialsDoc documents: 100%|███████| 1/1 [00:00<00:00, 30615.36it/s]\n",
      "Retrieving MaterialsDoc documents: 100%|███████| 1/1 [00:00<00:00, 28728.11it/s]\n",
      "Retrieving MaterialsDoc documents: 100%|███████| 1/1 [00:00<00:00, 27962.03it/s]\n",
      "Retrieving MaterialsDoc documents: 100%|███████| 1/1 [00:00<00:00, 18477.11it/s]\n",
      "Retrieving MaterialsDoc documents: 100%|███████| 1/1 [00:00<00:00, 26886.56it/s]\n",
      "Retrieving MaterialsDoc documents: 100%|███████| 1/1 [00:00<00:00, 29330.80it/s]\n",
      "Retrieving MaterialsDoc documents: 0it [00:00, ?it/s]\n"
     ]
    },
    {
     "name": "stdout",
     "output_type": "stream",
     "text": [
      "Error occurred for material ID mp-565771: 'list' object has no attribute 'to'\n"
     ]
    },
    {
     "name": "stderr",
     "output_type": "stream",
     "text": [
      "Retrieving MaterialsDoc documents: 100%|███████| 1/1 [00:00<00:00, 27594.11it/s]\n",
      "Retrieving MaterialsDoc documents: 100%|███████| 1/1 [00:00<00:00, 27776.85it/s]\n",
      "Retrieving MaterialsDoc documents: 100%|███████| 1/1 [00:00<00:00, 31068.92it/s]\n",
      "Retrieving MaterialsDoc documents: 0it [00:00, ?it/s]\n"
     ]
    },
    {
     "name": "stdout",
     "output_type": "stream",
     "text": [
      "Error occurred for material ID mp-561078: 'list' object has no attribute 'to'\n"
     ]
    },
    {
     "name": "stderr",
     "output_type": "stream",
     "text": [
      "Retrieving MaterialsDoc documents: 100%|███████| 1/1 [00:00<00:00, 28532.68it/s]\n",
      "Retrieving MaterialsDoc documents: 100%|███████| 1/1 [00:00<00:00, 27962.03it/s]\n",
      "Retrieving MaterialsDoc documents: 100%|███████| 1/1 [00:00<00:00, 27776.85it/s]\n",
      "Retrieving MaterialsDoc documents: 100%|███████| 1/1 [00:00<00:00, 28532.68it/s]\n",
      "Retrieving MaterialsDoc documents: 100%|███████| 1/1 [00:00<00:00, 28532.68it/s]\n",
      "Retrieving MaterialsDoc documents: 100%|███████| 1/1 [00:00<00:00, 26379.27it/s]\n",
      "Retrieving MaterialsDoc documents: 100%|███████| 1/1 [00:00<00:00, 20460.02it/s]\n",
      "Retrieving MaterialsDoc documents: 100%|███████| 1/1 [00:00<00:00, 27962.03it/s]\n",
      "Retrieving MaterialsDoc documents: 100%|███████| 1/1 [00:00<00:00, 31300.78it/s]\n",
      "Retrieving MaterialsDoc documents: 100%|███████| 1/1 [00:00<00:00, 29330.80it/s]\n",
      "Retrieving MaterialsDoc documents: 100%|███████| 1/1 [00:00<00:00, 28728.11it/s]\n",
      "Retrieving MaterialsDoc documents: 100%|███████| 1/1 [00:00<00:00, 20867.18it/s]\n",
      "Retrieving MaterialsDoc documents: 100%|███████| 1/1 [00:00<00:00, 30393.51it/s]\n",
      "Retrieving MaterialsDoc documents: 100%|███████| 1/1 [00:00<00:00, 28532.68it/s]\n",
      "Retrieving MaterialsDoc documents: 100%|███████| 1/1 [00:00<00:00, 28532.68it/s]\n",
      "Retrieving MaterialsDoc documents: 100%|███████| 1/1 [00:00<00:00, 28339.89it/s]\n",
      "Retrieving MaterialsDoc documents: 100%|███████| 1/1 [00:00<00:00, 29330.80it/s]\n",
      "Retrieving MaterialsDoc documents: 100%|███████| 1/1 [00:00<00:00, 28532.68it/s]\n",
      "Retrieving MaterialsDoc documents: 100%|███████| 1/1 [00:00<00:00, 29330.80it/s]\n",
      "Retrieving MaterialsDoc documents: 100%|███████| 1/1 [00:00<00:00, 27776.85it/s]\n",
      "Retrieving MaterialsDoc documents: 100%|███████| 1/1 [00:00<00:00, 28532.68it/s]\n",
      "Retrieving MaterialsDoc documents: 100%|███████| 1/1 [00:00<00:00, 28728.11it/s]\n",
      "Retrieving MaterialsDoc documents: 100%|███████| 1/1 [00:00<00:00, 30174.85it/s]\n",
      "Retrieving MaterialsDoc documents: 100%|███████| 1/1 [00:00<00:00, 31068.92it/s]\n",
      "Retrieving MaterialsDoc documents: 100%|███████| 1/1 [00:00<00:00, 29330.80it/s]\n",
      "Retrieving MaterialsDoc documents: 100%|███████| 1/1 [00:00<00:00, 29330.80it/s]\n",
      "Retrieving MaterialsDoc documents: 100%|███████| 1/1 [00:00<00:00, 30174.85it/s]\n",
      "Retrieving MaterialsDoc documents: 100%|███████| 1/1 [00:00<00:00, 28532.68it/s]\n",
      "Retrieving MaterialsDoc documents: 100%|███████| 1/1 [00:00<00:00, 30393.51it/s]\n",
      "Retrieving MaterialsDoc documents: 100%|███████| 1/1 [00:00<00:00, 26379.27it/s]\n",
      "Retrieving MaterialsDoc documents: 100%|███████| 1/1 [00:00<00:00, 28728.11it/s]\n",
      "Retrieving MaterialsDoc documents: 0it [00:00, ?it/s]\n"
     ]
    },
    {
     "name": "stdout",
     "output_type": "stream",
     "text": [
      "Error occurred for material ID mp-672216: 'list' object has no attribute 'to'\n"
     ]
    },
    {
     "name": "stderr",
     "output_type": "stream",
     "text": [
      "Retrieving MaterialsDoc documents: 0it [00:00, ?it/s]\n"
     ]
    },
    {
     "name": "stdout",
     "output_type": "stream",
     "text": [
      "Error occurred for material ID mp-715460: 'list' object has no attribute 'to'\n"
     ]
    },
    {
     "name": "stderr",
     "output_type": "stream",
     "text": [
      "Retrieving MaterialsDoc documents: 100%|███████| 1/1 [00:00<00:00, 27962.03it/s]\n",
      "Retrieving MaterialsDoc documents: 100%|███████| 1/1 [00:00<00:00, 26886.56it/s]\n",
      "Retrieving MaterialsDoc documents: 100%|███████| 1/1 [00:00<00:00, 31300.78it/s]\n",
      "Retrieving MaterialsDoc documents: 100%|███████| 1/1 [00:00<00:00, 28532.68it/s]\n",
      "Retrieving MaterialsDoc documents: 100%|███████| 1/1 [00:00<00:00, 31300.78it/s]\n",
      "Retrieving MaterialsDoc documents: 100%|███████| 1/1 [00:00<00:00, 27776.85it/s]\n",
      "Retrieving MaterialsDoc documents: 100%|███████| 1/1 [00:00<00:00, 27060.03it/s]\n",
      "Retrieving MaterialsDoc documents: 100%|███████| 1/1 [00:00<00:00, 27962.03it/s]\n",
      "Retrieving MaterialsDoc documents: 100%|███████| 1/1 [00:00<00:00, 25731.93it/s]\n",
      "Retrieving MaterialsDoc documents: 100%|███████| 1/1 [00:00<00:00, 27594.11it/s]\n",
      "Retrieving MaterialsDoc documents: 100%|███████| 1/1 [00:00<00:00, 27962.03it/s]\n",
      "Retrieving MaterialsDoc documents: 100%|███████| 1/1 [00:00<00:00, 22192.08it/s]\n",
      "Retrieving MaterialsDoc documents: 100%|███████| 1/1 [00:00<00:00, 28532.68it/s]\n",
      "Retrieving MaterialsDoc documents: 100%|███████| 1/1 [00:00<00:00, 28532.68it/s]\n",
      "Retrieving MaterialsDoc documents: 100%|███████| 1/1 [00:00<00:00, 31300.78it/s]\n",
      "Retrieving MaterialsDoc documents: 100%|███████| 1/1 [00:00<00:00, 30393.51it/s]\n",
      "Retrieving MaterialsDoc documents: 100%|███████| 1/1 [00:00<00:00, 28339.89it/s]\n",
      "Retrieving MaterialsDoc documents: 100%|███████| 1/1 [00:00<00:00, 27776.85it/s]\n",
      "Retrieving MaterialsDoc documents: 100%|███████| 1/1 [00:00<00:00, 28532.68it/s]\n",
      "Retrieving MaterialsDoc documents: 100%|███████| 1/1 [00:00<00:00, 29537.35it/s]\n",
      "Retrieving MaterialsDoc documents: 100%|███████| 1/1 [00:00<00:00, 28728.11it/s]\n",
      "Retrieving MaterialsDoc documents: 100%|███████| 1/1 [00:00<00:00, 27776.85it/s]\n",
      "Retrieving MaterialsDoc documents: 100%|███████| 1/1 [00:00<00:00, 29330.80it/s]\n",
      "Retrieving MaterialsDoc documents: 100%|███████| 1/1 [00:00<00:00, 26214.40it/s]\n",
      "Retrieving MaterialsDoc documents: 100%|███████| 1/1 [00:00<00:00, 28532.68it/s]\n",
      "Retrieving MaterialsDoc documents: 100%|███████| 1/1 [00:00<00:00, 29537.35it/s]\n",
      "Retrieving MaterialsDoc documents: 100%|███████| 1/1 [00:00<00:00, 28728.11it/s]\n",
      "Retrieving MaterialsDoc documents: 100%|███████| 1/1 [00:00<00:00, 28532.68it/s]\n",
      "Retrieving MaterialsDoc documents: 100%|███████| 1/1 [00:00<00:00, 28728.11it/s]\n",
      "Retrieving MaterialsDoc documents: 100%|███████| 1/1 [00:00<00:00, 27962.03it/s]\n",
      "Retrieving MaterialsDoc documents: 100%|███████| 1/1 [00:00<00:00, 28532.68it/s]\n",
      "Retrieving MaterialsDoc documents: 100%|███████| 1/1 [00:00<00:00, 29330.80it/s]\n",
      "Retrieving MaterialsDoc documents: 100%|███████| 1/1 [00:00<00:00, 28532.68it/s]\n",
      "Retrieving MaterialsDoc documents: 100%|███████| 1/1 [00:00<00:00, 28532.68it/s]\n",
      "Retrieving MaterialsDoc documents: 100%|███████| 1/1 [00:00<00:00, 25575.02it/s]\n",
      "Retrieving MaterialsDoc documents: 100%|███████| 1/1 [00:00<00:00, 29537.35it/s]\n",
      "Retrieving MaterialsDoc documents: 100%|███████| 1/1 [00:00<00:00, 26379.27it/s]\n",
      "Retrieving MaterialsDoc documents: 100%|███████| 1/1 [00:00<00:00, 27776.85it/s]\n",
      "Retrieving MaterialsDoc documents: 100%|███████| 1/1 [00:00<00:00, 28532.68it/s]\n",
      "Retrieving MaterialsDoc documents: 100%|███████| 1/1 [00:00<00:00, 27962.03it/s]\n",
      "Retrieving MaterialsDoc documents: 0it [00:00, ?it/s]\n"
     ]
    },
    {
     "name": "stdout",
     "output_type": "stream",
     "text": [
      "Error occurred for material ID mp-771456: 'list' object has no attribute 'to'\n"
     ]
    },
    {
     "name": "stderr",
     "output_type": "stream",
     "text": [
      "Retrieving MaterialsDoc documents: 100%|███████| 1/1 [00:00<00:00, 26546.23it/s]\n",
      "Retrieving MaterialsDoc documents: 100%|███████| 1/1 [00:00<00:00, 28532.68it/s]\n",
      "Retrieving MaterialsDoc documents: 100%|███████| 1/1 [00:00<00:00, 19972.88it/s]\n",
      "Retrieving MaterialsDoc documents: 100%|███████| 1/1 [00:00<00:00, 29330.80it/s]\n",
      "Retrieving MaterialsDoc documents: 100%|███████| 1/1 [00:00<00:00, 27594.11it/s]\n",
      "Retrieving MaterialsDoc documents: 100%|███████| 1/1 [00:00<00:00, 27776.85it/s]\n",
      "Retrieving MaterialsDoc documents: 100%|███████| 1/1 [00:00<00:00, 29746.84it/s]\n",
      "Retrieving MaterialsDoc documents: 100%|███████| 1/1 [00:00<00:00, 29330.80it/s]\n",
      "Retrieving MaterialsDoc documents: 100%|███████| 1/1 [00:00<00:00, 28728.11it/s]\n",
      "Retrieving MaterialsDoc documents: 100%|███████| 1/1 [00:00<00:00, 27776.85it/s]\n",
      "Retrieving MaterialsDoc documents: 0it [00:00, ?it/s]\n"
     ]
    },
    {
     "name": "stdout",
     "output_type": "stream",
     "text": [
      "Error occurred for material ID mp-32497: 'list' object has no attribute 'to'\n"
     ]
    },
    {
     "name": "stderr",
     "output_type": "stream",
     "text": [
      "Retrieving MaterialsDoc documents: 0it [00:00, ?it/s]\n"
     ]
    },
    {
     "name": "stdout",
     "output_type": "stream",
     "text": [
      "Error occurred for material ID mp-775097: 'list' object has no attribute 'to'\n"
     ]
    },
    {
     "name": "stderr",
     "output_type": "stream",
     "text": [
      "Retrieving MaterialsDoc documents: 100%|███████| 1/1 [00:00<00:00, 29537.35it/s]\n",
      "Retrieving MaterialsDoc documents: 100%|███████| 1/1 [00:00<00:00, 28532.68it/s]\n",
      "Retrieving MaterialsDoc documents: 100%|███████| 1/1 [00:00<00:00, 29537.35it/s]\n",
      "Retrieving MaterialsDoc documents: 100%|███████| 1/1 [00:00<00:00, 32263.88it/s]\n",
      "Retrieving MaterialsDoc documents: 0it [00:00, ?it/s]\n"
     ]
    },
    {
     "name": "stdout",
     "output_type": "stream",
     "text": [
      "Error occurred for material ID mp-715469: 'list' object has no attribute 'to'\n"
     ]
    },
    {
     "name": "stderr",
     "output_type": "stream",
     "text": [
      "Retrieving MaterialsDoc documents: 100%|███████| 1/1 [00:00<00:00, 27594.11it/s]\n",
      "Retrieving MaterialsDoc documents: 100%|███████| 1/1 [00:00<00:00, 28532.68it/s]\n",
      "Retrieving MaterialsDoc documents: 100%|███████| 1/1 [00:00<00:00, 30393.51it/s]\n",
      "Retrieving MaterialsDoc documents: 100%|███████| 1/1 [00:00<00:00, 31300.78it/s]\n",
      "Retrieving MaterialsDoc documents: 100%|███████| 1/1 [00:00<00:00, 26214.40it/s]\n",
      "Retrieving MaterialsDoc documents: 100%|███████| 1/1 [00:00<00:00, 29330.80it/s]\n",
      "Retrieving MaterialsDoc documents: 100%|███████| 1/1 [00:00<00:00, 27235.74it/s]\n",
      "Retrieving MaterialsDoc documents: 100%|███████| 1/1 [00:00<00:00, 29330.80it/s]\n",
      "Retrieving MaterialsDoc documents: 100%|███████| 1/1 [00:00<00:00, 27962.03it/s]\n",
      "Retrieving MaterialsDoc documents: 100%|███████| 1/1 [00:00<00:00, 26886.56it/s]\n",
      "Retrieving MaterialsDoc documents: 100%|███████| 1/1 [00:00<00:00, 27776.85it/s]\n",
      "Retrieving MaterialsDoc documents: 100%|███████| 1/1 [00:00<00:00, 26379.27it/s]\n",
      "Retrieving MaterialsDoc documents: 100%|███████| 1/1 [00:00<00:00, 27776.85it/s]\n",
      "Retrieving MaterialsDoc documents: 100%|███████| 1/1 [00:00<00:00, 28532.68it/s]\n",
      "Retrieving MaterialsDoc documents: 100%|███████| 1/1 [00:00<00:00, 31300.78it/s]\n",
      "Retrieving MaterialsDoc documents: 100%|███████| 1/1 [00:00<00:00, 28339.89it/s]\n",
      "Retrieving MaterialsDoc documents: 100%|███████| 1/1 [00:00<00:00, 28532.68it/s]\n",
      "Retrieving MaterialsDoc documents: 100%|███████| 1/1 [00:00<00:00, 23831.27it/s]\n",
      "Retrieving MaterialsDoc documents: 100%|███████| 1/1 [00:00<00:00, 19599.55it/s]\n",
      "Retrieving MaterialsDoc documents: 100%|███████| 1/1 [00:00<00:00, 27776.85it/s]\n",
      "Retrieving MaterialsDoc documents: 100%|███████| 1/1 [00:00<00:00, 29330.80it/s]\n",
      "Retrieving MaterialsDoc documents: 100%|███████| 1/1 [00:00<00:00, 28532.68it/s]\n",
      "Retrieving MaterialsDoc documents: 100%|███████| 1/1 [00:00<00:00, 29330.80it/s]\n",
      "Retrieving MaterialsDoc documents: 100%|███████| 1/1 [00:00<00:00, 24966.10it/s]\n",
      "Retrieving MaterialsDoc documents: 100%|███████| 1/1 [00:00<00:00, 28532.68it/s]\n",
      "Retrieving MaterialsDoc documents: 100%|███████| 1/1 [00:00<00:00, 31068.92it/s]\n",
      "Retrieving MaterialsDoc documents: 100%|███████| 1/1 [00:00<00:00, 30393.51it/s]\n",
      "Retrieving MaterialsDoc documents: 100%|███████| 1/1 [00:00<00:00, 28532.68it/s]\n",
      "Retrieving MaterialsDoc documents: 100%|███████| 1/1 [00:00<00:00, 28532.68it/s]\n",
      "Retrieving MaterialsDoc documents: 100%|███████| 1/1 [00:00<00:00, 30174.85it/s]\n",
      "Retrieving MaterialsDoc documents: 0it [00:00, ?it/s]\n"
     ]
    },
    {
     "name": "stdout",
     "output_type": "stream",
     "text": [
      "Error occurred for material ID mp-2346: 'list' object has no attribute 'to'\n"
     ]
    },
    {
     "name": "stderr",
     "output_type": "stream",
     "text": [
      "Retrieving MaterialsDoc documents: 100%|███████| 1/1 [00:00<00:00, 28532.68it/s]\n",
      "Retrieving MaterialsDoc documents: 100%|███████| 1/1 [00:00<00:00, 27235.74it/s]\n",
      "Retrieving MaterialsDoc documents: 100%|███████| 1/1 [00:00<00:00, 28728.11it/s]\n",
      "Retrieving MaterialsDoc documents: 100%|███████| 1/1 [00:00<00:00, 28728.11it/s]\n",
      "Retrieving MaterialsDoc documents: 100%|███████| 1/1 [00:00<00:00, 20460.02it/s]\n",
      "Retrieving MaterialsDoc documents: 100%|███████| 1/1 [00:00<00:00, 26379.27it/s]\n",
      "Retrieving MaterialsDoc documents: 100%|███████| 1/1 [00:00<00:00, 27235.74it/s]\n",
      "Retrieving MaterialsDoc documents: 100%|███████| 1/1 [00:00<00:00, 29537.35it/s]\n",
      "Retrieving MaterialsDoc documents: 100%|███████| 1/1 [00:00<00:00, 27235.74it/s]\n",
      "Retrieving MaterialsDoc documents: 100%|███████| 1/1 [00:00<00:00, 27594.11it/s]\n",
      "Retrieving MaterialsDoc documents: 100%|███████| 1/1 [00:00<00:00, 31300.78it/s]\n",
      "Retrieving MaterialsDoc documents: 100%|███████| 1/1 [00:00<00:00, 29330.80it/s]\n",
      "Retrieving MaterialsDoc documents: 100%|███████| 1/1 [00:00<00:00, 28532.68it/s]\n",
      "Retrieving MaterialsDoc documents: 100%|███████| 1/1 [00:00<00:00, 28532.68it/s]\n",
      "Retrieving MaterialsDoc documents: 100%|███████| 1/1 [00:00<00:00, 25575.02it/s]\n",
      "Retrieving MaterialsDoc documents: 100%|███████| 1/1 [00:00<00:00, 29330.80it/s]\n",
      "Retrieving MaterialsDoc documents: 100%|███████| 1/1 [00:00<00:00, 32263.88it/s]\n",
      "Retrieving MaterialsDoc documents: 100%|███████| 1/1 [00:00<00:00, 30174.85it/s]\n",
      "Retrieving MaterialsDoc documents: 100%|███████| 1/1 [00:00<00:00, 29537.35it/s]\n",
      "Retrieving MaterialsDoc documents: 100%|███████| 1/1 [00:00<00:00, 12671.61it/s]\n",
      "Retrieving MaterialsDoc documents: 100%|███████| 1/1 [00:00<00:00, 27235.74it/s]\n",
      "Retrieving MaterialsDoc documents: 100%|███████| 1/1 [00:00<00:00, 28532.68it/s]\n",
      "Retrieving MaterialsDoc documents: 100%|███████| 1/1 [00:00<00:00, 27594.11it/s]\n",
      "Retrieving MaterialsDoc documents: 100%|███████| 1/1 [00:00<00:00, 29330.80it/s]\n",
      "Retrieving MaterialsDoc documents: 100%|███████| 1/1 [00:00<00:00, 27776.85it/s]\n",
      "Retrieving MaterialsDoc documents: 100%|███████| 1/1 [00:00<00:00, 31300.78it/s]\n",
      "Retrieving MaterialsDoc documents: 100%|███████| 1/1 [00:00<00:00, 27776.85it/s]\n",
      "Retrieving MaterialsDoc documents: 100%|███████| 1/1 [00:00<00:00, 27962.03it/s]\n",
      "Retrieving MaterialsDoc documents: 100%|███████| 1/1 [00:00<00:00, 27594.11it/s]\n",
      "Retrieving MaterialsDoc documents: 100%|███████| 1/1 [00:00<00:00, 28728.11it/s]\n",
      "Retrieving MaterialsDoc documents: 100%|███████| 1/1 [00:00<00:00, 28339.89it/s]\n",
      "Retrieving MaterialsDoc documents: 100%|███████| 1/1 [00:00<00:00, 28728.11it/s]\n",
      "Retrieving MaterialsDoc documents: 100%|███████| 1/1 [00:00<00:00, 29537.35it/s]\n",
      "Retrieving MaterialsDoc documents: 100%|███████| 1/1 [00:00<00:00, 27962.03it/s]\n",
      "Retrieving MaterialsDoc documents: 100%|███████| 1/1 [00:00<00:00, 28532.68it/s]\n",
      "Retrieving MaterialsDoc documents: 100%|███████| 1/1 [00:00<00:00, 28532.68it/s]\n",
      "Retrieving MaterialsDoc documents: 100%|███████| 1/1 [00:00<00:00, 28339.89it/s]\n",
      "Retrieving MaterialsDoc documents: 100%|███████| 1/1 [00:00<00:00, 29330.80it/s]\n",
      "Retrieving MaterialsDoc documents: 100%|███████| 1/1 [00:00<00:00, 27776.85it/s]\n",
      "Retrieving MaterialsDoc documents: 100%|███████| 1/1 [00:00<00:00, 24528.09it/s]\n",
      "Retrieving MaterialsDoc documents: 100%|███████| 1/1 [00:00<00:00, 28728.11it/s]\n",
      "Retrieving MaterialsDoc documents: 100%|███████| 1/1 [00:00<00:00, 27776.85it/s]\n",
      "Retrieving MaterialsDoc documents: 100%|███████| 1/1 [00:00<00:00, 28532.68it/s]\n",
      "Retrieving MaterialsDoc documents: 100%|███████| 1/1 [00:00<00:00, 26214.40it/s]\n",
      "Retrieving MaterialsDoc documents: 100%|███████| 1/1 [00:00<00:00, 27962.03it/s]\n",
      "Retrieving MaterialsDoc documents: 100%|███████| 1/1 [00:00<00:00, 28728.11it/s]\n",
      "Retrieving MaterialsDoc documents: 100%|███████| 1/1 [00:00<00:00, 32263.88it/s]\n",
      "Retrieving MaterialsDoc documents: 100%|███████| 1/1 [00:00<00:00, 29330.80it/s]\n",
      "Retrieving MaterialsDoc documents: 0it [00:00, ?it/s]\n"
     ]
    },
    {
     "name": "stdout",
     "output_type": "stream",
     "text": [
      "Error occurred for material ID mp-510632: 'list' object has no attribute 'to'\n"
     ]
    },
    {
     "name": "stderr",
     "output_type": "stream",
     "text": [
      "Retrieving MaterialsDoc documents: 100%|███████| 1/1 [00:00<00:00, 29330.80it/s]\n",
      "Retrieving MaterialsDoc documents: 100%|███████| 1/1 [00:00<00:00, 30615.36it/s]\n",
      "Retrieving MaterialsDoc documents: 100%|███████| 1/1 [00:00<00:00, 28532.68it/s]\n",
      "Retrieving MaterialsDoc documents: 100%|███████| 1/1 [00:00<00:00, 29330.80it/s]\n",
      "Retrieving MaterialsDoc documents: 100%|███████| 1/1 [00:00<00:00, 27060.03it/s]\n",
      "Retrieving MaterialsDoc documents: 100%|███████| 1/1 [00:00<00:00, 29330.80it/s]\n",
      "Retrieving MaterialsDoc documents: 0it [00:00, ?it/s]\n"
     ]
    },
    {
     "name": "stdout",
     "output_type": "stream",
     "text": [
      "Error occurred for material ID mp-768032: 'list' object has no attribute 'to'\n"
     ]
    },
    {
     "name": "stderr",
     "output_type": "stream",
     "text": [
      "Retrieving MaterialsDoc documents: 100%|███████| 1/1 [00:00<00:00, 27776.85it/s]\n",
      "Retrieving MaterialsDoc documents: 100%|███████| 1/1 [00:00<00:00, 29330.80it/s]\n",
      "Retrieving MaterialsDoc documents: 100%|███████| 1/1 [00:00<00:00, 27060.03it/s]\n",
      "Retrieving MaterialsDoc documents: 100%|███████| 1/1 [00:00<00:00, 30174.85it/s]\n",
      "Retrieving MaterialsDoc documents: 100%|███████| 1/1 [00:00<00:00, 30393.51it/s]\n",
      "Retrieving MaterialsDoc documents: 100%|███████| 1/1 [00:00<00:00, 28532.68it/s]\n",
      "Retrieving MaterialsDoc documents: 100%|███████| 1/1 [00:00<00:00, 29537.35it/s]\n",
      "Retrieving MaterialsDoc documents: 100%|███████| 1/1 [00:00<00:00, 28532.68it/s]\n",
      "Retrieving MaterialsDoc documents: 100%|███████| 1/1 [00:00<00:00, 28728.11it/s]\n",
      "Retrieving MaterialsDoc documents: 100%|███████| 1/1 [00:00<00:00, 24385.49it/s]\n",
      "Retrieving MaterialsDoc documents: 100%|███████| 1/1 [00:00<00:00, 19152.07it/s]\n",
      "Retrieving MaterialsDoc documents: 100%|███████| 1/1 [00:00<00:00, 26214.40it/s]\n",
      "Retrieving MaterialsDoc documents: 100%|███████| 1/1 [00:00<00:00, 29330.80it/s]\n",
      "Retrieving MaterialsDoc documents: 100%|███████| 1/1 [00:00<00:00, 27962.03it/s]\n",
      "Retrieving MaterialsDoc documents: 100%|███████| 1/1 [00:00<00:00, 28532.68it/s]\n",
      "Retrieving MaterialsDoc documents: 100%|███████| 1/1 [00:00<00:00, 31300.78it/s]\n",
      "Retrieving MaterialsDoc documents: 100%|███████| 1/1 [00:00<00:00, 22671.91it/s]\n",
      "Retrieving MaterialsDoc documents: 100%|███████| 1/1 [00:00<00:00, 24385.49it/s]\n",
      "Retrieving MaterialsDoc documents: 100%|███████| 1/1 [00:00<00:00, 28339.89it/s]\n",
      "Retrieving MaterialsDoc documents: 100%|███████| 1/1 [00:00<00:00, 29330.80it/s]\n",
      "Retrieving MaterialsDoc documents: 100%|███████| 1/1 [00:00<00:00, 28532.68it/s]\n",
      "Retrieving MaterialsDoc documents: 100%|███████| 1/1 [00:00<00:00, 27235.74it/s]\n",
      "Retrieving MaterialsDoc documents: 100%|███████| 1/1 [00:00<00:00, 27060.03it/s]\n",
      "Retrieving MaterialsDoc documents: 100%|███████| 1/1 [00:00<00:00, 25731.93it/s]\n",
      "Retrieving MaterialsDoc documents: 100%|███████| 1/1 [00:00<00:00, 30393.51it/s]\n",
      "Retrieving MaterialsDoc documents: 100%|███████| 1/1 [00:00<00:00, 27962.03it/s]\n",
      "Retrieving MaterialsDoc documents: 100%|███████| 1/1 [00:00<00:00, 31300.78it/s]\n",
      "Retrieving MaterialsDoc documents: 100%|███████| 1/1 [00:00<00:00, 27594.11it/s]\n",
      "Retrieving MaterialsDoc documents: 100%|███████| 1/1 [00:00<00:00, 27776.85it/s]\n",
      "Retrieving MaterialsDoc documents: 100%|███████| 1/1 [00:00<00:00, 28532.68it/s]\n",
      "Retrieving MaterialsDoc documents: 100%|███████| 1/1 [00:00<00:00, 27594.11it/s]\n",
      "Retrieving MaterialsDoc documents: 100%|███████| 1/1 [00:00<00:00, 28532.68it/s]\n",
      "Retrieving MaterialsDoc documents: 100%|███████| 1/1 [00:00<00:00, 29330.80it/s]\n",
      "Retrieving MaterialsDoc documents: 100%|███████| 1/1 [00:00<00:00, 30393.51it/s]\n",
      "Retrieving MaterialsDoc documents: 100%|███████| 1/1 [00:00<00:00, 24385.49it/s]\n",
      "Retrieving MaterialsDoc documents: 100%|███████| 1/1 [00:00<00:00, 26214.40it/s]\n",
      "Retrieving MaterialsDoc documents: 100%|███████| 1/1 [00:00<00:00, 28339.89it/s]\n",
      "Retrieving MaterialsDoc documents: 100%|███████| 1/1 [00:00<00:00, 27060.03it/s]\n",
      "Retrieving MaterialsDoc documents: 100%|███████| 1/1 [00:00<00:00, 27776.85it/s]\n",
      "Retrieving MaterialsDoc documents: 100%|███████| 1/1 [00:00<00:00, 26214.40it/s]\n",
      "Retrieving MaterialsDoc documents: 0it [00:00, ?it/s]\n"
     ]
    },
    {
     "name": "stdout",
     "output_type": "stream",
     "text": [
      "Error occurred for material ID mp-764742: 'list' object has no attribute 'to'\n"
     ]
    },
    {
     "name": "stderr",
     "output_type": "stream",
     "text": [
      "Retrieving MaterialsDoc documents: 100%|███████| 1/1 [00:00<00:00, 29537.35it/s]\n",
      "Retrieving MaterialsDoc documents: 100%|███████| 1/1 [00:00<00:00, 30393.51it/s]\n",
      "Retrieving MaterialsDoc documents: 100%|███████| 1/1 [00:00<00:00, 31300.78it/s]\n",
      "Retrieving MaterialsDoc documents: 100%|███████| 1/1 [00:00<00:00, 27594.11it/s]\n",
      "Retrieving MaterialsDoc documents: 0it [00:00, ?it/s]\n"
     ]
    },
    {
     "name": "stdout",
     "output_type": "stream",
     "text": [
      "Error occurred for material ID mp-771686: 'list' object has no attribute 'to'\n"
     ]
    },
    {
     "name": "stderr",
     "output_type": "stream",
     "text": [
      "Retrieving MaterialsDoc documents: 100%|███████| 1/1 [00:00<00:00, 28532.68it/s]\n",
      "Retrieving MaterialsDoc documents: 0it [00:00, ?it/s]\n"
     ]
    },
    {
     "name": "stdout",
     "output_type": "stream",
     "text": [
      "Error occurred for material ID mp-774148: 'list' object has no attribute 'to'\n"
     ]
    },
    {
     "name": "stderr",
     "output_type": "stream",
     "text": [
      "Retrieving MaterialsDoc documents: 100%|███████| 1/1 [00:00<00:00, 26886.56it/s]\n",
      "Retrieving MaterialsDoc documents: 100%|███████| 1/1 [00:00<00:00, 29537.35it/s]\n",
      "Retrieving MaterialsDoc documents: 100%|███████| 1/1 [00:00<00:00, 28532.68it/s]\n",
      "Retrieving MaterialsDoc documents: 100%|███████| 1/1 [00:00<00:00, 27060.03it/s]\n",
      "Retrieving MaterialsDoc documents: 100%|███████| 1/1 [00:00<00:00, 28728.11it/s]\n",
      "Retrieving MaterialsDoc documents: 100%|███████| 1/1 [00:00<00:00, 28532.68it/s]\n",
      "Retrieving MaterialsDoc documents: 100%|███████| 1/1 [00:00<00:00, 28532.68it/s]\n",
      "Retrieving MaterialsDoc documents: 100%|███████| 1/1 [00:00<00:00, 28532.68it/s]\n",
      "Retrieving MaterialsDoc documents: 100%|███████| 1/1 [00:00<00:00, 28532.68it/s]\n",
      "Retrieving MaterialsDoc documents: 100%|███████| 1/1 [00:00<00:00, 28532.68it/s]\n",
      "Retrieving MaterialsDoc documents: 100%|███████| 1/1 [00:00<00:00, 26886.56it/s]\n",
      "Retrieving MaterialsDoc documents: 100%|███████| 1/1 [00:00<00:00, 25731.93it/s]\n",
      "Retrieving MaterialsDoc documents: 100%|███████| 1/1 [00:00<00:00, 28532.68it/s]\n",
      "Retrieving MaterialsDoc documents: 0it [00:00, ?it/s]\n"
     ]
    },
    {
     "name": "stdout",
     "output_type": "stream",
     "text": [
      "Error occurred for material ID mp-850247: 'list' object has no attribute 'to'\n"
     ]
    },
    {
     "name": "stderr",
     "output_type": "stream",
     "text": [
      "Retrieving MaterialsDoc documents: 100%|███████| 1/1 [00:00<00:00, 28532.68it/s]\n",
      "Retrieving MaterialsDoc documents: 100%|███████| 1/1 [00:00<00:00, 26214.40it/s]\n",
      "Retrieving MaterialsDoc documents: 100%|███████| 1/1 [00:00<00:00, 20867.18it/s]\n",
      "Retrieving MaterialsDoc documents: 100%|███████| 1/1 [00:00<00:00, 26214.40it/s]\n",
      "Retrieving MaterialsDoc documents: 100%|███████| 1/1 [00:00<00:00, 28339.89it/s]\n",
      "Retrieving MaterialsDoc documents: 100%|███████| 1/1 [00:00<00:00, 27060.03it/s]\n",
      "Retrieving MaterialsDoc documents: 100%|███████| 1/1 [00:00<00:00, 30174.85it/s]\n",
      "Retrieving MaterialsDoc documents: 100%|███████| 1/1 [00:00<00:00, 30393.51it/s]\n",
      "Retrieving MaterialsDoc documents: 100%|███████| 1/1 [00:00<00:00, 29330.80it/s]\n",
      "Retrieving MaterialsDoc documents: 100%|███████| 1/1 [00:00<00:00, 28728.11it/s]\n",
      "Retrieving MaterialsDoc documents: 100%|███████| 1/1 [00:00<00:00, 28532.68it/s]\n",
      "Retrieving MaterialsDoc documents: 0it [00:00, ?it/s]\n"
     ]
    },
    {
     "name": "stdout",
     "output_type": "stream",
     "text": [
      "Error occurred for material ID mp-715434: 'list' object has no attribute 'to'\n"
     ]
    },
    {
     "name": "stderr",
     "output_type": "stream",
     "text": [
      "Retrieving MaterialsDoc documents: 100%|███████| 1/1 [00:00<00:00, 28532.68it/s]\n",
      "Retrieving MaterialsDoc documents: 100%|███████| 1/1 [00:00<00:00, 28532.68it/s]\n",
      "Retrieving MaterialsDoc documents: 100%|███████| 1/1 [00:00<00:00, 27962.03it/s]\n",
      "Retrieving MaterialsDoc documents: 100%|███████| 1/1 [00:00<00:00, 30174.85it/s]\n",
      "Retrieving MaterialsDoc documents: 100%|███████| 1/1 [00:00<00:00, 27594.11it/s]\n",
      "Retrieving MaterialsDoc documents: 100%|███████| 1/1 [00:00<00:00, 29330.80it/s]\n",
      "Retrieving MaterialsDoc documents: 100%|███████| 1/1 [00:00<00:00, 31068.92it/s]\n",
      "Retrieving MaterialsDoc documents: 100%|███████| 1/1 [00:00<00:00, 29330.80it/s]\n",
      "Retrieving MaterialsDoc documents: 100%|███████| 1/1 [00:00<00:00, 29330.80it/s]\n",
      "Retrieving MaterialsDoc documents: 100%|███████| 1/1 [00:00<00:00, 28728.11it/s]\n",
      "Retrieving MaterialsDoc documents: 100%|███████| 1/1 [00:00<00:00, 28532.68it/s]\n",
      "Retrieving MaterialsDoc documents: 100%|███████| 1/1 [00:00<00:00, 29537.35it/s]\n",
      "Retrieving MaterialsDoc documents: 100%|███████| 1/1 [00:00<00:00, 28728.11it/s]\n",
      "Retrieving MaterialsDoc documents: 100%|███████| 1/1 [00:00<00:00, 27060.03it/s]\n",
      "Retrieving MaterialsDoc documents: 0it [00:00, ?it/s]\n"
     ]
    },
    {
     "name": "stdout",
     "output_type": "stream",
     "text": [
      "Error occurred for material ID mp-31596: 'list' object has no attribute 'to'\n"
     ]
    },
    {
     "name": "stderr",
     "output_type": "stream",
     "text": [
      "Retrieving MaterialsDoc documents: 0it [00:00, ?it/s]\n"
     ]
    },
    {
     "name": "stdout",
     "output_type": "stream",
     "text": [
      "Error occurred for material ID mp-772053: 'list' object has no attribute 'to'\n"
     ]
    },
    {
     "name": "stderr",
     "output_type": "stream",
     "text": [
      "Retrieving MaterialsDoc documents: 100%|███████| 1/1 [00:00<00:00, 27962.03it/s]\n",
      "Retrieving MaterialsDoc documents: 100%|███████| 1/1 [00:00<00:00, 28532.68it/s]\n",
      "Retrieving MaterialsDoc documents: 100%|███████| 1/1 [00:00<00:00, 30393.51it/s]\n",
      "Retrieving MaterialsDoc documents: 100%|███████| 1/1 [00:00<00:00, 28339.89it/s]\n",
      "Retrieving MaterialsDoc documents: 100%|███████| 1/1 [00:00<00:00, 28532.68it/s]\n",
      "Retrieving MaterialsDoc documents: 100%|███████| 1/1 [00:00<00:00, 17549.39it/s]\n",
      "Retrieving MaterialsDoc documents: 100%|███████| 1/1 [00:00<00:00, 20460.02it/s]\n",
      "Retrieving MaterialsDoc documents: 100%|███████| 1/1 [00:00<00:00, 27594.11it/s]\n",
      "Retrieving MaterialsDoc documents: 100%|███████| 1/1 [00:00<00:00, 29537.35it/s]\n",
      "Retrieving MaterialsDoc documents: 100%|███████| 1/1 [00:00<00:00, 24966.10it/s]\n",
      "Retrieving MaterialsDoc documents: 100%|███████| 1/1 [00:00<00:00, 28339.89it/s]\n",
      "Retrieving MaterialsDoc documents: 100%|███████| 1/1 [00:00<00:00, 28728.11it/s]\n",
      "Retrieving MaterialsDoc documents: 100%|███████| 1/1 [00:00<00:00, 27594.11it/s]\n",
      "Retrieving MaterialsDoc documents: 100%|███████| 1/1 [00:00<00:00, 29330.80it/s]\n",
      "Retrieving MaterialsDoc documents: 0it [00:00, ?it/s]\n"
     ]
    },
    {
     "name": "stdout",
     "output_type": "stream",
     "text": [
      "Error occurred for material ID mp-31769: 'list' object has no attribute 'to'\n"
     ]
    },
    {
     "name": "stderr",
     "output_type": "stream",
     "text": [
      "Retrieving MaterialsDoc documents: 100%|███████| 1/1 [00:00<00:00, 27776.85it/s]\n",
      "Retrieving MaterialsDoc documents: 100%|███████| 1/1 [00:00<00:00, 26214.40it/s]\n",
      "Retrieving MaterialsDoc documents: 100%|███████| 1/1 [00:00<00:00, 29330.80it/s]\n",
      "Retrieving MaterialsDoc documents: 100%|███████| 1/1 [00:00<00:00, 28532.68it/s]\n",
      "Retrieving MaterialsDoc documents: 100%|███████| 1/1 [00:00<00:00, 29330.80it/s]\n",
      "Retrieving MaterialsDoc documents: 100%|███████| 1/1 [00:00<00:00, 26379.27it/s]\n",
      "Retrieving MaterialsDoc documents: 100%|███████| 1/1 [00:00<00:00, 27594.11it/s]\n",
      "Retrieving MaterialsDoc documents: 100%|███████| 1/1 [00:00<00:00, 29537.35it/s]\n",
      "Retrieving MaterialsDoc documents: 100%|███████| 1/1 [00:00<00:00, 27962.03it/s]\n",
      "Retrieving MaterialsDoc documents: 100%|███████| 1/1 [00:00<00:00, 29537.35it/s]\n",
      "Retrieving MaterialsDoc documents: 100%|███████| 1/1 [00:00<00:00, 27594.11it/s]\n",
      "Retrieving MaterialsDoc documents: 100%|███████| 1/1 [00:00<00:00, 27962.03it/s]\n",
      "Retrieving MaterialsDoc documents: 100%|███████| 1/1 [00:00<00:00, 28532.68it/s]\n",
      "Retrieving MaterialsDoc documents: 100%|███████| 1/1 [00:00<00:00, 27776.85it/s]\n",
      "Retrieving MaterialsDoc documents: 100%|███████| 1/1 [00:00<00:00, 27776.85it/s]\n",
      "Retrieving MaterialsDoc documents: 100%|███████| 1/1 [00:00<00:00, 27060.03it/s]\n",
      "Retrieving MaterialsDoc documents: 100%|███████| 1/1 [00:00<00:00, 27962.03it/s]\n",
      "Retrieving MaterialsDoc documents: 100%|███████| 1/1 [00:00<00:00, 24966.10it/s]\n",
      "Retrieving MaterialsDoc documents: 100%|███████| 1/1 [00:00<00:00, 31300.78it/s]\n",
      "Retrieving MaterialsDoc documents: 100%|███████| 1/1 [00:00<00:00, 28339.89it/s]\n",
      "Retrieving MaterialsDoc documents: 100%|███████| 1/1 [00:00<00:00, 30174.85it/s]\n",
      "Retrieving MaterialsDoc documents: 100%|███████| 1/1 [00:00<00:00, 28532.68it/s]\n",
      "Retrieving MaterialsDoc documents: 100%|███████| 1/1 [00:00<00:00, 30174.85it/s]\n",
      "Retrieving MaterialsDoc documents: 100%|███████| 1/1 [00:00<00:00, 27776.85it/s]\n",
      "Retrieving MaterialsDoc documents: 100%|███████| 1/1 [00:00<00:00, 29330.80it/s]\n",
      "Retrieving MaterialsDoc documents: 100%|███████| 1/1 [00:00<00:00, 28532.68it/s]\n",
      "Retrieving MaterialsDoc documents: 100%|███████| 1/1 [00:00<00:00, 26886.56it/s]\n",
      "Retrieving MaterialsDoc documents: 100%|███████| 1/1 [00:00<00:00, 28532.68it/s]\n",
      "Retrieving MaterialsDoc documents: 100%|███████| 1/1 [00:00<00:00, 25575.02it/s]\n",
      "Retrieving MaterialsDoc documents: 100%|███████| 1/1 [00:00<00:00, 30174.85it/s]\n",
      "Retrieving MaterialsDoc documents: 100%|███████| 1/1 [00:00<00:00, 27962.03it/s]\n",
      "Retrieving MaterialsDoc documents: 100%|███████| 1/1 [00:00<00:00, 29330.80it/s]\n",
      "Retrieving MaterialsDoc documents: 100%|███████| 1/1 [00:00<00:00, 16131.94it/s]\n",
      "Retrieving MaterialsDoc documents: 100%|███████| 1/1 [00:00<00:00, 28532.68it/s]\n",
      "Retrieving MaterialsDoc documents: 100%|███████| 1/1 [00:00<00:00, 27235.74it/s]\n",
      "Retrieving MaterialsDoc documents: 100%|███████| 1/1 [00:00<00:00, 25420.02it/s]\n",
      "Retrieving MaterialsDoc documents: 100%|███████| 1/1 [00:00<00:00, 26379.27it/s]\n",
      "Retrieving MaterialsDoc documents: 100%|███████| 1/1 [00:00<00:00, 25115.59it/s]\n",
      "Retrieving MaterialsDoc documents: 100%|███████| 1/1 [00:00<00:00, 28532.68it/s]\n",
      "Retrieving MaterialsDoc documents: 100%|███████| 1/1 [00:00<00:00, 28532.68it/s]\n",
      "Retrieving MaterialsDoc documents: 100%|███████| 1/1 [00:00<00:00, 32017.59it/s]\n",
      "Retrieving MaterialsDoc documents: 100%|███████| 1/1 [00:00<00:00, 29537.35it/s]\n",
      "Retrieving MaterialsDoc documents: 100%|███████| 1/1 [00:00<00:00, 30174.85it/s]\n",
      "Retrieving MaterialsDoc documents: 100%|███████| 1/1 [00:00<00:00, 29537.35it/s]\n",
      "Retrieving MaterialsDoc documents: 100%|███████| 1/1 [00:00<00:00, 27060.03it/s]\n",
      "Retrieving MaterialsDoc documents: 100%|███████| 1/1 [00:00<00:00, 29537.35it/s]\n",
      "Retrieving MaterialsDoc documents: 100%|███████| 1/1 [00:00<00:00, 28532.68it/s]\n",
      "Retrieving MaterialsDoc documents: 100%|███████| 1/1 [00:00<00:00, 29537.35it/s]\n",
      "Retrieving MaterialsDoc documents: 100%|███████| 1/1 [00:00<00:00, 26214.40it/s]\n",
      "Retrieving MaterialsDoc documents: 100%|███████| 1/1 [00:00<00:00, 28532.68it/s]\n",
      "Retrieving MaterialsDoc documents: 100%|███████| 1/1 [00:00<00:00, 28728.11it/s]\n",
      "Retrieving MaterialsDoc documents: 0it [00:00, ?it/s]\n"
     ]
    },
    {
     "name": "stdout",
     "output_type": "stream",
     "text": [
      "Error occurred for material ID mp-578614: 'list' object has no attribute 'to'\n"
     ]
    },
    {
     "name": "stderr",
     "output_type": "stream",
     "text": [
      "Retrieving MaterialsDoc documents: 100%|███████| 1/1 [00:00<00:00, 26886.56it/s]\n",
      "Retrieving MaterialsDoc documents: 100%|███████| 1/1 [00:00<00:00, 29330.80it/s]\n",
      "Retrieving MaterialsDoc documents: 100%|███████| 1/1 [00:00<00:00, 31300.78it/s]\n",
      "Retrieving MaterialsDoc documents: 100%|███████| 1/1 [00:00<00:00, 28728.11it/s]\n",
      "Retrieving MaterialsDoc documents: 100%|███████| 1/1 [00:00<00:00, 27776.85it/s]\n",
      "Retrieving MaterialsDoc documents: 100%|███████| 1/1 [00:00<00:00, 25575.02it/s]\n",
      "Retrieving MaterialsDoc documents: 100%|███████| 1/1 [00:00<00:00, 28728.11it/s]\n",
      "Retrieving MaterialsDoc documents: 100%|███████| 1/1 [00:00<00:00, 27776.85it/s]\n",
      "Retrieving MaterialsDoc documents: 100%|███████| 1/1 [00:00<00:00, 29330.80it/s]\n",
      "Retrieving MaterialsDoc documents: 100%|███████| 1/1 [00:00<00:00, 26886.56it/s]\n",
      "Retrieving MaterialsDoc documents: 100%|███████| 1/1 [00:00<00:00, 27060.03it/s]\n",
      "Retrieving MaterialsDoc documents: 100%|███████| 1/1 [00:00<00:00, 27962.03it/s]\n",
      "Retrieving MaterialsDoc documents: 100%|███████| 1/1 [00:00<00:00, 27962.03it/s]\n",
      "Retrieving MaterialsDoc documents: 100%|███████| 1/1 [00:00<00:00, 28532.68it/s]\n",
      "Retrieving MaterialsDoc documents: 100%|███████| 1/1 [00:00<00:00, 28532.68it/s]\n",
      "Retrieving MaterialsDoc documents: 100%|███████| 1/1 [00:00<00:00, 28532.68it/s]\n",
      "Retrieving MaterialsDoc documents: 100%|███████| 1/1 [00:00<00:00, 25575.02it/s]\n",
      "Retrieving MaterialsDoc documents: 100%|███████| 1/1 [00:00<00:00, 30393.51it/s]\n",
      "Retrieving MaterialsDoc documents: 100%|███████| 1/1 [00:00<00:00, 28532.68it/s]\n",
      "Retrieving MaterialsDoc documents: 100%|███████| 1/1 [00:00<00:00, 30393.51it/s]\n",
      "Retrieving MaterialsDoc documents: 100%|███████| 1/1 [00:00<00:00, 26886.56it/s]\n",
      "Retrieving MaterialsDoc documents: 100%|███████| 1/1 [00:00<00:00, 28532.68it/s]\n",
      "Retrieving MaterialsDoc documents: 100%|███████| 1/1 [00:00<00:00, 28532.68it/s]\n",
      "Retrieving MaterialsDoc documents: 100%|███████| 1/1 [00:00<00:00, 28532.68it/s]\n",
      "Retrieving MaterialsDoc documents: 100%|███████| 1/1 [00:00<00:00, 28532.68it/s]\n",
      "Retrieving MaterialsDoc documents: 100%|███████| 1/1 [00:00<00:00, 19691.57it/s]\n",
      "Retrieving MaterialsDoc documents: 100%|███████| 1/1 [00:00<00:00, 31300.78it/s]\n",
      "Retrieving MaterialsDoc documents: 100%|███████| 1/1 [00:00<00:00, 27060.03it/s]\n",
      "Retrieving MaterialsDoc documents: 100%|███████| 1/1 [00:00<00:00, 27235.74it/s]\n",
      "Retrieving MaterialsDoc documents: 100%|███████| 1/1 [00:00<00:00, 28532.68it/s]\n",
      "Retrieving MaterialsDoc documents: 100%|███████| 1/1 [00:00<00:00, 29330.80it/s]\n",
      "Retrieving MaterialsDoc documents: 100%|███████| 1/1 [00:00<00:00, 31068.92it/s]\n",
      "Retrieving MaterialsDoc documents: 0it [00:00, ?it/s]\n"
     ]
    },
    {
     "name": "stdout",
     "output_type": "stream",
     "text": [
      "Error occurred for material ID mp-542102: 'list' object has no attribute 'to'\n"
     ]
    },
    {
     "name": "stderr",
     "output_type": "stream",
     "text": [
      "Retrieving MaterialsDoc documents: 100%|███████| 1/1 [00:00<00:00, 29330.80it/s]\n",
      "Retrieving MaterialsDoc documents: 100%|███████| 1/1 [00:00<00:00, 27776.85it/s]\n",
      "Retrieving MaterialsDoc documents: 100%|███████| 1/1 [00:00<00:00, 29330.80it/s]\n",
      "Retrieving MaterialsDoc documents: 100%|███████| 1/1 [00:00<00:00, 27060.03it/s]\n",
      "Retrieving MaterialsDoc documents: 100%|███████| 1/1 [00:00<00:00, 27235.74it/s]\n",
      "Retrieving MaterialsDoc documents: 100%|███████| 1/1 [00:00<00:00, 27060.03it/s]\n",
      "Retrieving MaterialsDoc documents: 100%|███████| 1/1 [00:00<00:00, 27776.85it/s]\n",
      "Retrieving MaterialsDoc documents: 100%|███████| 1/1 [00:00<00:00, 26886.56it/s]\n",
      "Retrieving MaterialsDoc documents: 100%|███████| 1/1 [00:00<00:00, 27776.85it/s]\n",
      "Retrieving MaterialsDoc documents: 100%|███████| 1/1 [00:00<00:00, 26886.56it/s]\n",
      "Retrieving MaterialsDoc documents: 100%|███████| 1/1 [00:00<00:00, 27776.85it/s]\n",
      "Retrieving MaterialsDoc documents: 100%|███████| 1/1 [00:00<00:00, 30174.85it/s]\n",
      "Retrieving MaterialsDoc documents: 100%|███████| 1/1 [00:00<00:00, 27962.03it/s]\n",
      "Retrieving MaterialsDoc documents: 100%|███████| 1/1 [00:00<00:00, 25731.93it/s]\n",
      "Retrieving MaterialsDoc documents: 100%|███████| 1/1 [00:00<00:00, 29330.80it/s]\n",
      "Retrieving MaterialsDoc documents: 0it [00:00, ?it/s]\n"
     ]
    },
    {
     "name": "stdout",
     "output_type": "stream",
     "text": [
      "Error occurred for material ID mp-772592: 'list' object has no attribute 'to'\n"
     ]
    },
    {
     "name": "stderr",
     "output_type": "stream",
     "text": [
      "Retrieving MaterialsDoc documents: 100%|███████| 1/1 [00:00<00:00, 28532.68it/s]\n",
      "Retrieving MaterialsDoc documents: 100%|███████| 1/1 [00:00<00:00, 27594.11it/s]\n",
      "Retrieving MaterialsDoc documents: 100%|███████| 1/1 [00:00<00:00, 31300.78it/s]\n",
      "Retrieving MaterialsDoc documents: 100%|███████| 1/1 [00:00<00:00, 27060.03it/s]\n",
      "Retrieving MaterialsDoc documents: 100%|███████| 1/1 [00:00<00:00, 27962.03it/s]\n",
      "Retrieving MaterialsDoc documents: 100%|███████| 1/1 [00:00<00:00, 27962.03it/s]\n",
      "Retrieving MaterialsDoc documents: 0it [00:00, ?it/s]\n"
     ]
    },
    {
     "name": "stdout",
     "output_type": "stream",
     "text": [
      "Error occurred for material ID mp-781698: 'list' object has no attribute 'to'\n"
     ]
    },
    {
     "name": "stderr",
     "output_type": "stream",
     "text": [
      "Retrieving MaterialsDoc documents: 100%|███████| 1/1 [00:00<00:00, 27776.85it/s]\n",
      "Retrieving MaterialsDoc documents: 100%|███████| 1/1 [00:00<00:00, 28532.68it/s]\n",
      "Retrieving MaterialsDoc documents: 100%|███████| 1/1 [00:00<00:00, 28532.68it/s]\n",
      "Retrieving MaterialsDoc documents: 100%|███████| 1/1 [00:00<00:00, 29330.80it/s]\n",
      "Retrieving MaterialsDoc documents: 100%|███████| 1/1 [00:00<00:00, 27776.85it/s]\n",
      "Retrieving MaterialsDoc documents: 100%|███████| 1/1 [00:00<00:00, 29330.80it/s]\n",
      "Retrieving MaterialsDoc documents: 100%|███████| 1/1 [00:00<00:00, 27776.85it/s]\n",
      "Retrieving MaterialsDoc documents: 100%|███████| 1/1 [00:00<00:00, 26886.56it/s]\n",
      "Retrieving MaterialsDoc documents: 100%|███████| 1/1 [00:00<00:00, 30393.51it/s]\n",
      "Retrieving MaterialsDoc documents: 100%|███████| 1/1 [00:00<00:00, 28532.68it/s]\n",
      "Retrieving MaterialsDoc documents: 100%|███████| 1/1 [00:00<00:00, 27776.85it/s]\n",
      "Retrieving MaterialsDoc documents: 100%|███████| 1/1 [00:00<00:00, 29330.80it/s]\n",
      "Retrieving MaterialsDoc documents: 100%|███████| 1/1 [00:00<00:00, 28532.68it/s]\n",
      "Retrieving MaterialsDoc documents: 100%|███████| 1/1 [00:00<00:00, 30393.51it/s]\n",
      "Retrieving MaterialsDoc documents: 100%|███████| 1/1 [00:00<00:00, 25115.59it/s]\n",
      "Retrieving MaterialsDoc documents: 100%|███████| 1/1 [00:00<00:00, 28339.89it/s]\n",
      "Retrieving MaterialsDoc documents: 100%|███████| 1/1 [00:00<00:00, 27776.85it/s]\n",
      "Retrieving MaterialsDoc documents: 100%|███████| 1/1 [00:00<00:00, 28728.11it/s]\n",
      "Retrieving MaterialsDoc documents: 100%|███████| 1/1 [00:00<00:00, 28532.68it/s]\n",
      "Retrieving MaterialsDoc documents: 0it [00:00, ?it/s]\n"
     ]
    },
    {
     "name": "stdout",
     "output_type": "stream",
     "text": [
      "Error occurred for material ID mp-761474: 'list' object has no attribute 'to'\n"
     ]
    },
    {
     "name": "stderr",
     "output_type": "stream",
     "text": [
      "Retrieving MaterialsDoc documents: 100%|███████| 1/1 [00:00<00:00, 26214.40it/s]\n",
      "Retrieving MaterialsDoc documents: 100%|███████| 1/1 [00:00<00:00, 28728.11it/s]\n",
      "Retrieving MaterialsDoc documents: 100%|███████| 1/1 [00:00<00:00, 24385.49it/s]\n",
      "Retrieving MaterialsDoc documents: 100%|███████| 1/1 [00:00<00:00, 29330.80it/s]\n",
      "Retrieving MaterialsDoc documents: 100%|███████| 1/1 [00:00<00:00, 27060.03it/s]\n",
      "Retrieving MaterialsDoc documents: 100%|███████| 1/1 [00:00<00:00, 26886.56it/s]\n",
      "Retrieving MaterialsDoc documents: 100%|███████| 1/1 [00:00<00:00, 26379.27it/s]\n",
      "Retrieving MaterialsDoc documents: 100%|███████| 1/1 [00:00<00:00, 28532.68it/s]\n",
      "Retrieving MaterialsDoc documents: 100%|███████| 1/1 [00:00<00:00, 28728.11it/s]\n",
      "Retrieving MaterialsDoc documents: 100%|███████| 1/1 [00:00<00:00, 27776.85it/s]\n",
      "Retrieving MaterialsDoc documents: 100%|███████| 1/1 [00:00<00:00, 29330.80it/s]\n",
      "Retrieving MaterialsDoc documents: 100%|███████| 1/1 [00:00<00:00, 28728.11it/s]\n",
      "Retrieving MaterialsDoc documents: 100%|███████| 1/1 [00:00<00:00, 25731.93it/s]\n",
      "Retrieving MaterialsDoc documents: 100%|███████| 1/1 [00:00<00:00, 27962.03it/s]\n",
      "Retrieving MaterialsDoc documents: 100%|███████| 1/1 [00:00<00:00, 29330.80it/s]\n",
      "Retrieving MaterialsDoc documents: 100%|███████| 1/1 [00:00<00:00, 32263.88it/s]\n",
      "Retrieving MaterialsDoc documents: 100%|███████| 1/1 [00:00<00:00, 28532.68it/s]\n",
      "Retrieving MaterialsDoc documents: 100%|███████| 1/1 [00:00<00:00, 28532.68it/s]\n",
      "Retrieving MaterialsDoc documents: 100%|███████| 1/1 [00:00<00:00, 30393.51it/s]\n",
      "Retrieving MaterialsDoc documents: 100%|███████| 1/1 [00:00<00:00, 26886.56it/s]\n",
      "Retrieving MaterialsDoc documents: 100%|███████| 1/1 [00:00<00:00, 26214.40it/s]\n",
      "Retrieving MaterialsDoc documents: 100%|███████| 1/1 [00:00<00:00, 28532.68it/s]\n",
      "Retrieving MaterialsDoc documents: 100%|███████| 1/1 [00:00<00:00, 29537.35it/s]\n",
      "Retrieving MaterialsDoc documents: 100%|███████| 1/1 [00:00<00:00, 27776.85it/s]\n",
      "Retrieving MaterialsDoc documents: 100%|███████| 1/1 [00:00<00:00, 16131.94it/s]\n",
      "Retrieving MaterialsDoc documents: 100%|███████| 1/1 [00:00<00:00, 29330.80it/s]\n",
      "Retrieving MaterialsDoc documents: 100%|███████| 1/1 [00:00<00:00, 28532.68it/s]\n",
      "Retrieving MaterialsDoc documents: 100%|███████| 1/1 [00:00<00:00, 30393.51it/s]\n",
      "Retrieving MaterialsDoc documents: 100%|███████| 1/1 [00:00<00:00, 21399.51it/s]\n",
      "Retrieving MaterialsDoc documents: 100%|███████| 1/1 [00:00<00:00, 28532.68it/s]\n",
      "Retrieving MaterialsDoc documents: 100%|███████| 1/1 [00:00<00:00, 26546.23it/s]\n",
      "Retrieving MaterialsDoc documents: 100%|███████| 1/1 [00:00<00:00, 28532.68it/s]\n",
      "Retrieving MaterialsDoc documents: 0it [00:00, ?it/s]\n"
     ]
    },
    {
     "name": "stdout",
     "output_type": "stream",
     "text": [
      "Error occurred for material ID mp-25119: 'list' object has no attribute 'to'\n"
     ]
    },
    {
     "name": "stderr",
     "output_type": "stream",
     "text": [
      "Retrieving MaterialsDoc documents: 0it [00:00, ?it/s]\n"
     ]
    },
    {
     "name": "stdout",
     "output_type": "stream",
     "text": [
      "Error occurred for material ID mp-714976: 'list' object has no attribute 'to'\n"
     ]
    },
    {
     "name": "stderr",
     "output_type": "stream",
     "text": [
      "Retrieving MaterialsDoc documents: 100%|███████| 1/1 [00:00<00:00, 27235.74it/s]\n",
      "Retrieving MaterialsDoc documents: 100%|███████| 1/1 [00:00<00:00, 26214.40it/s]\n",
      "Retrieving MaterialsDoc documents: 100%|███████| 1/1 [00:00<00:00, 28728.11it/s]\n",
      "Retrieving MaterialsDoc documents: 100%|███████| 1/1 [00:00<00:00, 28728.11it/s]\n",
      "Retrieving MaterialsDoc documents: 100%|███████| 1/1 [00:00<00:00, 27060.03it/s]\n",
      "Retrieving MaterialsDoc documents: 100%|███████| 1/1 [00:00<00:00, 29537.35it/s]\n",
      "Retrieving MaterialsDoc documents: 100%|███████| 1/1 [00:00<00:00, 29746.84it/s]\n",
      "Retrieving MaterialsDoc documents: 100%|███████| 1/1 [00:00<00:00, 24966.10it/s]\n",
      "Retrieving MaterialsDoc documents: 100%|███████| 1/1 [00:00<00:00, 27962.03it/s]\n",
      "Retrieving MaterialsDoc documents: 100%|███████| 1/1 [00:00<00:00, 29330.80it/s]\n",
      "Retrieving MaterialsDoc documents: 100%|███████| 1/1 [00:00<00:00, 27962.03it/s]\n",
      "Retrieving MaterialsDoc documents: 100%|███████| 1/1 [00:00<00:00, 25115.59it/s]\n",
      "Retrieving MaterialsDoc documents: 100%|███████| 1/1 [00:00<00:00, 27962.03it/s]\n",
      "Retrieving MaterialsDoc documents: 100%|███████| 1/1 [00:00<00:00, 27235.74it/s]\n",
      "Retrieving MaterialsDoc documents: 100%|███████| 1/1 [00:00<00:00, 27060.03it/s]\n",
      "Retrieving MaterialsDoc documents: 100%|███████| 1/1 [00:00<00:00, 27776.85it/s]\n",
      "Retrieving MaterialsDoc documents: 100%|███████| 1/1 [00:00<00:00, 24966.10it/s]\n",
      "Retrieving MaterialsDoc documents: 100%|███████| 1/1 [00:00<00:00, 29537.35it/s]\n",
      "Retrieving MaterialsDoc documents: 100%|███████| 1/1 [00:00<00:00, 27776.85it/s]\n",
      "Retrieving MaterialsDoc documents: 100%|███████| 1/1 [00:00<00:00, 28728.11it/s]\n",
      "Retrieving MaterialsDoc documents: 100%|███████| 1/1 [00:00<00:00, 27776.85it/s]\n",
      "Retrieving MaterialsDoc documents: 100%|███████| 1/1 [00:00<00:00, 27776.85it/s]\n",
      "Retrieving MaterialsDoc documents: 100%|███████| 1/1 [00:00<00:00, 21290.88it/s]\n",
      "Retrieving MaterialsDoc documents: 100%|███████| 1/1 [00:00<00:00, 29330.80it/s]\n",
      "Retrieving MaterialsDoc documents: 100%|███████| 1/1 [00:00<00:00, 28532.68it/s]\n",
      "Retrieving MaterialsDoc documents: 100%|███████| 1/1 [00:00<00:00, 27776.85it/s]\n",
      "Retrieving MaterialsDoc documents: 100%|███████| 1/1 [00:00<00:00, 29330.80it/s]\n",
      "Retrieving MaterialsDoc documents: 100%|███████| 1/1 [00:00<00:00, 28532.68it/s]\n",
      "Retrieving MaterialsDoc documents: 100%|███████| 1/1 [00:00<00:00, 31300.78it/s]\n",
      "Retrieving MaterialsDoc documents: 100%|███████| 1/1 [00:00<00:00, 31300.78it/s]\n",
      "Retrieving MaterialsDoc documents: 100%|███████| 1/1 [00:00<00:00, 28532.68it/s]\n",
      "Retrieving MaterialsDoc documents: 100%|███████| 1/1 [00:00<00:00, 28532.68it/s]\n",
      "Retrieving MaterialsDoc documents: 100%|███████| 1/1 [00:00<00:00, 26379.27it/s]\n",
      "Retrieving MaterialsDoc documents: 100%|███████| 1/1 [00:00<00:00, 24966.10it/s]\n",
      "Retrieving MaterialsDoc documents: 100%|███████| 1/1 [00:00<00:00, 27060.03it/s]\n",
      "Retrieving MaterialsDoc documents: 100%|███████| 1/1 [00:00<00:00, 29330.80it/s]\n",
      "Retrieving MaterialsDoc documents: 100%|███████| 1/1 [00:00<00:00, 27594.11it/s]\n",
      "Retrieving MaterialsDoc documents: 100%|███████| 1/1 [00:00<00:00, 28532.68it/s]\n",
      "Retrieving MaterialsDoc documents: 100%|███████| 1/1 [00:00<00:00, 29330.80it/s]\n",
      "Retrieving MaterialsDoc documents: 100%|███████| 1/1 [00:00<00:00, 29330.80it/s]\n",
      "Retrieving MaterialsDoc documents: 100%|███████| 1/1 [00:00<00:00, 27060.03it/s]\n",
      "Retrieving MaterialsDoc documents: 0it [00:00, ?it/s]\n"
     ]
    },
    {
     "name": "stdout",
     "output_type": "stream",
     "text": [
      "Error occurred for material ID mp-777130: 'list' object has no attribute 'to'\n"
     ]
    },
    {
     "name": "stderr",
     "output_type": "stream",
     "text": [
      "Retrieving MaterialsDoc documents: 100%|███████| 1/1 [00:00<00:00, 21183.35it/s]\n",
      "Retrieving MaterialsDoc documents: 100%|███████| 1/1 [00:00<00:00, 28728.11it/s]\n",
      "Retrieving MaterialsDoc documents: 100%|███████| 1/1 [00:00<00:00, 27962.03it/s]\n",
      "Retrieving MaterialsDoc documents: 100%|███████| 1/1 [00:00<00:00, 28728.11it/s]\n",
      "Retrieving MaterialsDoc documents: 100%|███████| 1/1 [00:00<00:00, 29330.80it/s]\n",
      "Retrieving MaterialsDoc documents: 100%|███████| 1/1 [00:00<00:00, 27060.03it/s]\n",
      "Retrieving MaterialsDoc documents: 100%|███████| 1/1 [00:00<00:00, 27776.85it/s]\n",
      "Retrieving MaterialsDoc documents: 100%|███████| 1/1 [00:00<00:00, 28339.89it/s]\n",
      "Retrieving MaterialsDoc documents: 100%|███████| 1/1 [00:00<00:00, 23301.69it/s]\n",
      "Retrieving MaterialsDoc documents: 100%|███████| 1/1 [00:00<00:00, 28532.68it/s]\n",
      "Retrieving MaterialsDoc documents: 100%|███████| 1/1 [00:00<00:00, 26886.56it/s]\n",
      "Retrieving MaterialsDoc documents: 100%|███████| 1/1 [00:00<00:00, 29537.35it/s]\n",
      "Retrieving MaterialsDoc documents: 100%|███████| 1/1 [00:00<00:00, 24385.49it/s]\n",
      "Retrieving MaterialsDoc documents: 100%|███████| 1/1 [00:00<00:00, 27594.11it/s]\n",
      "Retrieving MaterialsDoc documents: 0it [00:00, ?it/s]\n"
     ]
    },
    {
     "name": "stdout",
     "output_type": "stream",
     "text": [
      "Error occurred for material ID mp-868610: 'list' object has no attribute 'to'\n"
     ]
    },
    {
     "name": "stderr",
     "output_type": "stream",
     "text": [
      "Retrieving MaterialsDoc documents: 100%|███████| 1/1 [00:00<00:00, 27594.11it/s]\n",
      "Retrieving MaterialsDoc documents: 100%|███████| 1/1 [00:00<00:00, 28532.68it/s]\n",
      "Retrieving MaterialsDoc documents: 100%|███████| 1/1 [00:00<00:00, 24966.10it/s]\n",
      "Retrieving MaterialsDoc documents: 100%|███████| 1/1 [00:00<00:00, 27235.74it/s]\n",
      "Retrieving MaterialsDoc documents: 100%|███████| 1/1 [00:00<00:00, 15141.89it/s]\n",
      "Retrieving MaterialsDoc documents: 100%|███████| 1/1 [00:00<00:00, 30615.36it/s]\n",
      "Retrieving MaterialsDoc documents: 100%|███████| 1/1 [00:00<00:00, 28532.68it/s]\n",
      "Retrieving MaterialsDoc documents: 100%|███████| 1/1 [00:00<00:00, 28532.68it/s]\n",
      "Retrieving MaterialsDoc documents: 100%|███████| 1/1 [00:00<00:00, 31300.78it/s]\n",
      "Retrieving MaterialsDoc documents: 100%|███████| 1/1 [00:00<00:00, 27594.11it/s]\n",
      "Retrieving MaterialsDoc documents: 100%|███████| 1/1 [00:00<00:00, 29330.80it/s]\n",
      "Retrieving MaterialsDoc documents: 100%|███████| 1/1 [00:00<00:00, 29330.80it/s]\n",
      "Retrieving MaterialsDoc documents: 100%|███████| 1/1 [00:00<00:00, 27235.74it/s]\n",
      "Retrieving MaterialsDoc documents: 100%|███████| 1/1 [00:00<00:00, 27594.11it/s]\n",
      "Retrieving MaterialsDoc documents: 100%|███████| 1/1 [00:00<00:00, 28728.11it/s]\n",
      "Retrieving MaterialsDoc documents: 100%|███████| 1/1 [00:00<00:00, 24966.10it/s]\n",
      "Retrieving MaterialsDoc documents: 100%|███████| 1/1 [00:00<00:00, 28532.68it/s]\n",
      "Retrieving MaterialsDoc documents: 100%|███████| 1/1 [00:00<00:00, 28728.11it/s]\n",
      "Retrieving MaterialsDoc documents: 100%|███████| 1/1 [00:00<00:00, 27060.03it/s]\n",
      "Retrieving MaterialsDoc documents: 100%|███████| 1/1 [00:00<00:00, 29746.84it/s]\n",
      "Retrieving MaterialsDoc documents: 100%|███████| 1/1 [00:00<00:00, 28339.89it/s]\n",
      "Retrieving MaterialsDoc documents: 100%|███████| 1/1 [00:00<00:00, 27060.03it/s]\n",
      "Retrieving MaterialsDoc documents: 100%|███████| 1/1 [00:00<00:00, 30174.85it/s]\n",
      "Retrieving MaterialsDoc documents: 100%|███████| 1/1 [00:00<00:00, 29330.80it/s]\n",
      "Retrieving MaterialsDoc documents: 100%|███████| 1/1 [00:00<00:00, 30393.51it/s]\n",
      "Retrieving MaterialsDoc documents: 100%|███████| 1/1 [00:00<00:00, 27060.03it/s]\n",
      "Retrieving MaterialsDoc documents: 100%|███████| 1/1 [00:00<00:00, 27962.03it/s]\n",
      "Retrieving MaterialsDoc documents: 100%|███████| 1/1 [00:00<00:00, 27776.85it/s]\n",
      "Retrieving MaterialsDoc documents: 100%|███████| 1/1 [00:00<00:00, 16644.06it/s]\n",
      "Retrieving MaterialsDoc documents: 100%|███████| 1/1 [00:00<00:00, 26886.56it/s]\n",
      "Retrieving MaterialsDoc documents: 100%|███████| 1/1 [00:00<00:00, 27776.85it/s]\n",
      "Retrieving MaterialsDoc documents: 100%|███████| 1/1 [00:00<00:00, 24966.10it/s]\n",
      "Retrieving MaterialsDoc documents: 100%|███████| 1/1 [00:00<00:00, 27776.85it/s]\n",
      "Retrieving MaterialsDoc documents: 100%|███████| 1/1 [00:00<00:00, 27962.03it/s]\n",
      "Retrieving MaterialsDoc documents: 100%|███████| 1/1 [00:00<00:00, 27594.11it/s]\n",
      "Retrieving MaterialsDoc documents: 100%|███████| 1/1 [00:00<00:00, 28728.11it/s]\n",
      "Retrieving MaterialsDoc documents: 100%|███████| 1/1 [00:00<00:00, 19972.88it/s]\n",
      "Retrieving MaterialsDoc documents: 100%|███████| 1/1 [00:00<00:00, 26214.40it/s]\n",
      "Retrieving MaterialsDoc documents: 100%|███████| 1/1 [00:00<00:00, 30393.51it/s]\n",
      "Retrieving MaterialsDoc documents: 100%|███████| 1/1 [00:00<00:00, 27776.85it/s]\n",
      "Retrieving MaterialsDoc documents: 100%|███████| 1/1 [00:00<00:00, 29330.80it/s]\n",
      "Retrieving MaterialsDoc documents: 100%|███████| 1/1 [00:00<00:00, 26214.40it/s]\n",
      "Retrieving MaterialsDoc documents: 100%|███████| 1/1 [00:00<00:00, 28532.68it/s]\n",
      "Retrieving MaterialsDoc documents: 100%|███████| 1/1 [00:00<00:00, 16384.00it/s]\n",
      "Retrieving MaterialsDoc documents: 100%|███████| 1/1 [00:00<00:00, 27962.03it/s]\n",
      "Retrieving MaterialsDoc documents: 0it [00:00, ?it/s]\n"
     ]
    },
    {
     "name": "stdout",
     "output_type": "stream",
     "text": [
      "Error occurred for material ID mp-763326: 'list' object has no attribute 'to'\n"
     ]
    },
    {
     "name": "stderr",
     "output_type": "stream",
     "text": [
      "Retrieving MaterialsDoc documents: 100%|███████| 1/1 [00:00<00:00, 29537.35it/s]\n",
      "Retrieving MaterialsDoc documents: 100%|███████| 1/1 [00:00<00:00, 28532.68it/s]\n",
      "Retrieving MaterialsDoc documents: 100%|███████| 1/1 [00:00<00:00, 28728.11it/s]\n",
      "Retrieving MaterialsDoc documents: 100%|███████| 1/1 [00:00<00:00, 27776.85it/s]\n",
      "Retrieving MaterialsDoc documents: 100%|███████| 1/1 [00:00<00:00, 28728.11it/s]\n",
      "Retrieving MaterialsDoc documents: 0it [00:00, ?it/s]\n"
     ]
    },
    {
     "name": "stdout",
     "output_type": "stream",
     "text": [
      "Error occurred for material ID mp-626902: 'list' object has no attribute 'to'\n"
     ]
    },
    {
     "name": "stderr",
     "output_type": "stream",
     "text": [
      "Retrieving MaterialsDoc documents: 100%|███████| 1/1 [00:00<00:00, 27594.11it/s]\n",
      "Retrieving MaterialsDoc documents: 100%|███████| 1/1 [00:00<00:00, 27594.11it/s]\n",
      "Retrieving MaterialsDoc documents: 100%|███████| 1/1 [00:00<00:00, 30393.51it/s]\n",
      "Retrieving MaterialsDoc documents: 100%|███████| 1/1 [00:00<00:00, 27776.85it/s]\n",
      "Retrieving MaterialsDoc documents: 100%|███████| 1/1 [00:00<00:00, 28532.68it/s]\n",
      "Retrieving MaterialsDoc documents: 100%|███████| 1/1 [00:00<00:00, 29330.80it/s]\n",
      "Retrieving MaterialsDoc documents: 100%|███████| 1/1 [00:00<00:00, 31300.78it/s]\n",
      "Retrieving MaterialsDoc documents: 100%|███████| 1/1 [00:00<00:00, 30174.85it/s]\n",
      "Retrieving MaterialsDoc documents: 100%|███████| 1/1 [00:00<00:00, 28728.11it/s]\n",
      "Retrieving MaterialsDoc documents: 100%|███████| 1/1 [00:00<00:00, 29330.80it/s]\n",
      "Retrieving MaterialsDoc documents: 100%|███████| 1/1 [00:00<00:00, 31300.78it/s]\n",
      "Retrieving MaterialsDoc documents: 100%|███████| 1/1 [00:00<00:00, 30174.85it/s]\n",
      "Retrieving MaterialsDoc documents: 100%|███████| 1/1 [00:00<00:00, 26214.40it/s]\n",
      "Retrieving MaterialsDoc documents: 100%|███████| 1/1 [00:00<00:00, 27776.85it/s]\n",
      "Retrieving MaterialsDoc documents: 100%|███████| 1/1 [00:00<00:00, 27235.74it/s]\n",
      "Retrieving MaterialsDoc documents: 100%|███████| 1/1 [00:00<00:00, 27235.74it/s]\n",
      "Retrieving MaterialsDoc documents: 100%|███████| 1/1 [00:00<00:00, 29330.80it/s]\n",
      "Retrieving MaterialsDoc documents: 100%|███████| 1/1 [00:00<00:00, 27060.03it/s]\n",
      "Retrieving MaterialsDoc documents: 100%|███████| 1/1 [00:00<00:00, 28532.68it/s]\n",
      "Retrieving MaterialsDoc documents: 100%|███████| 1/1 [00:00<00:00, 28532.68it/s]\n",
      "Retrieving MaterialsDoc documents: 100%|███████| 1/1 [00:00<00:00, 26886.56it/s]\n",
      "Retrieving MaterialsDoc documents: 100%|███████| 1/1 [00:00<00:00, 28532.68it/s]\n",
      "Retrieving MaterialsDoc documents: 100%|███████| 1/1 [00:00<00:00, 28532.68it/s]\n",
      "Retrieving MaterialsDoc documents: 100%|███████| 1/1 [00:00<00:00, 27962.03it/s]\n",
      "Retrieving MaterialsDoc documents: 100%|███████| 1/1 [00:00<00:00, 28532.68it/s]\n",
      "Retrieving MaterialsDoc documents: 100%|███████| 1/1 [00:00<00:00, 28728.11it/s]\n",
      "Retrieving MaterialsDoc documents: 100%|███████| 1/1 [00:00<00:00, 27776.85it/s]\n",
      "Retrieving MaterialsDoc documents: 100%|███████| 1/1 [00:00<00:00, 25575.02it/s]\n",
      "Retrieving MaterialsDoc documents: 100%|███████| 1/1 [00:00<00:00, 28728.11it/s]\n",
      "Retrieving MaterialsDoc documents: 100%|███████| 1/1 [00:00<00:00, 29330.80it/s]\n",
      "Retrieving MaterialsDoc documents: 100%|███████| 1/1 [00:00<00:00, 29330.80it/s]\n",
      "Retrieving MaterialsDoc documents: 100%|███████| 1/1 [00:00<00:00, 29330.80it/s]\n",
      "Retrieving MaterialsDoc documents: 100%|███████| 1/1 [00:00<00:00, 21290.88it/s]\n",
      "Retrieving MaterialsDoc documents: 100%|███████| 1/1 [00:00<00:00, 27776.85it/s]\n",
      "Retrieving MaterialsDoc documents: 100%|███████| 1/1 [00:00<00:00, 29330.80it/s]\n",
      "Retrieving MaterialsDoc documents: 100%|███████| 1/1 [00:00<00:00, 26886.56it/s]\n",
      "Retrieving MaterialsDoc documents: 100%|███████| 1/1 [00:00<00:00, 28532.68it/s]\n",
      "Retrieving MaterialsDoc documents: 100%|███████| 1/1 [00:00<00:00, 29746.84it/s]\n",
      "Retrieving MaterialsDoc documents: 0it [00:00, ?it/s]\n"
     ]
    },
    {
     "name": "stdout",
     "output_type": "stream",
     "text": [
      "Error occurred for material ID mp-795616: 'list' object has no attribute 'to'\n"
     ]
    },
    {
     "name": "stderr",
     "output_type": "stream",
     "text": [
      "Retrieving MaterialsDoc documents: 100%|███████| 1/1 [00:00<00:00, 27060.03it/s]\n",
      "Retrieving MaterialsDoc documents: 100%|███████| 1/1 [00:00<00:00, 27060.03it/s]\n",
      "Retrieving MaterialsDoc documents: 100%|███████| 1/1 [00:00<00:00, 27060.03it/s]\n",
      "Retrieving MaterialsDoc documents: 100%|███████| 1/1 [00:00<00:00, 27962.03it/s]\n",
      "Retrieving MaterialsDoc documents: 0it [00:00, ?it/s]\n"
     ]
    },
    {
     "name": "stdout",
     "output_type": "stream",
     "text": [
      "Error occurred for material ID mp-777225: 'list' object has no attribute 'to'\n"
     ]
    },
    {
     "name": "stderr",
     "output_type": "stream",
     "text": [
      "Retrieving MaterialsDoc documents: 100%|███████| 1/1 [00:00<00:00, 29537.35it/s]\n",
      "Retrieving MaterialsDoc documents: 100%|███████| 1/1 [00:00<00:00, 29746.84it/s]\n",
      "Retrieving MaterialsDoc documents: 100%|███████| 1/1 [00:00<00:00, 28532.68it/s]\n",
      "Retrieving MaterialsDoc documents: 100%|███████| 1/1 [00:00<00:00, 30393.51it/s]\n",
      "Retrieving MaterialsDoc documents: 100%|███████| 1/1 [00:00<00:00, 27776.85it/s]\n",
      "Retrieving MaterialsDoc documents: 100%|███████| 1/1 [00:00<00:00, 26886.56it/s]\n",
      "Retrieving MaterialsDoc documents: 100%|███████| 1/1 [00:00<00:00, 30174.85it/s]\n",
      "Retrieving MaterialsDoc documents: 100%|███████| 1/1 [00:00<00:00, 27776.85it/s]\n",
      "Retrieving MaterialsDoc documents: 100%|███████| 1/1 [00:00<00:00, 28532.68it/s]\n",
      "Retrieving MaterialsDoc documents: 100%|███████| 1/1 [00:00<00:00, 27962.03it/s]\n",
      "Retrieving MaterialsDoc documents: 100%|███████| 1/1 [00:00<00:00, 26886.56it/s]\n",
      "Retrieving MaterialsDoc documents: 0it [00:00, ?it/s]\n"
     ]
    },
    {
     "name": "stdout",
     "output_type": "stream",
     "text": [
      "Error occurred for material ID mp-24972: 'list' object has no attribute 'to'\n"
     ]
    },
    {
     "name": "stderr",
     "output_type": "stream",
     "text": [
      "Retrieving MaterialsDoc documents: 100%|███████| 1/1 [00:00<00:00, 27594.11it/s]\n",
      "Retrieving MaterialsDoc documents: 0it [00:00, ?it/s]\n"
     ]
    },
    {
     "name": "stdout",
     "output_type": "stream",
     "text": [
      "Error occurred for material ID mp-770583: 'list' object has no attribute 'to'\n"
     ]
    },
    {
     "name": "stderr",
     "output_type": "stream",
     "text": [
      "Retrieving MaterialsDoc documents: 100%|███████| 1/1 [00:00<00:00, 25575.02it/s]\n",
      "Retrieving MaterialsDoc documents: 100%|███████| 1/1 [00:00<00:00, 30174.85it/s]\n",
      "Retrieving MaterialsDoc documents: 100%|███████| 1/1 [00:00<00:00, 30393.51it/s]\n",
      "Retrieving MaterialsDoc documents: 100%|███████| 1/1 [00:00<00:00, 30393.51it/s]\n",
      "Retrieving MaterialsDoc documents: 100%|███████| 1/1 [00:00<00:00, 27060.03it/s]\n",
      "Retrieving MaterialsDoc documents: 100%|███████| 1/1 [00:00<00:00, 28532.68it/s]\n",
      "Retrieving MaterialsDoc documents: 100%|███████| 1/1 [00:00<00:00, 27594.11it/s]\n",
      "Retrieving MaterialsDoc documents: 100%|███████| 1/1 [00:00<00:00, 27776.85it/s]\n",
      "Retrieving MaterialsDoc documents: 100%|███████| 1/1 [00:00<00:00, 31300.78it/s]\n",
      "Retrieving MaterialsDoc documents: 100%|███████| 1/1 [00:00<00:00, 28532.68it/s]\n",
      "Retrieving MaterialsDoc documents: 100%|███████| 1/1 [00:00<00:00, 27962.03it/s]\n",
      "Retrieving MaterialsDoc documents: 100%|███████| 1/1 [00:00<00:00, 28339.89it/s]\n",
      "Retrieving MaterialsDoc documents: 100%|███████| 1/1 [00:00<00:00, 29330.80it/s]\n",
      "Retrieving MaterialsDoc documents: 100%|███████| 1/1 [00:00<00:00, 28532.68it/s]\n",
      "Retrieving MaterialsDoc documents: 100%|███████| 1/1 [00:00<00:00, 26886.56it/s]\n",
      "Retrieving MaterialsDoc documents: 100%|███████| 1/1 [00:00<00:00, 30615.36it/s]\n",
      "Retrieving MaterialsDoc documents: 100%|███████| 1/1 [00:00<00:00, 27060.03it/s]\n",
      "Retrieving MaterialsDoc documents: 100%|███████| 1/1 [00:00<00:00, 29330.80it/s]\n",
      "Retrieving MaterialsDoc documents: 100%|███████| 1/1 [00:00<00:00, 28532.68it/s]\n",
      "Retrieving MaterialsDoc documents: 100%|███████| 1/1 [00:00<00:00, 26379.27it/s]\n",
      "Retrieving MaterialsDoc documents: 100%|███████| 1/1 [00:00<00:00, 28728.11it/s]\n",
      "Retrieving MaterialsDoc documents: 100%|███████| 1/1 [00:00<00:00, 27235.74it/s]\n",
      "Retrieving MaterialsDoc documents: 100%|███████| 1/1 [00:00<00:00, 25115.59it/s]\n",
      "Retrieving MaterialsDoc documents: 100%|███████| 1/1 [00:00<00:00, 27962.03it/s]\n",
      "Retrieving MaterialsDoc documents: 100%|███████| 1/1 [00:00<00:00, 29330.80it/s]\n",
      "Retrieving MaterialsDoc documents: 100%|███████| 1/1 [00:00<00:00, 23301.69it/s]\n",
      "Retrieving MaterialsDoc documents: 100%|███████| 1/1 [00:00<00:00, 29537.35it/s]\n",
      "Retrieving MaterialsDoc documents: 100%|███████| 1/1 [00:00<00:00, 24966.10it/s]\n",
      "Retrieving MaterialsDoc documents: 100%|███████| 1/1 [00:00<00:00, 28728.11it/s]\n",
      "Retrieving MaterialsDoc documents: 100%|███████| 1/1 [00:00<00:00, 30174.85it/s]\n",
      "Retrieving MaterialsDoc documents: 0it [00:00, ?it/s]\n"
     ]
    },
    {
     "name": "stdout",
     "output_type": "stream",
     "text": [
      "Error occurred for material ID mp-765777: 'list' object has no attribute 'to'\n"
     ]
    },
    {
     "name": "stderr",
     "output_type": "stream",
     "text": [
      "Retrieving MaterialsDoc documents: 100%|███████| 1/1 [00:00<00:00, 27776.85it/s]\n",
      "Retrieving MaterialsDoc documents: 100%|███████| 1/1 [00:00<00:00, 29537.35it/s]\n",
      "Retrieving MaterialsDoc documents: 100%|███████| 1/1 [00:00<00:00, 27060.03it/s]\n",
      "Retrieving MaterialsDoc documents: 100%|███████| 1/1 [00:00<00:00, 29330.80it/s]\n",
      "Retrieving MaterialsDoc documents: 0it [00:00, ?it/s]\n"
     ]
    },
    {
     "name": "stdout",
     "output_type": "stream",
     "text": [
      "Error occurred for material ID mp-565348: 'list' object has no attribute 'to'\n"
     ]
    },
    {
     "name": "stderr",
     "output_type": "stream",
     "text": [
      "Retrieving MaterialsDoc documents: 100%|███████| 1/1 [00:00<00:00, 27060.03it/s]\n",
      "Retrieving MaterialsDoc documents: 100%|███████| 1/1 [00:00<00:00, 29330.80it/s]\n",
      "Retrieving MaterialsDoc documents: 100%|███████| 1/1 [00:00<00:00, 27776.85it/s]\n",
      "Retrieving MaterialsDoc documents: 100%|███████| 1/1 [00:00<00:00, 29330.80it/s]\n",
      "Retrieving MaterialsDoc documents: 100%|███████| 1/1 [00:00<00:00, 27962.03it/s]\n",
      "Retrieving MaterialsDoc documents: 100%|███████| 1/1 [00:00<00:00, 28532.68it/s]\n",
      "Retrieving MaterialsDoc documents: 100%|███████| 1/1 [00:00<00:00, 29537.35it/s]\n",
      "Retrieving MaterialsDoc documents: 100%|███████| 1/1 [00:00<00:00, 27594.11it/s]\n",
      "Retrieving MaterialsDoc documents: 100%|███████| 1/1 [00:00<00:00, 29537.35it/s]\n",
      "Retrieving MaterialsDoc documents: 100%|███████| 1/1 [00:00<00:00, 28728.11it/s]\n",
      "Retrieving MaterialsDoc documents: 0it [00:00, ?it/s]\n"
     ]
    },
    {
     "name": "stdout",
     "output_type": "stream",
     "text": [
      "Error occurred for material ID mp-761361: 'list' object has no attribute 'to'\n"
     ]
    },
    {
     "name": "stderr",
     "output_type": "stream",
     "text": [
      "Retrieving MaterialsDoc documents: 100%|███████| 1/1 [00:00<00:00, 29330.80it/s]\n",
      "Retrieving MaterialsDoc documents: 100%|███████| 1/1 [00:00<00:00, 27776.85it/s]\n",
      "Retrieving MaterialsDoc documents: 100%|███████| 1/1 [00:00<00:00, 27060.03it/s]\n",
      "Retrieving MaterialsDoc documents: 100%|███████| 1/1 [00:00<00:00, 29330.80it/s]\n",
      "Retrieving MaterialsDoc documents: 100%|███████| 1/1 [00:00<00:00, 30393.51it/s]\n",
      "Retrieving MaterialsDoc documents: 100%|███████| 1/1 [00:00<00:00, 30174.85it/s]\n",
      "Retrieving MaterialsDoc documents: 100%|███████| 1/1 [00:00<00:00, 27962.03it/s]\n",
      "Retrieving MaterialsDoc documents: 0it [00:00, ?it/s]\n"
     ]
    },
    {
     "name": "stdout",
     "output_type": "stream",
     "text": [
      "Error occurred for material ID mp-775845: 'list' object has no attribute 'to'\n"
     ]
    },
    {
     "name": "stderr",
     "output_type": "stream",
     "text": [
      "Retrieving MaterialsDoc documents: 100%|███████| 1/1 [00:00<00:00, 27060.03it/s]\n",
      "Retrieving MaterialsDoc documents: 100%|███████| 1/1 [00:00<00:00, 28728.11it/s]\n",
      "Retrieving MaterialsDoc documents: 100%|███████| 1/1 [00:00<00:00, 30393.51it/s]\n",
      "Retrieving MaterialsDoc documents: 100%|███████| 1/1 [00:00<00:00, 28532.68it/s]\n",
      "Retrieving MaterialsDoc documents: 100%|███████| 1/1 [00:00<00:00, 27594.11it/s]\n",
      "Retrieving MaterialsDoc documents: 100%|███████| 1/1 [00:00<00:00, 29537.35it/s]\n",
      "Retrieving MaterialsDoc documents: 100%|███████| 1/1 [00:00<00:00, 27594.11it/s]\n",
      "Retrieving MaterialsDoc documents: 100%|███████| 1/1 [00:00<00:00, 30174.85it/s]\n",
      "Retrieving MaterialsDoc documents: 100%|███████| 1/1 [00:00<00:00, 28532.68it/s]\n",
      "Retrieving MaterialsDoc documents: 100%|███████| 1/1 [00:00<00:00, 19599.55it/s]\n",
      "Retrieving MaterialsDoc documents: 100%|███████| 1/1 [00:00<00:00, 28532.68it/s]\n",
      "Retrieving MaterialsDoc documents: 100%|███████| 1/1 [00:00<00:00, 31300.78it/s]\n",
      "Retrieving MaterialsDoc documents: 100%|███████| 1/1 [00:00<00:00, 27776.85it/s]\n",
      "Retrieving MaterialsDoc documents: 100%|███████| 1/1 [00:00<00:00, 29330.80it/s]\n",
      "Retrieving MaterialsDoc documents: 100%|███████| 1/1 [00:00<00:00, 28728.11it/s]\n",
      "Retrieving MaterialsDoc documents: 100%|███████| 1/1 [00:00<00:00, 28532.68it/s]\n",
      "Retrieving MaterialsDoc documents: 100%|███████| 1/1 [00:00<00:00, 25731.93it/s]\n",
      "Retrieving MaterialsDoc documents: 100%|███████| 1/1 [00:00<00:00, 29537.35it/s]\n",
      "Retrieving MaterialsDoc documents: 100%|███████| 1/1 [00:00<00:00, 30393.51it/s]\n",
      "Retrieving MaterialsDoc documents: 100%|███████| 1/1 [00:00<00:00, 28339.89it/s]\n",
      "Retrieving MaterialsDoc documents: 100%|███████| 1/1 [00:00<00:00, 27776.85it/s]\n",
      "Retrieving MaterialsDoc documents: 100%|███████| 1/1 [00:00<00:00, 30174.85it/s]\n",
      "Retrieving MaterialsDoc documents: 100%|███████| 1/1 [00:00<00:00, 27235.74it/s]\n",
      "Retrieving MaterialsDoc documents: 100%|███████| 1/1 [00:00<00:00, 28532.68it/s]\n",
      "Retrieving MaterialsDoc documents: 100%|███████| 1/1 [00:00<00:00, 32263.88it/s]\n",
      "Retrieving MaterialsDoc documents: 100%|███████| 1/1 [00:00<00:00, 27235.74it/s]\n",
      "Retrieving MaterialsDoc documents: 0it [00:00, ?it/s]\n"
     ]
    },
    {
     "name": "stdout",
     "output_type": "stream",
     "text": [
      "Error occurred for material ID mp-779948: 'list' object has no attribute 'to'\n"
     ]
    },
    {
     "name": "stderr",
     "output_type": "stream",
     "text": [
      "Retrieving MaterialsDoc documents: 100%|███████| 1/1 [00:00<00:00, 30174.85it/s]\n",
      "Retrieving MaterialsDoc documents: 100%|███████| 1/1 [00:00<00:00, 27060.03it/s]\n",
      "Retrieving MaterialsDoc documents: 100%|███████| 1/1 [00:00<00:00, 27060.03it/s]\n",
      "Retrieving MaterialsDoc documents: 100%|███████| 1/1 [00:00<00:00, 27594.11it/s]\n",
      "Retrieving MaterialsDoc documents: 100%|███████| 1/1 [00:00<00:00, 27594.11it/s]\n",
      "Retrieving MaterialsDoc documents: 0it [00:00, ?it/s]\n"
     ]
    },
    {
     "name": "stdout",
     "output_type": "stream",
     "text": [
      "Error occurred for material ID mp-769933: 'list' object has no attribute 'to'\n"
     ]
    },
    {
     "name": "stderr",
     "output_type": "stream",
     "text": [
      "Retrieving MaterialsDoc documents: 100%|███████| 1/1 [00:00<00:00, 18808.54it/s]\n",
      "Retrieving MaterialsDoc documents: 100%|███████| 1/1 [00:00<00:00, 27962.03it/s]\n",
      "Retrieving MaterialsDoc documents: 0it [00:00, ?it/s]\n"
     ]
    },
    {
     "name": "stdout",
     "output_type": "stream",
     "text": [
      "Error occurred for material ID mp-768060: 'list' object has no attribute 'to'\n"
     ]
    },
    {
     "name": "stderr",
     "output_type": "stream",
     "text": [
      "Retrieving MaterialsDoc documents: 100%|███████| 1/1 [00:00<00:00, 27594.11it/s]\n",
      "Retrieving MaterialsDoc documents: 100%|███████| 1/1 [00:00<00:00, 27776.85it/s]\n",
      "Retrieving MaterialsDoc documents: 100%|███████| 1/1 [00:00<00:00, 28532.68it/s]\n",
      "Retrieving MaterialsDoc documents: 100%|███████| 1/1 [00:00<00:00, 28532.68it/s]\n",
      "Retrieving MaterialsDoc documents: 100%|███████| 1/1 [00:00<00:00, 27594.11it/s]\n",
      "Retrieving MaterialsDoc documents: 100%|███████| 1/1 [00:00<00:00, 27594.11it/s]\n",
      "Retrieving MaterialsDoc documents: 100%|███████| 1/1 [00:00<00:00, 29537.35it/s]\n",
      "Retrieving MaterialsDoc documents: 100%|███████| 1/1 [00:00<00:00, 27235.74it/s]\n",
      "Retrieving MaterialsDoc documents: 100%|███████| 1/1 [00:00<00:00, 27235.74it/s]\n",
      "Retrieving MaterialsDoc documents: 100%|███████| 1/1 [00:00<00:00, 29330.80it/s]\n",
      "Retrieving MaterialsDoc documents: 100%|███████| 1/1 [00:00<00:00, 20068.44it/s]\n",
      "Retrieving MaterialsDoc documents: 100%|███████| 1/1 [00:00<00:00, 29330.80it/s]\n",
      "Retrieving MaterialsDoc documents: 100%|███████| 1/1 [00:00<00:00, 27060.03it/s]\n",
      "Retrieving MaterialsDoc documents: 100%|███████| 1/1 [00:00<00:00, 27235.74it/s]\n",
      "Retrieving MaterialsDoc documents: 100%|███████| 1/1 [00:00<00:00, 30393.51it/s]\n",
      "Retrieving MaterialsDoc documents: 100%|███████| 1/1 [00:00<00:00, 31300.78it/s]\n",
      "Retrieving MaterialsDoc documents: 100%|███████| 1/1 [00:00<00:00, 27594.11it/s]\n",
      "Retrieving MaterialsDoc documents: 100%|███████| 1/1 [00:00<00:00, 28339.89it/s]\n",
      "Retrieving MaterialsDoc documents: 100%|███████| 1/1 [00:00<00:00, 29537.35it/s]\n",
      "Retrieving MaterialsDoc documents: 100%|███████| 1/1 [00:00<00:00, 27776.85it/s]\n",
      "Retrieving MaterialsDoc documents: 100%|███████| 1/1 [00:00<00:00, 27776.85it/s]\n",
      "Retrieving MaterialsDoc documents: 100%|███████| 1/1 [00:00<00:00, 29330.80it/s]\n",
      "Retrieving MaterialsDoc documents: 100%|███████| 1/1 [00:00<00:00, 23301.69it/s]\n",
      "Retrieving MaterialsDoc documents: 100%|███████| 1/1 [00:00<00:00, 27776.85it/s]\n",
      "Retrieving MaterialsDoc documents: 0it [00:00, ?it/s]\n"
     ]
    },
    {
     "name": "stdout",
     "output_type": "stream",
     "text": [
      "Error occurred for material ID mp-561800: 'list' object has no attribute 'to'\n"
     ]
    },
    {
     "name": "stderr",
     "output_type": "stream",
     "text": [
      "Retrieving MaterialsDoc documents: 100%|███████| 1/1 [00:00<00:00, 28532.68it/s]\n",
      "Retrieving MaterialsDoc documents: 100%|███████| 1/1 [00:00<00:00, 27060.03it/s]\n",
      "Retrieving MaterialsDoc documents: 100%|███████| 1/1 [00:00<00:00, 29537.35it/s]\n",
      "Retrieving MaterialsDoc documents: 100%|███████| 1/1 [00:00<00:00, 27594.11it/s]\n",
      "Retrieving MaterialsDoc documents: 100%|███████| 1/1 [00:00<00:00, 27594.11it/s]\n",
      "Retrieving MaterialsDoc documents: 100%|███████| 1/1 [00:00<00:00, 26379.27it/s]\n",
      "Retrieving MaterialsDoc documents: 100%|███████| 1/1 [00:00<00:00, 29330.80it/s]\n",
      "Retrieving MaterialsDoc documents: 100%|███████| 1/1 [00:00<00:00, 27962.03it/s]\n",
      "Retrieving MaterialsDoc documents: 100%|███████| 1/1 [00:00<00:00, 29330.80it/s]\n",
      "Retrieving MaterialsDoc documents: 100%|███████| 1/1 [00:00<00:00, 26546.23it/s]\n",
      "Retrieving MaterialsDoc documents: 100%|███████| 1/1 [00:00<00:00, 27776.85it/s]\n",
      "Retrieving MaterialsDoc documents: 0it [00:00, ?it/s]\n"
     ]
    },
    {
     "name": "stdout",
     "output_type": "stream",
     "text": [
      "Error occurred for material ID mp-775089: 'list' object has no attribute 'to'\n"
     ]
    },
    {
     "name": "stderr",
     "output_type": "stream",
     "text": [
      "Retrieving MaterialsDoc documents: 100%|███████| 1/1 [00:00<00:00, 27594.11it/s]\n",
      "Retrieving MaterialsDoc documents: 100%|███████| 1/1 [00:00<00:00, 28532.68it/s]\n",
      "Retrieving MaterialsDoc documents: 100%|███████| 1/1 [00:00<00:00, 28339.89it/s]\n",
      "Retrieving MaterialsDoc documents: 100%|███████| 1/1 [00:00<00:00, 29330.80it/s]\n",
      "Retrieving MaterialsDoc documents: 100%|███████| 1/1 [00:00<00:00, 28532.68it/s]\n",
      "Retrieving MaterialsDoc documents: 100%|███████| 1/1 [00:00<00:00, 28532.68it/s]\n",
      "Retrieving MaterialsDoc documents: 100%|███████| 1/1 [00:00<00:00, 28532.68it/s]\n",
      "Retrieving MaterialsDoc documents: 100%|███████| 1/1 [00:00<00:00, 27594.11it/s]\n",
      "Retrieving MaterialsDoc documents: 100%|███████| 1/1 [00:00<00:00, 29330.80it/s]\n",
      "Retrieving MaterialsDoc documents: 100%|███████| 1/1 [00:00<00:00, 22671.91it/s]\n",
      "Retrieving MaterialsDoc documents: 100%|███████| 1/1 [00:00<00:00, 30393.51it/s]\n",
      "Retrieving MaterialsDoc documents: 100%|███████| 1/1 [00:00<00:00, 30393.51it/s]\n",
      "Retrieving MaterialsDoc documents: 100%|███████| 1/1 [00:00<00:00, 28728.11it/s]\n",
      "Retrieving MaterialsDoc documents: 100%|███████| 1/1 [00:00<00:00, 27962.03it/s]\n",
      "Retrieving MaterialsDoc documents: 100%|███████| 1/1 [00:00<00:00, 27962.03it/s]\n",
      "Retrieving MaterialsDoc documents: 100%|███████| 1/1 [00:00<00:00, 26379.27it/s]\n",
      "Retrieving MaterialsDoc documents: 100%|███████| 1/1 [00:00<00:00, 29330.80it/s]\n",
      "Retrieving MaterialsDoc documents: 100%|███████| 1/1 [00:00<00:00, 28728.11it/s]\n",
      "Retrieving MaterialsDoc documents: 100%|███████| 1/1 [00:00<00:00, 31068.92it/s]\n",
      "Retrieving MaterialsDoc documents: 100%|███████| 1/1 [00:00<00:00, 28532.68it/s]\n",
      "Retrieving MaterialsDoc documents: 100%|███████| 1/1 [00:00<00:00, 27962.03it/s]\n",
      "Retrieving MaterialsDoc documents: 100%|███████| 1/1 [00:00<00:00, 27594.11it/s]\n",
      "Retrieving MaterialsDoc documents: 100%|███████| 1/1 [00:00<00:00, 27776.85it/s]\n",
      "Retrieving MaterialsDoc documents: 100%|███████| 1/1 [00:00<00:00, 31300.78it/s]\n",
      "Retrieving MaterialsDoc documents: 100%|███████| 1/1 [00:00<00:00, 25575.02it/s]\n",
      "Retrieving MaterialsDoc documents: 100%|███████| 1/1 [00:00<00:00, 26214.40it/s]\n",
      "Retrieving MaterialsDoc documents: 100%|███████| 1/1 [00:00<00:00, 23831.27it/s]\n",
      "Retrieving MaterialsDoc documents: 100%|███████| 1/1 [00:00<00:00, 27594.11it/s]\n",
      "Retrieving MaterialsDoc documents: 100%|███████| 1/1 [00:00<00:00, 28532.68it/s]\n",
      "Retrieving MaterialsDoc documents: 100%|███████| 1/1 [00:00<00:00, 30393.51it/s]\n",
      "Retrieving MaterialsDoc documents: 100%|███████| 1/1 [00:00<00:00, 28532.68it/s]\n",
      "Retrieving MaterialsDoc documents: 0it [00:00, ?it/s]\n"
     ]
    },
    {
     "name": "stdout",
     "output_type": "stream",
     "text": [
      "Error occurred for material ID mp-867133: 'list' object has no attribute 'to'\n"
     ]
    },
    {
     "name": "stderr",
     "output_type": "stream",
     "text": [
      "Retrieving MaterialsDoc documents: 100%|███████| 1/1 [00:00<00:00, 28532.68it/s]\n",
      "Retrieving MaterialsDoc documents: 100%|███████| 1/1 [00:00<00:00, 27962.03it/s]\n",
      "Retrieving MaterialsDoc documents: 100%|███████| 1/1 [00:00<00:00, 30174.85it/s]\n",
      "Retrieving MaterialsDoc documents: 100%|███████| 1/1 [00:00<00:00, 32263.88it/s]\n",
      "Retrieving MaterialsDoc documents: 100%|███████| 1/1 [00:00<00:00, 27962.03it/s]\n",
      "Retrieving MaterialsDoc documents: 100%|███████| 1/1 [00:00<00:00, 27594.11it/s]\n",
      "Retrieving MaterialsDoc documents: 100%|███████| 1/1 [00:00<00:00, 28532.68it/s]\n",
      "Retrieving MaterialsDoc documents: 100%|███████| 1/1 [00:00<00:00, 28532.68it/s]\n",
      "Retrieving MaterialsDoc documents: 100%|███████| 1/1 [00:00<00:00, 28532.68it/s]\n",
      "Retrieving MaterialsDoc documents: 100%|███████| 1/1 [00:00<00:00, 29330.80it/s]\n",
      "Retrieving MaterialsDoc documents: 100%|███████| 1/1 [00:00<00:00, 31300.78it/s]\n",
      "Retrieving MaterialsDoc documents: 100%|███████| 1/1 [00:00<00:00, 28532.68it/s]\n",
      "Retrieving MaterialsDoc documents: 100%|███████| 1/1 [00:00<00:00, 29537.35it/s]\n",
      "Retrieving MaterialsDoc documents: 100%|███████| 1/1 [00:00<00:00, 27594.11it/s]\n",
      "Retrieving MaterialsDoc documents: 100%|███████| 1/1 [00:00<00:00, 29537.35it/s]\n",
      "Retrieving MaterialsDoc documents: 100%|███████| 1/1 [00:00<00:00, 25575.02it/s]\n",
      "Retrieving MaterialsDoc documents: 100%|███████| 1/1 [00:00<00:00, 29537.35it/s]\n",
      "Retrieving MaterialsDoc documents: 100%|███████| 1/1 [00:00<00:00, 27962.03it/s]\n",
      "Retrieving MaterialsDoc documents: 100%|███████| 1/1 [00:00<00:00, 23831.27it/s]\n",
      "Retrieving MaterialsDoc documents: 100%|███████| 1/1 [00:00<00:00, 27235.74it/s]\n",
      "Retrieving MaterialsDoc documents: 0it [00:00, ?it/s]\n"
     ]
    },
    {
     "name": "stdout",
     "output_type": "stream",
     "text": [
      "Error occurred for material ID mp-764309: 'list' object has no attribute 'to'\n"
     ]
    },
    {
     "name": "stderr",
     "output_type": "stream",
     "text": [
      "Retrieving MaterialsDoc documents: 0it [00:00, ?it/s]\n"
     ]
    },
    {
     "name": "stdout",
     "output_type": "stream",
     "text": [
      "Error occurred for material ID mp-773534: 'list' object has no attribute 'to'\n"
     ]
    },
    {
     "name": "stderr",
     "output_type": "stream",
     "text": [
      "Retrieving MaterialsDoc documents: 100%|███████| 1/1 [00:00<00:00, 27776.85it/s]\n",
      "Retrieving MaterialsDoc documents: 100%|███████| 1/1 [00:00<00:00, 27060.03it/s]\n",
      "Retrieving MaterialsDoc documents: 100%|███████| 1/1 [00:00<00:00, 27060.03it/s]\n",
      "Retrieving MaterialsDoc documents: 100%|███████| 1/1 [00:00<00:00, 24385.49it/s]\n",
      "Retrieving MaterialsDoc documents: 100%|███████| 1/1 [00:00<00:00, 27594.11it/s]\n",
      "Retrieving MaterialsDoc documents: 100%|███████| 1/1 [00:00<00:00, 26214.40it/s]\n",
      "Retrieving MaterialsDoc documents: 100%|███████| 1/1 [00:00<00:00, 27060.03it/s]\n",
      "Retrieving MaterialsDoc documents: 100%|███████| 1/1 [00:00<00:00, 12372.58it/s]\n",
      "Retrieving MaterialsDoc documents: 100%|███████| 1/1 [00:00<00:00, 28532.68it/s]\n",
      "Retrieving MaterialsDoc documents: 100%|███████| 1/1 [00:00<00:00, 29330.80it/s]\n",
      "Retrieving MaterialsDoc documents: 100%|███████| 1/1 [00:00<00:00, 27776.85it/s]\n",
      "Retrieving MaterialsDoc documents: 100%|███████| 1/1 [00:00<00:00, 30393.51it/s]\n",
      "Retrieving MaterialsDoc documents: 0it [00:00, ?it/s]\n"
     ]
    },
    {
     "name": "stdout",
     "output_type": "stream",
     "text": [
      "Error occurred for material ID mp-867700: 'list' object has no attribute 'to'\n"
     ]
    },
    {
     "name": "stderr",
     "output_type": "stream",
     "text": [
      "Retrieving MaterialsDoc documents: 100%|███████| 1/1 [00:00<00:00, 28532.68it/s]\n",
      "Retrieving MaterialsDoc documents: 100%|███████| 1/1 [00:00<00:00, 25115.59it/s]\n",
      "Retrieving MaterialsDoc documents: 100%|███████| 1/1 [00:00<00:00, 26214.40it/s]\n",
      "Retrieving MaterialsDoc documents: 100%|███████| 1/1 [00:00<00:00, 27060.03it/s]\n",
      "Retrieving MaterialsDoc documents: 100%|███████| 1/1 [00:00<00:00, 27060.03it/s]\n",
      "Retrieving MaterialsDoc documents: 100%|███████| 1/1 [00:00<00:00, 28728.11it/s]\n",
      "Retrieving MaterialsDoc documents: 100%|███████| 1/1 [00:00<00:00, 32263.88it/s]\n",
      "Retrieving MaterialsDoc documents: 100%|███████| 1/1 [00:00<00:00, 29330.80it/s]\n",
      "Retrieving MaterialsDoc documents: 100%|███████| 1/1 [00:00<00:00, 28339.89it/s]\n",
      "Retrieving MaterialsDoc documents: 100%|███████| 1/1 [00:00<00:00, 30174.85it/s]\n",
      "Retrieving MaterialsDoc documents: 100%|███████| 1/1 [00:00<00:00, 26379.27it/s]\n",
      "Retrieving MaterialsDoc documents: 100%|███████| 1/1 [00:00<00:00, 27235.74it/s]\n",
      "Retrieving MaterialsDoc documents: 100%|███████| 1/1 [00:00<00:00, 29537.35it/s]\n",
      "Retrieving MaterialsDoc documents: 100%|███████| 1/1 [00:00<00:00, 28532.68it/s]\n",
      "Retrieving MaterialsDoc documents: 100%|███████| 1/1 [00:00<00:00, 28532.68it/s]\n",
      "Retrieving MaterialsDoc documents: 100%|███████| 1/1 [00:00<00:00, 27060.03it/s]\n",
      "Retrieving MaterialsDoc documents: 100%|███████| 1/1 [00:00<00:00, 27594.11it/s]\n",
      "Retrieving MaterialsDoc documents: 100%|███████| 1/1 [00:00<00:00, 29330.80it/s]\n",
      "Retrieving MaterialsDoc documents: 100%|███████| 1/1 [00:00<00:00, 22192.08it/s]\n",
      "Retrieving MaterialsDoc documents: 100%|███████| 1/1 [00:00<00:00, 29537.35it/s]\n",
      "Retrieving MaterialsDoc documents: 100%|███████| 1/1 [00:00<00:00, 28532.68it/s]\n",
      "Retrieving MaterialsDoc documents: 100%|███████| 1/1 [00:00<00:00, 26379.27it/s]\n",
      "Retrieving MaterialsDoc documents: 100%|███████| 1/1 [00:00<00:00, 28532.68it/s]\n",
      "Retrieving MaterialsDoc documents: 100%|███████| 1/1 [00:00<00:00, 28728.11it/s]\n",
      "Retrieving MaterialsDoc documents: 100%|███████| 1/1 [00:00<00:00, 29537.35it/s]\n",
      "Retrieving MaterialsDoc documents: 100%|███████| 1/1 [00:00<00:00, 30393.51it/s]\n",
      "Retrieving MaterialsDoc documents: 100%|███████| 1/1 [00:00<00:00, 27060.03it/s]\n",
      "Retrieving MaterialsDoc documents: 100%|███████| 1/1 [00:00<00:00, 30393.51it/s]\n",
      "Retrieving MaterialsDoc documents: 100%|███████| 1/1 [00:00<00:00, 27594.11it/s]\n",
      "Retrieving MaterialsDoc documents: 100%|███████| 1/1 [00:00<00:00, 20867.18it/s]\n",
      "Retrieving MaterialsDoc documents: 100%|███████| 1/1 [00:00<00:00, 29330.80it/s]\n",
      "Retrieving MaterialsDoc documents: 100%|███████| 1/1 [00:00<00:00, 28728.11it/s]\n",
      "Retrieving MaterialsDoc documents: 100%|███████| 1/1 [00:00<00:00, 27594.11it/s]\n",
      "Retrieving MaterialsDoc documents: 100%|███████| 1/1 [00:00<00:00, 27962.03it/s]\n",
      "Retrieving MaterialsDoc documents: 100%|███████| 1/1 [00:00<00:00, 28532.68it/s]\n",
      "Retrieving MaterialsDoc documents: 100%|███████| 1/1 [00:00<00:00, 31300.78it/s]\n",
      "Retrieving MaterialsDoc documents: 100%|███████| 1/1 [00:00<00:00, 28532.68it/s]\n",
      "Retrieving MaterialsDoc documents: 100%|███████| 1/1 [00:00<00:00, 28532.68it/s]\n",
      "Retrieving MaterialsDoc documents: 100%|███████| 1/1 [00:00<00:00, 28532.68it/s]\n",
      "Retrieving MaterialsDoc documents: 100%|███████| 1/1 [00:00<00:00, 28532.68it/s]\n",
      "Retrieving MaterialsDoc documents: 100%|███████| 1/1 [00:00<00:00, 28532.68it/s]\n",
      "Retrieving MaterialsDoc documents: 100%|███████| 1/1 [00:00<00:00, 28728.11it/s]\n",
      "Retrieving MaterialsDoc documents: 100%|███████| 1/1 [00:00<00:00, 31300.78it/s]\n",
      "Retrieving MaterialsDoc documents: 100%|███████| 1/1 [00:00<00:00, 28532.68it/s]\n",
      "Retrieving MaterialsDoc documents: 100%|███████| 1/1 [00:00<00:00, 27776.85it/s]\n",
      "Retrieving MaterialsDoc documents: 100%|███████| 1/1 [00:00<00:00, 28532.68it/s]\n",
      "Retrieving MaterialsDoc documents: 100%|███████| 1/1 [00:00<00:00, 28532.68it/s]\n",
      "Retrieving MaterialsDoc documents: 100%|███████| 1/1 [00:00<00:00, 29330.80it/s]\n",
      "Retrieving MaterialsDoc documents: 100%|███████| 1/1 [00:00<00:00, 28728.11it/s]\n",
      "Retrieving MaterialsDoc documents: 100%|███████| 1/1 [00:00<00:00, 31300.78it/s]\n",
      "Retrieving MaterialsDoc documents: 100%|███████| 1/1 [00:00<00:00, 28532.68it/s]\n",
      "Retrieving MaterialsDoc documents: 100%|███████| 1/1 [00:00<00:00, 27776.85it/s]\n",
      "Retrieving MaterialsDoc documents: 100%|███████| 1/1 [00:00<00:00, 27962.03it/s]\n",
      "Retrieving MaterialsDoc documents: 100%|███████| 1/1 [00:00<00:00, 29537.35it/s]\n",
      "Retrieving MaterialsDoc documents: 100%|███████| 1/1 [00:00<00:00, 29330.80it/s]\n",
      "Retrieving MaterialsDoc documents: 100%|███████| 1/1 [00:00<00:00, 26886.56it/s]\n",
      "Retrieving MaterialsDoc documents: 0it [00:00, ?it/s]\n"
     ]
    },
    {
     "name": "stdout",
     "output_type": "stream",
     "text": [
      "Error occurred for material ID mp-771796: 'list' object has no attribute 'to'\n"
     ]
    },
    {
     "name": "stderr",
     "output_type": "stream",
     "text": [
      "Retrieving MaterialsDoc documents: 100%|███████| 1/1 [00:00<00:00, 29330.80it/s]\n",
      "Retrieving MaterialsDoc documents: 100%|███████| 1/1 [00:00<00:00, 26886.56it/s]\n",
      "Retrieving MaterialsDoc documents: 100%|███████| 1/1 [00:00<00:00, 30393.51it/s]\n",
      "Retrieving MaterialsDoc documents: 100%|███████| 1/1 [00:00<00:00, 27776.85it/s]\n",
      "Retrieving MaterialsDoc documents: 100%|███████| 1/1 [00:00<00:00, 29330.80it/s]\n",
      "Retrieving MaterialsDoc documents: 100%|███████| 1/1 [00:00<00:00, 32513.98it/s]\n",
      "Retrieving MaterialsDoc documents: 0it [00:00, ?it/s]\n"
     ]
    },
    {
     "name": "stdout",
     "output_type": "stream",
     "text": [
      "Error occurred for material ID mp-772359: 'list' object has no attribute 'to'\n"
     ]
    },
    {
     "name": "stderr",
     "output_type": "stream",
     "text": [
      "Retrieving MaterialsDoc documents: 100%|███████| 1/1 [00:00<00:00, 29537.35it/s]\n",
      "Retrieving MaterialsDoc documents: 100%|███████| 1/1 [00:00<00:00, 28728.11it/s]\n",
      "Retrieving MaterialsDoc documents: 100%|███████| 1/1 [00:00<00:00, 27776.85it/s]\n",
      "Retrieving MaterialsDoc documents: 0it [00:00, ?it/s]\n"
     ]
    },
    {
     "name": "stdout",
     "output_type": "stream",
     "text": [
      "Error occurred for material ID mp-782682: 'list' object has no attribute 'to'\n"
     ]
    },
    {
     "name": "stderr",
     "output_type": "stream",
     "text": [
      "Retrieving MaterialsDoc documents: 0it [00:00, ?it/s]\n"
     ]
    },
    {
     "name": "stdout",
     "output_type": "stream",
     "text": [
      "Error occurred for material ID mp-776881: 'list' object has no attribute 'to'\n"
     ]
    },
    {
     "name": "stderr",
     "output_type": "stream",
     "text": [
      "Retrieving MaterialsDoc documents: 100%|███████| 1/1 [00:00<00:00, 27776.85it/s]\n",
      "Retrieving MaterialsDoc documents: 100%|███████| 1/1 [00:00<00:00, 28728.11it/s]\n",
      "Retrieving MaterialsDoc documents: 100%|███████| 1/1 [00:00<00:00, 30393.51it/s]\n",
      "Retrieving MaterialsDoc documents: 100%|███████| 1/1 [00:00<00:00, 29330.80it/s]\n",
      "Retrieving MaterialsDoc documents: 100%|███████| 1/1 [00:00<00:00, 26886.56it/s]\n",
      "Retrieving MaterialsDoc documents: 100%|███████| 1/1 [00:00<00:00, 30174.85it/s]\n",
      "Retrieving MaterialsDoc documents: 100%|███████| 1/1 [00:00<00:00, 31068.92it/s]\n",
      "Retrieving MaterialsDoc documents: 100%|███████| 1/1 [00:00<00:00, 27776.85it/s]\n",
      "Retrieving MaterialsDoc documents: 0it [00:00, ?it/s]\n"
     ]
    },
    {
     "name": "stdout",
     "output_type": "stream",
     "text": [
      "Error occurred for material ID mp-555047: 'list' object has no attribute 'to'\n"
     ]
    },
    {
     "name": "stderr",
     "output_type": "stream",
     "text": [
      "Retrieving MaterialsDoc documents: 100%|███████| 1/1 [00:00<00:00, 29330.80it/s]\n",
      "Retrieving MaterialsDoc documents: 100%|███████| 1/1 [00:00<00:00, 27962.03it/s]\n",
      "Retrieving MaterialsDoc documents: 100%|███████| 1/1 [00:00<00:00, 29537.35it/s]\n",
      "Retrieving MaterialsDoc documents: 100%|███████| 1/1 [00:00<00:00, 28728.11it/s]\n",
      "Retrieving MaterialsDoc documents: 100%|███████| 1/1 [00:00<00:00, 29537.35it/s]\n",
      "Retrieving MaterialsDoc documents: 100%|███████| 1/1 [00:00<00:00, 30174.85it/s]\n",
      "Retrieving MaterialsDoc documents: 100%|███████| 1/1 [00:00<00:00, 28339.89it/s]\n",
      "Retrieving MaterialsDoc documents: 100%|███████| 1/1 [00:00<00:00, 27594.11it/s]\n",
      "Retrieving MaterialsDoc documents: 100%|███████| 1/1 [00:00<00:00, 28339.89it/s]\n",
      "Retrieving MaterialsDoc documents: 100%|███████| 1/1 [00:00<00:00, 28532.68it/s]\n",
      "Retrieving MaterialsDoc documents: 100%|███████| 1/1 [00:00<00:00, 28532.68it/s]\n",
      "Retrieving MaterialsDoc documents: 100%|███████| 1/1 [00:00<00:00, 28728.11it/s]\n",
      "Retrieving MaterialsDoc documents: 100%|███████| 1/1 [00:00<00:00, 30174.85it/s]\n",
      "Retrieving MaterialsDoc documents: 100%|███████| 1/1 [00:00<00:00, 32263.88it/s]\n",
      "Retrieving MaterialsDoc documents: 100%|███████| 1/1 [00:00<00:00, 30393.51it/s]\n",
      "Retrieving MaterialsDoc documents: 100%|███████| 1/1 [00:00<00:00, 27060.03it/s]\n",
      "Retrieving MaterialsDoc documents: 100%|███████| 1/1 [00:00<00:00, 28532.68it/s]\n",
      "Retrieving MaterialsDoc documents: 100%|███████| 1/1 [00:00<00:00, 27962.03it/s]\n",
      "Retrieving MaterialsDoc documents: 100%|███████| 1/1 [00:00<00:00, 28728.11it/s]\n",
      "Retrieving MaterialsDoc documents: 100%|███████| 1/1 [00:00<00:00, 33288.13it/s]\n",
      "Retrieving MaterialsDoc documents: 100%|███████| 1/1 [00:00<00:00, 27594.11it/s]\n",
      "Retrieving MaterialsDoc documents: 100%|███████| 1/1 [00:00<00:00, 30174.85it/s]\n",
      "Retrieving MaterialsDoc documents: 100%|███████| 1/1 [00:00<00:00, 30174.85it/s]\n",
      "Retrieving MaterialsDoc documents: 0it [00:00, ?it/s]\n"
     ]
    },
    {
     "name": "stdout",
     "output_type": "stream",
     "text": [
      "Error occurred for material ID mp-853130: 'list' object has no attribute 'to'\n"
     ]
    },
    {
     "name": "stderr",
     "output_type": "stream",
     "text": [
      "Retrieving MaterialsDoc documents: 100%|███████| 1/1 [00:00<00:00, 27776.85it/s]\n",
      "Retrieving MaterialsDoc documents: 100%|███████| 1/1 [00:00<00:00, 32263.88it/s]\n",
      "Retrieving MaterialsDoc documents: 100%|███████| 1/1 [00:00<00:00, 27776.85it/s]\n",
      "Retrieving MaterialsDoc documents: 100%|███████| 1/1 [00:00<00:00, 28339.89it/s]\n",
      "Retrieving MaterialsDoc documents: 100%|███████| 1/1 [00:00<00:00, 29330.80it/s]\n",
      "Retrieving MaterialsDoc documents: 100%|███████| 1/1 [00:00<00:00, 25731.93it/s]\n",
      "Retrieving MaterialsDoc documents: 100%|███████| 1/1 [00:00<00:00, 29537.35it/s]\n",
      "Retrieving MaterialsDoc documents: 100%|███████| 1/1 [00:00<00:00, 27776.85it/s]\n",
      "Retrieving MaterialsDoc documents: 100%|███████| 1/1 [00:00<00:00, 29330.80it/s]\n",
      "Retrieving MaterialsDoc documents: 100%|███████| 1/1 [00:00<00:00, 27776.85it/s]\n",
      "Retrieving MaterialsDoc documents: 100%|███████| 1/1 [00:00<00:00, 30174.85it/s]\n",
      "Retrieving MaterialsDoc documents: 0it [00:00, ?it/s]\n"
     ]
    },
    {
     "name": "stdout",
     "output_type": "stream",
     "text": [
      "Error occurred for material ID mp-773296: 'list' object has no attribute 'to'\n"
     ]
    },
    {
     "name": "stderr",
     "output_type": "stream",
     "text": [
      "Retrieving MaterialsDoc documents: 0it [00:00, ?it/s]\n"
     ]
    },
    {
     "name": "stdout",
     "output_type": "stream",
     "text": [
      "Error occurred for material ID mp-540682: 'list' object has no attribute 'to'\n"
     ]
    },
    {
     "name": "stderr",
     "output_type": "stream",
     "text": [
      "Retrieving MaterialsDoc documents: 100%|███████| 1/1 [00:00<00:00, 27776.85it/s]\n",
      "Retrieving MaterialsDoc documents: 100%|███████| 1/1 [00:00<00:00, 19972.88it/s]\n",
      "Retrieving MaterialsDoc documents: 0it [00:00, ?it/s]\n"
     ]
    },
    {
     "name": "stdout",
     "output_type": "stream",
     "text": [
      "Error occurred for material ID mp-779972: 'list' object has no attribute 'to'\n"
     ]
    },
    {
     "name": "stderr",
     "output_type": "stream",
     "text": [
      "Retrieving MaterialsDoc documents: 100%|███████| 1/1 [00:00<00:00, 27962.03it/s]\n",
      "Retrieving MaterialsDoc documents: 100%|███████| 1/1 [00:00<00:00, 24385.49it/s]\n",
      "Retrieving MaterialsDoc documents: 100%|███████| 1/1 [00:00<00:00, 31300.78it/s]\n",
      "Retrieving MaterialsDoc documents: 100%|███████| 1/1 [00:00<00:00, 28532.68it/s]\n",
      "Retrieving MaterialsDoc documents: 0it [00:00, ?it/s]\n"
     ]
    },
    {
     "name": "stdout",
     "output_type": "stream",
     "text": [
      "Error occurred for material ID mp-771789: 'list' object has no attribute 'to'\n"
     ]
    },
    {
     "name": "stderr",
     "output_type": "stream",
     "text": [
      "Retrieving MaterialsDoc documents: 100%|███████| 1/1 [00:00<00:00, 28728.11it/s]\n",
      "Retrieving MaterialsDoc documents: 100%|███████| 1/1 [00:00<00:00, 28728.11it/s]\n",
      "Retrieving MaterialsDoc documents: 100%|███████| 1/1 [00:00<00:00, 21732.15it/s]\n",
      "Retrieving MaterialsDoc documents: 100%|███████| 1/1 [00:00<00:00, 28532.68it/s]\n",
      "Retrieving MaterialsDoc documents: 100%|███████| 1/1 [00:00<00:00, 27594.11it/s]\n",
      "Retrieving MaterialsDoc documents: 100%|███████| 1/1 [00:00<00:00, 28728.11it/s]\n",
      "Retrieving MaterialsDoc documents: 100%|███████| 1/1 [00:00<00:00, 28532.68it/s]\n",
      "Retrieving MaterialsDoc documents: 100%|███████| 1/1 [00:00<00:00, 28339.89it/s]\n",
      "Retrieving MaterialsDoc documents: 100%|███████| 1/1 [00:00<00:00, 30393.51it/s]\n",
      "Retrieving MaterialsDoc documents: 100%|███████| 1/1 [00:00<00:00, 29537.35it/s]\n",
      "Retrieving MaterialsDoc documents: 100%|███████| 1/1 [00:00<00:00, 30174.85it/s]\n",
      "Retrieving MaterialsDoc documents: 0it [00:00, ?it/s]\n"
     ]
    },
    {
     "name": "stdout",
     "output_type": "stream",
     "text": [
      "Error occurred for material ID mp-24946: 'list' object has no attribute 'to'\n"
     ]
    },
    {
     "name": "stderr",
     "output_type": "stream",
     "text": [
      "Retrieving MaterialsDoc documents: 100%|███████| 1/1 [00:00<00:00, 27776.85it/s]\n",
      "Retrieving MaterialsDoc documents: 100%|███████| 1/1 [00:00<00:00, 32263.88it/s]\n",
      "Retrieving MaterialsDoc documents: 100%|███████| 1/1 [00:00<00:00, 26379.27it/s]\n",
      "Retrieving MaterialsDoc documents: 100%|███████| 1/1 [00:00<00:00, 28532.68it/s]\n",
      "Retrieving MaterialsDoc documents: 100%|███████| 1/1 [00:00<00:00, 27594.11it/s]\n",
      "Retrieving MaterialsDoc documents: 100%|███████| 1/1 [00:00<00:00, 28728.11it/s]\n",
      "Retrieving MaterialsDoc documents: 100%|███████| 1/1 [00:00<00:00, 28532.68it/s]\n",
      "Retrieving MaterialsDoc documents: 100%|███████| 1/1 [00:00<00:00, 28532.68it/s]\n",
      "Retrieving MaterialsDoc documents: 100%|███████| 1/1 [00:00<00:00, 26886.56it/s]\n",
      "Retrieving MaterialsDoc documents: 100%|███████| 1/1 [00:00<00:00, 29537.35it/s]\n",
      "Retrieving MaterialsDoc documents: 100%|███████| 1/1 [00:00<00:00, 28532.68it/s]\n",
      "Retrieving MaterialsDoc documents: 100%|███████| 1/1 [00:00<00:00, 29537.35it/s]\n",
      "Retrieving MaterialsDoc documents: 100%|███████| 1/1 [00:00<00:00, 30393.51it/s]\n",
      "Retrieving MaterialsDoc documents: 100%|███████| 1/1 [00:00<00:00, 27594.11it/s]\n",
      "Retrieving MaterialsDoc documents: 100%|███████| 1/1 [00:00<00:00, 28728.11it/s]\n",
      "Retrieving MaterialsDoc documents: 100%|███████| 1/1 [00:00<00:00, 27594.11it/s]\n",
      "Retrieving MaterialsDoc documents: 100%|███████| 1/1 [00:00<00:00, 28532.68it/s]\n",
      "Retrieving MaterialsDoc documents: 100%|███████| 1/1 [00:00<00:00, 30174.85it/s]\n",
      "Retrieving MaterialsDoc documents: 100%|███████| 1/1 [00:00<00:00, 31300.78it/s]\n",
      "Retrieving MaterialsDoc documents: 100%|███████| 1/1 [00:00<00:00, 27235.74it/s]\n",
      "Retrieving MaterialsDoc documents: 0it [00:00, ?it/s]\n"
     ]
    },
    {
     "name": "stdout",
     "output_type": "stream",
     "text": [
      "Error occurred for material ID mp-24842: 'list' object has no attribute 'to'\n"
     ]
    },
    {
     "name": "stderr",
     "output_type": "stream",
     "text": [
      "Retrieving MaterialsDoc documents: 100%|███████| 1/1 [00:00<00:00, 30174.85it/s]\n",
      "Retrieving MaterialsDoc documents: 100%|███████| 1/1 [00:00<00:00, 26886.56it/s]\n",
      "Retrieving MaterialsDoc documents: 100%|███████| 1/1 [00:00<00:00, 28728.11it/s]\n",
      "Retrieving MaterialsDoc documents: 100%|███████| 1/1 [00:00<00:00, 29330.80it/s]\n",
      "Retrieving MaterialsDoc documents: 100%|███████| 1/1 [00:00<00:00, 27594.11it/s]\n",
      "Retrieving MaterialsDoc documents: 100%|███████| 1/1 [00:00<00:00, 27776.85it/s]\n",
      "Retrieving MaterialsDoc documents: 100%|███████| 1/1 [00:00<00:00, 29330.80it/s]\n",
      "Retrieving MaterialsDoc documents: 100%|███████| 1/1 [00:00<00:00, 28532.68it/s]\n",
      "Retrieving MaterialsDoc documents: 100%|███████| 1/1 [00:00<00:00, 27776.85it/s]\n",
      "Retrieving MaterialsDoc documents: 100%|███████| 1/1 [00:00<00:00, 24966.10it/s]\n",
      "Retrieving MaterialsDoc documents: 100%|███████| 1/1 [00:00<00:00, 28532.68it/s]\n",
      "Retrieving MaterialsDoc documents: 0it [00:00, ?it/s]\n"
     ]
    },
    {
     "name": "stdout",
     "output_type": "stream",
     "text": [
      "Error occurred for material ID mp-780002: 'list' object has no attribute 'to'\n"
     ]
    },
    {
     "name": "stderr",
     "output_type": "stream",
     "text": [
      "Retrieving MaterialsDoc documents: 100%|███████| 1/1 [00:00<00:00, 27776.85it/s]\n",
      "Retrieving MaterialsDoc documents: 0it [00:00, ?it/s]\n"
     ]
    },
    {
     "name": "stdout",
     "output_type": "stream",
     "text": [
      "Error occurred for material ID mp-764698: 'list' object has no attribute 'to'\n"
     ]
    },
    {
     "name": "stderr",
     "output_type": "stream",
     "text": [
      "Retrieving MaterialsDoc documents: 100%|███████| 1/1 [00:00<00:00, 26379.27it/s]\n",
      "Retrieving MaterialsDoc documents: 0it [00:00, ?it/s]\n"
     ]
    },
    {
     "name": "stdout",
     "output_type": "stream",
     "text": [
      "Error occurred for material ID mp-779190: 'list' object has no attribute 'to'\n"
     ]
    },
    {
     "name": "stderr",
     "output_type": "stream",
     "text": [
      "Retrieving MaterialsDoc documents: 100%|███████| 1/1 [00:00<00:00, 31300.78it/s]\n",
      "Retrieving MaterialsDoc documents: 100%|███████| 1/1 [00:00<00:00, 27776.85it/s]\n",
      "Retrieving MaterialsDoc documents: 100%|███████| 1/1 [00:00<00:00, 24966.10it/s]\n",
      "Retrieving MaterialsDoc documents: 100%|███████| 1/1 [00:00<00:00, 28728.11it/s]\n",
      "Retrieving MaterialsDoc documents: 100%|███████| 1/1 [00:00<00:00, 29537.35it/s]\n",
      "Retrieving MaterialsDoc documents: 100%|███████| 1/1 [00:00<00:00, 27776.85it/s]\n",
      "Retrieving MaterialsDoc documents: 100%|███████| 1/1 [00:00<00:00, 26886.56it/s]\n",
      "Retrieving MaterialsDoc documents: 100%|███████| 1/1 [00:00<00:00, 27594.11it/s]\n",
      "Retrieving MaterialsDoc documents: 100%|███████| 1/1 [00:00<00:00, 27060.03it/s]\n",
      "Retrieving MaterialsDoc documents: 100%|███████| 1/1 [00:00<00:00, 27594.11it/s]\n",
      "Retrieving MaterialsDoc documents: 100%|███████| 1/1 [00:00<00:00, 16710.37it/s]\n",
      "Retrieving MaterialsDoc documents: 100%|███████| 1/1 [00:00<00:00, 25731.93it/s]\n",
      "Retrieving MaterialsDoc documents: 100%|███████| 1/1 [00:00<00:00, 28532.68it/s]\n",
      "Retrieving MaterialsDoc documents: 100%|███████| 1/1 [00:00<00:00, 29330.80it/s]\n",
      "Retrieving MaterialsDoc documents: 100%|███████| 1/1 [00:00<00:00, 29537.35it/s]\n",
      "Retrieving MaterialsDoc documents: 100%|███████| 1/1 [00:00<00:00, 29330.80it/s]\n",
      "Retrieving MaterialsDoc documents: 100%|███████| 1/1 [00:00<00:00, 30174.85it/s]\n",
      "Retrieving MaterialsDoc documents: 100%|███████| 1/1 [00:00<00:00, 28532.68it/s]\n",
      "Retrieving MaterialsDoc documents: 100%|███████| 1/1 [00:00<00:00, 27776.85it/s]\n",
      "Retrieving MaterialsDoc documents: 100%|███████| 1/1 [00:00<00:00, 24385.49it/s]\n",
      "Retrieving MaterialsDoc documents: 100%|███████| 1/1 [00:00<00:00, 25731.93it/s]\n",
      "Retrieving MaterialsDoc documents: 100%|███████| 1/1 [00:00<00:00, 28728.11it/s]\n",
      "Retrieving MaterialsDoc documents: 100%|███████| 1/1 [00:00<00:00, 27594.11it/s]\n",
      "Retrieving MaterialsDoc documents: 100%|███████| 1/1 [00:00<00:00, 27594.11it/s]\n",
      "Retrieving MaterialsDoc documents: 100%|███████| 1/1 [00:00<00:00, 27776.85it/s]\n",
      "Retrieving MaterialsDoc documents: 100%|███████| 1/1 [00:00<00:00, 28532.68it/s]\n",
      "Retrieving MaterialsDoc documents: 100%|███████| 1/1 [00:00<00:00, 28532.68it/s]\n",
      "Retrieving MaterialsDoc documents: 100%|███████| 1/1 [00:00<00:00, 28532.68it/s]\n",
      "Retrieving MaterialsDoc documents: 100%|███████| 1/1 [00:00<00:00, 32513.98it/s]\n",
      "Retrieving MaterialsDoc documents: 100%|███████| 1/1 [00:00<00:00, 27235.74it/s]\n",
      "Retrieving MaterialsDoc documents: 100%|███████| 1/1 [00:00<00:00, 30174.85it/s]\n",
      "Retrieving MaterialsDoc documents: 100%|███████| 1/1 [00:00<00:00, 26379.27it/s]\n",
      "Retrieving MaterialsDoc documents: 100%|███████| 1/1 [00:00<00:00, 27776.85it/s]\n",
      "Retrieving MaterialsDoc documents: 100%|███████| 1/1 [00:00<00:00, 28532.68it/s]\n",
      "Retrieving MaterialsDoc documents: 100%|███████| 1/1 [00:00<00:00, 27776.85it/s]\n",
      "Retrieving MaterialsDoc documents: 100%|███████| 1/1 [00:00<00:00, 28532.68it/s]\n",
      "Retrieving MaterialsDoc documents: 100%|███████| 1/1 [00:00<00:00, 24818.37it/s]\n",
      "Retrieving MaterialsDoc documents: 100%|███████| 1/1 [00:00<00:00, 28532.68it/s]\n",
      "Retrieving MaterialsDoc documents: 100%|███████| 1/1 [00:00<00:00, 28728.11it/s]\n",
      "Retrieving MaterialsDoc documents: 100%|███████| 1/1 [00:00<00:00, 29330.80it/s]\n",
      "Retrieving MaterialsDoc documents: 100%|███████| 1/1 [00:00<00:00, 30393.51it/s]\n",
      "Retrieving MaterialsDoc documents: 100%|███████| 1/1 [00:00<00:00, 27962.03it/s]\n",
      "Retrieving MaterialsDoc documents: 100%|███████| 1/1 [00:00<00:00, 26886.56it/s]\n",
      "Retrieving MaterialsDoc documents: 100%|███████| 1/1 [00:00<00:00, 28532.68it/s]\n",
      "Retrieving MaterialsDoc documents: 100%|███████| 1/1 [00:00<00:00, 27962.03it/s]\n",
      "Retrieving MaterialsDoc documents: 100%|███████| 1/1 [00:00<00:00, 28532.68it/s]\n",
      "Retrieving MaterialsDoc documents: 100%|███████| 1/1 [00:00<00:00, 27235.74it/s]\n",
      "Retrieving MaterialsDoc documents: 100%|███████| 1/1 [00:00<00:00, 26886.56it/s]\n",
      "Retrieving MaterialsDoc documents: 100%|███████| 1/1 [00:00<00:00, 30393.51it/s]\n",
      "Retrieving MaterialsDoc documents: 100%|███████| 1/1 [00:00<00:00, 28532.68it/s]\n",
      "Retrieving MaterialsDoc documents: 100%|███████| 1/1 [00:00<00:00, 28532.68it/s]\n",
      "Retrieving MaterialsDoc documents: 100%|███████| 1/1 [00:00<00:00, 32263.88it/s]\n",
      "Retrieving MaterialsDoc documents: 100%|███████| 1/1 [00:00<00:00, 32263.88it/s]\n",
      "Retrieving MaterialsDoc documents: 100%|███████| 1/1 [00:00<00:00, 30174.85it/s]\n",
      "Retrieving MaterialsDoc documents: 100%|███████| 1/1 [00:00<00:00, 27060.03it/s]\n",
      "Retrieving MaterialsDoc documents: 100%|███████| 1/1 [00:00<00:00, 28728.11it/s]\n",
      "Retrieving MaterialsDoc documents: 100%|███████| 1/1 [00:00<00:00, 25731.93it/s]\n",
      "Retrieving MaterialsDoc documents: 100%|███████| 1/1 [00:00<00:00, 20460.02it/s]\n",
      "Retrieving MaterialsDoc documents: 100%|███████| 1/1 [00:00<00:00, 27060.03it/s]\n",
      "Retrieving MaterialsDoc documents: 100%|███████| 1/1 [00:00<00:00, 27235.74it/s]\n",
      "Retrieving MaterialsDoc documents: 100%|███████| 1/1 [00:00<00:00, 17476.27it/s]\n",
      "Retrieving MaterialsDoc documents: 0it [00:00, ?it/s]\n"
     ]
    },
    {
     "name": "stdout",
     "output_type": "stream",
     "text": [
      "Error occurred for material ID mp-25111: 'list' object has no attribute 'to'\n"
     ]
    },
    {
     "name": "stderr",
     "output_type": "stream",
     "text": [
      "Retrieving MaterialsDoc documents: 100%|███████| 1/1 [00:00<00:00, 23172.95it/s]\n",
      "Retrieving MaterialsDoc documents: 100%|███████| 1/1 [00:00<00:00, 27962.03it/s]\n",
      "Retrieving MaterialsDoc documents: 100%|███████| 1/1 [00:00<00:00, 28728.11it/s]\n",
      "Retrieving MaterialsDoc documents: 100%|███████| 1/1 [00:00<00:00, 31300.78it/s]\n",
      "Retrieving MaterialsDoc documents: 100%|███████| 1/1 [00:00<00:00, 27962.03it/s]\n",
      "Retrieving MaterialsDoc documents: 100%|███████| 1/1 [00:00<00:00, 29330.80it/s]\n",
      "Retrieving MaterialsDoc documents: 100%|███████| 1/1 [00:00<00:00, 27776.85it/s]\n",
      "Retrieving MaterialsDoc documents: 100%|███████| 1/1 [00:00<00:00, 28728.11it/s]\n",
      "Retrieving MaterialsDoc documents: 100%|███████| 1/1 [00:00<00:00, 26214.40it/s]\n",
      "Retrieving MaterialsDoc documents: 100%|███████| 1/1 [00:00<00:00, 27776.85it/s]\n",
      "Retrieving MaterialsDoc documents: 100%|███████| 1/1 [00:00<00:00, 23172.95it/s]\n",
      "Retrieving MaterialsDoc documents: 100%|███████| 1/1 [00:00<00:00, 20867.18it/s]\n",
      "Retrieving MaterialsDoc documents: 100%|███████| 1/1 [00:00<00:00, 28728.11it/s]\n",
      "Retrieving MaterialsDoc documents: 100%|███████| 1/1 [00:00<00:00, 27594.11it/s]\n",
      "Retrieving MaterialsDoc documents: 100%|███████| 1/1 [00:00<00:00, 30174.85it/s]\n",
      "Retrieving MaterialsDoc documents: 100%|███████| 1/1 [00:00<00:00, 30393.51it/s]\n",
      "Retrieving MaterialsDoc documents: 100%|███████| 1/1 [00:00<00:00, 26886.56it/s]\n",
      "Retrieving MaterialsDoc documents: 100%|███████| 1/1 [00:00<00:00, 28532.68it/s]\n",
      "Retrieving MaterialsDoc documents: 100%|███████| 1/1 [00:00<00:00, 27962.03it/s]\n",
      "Retrieving MaterialsDoc documents: 100%|███████| 1/1 [00:00<00:00, 29330.80it/s]\n",
      "Retrieving MaterialsDoc documents: 100%|███████| 1/1 [00:00<00:00, 25420.02it/s]\n",
      "Retrieving MaterialsDoc documents: 100%|███████| 1/1 [00:00<00:00, 27962.03it/s]\n",
      "Retrieving MaterialsDoc documents: 100%|███████| 1/1 [00:00<00:00, 28532.68it/s]\n",
      "Retrieving MaterialsDoc documents: 100%|███████| 1/1 [00:00<00:00, 29330.80it/s]\n",
      "Retrieving MaterialsDoc documents: 100%|███████| 1/1 [00:00<00:00, 27594.11it/s]\n",
      "Retrieving MaterialsDoc documents: 0it [00:00, ?it/s]\n"
     ]
    },
    {
     "name": "stdout",
     "output_type": "stream",
     "text": [
      "Error occurred for material ID mp-690470: 'list' object has no attribute 'to'\n"
     ]
    },
    {
     "name": "stderr",
     "output_type": "stream",
     "text": [
      "Retrieving MaterialsDoc documents: 100%|███████| 1/1 [00:00<00:00, 27962.03it/s]\n",
      "Retrieving MaterialsDoc documents: 100%|███████| 1/1 [00:00<00:00, 28532.68it/s]\n",
      "Retrieving MaterialsDoc documents: 100%|███████| 1/1 [00:00<00:00, 30174.85it/s]\n",
      "Retrieving MaterialsDoc documents: 100%|███████| 1/1 [00:00<00:00, 27594.11it/s]\n",
      "Retrieving MaterialsDoc documents: 100%|███████| 1/1 [00:00<00:00, 31536.12it/s]\n",
      "Retrieving MaterialsDoc documents: 100%|███████| 1/1 [00:00<00:00, 27594.11it/s]\n",
      "Retrieving MaterialsDoc documents: 100%|███████| 1/1 [00:00<00:00, 29330.80it/s]\n",
      "Retrieving MaterialsDoc documents: 100%|███████| 1/1 [00:00<00:00, 27060.03it/s]\n",
      "Retrieving MaterialsDoc documents: 100%|███████| 1/1 [00:00<00:00, 29537.35it/s]\n",
      "Retrieving MaterialsDoc documents: 100%|███████| 1/1 [00:00<00:00, 29330.80it/s]\n",
      "Retrieving MaterialsDoc documents: 100%|███████| 1/1 [00:00<00:00, 27235.74it/s]\n",
      "Retrieving MaterialsDoc documents: 100%|███████| 1/1 [00:00<00:00, 20068.44it/s]\n",
      "Retrieving MaterialsDoc documents: 100%|███████| 1/1 [00:00<00:00, 28532.68it/s]\n",
      "Retrieving MaterialsDoc documents: 100%|███████| 1/1 [00:00<00:00, 19691.57it/s]\n",
      "Retrieving MaterialsDoc documents: 100%|███████| 1/1 [00:00<00:00, 26886.56it/s]\n",
      "Retrieving MaterialsDoc documents: 100%|███████| 1/1 [00:00<00:00, 28728.11it/s]\n",
      "Retrieving MaterialsDoc documents: 100%|███████| 1/1 [00:00<00:00, 27776.85it/s]\n",
      "Retrieving MaterialsDoc documents: 100%|███████| 1/1 [00:00<00:00, 20360.70it/s]\n",
      "Retrieving MaterialsDoc documents: 100%|███████| 1/1 [00:00<00:00, 28728.11it/s]\n",
      "Retrieving MaterialsDoc documents: 100%|███████| 1/1 [00:00<00:00, 32513.98it/s]\n",
      "Retrieving MaterialsDoc documents: 100%|███████| 1/1 [00:00<00:00, 28532.68it/s]\n",
      "Retrieving MaterialsDoc documents: 100%|███████| 1/1 [00:00<00:00, 30393.51it/s]\n",
      "Retrieving MaterialsDoc documents: 100%|███████| 1/1 [00:00<00:00, 30393.51it/s]\n",
      "Retrieving MaterialsDoc documents: 100%|███████| 1/1 [00:00<00:00, 26886.56it/s]\n",
      "Retrieving MaterialsDoc documents: 100%|███████| 1/1 [00:00<00:00, 27776.85it/s]\n",
      "Retrieving MaterialsDoc documents: 100%|███████| 1/1 [00:00<00:00, 29537.35it/s]\n",
      "Retrieving MaterialsDoc documents: 100%|███████| 1/1 [00:00<00:00, 28532.68it/s]\n",
      "Retrieving MaterialsDoc documents: 0it [00:00, ?it/s]\n"
     ]
    },
    {
     "name": "stdout",
     "output_type": "stream",
     "text": [
      "Error occurred for material ID mp-25145: 'list' object has no attribute 'to'\n"
     ]
    },
    {
     "name": "stderr",
     "output_type": "stream",
     "text": [
      "Retrieving MaterialsDoc documents: 100%|███████| 1/1 [00:00<00:00, 25731.93it/s]\n",
      "Retrieving MaterialsDoc documents: 100%|███████| 1/1 [00:00<00:00, 29330.80it/s]\n",
      "Retrieving MaterialsDoc documents: 100%|███████| 1/1 [00:00<00:00, 29330.80it/s]\n",
      "Retrieving MaterialsDoc documents: 100%|███████| 1/1 [00:00<00:00, 27962.03it/s]\n",
      "Retrieving MaterialsDoc documents: 100%|███████| 1/1 [00:00<00:00, 30174.85it/s]\n",
      "Retrieving MaterialsDoc documents: 100%|███████| 1/1 [00:00<00:00, 25731.93it/s]\n",
      "Retrieving MaterialsDoc documents: 100%|███████| 1/1 [00:00<00:00, 29330.80it/s]\n",
      "Retrieving MaterialsDoc documents: 100%|███████| 1/1 [00:00<00:00, 27962.03it/s]\n",
      "Retrieving MaterialsDoc documents: 100%|███████| 1/1 [00:00<00:00, 30393.51it/s]\n",
      "Retrieving MaterialsDoc documents: 100%|███████| 1/1 [00:00<00:00, 28532.68it/s]\n",
      "Retrieving MaterialsDoc documents: 100%|███████| 1/1 [00:00<00:00, 27776.85it/s]\n",
      "Retrieving MaterialsDoc documents: 100%|███████| 1/1 [00:00<00:00, 29330.80it/s]\n",
      "Retrieving MaterialsDoc documents: 100%|███████| 1/1 [00:00<00:00, 28532.68it/s]\n",
      "Retrieving MaterialsDoc documents: 100%|███████| 1/1 [00:00<00:00, 29330.80it/s]\n",
      "Retrieving MaterialsDoc documents: 100%|███████| 1/1 [00:00<00:00, 29330.80it/s]\n",
      "Retrieving MaterialsDoc documents: 100%|███████| 1/1 [00:00<00:00, 28339.89it/s]\n",
      "Retrieving MaterialsDoc documents: 100%|███████| 1/1 [00:00<00:00, 28532.68it/s]\n",
      "Retrieving MaterialsDoc documents: 100%|███████| 1/1 [00:00<00:00, 32263.88it/s]\n",
      "Retrieving MaterialsDoc documents: 100%|███████| 1/1 [00:00<00:00, 28532.68it/s]\n",
      "Retrieving MaterialsDoc documents: 100%|███████| 1/1 [00:00<00:00, 28532.68it/s]\n",
      "Retrieving MaterialsDoc documents: 100%|███████| 1/1 [00:00<00:00, 29330.80it/s]\n",
      "Retrieving MaterialsDoc documents: 100%|███████| 1/1 [00:00<00:00, 28532.68it/s]\n",
      "Retrieving MaterialsDoc documents: 100%|███████| 1/1 [00:00<00:00, 27060.03it/s]\n",
      "Retrieving MaterialsDoc documents: 100%|███████| 1/1 [00:00<00:00, 19239.93it/s]\n",
      "Retrieving MaterialsDoc documents: 100%|███████| 1/1 [00:00<00:00, 26379.27it/s]\n",
      "Retrieving MaterialsDoc documents: 100%|███████| 1/1 [00:00<00:00, 27060.03it/s]\n",
      "Retrieving MaterialsDoc documents: 100%|███████| 1/1 [00:00<00:00, 27594.11it/s]\n",
      "Retrieving MaterialsDoc documents: 100%|███████| 1/1 [00:00<00:00, 27962.03it/s]\n",
      "Retrieving MaterialsDoc documents: 100%|███████| 1/1 [00:00<00:00, 23831.27it/s]\n",
      "Retrieving MaterialsDoc documents: 100%|███████| 1/1 [00:00<00:00, 27060.03it/s]\n",
      "Retrieving MaterialsDoc documents: 100%|███████| 1/1 [00:00<00:00, 27962.03it/s]\n",
      "Retrieving MaterialsDoc documents: 100%|███████| 1/1 [00:00<00:00, 28532.68it/s]\n",
      "Retrieving MaterialsDoc documents: 100%|███████| 1/1 [00:00<00:00, 29746.84it/s]\n",
      "Retrieving MaterialsDoc documents: 100%|███████| 1/1 [00:00<00:00, 28728.11it/s]\n",
      "Retrieving MaterialsDoc documents: 100%|███████| 1/1 [00:00<00:00, 28532.68it/s]\n",
      "Retrieving MaterialsDoc documents: 100%|███████| 1/1 [00:00<00:00, 29330.80it/s]\n",
      "Retrieving MaterialsDoc documents: 0it [00:00, ?it/s]\n"
     ]
    },
    {
     "name": "stdout",
     "output_type": "stream",
     "text": [
      "Error occurred for material ID mp-763052: 'list' object has no attribute 'to'\n"
     ]
    },
    {
     "name": "stderr",
     "output_type": "stream",
     "text": [
      "Retrieving MaterialsDoc documents: 100%|███████| 1/1 [00:00<00:00, 30393.51it/s]\n",
      "Retrieving MaterialsDoc documents: 100%|███████| 1/1 [00:00<00:00, 29330.80it/s]\n",
      "Retrieving MaterialsDoc documents: 100%|███████| 1/1 [00:00<00:00, 28532.68it/s]\n",
      "Retrieving MaterialsDoc documents: 100%|███████| 1/1 [00:00<00:00, 27776.85it/s]\n",
      "Retrieving MaterialsDoc documents: 100%|███████| 1/1 [00:00<00:00, 30174.85it/s]\n",
      "Retrieving MaterialsDoc documents: 100%|███████| 1/1 [00:00<00:00, 28532.68it/s]\n",
      "Retrieving MaterialsDoc documents: 100%|███████| 1/1 [00:00<00:00, 27776.85it/s]\n",
      "Retrieving MaterialsDoc documents: 100%|███████| 1/1 [00:00<00:00, 27776.85it/s]\n",
      "Retrieving MaterialsDoc documents: 100%|███████| 1/1 [00:00<00:00, 22192.08it/s]\n",
      "Retrieving MaterialsDoc documents: 100%|███████| 1/1 [00:00<00:00, 27776.85it/s]\n",
      "Retrieving MaterialsDoc documents: 100%|███████| 1/1 [00:00<00:00, 29330.80it/s]\n",
      "Retrieving MaterialsDoc documents: 100%|███████| 1/1 [00:00<00:00, 28728.11it/s]\n",
      "Retrieving MaterialsDoc documents: 100%|███████| 1/1 [00:00<00:00, 30393.51it/s]\n",
      "Retrieving MaterialsDoc documents: 100%|███████| 1/1 [00:00<00:00, 20763.88it/s]\n",
      "Retrieving MaterialsDoc documents: 100%|███████| 1/1 [00:00<00:00, 28728.11it/s]\n",
      "Retrieving MaterialsDoc documents: 100%|███████| 1/1 [00:00<00:00, 17549.39it/s]\n",
      "Retrieving MaterialsDoc documents: 100%|███████| 1/1 [00:00<00:00, 27776.85it/s]\n",
      "Retrieving MaterialsDoc documents: 100%|███████| 1/1 [00:00<00:00, 29330.80it/s]\n",
      "Retrieving MaterialsDoc documents: 100%|███████| 1/1 [00:00<00:00, 31300.78it/s]\n",
      "Retrieving MaterialsDoc documents: 100%|███████| 1/1 [00:00<00:00, 26214.40it/s]\n",
      "Retrieving MaterialsDoc documents: 100%|███████| 1/1 [00:00<00:00, 26214.40it/s]\n",
      "Retrieving MaterialsDoc documents: 100%|███████| 1/1 [00:00<00:00, 27776.85it/s]\n",
      "Retrieving MaterialsDoc documents: 100%|███████| 1/1 [00:00<00:00, 31300.78it/s]\n",
      "Retrieving MaterialsDoc documents: 100%|███████| 1/1 [00:00<00:00, 25575.02it/s]\n",
      "Retrieving MaterialsDoc documents: 100%|███████| 1/1 [00:00<00:00, 19878.22it/s]\n",
      "Retrieving MaterialsDoc documents: 100%|███████| 1/1 [00:00<00:00, 29330.80it/s]\n",
      "Retrieving MaterialsDoc documents: 100%|███████| 1/1 [00:00<00:00, 27776.85it/s]\n",
      "Retrieving MaterialsDoc documents: 100%|███████| 1/1 [00:00<00:00, 29330.80it/s]\n",
      "Retrieving MaterialsDoc documents: 100%|███████| 1/1 [00:00<00:00, 27962.03it/s]\n",
      "Retrieving MaterialsDoc documents: 100%|███████| 1/1 [00:00<00:00, 26379.27it/s]\n",
      "Retrieving MaterialsDoc documents: 100%|███████| 1/1 [00:00<00:00, 26886.56it/s]\n",
      "Retrieving MaterialsDoc documents: 0it [00:00, ?it/s]\n"
     ]
    },
    {
     "name": "stdout",
     "output_type": "stream",
     "text": [
      "Error occurred for material ID mp-776513: 'list' object has no attribute 'to'\n"
     ]
    },
    {
     "name": "stderr",
     "output_type": "stream",
     "text": [
      "Retrieving MaterialsDoc documents: 100%|███████| 1/1 [00:00<00:00, 27776.85it/s]\n",
      "Retrieving MaterialsDoc documents: 100%|███████| 1/1 [00:00<00:00, 28532.68it/s]\n",
      "Retrieving MaterialsDoc documents: 0it [00:00, ?it/s]\n"
     ]
    },
    {
     "name": "stdout",
     "output_type": "stream",
     "text": [
      "Error occurred for material ID mp-770602: 'list' object has no attribute 'to'\n"
     ]
    },
    {
     "name": "stderr",
     "output_type": "stream",
     "text": [
      "Retrieving MaterialsDoc documents: 100%|███████| 1/1 [00:00<00:00, 29330.80it/s]\n",
      "Retrieving MaterialsDoc documents: 100%|███████| 1/1 [00:00<00:00, 30174.85it/s]\n",
      "Retrieving MaterialsDoc documents: 100%|███████| 1/1 [00:00<00:00, 27235.74it/s]\n",
      "Retrieving MaterialsDoc documents: 100%|███████| 1/1 [00:00<00:00, 26886.56it/s]\n",
      "Retrieving MaterialsDoc documents: 100%|███████| 1/1 [00:00<00:00, 26379.27it/s]\n",
      "Retrieving MaterialsDoc documents: 100%|███████| 1/1 [00:00<00:00, 25731.93it/s]\n",
      "Retrieving MaterialsDoc documents: 100%|███████| 1/1 [00:00<00:00, 31300.78it/s]\n",
      "Retrieving MaterialsDoc documents: 100%|███████| 1/1 [00:00<00:00, 23831.27it/s]\n",
      "Retrieving MaterialsDoc documents: 0it [00:00, ?it/s]\n"
     ]
    },
    {
     "name": "stdout",
     "output_type": "stream",
     "text": [
      "Error occurred for material ID mp-769789: 'list' object has no attribute 'to'\n"
     ]
    },
    {
     "name": "stderr",
     "output_type": "stream",
     "text": [
      "Retrieving MaterialsDoc documents: 100%|███████| 1/1 [00:00<00:00, 29330.80it/s]\n",
      "Retrieving MaterialsDoc documents: 100%|███████| 1/1 [00:00<00:00, 27962.03it/s]\n",
      "Retrieving MaterialsDoc documents: 100%|███████| 1/1 [00:00<00:00, 26379.27it/s]\n",
      "Retrieving MaterialsDoc documents: 100%|███████| 1/1 [00:00<00:00, 27776.85it/s]\n",
      "Retrieving MaterialsDoc documents: 100%|███████| 1/1 [00:00<00:00, 26214.40it/s]\n",
      "Retrieving MaterialsDoc documents: 100%|███████| 1/1 [00:00<00:00, 26379.27it/s]\n",
      "Retrieving MaterialsDoc documents: 100%|███████| 1/1 [00:00<00:00, 28532.68it/s]\n",
      "Retrieving MaterialsDoc documents: 100%|███████| 1/1 [00:00<00:00, 28532.68it/s]\n",
      "Retrieving MaterialsDoc documents: 100%|███████| 1/1 [00:00<00:00, 17189.77it/s]\n",
      "Retrieving MaterialsDoc documents: 100%|███████| 1/1 [00:00<00:00, 30393.51it/s]\n",
      "Retrieving MaterialsDoc documents: 0it [00:00, ?it/s]\n"
     ]
    },
    {
     "name": "stdout",
     "output_type": "stream",
     "text": [
      "Error occurred for material ID mp-773450: 'list' object has no attribute 'to'\n"
     ]
    },
    {
     "name": "stderr",
     "output_type": "stream",
     "text": [
      "Retrieving MaterialsDoc documents: 100%|███████| 1/1 [00:00<00:00, 25575.02it/s]\n",
      "Retrieving MaterialsDoc documents: 100%|███████| 1/1 [00:00<00:00, 29330.80it/s]\n",
      "Retrieving MaterialsDoc documents: 100%|███████| 1/1 [00:00<00:00, 28339.89it/s]\n",
      "Retrieving MaterialsDoc documents: 100%|███████| 1/1 [00:00<00:00, 26214.40it/s]\n",
      "Retrieving MaterialsDoc documents: 100%|███████| 1/1 [00:00<00:00, 26886.56it/s]\n",
      "Retrieving MaterialsDoc documents: 100%|███████| 1/1 [00:00<00:00, 30393.51it/s]\n",
      "Retrieving MaterialsDoc documents: 100%|███████| 1/1 [00:00<00:00, 27776.85it/s]\n",
      "Retrieving MaterialsDoc documents: 100%|███████| 1/1 [00:00<00:00, 28532.68it/s]\n",
      "Retrieving MaterialsDoc documents: 100%|███████| 1/1 [00:00<00:00, 30393.51it/s]\n",
      "Retrieving MaterialsDoc documents: 100%|███████| 1/1 [00:00<00:00, 29746.84it/s]\n",
      "Retrieving MaterialsDoc documents: 100%|███████| 1/1 [00:00<00:00, 29746.84it/s]\n",
      "Retrieving MaterialsDoc documents: 100%|███████| 1/1 [00:00<00:00, 25731.93it/s]\n",
      "Retrieving MaterialsDoc documents: 100%|███████| 1/1 [00:00<00:00, 27776.85it/s]\n",
      "Retrieving MaterialsDoc documents: 0it [00:00, ?it/s]\n"
     ]
    },
    {
     "name": "stdout",
     "output_type": "stream",
     "text": [
      "Error occurred for material ID mp-765135: 'list' object has no attribute 'to'\n"
     ]
    },
    {
     "name": "stderr",
     "output_type": "stream",
     "text": [
      "Retrieving MaterialsDoc documents: 100%|███████| 1/1 [00:00<00:00, 28532.68it/s]\n",
      "Retrieving MaterialsDoc documents: 100%|███████| 1/1 [00:00<00:00, 28339.89it/s]\n",
      "Retrieving MaterialsDoc documents: 0it [00:00, ?it/s]\n"
     ]
    },
    {
     "name": "stdout",
     "output_type": "stream",
     "text": [
      "Error occurred for material ID mp-763056: 'list' object has no attribute 'to'\n"
     ]
    },
    {
     "name": "stderr",
     "output_type": "stream",
     "text": [
      "Retrieving MaterialsDoc documents: 100%|███████| 1/1 [00:00<00:00, 27962.03it/s]\n",
      "Retrieving MaterialsDoc documents: 100%|███████| 1/1 [00:00<00:00, 28532.68it/s]\n",
      "Retrieving MaterialsDoc documents: 100%|███████| 1/1 [00:00<00:00, 17476.27it/s]\n",
      "Retrieving MaterialsDoc documents: 100%|███████| 1/1 [00:00<00:00, 28532.68it/s]\n",
      "Retrieving MaterialsDoc documents: 100%|███████| 1/1 [00:00<00:00, 26886.56it/s]\n",
      "Retrieving MaterialsDoc documents: 100%|███████| 1/1 [00:00<00:00, 30174.85it/s]\n",
      "Retrieving MaterialsDoc documents: 100%|███████| 1/1 [00:00<00:00, 28728.11it/s]\n",
      "Retrieving MaterialsDoc documents: 100%|███████| 1/1 [00:00<00:00, 31068.92it/s]\n",
      "Retrieving MaterialsDoc documents: 0it [00:00, ?it/s]\n"
     ]
    },
    {
     "name": "stdout",
     "output_type": "stream",
     "text": [
      "Error occurred for material ID mp-561589: 'list' object has no attribute 'to'\n"
     ]
    },
    {
     "name": "stderr",
     "output_type": "stream",
     "text": [
      "Retrieving MaterialsDoc documents: 100%|███████| 1/1 [00:00<00:00, 27776.85it/s]\n",
      "Retrieving MaterialsDoc documents: 100%|███████| 1/1 [00:00<00:00, 26886.56it/s]\n",
      "Retrieving MaterialsDoc documents: 100%|███████| 1/1 [00:00<00:00, 27776.85it/s]\n",
      "Retrieving MaterialsDoc documents: 100%|███████| 1/1 [00:00<00:00, 28728.11it/s]\n",
      "Retrieving MaterialsDoc documents: 100%|███████| 1/1 [00:00<00:00, 14315.03it/s]\n",
      "Retrieving MaterialsDoc documents: 100%|███████| 1/1 [00:00<00:00, 30615.36it/s]\n",
      "Retrieving MaterialsDoc documents: 0it [00:00, ?it/s]\n"
     ]
    },
    {
     "name": "stdout",
     "output_type": "stream",
     "text": [
      "Error occurred for material ID mp-540098: 'list' object has no attribute 'to'\n"
     ]
    },
    {
     "name": "stderr",
     "output_type": "stream",
     "text": [
      "Retrieving MaterialsDoc documents: 100%|███████| 1/1 [00:00<00:00, 29537.35it/s]\n",
      "Retrieving MaterialsDoc documents: 100%|███████| 1/1 [00:00<00:00, 28532.68it/s]\n",
      "Retrieving MaterialsDoc documents: 100%|███████| 1/1 [00:00<00:00, 30615.36it/s]\n",
      "Retrieving MaterialsDoc documents: 100%|███████| 1/1 [00:00<00:00, 29537.35it/s]\n",
      "Retrieving MaterialsDoc documents: 100%|███████| 1/1 [00:00<00:00, 32263.88it/s]\n",
      "Retrieving MaterialsDoc documents: 100%|███████| 1/1 [00:00<00:00, 29330.80it/s]\n",
      "Retrieving MaterialsDoc documents: 100%|███████| 1/1 [00:00<00:00, 30174.85it/s]\n",
      "Retrieving MaterialsDoc documents: 100%|███████| 1/1 [00:00<00:00, 29537.35it/s]\n",
      "Retrieving MaterialsDoc documents: 100%|███████| 1/1 [00:00<00:00, 27594.11it/s]\n",
      "Retrieving MaterialsDoc documents: 100%|███████| 1/1 [00:00<00:00, 29330.80it/s]\n",
      "Retrieving MaterialsDoc documents: 100%|███████| 1/1 [00:00<00:00, 28728.11it/s]\n",
      "Retrieving MaterialsDoc documents: 100%|███████| 1/1 [00:00<00:00, 29537.35it/s]\n",
      "Retrieving MaterialsDoc documents: 100%|███████| 1/1 [00:00<00:00, 27776.85it/s]\n",
      "Retrieving MaterialsDoc documents: 100%|███████| 1/1 [00:00<00:00, 32263.88it/s]\n",
      "Retrieving MaterialsDoc documents: 100%|███████| 1/1 [00:00<00:00, 28532.68it/s]\n",
      "Retrieving MaterialsDoc documents: 0it [00:00, ?it/s]\n"
     ]
    },
    {
     "name": "stdout",
     "output_type": "stream",
     "text": [
      "Error occurred for material ID mp-766784: 'list' object has no attribute 'to'\n"
     ]
    },
    {
     "name": "stderr",
     "output_type": "stream",
     "text": [
      "Retrieving MaterialsDoc documents: 100%|███████| 1/1 [00:00<00:00, 27060.03it/s]\n",
      "Retrieving MaterialsDoc documents: 100%|███████| 1/1 [00:00<00:00, 26379.27it/s]\n",
      "Retrieving MaterialsDoc documents: 100%|███████| 1/1 [00:00<00:00, 19239.93it/s]\n",
      "Retrieving MaterialsDoc documents: 100%|███████| 1/1 [00:00<00:00, 27060.03it/s]\n",
      "Retrieving MaterialsDoc documents: 100%|███████| 1/1 [00:00<00:00, 29330.80it/s]\n",
      "Retrieving MaterialsDoc documents: 100%|███████| 1/1 [00:00<00:00, 31068.92it/s]\n",
      "Retrieving MaterialsDoc documents: 100%|███████| 1/1 [00:00<00:00, 27776.85it/s]\n",
      "Retrieving MaterialsDoc documents: 100%|███████| 1/1 [00:00<00:00, 30174.85it/s]\n",
      "Retrieving MaterialsDoc documents: 100%|███████| 1/1 [00:00<00:00, 28728.11it/s]\n",
      "Retrieving MaterialsDoc documents: 100%|███████| 1/1 [00:00<00:00, 28728.11it/s]\n",
      "Retrieving MaterialsDoc documents: 100%|███████| 1/1 [00:00<00:00, 30174.85it/s]\n",
      "Retrieving MaterialsDoc documents: 0it [00:00, ?it/s]\n"
     ]
    },
    {
     "name": "stdout",
     "output_type": "stream",
     "text": [
      "Error occurred for material ID mp-703260: 'list' object has no attribute 'to'\n"
     ]
    },
    {
     "name": "stderr",
     "output_type": "stream",
     "text": [
      "Retrieving MaterialsDoc documents: 100%|███████| 1/1 [00:00<00:00, 29746.84it/s]\n",
      "Retrieving MaterialsDoc documents: 100%|███████| 1/1 [00:00<00:00, 28532.68it/s]\n",
      "Retrieving MaterialsDoc documents: 100%|███████| 1/1 [00:00<00:00, 29330.80it/s]\n",
      "Retrieving MaterialsDoc documents: 100%|███████| 1/1 [00:00<00:00, 30393.51it/s]\n",
      "Retrieving MaterialsDoc documents: 100%|███████| 1/1 [00:00<00:00, 29330.80it/s]\n",
      "Retrieving MaterialsDoc documents: 100%|███████| 1/1 [00:00<00:00, 31300.78it/s]\n",
      "Retrieving MaterialsDoc documents: 100%|███████| 1/1 [00:00<00:00, 27594.11it/s]\n",
      "Retrieving MaterialsDoc documents: 100%|███████| 1/1 [00:00<00:00, 29330.80it/s]\n",
      "Retrieving MaterialsDoc documents: 100%|███████| 1/1 [00:00<00:00, 31300.78it/s]\n",
      "Retrieving MaterialsDoc documents: 100%|███████| 1/1 [00:00<00:00, 27776.85it/s]\n",
      "Retrieving MaterialsDoc documents: 100%|███████| 1/1 [00:00<00:00, 17623.13it/s]\n",
      "Retrieving MaterialsDoc documents: 100%|███████| 1/1 [00:00<00:00, 28532.68it/s]\n",
      "Retrieving MaterialsDoc documents: 100%|███████| 1/1 [00:00<00:00, 27776.85it/s]\n",
      "Retrieving MaterialsDoc documents: 100%|███████| 1/1 [00:00<00:00, 26886.56it/s]\n",
      "Retrieving MaterialsDoc documents: 100%|███████| 1/1 [00:00<00:00, 27776.85it/s]\n",
      "Retrieving MaterialsDoc documents: 100%|███████| 1/1 [00:00<00:00, 28728.11it/s]\n",
      "Retrieving MaterialsDoc documents: 100%|███████| 1/1 [00:00<00:00, 26886.56it/s]\n",
      "Retrieving MaterialsDoc documents: 100%|███████| 1/1 [00:00<00:00, 29330.80it/s]\n",
      "Retrieving MaterialsDoc documents: 100%|███████| 1/1 [00:00<00:00, 29330.80it/s]\n",
      "Retrieving MaterialsDoc documents: 100%|███████| 1/1 [00:00<00:00, 30393.51it/s]\n",
      "Retrieving MaterialsDoc documents: 0it [00:00, ?it/s]\n"
     ]
    },
    {
     "name": "stdout",
     "output_type": "stream",
     "text": [
      "Error occurred for material ID mp-774003: 'list' object has no attribute 'to'\n"
     ]
    },
    {
     "name": "stderr",
     "output_type": "stream",
     "text": [
      "Retrieving MaterialsDoc documents: 100%|███████| 1/1 [00:00<00:00, 24385.49it/s]\n",
      "Retrieving MaterialsDoc documents: 100%|███████| 1/1 [00:00<00:00, 30174.85it/s]\n",
      "Retrieving MaterialsDoc documents: 100%|███████| 1/1 [00:00<00:00, 29537.35it/s]\n",
      "Retrieving MaterialsDoc documents: 100%|███████| 1/1 [00:00<00:00, 27962.03it/s]\n",
      "Retrieving MaterialsDoc documents: 100%|███████| 1/1 [00:00<00:00, 31300.78it/s]\n",
      "Retrieving MaterialsDoc documents: 100%|███████| 1/1 [00:00<00:00, 27776.85it/s]\n",
      "Retrieving MaterialsDoc documents: 100%|███████| 1/1 [00:00<00:00, 27776.85it/s]\n",
      "Retrieving MaterialsDoc documents: 100%|███████| 1/1 [00:00<00:00, 30393.51it/s]\n",
      "Retrieving MaterialsDoc documents: 100%|███████| 1/1 [00:00<00:00, 28532.68it/s]\n",
      "Retrieving MaterialsDoc documents: 100%|███████| 1/1 [00:00<00:00, 27776.85it/s]\n",
      "Retrieving MaterialsDoc documents: 100%|███████| 1/1 [00:00<00:00, 29537.35it/s]\n",
      "Retrieving MaterialsDoc documents: 100%|███████| 1/1 [00:00<00:00, 31068.92it/s]\n",
      "Retrieving MaterialsDoc documents: 100%|███████| 1/1 [00:00<00:00, 30393.51it/s]\n",
      "Retrieving MaterialsDoc documents: 100%|███████| 1/1 [00:00<00:00, 28532.68it/s]\n",
      "Retrieving MaterialsDoc documents: 100%|███████| 1/1 [00:00<00:00, 30393.51it/s]\n",
      "Retrieving MaterialsDoc documents: 100%|███████| 1/1 [00:00<00:00, 28728.11it/s]\n",
      "Retrieving MaterialsDoc documents: 0it [00:00, ?it/s]\n"
     ]
    },
    {
     "name": "stdout",
     "output_type": "stream",
     "text": [
      "Error occurred for material ID mp-715463: 'list' object has no attribute 'to'\n"
     ]
    },
    {
     "name": "stderr",
     "output_type": "stream",
     "text": [
      "Retrieving MaterialsDoc documents: 100%|███████| 1/1 [00:00<00:00, 29330.80it/s]\n",
      "Retrieving MaterialsDoc documents: 100%|███████| 1/1 [00:00<00:00, 30393.51it/s]\n",
      "Retrieving MaterialsDoc documents: 100%|███████| 1/1 [00:00<00:00, 29330.80it/s]\n",
      "Retrieving MaterialsDoc documents: 100%|███████| 1/1 [00:00<00:00, 28728.11it/s]\n",
      "Retrieving MaterialsDoc documents: 100%|███████| 1/1 [00:00<00:00, 29330.80it/s]\n",
      "Retrieving MaterialsDoc documents: 100%|███████| 1/1 [00:00<00:00, 28532.68it/s]\n",
      "Retrieving MaterialsDoc documents: 100%|███████| 1/1 [00:00<00:00, 26379.27it/s]\n",
      "Retrieving MaterialsDoc documents: 100%|███████| 1/1 [00:00<00:00, 27235.74it/s]\n",
      "Retrieving MaterialsDoc documents: 100%|███████| 1/1 [00:00<00:00, 27594.11it/s]\n",
      "Retrieving MaterialsDoc documents: 100%|███████| 1/1 [00:00<00:00, 28728.11it/s]\n",
      "Retrieving MaterialsDoc documents: 100%|███████| 1/1 [00:00<00:00, 33554.43it/s]\n",
      "Retrieving MaterialsDoc documents: 100%|███████| 1/1 [00:00<00:00, 27594.11it/s]\n",
      "Retrieving MaterialsDoc documents: 100%|███████| 1/1 [00:00<00:00, 30393.51it/s]\n",
      "Retrieving MaterialsDoc documents: 100%|███████| 1/1 [00:00<00:00, 26886.56it/s]\n",
      "Retrieving MaterialsDoc documents: 100%|███████| 1/1 [00:00<00:00, 28532.68it/s]\n",
      "Retrieving MaterialsDoc documents: 100%|███████| 1/1 [00:00<00:00, 30393.51it/s]\n",
      "Retrieving MaterialsDoc documents: 100%|███████| 1/1 [00:00<00:00, 26214.40it/s]\n",
      "Retrieving MaterialsDoc documents: 100%|███████| 1/1 [00:00<00:00, 25115.59it/s]\n",
      "Retrieving MaterialsDoc documents: 100%|███████| 1/1 [00:00<00:00, 28339.89it/s]\n",
      "Retrieving MaterialsDoc documents: 0it [00:00, ?it/s]\n"
     ]
    },
    {
     "name": "stdout",
     "output_type": "stream",
     "text": [
      "Error occurred for material ID mp-771787: 'list' object has no attribute 'to'\n"
     ]
    },
    {
     "name": "stderr",
     "output_type": "stream",
     "text": [
      "Retrieving MaterialsDoc documents: 100%|███████| 1/1 [00:00<00:00, 27060.03it/s]\n",
      "Retrieving MaterialsDoc documents: 100%|███████| 1/1 [00:00<00:00, 27776.85it/s]\n",
      "Retrieving MaterialsDoc documents: 100%|███████| 1/1 [00:00<00:00, 27060.03it/s]\n",
      "Retrieving MaterialsDoc documents: 100%|███████| 1/1 [00:00<00:00, 29537.35it/s]\n",
      "Retrieving MaterialsDoc documents: 100%|███████| 1/1 [00:00<00:00, 28728.11it/s]\n",
      "Retrieving MaterialsDoc documents: 100%|███████| 1/1 [00:00<00:00, 29330.80it/s]\n",
      "Retrieving MaterialsDoc documents: 100%|███████| 1/1 [00:00<00:00, 28728.11it/s]\n",
      "Retrieving MaterialsDoc documents: 100%|███████| 1/1 [00:00<00:00, 29330.80it/s]\n",
      "Retrieving MaterialsDoc documents: 100%|███████| 1/1 [00:00<00:00, 29330.80it/s]\n",
      "Retrieving MaterialsDoc documents: 100%|███████| 1/1 [00:00<00:00, 31300.78it/s]\n",
      "Retrieving MaterialsDoc documents: 100%|███████| 1/1 [00:00<00:00, 29537.35it/s]\n",
      "Retrieving MaterialsDoc documents: 100%|███████| 1/1 [00:00<00:00, 29330.80it/s]\n",
      "Retrieving MaterialsDoc documents: 100%|███████| 1/1 [00:00<00:00, 28532.68it/s]\n",
      "Retrieving MaterialsDoc documents: 100%|███████| 1/1 [00:00<00:00, 27776.85it/s]\n",
      "Retrieving MaterialsDoc documents: 100%|███████| 1/1 [00:00<00:00, 27060.03it/s]\n",
      "Retrieving MaterialsDoc documents: 100%|███████| 1/1 [00:00<00:00, 26214.40it/s]\n",
      "Retrieving MaterialsDoc documents: 100%|███████| 1/1 [00:00<00:00, 27060.03it/s]\n",
      "Retrieving MaterialsDoc documents: 100%|███████| 1/1 [00:00<00:00, 27962.03it/s]\n",
      "Retrieving MaterialsDoc documents: 100%|███████| 1/1 [00:00<00:00, 28728.11it/s]\n",
      "Retrieving MaterialsDoc documents: 100%|███████| 1/1 [00:00<00:00, 28532.68it/s]\n",
      "Retrieving MaterialsDoc documents: 100%|███████| 1/1 [00:00<00:00, 27776.85it/s]\n",
      "Retrieving MaterialsDoc documents: 100%|███████| 1/1 [00:00<00:00, 15363.75it/s]\n",
      "Retrieving MaterialsDoc documents: 100%|███████| 1/1 [00:00<00:00, 27776.85it/s]\n",
      "Retrieving MaterialsDoc documents: 100%|███████| 1/1 [00:00<00:00, 29330.80it/s]\n",
      "Retrieving MaterialsDoc documents: 100%|███████| 1/1 [00:00<00:00, 30393.51it/s]\n",
      "Retrieving MaterialsDoc documents: 100%|███████| 1/1 [00:00<00:00, 27962.03it/s]\n",
      "Retrieving MaterialsDoc documents: 100%|███████| 1/1 [00:00<00:00, 26379.27it/s]\n",
      "Retrieving MaterialsDoc documents: 100%|███████| 1/1 [00:00<00:00, 28532.68it/s]\n",
      "Retrieving MaterialsDoc documents: 100%|███████| 1/1 [00:00<00:00, 30393.51it/s]\n",
      "Retrieving MaterialsDoc documents: 100%|███████| 1/1 [00:00<00:00, 27962.03it/s]\n",
      "Retrieving MaterialsDoc documents: 100%|███████| 1/1 [00:00<00:00, 29330.80it/s]\n",
      "Retrieving MaterialsDoc documents: 100%|███████| 1/1 [00:00<00:00, 27060.03it/s]\n",
      "Retrieving MaterialsDoc documents: 100%|███████| 1/1 [00:00<00:00, 28532.68it/s]\n",
      "Retrieving MaterialsDoc documents: 100%|███████| 1/1 [00:00<00:00, 29330.80it/s]\n",
      "Retrieving MaterialsDoc documents: 100%|███████| 1/1 [00:00<00:00, 29330.80it/s]\n",
      "Retrieving MaterialsDoc documents: 100%|███████| 1/1 [00:00<00:00, 29746.84it/s]\n",
      "Retrieving MaterialsDoc documents: 100%|███████| 1/1 [00:00<00:00, 28532.68it/s]\n",
      "Retrieving MaterialsDoc documents: 100%|███████| 1/1 [00:00<00:00, 27776.85it/s]\n",
      "Retrieving MaterialsDoc documents: 100%|███████| 1/1 [00:00<00:00, 26379.27it/s]\n",
      "Retrieving MaterialsDoc documents: 100%|███████| 1/1 [00:00<00:00, 31300.78it/s]\n",
      "Retrieving MaterialsDoc documents: 100%|███████| 1/1 [00:00<00:00, 29330.80it/s]\n",
      "Retrieving MaterialsDoc documents: 100%|███████| 1/1 [00:00<00:00, 30393.51it/s]\n",
      "Retrieving MaterialsDoc documents: 100%|███████| 1/1 [00:00<00:00, 29746.84it/s]\n",
      "Retrieving MaterialsDoc documents: 100%|███████| 1/1 [00:00<00:00, 28532.68it/s]\n",
      "Retrieving MaterialsDoc documents: 100%|███████| 1/1 [00:00<00:00, 29330.80it/s]\n",
      "Retrieving MaterialsDoc documents: 100%|███████| 1/1 [00:00<00:00, 27962.03it/s]\n",
      "Retrieving MaterialsDoc documents: 100%|███████| 1/1 [00:00<00:00, 26886.56it/s]\n",
      "Retrieving MaterialsDoc documents: 100%|███████| 1/1 [00:00<00:00, 30393.51it/s]\n",
      "Retrieving MaterialsDoc documents: 100%|███████| 1/1 [00:00<00:00, 28532.68it/s]\n",
      "Retrieving MaterialsDoc documents: 100%|███████| 1/1 [00:00<00:00, 27962.03it/s]\n",
      "Retrieving MaterialsDoc documents: 100%|███████| 1/1 [00:00<00:00, 27776.85it/s]\n",
      "Retrieving MaterialsDoc documents: 100%|███████| 1/1 [00:00<00:00, 20763.88it/s]\n",
      "Retrieving MaterialsDoc documents: 100%|███████| 1/1 [00:00<00:00, 28728.11it/s]\n",
      "Retrieving MaterialsDoc documents: 0it [00:00, ?it/s]\n"
     ]
    },
    {
     "name": "stdout",
     "output_type": "stream",
     "text": [
      "Error occurred for material ID mp-25150: 'list' object has no attribute 'to'\n"
     ]
    },
    {
     "name": "stderr",
     "output_type": "stream",
     "text": [
      "Retrieving MaterialsDoc documents: 100%|███████| 1/1 [00:00<00:00, 29330.80it/s]\n",
      "Retrieving MaterialsDoc documents: 100%|███████| 1/1 [00:00<00:00, 20460.02it/s]\n",
      "Retrieving MaterialsDoc documents: 100%|███████| 1/1 [00:00<00:00, 28728.11it/s]\n",
      "Retrieving MaterialsDoc documents: 100%|███████| 1/1 [00:00<00:00, 28728.11it/s]\n",
      "Retrieving MaterialsDoc documents: 100%|███████| 1/1 [00:00<00:00, 26886.56it/s]\n",
      "Retrieving MaterialsDoc documents: 100%|███████| 1/1 [00:00<00:00, 29330.80it/s]\n",
      "Retrieving MaterialsDoc documents: 100%|███████| 1/1 [00:00<00:00, 29330.80it/s]\n",
      "Retrieving MaterialsDoc documents: 100%|███████| 1/1 [00:00<00:00, 30174.85it/s]\n",
      "Retrieving MaterialsDoc documents: 100%|███████| 1/1 [00:00<00:00, 28532.68it/s]\n",
      "Retrieving MaterialsDoc documents: 100%|███████| 1/1 [00:00<00:00, 27776.85it/s]\n",
      "Retrieving MaterialsDoc documents: 100%|███████| 1/1 [00:00<00:00, 29330.80it/s]\n",
      "Retrieving MaterialsDoc documents: 100%|███████| 1/1 [00:00<00:00, 27962.03it/s]\n",
      "Retrieving MaterialsDoc documents: 100%|███████| 1/1 [00:00<00:00, 26886.56it/s]\n",
      "Retrieving MaterialsDoc documents: 100%|███████| 1/1 [00:00<00:00, 28728.11it/s]\n",
      "Retrieving MaterialsDoc documents: 100%|███████| 1/1 [00:00<00:00, 28532.68it/s]\n",
      "Retrieving MaterialsDoc documents: 100%|███████| 1/1 [00:00<00:00, 28532.68it/s]\n",
      "Retrieving MaterialsDoc documents: 100%|███████| 1/1 [00:00<00:00, 29330.80it/s]\n",
      "Retrieving MaterialsDoc documents: 100%|███████| 1/1 [00:00<00:00, 27962.03it/s]\n",
      "Retrieving MaterialsDoc documents: 100%|███████| 1/1 [00:00<00:00, 29330.80it/s]\n",
      "Retrieving MaterialsDoc documents: 100%|███████| 1/1 [00:00<00:00, 28532.68it/s]\n",
      "Retrieving MaterialsDoc documents: 100%|███████| 1/1 [00:00<00:00, 29330.80it/s]\n",
      "Retrieving MaterialsDoc documents: 100%|███████| 1/1 [00:00<00:00, 28532.68it/s]\n",
      "Retrieving MaterialsDoc documents: 100%|███████| 1/1 [00:00<00:00, 16912.52it/s]\n",
      "Retrieving MaterialsDoc documents: 100%|███████| 1/1 [00:00<00:00, 29330.80it/s]\n",
      "Retrieving MaterialsDoc documents: 100%|███████| 1/1 [00:00<00:00, 27594.11it/s]\n",
      "Retrieving MaterialsDoc documents: 100%|███████| 1/1 [00:00<00:00, 26886.56it/s]\n",
      "Retrieving MaterialsDoc documents: 100%|███████| 1/1 [00:00<00:00, 26886.56it/s]\n",
      "Retrieving MaterialsDoc documents: 100%|███████| 1/1 [00:00<00:00, 27235.74it/s]\n",
      "Retrieving MaterialsDoc documents: 100%|███████| 1/1 [00:00<00:00, 30393.51it/s]\n",
      "Retrieving MaterialsDoc documents: 100%|███████| 1/1 [00:00<00:00, 28532.68it/s]\n",
      "Retrieving MaterialsDoc documents: 100%|███████| 1/1 [00:00<00:00, 28728.11it/s]\n",
      "Retrieving MaterialsDoc documents: 100%|███████| 1/1 [00:00<00:00, 27776.85it/s]\n",
      "Retrieving MaterialsDoc documents: 100%|███████| 1/1 [00:00<00:00, 27776.85it/s]\n",
      "Retrieving MaterialsDoc documents: 100%|███████| 1/1 [00:00<00:00, 29537.35it/s]\n",
      "Retrieving MaterialsDoc documents: 100%|███████| 1/1 [00:00<00:00, 24385.49it/s]\n",
      "Retrieving MaterialsDoc documents: 100%|███████| 1/1 [00:00<00:00, 25575.02it/s]\n",
      "Retrieving MaterialsDoc documents: 100%|███████| 1/1 [00:00<00:00, 28532.68it/s]\n",
      "Retrieving MaterialsDoc documents: 100%|███████| 1/1 [00:00<00:00, 27776.85it/s]\n",
      "Retrieving MaterialsDoc documents: 100%|███████| 1/1 [00:00<00:00, 28532.68it/s]\n",
      "Retrieving MaterialsDoc documents: 100%|███████| 1/1 [00:00<00:00, 29330.80it/s]\n",
      "Retrieving MaterialsDoc documents: 100%|███████| 1/1 [00:00<00:00, 28532.68it/s]\n",
      "Retrieving MaterialsDoc documents: 100%|███████| 1/1 [00:00<00:00, 25731.93it/s]\n",
      "Retrieving MaterialsDoc documents: 100%|███████| 1/1 [00:00<00:00, 28728.11it/s]\n",
      "Retrieving MaterialsDoc documents: 100%|███████| 1/1 [00:00<00:00, 28728.11it/s]\n",
      "Retrieving MaterialsDoc documents: 100%|███████| 1/1 [00:00<00:00, 30615.36it/s]\n",
      "Retrieving MaterialsDoc documents: 100%|███████| 1/1 [00:00<00:00, 24966.10it/s]\n",
      "Retrieving MaterialsDoc documents: 100%|███████| 1/1 [00:00<00:00, 27060.03it/s]\n",
      "Retrieving MaterialsDoc documents: 100%|███████| 1/1 [00:00<00:00, 27776.85it/s]\n",
      "Retrieving MaterialsDoc documents: 0it [00:00, ?it/s]\n"
     ]
    },
    {
     "name": "stdout",
     "output_type": "stream",
     "text": [
      "Error occurred for material ID mp-768037: 'list' object has no attribute 'to'\n"
     ]
    },
    {
     "name": "stderr",
     "output_type": "stream",
     "text": [
      "Retrieving MaterialsDoc documents: 100%|███████| 1/1 [00:00<00:00, 28728.11it/s]\n",
      "Retrieving MaterialsDoc documents: 100%|███████| 1/1 [00:00<00:00, 28339.89it/s]\n",
      "Retrieving MaterialsDoc documents: 100%|███████| 1/1 [00:00<00:00, 27962.03it/s]\n",
      "Retrieving MaterialsDoc documents: 0it [00:00, ?it/s]\n"
     ]
    },
    {
     "name": "stdout",
     "output_type": "stream",
     "text": [
      "Error occurred for material ID mp-25035: 'list' object has no attribute 'to'\n"
     ]
    },
    {
     "name": "stderr",
     "output_type": "stream",
     "text": [
      "Retrieving MaterialsDoc documents: 100%|███████| 1/1 [00:00<00:00, 25575.02it/s]\n",
      "Retrieving MaterialsDoc documents: 100%|███████| 1/1 [00:00<00:00, 28532.68it/s]\n",
      "Retrieving MaterialsDoc documents: 100%|███████| 1/1 [00:00<00:00, 28728.11it/s]\n",
      "Retrieving MaterialsDoc documents: 100%|███████| 1/1 [00:00<00:00, 28532.68it/s]\n",
      "Retrieving MaterialsDoc documents: 100%|███████| 1/1 [00:00<00:00, 28532.68it/s]\n",
      "Retrieving MaterialsDoc documents: 100%|███████| 1/1 [00:00<00:00, 25575.02it/s]\n",
      "Retrieving MaterialsDoc documents: 100%|███████| 1/1 [00:00<00:00, 31300.78it/s]\n",
      "Retrieving MaterialsDoc documents: 100%|███████| 1/1 [00:00<00:00, 29330.80it/s]\n",
      "Retrieving MaterialsDoc documents: 100%|███████| 1/1 [00:00<00:00, 28532.68it/s]\n",
      "Retrieving MaterialsDoc documents: 100%|███████| 1/1 [00:00<00:00, 31300.78it/s]\n",
      "Retrieving MaterialsDoc documents: 100%|███████| 1/1 [00:00<00:00, 18558.87it/s]\n",
      "Retrieving MaterialsDoc documents: 100%|███████| 1/1 [00:00<00:00, 28728.11it/s]\n",
      "Retrieving MaterialsDoc documents: 100%|███████| 1/1 [00:00<00:00, 28532.68it/s]\n",
      "Retrieving MaterialsDoc documents: 100%|███████| 1/1 [00:00<00:00, 26886.56it/s]\n",
      "Retrieving MaterialsDoc documents: 100%|███████| 1/1 [00:00<00:00, 30174.85it/s]\n",
      "Retrieving MaterialsDoc documents: 100%|███████| 1/1 [00:00<00:00, 30615.36it/s]\n",
      "Retrieving MaterialsDoc documents: 100%|███████| 1/1 [00:00<00:00, 29537.35it/s]\n",
      "Retrieving MaterialsDoc documents: 100%|███████| 1/1 [00:00<00:00, 29330.80it/s]\n",
      "Retrieving MaterialsDoc documents: 100%|███████| 1/1 [00:00<00:00, 28532.68it/s]\n",
      "Retrieving MaterialsDoc documents: 100%|███████| 1/1 [00:00<00:00, 29330.80it/s]\n",
      "Retrieving MaterialsDoc documents: 100%|███████| 1/1 [00:00<00:00, 28728.11it/s]\n",
      "Retrieving MaterialsDoc documents: 100%|███████| 1/1 [00:00<00:00, 27776.85it/s]\n",
      "Retrieving MaterialsDoc documents: 100%|███████| 1/1 [00:00<00:00, 27962.03it/s]\n",
      "Retrieving MaterialsDoc documents: 100%|███████| 1/1 [00:00<00:00, 28728.11it/s]\n",
      "Retrieving MaterialsDoc documents: 100%|███████| 1/1 [00:00<00:00, 26379.27it/s]\n",
      "Retrieving MaterialsDoc documents: 0it [00:00, ?it/s]\n"
     ]
    },
    {
     "name": "stdout",
     "output_type": "stream",
     "text": [
      "Error occurred for material ID mp-774156: 'list' object has no attribute 'to'\n"
     ]
    },
    {
     "name": "stderr",
     "output_type": "stream",
     "text": [
      "Retrieving MaterialsDoc documents: 100%|███████| 1/1 [00:00<00:00, 25115.59it/s]\n",
      "Retrieving MaterialsDoc documents: 100%|███████| 1/1 [00:00<00:00, 26886.56it/s]\n",
      "Retrieving MaterialsDoc documents: 100%|███████| 1/1 [00:00<00:00, 27962.03it/s]\n",
      "Retrieving MaterialsDoc documents: 100%|███████| 1/1 [00:00<00:00, 29746.84it/s]\n",
      "Retrieving MaterialsDoc documents: 100%|███████| 1/1 [00:00<00:00, 29537.35it/s]\n",
      "Retrieving MaterialsDoc documents: 100%|███████| 1/1 [00:00<00:00, 30174.85it/s]\n",
      "Retrieving MaterialsDoc documents: 100%|███████| 1/1 [00:00<00:00, 29330.80it/s]\n",
      "Retrieving MaterialsDoc documents: 100%|███████| 1/1 [00:00<00:00, 28532.68it/s]\n",
      "Retrieving MaterialsDoc documents: 100%|███████| 1/1 [00:00<00:00, 23831.27it/s]\n",
      "Retrieving MaterialsDoc documents: 100%|███████| 1/1 [00:00<00:00, 27776.85it/s]\n",
      "Retrieving MaterialsDoc documents: 100%|███████| 1/1 [00:00<00:00, 29330.80it/s]\n"
     ]
    }
   ],
   "source": [
    "with open('cif_files/not_found.txt', 'a') as t:\n",
    "    for material_id in cif_list['material-id']:\n",
    "        try:\n",
    "            structure = m.get_structure_by_material_id(material_id)\n",
    "            cif_data = structure.to(fmt=\"cif\")\n",
    "            with open(f'cif_files/{material_id}.cif', 'w') as f:\n",
    "                f.write(cif_data)\n",
    "        except Exception as e:\n",
    "            t.write(f'{material_id}\\n')\n",
    "            print(f\"Error occurred for material ID {material_id}: {e}\")"
   ]
  },
  {
   "cell_type": "code",
   "execution_count": null,
   "id": "087b58ad-830b-44be-bed3-e4ce7eb67f67",
   "metadata": {},
   "outputs": [],
   "source": []
  }
 ],
 "metadata": {
  "kernelspec": {
   "display_name": "Python 3 (ipykernel)",
   "language": "python",
   "name": "python3"
  },
  "language_info": {
   "codemirror_mode": {
    "name": "ipython",
    "version": 3
   },
   "file_extension": ".py",
   "mimetype": "text/x-python",
   "name": "python",
   "nbconvert_exporter": "python",
   "pygments_lexer": "ipython3",
   "version": "3.10.14"
  }
 },
 "nbformat": 4,
 "nbformat_minor": 5
}
