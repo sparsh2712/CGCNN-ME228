{
 "cells": [
  {
   "cell_type": "code",
   "execution_count": 1,
   "id": "38c77816-3664-4d78-9e55-2b08638cd428",
   "metadata": {},
   "outputs": [],
   "source": [
    "import pandas as pd \n",
    "import numpy as np \n",
    "import matplotlib.pyplot as plt"
   ]
  },
  {
   "cell_type": "code",
   "execution_count": 2,
   "id": "59bd1bdf-5e6b-407f-bc40-f4457928e022",
   "metadata": {},
   "outputs": [
    {
     "name": "stderr",
     "output_type": "stream",
     "text": [
      "/opt/anaconda3/envs/cgcnn/lib/python3.10/site-packages/tqdm/auto.py:21: TqdmWarning: IProgress not found. Please update jupyter and ipywidgets. See https://ipywidgets.readthedocs.io/en/stable/user_install.html\n",
      "  from .autonotebook import tqdm as notebook_tqdm\n"
     ]
    }
   ],
   "source": [
    "from mp_api.client import MPRester"
   ]
  },
  {
   "cell_type": "code",
   "execution_count": 3,
   "id": "4fd55318-dbce-445e-9981-4488613dc7b9",
   "metadata": {},
   "outputs": [],
   "source": [
    "# m = MPRester(api_key=\"PULAwCzMQFzgXRhElkO1T4BoM6mQAjnO\")"
   ]
  },
  {
   "cell_type": "code",
   "execution_count": 4,
   "id": "f7515937-1035-4a2f-b221-8b84de0688dc",
   "metadata": {},
   "outputs": [
    {
     "name": "stderr",
     "output_type": "stream",
     "text": [
      "Retrieving MaterialsDoc documents: 100%|████████| 1/1 [00:00<00:00, 9098.27it/s]\n"
     ]
    }
   ],
   "source": [
    "# structure = m.get_structure_by_material_id(\"mp-1234\")\n",
    "# cif_data = structure.to(fmt=\"cif\")\n",
    "# with open(\"mp-1234.cif\", \"w\") as f:\n",
    "#     f.write(cif_data)\n"
   ]
  },
  {
   "cell_type": "code",
   "execution_count": 28,
   "id": "7f6e9327-5dfd-4a8f-b317-fe65db1cff4d",
   "metadata": {},
   "outputs": [
    {
     "name": "stderr",
     "output_type": "stream",
     "text": [
      "Retrieving SummaryDoc documents: 100%|█████████| 1/1 [00:00<00:00, 24385.49it/s]\n"
     ]
    },
    {
     "data": {
      "text/plain": [
       "88.916"
      ]
     },
     "execution_count": 28,
     "metadata": {},
     "output_type": "execute_result"
    }
   ],
   "source": [
    "with MPRester(\"PULAwCzMQFzgXRhElkO1T4BoM6mQAjnO\") as mpr:\n",
    "    docs = mpr.materials.summary.search(material_ids=[\"mp-149\"], \n",
    "                                            fields=[\"band_gap\", \"efermi\", \"formation_energy_per_atom\", \"energy_per_atom\", \"homogeneous_poisson\", \"shear_modulus\", \"bulk_modulus\"])\n",
    "\n",
    "docs[0].bulk_modulus['voigt']"
   ]
  },
  {
   "cell_type": "code",
   "execution_count": 14,
   "id": "26809d1e-e823-42f9-ab93-c861bb9b924f",
   "metadata": {},
   "outputs": [],
   "source": [
    "material_list = pd.read_csv('mp-ids-3402.csv', header=None, names=['material-id'])"
   ]
  },
  {
   "cell_type": "code",
   "execution_count": 15,
   "id": "9628eb95-9c8e-4f39-9e36-1d9bec27c61c",
   "metadata": {},
   "outputs": [],
   "source": [
    "material_list['material-id'] = material_list['material-id'].astype(str)"
   ]
  },
  {
   "cell_type": "code",
   "execution_count": 19,
   "id": "35bfa623-e37c-400e-b3fd-362af71a5b55",
   "metadata": {},
   "outputs": [],
   "source": [
    "material_array = material_list['material-id'].tolist()"
   ]
  },
  {
   "cell_type": "code",
   "execution_count": 20,
   "id": "6876ec42-6ad4-43aa-bc9d-a56f559b9149",
   "metadata": {},
   "outputs": [
    {
     "data": {
      "text/plain": [
       "['mp-571420',\n",
       " 'mp-21248',\n",
       " 'mp-7090',\n",
       " 'mp-12480',\n",
       " 'mp-9272',\n",
       " 'mp-20714',\n",
       " 'mp-31138',\n",
       " 'mp-11549',\n",
       " 'mp-1069',\n",
       " 'mp-10125',\n",
       " 'mp-867319',\n",
       " 'mp-28945',\n",
       " 'mp-9251',\n",
       " 'mp-10846',\n",
       " 'mp-10003',\n",
       " 'mp-19247',\n",
       " 'mp-31348',\n",
       " 'mp-5699',\n",
       " 'mp-19094',\n",
       " 'mp-2410',\n",
       " 'mp-313',\n",
       " 'mp-7226',\n",
       " 'mp-4901',\n",
       " 'mp-865733',\n",
       " 'mp-248',\n",
       " 'mp-568695',\n",
       " 'mp-1755',\n",
       " 'mp-5597',\n",
       " 'mp-20192',\n",
       " 'mp-776791',\n",
       " 'mp-754741',\n",
       " 'mp-30244',\n",
       " 'mp-5479',\n",
       " 'mp-30593',\n",
       " 'mp-45',\n",
       " 'mp-764004',\n",
       " 'mp-27932',\n",
       " 'mp-21236',\n",
       " 'mp-49',\n",
       " 'mp-11883',\n",
       " 'mp-850978',\n",
       " 'mp-862334',\n",
       " 'mp-761563',\n",
       " 'mp-10911',\n",
       " 'mp-10721',\n",
       " 'mp-18300',\n",
       " 'mp-22899',\n",
       " 'mp-625',\n",
       " 'mp-756134',\n",
       " 'mp-7955',\n",
       " 'mp-554089',\n",
       " 'mp-2701',\n",
       " 'mp-20465',\n",
       " 'mp-10521',\n",
       " 'mp-9569',\n",
       " 'mp-3158',\n",
       " 'mp-149',\n",
       " 'mp-675163',\n",
       " 'mp-4152',\n",
       " 'mp-7436',\n",
       " 'mp-18751',\n",
       " 'mp-1851',\n",
       " 'mp-25545',\n",
       " 'mp-778780',\n",
       " 'mp-864969',\n",
       " 'mp-1001833',\n",
       " 'mp-28020',\n",
       " 'mp-7431',\n",
       " 'mp-12903',\n",
       " 'mp-328',\n",
       " 'mp-530399',\n",
       " 'mp-19384',\n",
       " 'mp-20857',\n",
       " 'mp-2552',\n",
       " 'mp-568598',\n",
       " 'mp-1057',\n",
       " 'mp-127',\n",
       " 'mp-10181',\n",
       " 'mp-1123',\n",
       " 'mp-865985',\n",
       " 'mp-30594',\n",
       " 'mp-30247',\n",
       " 'mp-15963',\n",
       " 'mp-10182',\n",
       " 'mp-352',\n",
       " 'mp-79',\n",
       " 'mp-580287',\n",
       " 'mp-550908',\n",
       " 'mp-30767',\n",
       " 'mp-2794',\n",
       " 'mp-2089',\n",
       " 'mp-362',\n",
       " 'mp-30777',\n",
       " 'mp-22151',\n",
       " 'mp-2932',\n",
       " 'mp-569558',\n",
       " 'mp-754157',\n",
       " 'mp-22493',\n",
       " 'mp-18814',\n",
       " 'mp-770002',\n",
       " 'mp-7352',\n",
       " 'mp-5288',\n",
       " 'mp-11959',\n",
       " 'mp-4081',\n",
       " 'mp-1401',\n",
       " 'mp-7070',\n",
       " 'mp-675127',\n",
       " 'mp-932',\n",
       " 'mp-12778',\n",
       " 'mp-1121',\n",
       " 'mp-23737',\n",
       " 'mp-32',\n",
       " 'mp-24719',\n",
       " 'mp-23406',\n",
       " 'mp-7400',\n",
       " 'mp-31059',\n",
       " 'mp-9574',\n",
       " 'mp-15819',\n",
       " 'mp-11237',\n",
       " 'mp-30451',\n",
       " 'mp-568961',\n",
       " 'mp-481',\n",
       " 'mp-19326',\n",
       " 'mp-9945',\n",
       " 'mp-13240',\n",
       " 'mp-865212',\n",
       " 'mp-976017',\n",
       " 'mp-2172',\n",
       " 'mp-864957',\n",
       " 'mp-674478',\n",
       " 'mp-1873',\n",
       " 'mp-20983',\n",
       " 'mp-813',\n",
       " 'mp-1682',\n",
       " 'mp-1073',\n",
       " 'mp-8697',\n",
       " 'mp-555370',\n",
       " 'mp-13334',\n",
       " 'mp-772245',\n",
       " 'mp-1914',\n",
       " 'mp-570553',\n",
       " 'mp-7917',\n",
       " 'mp-103',\n",
       " 'mp-12549',\n",
       " 'mp-752398',\n",
       " 'mp-770997',\n",
       " 'mp-2567',\n",
       " 'mp-1969',\n",
       " 'mp-545974',\n",
       " 'mp-565994',\n",
       " 'mp-561637',\n",
       " 'mp-7038',\n",
       " 'mp-22309',\n",
       " 'mp-753508',\n",
       " 'mp-562',\n",
       " 'mp-989512',\n",
       " 'mp-1124',\n",
       " 'mp-20800',\n",
       " 'mp-2674',\n",
       " 'mp-8983',\n",
       " 'mp-20033',\n",
       " 'mp-1606',\n",
       " 'mp-2534',\n",
       " 'mp-2049',\n",
       " 'mp-1380',\n",
       " 'mp-3163',\n",
       " 'mp-30533',\n",
       " 'mp-30672',\n",
       " 'mp-2700',\n",
       " 'mp-30818',\n",
       " 'mp-560588',\n",
       " 'mp-22346',\n",
       " 'mp-541753',\n",
       " 'mp-27838',\n",
       " 'mp-34202',\n",
       " 'mp-2760',\n",
       " 'mp-741706',\n",
       " 'mp-30441',\n",
       " 'mp-2444',\n",
       " 'mp-9946',\n",
       " 'mp-1477',\n",
       " 'mp-33107',\n",
       " 'mp-10271',\n",
       " 'mp-21464',\n",
       " 'mp-2783',\n",
       " 'mp-5590',\n",
       " 'mp-3759',\n",
       " 'mp-561238',\n",
       " 'mp-1395',\n",
       " 'mp-30147',\n",
       " 'mp-18848',\n",
       " 'mp-10394',\n",
       " 'mp-1941',\n",
       " 'mp-766917',\n",
       " 'mp-818',\n",
       " 'mp-2025',\n",
       " 'mp-889',\n",
       " 'mp-19292',\n",
       " 'mp-2385',\n",
       " 'mp-571039',\n",
       " 'mp-2354',\n",
       " 'mp-938',\n",
       " 'mp-772231',\n",
       " 'mp-774117',\n",
       " 'mp-7339',\n",
       " 'mp-9973',\n",
       " 'mp-1346',\n",
       " 'mp-101',\n",
       " 'mp-9564',\n",
       " 'mp-11293',\n",
       " 'mp-11550',\n",
       " 'mp-8830',\n",
       " 'mp-21078',\n",
       " 'mp-754478',\n",
       " 'mp-32880',\n",
       " 'mp-570097',\n",
       " 'mp-4798',\n",
       " 'mp-567981',\n",
       " 'mp-569446',\n",
       " 'mp-32449',\n",
       " 'mp-2',\n",
       " 'mp-604908',\n",
       " 'mp-1029',\n",
       " 'mp-12992',\n",
       " 'mp-9556',\n",
       " 'mp-7937',\n",
       " 'mp-766154',\n",
       " 'mp-28339',\n",
       " 'mp-774411',\n",
       " 'mp-22914',\n",
       " 'mp-2696',\n",
       " 'mp-615',\n",
       " 'mp-20849',\n",
       " 'mp-865665',\n",
       " 'mp-3721',\n",
       " 'mp-865989',\n",
       " 'mp-11798',\n",
       " 'mp-10264',\n",
       " 'mp-23709',\n",
       " 'mp-19340',\n",
       " 'mp-29733',\n",
       " 'mp-1315',\n",
       " 'mp-776184',\n",
       " 'mp-552588',\n",
       " 'mp-21003',\n",
       " 'mp-9953',\n",
       " 'mp-20862',\n",
       " 'mp-1652',\n",
       " 'mp-1138',\n",
       " 'mp-30867',\n",
       " 'mp-12927',\n",
       " 'mp-30449',\n",
       " 'mp-871',\n",
       " 'mp-8221',\n",
       " 'mp-30849',\n",
       " 'mp-30671',\n",
       " 'mp-615314',\n",
       " 'mp-570377',\n",
       " 'mp-570256',\n",
       " 'mp-2578',\n",
       " 'mp-12359',\n",
       " 'mp-647',\n",
       " 'mp-762915',\n",
       " 'mp-754672',\n",
       " 'mp-15322',\n",
       " 'mp-853247',\n",
       " 'mp-505071',\n",
       " 'mp-21503',\n",
       " 'mp-753657',\n",
       " 'mp-669918',\n",
       " 'mp-764362',\n",
       " 'mp-11358',\n",
       " 'mp-616378',\n",
       " 'mp-2250',\n",
       " 'mp-1925',\n",
       " 'mp-15964',\n",
       " 'mp-505527',\n",
       " 'mp-12666',\n",
       " 'mp-762920',\n",
       " 'mp-22284',\n",
       " 'mp-776626',\n",
       " 'mp-21318',\n",
       " 'mp-2252',\n",
       " 'mp-18707',\n",
       " 'mp-864631',\n",
       " 'mp-1989',\n",
       " 'mp-1903',\n",
       " 'mp-761341',\n",
       " 'mp-4002',\n",
       " 'mp-636328',\n",
       " 'mp-556911',\n",
       " 'mp-12806',\n",
       " 'mp-542915',\n",
       " 'mp-1867',\n",
       " 'mp-2469',\n",
       " 'mp-22662',\n",
       " 'mp-3161',\n",
       " 'mp-11522',\n",
       " 'mp-20007',\n",
       " 'mp-9951',\n",
       " 'mp-19435',\n",
       " 'mp-9381',\n",
       " 'mp-84',\n",
       " 'mp-933',\n",
       " 'mp-13',\n",
       " 'mp-23956',\n",
       " 'mp-7748',\n",
       " 'mp-776985',\n",
       " 'mp-274',\n",
       " 'mp-1294',\n",
       " 'mp-30437',\n",
       " 'mp-12802',\n",
       " 'mp-626512',\n",
       " 'mp-1595',\n",
       " 'mp-20648',\n",
       " 'mp-10847',\n",
       " 'mp-568419',\n",
       " 'mp-569803',\n",
       " 'mp-11388',\n",
       " 'mp-3886',\n",
       " 'mp-22787',\n",
       " 'mp-1174',\n",
       " 'mp-8439',\n",
       " 'mp-865840',\n",
       " 'mp-10892',\n",
       " 'mp-67',\n",
       " 'mp-7438',\n",
       " 'mp-757100',\n",
       " 'mp-15805',\n",
       " 'mp-361',\n",
       " 'mp-772856',\n",
       " 'mp-22268',\n",
       " 'mp-22344',\n",
       " 'mp-30885',\n",
       " 'mp-7376',\n",
       " 'mp-131',\n",
       " 'mp-11826',\n",
       " 'mp-553432',\n",
       " 'mp-7575',\n",
       " 'mp-2323',\n",
       " 'mp-3668',\n",
       " 'mp-20249',\n",
       " 'mp-12557',\n",
       " 'mp-567871',\n",
       " 'mp-4385',\n",
       " 'mp-19906',\n",
       " 'mp-5795',\n",
       " 'mp-553961',\n",
       " 'mp-485',\n",
       " 'mp-2606',\n",
       " 'mp-10616',\n",
       " 'mp-8456',\n",
       " 'mp-458',\n",
       " 'mp-569662',\n",
       " 'mp-555934',\n",
       " 'mp-1557',\n",
       " 'mp-592',\n",
       " 'mp-27164',\n",
       " 'mp-30481',\n",
       " 'mp-5193',\n",
       " 'mp-10895',\n",
       " 'mp-38394',\n",
       " 'mp-567705',\n",
       " 'mp-7591',\n",
       " 'mp-13270',\n",
       " 'mp-19968',\n",
       " 'mp-19210',\n",
       " 'mp-30383',\n",
       " 'mp-510623',\n",
       " 'mp-31455',\n",
       " 'mp-5676',\n",
       " 'mp-20868',\n",
       " 'mp-570673',\n",
       " 'mp-2667',\n",
       " 'mp-934',\n",
       " 'mp-18919',\n",
       " 'mp-21008',\n",
       " 'mp-11750',\n",
       " 'mp-23262',\n",
       " 'mp-10969',\n",
       " 'mp-17481',\n",
       " 'mp-2895',\n",
       " 'mp-774',\n",
       " 'mp-616559',\n",
       " 'mp-755318',\n",
       " 'mp-867689',\n",
       " 'mp-571262',\n",
       " 'mp-34134',\n",
       " 'mp-30443',\n",
       " 'mp-24286',\n",
       " 'mp-758594',\n",
       " 'mp-30883',\n",
       " 'mp-771798',\n",
       " 'mp-11573',\n",
       " 'mp-448',\n",
       " 'mp-20268',\n",
       " 'mp-1521',\n",
       " 'mp-8578',\n",
       " 'mp-12108',\n",
       " 'mp-1331',\n",
       " 'mp-4368',\n",
       " 'mp-10455',\n",
       " 'mp-549158',\n",
       " 'mp-23193',\n",
       " 'mp-795',\n",
       " 'mp-22003',\n",
       " 'mp-771844',\n",
       " 'mp-6812',\n",
       " 'mp-752463',\n",
       " 'mp-574',\n",
       " 'mp-19713',\n",
       " 'mp-11454',\n",
       " 'mp-770086',\n",
       " 'mp-9956',\n",
       " 'mp-755378',\n",
       " 'mp-762869',\n",
       " 'mp-765445',\n",
       " 'mp-675',\n",
       " 'mp-571',\n",
       " 'mp-23054',\n",
       " 'mp-1008632',\n",
       " 'mp-10601',\n",
       " 'mp-31498',\n",
       " 'mp-7603',\n",
       " 'mp-3771',\n",
       " 'mp-567769',\n",
       " 'mp-14793',\n",
       " 'mp-569815',\n",
       " 'mp-29898',\n",
       " 'mp-850251',\n",
       " 'mp-3938',\n",
       " 'mp-30591',\n",
       " 'mp-3676',\n",
       " 'mp-20987',\n",
       " 'mp-31502',\n",
       " 'mp-30354',\n",
       " 'mp-25008',\n",
       " 'mp-779689',\n",
       " 'mp-7604',\n",
       " 'mp-20083',\n",
       " 'mp-833',\n",
       " 'mp-1221',\n",
       " 'mp-510559',\n",
       " 'mp-17659',\n",
       " 'mp-8566',\n",
       " 'mp-952',\n",
       " 'mp-2572',\n",
       " 'mp-4612',\n",
       " 'mp-27456',\n",
       " 'mp-20695',\n",
       " 'mp-893',\n",
       " 'mp-19019',\n",
       " 'mp-19983',\n",
       " 'mp-8880',\n",
       " 'mp-775620',\n",
       " 'mp-510219',\n",
       " 'mp-648',\n",
       " 'mp-30404',\n",
       " 'mp-12657',\n",
       " 'mp-542569',\n",
       " 'mp-764338',\n",
       " 'mp-19082',\n",
       " 'mp-756436',\n",
       " 'mp-19308',\n",
       " 'mp-568636',\n",
       " 'mp-30835',\n",
       " 'mp-4978',\n",
       " 'mp-2723',\n",
       " 'mp-2371',\n",
       " 'mp-20027',\n",
       " 'mp-7786',\n",
       " 'mp-7939',\n",
       " 'mp-7692',\n",
       " 'mp-142',\n",
       " 'mp-11411',\n",
       " 'mp-7088',\n",
       " 'mp-30312',\n",
       " 'mp-868359',\n",
       " 'mp-5986',\n",
       " 'mp-865191',\n",
       " 'mp-568495',\n",
       " 'mp-569511',\n",
       " 'mp-2352',\n",
       " 'mp-559676',\n",
       " 'mp-20112',\n",
       " 'mp-771532',\n",
       " 'mp-11452',\n",
       " 'mp-8126',\n",
       " 'mp-27888',\n",
       " 'mp-760376',\n",
       " 'mp-30656',\n",
       " 'mp-753890',\n",
       " 'mp-930',\n",
       " 'mp-568671',\n",
       " 'mp-30477',\n",
       " 'mp-23',\n",
       " 'mp-1822',\n",
       " 'mp-1769',\n",
       " 'mp-13946',\n",
       " 'mp-20997',\n",
       " 'mp-259',\n",
       " 'mp-20557',\n",
       " 'mp-31160',\n",
       " 'mp-972220',\n",
       " 'mp-7704',\n",
       " 'mp-784630',\n",
       " 'mp-27660',\n",
       " 'mp-9970',\n",
       " 'mp-1868',\n",
       " 'mp-16304',\n",
       " 'mp-1780',\n",
       " 'mp-2070',\n",
       " 'mp-213',\n",
       " 'mp-3522',\n",
       " 'mp-568293',\n",
       " 'mp-2802',\n",
       " 'mp-372',\n",
       " 'mp-7002',\n",
       " 'mp-9223',\n",
       " 'mp-672645',\n",
       " 'mp-10635',\n",
       " 'mp-27747',\n",
       " 'mp-552787',\n",
       " 'mp-20327',\n",
       " 'mp-30208',\n",
       " 'mp-3323',\n",
       " 'mp-771858',\n",
       " 'mp-16526',\n",
       " 'mp-862336',\n",
       " 'mp-11407',\n",
       " 'mp-4628',\n",
       " 'mp-2767',\n",
       " 'mp-15642',\n",
       " 'mp-753605',\n",
       " 'mp-8640',\n",
       " 'mp-27335',\n",
       " 'mp-30536',\n",
       " 'mp-862631',\n",
       " 'mp-30726',\n",
       " 'mp-3896',\n",
       " 'mp-13463',\n",
       " 'mp-8800',\n",
       " 'mp-16495',\n",
       " 'mp-21297',\n",
       " 'mp-999133',\n",
       " 'mp-8881',\n",
       " 'mp-20971',\n",
       " 'mp-690526',\n",
       " 'mp-12265',\n",
       " 'mp-11228',\n",
       " 'mp-559092',\n",
       " 'mp-540839',\n",
       " 'mp-9244',\n",
       " 'mp-11233',\n",
       " 'mp-2369',\n",
       " 'mp-30151',\n",
       " 'mp-9027',\n",
       " 'mp-11445',\n",
       " 'mp-22909',\n",
       " 'mp-11322',\n",
       " 'mp-10598',\n",
       " 'mp-2604',\n",
       " 'mp-5186',\n",
       " 'mp-1042',\n",
       " 'mp-30727',\n",
       " 'mp-11190',\n",
       " 'mp-2691',\n",
       " 'mp-11453',\n",
       " 'mp-30852',\n",
       " 'mp-3595',\n",
       " 'mp-1483',\n",
       " 'mp-571458',\n",
       " 'mp-8188',\n",
       " 'mp-29066',\n",
       " 'mp-22444',\n",
       " 'mp-755071',\n",
       " 'mp-4720',\n",
       " 'mp-753848',\n",
       " 'mp-8039',\n",
       " 'mp-1008929',\n",
       " 'mp-196',\n",
       " 'mp-22682',\n",
       " 'mp-31011',\n",
       " 'mp-7790',\n",
       " 'mp-9473',\n",
       " 'mp-1994',\n",
       " 'mp-9573',\n",
       " 'mp-9437',\n",
       " 'mp-776803',\n",
       " 'mp-644481',\n",
       " 'mp-763353',\n",
       " 'mp-19376',\n",
       " 'mp-556125',\n",
       " 'mp-2157',\n",
       " 'mp-2053',\n",
       " 'mp-8062',\n",
       " 'mp-1113',\n",
       " 'mp-21495',\n",
       " 'mp-570557',\n",
       " 'mp-689940',\n",
       " 'mp-31301',\n",
       " 'mp-19035',\n",
       " 'mp-769365',\n",
       " 'mp-865014',\n",
       " 'mp-568',\n",
       " 'mp-977382',\n",
       " 'mp-2653',\n",
       " 'mp-30840',\n",
       " 'mp-690110',\n",
       " 'mp-31452',\n",
       " 'mp-20146',\n",
       " 'mp-569346',\n",
       " 'mp-3731',\n",
       " 'mp-1649',\n",
       " 'mp-6962',\n",
       " 'mp-12678',\n",
       " 'mp-775236',\n",
       " 'mp-569788',\n",
       " 'mp-680677',\n",
       " 'mp-2580',\n",
       " 'mp-18972',\n",
       " 'mp-5777',\n",
       " 'mp-11738',\n",
       " 'mp-19284',\n",
       " 'mp-1565',\n",
       " 'mp-11547',\n",
       " 'mp-936',\n",
       " 'mp-10904',\n",
       " 'mp-978279',\n",
       " 'mp-568914',\n",
       " 'mp-11718',\n",
       " 'mp-20335',\n",
       " 'mp-13853',\n",
       " 'mp-22735',\n",
       " 'mp-894',\n",
       " 'mp-18257',\n",
       " 'mp-1885',\n",
       " 'mp-770398',\n",
       " 'mp-406',\n",
       " 'mp-2762',\n",
       " 'mp-1871',\n",
       " 'mp-2343',\n",
       " 'mp-9958',\n",
       " 'mp-28319',\n",
       " 'mp-16481',\n",
       " 'mp-771',\n",
       " 'mp-17177',\n",
       " 'mp-697111',\n",
       " 'mp-571053',\n",
       " 'mp-12071',\n",
       " 'mp-22027',\n",
       " 'mp-23752',\n",
       " 'mp-997182',\n",
       " 'mp-1046',\n",
       " 'mp-867306',\n",
       " 'mp-21124',\n",
       " 'mp-23202',\n",
       " 'mp-4079',\n",
       " 'mp-2930',\n",
       " 'mp-765183',\n",
       " 'mp-5962',\n",
       " 'mp-846',\n",
       " 'mp-203',\n",
       " 'mp-13202',\n",
       " 'mp-3813',\n",
       " 'mp-867266',\n",
       " 'mp-27891',\n",
       " 'mp-2128',\n",
       " 'mp-12699',\n",
       " 'mp-19178',\n",
       " 'mp-714961',\n",
       " 'mp-555280',\n",
       " 'mp-8630',\n",
       " 'mp-10180',\n",
       " 'mp-971669',\n",
       " 'mp-766',\n",
       " 'mp-15641',\n",
       " 'mp-11364',\n",
       " 'mp-867351',\n",
       " 'mp-1387',\n",
       " 'mp-580886',\n",
       " 'mp-19821',\n",
       " 'mp-22414',\n",
       " 'mp-19575',\n",
       " 'mp-8426',\n",
       " 'mp-5967',\n",
       " 'mp-998147',\n",
       " 'mp-19306',\n",
       " 'mp-8053',\n",
       " 'mp-997034',\n",
       " 'mp-569568',\n",
       " 'mp-776532',\n",
       " 'mp-8624',\n",
       " 'mp-16886',\n",
       " 'mp-1915',\n",
       " 'mp-11507',\n",
       " 'mp-24289',\n",
       " 'mp-557686',\n",
       " 'mp-13089',\n",
       " 'mp-7192',\n",
       " 'mp-21359',\n",
       " 'mp-29748',\n",
       " 'mp-570001',\n",
       " 'mp-29362',\n",
       " 'mp-2542',\n",
       " 'mp-590',\n",
       " 'mp-10445',\n",
       " 'mp-16775',\n",
       " 'mp-4252',\n",
       " 'mp-7910',\n",
       " 'mp-16043',\n",
       " 'mp-856',\n",
       " 'mp-7422',\n",
       " 'mp-712',\n",
       " 'mp-11501',\n",
       " 'mp-7068',\n",
       " 'mp-1638',\n",
       " 'mp-22179',\n",
       " 'mp-865527',\n",
       " 'mp-2583',\n",
       " 'mp-755',\n",
       " 'mp-12951',\n",
       " 'mp-17856',\n",
       " 'mp-5221',\n",
       " 'mp-754516',\n",
       " 'mp-866132',\n",
       " 'mp-540284',\n",
       " 'mp-22592',\n",
       " 'mp-2123',\n",
       " 'mp-4478',\n",
       " 'mp-14099',\n",
       " 'mp-540957',\n",
       " 'mp-697096',\n",
       " 'mp-10883',\n",
       " 'mp-910',\n",
       " 'mp-585',\n",
       " 'mp-11276',\n",
       " 'mp-2998',\n",
       " 'mp-999027',\n",
       " 'mp-672254',\n",
       " 'mp-556605',\n",
       " 'mp-12648',\n",
       " 'mp-21167',\n",
       " 'mp-30572',\n",
       " 'mp-4259',\n",
       " 'mp-7433',\n",
       " 'mp-20832',\n",
       " 'mp-7421',\n",
       " 'mp-989399',\n",
       " 'mp-568346',\n",
       " 'mp-1431',\n",
       " 'mp-1169',\n",
       " 'mp-2588',\n",
       " 'mp-865520',\n",
       " 'mp-30858',\n",
       " 'mp-778746',\n",
       " 'mp-2752',\n",
       " 'mp-861979',\n",
       " 'mp-981',\n",
       " 'mp-782681',\n",
       " 'mp-13203',\n",
       " 'mp-7032',\n",
       " 'mp-13097',\n",
       " 'mp-21845',\n",
       " 'mp-27471',\n",
       " 'mp-21276',\n",
       " 'mp-15965',\n",
       " 'mp-662',\n",
       " 'mp-4076',\n",
       " 'mp-643367',\n",
       " 'mp-950995',\n",
       " 'mp-6919',\n",
       " 'mp-567907',\n",
       " 'mp-20622',\n",
       " 'mp-2562',\n",
       " 'mp-568746',\n",
       " 'mp-29157',\n",
       " 'mp-4822',\n",
       " 'mp-6988',\n",
       " 'mp-14092',\n",
       " 'mp-676586',\n",
       " 'mp-597',\n",
       " 'mp-864951',\n",
       " 'mp-37906',\n",
       " 'mp-5077',\n",
       " 'mp-568718',\n",
       " 'mp-30746',\n",
       " 'mp-20255',\n",
       " 'mp-22895',\n",
       " 'mp-4826',\n",
       " 'mp-14116',\n",
       " 'mp-23260',\n",
       " 'mp-570430',\n",
       " 'mp-249',\n",
       " 'mp-626680',\n",
       " 'mp-1373',\n",
       " 'mp-8911',\n",
       " 'mp-754358',\n",
       " 'mp-29398',\n",
       " 'mp-12520',\n",
       " 'mp-10266',\n",
       " 'mp-11541',\n",
       " 'mp-2348',\n",
       " 'mp-850',\n",
       " 'mp-8864',\n",
       " 'mp-22167',\n",
       " 'mp-4883',\n",
       " 'mp-569249',\n",
       " 'mp-6963',\n",
       " 'mp-4678',\n",
       " 'mp-216',\n",
       " 'mp-292',\n",
       " 'mp-12814',\n",
       " 'mp-866165',\n",
       " 'mp-754322',\n",
       " 'mp-423',\n",
       " 'mp-3871',\n",
       " 'mp-25372',\n",
       " 'mp-10469',\n",
       " 'mp-777555',\n",
       " 'mp-4893',\n",
       " 'mp-13572',\n",
       " 'mp-15659',\n",
       " 'mp-9778',\n",
       " 'mp-1866',\n",
       " 'mp-8996',\n",
       " 'mp-1299',\n",
       " 'mp-2399',\n",
       " 'mp-2379',\n",
       " 'mp-5292',\n",
       " 'mp-11',\n",
       " 'mp-16718',\n",
       " 'mp-11958',\n",
       " 'mp-571193',\n",
       " 'mp-381',\n",
       " 'mp-1986',\n",
       " 'mp-796',\n",
       " 'mp-622209',\n",
       " 'mp-763136',\n",
       " 'mp-30725',\n",
       " 'mp-23485',\n",
       " 'mp-753708',\n",
       " 'mp-1412',\n",
       " 'mp-8842',\n",
       " 'mp-3574',\n",
       " 'mp-2918',\n",
       " 'mp-11737',\n",
       " 'mp-23002',\n",
       " 'mp-11977',\n",
       " 'mp-730',\n",
       " 'mp-7938',\n",
       " 'mp-569603',\n",
       " 'mp-1086',\n",
       " 'mp-2432',\n",
       " 'mp-644280',\n",
       " 'mp-2083',\n",
       " 'mp-5014',\n",
       " 'mp-9954',\n",
       " 'mp-1339',\n",
       " 'mp-829',\n",
       " 'mp-765967',\n",
       " 'mp-21336',\n",
       " 'mp-7589',\n",
       " 'mp-193',\n",
       " 'mp-775935',\n",
       " 'mp-38818',\n",
       " 'mp-22792',\n",
       " 'mp-10470',\n",
       " 'mp-9716',\n",
       " 'mp-12961',\n",
       " 'mp-949',\n",
       " 'mp-501',\n",
       " 'mp-3378',\n",
       " 'mp-865604',\n",
       " 'mp-22913',\n",
       " 'mp-753490',\n",
       " 'mp-754628',\n",
       " 'mp-11957',\n",
       " 'mp-9939',\n",
       " 'mp-12564',\n",
       " 'mp-4938',\n",
       " 'mp-567462',\n",
       " 'mp-16960',\n",
       " 'mp-30603',\n",
       " 'mp-12779',\n",
       " 'mp-570930',\n",
       " 'mp-593',\n",
       " 'mp-12759',\n",
       " 'mp-30719',\n",
       " 'mp-16514',\n",
       " 'mp-1017',\n",
       " 'mp-568565',\n",
       " 'mp-778717',\n",
       " 'mp-776230',\n",
       " 'mp-1132',\n",
       " 'mp-11521',\n",
       " 'mp-19814',\n",
       " 'mp-505825',\n",
       " 'mp-8110',\n",
       " 'mp-1253',\n",
       " 'mp-2286',\n",
       " 'mp-16522',\n",
       " 'mp-862679',\n",
       " 'mp-20935',\n",
       " 'mp-27757',\n",
       " 'mp-3034',\n",
       " 'mp-486',\n",
       " 'mp-11287',\n",
       " 'mp-731',\n",
       " 'mp-7909',\n",
       " 'mp-1502',\n",
       " 'mp-3698',\n",
       " 'mp-28110',\n",
       " 'mp-761293',\n",
       " 'mp-2676',\n",
       " 'mp-3038',\n",
       " 'mp-5918',\n",
       " 'mp-22508',\n",
       " 'mp-19421',\n",
       " 'mp-1695',\n",
       " 'mp-976280',\n",
       " 'mp-22498',\n",
       " 'mp-4247',\n",
       " 'mp-30850',\n",
       " 'mp-27505',\n",
       " 'mp-11490',\n",
       " 'mp-7429',\n",
       " 'mp-7000',\n",
       " 'mp-754515',\n",
       " 'mp-2349',\n",
       " 'mp-19765',\n",
       " 'mp-975292',\n",
       " 'mp-8016',\n",
       " 'mp-569779',\n",
       " 'mp-1129',\n",
       " 'mp-1869',\n",
       " 'mp-29152',\n",
       " 'mp-774736',\n",
       " 'mp-5025',\n",
       " 'mp-2795',\n",
       " 'mp-11456',\n",
       " 'mp-13364',\n",
       " 'mp-31081',\n",
       " 'mp-7829',\n",
       " 'mp-767367',\n",
       " 'mp-31379',\n",
       " 'mp-3349',\n",
       " 'mp-5659',\n",
       " 'mp-1575',\n",
       " 'mp-11873',\n",
       " 'mp-4997',\n",
       " 'mp-3854',\n",
       " 'mp-5305',\n",
       " 'mp-30234',\n",
       " 'mp-715324',\n",
       " 'mp-32662',\n",
       " 'mp-12972',\n",
       " 'mp-569265',\n",
       " 'mp-771841',\n",
       " 'mp-7577',\n",
       " 'mp-24409',\n",
       " 'mp-21017',\n",
       " 'mp-980200',\n",
       " 'mp-2643',\n",
       " 'mp-21023',\n",
       " 'mp-23227',\n",
       " 'mp-29209',\n",
       " 'mp-11984',\n",
       " 'mp-569522',\n",
       " 'mp-16828',\n",
       " 'mp-927',\n",
       " 'mp-754213',\n",
       " 'mp-35143',\n",
       " 'mp-19746',\n",
       " 'mp-20661',\n",
       " 'mp-764226',\n",
       " 'mp-3803',\n",
       " 'mp-866115',\n",
       " 'mp-8256',\n",
       " 'mp-753257',\n",
       " 'mp-22489',\n",
       " 'mp-5019',\n",
       " 'mp-1357',\n",
       " 'mp-643260',\n",
       " 'mp-31153',\n",
       " 'mp-1882',\n",
       " 'mp-95',\n",
       " 'mp-568186',\n",
       " 'mp-5878',\n",
       " 'mp-492',\n",
       " 'mp-559798',\n",
       " 'mp-778',\n",
       " 'mp-2403',\n",
       " 'mp-769096',\n",
       " 'mp-10924',\n",
       " 'mp-9969',\n",
       " 'mp-7863',\n",
       " 'mp-1002206',\n",
       " 'mp-22967',\n",
       " 'mp-2781',\n",
       " ...]"
      ]
     },
     "execution_count": 20,
     "metadata": {},
     "output_type": "execute_result"
    }
   ],
   "source": [
    "material_array"
   ]
  },
  {
   "cell_type": "code",
   "execution_count": 29,
   "id": "ebe984ab-1433-4652-8eda-e5dba195c6ef",
   "metadata": {},
   "outputs": [
    {
     "name": "stderr",
     "output_type": "stream",
     "text": [
      "Retrieving SummaryDoc documents: 100%|█████| 3202/3202 [00:07<00:00, 440.19it/s]\n"
     ]
    }
   ],
   "source": [
    "with MPRester(\"PULAwCzMQFzgXRhElkO1T4BoM6mQAjnO\") as mpr:\n",
    "    docs = mpr.materials.summary.search(material_ids=material_array, \n",
    "                                            fields=[\"band_gap\", \"efermi\", \"formation_energy_per_atom\", \"energy_per_atom\", \"homogeneous_poisson\", \"shear_modulus\", \"bulk_modulus\"])"
   ]
  },
  {
   "cell_type": "code",
   "execution_count": 33,
   "id": "3ad55933-005d-41ec-954b-bf4100220de7",
   "metadata": {},
   "outputs": [
    {
     "ename": "IndexError",
     "evalue": "list index out of range",
     "output_type": "error",
     "traceback": [
      "\u001b[0;31m---------------------------------------------------------------------------\u001b[0m",
      "\u001b[0;31mIndexError\u001b[0m                                Traceback (most recent call last)",
      "Cell \u001b[0;32mIn[33], line 15\u001b[0m\n\u001b[1;32m     13\u001b[0m \u001b[38;5;28;01mfor\u001b[39;00m i \u001b[38;5;129;01min\u001b[39;00m \u001b[38;5;28mrange\u001b[39m(\u001b[38;5;28mlen\u001b[39m(material_array)):\n\u001b[1;32m     14\u001b[0m     \u001b[38;5;28;01mtry\u001b[39;00m:\n\u001b[0;32m---> 15\u001b[0m         bg_arr\u001b[38;5;241m.\u001b[39mappend(\u001b[43mdocs\u001b[49m\u001b[43m[\u001b[49m\u001b[43mi\u001b[49m\u001b[43m]\u001b[49m\u001b[38;5;241m.\u001b[39mband_gap)\n\u001b[1;32m     16\u001b[0m     \u001b[38;5;28;01mexcept\u001b[39;00m \u001b[38;5;167;01mAttributeError\u001b[39;00m:\n\u001b[1;32m     17\u001b[0m         \u001b[38;5;28;01mpass\u001b[39;00m\n",
      "\u001b[0;31mIndexError\u001b[0m: list index out of range"
     ]
    }
   ],
   "source": [
    "import pandas as pd\n",
    "\n",
    "# Initialize lists to store data\n",
    "bg_arr = []\n",
    "fermi_arr = []\n",
    "fepa_arr = []\n",
    "epa_arr = []\n",
    "hp_arr = []\n",
    "bulk_arr = []\n",
    "shear_arr = []\n",
    "\n",
    "# Iterate through material_array\n",
    "for i in range(len(material_array)):\n",
    "    try:\n",
    "        bg_arr.append(docs[i].band_gap)\n",
    "    except AttributeError:\n",
    "        pass\n",
    "    \n",
    "    try:\n",
    "        fermi_arr.append(docs[i].efermi)\n",
    "    except AttributeError:\n",
    "        pass\n",
    "    \n",
    "    try:\n",
    "        fepa_arr.append(docs[i].formation_energy_per_atom)\n",
    "    except AttributeError:\n",
    "        pass\n",
    "    \n",
    "    try:\n",
    "        epa_arr.append(docs[i].energy_per_atom)\n",
    "    except AttributeError:\n",
    "        pass\n"
   ]
  },
  {
   "cell_type": "code",
   "execution_count": 7,
   "id": "cf93b4b1-1ba3-404d-81ba-ff269322f28d",
   "metadata": {},
   "outputs": [
    {
     "name": "stderr",
     "output_type": "stream",
     "text": [
      "Retrieving MaterialsDoc documents: 100%|███████| 1/1 [00:00<00:00, 25731.93it/s]\n",
      "Retrieving MaterialsDoc documents: 100%|███████| 1/1 [00:00<00:00, 27962.03it/s]\n",
      "Retrieving MaterialsDoc documents: 100%|███████| 1/1 [00:00<00:00, 27776.85it/s]\n",
      "Retrieving MaterialsDoc documents: 100%|███████| 1/1 [00:00<00:00, 28728.11it/s]\n",
      "Retrieving MaterialsDoc documents: 100%|███████| 1/1 [00:00<00:00, 28532.68it/s]\n",
      "Retrieving MaterialsDoc documents: 100%|███████| 1/1 [00:00<00:00, 29330.80it/s]\n",
      "Retrieving MaterialsDoc documents: 100%|███████| 1/1 [00:00<00:00, 26886.56it/s]\n",
      "Retrieving MaterialsDoc documents: 100%|███████| 1/1 [00:00<00:00, 27776.85it/s]\n",
      "Retrieving MaterialsDoc documents: 100%|███████| 1/1 [00:00<00:00, 23831.27it/s]\n",
      "Retrieving MaterialsDoc documents: 100%|███████| 1/1 [00:00<00:00, 27594.11it/s]\n",
      "Retrieving MaterialsDoc documents: 100%|███████| 1/1 [00:00<00:00, 27594.11it/s]\n",
      "Retrieving MaterialsDoc documents: 100%|███████| 1/1 [00:00<00:00, 28728.11it/s]\n",
      "Retrieving MaterialsDoc documents: 100%|███████| 1/1 [00:00<00:00, 28532.68it/s]\n",
      "Retrieving MaterialsDoc documents: 100%|███████| 1/1 [00:00<00:00, 30174.85it/s]\n",
      "Retrieving MaterialsDoc documents: 100%|███████| 1/1 [00:00<00:00, 29537.35it/s]\n",
      "Retrieving MaterialsDoc documents: 100%|███████| 1/1 [00:00<00:00, 28532.68it/s]\n",
      "Retrieving MaterialsDoc documents: 100%|███████| 1/1 [00:00<00:00, 28339.89it/s]\n",
      "Retrieving MaterialsDoc documents: 100%|███████| 1/1 [00:00<00:00, 28728.11it/s]\n",
      "Retrieving MaterialsDoc documents: 100%|███████| 1/1 [00:00<00:00, 27776.85it/s]\n",
      "Retrieving MaterialsDoc documents: 100%|███████| 1/1 [00:00<00:00, 24385.49it/s]\n",
      "Retrieving MaterialsDoc documents: 100%|███████| 1/1 [00:00<00:00, 25575.02it/s]\n",
      "Retrieving MaterialsDoc documents: 100%|███████| 1/1 [00:00<00:00, 28532.68it/s]\n",
      "Retrieving MaterialsDoc documents: 100%|███████| 1/1 [00:00<00:00, 27594.11it/s]\n",
      "Retrieving MaterialsDoc documents: 100%|███████| 1/1 [00:00<00:00, 29330.80it/s]\n",
      "Retrieving MaterialsDoc documents: 100%|███████| 1/1 [00:00<00:00, 29537.35it/s]\n",
      "Retrieving MaterialsDoc documents: 100%|███████| 1/1 [00:00<00:00, 27235.74it/s]\n",
      "Retrieving MaterialsDoc documents: 100%|███████| 1/1 [00:00<00:00, 28532.68it/s]\n",
      "Retrieving MaterialsDoc documents: 100%|███████| 1/1 [00:00<00:00, 26379.27it/s]\n",
      "Retrieving MaterialsDoc documents: 100%|███████| 1/1 [00:00<00:00, 29330.80it/s]\n",
      "Retrieving MaterialsDoc documents: 0it [00:00, ?it/s]\n"
     ]
    },
    {
     "name": "stdout",
     "output_type": "stream",
     "text": [
      "Error occurred for material ID mp-776791: 'list' object has no attribute 'to'\n"
     ]
    },
    {
     "name": "stderr",
     "output_type": "stream",
     "text": [
      "Retrieving MaterialsDoc documents: 100%|███████| 1/1 [00:00<00:00, 26886.56it/s]\n",
      "Retrieving MaterialsDoc documents: 100%|███████| 1/1 [00:00<00:00, 28532.68it/s]\n",
      "Retrieving MaterialsDoc documents: 100%|███████| 1/1 [00:00<00:00, 29330.80it/s]\n",
      "Retrieving MaterialsDoc documents: 100%|███████| 1/1 [00:00<00:00, 26214.40it/s]\n",
      "Retrieving MaterialsDoc documents: 100%|███████| 1/1 [00:00<00:00, 27060.03it/s]\n",
      "Retrieving MaterialsDoc documents: 0it [00:00, ?it/s]\n"
     ]
    },
    {
     "name": "stdout",
     "output_type": "stream",
     "text": [
      "Error occurred for material ID mp-764004: 'list' object has no attribute 'to'\n"
     ]
    },
    {
     "name": "stderr",
     "output_type": "stream",
     "text": [
      "Retrieving MaterialsDoc documents: 100%|███████| 1/1 [00:00<00:00, 18808.54it/s]\n",
      "Retrieving MaterialsDoc documents: 100%|███████| 1/1 [00:00<00:00, 27776.85it/s]\n",
      "Retrieving MaterialsDoc documents: 100%|███████| 1/1 [00:00<00:00, 28728.11it/s]\n",
      "Retrieving MaterialsDoc documents: 100%|███████| 1/1 [00:00<00:00, 28532.68it/s]\n",
      "Retrieving MaterialsDoc documents: 100%|███████| 1/1 [00:00<00:00, 26214.40it/s]\n",
      "Retrieving MaterialsDoc documents: 100%|███████| 1/1 [00:00<00:00, 17549.39it/s]\n",
      "Retrieving MaterialsDoc documents: 100%|███████| 1/1 [00:00<00:00, 28728.11it/s]\n",
      "Retrieving MaterialsDoc documents: 100%|███████| 1/1 [00:00<00:00, 28532.68it/s]\n",
      "Retrieving MaterialsDoc documents: 100%|███████| 1/1 [00:00<00:00, 28532.68it/s]\n",
      "Retrieving MaterialsDoc documents: 100%|███████| 1/1 [00:00<00:00, 28532.68it/s]\n",
      "Retrieving MaterialsDoc documents: 100%|███████| 1/1 [00:00<00:00, 21732.15it/s]\n",
      "Retrieving MaterialsDoc documents: 100%|███████| 1/1 [00:00<00:00, 28728.11it/s]\n",
      "Retrieving MaterialsDoc documents: 100%|███████| 1/1 [00:00<00:00, 27776.85it/s]\n",
      "Retrieving MaterialsDoc documents: 100%|███████| 1/1 [00:00<00:00, 27776.85it/s]\n",
      "Retrieving MaterialsDoc documents: 100%|███████| 1/1 [00:00<00:00, 28532.68it/s]\n",
      "Retrieving MaterialsDoc documents: 100%|███████| 1/1 [00:00<00:00, 27962.03it/s]\n",
      "Retrieving MaterialsDoc documents: 100%|███████| 1/1 [00:00<00:00, 28532.68it/s]\n",
      "Retrieving MaterialsDoc documents: 100%|███████| 1/1 [00:00<00:00, 26546.23it/s]\n",
      "Retrieving MaterialsDoc documents: 100%|███████| 1/1 [00:00<00:00, 27594.11it/s]\n",
      "Retrieving MaterialsDoc documents: 100%|███████| 1/1 [00:00<00:00, 26886.56it/s]\n",
      "Retrieving MaterialsDoc documents: 100%|███████| 1/1 [00:00<00:00, 27962.03it/s]\n",
      "Retrieving MaterialsDoc documents: 0it [00:00, ?it/s]\n"
     ]
    },
    {
     "name": "stdout",
     "output_type": "stream",
     "text": [
      "Error occurred for material ID mp-675163: 'list' object has no attribute 'to'\n"
     ]
    },
    {
     "name": "stderr",
     "output_type": "stream",
     "text": [
      "Retrieving MaterialsDoc documents: 100%|███████| 1/1 [00:00<00:00, 26214.40it/s]\n",
      "Retrieving MaterialsDoc documents: 100%|███████| 1/1 [00:00<00:00, 27235.74it/s]\n",
      "Retrieving MaterialsDoc documents: 100%|███████| 1/1 [00:00<00:00, 27594.11it/s]\n",
      "Retrieving MaterialsDoc documents: 100%|███████| 1/1 [00:00<00:00, 27594.11it/s]\n",
      "Retrieving MaterialsDoc documents: 0it [00:00, ?it/s]\n"
     ]
    },
    {
     "name": "stdout",
     "output_type": "stream",
     "text": [
      "Error occurred for material ID mp-25545: 'list' object has no attribute 'to'\n"
     ]
    },
    {
     "name": "stderr",
     "output_type": "stream",
     "text": [
      "Retrieving MaterialsDoc documents: 0it [00:00, ?it/s]\n"
     ]
    },
    {
     "name": "stdout",
     "output_type": "stream",
     "text": [
      "Error occurred for material ID mp-778780: 'list' object has no attribute 'to'\n"
     ]
    },
    {
     "name": "stderr",
     "output_type": "stream",
     "text": [
      "Retrieving MaterialsDoc documents: 100%|███████| 1/1 [00:00<00:00, 27962.03it/s]\n",
      "Retrieving MaterialsDoc documents: 100%|███████| 1/1 [00:00<00:00, 29330.80it/s]\n",
      "Retrieving MaterialsDoc documents: 100%|███████| 1/1 [00:00<00:00, 24966.10it/s]\n",
      "Retrieving MaterialsDoc documents: 100%|███████| 1/1 [00:00<00:00, 26886.56it/s]\n",
      "Retrieving MaterialsDoc documents: 100%|███████| 1/1 [00:00<00:00, 27776.85it/s]\n",
      "Retrieving MaterialsDoc documents: 100%|███████| 1/1 [00:00<00:00, 25731.93it/s]\n",
      "Retrieving MaterialsDoc documents: 100%|███████| 1/1 [00:00<00:00, 28532.68it/s]\n",
      "Retrieving MaterialsDoc documents: 100%|███████| 1/1 [00:00<00:00, 27776.85it/s]\n",
      "Retrieving MaterialsDoc documents: 100%|███████| 1/1 [00:00<00:00, 30615.36it/s]\n",
      "Retrieving MaterialsDoc documents: 100%|███████| 1/1 [00:00<00:00, 27776.85it/s]\n",
      "Retrieving MaterialsDoc documents: 100%|███████| 1/1 [00:00<00:00, 27060.03it/s]\n",
      "Retrieving MaterialsDoc documents: 100%|███████| 1/1 [00:00<00:00, 26886.56it/s]\n",
      "Retrieving MaterialsDoc documents: 100%|███████| 1/1 [00:00<00:00, 27776.85it/s]\n",
      "Retrieving MaterialsDoc documents: 100%|███████| 1/1 [00:00<00:00, 27776.85it/s]\n",
      "Retrieving MaterialsDoc documents: 100%|███████| 1/1 [00:00<00:00, 24966.10it/s]\n",
      "Retrieving MaterialsDoc documents: 100%|███████| 1/1 [00:00<00:00, 28532.68it/s]\n",
      "Retrieving MaterialsDoc documents: 100%|███████| 1/1 [00:00<00:00, 27962.03it/s]\n",
      "Retrieving MaterialsDoc documents: 100%|███████| 1/1 [00:00<00:00, 27235.74it/s]\n",
      "Retrieving MaterialsDoc documents: 100%|███████| 1/1 [00:00<00:00, 27060.03it/s]\n",
      "Retrieving MaterialsDoc documents: 100%|███████| 1/1 [00:00<00:00, 27962.03it/s]\n",
      "Retrieving MaterialsDoc documents: 100%|███████| 1/1 [00:00<00:00, 29537.35it/s]\n",
      "Retrieving MaterialsDoc documents: 100%|███████| 1/1 [00:00<00:00, 27776.85it/s]\n",
      "Retrieving MaterialsDoc documents: 100%|███████| 1/1 [00:00<00:00, 27776.85it/s]\n",
      "Retrieving MaterialsDoc documents: 100%|███████| 1/1 [00:00<00:00, 31068.92it/s]\n",
      "Retrieving MaterialsDoc documents: 100%|███████| 1/1 [00:00<00:00, 28532.68it/s]\n",
      "Retrieving MaterialsDoc documents: 100%|███████| 1/1 [00:00<00:00, 28339.89it/s]\n",
      "Retrieving MaterialsDoc documents: 100%|███████| 1/1 [00:00<00:00, 26379.27it/s]\n",
      "Retrieving MaterialsDoc documents: 100%|███████| 1/1 [00:00<00:00, 27060.03it/s]\n",
      "Retrieving MaterialsDoc documents: 100%|███████| 1/1 [00:00<00:00, 25115.59it/s]\n",
      "Retrieving MaterialsDoc documents: 100%|███████| 1/1 [00:00<00:00, 28532.68it/s]\n",
      "Retrieving MaterialsDoc documents: 100%|███████| 1/1 [00:00<00:00, 25575.02it/s]\n",
      "Retrieving MaterialsDoc documents: 100%|███████| 1/1 [00:00<00:00, 28532.68it/s]\n",
      "Retrieving MaterialsDoc documents: 100%|███████| 1/1 [00:00<00:00, 27962.03it/s]\n",
      "Retrieving MaterialsDoc documents: 100%|███████| 1/1 [00:00<00:00, 27776.85it/s]\n",
      "Retrieving MaterialsDoc documents: 100%|███████| 1/1 [00:00<00:00, 29537.35it/s]\n",
      "Retrieving MaterialsDoc documents: 0it [00:00, ?it/s]\n"
     ]
    },
    {
     "name": "stdout",
     "output_type": "stream",
     "text": [
      "Error occurred for material ID mp-770002: 'list' object has no attribute 'to'\n"
     ]
    },
    {
     "name": "stderr",
     "output_type": "stream",
     "text": [
      "Retrieving MaterialsDoc documents: 100%|███████| 1/1 [00:00<00:00, 24966.10it/s]\n",
      "Retrieving MaterialsDoc documents: 100%|███████| 1/1 [00:00<00:00, 15363.75it/s]\n",
      "Retrieving MaterialsDoc documents: 100%|███████| 1/1 [00:00<00:00, 28728.11it/s]\n",
      "Retrieving MaterialsDoc documents: 100%|███████| 1/1 [00:00<00:00, 26379.27it/s]\n",
      "Retrieving MaterialsDoc documents: 100%|███████| 1/1 [00:00<00:00, 27594.11it/s]\n",
      "Retrieving MaterialsDoc documents: 100%|███████| 1/1 [00:00<00:00, 27060.03it/s]\n",
      "Retrieving MaterialsDoc documents: 0it [00:00, ?it/s]\n"
     ]
    },
    {
     "name": "stdout",
     "output_type": "stream",
     "text": [
      "Error occurred for material ID mp-675127: 'list' object has no attribute 'to'\n"
     ]
    },
    {
     "name": "stderr",
     "output_type": "stream",
     "text": [
      "Retrieving MaterialsDoc documents: 100%|███████| 1/1 [00:00<00:00, 27776.85it/s]\n",
      "Retrieving MaterialsDoc documents: 100%|███████| 1/1 [00:00<00:00, 27594.11it/s]\n",
      "Retrieving MaterialsDoc documents: 100%|███████| 1/1 [00:00<00:00, 30393.51it/s]\n",
      "Retrieving MaterialsDoc documents: 100%|███████| 1/1 [00:00<00:00, 28532.68it/s]\n",
      "Retrieving MaterialsDoc documents: 100%|███████| 1/1 [00:00<00:00, 17331.83it/s]\n",
      "Retrieving MaterialsDoc documents: 100%|███████| 1/1 [00:00<00:00, 28532.68it/s]\n",
      "Retrieving MaterialsDoc documents: 100%|███████| 1/1 [00:00<00:00, 28532.68it/s]\n",
      "Retrieving MaterialsDoc documents: 100%|███████| 1/1 [00:00<00:00, 27776.85it/s]\n",
      "Retrieving MaterialsDoc documents: 100%|███████| 1/1 [00:00<00:00, 28532.68it/s]\n",
      "Retrieving MaterialsDoc documents: 100%|███████| 1/1 [00:00<00:00, 28532.68it/s]\n",
      "Retrieving MaterialsDoc documents: 100%|███████| 1/1 [00:00<00:00, 27776.85it/s]\n",
      "Retrieving MaterialsDoc documents: 100%|███████| 1/1 [00:00<00:00, 27776.85it/s]\n",
      "Retrieving MaterialsDoc documents: 100%|███████| 1/1 [00:00<00:00, 26379.27it/s]\n",
      "Retrieving MaterialsDoc documents: 100%|███████| 1/1 [00:00<00:00, 26886.56it/s]\n",
      "Retrieving MaterialsDoc documents: 100%|███████| 1/1 [00:00<00:00, 26214.40it/s]\n",
      "Retrieving MaterialsDoc documents: 100%|███████| 1/1 [00:00<00:00, 29746.84it/s]\n",
      "Retrieving MaterialsDoc documents: 100%|███████| 1/1 [00:00<00:00, 28532.68it/s]\n",
      "Retrieving MaterialsDoc documents: 100%|███████| 1/1 [00:00<00:00, 27060.03it/s]\n",
      "Retrieving MaterialsDoc documents: 100%|███████| 1/1 [00:00<00:00, 27060.03it/s]\n",
      "Retrieving MaterialsDoc documents: 100%|███████| 1/1 [00:00<00:00, 27060.03it/s]\n",
      "Retrieving MaterialsDoc documents: 100%|███████| 1/1 [00:00<00:00, 30393.51it/s]\n",
      "Retrieving MaterialsDoc documents: 100%|███████| 1/1 [00:00<00:00, 28728.11it/s]\n",
      "Retrieving MaterialsDoc documents: 100%|███████| 1/1 [00:00<00:00, 26886.56it/s]\n",
      "Retrieving MaterialsDoc documents: 100%|███████| 1/1 [00:00<00:00, 30393.51it/s]\n",
      "Retrieving MaterialsDoc documents: 100%|███████| 1/1 [00:00<00:00, 15827.56it/s]\n",
      "Retrieving MaterialsDoc documents: 100%|███████| 1/1 [00:00<00:00, 28532.68it/s]\n",
      "Retrieving MaterialsDoc documents: 100%|███████| 1/1 [00:00<00:00, 28728.11it/s]\n",
      "Retrieving MaterialsDoc documents: 100%|███████| 1/1 [00:00<00:00, 20763.88it/s]\n",
      "Retrieving MaterialsDoc documents: 100%|███████| 1/1 [00:00<00:00, 24385.49it/s]\n",
      "Retrieving MaterialsDoc documents: 100%|███████| 1/1 [00:00<00:00, 29330.80it/s]\n",
      "Retrieving MaterialsDoc documents: 100%|███████| 1/1 [00:00<00:00, 26379.27it/s]\n",
      "Retrieving MaterialsDoc documents: 0it [00:00, ?it/s]\n"
     ]
    },
    {
     "name": "stdout",
     "output_type": "stream",
     "text": [
      "Error occurred for material ID mp-772245: 'list' object has no attribute 'to'\n"
     ]
    },
    {
     "name": "stderr",
     "output_type": "stream",
     "text": [
      "Retrieving MaterialsDoc documents: 100%|███████| 1/1 [00:00<00:00, 27060.03it/s]\n",
      "Retrieving MaterialsDoc documents: 100%|███████| 1/1 [00:00<00:00, 28728.11it/s]\n",
      "Retrieving MaterialsDoc documents: 100%|███████| 1/1 [00:00<00:00, 28532.68it/s]\n",
      "Retrieving MaterialsDoc documents: 100%|███████| 1/1 [00:00<00:00, 26214.40it/s]\n",
      "Retrieving MaterialsDoc documents: 100%|███████| 1/1 [00:00<00:00, 27594.11it/s]\n",
      "Retrieving MaterialsDoc documents: 100%|███████| 1/1 [00:00<00:00, 26546.23it/s]\n",
      "Retrieving MaterialsDoc documents: 100%|███████| 1/1 [00:00<00:00, 26214.40it/s]\n",
      "Retrieving MaterialsDoc documents: 100%|███████| 1/1 [00:00<00:00, 27060.03it/s]\n",
      "Retrieving MaterialsDoc documents: 100%|███████| 1/1 [00:00<00:00, 29330.80it/s]\n",
      "Retrieving MaterialsDoc documents: 100%|███████| 1/1 [00:00<00:00, 28532.68it/s]\n",
      "Retrieving MaterialsDoc documents: 0it [00:00, ?it/s]\n"
     ]
    },
    {
     "name": "stdout",
     "output_type": "stream",
     "text": [
      "Error occurred for material ID mp-565994: 'list' object has no attribute 'to'\n"
     ]
    },
    {
     "name": "stderr",
     "output_type": "stream",
     "text": [
      "Retrieving MaterialsDoc documents: 0it [00:00, ?it/s]\n"
     ]
    },
    {
     "name": "stdout",
     "output_type": "stream",
     "text": [
      "Error occurred for material ID mp-561637: 'list' object has no attribute 'to'\n"
     ]
    },
    {
     "name": "stderr",
     "output_type": "stream",
     "text": [
      "Retrieving MaterialsDoc documents: 100%|███████| 1/1 [00:00<00:00, 29330.80it/s]\n",
      "Retrieving MaterialsDoc documents: 100%|███████| 1/1 [00:00<00:00, 27962.03it/s]\n",
      "Retrieving MaterialsDoc documents: 100%|███████| 1/1 [00:00<00:00, 27962.03it/s]\n",
      "Retrieving MaterialsDoc documents: 100%|███████| 1/1 [00:00<00:00, 26379.27it/s]\n",
      "Retrieving MaterialsDoc documents: 100%|███████| 1/1 [00:00<00:00, 29330.80it/s]\n",
      "Retrieving MaterialsDoc documents: 100%|███████| 1/1 [00:00<00:00, 30393.51it/s]\n",
      "Retrieving MaterialsDoc documents: 100%|███████| 1/1 [00:00<00:00, 29330.80it/s]\n",
      "Retrieving MaterialsDoc documents: 100%|███████| 1/1 [00:00<00:00, 22919.69it/s]\n",
      "Retrieving MaterialsDoc documents: 100%|███████| 1/1 [00:00<00:00, 25115.59it/s]\n",
      "Retrieving MaterialsDoc documents: 100%|███████| 1/1 [00:00<00:00, 26886.56it/s]\n",
      "Retrieving MaterialsDoc documents: 100%|███████| 1/1 [00:00<00:00, 27776.85it/s]\n",
      "Retrieving MaterialsDoc documents: 100%|███████| 1/1 [00:00<00:00, 27962.03it/s]\n",
      "Retrieving MaterialsDoc documents: 100%|███████| 1/1 [00:00<00:00, 27060.03it/s]\n",
      "Retrieving MaterialsDoc documents: 100%|███████| 1/1 [00:00<00:00, 27962.03it/s]\n",
      "Retrieving MaterialsDoc documents: 100%|███████| 1/1 [00:00<00:00, 29330.80it/s]\n",
      "Retrieving MaterialsDoc documents: 100%|███████| 1/1 [00:00<00:00, 29330.80it/s]\n",
      "Retrieving MaterialsDoc documents: 100%|███████| 1/1 [00:00<00:00, 28532.68it/s]\n",
      "Retrieving MaterialsDoc documents: 100%|███████| 1/1 [00:00<00:00, 28532.68it/s]\n",
      "Retrieving MaterialsDoc documents: 100%|███████| 1/1 [00:00<00:00, 27962.03it/s]\n",
      "Retrieving MaterialsDoc documents: 100%|███████| 1/1 [00:00<00:00, 27776.85it/s]\n",
      "Retrieving MaterialsDoc documents: 100%|███████| 1/1 [00:00<00:00, 27776.85it/s]\n",
      "Retrieving MaterialsDoc documents: 100%|███████| 1/1 [00:00<00:00, 27962.03it/s]\n",
      "Retrieving MaterialsDoc documents: 100%|███████| 1/1 [00:00<00:00, 26886.56it/s]\n",
      "Retrieving MaterialsDoc documents: 100%|███████| 1/1 [00:00<00:00, 26214.40it/s]\n",
      "Retrieving MaterialsDoc documents: 100%|███████| 1/1 [00:00<00:00, 30174.85it/s]\n",
      "Retrieving MaterialsDoc documents: 0it [00:00, ?it/s]\n"
     ]
    },
    {
     "name": "stdout",
     "output_type": "stream",
     "text": [
      "Error occurred for material ID mp-741706: 'list' object has no attribute 'to'\n"
     ]
    },
    {
     "name": "stderr",
     "output_type": "stream",
     "text": [
      "Retrieving MaterialsDoc documents: 100%|███████| 1/1 [00:00<00:00, 27594.11it/s]\n",
      "Retrieving MaterialsDoc documents: 100%|███████| 1/1 [00:00<00:00, 27962.03it/s]\n",
      "Retrieving MaterialsDoc documents: 100%|███████| 1/1 [00:00<00:00, 29537.35it/s]\n",
      "Retrieving MaterialsDoc documents: 100%|███████| 1/1 [00:00<00:00, 28532.68it/s]\n",
      "Retrieving MaterialsDoc documents: 100%|███████| 1/1 [00:00<00:00, 26886.56it/s]\n",
      "Retrieving MaterialsDoc documents: 100%|███████| 1/1 [00:00<00:00, 29330.80it/s]\n",
      "Retrieving MaterialsDoc documents: 100%|███████| 1/1 [00:00<00:00, 28532.68it/s]\n",
      "Retrieving MaterialsDoc documents: 100%|███████| 1/1 [00:00<00:00, 29537.35it/s]\n",
      "Retrieving MaterialsDoc documents: 100%|███████| 1/1 [00:00<00:00, 25420.02it/s]\n",
      "Retrieving MaterialsDoc documents: 100%|███████| 1/1 [00:00<00:00, 27776.85it/s]\n",
      "Retrieving MaterialsDoc documents: 0it [00:00, ?it/s]\n"
     ]
    },
    {
     "name": "stdout",
     "output_type": "stream",
     "text": [
      "Error occurred for material ID mp-561238: 'list' object has no attribute 'to'\n"
     ]
    },
    {
     "name": "stderr",
     "output_type": "stream",
     "text": [
      "Retrieving MaterialsDoc documents: 100%|███████| 1/1 [00:00<00:00, 26214.40it/s]\n",
      "Retrieving MaterialsDoc documents: 100%|███████| 1/1 [00:00<00:00, 26886.56it/s]\n",
      "Retrieving MaterialsDoc documents: 100%|███████| 1/1 [00:00<00:00, 24244.53it/s]\n",
      "Retrieving MaterialsDoc documents: 100%|███████| 1/1 [00:00<00:00, 28532.68it/s]\n",
      "Retrieving MaterialsDoc documents: 100%|███████| 1/1 [00:00<00:00, 28532.68it/s]\n",
      "Retrieving MaterialsDoc documents: 0it [00:00, ?it/s]\n"
     ]
    },
    {
     "name": "stdout",
     "output_type": "stream",
     "text": [
      "Error occurred for material ID mp-766917: 'list' object has no attribute 'to'\n"
     ]
    },
    {
     "name": "stderr",
     "output_type": "stream",
     "text": [
      "Retrieving MaterialsDoc documents: 100%|███████| 1/1 [00:00<00:00, 27776.85it/s]\n",
      "Retrieving MaterialsDoc documents: 100%|███████| 1/1 [00:00<00:00, 29330.80it/s]\n",
      "Retrieving MaterialsDoc documents: 100%|███████| 1/1 [00:00<00:00, 16070.13it/s]\n",
      "Retrieving MaterialsDoc documents: 100%|███████| 1/1 [00:00<00:00, 31300.78it/s]\n",
      "Retrieving MaterialsDoc documents: 100%|███████| 1/1 [00:00<00:00, 31300.78it/s]\n",
      "Retrieving MaterialsDoc documents: 100%|███████| 1/1 [00:00<00:00, 28532.68it/s]\n",
      "Retrieving MaterialsDoc documents: 100%|███████| 1/1 [00:00<00:00, 28532.68it/s]\n",
      "Retrieving MaterialsDoc documents: 100%|███████| 1/1 [00:00<00:00, 27060.03it/s]\n",
      "Retrieving MaterialsDoc documents: 0it [00:00, ?it/s]\n"
     ]
    },
    {
     "name": "stdout",
     "output_type": "stream",
     "text": [
      "Error occurred for material ID mp-772231: 'list' object has no attribute 'to'\n"
     ]
    },
    {
     "name": "stderr",
     "output_type": "stream",
     "text": [
      "Retrieving MaterialsDoc documents: 0it [00:00, ?it/s]\n"
     ]
    },
    {
     "name": "stdout",
     "output_type": "stream",
     "text": [
      "Error occurred for material ID mp-774117: 'list' object has no attribute 'to'\n"
     ]
    },
    {
     "name": "stderr",
     "output_type": "stream",
     "text": [
      "Retrieving MaterialsDoc documents: 100%|███████| 1/1 [00:00<00:00, 28532.68it/s]\n",
      "Retrieving MaterialsDoc documents: 100%|███████| 1/1 [00:00<00:00, 28532.68it/s]\n",
      "Retrieving MaterialsDoc documents: 100%|███████| 1/1 [00:00<00:00, 28532.68it/s]\n",
      "Retrieving MaterialsDoc documents: 100%|███████| 1/1 [00:00<00:00, 29330.80it/s]\n",
      "Retrieving MaterialsDoc documents: 100%|███████| 1/1 [00:00<00:00, 28532.68it/s]\n",
      "Retrieving MaterialsDoc documents: 100%|███████| 1/1 [00:00<00:00, 27776.85it/s]\n",
      "Retrieving MaterialsDoc documents: 100%|███████| 1/1 [00:00<00:00, 28532.68it/s]\n",
      "Retrieving MaterialsDoc documents: 100%|███████| 1/1 [00:00<00:00, 28532.68it/s]\n",
      "Retrieving MaterialsDoc documents: 100%|███████| 1/1 [00:00<00:00, 27776.85it/s]\n",
      "Retrieving MaterialsDoc documents: 100%|███████| 1/1 [00:00<00:00, 27594.11it/s]\n",
      "Retrieving MaterialsDoc documents: 100%|███████| 1/1 [00:00<00:00, 15650.39it/s]\n",
      "Retrieving MaterialsDoc documents: 100%|███████| 1/1 [00:00<00:00, 29330.80it/s]\n",
      "Retrieving MaterialsDoc documents: 100%|███████| 1/1 [00:00<00:00, 17549.39it/s]\n",
      "Retrieving MaterialsDoc documents: 100%|███████| 1/1 [00:00<00:00, 26214.40it/s]\n",
      "Retrieving MaterialsDoc documents: 100%|███████| 1/1 [00:00<00:00, 26379.27it/s]\n",
      "Retrieving MaterialsDoc documents: 0it [00:00, ?it/s]\n"
     ]
    },
    {
     "name": "stdout",
     "output_type": "stream",
     "text": [
      "Error occurred for material ID mp-32449: 'list' object has no attribute 'to'\n"
     ]
    },
    {
     "name": "stderr",
     "output_type": "stream",
     "text": [
      "Retrieving MaterialsDoc documents: 100%|███████| 1/1 [00:00<00:00, 27962.03it/s]\n",
      "Retrieving MaterialsDoc documents: 100%|███████| 1/1 [00:00<00:00, 27962.03it/s]\n",
      "Retrieving MaterialsDoc documents: 100%|███████| 1/1 [00:00<00:00, 29330.80it/s]\n",
      "Retrieving MaterialsDoc documents: 0it [00:00, ?it/s]\n"
     ]
    },
    {
     "name": "stdout",
     "output_type": "stream",
     "text": [
      "Error occurred for material ID mp-12992: 'list' object has no attribute 'to'\n"
     ]
    },
    {
     "name": "stderr",
     "output_type": "stream",
     "text": [
      "Retrieving MaterialsDoc documents: 100%|███████| 1/1 [00:00<00:00, 27776.85it/s]\n",
      "Retrieving MaterialsDoc documents: 100%|███████| 1/1 [00:00<00:00, 28728.11it/s]\n",
      "Retrieving MaterialsDoc documents: 0it [00:00, ?it/s]\n"
     ]
    },
    {
     "name": "stdout",
     "output_type": "stream",
     "text": [
      "Error occurred for material ID mp-766154: 'list' object has no attribute 'to'\n"
     ]
    },
    {
     "name": "stderr",
     "output_type": "stream",
     "text": [
      "Retrieving MaterialsDoc documents: 100%|███████| 1/1 [00:00<00:00, 26546.23it/s]\n",
      "Retrieving MaterialsDoc documents: 100%|███████| 1/1 [00:00<00:00, 27962.03it/s]\n",
      "Retrieving MaterialsDoc documents: 100%|███████| 1/1 [00:00<00:00, 26886.56it/s]\n",
      "Retrieving MaterialsDoc documents: 100%|███████| 1/1 [00:00<00:00, 27776.85it/s]\n",
      "Retrieving MaterialsDoc documents: 100%|███████| 1/1 [00:00<00:00, 28532.68it/s]\n",
      "Retrieving MaterialsDoc documents: 100%|███████| 1/1 [00:00<00:00, 26214.40it/s]\n",
      "Retrieving MaterialsDoc documents: 100%|███████| 1/1 [00:00<00:00, 26379.27it/s]\n",
      "Retrieving MaterialsDoc documents: 100%|███████| 1/1 [00:00<00:00, 28532.68it/s]\n",
      "Retrieving MaterialsDoc documents: 100%|███████| 1/1 [00:00<00:00, 27594.11it/s]\n",
      "Retrieving MaterialsDoc documents: 100%|███████| 1/1 [00:00<00:00, 27594.11it/s]\n",
      "Retrieving MaterialsDoc documents: 100%|███████| 1/1 [00:00<00:00, 24818.37it/s]\n",
      "Retrieving MaterialsDoc documents: 100%|███████| 1/1 [00:00<00:00, 27594.11it/s]\n",
      "Retrieving MaterialsDoc documents: 100%|███████| 1/1 [00:00<00:00, 27962.03it/s]\n",
      "Retrieving MaterialsDoc documents: 100%|███████| 1/1 [00:00<00:00, 28532.68it/s]\n",
      "Retrieving MaterialsDoc documents: 100%|███████| 1/1 [00:00<00:00, 32263.88it/s]\n",
      "Retrieving MaterialsDoc documents: 0it [00:00, ?it/s]\n"
     ]
    },
    {
     "name": "stdout",
     "output_type": "stream",
     "text": [
      "Error occurred for material ID mp-776184: 'list' object has no attribute 'to'\n"
     ]
    },
    {
     "name": "stderr",
     "output_type": "stream",
     "text": [
      "Retrieving MaterialsDoc documents: 100%|███████| 1/1 [00:00<00:00, 27235.74it/s]\n",
      "Retrieving MaterialsDoc documents: 100%|███████| 1/1 [00:00<00:00, 28532.68it/s]\n",
      "Retrieving MaterialsDoc documents: 100%|███████| 1/1 [00:00<00:00, 27060.03it/s]\n",
      "Retrieving MaterialsDoc documents: 100%|███████| 1/1 [00:00<00:00, 27594.11it/s]\n",
      "Retrieving MaterialsDoc documents: 100%|███████| 1/1 [00:00<00:00, 27776.85it/s]\n",
      "Retrieving MaterialsDoc documents: 100%|███████| 1/1 [00:00<00:00, 27776.85it/s]\n",
      "Retrieving MaterialsDoc documents: 100%|███████| 1/1 [00:00<00:00, 27060.03it/s]\n",
      "Retrieving MaterialsDoc documents: 100%|███████| 1/1 [00:00<00:00, 27962.03it/s]\n",
      "Retrieving MaterialsDoc documents: 100%|███████| 1/1 [00:00<00:00, 27776.85it/s]\n",
      "Retrieving MaterialsDoc documents: 100%|███████| 1/1 [00:00<00:00, 26886.56it/s]\n",
      "Retrieving MaterialsDoc documents: 100%|███████| 1/1 [00:00<00:00, 27962.03it/s]\n",
      "Retrieving MaterialsDoc documents: 100%|███████| 1/1 [00:00<00:00, 29537.35it/s]\n",
      "Retrieving MaterialsDoc documents: 100%|███████| 1/1 [00:00<00:00, 28532.68it/s]\n",
      "Retrieving MaterialsDoc documents: 100%|███████| 1/1 [00:00<00:00, 26886.56it/s]\n",
      "Retrieving MaterialsDoc documents: 100%|███████| 1/1 [00:00<00:00, 28532.68it/s]\n",
      "Retrieving MaterialsDoc documents: 100%|███████| 1/1 [00:00<00:00, 27962.03it/s]\n",
      "Retrieving MaterialsDoc documents: 100%|███████| 1/1 [00:00<00:00, 27962.03it/s]\n",
      "Retrieving MaterialsDoc documents: 100%|███████| 1/1 [00:00<00:00, 27776.85it/s]\n",
      "Retrieving MaterialsDoc documents: 100%|███████| 1/1 [00:00<00:00, 27962.03it/s]\n",
      "Retrieving MaterialsDoc documents: 0it [00:00, ?it/s]\n"
     ]
    },
    {
     "name": "stdout",
     "output_type": "stream",
     "text": [
      "Error occurred for material ID mp-762915: 'list' object has no attribute 'to'\n"
     ]
    },
    {
     "name": "stderr",
     "output_type": "stream",
     "text": [
      "Retrieving MaterialsDoc documents: 100%|███████| 1/1 [00:00<00:00, 28728.11it/s]\n",
      "Retrieving MaterialsDoc documents: 100%|███████| 1/1 [00:00<00:00, 29330.80it/s]\n",
      "Retrieving MaterialsDoc documents: 0it [00:00, ?it/s]\n"
     ]
    },
    {
     "name": "stdout",
     "output_type": "stream",
     "text": [
      "Error occurred for material ID mp-853247: 'list' object has no attribute 'to'\n"
     ]
    },
    {
     "name": "stderr",
     "output_type": "stream",
     "text": [
      "Retrieving MaterialsDoc documents: 100%|███████| 1/1 [00:00<00:00, 28728.11it/s]\n",
      "Retrieving MaterialsDoc documents: 100%|███████| 1/1 [00:00<00:00, 23831.27it/s]\n",
      "Retrieving MaterialsDoc documents: 100%|███████| 1/1 [00:00<00:00, 25575.02it/s]\n",
      "Retrieving MaterialsDoc documents: 100%|███████| 1/1 [00:00<00:00, 27060.03it/s]\n",
      "Retrieving MaterialsDoc documents: 0it [00:00, ?it/s]\n"
     ]
    },
    {
     "name": "stdout",
     "output_type": "stream",
     "text": [
      "Error occurred for material ID mp-764362: 'list' object has no attribute 'to'\n"
     ]
    },
    {
     "name": "stderr",
     "output_type": "stream",
     "text": [
      "Retrieving MaterialsDoc documents: 100%|███████| 1/1 [00:00<00:00, 28728.11it/s]\n",
      "Retrieving MaterialsDoc documents: 100%|███████| 1/1 [00:00<00:00, 27776.85it/s]\n",
      "Retrieving MaterialsDoc documents: 100%|███████| 1/1 [00:00<00:00, 28728.11it/s]\n",
      "Retrieving MaterialsDoc documents: 100%|███████| 1/1 [00:00<00:00, 28532.68it/s]\n",
      "Retrieving MaterialsDoc documents: 100%|███████| 1/1 [00:00<00:00, 29537.35it/s]\n",
      "Retrieving MaterialsDoc documents: 100%|███████| 1/1 [00:00<00:00, 27235.74it/s]\n",
      "Retrieving MaterialsDoc documents: 100%|███████| 1/1 [00:00<00:00, 29537.35it/s]\n",
      "Retrieving MaterialsDoc documents: 0it [00:00, ?it/s]\n"
     ]
    },
    {
     "name": "stdout",
     "output_type": "stream",
     "text": [
      "Error occurred for material ID mp-762920: 'list' object has no attribute 'to'\n"
     ]
    },
    {
     "name": "stderr",
     "output_type": "stream",
     "text": [
      "Retrieving MaterialsDoc documents: 100%|███████| 1/1 [00:00<00:00, 26379.27it/s]\n",
      "Retrieving MaterialsDoc documents: 0it [00:00, ?it/s]\n"
     ]
    },
    {
     "name": "stdout",
     "output_type": "stream",
     "text": [
      "Error occurred for material ID mp-776626: 'list' object has no attribute 'to'\n"
     ]
    },
    {
     "name": "stderr",
     "output_type": "stream",
     "text": [
      "Retrieving MaterialsDoc documents: 100%|███████| 1/1 [00:00<00:00, 14926.35it/s]\n",
      "Retrieving MaterialsDoc documents: 100%|███████| 1/1 [00:00<00:00, 26379.27it/s]\n",
      "Retrieving MaterialsDoc documents: 100%|███████| 1/1 [00:00<00:00, 27594.11it/s]\n",
      "Retrieving MaterialsDoc documents: 100%|███████| 1/1 [00:00<00:00, 27962.03it/s]\n",
      "Retrieving MaterialsDoc documents: 100%|███████| 1/1 [00:00<00:00, 29330.80it/s]\n",
      "Retrieving MaterialsDoc documents: 100%|███████| 1/1 [00:00<00:00, 23831.27it/s]\n",
      "Retrieving MaterialsDoc documents: 100%|███████| 1/1 [00:00<00:00, 27776.85it/s]\n",
      "Retrieving MaterialsDoc documents: 100%|███████| 1/1 [00:00<00:00, 27060.03it/s]\n",
      "Retrieving MaterialsDoc documents: 100%|███████| 1/1 [00:00<00:00, 24385.49it/s]\n",
      "Retrieving MaterialsDoc documents: 100%|███████| 1/1 [00:00<00:00, 23831.27it/s]\n",
      "Retrieving MaterialsDoc documents: 100%|███████| 1/1 [00:00<00:00, 25420.02it/s]\n",
      "Retrieving MaterialsDoc documents: 100%|███████| 1/1 [00:00<00:00, 18477.11it/s]\n",
      "Retrieving MaterialsDoc documents: 100%|███████| 1/1 [00:00<00:00, 27962.03it/s]\n",
      "Retrieving MaterialsDoc documents: 100%|███████| 1/1 [00:00<00:00, 27776.85it/s]\n",
      "Retrieving MaterialsDoc documents: 100%|███████| 1/1 [00:00<00:00, 23831.27it/s]\n",
      "Retrieving MaterialsDoc documents: 100%|███████| 1/1 [00:00<00:00, 27776.85it/s]\n",
      "Retrieving MaterialsDoc documents: 100%|███████| 1/1 [00:00<00:00, 27776.85it/s]\n",
      "Retrieving MaterialsDoc documents: 100%|███████| 1/1 [00:00<00:00, 27060.03it/s]\n",
      "Retrieving MaterialsDoc documents: 100%|███████| 1/1 [00:00<00:00, 30393.51it/s]\n",
      "Retrieving MaterialsDoc documents: 100%|███████| 1/1 [00:00<00:00, 27776.85it/s]\n",
      "Retrieving MaterialsDoc documents: 100%|███████| 1/1 [00:00<00:00, 29537.35it/s]\n",
      "Retrieving MaterialsDoc documents: 100%|███████| 1/1 [00:00<00:00, 27235.74it/s]\n",
      "Retrieving MaterialsDoc documents: 100%|███████| 1/1 [00:00<00:00, 26379.27it/s]\n",
      "Retrieving MaterialsDoc documents: 100%|███████| 1/1 [00:00<00:00, 27060.03it/s]\n",
      "Retrieving MaterialsDoc documents: 100%|███████| 1/1 [00:00<00:00, 27060.03it/s]\n",
      "Retrieving MaterialsDoc documents: 100%|███████| 1/1 [00:00<00:00, 27594.11it/s]\n",
      "Retrieving MaterialsDoc documents: 0it [00:00, ?it/s]\n"
     ]
    },
    {
     "name": "stdout",
     "output_type": "stream",
     "text": [
      "Error occurred for material ID mp-776985: 'list' object has no attribute 'to'\n"
     ]
    },
    {
     "name": "stderr",
     "output_type": "stream",
     "text": [
      "Retrieving MaterialsDoc documents: 100%|███████| 1/1 [00:00<00:00, 28532.68it/s]\n",
      "Retrieving MaterialsDoc documents: 100%|███████| 1/1 [00:00<00:00, 27594.11it/s]\n",
      "Retrieving MaterialsDoc documents: 100%|███████| 1/1 [00:00<00:00, 27594.11it/s]\n",
      "Retrieving MaterialsDoc documents: 100%|███████| 1/1 [00:00<00:00, 27776.85it/s]\n",
      "Retrieving MaterialsDoc documents: 0it [00:00, ?it/s]\n"
     ]
    },
    {
     "name": "stdout",
     "output_type": "stream",
     "text": [
      "Error occurred for material ID mp-626512: 'list' object has no attribute 'to'\n"
     ]
    },
    {
     "name": "stderr",
     "output_type": "stream",
     "text": [
      "Retrieving MaterialsDoc documents: 100%|███████| 1/1 [00:00<00:00, 27962.03it/s]\n",
      "Retrieving MaterialsDoc documents: 100%|███████| 1/1 [00:00<00:00, 29330.80it/s]\n",
      "Retrieving MaterialsDoc documents: 100%|███████| 1/1 [00:00<00:00, 28532.68it/s]\n",
      "Retrieving MaterialsDoc documents: 100%|███████| 1/1 [00:00<00:00, 29330.80it/s]\n",
      "Retrieving MaterialsDoc documents: 100%|███████| 1/1 [00:00<00:00, 30393.51it/s]\n",
      "Retrieving MaterialsDoc documents: 100%|███████| 1/1 [00:00<00:00, 26886.56it/s]\n",
      "Retrieving MaterialsDoc documents: 100%|███████| 1/1 [00:00<00:00, 26379.27it/s]\n",
      "Retrieving MaterialsDoc documents: 100%|███████| 1/1 [00:00<00:00, 30174.85it/s]\n",
      "Retrieving MaterialsDoc documents: 100%|███████| 1/1 [00:00<00:00, 27235.74it/s]\n",
      "Retrieving MaterialsDoc documents: 100%|███████| 1/1 [00:00<00:00, 29746.84it/s]\n",
      "Retrieving MaterialsDoc documents: 100%|███████| 1/1 [00:00<00:00, 27962.03it/s]\n",
      "Retrieving MaterialsDoc documents: 100%|███████| 1/1 [00:00<00:00, 28532.68it/s]\n",
      "Retrieving MaterialsDoc documents: 100%|███████| 1/1 [00:00<00:00, 29330.80it/s]\n",
      "Retrieving MaterialsDoc documents: 100%|███████| 1/1 [00:00<00:00, 27962.03it/s]\n",
      "Retrieving MaterialsDoc documents: 100%|███████| 1/1 [00:00<00:00, 27776.85it/s]\n",
      "Retrieving MaterialsDoc documents: 100%|███████| 1/1 [00:00<00:00, 29330.80it/s]\n",
      "Retrieving MaterialsDoc documents: 100%|███████| 1/1 [00:00<00:00, 27776.85it/s]\n",
      "Retrieving MaterialsDoc documents: 100%|███████| 1/1 [00:00<00:00, 27235.74it/s]\n",
      "Retrieving MaterialsDoc documents: 100%|███████| 1/1 [00:00<00:00, 28532.68it/s]\n",
      "Retrieving MaterialsDoc documents: 100%|███████| 1/1 [00:00<00:00, 25115.59it/s]\n",
      "Retrieving MaterialsDoc documents: 100%|███████| 1/1 [00:00<00:00, 26214.40it/s]\n",
      "Retrieving MaterialsDoc documents: 100%|███████| 1/1 [00:00<00:00, 28728.11it/s]\n",
      "Retrieving MaterialsDoc documents: 100%|███████| 1/1 [00:00<00:00, 27776.85it/s]\n",
      "Retrieving MaterialsDoc documents: 100%|███████| 1/1 [00:00<00:00, 29330.80it/s]\n",
      "Retrieving MaterialsDoc documents: 100%|███████| 1/1 [00:00<00:00, 28339.89it/s]\n",
      "Retrieving MaterialsDoc documents: 100%|███████| 1/1 [00:00<00:00, 29330.80it/s]\n",
      "Retrieving MaterialsDoc documents: 100%|███████| 1/1 [00:00<00:00, 27776.85it/s]\n",
      "Retrieving MaterialsDoc documents: 100%|███████| 1/1 [00:00<00:00, 26886.56it/s]\n",
      "Retrieving MaterialsDoc documents: 100%|███████| 1/1 [00:00<00:00, 28532.68it/s]\n",
      "Retrieving MaterialsDoc documents: 100%|███████| 1/1 [00:00<00:00, 16980.99it/s]\n",
      "Retrieving MaterialsDoc documents: 100%|███████| 1/1 [00:00<00:00, 27060.03it/s]\n",
      "Retrieving MaterialsDoc documents: 100%|███████| 1/1 [00:00<00:00, 29330.80it/s]\n",
      "Retrieving MaterialsDoc documents: 100%|███████| 1/1 [00:00<00:00, 27962.03it/s]\n",
      "Retrieving MaterialsDoc documents: 100%|███████| 1/1 [00:00<00:00, 27060.03it/s]\n",
      "Retrieving MaterialsDoc documents: 100%|███████| 1/1 [00:00<00:00, 29330.80it/s]\n",
      "Retrieving MaterialsDoc documents: 100%|███████| 1/1 [00:00<00:00, 26379.27it/s]\n",
      "Retrieving MaterialsDoc documents: 100%|███████| 1/1 [00:00<00:00, 27776.85it/s]\n",
      "Retrieving MaterialsDoc documents: 100%|███████| 1/1 [00:00<00:00, 27060.03it/s]\n",
      "Retrieving MaterialsDoc documents: 100%|███████| 1/1 [00:00<00:00, 27060.03it/s]\n",
      "Retrieving MaterialsDoc documents: 100%|███████| 1/1 [00:00<00:00, 26379.27it/s]\n",
      "Retrieving MaterialsDoc documents: 100%|███████| 1/1 [00:00<00:00, 27776.85it/s]\n",
      "Retrieving MaterialsDoc documents: 100%|███████| 1/1 [00:00<00:00, 28532.68it/s]\n",
      "Retrieving MaterialsDoc documents: 100%|███████| 1/1 [00:00<00:00, 27776.85it/s]\n",
      "Retrieving MaterialsDoc documents: 100%|███████| 1/1 [00:00<00:00, 26886.56it/s]\n",
      "Retrieving MaterialsDoc documents: 100%|███████| 1/1 [00:00<00:00, 29330.80it/s]\n",
      "Retrieving MaterialsDoc documents: 100%|███████| 1/1 [00:00<00:00, 28728.11it/s]\n",
      "Retrieving MaterialsDoc documents: 100%|███████| 1/1 [00:00<00:00, 28532.68it/s]\n",
      "Retrieving MaterialsDoc documents: 100%|███████| 1/1 [00:00<00:00, 27060.03it/s]\n",
      "Retrieving MaterialsDoc documents: 100%|███████| 1/1 [00:00<00:00, 29537.35it/s]\n",
      "Retrieving MaterialsDoc documents: 100%|███████| 1/1 [00:00<00:00, 29330.80it/s]\n",
      "Retrieving MaterialsDoc documents: 100%|███████| 1/1 [00:00<00:00, 28532.68it/s]\n",
      "Retrieving MaterialsDoc documents: 100%|███████| 1/1 [00:00<00:00, 16131.94it/s]\n",
      "Retrieving MaterialsDoc documents: 100%|███████| 1/1 [00:00<00:00, 24385.49it/s]\n",
      "Retrieving MaterialsDoc documents: 100%|███████| 1/1 [00:00<00:00, 28532.68it/s]\n",
      "Retrieving MaterialsDoc documents: 100%|███████| 1/1 [00:00<00:00, 28532.68it/s]\n",
      "Retrieving MaterialsDoc documents: 100%|███████| 1/1 [00:00<00:00, 26379.27it/s]\n",
      "Retrieving MaterialsDoc documents: 100%|███████| 1/1 [00:00<00:00, 27594.11it/s]\n",
      "Retrieving MaterialsDoc documents: 100%|███████| 1/1 [00:00<00:00, 27776.85it/s]\n",
      "Retrieving MaterialsDoc documents: 100%|███████| 1/1 [00:00<00:00, 27962.03it/s]\n",
      "Retrieving MaterialsDoc documents: 100%|███████| 1/1 [00:00<00:00, 29330.80it/s]\n",
      "Retrieving MaterialsDoc documents: 100%|███████| 1/1 [00:00<00:00, 27594.11it/s]\n",
      "Retrieving MaterialsDoc documents: 100%|███████| 1/1 [00:00<00:00, 27962.03it/s]\n",
      "Retrieving MaterialsDoc documents: 100%|███████| 1/1 [00:00<00:00, 27235.74it/s]\n",
      "Retrieving MaterialsDoc documents: 100%|███████| 1/1 [00:00<00:00, 27060.03it/s]\n",
      "Retrieving MaterialsDoc documents: 100%|███████| 1/1 [00:00<00:00, 27776.85it/s]\n",
      "Retrieving MaterialsDoc documents: 100%|███████| 1/1 [00:00<00:00, 19508.39it/s]\n",
      "Retrieving MaterialsDoc documents: 100%|███████| 1/1 [00:00<00:00, 30393.51it/s]\n",
      "Retrieving MaterialsDoc documents: 100%|███████| 1/1 [00:00<00:00, 31300.78it/s]\n",
      "Retrieving MaterialsDoc documents: 100%|███████| 1/1 [00:00<00:00, 23301.69it/s]\n",
      "Retrieving MaterialsDoc documents: 100%|███████| 1/1 [00:00<00:00, 29330.80it/s]\n"
     ]
    },
    {
     "name": "stdout",
     "output_type": "stream",
     "text": [
      "Error occurred for material ID mp-616559: HTTPSConnectionPool(host='api.materialsproject.org', port=443): Read timed out.\n"
     ]
    },
    {
     "name": "stderr",
     "output_type": "stream",
     "text": [
      "Retrieving MaterialsDoc documents: 100%|███████| 1/1 [00:00<00:00, 26886.56it/s]\n",
      "Retrieving MaterialsDoc documents: 0it [00:00, ?it/s]\n"
     ]
    },
    {
     "name": "stdout",
     "output_type": "stream",
     "text": [
      "Error occurred for material ID mp-867689: 'list' object has no attribute 'to'\n"
     ]
    },
    {
     "name": "stderr",
     "output_type": "stream",
     "text": [
      "Retrieving MaterialsDoc documents: 100%|███████| 1/1 [00:00<00:00, 26214.40it/s]\n",
      "Retrieving MaterialsDoc documents: 0it [00:00, ?it/s]\n"
     ]
    },
    {
     "name": "stdout",
     "output_type": "stream",
     "text": [
      "Error occurred for material ID mp-34134: 'list' object has no attribute 'to'\n"
     ]
    },
    {
     "name": "stderr",
     "output_type": "stream",
     "text": [
      "Retrieving MaterialsDoc documents: 100%|███████| 1/1 [00:00<00:00, 28532.68it/s]\n",
      "Retrieving MaterialsDoc documents: 100%|███████| 1/1 [00:00<00:00, 19508.39it/s]\n",
      "Retrieving MaterialsDoc documents: 100%|███████| 1/1 [00:00<00:00, 28532.68it/s]\n",
      "Retrieving MaterialsDoc documents: 100%|███████| 1/1 [00:00<00:00, 26214.40it/s]\n",
      "Retrieving MaterialsDoc documents: 0it [00:00, ?it/s]\n"
     ]
    },
    {
     "name": "stdout",
     "output_type": "stream",
     "text": [
      "Error occurred for material ID mp-771798: 'list' object has no attribute 'to'\n"
     ]
    },
    {
     "name": "stderr",
     "output_type": "stream",
     "text": [
      "Retrieving MaterialsDoc documents: 100%|███████| 1/1 [00:00<00:00, 26379.27it/s]\n",
      "Retrieving MaterialsDoc documents: 100%|███████| 1/1 [00:00<00:00, 27235.74it/s]\n",
      "Retrieving MaterialsDoc documents: 100%|███████| 1/1 [00:00<00:00, 31300.78it/s]\n",
      "Retrieving MaterialsDoc documents: 100%|███████| 1/1 [00:00<00:00, 27235.74it/s]\n",
      "Retrieving MaterialsDoc documents: 100%|███████| 1/1 [00:00<00:00, 27776.85it/s]\n",
      "Retrieving MaterialsDoc documents: 100%|███████| 1/1 [00:00<00:00, 27594.11it/s]\n",
      "Retrieving MaterialsDoc documents: 100%|███████| 1/1 [00:00<00:00, 27776.85it/s]\n",
      "Retrieving MaterialsDoc documents: 100%|███████| 1/1 [00:00<00:00, 26379.27it/s]\n",
      "Retrieving MaterialsDoc documents: 100%|███████| 1/1 [00:00<00:00, 28532.68it/s]\n",
      "Retrieving MaterialsDoc documents: 100%|███████| 1/1 [00:00<00:00, 26214.40it/s]\n",
      "Retrieving MaterialsDoc documents: 100%|███████| 1/1 [00:00<00:00, 26886.56it/s]\n",
      "Retrieving MaterialsDoc documents: 100%|███████| 1/1 [00:00<00:00, 27594.11it/s]\n",
      "Retrieving MaterialsDoc documents: 100%|███████| 1/1 [00:00<00:00, 29330.80it/s]\n",
      "Retrieving MaterialsDoc documents: 0it [00:00, ?it/s]\n"
     ]
    },
    {
     "name": "stdout",
     "output_type": "stream",
     "text": [
      "Error occurred for material ID mp-771844: 'list' object has no attribute 'to'\n"
     ]
    },
    {
     "name": "stderr",
     "output_type": "stream",
     "text": [
      "Retrieving MaterialsDoc documents: 100%|███████| 1/1 [00:00<00:00, 27776.85it/s]\n",
      "Retrieving MaterialsDoc documents: 100%|███████| 1/1 [00:00<00:00, 29746.84it/s]\n",
      "Retrieving MaterialsDoc documents: 100%|███████| 1/1 [00:00<00:00, 27776.85it/s]\n",
      "Retrieving MaterialsDoc documents: 100%|███████| 1/1 [00:00<00:00, 28532.68it/s]\n",
      "Retrieving MaterialsDoc documents: 100%|███████| 1/1 [00:00<00:00, 27594.11it/s]\n",
      "Retrieving MaterialsDoc documents: 0it [00:00, ?it/s]\n"
     ]
    },
    {
     "name": "stdout",
     "output_type": "stream",
     "text": [
      "Error occurred for material ID mp-770086: 'list' object has no attribute 'to'\n"
     ]
    },
    {
     "name": "stderr",
     "output_type": "stream",
     "text": [
      "Retrieving MaterialsDoc documents: 100%|███████| 1/1 [00:00<00:00, 26379.27it/s]\n",
      "Retrieving MaterialsDoc documents: 100%|███████| 1/1 [00:00<00:00, 29746.84it/s]\n",
      "Retrieving MaterialsDoc documents: 0it [00:00, ?it/s]\n"
     ]
    },
    {
     "name": "stdout",
     "output_type": "stream",
     "text": [
      "Error occurred for material ID mp-762869: 'list' object has no attribute 'to'\n"
     ]
    },
    {
     "name": "stderr",
     "output_type": "stream",
     "text": [
      "Retrieving MaterialsDoc documents: 0it [00:00, ?it/s]\n"
     ]
    },
    {
     "name": "stdout",
     "output_type": "stream",
     "text": [
      "Error occurred for material ID mp-765445: 'list' object has no attribute 'to'\n"
     ]
    },
    {
     "name": "stderr",
     "output_type": "stream",
     "text": [
      "Retrieving MaterialsDoc documents: 100%|███████| 1/1 [00:00<00:00, 27594.11it/s]\n",
      "Retrieving MaterialsDoc documents: 100%|███████| 1/1 [00:00<00:00, 25575.02it/s]\n",
      "Retrieving MaterialsDoc documents: 100%|███████| 1/1 [00:00<00:00, 19152.07it/s]\n",
      "Retrieving MaterialsDoc documents: 100%|███████| 1/1 [00:00<00:00, 29330.80it/s]\n",
      "Retrieving MaterialsDoc documents: 100%|███████| 1/1 [00:00<00:00, 27594.11it/s]\n",
      "Retrieving MaterialsDoc documents: 100%|███████| 1/1 [00:00<00:00, 23172.95it/s]\n",
      "Retrieving MaterialsDoc documents: 100%|███████| 1/1 [00:00<00:00, 28728.11it/s]\n",
      "Retrieving MaterialsDoc documents: 100%|███████| 1/1 [00:00<00:00, 26214.40it/s]\n",
      "Retrieving MaterialsDoc documents: 100%|███████| 1/1 [00:00<00:00, 27060.03it/s]\n",
      "Retrieving MaterialsDoc documents: 100%|███████| 1/1 [00:00<00:00, 27962.03it/s]\n",
      "Retrieving MaterialsDoc documents: 100%|███████| 1/1 [00:00<00:00, 30393.51it/s]\n",
      "Retrieving MaterialsDoc documents: 100%|███████| 1/1 [00:00<00:00, 27962.03it/s]\n",
      "Retrieving MaterialsDoc documents: 100%|███████| 1/1 [00:00<00:00, 25731.93it/s]\n",
      "Retrieving MaterialsDoc documents: 100%|███████| 1/1 [00:00<00:00, 27962.03it/s]\n",
      "Retrieving MaterialsDoc documents: 100%|███████| 1/1 [00:00<00:00, 26379.27it/s]\n",
      "Retrieving MaterialsDoc documents: 100%|███████| 1/1 [00:00<00:00, 26546.23it/s]\n",
      "Retrieving MaterialsDoc documents: 100%|███████| 1/1 [00:00<00:00, 27594.11it/s]\n",
      "Retrieving MaterialsDoc documents: 100%|███████| 1/1 [00:00<00:00, 29330.80it/s]\n",
      "Retrieving MaterialsDoc documents: 100%|███████| 1/1 [00:00<00:00, 28532.68it/s]\n",
      "Retrieving MaterialsDoc documents: 0it [00:00, ?it/s]\n"
     ]
    },
    {
     "name": "stdout",
     "output_type": "stream",
     "text": [
      "Error occurred for material ID mp-25008: 'list' object has no attribute 'to'\n"
     ]
    },
    {
     "name": "stderr",
     "output_type": "stream",
     "text": [
      "Retrieving MaterialsDoc documents: 100%|███████| 1/1 [00:00<00:00, 25731.93it/s]\n",
      "Retrieving MaterialsDoc documents: 100%|███████| 1/1 [00:00<00:00, 28339.89it/s]\n",
      "Retrieving MaterialsDoc documents: 100%|███████| 1/1 [00:00<00:00, 28532.68it/s]\n",
      "Retrieving MaterialsDoc documents: 100%|███████| 1/1 [00:00<00:00, 27962.03it/s]\n",
      "Retrieving MaterialsDoc documents: 100%|███████| 1/1 [00:00<00:00, 31300.78it/s]\n",
      "Retrieving MaterialsDoc documents: 0it [00:00, ?it/s]\n"
     ]
    },
    {
     "name": "stdout",
     "output_type": "stream",
     "text": [
      "Error occurred for material ID mp-510559: 'list' object has no attribute 'to'\n"
     ]
    },
    {
     "name": "stderr",
     "output_type": "stream",
     "text": [
      "Retrieving MaterialsDoc documents: 100%|███████| 1/1 [00:00<00:00, 26379.27it/s]\n",
      "Retrieving MaterialsDoc documents: 100%|███████| 1/1 [00:00<00:00, 29537.35it/s]\n",
      "Retrieving MaterialsDoc documents: 100%|███████| 1/1 [00:00<00:00, 30393.51it/s]\n",
      "Retrieving MaterialsDoc documents: 100%|███████| 1/1 [00:00<00:00, 25575.02it/s]\n",
      "Retrieving MaterialsDoc documents: 100%|███████| 1/1 [00:00<00:00, 27594.11it/s]\n",
      "Retrieving MaterialsDoc documents: 100%|███████| 1/1 [00:00<00:00, 29537.35it/s]\n",
      "Retrieving MaterialsDoc documents: 100%|███████| 1/1 [00:00<00:00, 30393.51it/s]\n",
      "Retrieving MaterialsDoc documents: 100%|███████| 1/1 [00:00<00:00, 16384.00it/s]\n",
      "Retrieving MaterialsDoc documents: 100%|███████| 1/1 [00:00<00:00, 28728.11it/s]\n",
      "Retrieving MaterialsDoc documents: 100%|███████| 1/1 [00:00<00:00, 29330.80it/s]\n",
      "Retrieving MaterialsDoc documents: 100%|███████| 1/1 [00:00<00:00, 27594.11it/s]\n",
      "Retrieving MaterialsDoc documents: 0it [00:00, ?it/s]\n"
     ]
    },
    {
     "name": "stdout",
     "output_type": "stream",
     "text": [
      "Error occurred for material ID mp-775620: 'list' object has no attribute 'to'\n"
     ]
    },
    {
     "name": "stderr",
     "output_type": "stream",
     "text": [
      "Retrieving MaterialsDoc documents: 100%|███████| 1/1 [00:00<00:00, 28728.11it/s]\n",
      "Retrieving MaterialsDoc documents: 100%|███████| 1/1 [00:00<00:00, 27776.85it/s]\n",
      "Retrieving MaterialsDoc documents: 100%|███████| 1/1 [00:00<00:00, 19152.07it/s]\n",
      "Retrieving MaterialsDoc documents: 100%|███████| 1/1 [00:00<00:00, 28532.68it/s]\n",
      "Retrieving MaterialsDoc documents: 100%|███████| 1/1 [00:00<00:00, 28728.11it/s]\n",
      "Retrieving MaterialsDoc documents: 0it [00:00, ?it/s]\n"
     ]
    },
    {
     "name": "stdout",
     "output_type": "stream",
     "text": [
      "Error occurred for material ID mp-764338: 'list' object has no attribute 'to'\n"
     ]
    },
    {
     "name": "stderr",
     "output_type": "stream",
     "text": [
      "Retrieving MaterialsDoc documents: 100%|███████| 1/1 [00:00<00:00, 28532.68it/s]\n",
      "Retrieving MaterialsDoc documents: 100%|███████| 1/1 [00:00<00:00, 28532.68it/s]\n",
      "Retrieving MaterialsDoc documents: 100%|███████| 1/1 [00:00<00:00, 27060.03it/s]\n",
      "Retrieving MaterialsDoc documents: 100%|███████| 1/1 [00:00<00:00, 28532.68it/s]\n",
      "Retrieving MaterialsDoc documents: 100%|███████| 1/1 [00:00<00:00, 26886.56it/s]\n",
      "Retrieving MaterialsDoc documents: 100%|███████| 1/1 [00:00<00:00, 26214.40it/s]\n",
      "Retrieving MaterialsDoc documents: 100%|███████| 1/1 [00:00<00:00, 22919.69it/s]\n",
      "Retrieving MaterialsDoc documents: 100%|███████| 1/1 [00:00<00:00, 26214.40it/s]\n",
      "Retrieving MaterialsDoc documents: 100%|███████| 1/1 [00:00<00:00, 30174.85it/s]\n",
      "Retrieving MaterialsDoc documents: 100%|███████| 1/1 [00:00<00:00, 28532.68it/s]\n",
      "Retrieving MaterialsDoc documents: 100%|███████| 1/1 [00:00<00:00, 27776.85it/s]\n",
      "Retrieving MaterialsDoc documents: 100%|███████| 1/1 [00:00<00:00, 26546.23it/s]\n",
      "Retrieving MaterialsDoc documents: 100%|███████| 1/1 [00:00<00:00, 28532.68it/s]\n",
      "Retrieving MaterialsDoc documents: 100%|███████| 1/1 [00:00<00:00, 26379.27it/s]\n",
      "Retrieving MaterialsDoc documents: 100%|███████| 1/1 [00:00<00:00, 25115.59it/s]\n",
      "Retrieving MaterialsDoc documents: 100%|███████| 1/1 [00:00<00:00, 28532.68it/s]\n",
      "Retrieving MaterialsDoc documents: 0it [00:00, ?it/s]\n"
     ]
    },
    {
     "name": "stdout",
     "output_type": "stream",
     "text": [
      "Error occurred for material ID mp-868359: 'list' object has no attribute 'to'\n"
     ]
    },
    {
     "name": "stderr",
     "output_type": "stream",
     "text": [
      "Retrieving MaterialsDoc documents: 100%|███████| 1/1 [00:00<00:00, 26214.40it/s]\n",
      "Retrieving MaterialsDoc documents: 100%|███████| 1/1 [00:00<00:00, 30393.51it/s]\n",
      "Retrieving MaterialsDoc documents: 100%|███████| 1/1 [00:00<00:00, 28532.68it/s]\n",
      "Retrieving MaterialsDoc documents: 100%|███████| 1/1 [00:00<00:00, 29330.80it/s]\n",
      "Retrieving MaterialsDoc documents: 100%|███████| 1/1 [00:00<00:00, 28532.68it/s]\n",
      "Retrieving MaterialsDoc documents: 100%|███████| 1/1 [00:00<00:00, 27060.03it/s]\n",
      "Retrieving MaterialsDoc documents: 100%|███████| 1/1 [00:00<00:00, 29537.35it/s]\n",
      "Retrieving MaterialsDoc documents: 0it [00:00, ?it/s]\n"
     ]
    },
    {
     "name": "stdout",
     "output_type": "stream",
     "text": [
      "Error occurred for material ID mp-771532: 'list' object has no attribute 'to'\n"
     ]
    },
    {
     "name": "stderr",
     "output_type": "stream",
     "text": [
      "Retrieving MaterialsDoc documents: 100%|███████| 1/1 [00:00<00:00, 28532.68it/s]\n",
      "Retrieving MaterialsDoc documents: 100%|███████| 1/1 [00:00<00:00, 27594.11it/s]\n",
      "Retrieving MaterialsDoc documents: 100%|███████| 1/1 [00:00<00:00, 28532.68it/s]\n",
      "Retrieving MaterialsDoc documents: 100%|███████| 1/1 [00:00<00:00, 29330.80it/s]\n",
      "Retrieving MaterialsDoc documents: 100%|███████| 1/1 [00:00<00:00, 31300.78it/s]\n",
      "Retrieving MaterialsDoc documents: 100%|███████| 1/1 [00:00<00:00, 28532.68it/s]\n",
      "Retrieving MaterialsDoc documents: 100%|███████| 1/1 [00:00<00:00, 30615.36it/s]\n",
      "Retrieving MaterialsDoc documents: 100%|███████| 1/1 [00:00<00:00, 24966.10it/s]\n",
      "Retrieving MaterialsDoc documents: 100%|███████| 1/1 [00:00<00:00, 28532.68it/s]\n",
      "Retrieving MaterialsDoc documents: 100%|███████| 1/1 [00:00<00:00, 27776.85it/s]\n",
      "Retrieving MaterialsDoc documents: 100%|███████| 1/1 [00:00<00:00, 27776.85it/s]\n",
      "Retrieving MaterialsDoc documents: 100%|███████| 1/1 [00:00<00:00, 26379.27it/s]\n",
      "Retrieving MaterialsDoc documents: 100%|███████| 1/1 [00:00<00:00, 28532.68it/s]\n",
      "Retrieving MaterialsDoc documents: 100%|███████| 1/1 [00:00<00:00, 28532.68it/s]\n",
      "Retrieving MaterialsDoc documents: 100%|███████| 1/1 [00:00<00:00, 29746.84it/s]\n",
      "Retrieving MaterialsDoc documents: 100%|███████| 1/1 [00:00<00:00, 21732.15it/s]\n",
      "Retrieving MaterialsDoc documents: 100%|███████| 1/1 [00:00<00:00, 26886.56it/s]\n",
      "Retrieving MaterialsDoc documents: 100%|███████| 1/1 [00:00<00:00, 28728.11it/s]\n",
      "Retrieving MaterialsDoc documents: 100%|███████| 1/1 [00:00<00:00, 28728.11it/s]\n",
      "Retrieving MaterialsDoc documents: 100%|███████| 1/1 [00:00<00:00, 28532.68it/s]\n",
      "Retrieving MaterialsDoc documents: 100%|███████| 1/1 [00:00<00:00, 27594.11it/s]\n",
      "Retrieving MaterialsDoc documents: 100%|███████| 1/1 [00:00<00:00, 28532.68it/s]\n",
      "Retrieving MaterialsDoc documents: 100%|███████| 1/1 [00:00<00:00, 28339.89it/s]\n",
      "Retrieving MaterialsDoc documents: 100%|███████| 1/1 [00:00<00:00, 27060.03it/s]\n",
      "Retrieving MaterialsDoc documents: 100%|███████| 1/1 [00:00<00:00, 27776.85it/s]\n",
      "Retrieving MaterialsDoc documents: 100%|███████| 1/1 [00:00<00:00, 26886.56it/s]\n",
      "Retrieving MaterialsDoc documents: 100%|███████| 1/1 [00:00<00:00, 24818.37it/s]\n",
      "Retrieving MaterialsDoc documents: 100%|███████| 1/1 [00:00<00:00, 25731.93it/s]\n",
      "Retrieving MaterialsDoc documents: 100%|███████| 1/1 [00:00<00:00, 28532.68it/s]\n",
      "Retrieving MaterialsDoc documents: 100%|███████| 1/1 [00:00<00:00, 28532.68it/s]\n",
      "Retrieving MaterialsDoc documents: 100%|███████| 1/1 [00:00<00:00, 28728.11it/s]\n",
      "Retrieving MaterialsDoc documents: 100%|███████| 1/1 [00:00<00:00, 30393.51it/s]\n",
      "Retrieving MaterialsDoc documents: 100%|███████| 1/1 [00:00<00:00, 31300.78it/s]\n",
      "Retrieving MaterialsDoc documents: 100%|███████| 1/1 [00:00<00:00, 29330.80it/s]\n",
      "Retrieving MaterialsDoc documents: 100%|███████| 1/1 [00:00<00:00, 28532.68it/s]\n",
      "Retrieving MaterialsDoc documents: 100%|███████| 1/1 [00:00<00:00, 28728.11it/s]\n",
      "Retrieving MaterialsDoc documents: 0it [00:00, ?it/s]\n"
     ]
    },
    {
     "name": "stdout",
     "output_type": "stream",
     "text": [
      "Error occurred for material ID mp-552787: 'list' object has no attribute 'to'\n"
     ]
    },
    {
     "name": "stderr",
     "output_type": "stream",
     "text": [
      "Retrieving MaterialsDoc documents: 100%|███████| 1/1 [00:00<00:00, 28532.68it/s]\n",
      "Retrieving MaterialsDoc documents: 100%|███████| 1/1 [00:00<00:00, 27776.85it/s]\n",
      "Retrieving MaterialsDoc documents: 100%|███████| 1/1 [00:00<00:00, 28532.68it/s]\n",
      "Retrieving MaterialsDoc documents: 0it [00:00, ?it/s]\n"
     ]
    },
    {
     "name": "stdout",
     "output_type": "stream",
     "text": [
      "Error occurred for material ID mp-771858: 'list' object has no attribute 'to'\n"
     ]
    },
    {
     "name": "stderr",
     "output_type": "stream",
     "text": [
      "Retrieving MaterialsDoc documents: 100%|███████| 1/1 [00:00<00:00, 19972.88it/s]\n",
      "Retrieving MaterialsDoc documents: 100%|███████| 1/1 [00:00<00:00, 27060.03it/s]\n",
      "Retrieving MaterialsDoc documents: 100%|███████| 1/1 [00:00<00:00, 26379.27it/s]\n",
      "Retrieving MaterialsDoc documents: 100%|███████| 1/1 [00:00<00:00, 26886.56it/s]\n",
      "Retrieving MaterialsDoc documents: 100%|███████| 1/1 [00:00<00:00, 29330.80it/s]\n",
      "Retrieving MaterialsDoc documents: 100%|███████| 1/1 [00:00<00:00, 26214.40it/s]\n",
      "Retrieving MaterialsDoc documents: 100%|███████| 1/1 [00:00<00:00, 30174.85it/s]\n",
      "Retrieving MaterialsDoc documents: 100%|███████| 1/1 [00:00<00:00, 28728.11it/s]\n",
      "Retrieving MaterialsDoc documents: 100%|███████| 1/1 [00:00<00:00, 28728.11it/s]\n",
      "Retrieving MaterialsDoc documents: 100%|███████| 1/1 [00:00<00:00, 32263.88it/s]\n",
      "Retrieving MaterialsDoc documents: 100%|███████| 1/1 [00:00<00:00, 26886.56it/s]\n",
      "Retrieving MaterialsDoc documents: 100%|███████| 1/1 [00:00<00:00, 27962.03it/s]\n",
      "Retrieving MaterialsDoc documents: 100%|███████| 1/1 [00:00<00:00, 31300.78it/s]\n",
      "Retrieving MaterialsDoc documents: 100%|███████| 1/1 [00:00<00:00, 28532.68it/s]\n",
      "Retrieving MaterialsDoc documents: 100%|███████| 1/1 [00:00<00:00, 29330.80it/s]\n",
      "Retrieving MaterialsDoc documents: 100%|███████| 1/1 [00:00<00:00, 27962.03it/s]\n",
      "Retrieving MaterialsDoc documents: 100%|███████| 1/1 [00:00<00:00, 28339.89it/s]\n",
      "Retrieving MaterialsDoc documents: 100%|███████| 1/1 [00:00<00:00, 30174.85it/s]\n",
      "Retrieving MaterialsDoc documents: 100%|███████| 1/1 [00:00<00:00, 28532.68it/s]\n",
      "Retrieving MaterialsDoc documents: 100%|███████| 1/1 [00:00<00:00, 26886.56it/s]\n",
      "Retrieving MaterialsDoc documents: 0it [00:00, ?it/s]\n"
     ]
    },
    {
     "name": "stdout",
     "output_type": "stream",
     "text": [
      "Error occurred for material ID mp-690526: 'list' object has no attribute 'to'\n"
     ]
    },
    {
     "name": "stderr",
     "output_type": "stream",
     "text": [
      "Retrieving MaterialsDoc documents: 100%|███████| 1/1 [00:00<00:00, 28532.68it/s]\n",
      "Retrieving MaterialsDoc documents: 100%|███████| 1/1 [00:00<00:00, 27594.11it/s]\n",
      "Retrieving MaterialsDoc documents: 100%|███████| 1/1 [00:00<00:00, 29330.80it/s]\n",
      "Retrieving MaterialsDoc documents: 100%|███████| 1/1 [00:00<00:00, 27594.11it/s]\n",
      "Retrieving MaterialsDoc documents: 100%|███████| 1/1 [00:00<00:00, 28728.11it/s]\n",
      "Retrieving MaterialsDoc documents: 100%|███████| 1/1 [00:00<00:00, 26379.27it/s]\n",
      "Retrieving MaterialsDoc documents: 100%|███████| 1/1 [00:00<00:00, 16644.06it/s]\n",
      "Retrieving MaterialsDoc documents: 100%|███████| 1/1 [00:00<00:00, 27776.85it/s]\n",
      "Retrieving MaterialsDoc documents: 100%|███████| 1/1 [00:00<00:00, 26886.56it/s]\n",
      "Retrieving MaterialsDoc documents: 100%|███████| 1/1 [00:00<00:00, 28532.68it/s]\n",
      "Retrieving MaterialsDoc documents: 100%|███████| 1/1 [00:00<00:00, 28728.11it/s]\n",
      "Retrieving MaterialsDoc documents: 100%|███████| 1/1 [00:00<00:00, 26214.40it/s]\n",
      "Retrieving MaterialsDoc documents: 100%|███████| 1/1 [00:00<00:00, 16710.37it/s]\n",
      "Retrieving MaterialsDoc documents: 100%|███████| 1/1 [00:00<00:00, 28532.68it/s]\n",
      "Retrieving MaterialsDoc documents: 100%|███████| 1/1 [00:00<00:00, 31300.78it/s]\n",
      "Retrieving MaterialsDoc documents: 100%|███████| 1/1 [00:00<00:00, 26379.27it/s]\n",
      "Retrieving MaterialsDoc documents: 100%|███████| 1/1 [00:00<00:00, 26886.56it/s]\n",
      "Retrieving MaterialsDoc documents: 100%|███████| 1/1 [00:00<00:00, 28728.11it/s]\n",
      "Retrieving MaterialsDoc documents: 100%|███████| 1/1 [00:00<00:00, 29537.35it/s]\n",
      "Retrieving MaterialsDoc documents: 100%|███████| 1/1 [00:00<00:00, 28339.89it/s]\n",
      "Retrieving MaterialsDoc documents: 100%|████████| 1/1 [00:00<00:00, 9986.44it/s]\n",
      "Retrieving MaterialsDoc documents: 100%|███████| 1/1 [00:00<00:00, 28532.68it/s]\n",
      "Retrieving MaterialsDoc documents: 100%|███████| 1/1 [00:00<00:00, 28532.68it/s]\n",
      "Retrieving MaterialsDoc documents: 100%|███████| 1/1 [00:00<00:00, 28532.68it/s]\n",
      "Retrieving MaterialsDoc documents: 100%|███████| 1/1 [00:00<00:00, 22192.08it/s]\n",
      "Retrieving MaterialsDoc documents: 100%|███████| 1/1 [00:00<00:00, 29537.35it/s]\n",
      "Retrieving MaterialsDoc documents: 100%|███████| 1/1 [00:00<00:00, 26379.27it/s]\n",
      "Retrieving MaterialsDoc documents: 100%|███████| 1/1 [00:00<00:00, 27962.03it/s]\n",
      "Retrieving MaterialsDoc documents: 100%|███████| 1/1 [00:00<00:00, 27776.85it/s]\n",
      "Retrieving MaterialsDoc documents: 100%|███████| 1/1 [00:00<00:00, 32263.88it/s]\n",
      "Retrieving MaterialsDoc documents: 100%|███████| 1/1 [00:00<00:00, 30174.85it/s]\n",
      "Retrieving MaterialsDoc documents: 100%|███████| 1/1 [00:00<00:00, 27060.03it/s]\n",
      "Retrieving MaterialsDoc documents: 100%|███████| 1/1 [00:00<00:00, 27594.11it/s]\n",
      "Retrieving MaterialsDoc documents: 100%|███████| 1/1 [00:00<00:00, 27594.11it/s]\n",
      "Retrieving MaterialsDoc documents: 100%|███████| 1/1 [00:00<00:00, 29330.80it/s]\n",
      "Retrieving MaterialsDoc documents: 100%|███████| 1/1 [00:00<00:00, 30393.51it/s]\n",
      "Retrieving MaterialsDoc documents: 100%|███████| 1/1 [00:00<00:00, 30174.85it/s]\n",
      "Retrieving MaterialsDoc documents: 100%|███████| 1/1 [00:00<00:00, 29746.84it/s]\n",
      "Retrieving MaterialsDoc documents: 100%|███████| 1/1 [00:00<00:00, 30174.85it/s]\n",
      "Retrieving MaterialsDoc documents: 100%|███████| 1/1 [00:00<00:00, 24966.10it/s]\n",
      "Retrieving MaterialsDoc documents: 0it [00:00, ?it/s]\n"
     ]
    },
    {
     "name": "stdout",
     "output_type": "stream",
     "text": [
      "Error occurred for material ID mp-776803: 'list' object has no attribute 'to'\n"
     ]
    },
    {
     "name": "stderr",
     "output_type": "stream",
     "text": [
      "Retrieving MaterialsDoc documents: 100%|███████| 1/1 [00:00<00:00, 27776.85it/s]\n",
      "Retrieving MaterialsDoc documents: 100%|███████| 1/1 [00:00<00:00, 29330.80it/s]\n",
      "Retrieving MaterialsDoc documents: 100%|███████| 1/1 [00:00<00:00, 20460.02it/s]\n",
      "Retrieving MaterialsDoc documents: 100%|███████| 1/1 [00:00<00:00, 28532.68it/s]\n",
      "Retrieving MaterialsDoc documents: 100%|███████| 1/1 [00:00<00:00, 23831.27it/s]\n",
      "Retrieving MaterialsDoc documents: 100%|███████| 1/1 [00:00<00:00, 27776.85it/s]\n",
      "Retrieving MaterialsDoc documents: 100%|███████| 1/1 [00:00<00:00, 28532.68it/s]\n",
      "Retrieving MaterialsDoc documents: 100%|███████| 1/1 [00:00<00:00, 27060.03it/s]\n",
      "Retrieving MaterialsDoc documents: 100%|███████| 1/1 [00:00<00:00, 30174.85it/s]\n",
      "Retrieving MaterialsDoc documents: 100%|███████| 1/1 [00:00<00:00, 28532.68it/s]\n",
      "Retrieving MaterialsDoc documents: 100%|███████| 1/1 [00:00<00:00, 28532.68it/s]\n",
      "Retrieving MaterialsDoc documents: 100%|███████| 1/1 [00:00<00:00, 31300.78it/s]\n",
      "Retrieving MaterialsDoc documents: 100%|███████| 1/1 [00:00<00:00, 29537.35it/s]\n",
      "Retrieving MaterialsDoc documents: 100%|███████| 1/1 [00:00<00:00, 29537.35it/s]\n",
      "Retrieving MaterialsDoc documents: 100%|███████| 1/1 [00:00<00:00, 26886.56it/s]\n",
      "Retrieving MaterialsDoc documents: 100%|███████| 1/1 [00:00<00:00, 28532.68it/s]\n",
      "Retrieving MaterialsDoc documents: 100%|███████| 1/1 [00:00<00:00, 25420.02it/s]\n",
      "Retrieving MaterialsDoc documents: 100%|███████| 1/1 [00:00<00:00, 27060.03it/s]\n",
      "Retrieving MaterialsDoc documents: 100%|███████| 1/1 [00:00<00:00, 29537.35it/s]\n",
      "Retrieving MaterialsDoc documents: 0it [00:00, ?it/s]\n"
     ]
    },
    {
     "name": "stdout",
     "output_type": "stream",
     "text": [
      "Error occurred for material ID mp-690110: 'list' object has no attribute 'to'\n"
     ]
    },
    {
     "name": "stderr",
     "output_type": "stream",
     "text": [
      "Retrieving MaterialsDoc documents: 100%|███████| 1/1 [00:00<00:00, 29537.35it/s]\n",
      "Retrieving MaterialsDoc documents: 100%|███████| 1/1 [00:00<00:00, 29330.80it/s]\n",
      "Retrieving MaterialsDoc documents: 100%|███████| 1/1 [00:00<00:00, 27776.85it/s]\n",
      "Retrieving MaterialsDoc documents: 100%|███████| 1/1 [00:00<00:00, 29537.35it/s]\n",
      "Retrieving MaterialsDoc documents: 100%|███████| 1/1 [00:00<00:00, 28728.11it/s]\n",
      "Retrieving MaterialsDoc documents: 100%|███████| 1/1 [00:00<00:00, 30393.51it/s]\n",
      "Retrieving MaterialsDoc documents: 100%|███████| 1/1 [00:00<00:00, 30393.51it/s]\n",
      "Retrieving MaterialsDoc documents: 0it [00:00, ?it/s]\n"
     ]
    },
    {
     "name": "stdout",
     "output_type": "stream",
     "text": [
      "Error occurred for material ID mp-775236: 'list' object has no attribute 'to'\n"
     ]
    },
    {
     "name": "stderr",
     "output_type": "stream",
     "text": [
      "Retrieving MaterialsDoc documents: 100%|███████| 1/1 [00:00<00:00, 29537.35it/s]\n",
      "Retrieving MaterialsDoc documents: 100%|███████| 1/1 [00:00<00:00, 29537.35it/s]\n",
      "Retrieving MaterialsDoc documents: 100%|███████| 1/1 [00:00<00:00, 28728.11it/s]\n",
      "Retrieving MaterialsDoc documents: 100%|███████| 1/1 [00:00<00:00, 30393.51it/s]\n",
      "Retrieving MaterialsDoc documents: 100%|███████| 1/1 [00:00<00:00, 26379.27it/s]\n",
      "Retrieving MaterialsDoc documents: 100%|███████| 1/1 [00:00<00:00, 28532.68it/s]\n",
      "Retrieving MaterialsDoc documents: 100%|███████| 1/1 [00:00<00:00, 29330.80it/s]\n",
      "Retrieving MaterialsDoc documents: 100%|███████| 1/1 [00:00<00:00, 27776.85it/s]\n",
      "Retrieving MaterialsDoc documents: 100%|███████| 1/1 [00:00<00:00, 29537.35it/s]\n",
      "Retrieving MaterialsDoc documents: 100%|███████| 1/1 [00:00<00:00, 27962.03it/s]\n",
      "Retrieving MaterialsDoc documents: 100%|███████| 1/1 [00:00<00:00, 27776.85it/s]\n",
      "Retrieving MaterialsDoc documents: 100%|███████| 1/1 [00:00<00:00, 29330.80it/s]\n",
      "Retrieving MaterialsDoc documents: 100%|███████| 1/1 [00:00<00:00, 31300.78it/s]\n",
      "Retrieving MaterialsDoc documents: 100%|███████| 1/1 [00:00<00:00, 27060.03it/s]\n",
      "Retrieving MaterialsDoc documents: 100%|███████| 1/1 [00:00<00:00, 19239.93it/s]\n",
      "Retrieving MaterialsDoc documents: 100%|███████| 1/1 [00:00<00:00, 29330.80it/s]\n",
      "Retrieving MaterialsDoc documents: 100%|███████| 1/1 [00:00<00:00, 27060.03it/s]\n",
      "Retrieving MaterialsDoc documents: 100%|███████| 1/1 [00:00<00:00, 27962.03it/s]\n",
      "Retrieving MaterialsDoc documents: 100%|███████| 1/1 [00:00<00:00, 29746.84it/s]\n",
      "Retrieving MaterialsDoc documents: 100%|███████| 1/1 [00:00<00:00, 24528.09it/s]\n",
      "Retrieving MaterialsDoc documents: 0it [00:00, ?it/s]\n"
     ]
    },
    {
     "name": "stdout",
     "output_type": "stream",
     "text": [
      "Error occurred for material ID mp-770398: 'list' object has no attribute 'to'\n"
     ]
    },
    {
     "name": "stderr",
     "output_type": "stream",
     "text": [
      "Retrieving MaterialsDoc documents: 100%|███████| 1/1 [00:00<00:00, 25731.93it/s]\n",
      "Retrieving MaterialsDoc documents: 100%|███████| 1/1 [00:00<00:00, 27776.85it/s]\n",
      "Retrieving MaterialsDoc documents: 100%|███████| 1/1 [00:00<00:00, 28532.68it/s]\n",
      "Retrieving MaterialsDoc documents: 100%|███████| 1/1 [00:00<00:00, 27776.85it/s]\n",
      "Retrieving MaterialsDoc documents: 100%|███████| 1/1 [00:00<00:00, 29330.80it/s]\n",
      "Retrieving MaterialsDoc documents: 100%|███████| 1/1 [00:00<00:00, 30174.85it/s]\n",
      "Retrieving MaterialsDoc documents: 100%|███████| 1/1 [00:00<00:00, 28532.68it/s]\n",
      "Retrieving MaterialsDoc documents: 100%|███████| 1/1 [00:00<00:00, 27594.11it/s]\n",
      "Retrieving MaterialsDoc documents: 100%|███████| 1/1 [00:00<00:00, 28339.89it/s]\n",
      "Retrieving MaterialsDoc documents: 100%|███████| 1/1 [00:00<00:00, 31068.92it/s]\n",
      "Retrieving MaterialsDoc documents: 100%|███████| 1/1 [00:00<00:00, 29746.84it/s]\n",
      "Retrieving MaterialsDoc documents: 100%|███████| 1/1 [00:00<00:00, 31300.78it/s]\n",
      "Retrieving MaterialsDoc documents: 100%|███████| 1/1 [00:00<00:00, 15592.21it/s]\n",
      "Retrieving MaterialsDoc documents: 100%|███████| 1/1 [00:00<00:00, 23831.27it/s]\n",
      "Retrieving MaterialsDoc documents: 100%|███████| 1/1 [00:00<00:00, 28728.11it/s]\n",
      "Retrieving MaterialsDoc documents: 100%|███████| 1/1 [00:00<00:00, 20262.34it/s]\n",
      "Retrieving MaterialsDoc documents: 100%|███████| 1/1 [00:00<00:00, 28532.68it/s]\n",
      "Retrieving MaterialsDoc documents: 100%|███████| 1/1 [00:00<00:00, 29330.80it/s]\n",
      "Retrieving MaterialsDoc documents: 100%|███████| 1/1 [00:00<00:00, 27962.03it/s]\n",
      "Retrieving MaterialsDoc documents: 100%|███████| 1/1 [00:00<00:00, 28728.11it/s]\n",
      "Retrieving MaterialsDoc documents: 100%|███████| 1/1 [00:00<00:00, 28532.68it/s]\n",
      "Retrieving MaterialsDoc documents: 0it [00:00, ?it/s]\n"
     ]
    },
    {
     "name": "stdout",
     "output_type": "stream",
     "text": [
      "Error occurred for material ID mp-765183: 'list' object has no attribute 'to'\n"
     ]
    },
    {
     "name": "stderr",
     "output_type": "stream",
     "text": [
      "Retrieving MaterialsDoc documents: 100%|███████| 1/1 [00:00<00:00, 30393.51it/s]\n",
      "Retrieving MaterialsDoc documents: 100%|███████| 1/1 [00:00<00:00, 28532.68it/s]\n",
      "Retrieving MaterialsDoc documents: 100%|███████| 1/1 [00:00<00:00, 29330.80it/s]\n",
      "Retrieving MaterialsDoc documents: 100%|███████| 1/1 [00:00<00:00, 28532.68it/s]\n",
      "Retrieving MaterialsDoc documents: 100%|███████| 1/1 [00:00<00:00, 27776.85it/s]\n",
      "Retrieving MaterialsDoc documents: 100%|███████| 1/1 [00:00<00:00, 26546.23it/s]\n",
      "Retrieving MaterialsDoc documents: 100%|███████| 1/1 [00:00<00:00, 29330.80it/s]\n",
      "Retrieving MaterialsDoc documents: 100%|███████| 1/1 [00:00<00:00, 29330.80it/s]\n",
      "Retrieving MaterialsDoc documents: 100%|███████| 1/1 [00:00<00:00, 29330.80it/s]\n",
      "Retrieving MaterialsDoc documents: 100%|███████| 1/1 [00:00<00:00, 28339.89it/s]\n",
      "Retrieving MaterialsDoc documents: 0it [00:00, ?it/s]\n"
     ]
    },
    {
     "name": "stdout",
     "output_type": "stream",
     "text": [
      "Error occurred for material ID mp-714961: 'list' object has no attribute 'to'\n"
     ]
    },
    {
     "name": "stderr",
     "output_type": "stream",
     "text": [
      "Retrieving MaterialsDoc documents: 100%|███████| 1/1 [00:00<00:00, 28728.11it/s]\n",
      "Retrieving MaterialsDoc documents: 100%|███████| 1/1 [00:00<00:00, 26379.27it/s]\n",
      "Retrieving MaterialsDoc documents: 100%|███████| 1/1 [00:00<00:00, 32263.88it/s]\n",
      "Retrieving MaterialsDoc documents: 100%|███████| 1/1 [00:00<00:00, 28532.68it/s]\n",
      "Retrieving MaterialsDoc documents: 100%|███████| 1/1 [00:00<00:00, 28339.89it/s]\n",
      "Retrieving MaterialsDoc documents: 100%|███████| 1/1 [00:00<00:00, 29537.35it/s]\n",
      "Retrieving MaterialsDoc documents: 100%|███████| 1/1 [00:00<00:00, 26886.56it/s]\n",
      "Retrieving MaterialsDoc documents: 100%|███████| 1/1 [00:00<00:00, 29330.80it/s]\n",
      "Retrieving MaterialsDoc documents: 100%|███████| 1/1 [00:00<00:00, 28532.68it/s]\n",
      "Retrieving MaterialsDoc documents: 100%|███████| 1/1 [00:00<00:00, 27962.03it/s]\n",
      "Retrieving MaterialsDoc documents: 100%|███████| 1/1 [00:00<00:00, 30174.85it/s]\n",
      "Retrieving MaterialsDoc documents: 100%|███████| 1/1 [00:00<00:00, 29330.80it/s]\n",
      "Retrieving MaterialsDoc documents: 0it [00:00, ?it/s]\n"
     ]
    },
    {
     "name": "stdout",
     "output_type": "stream",
     "text": [
      "Error occurred for material ID mp-19575: 'list' object has no attribute 'to'\n"
     ]
    },
    {
     "name": "stderr",
     "output_type": "stream",
     "text": [
      "Retrieving MaterialsDoc documents: 100%|███████| 1/1 [00:00<00:00, 27235.74it/s]\n",
      "Retrieving MaterialsDoc documents: 100%|███████| 1/1 [00:00<00:00, 28532.68it/s]\n",
      "Retrieving MaterialsDoc documents: 100%|███████| 1/1 [00:00<00:00, 30393.51it/s]\n",
      "Retrieving MaterialsDoc documents: 100%|███████| 1/1 [00:00<00:00, 29330.80it/s]\n",
      "Retrieving MaterialsDoc documents: 100%|███████| 1/1 [00:00<00:00, 28339.89it/s]\n",
      "Retrieving MaterialsDoc documents: 100%|███████| 1/1 [00:00<00:00, 28532.68it/s]\n",
      "Retrieving MaterialsDoc documents: 100%|███████| 1/1 [00:00<00:00, 30174.85it/s]\n",
      "Retrieving MaterialsDoc documents: 100%|███████| 1/1 [00:00<00:00, 28339.89it/s]\n",
      "Retrieving MaterialsDoc documents: 100%|███████| 1/1 [00:00<00:00, 28532.68it/s]\n",
      "Retrieving MaterialsDoc documents: 100%|███████| 1/1 [00:00<00:00, 28728.11it/s]\n",
      "Retrieving MaterialsDoc documents: 100%|███████| 1/1 [00:00<00:00, 28728.11it/s]\n",
      "Retrieving MaterialsDoc documents: 100%|███████| 1/1 [00:00<00:00, 28728.11it/s]\n",
      "Retrieving MaterialsDoc documents: 100%|███████| 1/1 [00:00<00:00, 26886.56it/s]\n",
      "Retrieving MaterialsDoc documents: 100%|███████| 1/1 [00:00<00:00, 27594.11it/s]\n",
      "Retrieving MaterialsDoc documents: 100%|███████| 1/1 [00:00<00:00, 27776.85it/s]\n",
      "Retrieving MaterialsDoc documents: 100%|███████| 1/1 [00:00<00:00, 28532.68it/s]\n",
      "Retrieving MaterialsDoc documents: 100%|███████| 1/1 [00:00<00:00, 20460.02it/s]\n",
      "Retrieving MaterialsDoc documents: 100%|███████| 1/1 [00:00<00:00, 29746.84it/s]\n",
      "Retrieving MaterialsDoc documents: 100%|███████| 1/1 [00:00<00:00, 26379.27it/s]\n",
      "Retrieving MaterialsDoc documents: 100%|███████| 1/1 [00:00<00:00, 30393.51it/s]\n",
      "Retrieving MaterialsDoc documents: 100%|███████| 1/1 [00:00<00:00, 29537.35it/s]\n",
      "Retrieving MaterialsDoc documents: 100%|███████| 1/1 [00:00<00:00, 28532.68it/s]\n",
      "Retrieving MaterialsDoc documents: 100%|███████| 1/1 [00:00<00:00, 27962.03it/s]\n",
      "Retrieving MaterialsDoc documents: 100%|███████| 1/1 [00:00<00:00, 29330.80it/s]\n",
      "Retrieving MaterialsDoc documents: 100%|███████| 1/1 [00:00<00:00, 25575.02it/s]\n",
      "Retrieving MaterialsDoc documents: 100%|███████| 1/1 [00:00<00:00, 27776.85it/s]\n",
      "Retrieving MaterialsDoc documents: 100%|███████| 1/1 [00:00<00:00, 32263.88it/s]\n",
      "Retrieving MaterialsDoc documents: 100%|███████| 1/1 [00:00<00:00, 27594.11it/s]\n",
      "Retrieving MaterialsDoc documents: 100%|███████| 1/1 [00:00<00:00, 27776.85it/s]\n",
      "Retrieving MaterialsDoc documents: 100%|███████| 1/1 [00:00<00:00, 27962.03it/s]\n",
      "Retrieving MaterialsDoc documents: 100%|███████| 1/1 [00:00<00:00, 29330.80it/s]\n",
      "Retrieving MaterialsDoc documents: 100%|███████| 1/1 [00:00<00:00, 27060.03it/s]\n",
      "Retrieving MaterialsDoc documents: 100%|███████| 1/1 [00:00<00:00, 28532.68it/s]\n",
      "Retrieving MaterialsDoc documents: 100%|███████| 1/1 [00:00<00:00, 27060.03it/s]\n",
      "Retrieving MaterialsDoc documents: 100%|███████| 1/1 [00:00<00:00, 27776.85it/s]\n",
      "Retrieving MaterialsDoc documents: 100%|███████| 1/1 [00:00<00:00, 24385.49it/s]\n",
      "Retrieving MaterialsDoc documents: 100%|███████| 1/1 [00:00<00:00, 28532.68it/s]\n",
      "Retrieving MaterialsDoc documents: 100%|███████| 1/1 [00:00<00:00, 25731.93it/s]\n",
      "Retrieving MaterialsDoc documents: 100%|███████| 1/1 [00:00<00:00, 28532.68it/s]\n",
      "Retrieving MaterialsDoc documents: 100%|███████| 1/1 [00:00<00:00, 26886.56it/s]\n",
      "Retrieving MaterialsDoc documents: 100%|███████| 1/1 [00:00<00:00, 25731.93it/s]\n",
      "Retrieving MaterialsDoc documents: 100%|███████| 1/1 [00:00<00:00, 26214.40it/s]\n",
      "Retrieving MaterialsDoc documents: 100%|███████| 1/1 [00:00<00:00, 28532.68it/s]\n",
      "Retrieving MaterialsDoc documents: 100%|███████| 1/1 [00:00<00:00, 29330.80it/s]\n",
      "Retrieving MaterialsDoc documents: 100%|███████| 1/1 [00:00<00:00, 29330.80it/s]\n",
      "Retrieving MaterialsDoc documents: 100%|███████| 1/1 [00:00<00:00, 32263.88it/s]\n",
      "Retrieving MaterialsDoc documents: 100%|███████| 1/1 [00:00<00:00, 26214.40it/s]\n",
      "Retrieving MaterialsDoc documents: 100%|███████| 1/1 [00:00<00:00, 27060.03it/s]\n",
      "Retrieving MaterialsDoc documents: 100%|███████| 1/1 [00:00<00:00, 29330.80it/s]\n",
      "Retrieving MaterialsDoc documents: 100%|███████| 1/1 [00:00<00:00, 28532.68it/s]\n",
      "Retrieving MaterialsDoc documents: 100%|███████| 1/1 [00:00<00:00, 25731.93it/s]\n",
      "Retrieving MaterialsDoc documents: 100%|███████| 1/1 [00:00<00:00, 27060.03it/s]\n",
      "Retrieving MaterialsDoc documents: 100%|███████| 1/1 [00:00<00:00, 25575.02it/s]\n",
      "Retrieving MaterialsDoc documents: 100%|███████| 1/1 [00:00<00:00, 29537.35it/s]\n",
      "Retrieving MaterialsDoc documents: 100%|███████| 1/1 [00:00<00:00, 26379.27it/s]\n",
      "Retrieving MaterialsDoc documents: 100%|███████| 1/1 [00:00<00:00, 30174.85it/s]\n",
      "Retrieving MaterialsDoc documents: 100%|███████| 1/1 [00:00<00:00, 28532.68it/s]\n",
      "Retrieving MaterialsDoc documents: 100%|███████| 1/1 [00:00<00:00, 28532.68it/s]\n",
      "Retrieving MaterialsDoc documents: 100%|███████| 1/1 [00:00<00:00, 29330.80it/s]\n",
      "Retrieving MaterialsDoc documents: 100%|███████| 1/1 [00:00<00:00, 20360.70it/s]\n",
      "Retrieving MaterialsDoc documents: 100%|███████| 1/1 [00:00<00:00, 27235.74it/s]\n",
      "Retrieving MaterialsDoc documents: 100%|███████| 1/1 [00:00<00:00, 27594.11it/s]\n",
      "Retrieving MaterialsDoc documents: 100%|███████| 1/1 [00:00<00:00, 23172.95it/s]\n",
      "Retrieving MaterialsDoc documents: 100%|███████| 1/1 [00:00<00:00, 30393.51it/s]\n",
      "Retrieving MaterialsDoc documents: 100%|███████| 1/1 [00:00<00:00, 29330.80it/s]\n",
      "Retrieving MaterialsDoc documents: 100%|███████| 1/1 [00:00<00:00, 29537.35it/s]\n",
      "Retrieving MaterialsDoc documents: 100%|███████| 1/1 [00:00<00:00, 27235.74it/s]\n",
      "Retrieving MaterialsDoc documents: 100%|███████| 1/1 [00:00<00:00, 27776.85it/s]\n",
      "Retrieving MaterialsDoc documents: 100%|███████| 1/1 [00:00<00:00, 30393.51it/s]\n",
      "Retrieving MaterialsDoc documents: 100%|███████| 1/1 [00:00<00:00, 26214.40it/s]\n",
      "Retrieving MaterialsDoc documents: 100%|███████| 1/1 [00:00<00:00, 29330.80it/s]\n",
      "Retrieving MaterialsDoc documents: 0it [00:00, ?it/s]\n"
     ]
    },
    {
     "name": "stdout",
     "output_type": "stream",
     "text": [
      "Error occurred for material ID mp-778746: 'list' object has no attribute 'to'\n"
     ]
    },
    {
     "name": "stderr",
     "output_type": "stream",
     "text": [
      "Retrieving MaterialsDoc documents: 100%|███████| 1/1 [00:00<00:00, 28728.11it/s]\n",
      "Retrieving MaterialsDoc documents: 100%|███████| 1/1 [00:00<00:00, 29330.80it/s]\n",
      "Retrieving MaterialsDoc documents: 100%|███████| 1/1 [00:00<00:00, 24528.09it/s]\n",
      "Retrieving MaterialsDoc documents: 0it [00:00, ?it/s]\n"
     ]
    },
    {
     "name": "stdout",
     "output_type": "stream",
     "text": [
      "Error occurred for material ID mp-782681: 'list' object has no attribute 'to'\n"
     ]
    },
    {
     "name": "stderr",
     "output_type": "stream",
     "text": [
      "Retrieving MaterialsDoc documents: 100%|███████| 1/1 [00:00<00:00, 19239.93it/s]\n",
      "Retrieving MaterialsDoc documents: 100%|███████| 1/1 [00:00<00:00, 26214.40it/s]\n",
      "Retrieving MaterialsDoc documents: 100%|███████| 1/1 [00:00<00:00, 26379.27it/s]\n",
      "Retrieving MaterialsDoc documents: 100%|███████| 1/1 [00:00<00:00, 29330.80it/s]\n",
      "Retrieving MaterialsDoc documents: 100%|███████| 1/1 [00:00<00:00, 26214.40it/s]\n",
      "Retrieving MaterialsDoc documents: 100%|███████| 1/1 [00:00<00:00, 26379.27it/s]\n",
      "Retrieving MaterialsDoc documents: 100%|███████| 1/1 [00:00<00:00, 27962.03it/s]\n",
      "Retrieving MaterialsDoc documents: 100%|███████| 1/1 [00:00<00:00, 27962.03it/s]\n",
      "Retrieving MaterialsDoc documents: 100%|███████| 1/1 [00:00<00:00, 27776.85it/s]\n",
      "Retrieving MaterialsDoc documents: 100%|███████| 1/1 [00:00<00:00, 28532.68it/s]\n",
      "Retrieving MaterialsDoc documents: 100%|███████| 1/1 [00:00<00:00, 27962.03it/s]\n",
      "Retrieving MaterialsDoc documents: 100%|███████| 1/1 [00:00<00:00, 28532.68it/s]\n",
      "Retrieving MaterialsDoc documents: 100%|███████| 1/1 [00:00<00:00, 29330.80it/s]\n",
      "Retrieving MaterialsDoc documents: 100%|███████| 1/1 [00:00<00:00, 26379.27it/s]\n",
      "Retrieving MaterialsDoc documents: 100%|███████| 1/1 [00:00<00:00, 27776.85it/s]\n",
      "Retrieving MaterialsDoc documents: 100%|███████| 1/1 [00:00<00:00, 27776.85it/s]\n",
      "Retrieving MaterialsDoc documents: 100%|███████| 1/1 [00:00<00:00, 27235.74it/s]\n",
      "Retrieving MaterialsDoc documents: 100%|███████| 1/1 [00:00<00:00, 28532.68it/s]\n",
      "Retrieving MaterialsDoc documents: 100%|███████| 1/1 [00:00<00:00, 27594.11it/s]\n",
      "Retrieving MaterialsDoc documents: 100%|███████| 1/1 [00:00<00:00, 28532.68it/s]\n",
      "Retrieving MaterialsDoc documents: 100%|███████| 1/1 [00:00<00:00, 30393.51it/s]\n",
      "Retrieving MaterialsDoc documents: 100%|███████| 1/1 [00:00<00:00, 29330.80it/s]\n",
      "Retrieving MaterialsDoc documents: 100%|███████| 1/1 [00:00<00:00, 29330.80it/s]\n",
      "Retrieving MaterialsDoc documents: 100%|███████| 1/1 [00:00<00:00, 27776.85it/s]\n",
      "Retrieving MaterialsDoc documents: 100%|███████| 1/1 [00:00<00:00, 26214.40it/s]\n",
      "Retrieving MaterialsDoc documents: 100%|███████| 1/1 [00:00<00:00, 28532.68it/s]\n",
      "Retrieving MaterialsDoc documents: 100%|███████| 1/1 [00:00<00:00, 26886.56it/s]\n",
      "Retrieving MaterialsDoc documents: 100%|███████| 1/1 [00:00<00:00, 30174.85it/s]\n",
      "Retrieving MaterialsDoc documents: 100%|███████| 1/1 [00:00<00:00, 30393.51it/s]\n",
      "Retrieving MaterialsDoc documents: 100%|███████| 1/1 [00:00<00:00, 27060.03it/s]\n",
      "Retrieving MaterialsDoc documents: 100%|███████| 1/1 [00:00<00:00, 27776.85it/s]\n",
      "Retrieving MaterialsDoc documents: 100%|███████| 1/1 [00:00<00:00, 29537.35it/s]\n",
      "Retrieving MaterialsDoc documents: 100%|███████| 1/1 [00:00<00:00, 28532.68it/s]\n",
      "Retrieving MaterialsDoc documents: 100%|███████| 1/1 [00:00<00:00, 28339.89it/s]\n",
      "Retrieving MaterialsDoc documents: 100%|███████| 1/1 [00:00<00:00, 28728.11it/s]\n",
      "Retrieving MaterialsDoc documents: 100%|███████| 1/1 [00:00<00:00, 17189.77it/s]\n",
      "Retrieving MaterialsDoc documents: 100%|███████| 1/1 [00:00<00:00, 23831.27it/s]\n",
      "Retrieving MaterialsDoc documents: 100%|███████| 1/1 [00:00<00:00, 28532.68it/s]\n",
      "Retrieving MaterialsDoc documents: 100%|███████| 1/1 [00:00<00:00, 28339.89it/s]\n",
      "Retrieving MaterialsDoc documents: 100%|███████| 1/1 [00:00<00:00, 28532.68it/s]\n",
      "Retrieving MaterialsDoc documents: 100%|███████| 1/1 [00:00<00:00, 25575.02it/s]\n",
      "Retrieving MaterialsDoc documents: 100%|███████| 1/1 [00:00<00:00, 29330.80it/s]\n",
      "Retrieving MaterialsDoc documents: 100%|███████| 1/1 [00:00<00:00, 24966.10it/s]\n",
      "Retrieving MaterialsDoc documents: 100%|███████| 1/1 [00:00<00:00, 27060.03it/s]\n",
      "Retrieving MaterialsDoc documents: 100%|███████| 1/1 [00:00<00:00, 28339.89it/s]\n",
      "Retrieving MaterialsDoc documents: 100%|███████| 1/1 [00:00<00:00, 27776.85it/s]\n",
      "Retrieving MaterialsDoc documents: 100%|███████| 1/1 [00:00<00:00, 28532.68it/s]\n",
      "Retrieving MaterialsDoc documents: 100%|███████| 1/1 [00:00<00:00, 30174.85it/s]\n",
      "Retrieving MaterialsDoc documents: 100%|███████| 1/1 [00:00<00:00, 30174.85it/s]\n",
      "Retrieving MaterialsDoc documents: 100%|███████| 1/1 [00:00<00:00, 28532.68it/s]\n",
      "Retrieving MaterialsDoc documents: 100%|███████| 1/1 [00:00<00:00, 27962.03it/s]\n",
      "Retrieving MaterialsDoc documents: 100%|███████| 1/1 [00:00<00:00, 27060.03it/s]\n",
      "Retrieving MaterialsDoc documents: 100%|███████| 1/1 [00:00<00:00, 28532.68it/s]\n",
      "Retrieving MaterialsDoc documents: 100%|███████| 1/1 [00:00<00:00, 29330.80it/s]\n",
      "Retrieving MaterialsDoc documents: 100%|███████| 1/1 [00:00<00:00, 27776.85it/s]\n",
      "Retrieving MaterialsDoc documents: 100%|███████| 1/1 [00:00<00:00, 27776.85it/s]\n",
      "Retrieving MaterialsDoc documents: 100%|███████| 1/1 [00:00<00:00, 29537.35it/s]\n",
      "Retrieving MaterialsDoc documents: 100%|███████| 1/1 [00:00<00:00, 16384.00it/s]\n",
      "Retrieving MaterialsDoc documents: 100%|███████| 1/1 [00:00<00:00, 28532.68it/s]\n",
      "Retrieving MaterialsDoc documents: 0it [00:00, ?it/s]\n"
     ]
    },
    {
     "name": "stdout",
     "output_type": "stream",
     "text": [
      "Error occurred for material ID mp-777555: 'list' object has no attribute 'to'\n"
     ]
    },
    {
     "name": "stderr",
     "output_type": "stream",
     "text": [
      "Retrieving MaterialsDoc documents: 100%|███████| 1/1 [00:00<00:00, 25115.59it/s]\n",
      "Retrieving MaterialsDoc documents: 100%|███████| 1/1 [00:00<00:00, 26886.56it/s]\n",
      "Retrieving MaterialsDoc documents: 100%|███████| 1/1 [00:00<00:00, 28728.11it/s]\n",
      "Retrieving MaterialsDoc documents: 100%|███████| 1/1 [00:00<00:00, 29537.35it/s]\n",
      "Retrieving MaterialsDoc documents: 100%|███████| 1/1 [00:00<00:00, 27235.74it/s]\n",
      "Retrieving MaterialsDoc documents: 100%|███████| 1/1 [00:00<00:00, 27060.03it/s]\n",
      "Retrieving MaterialsDoc documents: 100%|███████| 1/1 [00:00<00:00, 28532.68it/s]\n",
      "Retrieving MaterialsDoc documents: 100%|███████| 1/1 [00:00<00:00, 31300.78it/s]\n",
      "Retrieving MaterialsDoc documents: 100%|███████| 1/1 [00:00<00:00, 27776.85it/s]\n",
      "Retrieving MaterialsDoc documents: 100%|███████| 1/1 [00:00<00:00, 26379.27it/s]\n",
      "Retrieving MaterialsDoc documents: 100%|███████| 1/1 [00:00<00:00, 25420.02it/s]\n",
      "Retrieving MaterialsDoc documents: 100%|███████| 1/1 [00:00<00:00, 29537.35it/s]\n",
      "Retrieving MaterialsDoc documents: 100%|███████| 1/1 [00:00<00:00, 29537.35it/s]\n",
      "Retrieving MaterialsDoc documents: 100%|███████| 1/1 [00:00<00:00, 29330.80it/s]\n",
      "Retrieving MaterialsDoc documents: 100%|███████| 1/1 [00:00<00:00, 27594.11it/s]\n",
      "Retrieving MaterialsDoc documents: 100%|███████| 1/1 [00:00<00:00, 27962.03it/s]\n",
      "Retrieving MaterialsDoc documents: 100%|███████| 1/1 [00:00<00:00, 31068.92it/s]\n",
      "Retrieving MaterialsDoc documents: 100%|███████| 1/1 [00:00<00:00, 29330.80it/s]\n",
      "Retrieving MaterialsDoc documents: 0it [00:00, ?it/s]\n"
     ]
    },
    {
     "name": "stdout",
     "output_type": "stream",
     "text": [
      "Error occurred for material ID mp-763136: 'list' object has no attribute 'to'\n"
     ]
    },
    {
     "name": "stderr",
     "output_type": "stream",
     "text": [
      "Retrieving MaterialsDoc documents: 100%|███████| 1/1 [00:00<00:00, 25575.02it/s]\n",
      "Retrieving MaterialsDoc documents: 100%|███████| 1/1 [00:00<00:00, 29330.80it/s]\n",
      "Retrieving MaterialsDoc documents: 100%|███████| 1/1 [00:00<00:00, 24385.49it/s]\n",
      "Retrieving MaterialsDoc documents: 100%|███████| 1/1 [00:00<00:00, 30393.51it/s]\n",
      "Retrieving MaterialsDoc documents: 100%|███████| 1/1 [00:00<00:00, 28728.11it/s]\n",
      "Retrieving MaterialsDoc documents: 100%|███████| 1/1 [00:00<00:00, 29330.80it/s]\n",
      "Retrieving MaterialsDoc documents: 100%|███████| 1/1 [00:00<00:00, 29330.80it/s]\n",
      "Retrieving MaterialsDoc documents: 100%|███████| 1/1 [00:00<00:00, 27776.85it/s]\n",
      "Retrieving MaterialsDoc documents: 100%|███████| 1/1 [00:00<00:00, 28728.11it/s]\n",
      "Retrieving MaterialsDoc documents: 100%|███████| 1/1 [00:00<00:00, 24528.09it/s]\n",
      "Retrieving MaterialsDoc documents: 100%|███████| 1/1 [00:00<00:00, 29330.80it/s]\n",
      "Retrieving MaterialsDoc documents: 100%|███████| 1/1 [00:00<00:00, 29330.80it/s]\n",
      "Retrieving MaterialsDoc documents: 100%|███████| 1/1 [00:00<00:00, 29330.80it/s]\n",
      "Retrieving MaterialsDoc documents: 100%|███████| 1/1 [00:00<00:00, 26379.27it/s]\n",
      "Retrieving MaterialsDoc documents: 100%|███████| 1/1 [00:00<00:00, 28532.68it/s]\n",
      "Retrieving MaterialsDoc documents: 100%|███████| 1/1 [00:00<00:00, 26214.40it/s]\n",
      "Retrieving MaterialsDoc documents: 100%|███████| 1/1 [00:00<00:00, 29537.35it/s]\n",
      "Retrieving MaterialsDoc documents: 100%|███████| 1/1 [00:00<00:00, 27776.85it/s]\n",
      "Retrieving MaterialsDoc documents: 100%|███████| 1/1 [00:00<00:00, 28532.68it/s]\n",
      "Retrieving MaterialsDoc documents: 100%|███████| 1/1 [00:00<00:00, 27060.03it/s]\n",
      "Retrieving MaterialsDoc documents: 100%|███████| 1/1 [00:00<00:00, 26886.56it/s]\n",
      "Retrieving MaterialsDoc documents: 0it [00:00, ?it/s]\n"
     ]
    },
    {
     "name": "stdout",
     "output_type": "stream",
     "text": [
      "Error occurred for material ID mp-765967: 'list' object has no attribute 'to'\n"
     ]
    },
    {
     "name": "stderr",
     "output_type": "stream",
     "text": [
      "Retrieving MaterialsDoc documents: 100%|███████| 1/1 [00:00<00:00, 29537.35it/s]\n",
      "Retrieving MaterialsDoc documents: 100%|███████| 1/1 [00:00<00:00, 27962.03it/s]\n",
      "Retrieving MaterialsDoc documents: 100%|███████| 1/1 [00:00<00:00, 27235.74it/s]\n",
      "Retrieving MaterialsDoc documents: 100%|███████| 1/1 [00:00<00:00, 28532.68it/s]\n",
      "Retrieving MaterialsDoc documents: 100%|███████| 1/1 [00:00<00:00, 27060.03it/s]\n",
      "Retrieving MaterialsDoc documents: 100%|███████| 1/1 [00:00<00:00, 25731.93it/s]\n",
      "Retrieving MaterialsDoc documents: 100%|███████| 1/1 [00:00<00:00, 32513.98it/s]\n",
      "Retrieving MaterialsDoc documents: 100%|███████| 1/1 [00:00<00:00, 28532.68it/s]\n",
      "Retrieving MaterialsDoc documents: 100%|███████| 1/1 [00:00<00:00, 29537.35it/s]\n",
      "Retrieving MaterialsDoc documents: 100%|███████| 1/1 [00:00<00:00, 28532.68it/s]\n",
      "Retrieving MaterialsDoc documents: 100%|███████| 1/1 [00:00<00:00, 30174.85it/s]\n",
      "Retrieving MaterialsDoc documents: 100%|███████| 1/1 [00:00<00:00, 28532.68it/s]\n",
      "Retrieving MaterialsDoc documents: 100%|███████| 1/1 [00:00<00:00, 28532.68it/s]\n",
      "Retrieving MaterialsDoc documents: 100%|███████| 1/1 [00:00<00:00, 30393.51it/s]\n",
      "Retrieving MaterialsDoc documents: 100%|███████| 1/1 [00:00<00:00, 27060.03it/s]\n",
      "Retrieving MaterialsDoc documents: 100%|███████| 1/1 [00:00<00:00, 28728.11it/s]\n",
      "Retrieving MaterialsDoc documents: 100%|███████| 1/1 [00:00<00:00, 30174.85it/s]\n",
      "Retrieving MaterialsDoc documents: 100%|███████| 1/1 [00:00<00:00, 27962.03it/s]\n",
      "Retrieving MaterialsDoc documents: 100%|███████| 1/1 [00:00<00:00, 28532.68it/s]\n",
      "Retrieving MaterialsDoc documents: 100%|███████| 1/1 [00:00<00:00, 27776.85it/s]\n",
      "Retrieving MaterialsDoc documents: 100%|███████| 1/1 [00:00<00:00, 29330.80it/s]\n",
      "Retrieving MaterialsDoc documents: 100%|███████| 1/1 [00:00<00:00, 29746.84it/s]\n",
      "Retrieving MaterialsDoc documents: 100%|███████| 1/1 [00:00<00:00, 27060.03it/s]\n",
      "Retrieving MaterialsDoc documents: 100%|███████| 1/1 [00:00<00:00, 27594.11it/s]\n",
      "Retrieving MaterialsDoc documents: 100%|███████| 1/1 [00:00<00:00, 28728.11it/s]\n",
      "Retrieving MaterialsDoc documents: 100%|███████| 1/1 [00:00<00:00, 28728.11it/s]\n",
      "Retrieving MaterialsDoc documents: 100%|███████| 1/1 [00:00<00:00, 27776.85it/s]\n",
      "Retrieving MaterialsDoc documents: 100%|███████| 1/1 [00:00<00:00, 29330.80it/s]\n",
      "Retrieving MaterialsDoc documents: 100%|███████| 1/1 [00:00<00:00, 18893.26it/s]\n",
      "Retrieving MaterialsDoc documents: 100%|███████| 1/1 [00:00<00:00, 27776.85it/s]\n",
      "Retrieving MaterialsDoc documents: 100%|███████| 1/1 [00:00<00:00, 29330.80it/s]\n",
      "Retrieving MaterialsDoc documents: 0it [00:00, ?it/s]\n"
     ]
    },
    {
     "name": "stdout",
     "output_type": "stream",
     "text": [
      "Error occurred for material ID mp-778717: 'list' object has no attribute 'to'\n"
     ]
    },
    {
     "name": "stderr",
     "output_type": "stream",
     "text": [
      "Retrieving MaterialsDoc documents: 0it [00:00, ?it/s]\n"
     ]
    },
    {
     "name": "stdout",
     "output_type": "stream",
     "text": [
      "Error occurred for material ID mp-776230: 'list' object has no attribute 'to'\n"
     ]
    },
    {
     "name": "stderr",
     "output_type": "stream",
     "text": [
      "Retrieving MaterialsDoc documents: 100%|███████| 1/1 [00:00<00:00, 27776.85it/s]\n",
      "Retrieving MaterialsDoc documents: 100%|███████| 1/1 [00:00<00:00, 27776.85it/s]\n",
      "Retrieving MaterialsDoc documents: 100%|███████| 1/1 [00:00<00:00, 26886.56it/s]\n",
      "Retrieving MaterialsDoc documents: 100%|███████| 1/1 [00:00<00:00, 27060.03it/s]\n",
      "Retrieving MaterialsDoc documents: 100%|███████| 1/1 [00:00<00:00, 30174.85it/s]\n",
      "Retrieving MaterialsDoc documents: 100%|███████| 1/1 [00:00<00:00, 22192.08it/s]\n",
      "Retrieving MaterialsDoc documents: 100%|███████| 1/1 [00:00<00:00, 27776.85it/s]\n",
      "Retrieving MaterialsDoc documents: 100%|███████| 1/1 [00:00<00:00, 26886.56it/s]\n",
      "Retrieving MaterialsDoc documents: 100%|███████| 1/1 [00:00<00:00, 27060.03it/s]\n",
      "Retrieving MaterialsDoc documents: 100%|███████| 1/1 [00:00<00:00, 27776.85it/s]\n",
      "Retrieving MaterialsDoc documents: 100%|███████| 1/1 [00:00<00:00, 28532.68it/s]\n",
      "Retrieving MaterialsDoc documents: 100%|███████| 1/1 [00:00<00:00, 28532.68it/s]\n",
      "Retrieving MaterialsDoc documents: 100%|███████| 1/1 [00:00<00:00, 27060.03it/s]\n",
      "Retrieving MaterialsDoc documents: 100%|███████| 1/1 [00:00<00:00, 27776.85it/s]\n",
      "Retrieving MaterialsDoc documents: 100%|███████| 1/1 [00:00<00:00, 29330.80it/s]\n",
      "Retrieving MaterialsDoc documents: 100%|███████| 1/1 [00:00<00:00, 26214.40it/s]\n",
      "Retrieving MaterialsDoc documents: 100%|███████| 1/1 [00:00<00:00, 28728.11it/s]\n",
      "Retrieving MaterialsDoc documents: 100%|███████| 1/1 [00:00<00:00, 27776.85it/s]\n",
      "Retrieving MaterialsDoc documents: 100%|███████| 1/1 [00:00<00:00, 25420.02it/s]\n",
      "Retrieving MaterialsDoc documents: 100%|███████| 1/1 [00:00<00:00, 29330.80it/s]\n",
      "Retrieving MaterialsDoc documents: 100%|███████| 1/1 [00:00<00:00, 27060.03it/s]\n",
      "Retrieving MaterialsDoc documents: 100%|███████| 1/1 [00:00<00:00, 27776.85it/s]\n",
      "Retrieving MaterialsDoc documents: 100%|███████| 1/1 [00:00<00:00, 27594.11it/s]\n",
      "Retrieving MaterialsDoc documents: 100%|███████| 1/1 [00:00<00:00, 27060.03it/s]\n",
      "Retrieving MaterialsDoc documents: 100%|███████| 1/1 [00:00<00:00, 22671.91it/s]\n",
      "Retrieving MaterialsDoc documents: 100%|███████| 1/1 [00:00<00:00, 26886.56it/s]\n",
      "Retrieving MaterialsDoc documents: 100%|███████| 1/1 [00:00<00:00, 26379.27it/s]\n",
      "Retrieving MaterialsDoc documents: 100%|███████| 1/1 [00:00<00:00, 28728.11it/s]\n",
      "Retrieving MaterialsDoc documents: 100%|███████| 1/1 [00:00<00:00, 26886.56it/s]\n",
      "Retrieving MaterialsDoc documents: 100%|███████| 1/1 [00:00<00:00, 27962.03it/s]\n",
      "Retrieving MaterialsDoc documents: 100%|███████| 1/1 [00:00<00:00, 29537.35it/s]\n",
      "Retrieving MaterialsDoc documents: 100%|███████| 1/1 [00:00<00:00, 27962.03it/s]\n",
      "Retrieving MaterialsDoc documents: 100%|███████| 1/1 [00:00<00:00, 27060.03it/s]\n",
      "Retrieving MaterialsDoc documents: 100%|███████| 1/1 [00:00<00:00, 29330.80it/s]\n",
      "Retrieving MaterialsDoc documents: 100%|███████| 1/1 [00:00<00:00, 27594.11it/s]\n",
      "Retrieving MaterialsDoc documents: 100%|███████| 1/1 [00:00<00:00, 26886.56it/s]\n",
      "Retrieving MaterialsDoc documents: 100%|███████| 1/1 [00:00<00:00, 24385.49it/s]\n",
      "Retrieving MaterialsDoc documents: 100%|███████| 1/1 [00:00<00:00, 26379.27it/s]\n",
      "Retrieving MaterialsDoc documents: 100%|███████| 1/1 [00:00<00:00, 24528.09it/s]\n",
      "Retrieving MaterialsDoc documents: 100%|███████| 1/1 [00:00<00:00, 25115.59it/s]\n",
      "Retrieving MaterialsDoc documents: 100%|███████| 1/1 [00:00<00:00, 27594.11it/s]\n",
      "Retrieving MaterialsDoc documents: 100%|███████| 1/1 [00:00<00:00, 29330.80it/s]\n",
      "Retrieving MaterialsDoc documents: 100%|███████| 1/1 [00:00<00:00, 23301.69it/s]\n",
      "Retrieving MaterialsDoc documents: 100%|███████| 1/1 [00:00<00:00, 29537.35it/s]\n",
      "Retrieving MaterialsDoc documents: 100%|███████| 1/1 [00:00<00:00, 27776.85it/s]\n",
      "Retrieving MaterialsDoc documents: 100%|███████| 1/1 [00:00<00:00, 28728.11it/s]\n",
      "Retrieving MaterialsDoc documents: 100%|███████| 1/1 [00:00<00:00, 24966.10it/s]\n",
      "Retrieving MaterialsDoc documents: 100%|███████| 1/1 [00:00<00:00, 20763.88it/s]\n",
      "Retrieving MaterialsDoc documents: 100%|███████| 1/1 [00:00<00:00, 31068.92it/s]\n",
      "Retrieving MaterialsDoc documents: 100%|███████| 1/1 [00:00<00:00, 25115.59it/s]\n",
      "Retrieving MaterialsDoc documents: 0it [00:00, ?it/s]\n"
     ]
    },
    {
     "name": "stdout",
     "output_type": "stream",
     "text": [
      "Error occurred for material ID mp-767367: 'list' object has no attribute 'to'\n"
     ]
    },
    {
     "name": "stderr",
     "output_type": "stream",
     "text": [
      "Retrieving MaterialsDoc documents: 100%|███████| 1/1 [00:00<00:00, 27962.03it/s]\n",
      "Retrieving MaterialsDoc documents: 100%|███████| 1/1 [00:00<00:00, 28728.11it/s]\n",
      "Retrieving MaterialsDoc documents: 100%|███████| 1/1 [00:00<00:00, 29330.80it/s]\n",
      "Retrieving MaterialsDoc documents: 100%|███████| 1/1 [00:00<00:00, 25575.02it/s]\n",
      "Retrieving MaterialsDoc documents: 100%|███████| 1/1 [00:00<00:00, 25731.93it/s]\n",
      "Retrieving MaterialsDoc documents: 100%|███████| 1/1 [00:00<00:00, 28728.11it/s]\n",
      "Retrieving MaterialsDoc documents: 100%|███████| 1/1 [00:00<00:00, 28532.68it/s]\n",
      "Retrieving MaterialsDoc documents: 100%|███████| 1/1 [00:00<00:00, 29330.80it/s]\n",
      "Retrieving MaterialsDoc documents: 100%|███████| 1/1 [00:00<00:00, 29330.80it/s]\n",
      "Retrieving MaterialsDoc documents: 0it [00:00, ?it/s]\n"
     ]
    },
    {
     "name": "stdout",
     "output_type": "stream",
     "text": [
      "Error occurred for material ID mp-715324: 'list' object has no attribute 'to'\n"
     ]
    },
    {
     "name": "stderr",
     "output_type": "stream",
     "text": [
      "Retrieving MaterialsDoc documents: 100%|███████| 1/1 [00:00<00:00, 27776.85it/s]\n",
      "Retrieving MaterialsDoc documents: 100%|███████| 1/1 [00:00<00:00, 28728.11it/s]\n",
      "Retrieving MaterialsDoc documents: 100%|███████| 1/1 [00:00<00:00, 30174.85it/s]\n",
      "Retrieving MaterialsDoc documents: 0it [00:00, ?it/s]\n"
     ]
    },
    {
     "name": "stdout",
     "output_type": "stream",
     "text": [
      "Error occurred for material ID mp-771841: 'list' object has no attribute 'to'\n"
     ]
    },
    {
     "name": "stderr",
     "output_type": "stream",
     "text": [
      "Retrieving MaterialsDoc documents: 100%|███████| 1/1 [00:00<00:00, 23696.63it/s]\n",
      "Retrieving MaterialsDoc documents: 100%|███████| 1/1 [00:00<00:00, 27594.11it/s]\n",
      "Retrieving MaterialsDoc documents: 100%|███████| 1/1 [00:00<00:00, 24818.37it/s]\n",
      "Retrieving MaterialsDoc documents: 100%|███████| 1/1 [00:00<00:00, 26886.56it/s]\n",
      "Retrieving MaterialsDoc documents: 100%|███████| 1/1 [00:00<00:00, 29330.80it/s]\n",
      "Retrieving MaterialsDoc documents: 100%|███████| 1/1 [00:00<00:00, 28532.68it/s]\n",
      "Retrieving MaterialsDoc documents: 100%|███████| 1/1 [00:00<00:00, 26886.56it/s]\n",
      "Retrieving MaterialsDoc documents: 100%|███████| 1/1 [00:00<00:00, 27594.11it/s]\n",
      "Retrieving MaterialsDoc documents: 100%|███████| 1/1 [00:00<00:00, 29330.80it/s]\n",
      "Retrieving MaterialsDoc documents: 100%|███████| 1/1 [00:00<00:00, 29537.35it/s]\n",
      "Retrieving MaterialsDoc documents: 100%|███████| 1/1 [00:00<00:00, 28532.68it/s]\n",
      "Retrieving MaterialsDoc documents: 100%|███████| 1/1 [00:00<00:00, 28728.11it/s]\n",
      "Retrieving MaterialsDoc documents: 100%|███████| 1/1 [00:00<00:00, 29330.80it/s]\n",
      "Retrieving MaterialsDoc documents: 100%|███████| 1/1 [00:00<00:00, 26886.56it/s]\n",
      "Retrieving MaterialsDoc documents: 100%|███████| 1/1 [00:00<00:00, 23831.27it/s]\n",
      "Retrieving MaterialsDoc documents: 100%|███████| 1/1 [00:00<00:00, 28532.68it/s]\n",
      "Retrieving MaterialsDoc documents: 0it [00:00, ?it/s]\n"
     ]
    },
    {
     "name": "stdout",
     "output_type": "stream",
     "text": [
      "Error occurred for material ID mp-764226: 'list' object has no attribute 'to'\n"
     ]
    },
    {
     "name": "stderr",
     "output_type": "stream",
     "text": [
      "Retrieving MaterialsDoc documents: 100%|███████| 1/1 [00:00<00:00, 27776.85it/s]\n",
      "Retrieving MaterialsDoc documents: 100%|███████| 1/1 [00:00<00:00, 28728.11it/s]\n",
      "Retrieving MaterialsDoc documents: 100%|███████| 1/1 [00:00<00:00, 30393.51it/s]\n",
      "Retrieving MaterialsDoc documents: 100%|███████| 1/1 [00:00<00:00, 29537.35it/s]\n",
      "Retrieving MaterialsDoc documents: 100%|███████| 1/1 [00:00<00:00, 28532.68it/s]\n",
      "Retrieving MaterialsDoc documents: 100%|███████| 1/1 [00:00<00:00, 28532.68it/s]\n",
      "Retrieving MaterialsDoc documents: 100%|███████| 1/1 [00:00<00:00, 29746.84it/s]\n",
      "Retrieving MaterialsDoc documents: 100%|███████| 1/1 [00:00<00:00, 29330.80it/s]\n",
      "Retrieving MaterialsDoc documents: 100%|███████| 1/1 [00:00<00:00, 28728.11it/s]\n",
      "Retrieving MaterialsDoc documents: 100%|███████| 1/1 [00:00<00:00, 27962.03it/s]\n",
      "Retrieving MaterialsDoc documents: 100%|███████| 1/1 [00:00<00:00, 28728.11it/s]\n",
      "Retrieving MaterialsDoc documents: 100%|███████| 1/1 [00:00<00:00, 28532.68it/s]\n",
      "Retrieving MaterialsDoc documents: 100%|███████| 1/1 [00:00<00:00, 29330.80it/s]\n",
      "Retrieving MaterialsDoc documents: 100%|███████| 1/1 [00:00<00:00, 27962.03it/s]\n",
      "Retrieving MaterialsDoc documents: 100%|███████| 1/1 [00:00<00:00, 28728.11it/s]\n",
      "Retrieving MaterialsDoc documents: 100%|███████| 1/1 [00:00<00:00, 21845.33it/s]\n",
      "Retrieving MaterialsDoc documents: 100%|███████| 1/1 [00:00<00:00, 27235.74it/s]\n",
      "Retrieving MaterialsDoc documents: 100%|███████| 1/1 [00:00<00:00, 28728.11it/s]\n",
      "Retrieving MaterialsDoc documents: 100%|███████| 1/1 [00:00<00:00, 19239.93it/s]\n",
      "Retrieving MaterialsDoc documents: 100%|███████| 1/1 [00:00<00:00, 26886.56it/s]\n",
      "Retrieving MaterialsDoc documents: 100%|███████| 1/1 [00:00<00:00, 26214.40it/s]\n",
      "Retrieving MaterialsDoc documents: 100%|███████| 1/1 [00:00<00:00, 27060.03it/s]\n",
      "Retrieving MaterialsDoc documents: 100%|███████| 1/1 [00:00<00:00, 30174.85it/s]\n",
      "Retrieving MaterialsDoc documents: 100%|███████| 1/1 [00:00<00:00, 26214.40it/s]\n",
      "Retrieving MaterialsDoc documents: 100%|███████| 1/1 [00:00<00:00, 28532.68it/s]\n",
      "Retrieving MaterialsDoc documents: 100%|███████| 1/1 [00:00<00:00, 27776.85it/s]\n",
      "Retrieving MaterialsDoc documents: 100%|███████| 1/1 [00:00<00:00, 25575.02it/s]\n",
      "Retrieving MaterialsDoc documents: 100%|███████| 1/1 [00:00<00:00, 29330.80it/s]\n",
      "Retrieving MaterialsDoc documents: 100%|███████| 1/1 [00:00<00:00, 30393.51it/s]\n",
      "Retrieving MaterialsDoc documents: 100%|███████| 1/1 [00:00<00:00, 29330.80it/s]\n",
      "Retrieving MaterialsDoc documents: 100%|███████| 1/1 [00:00<00:00, 28532.68it/s]\n",
      "Retrieving MaterialsDoc documents: 100%|███████| 1/1 [00:00<00:00, 27060.03it/s]\n",
      "Retrieving MaterialsDoc documents: 100%|███████| 1/1 [00:00<00:00, 28532.68it/s]\n",
      "Retrieving MaterialsDoc documents: 100%|███████| 1/1 [00:00<00:00, 27594.11it/s]\n",
      "Retrieving MaterialsDoc documents: 100%|███████| 1/1 [00:00<00:00, 28532.68it/s]\n",
      "Retrieving MaterialsDoc documents: 100%|███████| 1/1 [00:00<00:00, 27776.85it/s]\n",
      "Retrieving MaterialsDoc documents: 100%|███████| 1/1 [00:00<00:00, 27060.03it/s]\n",
      "Retrieving MaterialsDoc documents: 100%|███████| 1/1 [00:00<00:00, 28532.68it/s]\n",
      "Retrieving MaterialsDoc documents: 100%|███████| 1/1 [00:00<00:00, 30174.85it/s]\n",
      "Retrieving MaterialsDoc documents: 100%|███████| 1/1 [00:00<00:00, 28532.68it/s]\n",
      "Retrieving MaterialsDoc documents: 100%|███████| 1/1 [00:00<00:00, 29330.80it/s]\n",
      "Retrieving MaterialsDoc documents: 100%|███████| 1/1 [00:00<00:00, 28728.11it/s]\n",
      "Retrieving MaterialsDoc documents: 100%|███████| 1/1 [00:00<00:00, 29330.80it/s]\n",
      "Retrieving MaterialsDoc documents: 100%|███████| 1/1 [00:00<00:00, 16912.52it/s]\n",
      "Retrieving MaterialsDoc documents: 100%|███████| 1/1 [00:00<00:00, 28532.68it/s]\n",
      "Retrieving MaterialsDoc documents: 100%|███████| 1/1 [00:00<00:00, 29330.80it/s]\n",
      "Retrieving MaterialsDoc documents: 100%|███████| 1/1 [00:00<00:00, 30393.51it/s]\n",
      "Retrieving MaterialsDoc documents: 100%|███████| 1/1 [00:00<00:00, 28532.68it/s]\n",
      "Retrieving MaterialsDoc documents: 100%|███████| 1/1 [00:00<00:00, 29330.80it/s]\n",
      "Retrieving MaterialsDoc documents: 100%|███████| 1/1 [00:00<00:00, 30174.85it/s]\n",
      "Retrieving MaterialsDoc documents: 100%|███████| 1/1 [00:00<00:00, 29537.35it/s]\n",
      "Retrieving MaterialsDoc documents: 100%|███████| 1/1 [00:00<00:00, 29330.80it/s]\n",
      "Retrieving MaterialsDoc documents: 100%|███████| 1/1 [00:00<00:00, 29330.80it/s]\n",
      "Retrieving MaterialsDoc documents: 100%|███████| 1/1 [00:00<00:00, 27594.11it/s]\n",
      "Retrieving MaterialsDoc documents: 0it [00:00, ?it/s]\n"
     ]
    },
    {
     "name": "stdout",
     "output_type": "stream",
     "text": [
      "Error occurred for material ID mp-763351: 'list' object has no attribute 'to'\n"
     ]
    },
    {
     "name": "stderr",
     "output_type": "stream",
     "text": [
      "Retrieving MaterialsDoc documents: 100%|███████| 1/1 [00:00<00:00, 28532.68it/s]\n",
      "Retrieving MaterialsDoc documents: 0it [00:00, ?it/s]\n"
     ]
    },
    {
     "name": "stdout",
     "output_type": "stream",
     "text": [
      "Error occurred for material ID mp-25094: 'list' object has no attribute 'to'\n"
     ]
    },
    {
     "name": "stderr",
     "output_type": "stream",
     "text": [
      "Retrieving MaterialsDoc documents: 100%|███████| 1/1 [00:00<00:00, 28532.68it/s]\n",
      "Retrieving MaterialsDoc documents: 100%|███████| 1/1 [00:00<00:00, 28728.11it/s]\n",
      "Retrieving MaterialsDoc documents: 100%|███████| 1/1 [00:00<00:00, 29330.80it/s]\n",
      "Retrieving MaterialsDoc documents: 100%|███████| 1/1 [00:00<00:00, 28532.68it/s]\n",
      "Retrieving MaterialsDoc documents: 100%|███████| 1/1 [00:00<00:00, 27776.85it/s]\n",
      "Retrieving MaterialsDoc documents: 100%|███████| 1/1 [00:00<00:00, 30393.51it/s]\n",
      "Retrieving MaterialsDoc documents: 100%|███████| 1/1 [00:00<00:00, 29330.80it/s]\n",
      "Retrieving MaterialsDoc documents: 100%|███████| 1/1 [00:00<00:00, 27776.85it/s]\n",
      "Retrieving MaterialsDoc documents: 100%|███████| 1/1 [00:00<00:00, 31300.78it/s]\n",
      "Retrieving MaterialsDoc documents: 100%|███████| 1/1 [00:00<00:00, 30393.51it/s]\n",
      "Retrieving MaterialsDoc documents: 100%|███████| 1/1 [00:00<00:00, 26379.27it/s]\n",
      "Retrieving MaterialsDoc documents: 100%|███████| 1/1 [00:00<00:00, 17331.83it/s]\n",
      "Retrieving MaterialsDoc documents: 100%|███████| 1/1 [00:00<00:00, 27060.03it/s]\n",
      "Retrieving MaterialsDoc documents: 100%|███████| 1/1 [00:00<00:00, 28339.89it/s]\n",
      "Retrieving MaterialsDoc documents: 100%|███████| 1/1 [00:00<00:00, 27962.03it/s]\n",
      "Retrieving MaterialsDoc documents: 100%|███████| 1/1 [00:00<00:00, 29330.80it/s]\n",
      "Retrieving MaterialsDoc documents: 100%|███████| 1/1 [00:00<00:00, 28728.11it/s]\n",
      "Retrieving MaterialsDoc documents: 100%|███████| 1/1 [00:00<00:00, 31300.78it/s]\n",
      "Retrieving MaterialsDoc documents: 100%|███████| 1/1 [00:00<00:00, 27962.03it/s]\n",
      "Retrieving MaterialsDoc documents: 100%|███████| 1/1 [00:00<00:00, 26379.27it/s]\n",
      "Retrieving MaterialsDoc documents: 100%|███████| 1/1 [00:00<00:00, 29330.80it/s]\n",
      "Retrieving MaterialsDoc documents: 100%|███████| 1/1 [00:00<00:00, 27594.11it/s]\n",
      "Retrieving MaterialsDoc documents: 100%|███████| 1/1 [00:00<00:00, 27776.85it/s]\n",
      "Retrieving MaterialsDoc documents: 100%|███████| 1/1 [00:00<00:00, 28532.68it/s]\n",
      "Retrieving MaterialsDoc documents: 100%|███████| 1/1 [00:00<00:00, 26214.40it/s]\n",
      "Retrieving MaterialsDoc documents: 100%|███████| 1/1 [00:00<00:00, 29330.80it/s]\n",
      "Retrieving MaterialsDoc documents: 100%|███████| 1/1 [00:00<00:00, 28532.68it/s]\n",
      "Retrieving MaterialsDoc documents: 100%|███████| 1/1 [00:00<00:00, 28532.68it/s]\n",
      "Retrieving MaterialsDoc documents: 100%|███████| 1/1 [00:00<00:00, 27776.85it/s]\n",
      "Retrieving MaterialsDoc documents: 100%|███████| 1/1 [00:00<00:00, 30174.85it/s]\n",
      "Retrieving MaterialsDoc documents: 100%|███████| 1/1 [00:00<00:00, 27776.85it/s]\n",
      "Retrieving MaterialsDoc documents: 0it [00:00, ?it/s]\n"
     ]
    },
    {
     "name": "stdout",
     "output_type": "stream",
     "text": [
      "Error occurred for material ID mp-715590: 'list' object has no attribute 'to'\n"
     ]
    },
    {
     "name": "stderr",
     "output_type": "stream",
     "text": [
      "Retrieving MaterialsDoc documents: 100%|███████| 1/1 [00:00<00:00, 29537.35it/s]\n",
      "Retrieving MaterialsDoc documents: 100%|███████| 1/1 [00:00<00:00, 28532.68it/s]\n",
      "Retrieving MaterialsDoc documents: 100%|███████| 1/1 [00:00<00:00, 24966.10it/s]\n",
      "Retrieving MaterialsDoc documents: 100%|███████| 1/1 [00:00<00:00, 19239.93it/s]\n",
      "Retrieving MaterialsDoc documents: 100%|███████| 1/1 [00:00<00:00, 26886.56it/s]\n",
      "Retrieving MaterialsDoc documents: 100%|███████| 1/1 [00:00<00:00, 30393.51it/s]\n",
      "Retrieving MaterialsDoc documents: 100%|███████| 1/1 [00:00<00:00, 27235.74it/s]\n",
      "Retrieving MaterialsDoc documents: 0it [00:00, ?it/s]\n"
     ]
    },
    {
     "name": "stdout",
     "output_type": "stream",
     "text": [
      "Error occurred for material ID mp-776827: 'list' object has no attribute 'to'\n"
     ]
    },
    {
     "name": "stderr",
     "output_type": "stream",
     "text": [
      "Retrieving MaterialsDoc documents: 100%|███████| 1/1 [00:00<00:00, 29330.80it/s]\n",
      "Retrieving MaterialsDoc documents: 100%|███████| 1/1 [00:00<00:00, 27594.11it/s]\n",
      "Retrieving MaterialsDoc documents: 100%|███████| 1/1 [00:00<00:00, 28532.68it/s]\n",
      "Retrieving MaterialsDoc documents: 100%|███████| 1/1 [00:00<00:00, 28532.68it/s]\n",
      "Retrieving MaterialsDoc documents: 100%|███████| 1/1 [00:00<00:00, 29330.80it/s]\n",
      "Retrieving MaterialsDoc documents: 100%|███████| 1/1 [00:00<00:00, 27776.85it/s]\n",
      "Retrieving MaterialsDoc documents: 100%|███████| 1/1 [00:00<00:00, 30393.51it/s]\n",
      "Retrieving MaterialsDoc documents: 100%|███████| 1/1 [00:00<00:00, 27776.85it/s]\n",
      "Retrieving MaterialsDoc documents: 100%|███████| 1/1 [00:00<00:00, 27776.85it/s]\n",
      "Retrieving MaterialsDoc documents: 100%|███████| 1/1 [00:00<00:00, 29746.84it/s]\n",
      "Retrieving MaterialsDoc documents: 100%|███████| 1/1 [00:00<00:00, 27594.11it/s]\n",
      "Retrieving MaterialsDoc documents: 100%|███████| 1/1 [00:00<00:00, 31300.78it/s]\n",
      "Retrieving MaterialsDoc documents: 100%|███████| 1/1 [00:00<00:00, 27594.11it/s]\n",
      "Retrieving MaterialsDoc documents: 100%|███████| 1/1 [00:00<00:00, 28532.68it/s]\n",
      "Retrieving MaterialsDoc documents: 100%|███████| 1/1 [00:00<00:00, 29330.80it/s]\n",
      "Retrieving MaterialsDoc documents: 100%|███████| 1/1 [00:00<00:00, 32263.88it/s]\n",
      "Retrieving MaterialsDoc documents: 100%|███████| 1/1 [00:00<00:00, 27776.85it/s]\n",
      "Retrieving MaterialsDoc documents: 100%|███████| 1/1 [00:00<00:00, 29537.35it/s]\n",
      "Retrieving MaterialsDoc documents: 0it [00:00, ?it/s]\n"
     ]
    },
    {
     "name": "stdout",
     "output_type": "stream",
     "text": [
      "Error occurred for material ID mp-32403: 'list' object has no attribute 'to'\n"
     ]
    },
    {
     "name": "stderr",
     "output_type": "stream",
     "text": [
      "Retrieving MaterialsDoc documents: 100%|███████| 1/1 [00:00<00:00, 18558.87it/s]\n",
      "Retrieving MaterialsDoc documents: 100%|███████| 1/1 [00:00<00:00, 25731.93it/s]\n",
      "Retrieving MaterialsDoc documents: 100%|███████| 1/1 [00:00<00:00, 27776.85it/s]\n",
      "Retrieving MaterialsDoc documents: 100%|███████| 1/1 [00:00<00:00, 26379.27it/s]\n",
      "Retrieving MaterialsDoc documents: 100%|███████| 1/1 [00:00<00:00, 27962.03it/s]\n",
      "Retrieving MaterialsDoc documents: 100%|███████| 1/1 [00:00<00:00, 28728.11it/s]\n",
      "Retrieving MaterialsDoc documents: 100%|███████| 1/1 [00:00<00:00, 29330.80it/s]\n",
      "Retrieving MaterialsDoc documents: 100%|███████| 1/1 [00:00<00:00, 26214.40it/s]\n",
      "Retrieving MaterialsDoc documents: 100%|███████| 1/1 [00:00<00:00, 21290.88it/s]\n",
      "Retrieving MaterialsDoc documents: 100%|███████| 1/1 [00:00<00:00, 30174.85it/s]\n",
      "Retrieving MaterialsDoc documents: 100%|███████| 1/1 [00:00<00:00, 28728.11it/s]\n",
      "Retrieving MaterialsDoc documents: 100%|███████| 1/1 [00:00<00:00, 28532.68it/s]\n",
      "Retrieving MaterialsDoc documents: 100%|███████| 1/1 [00:00<00:00, 27962.03it/s]\n",
      "Retrieving MaterialsDoc documents: 100%|███████| 1/1 [00:00<00:00, 28339.89it/s]\n",
      "Retrieving MaterialsDoc documents: 100%|███████| 1/1 [00:00<00:00, 30174.85it/s]\n",
      "Retrieving MaterialsDoc documents: 0it [00:00, ?it/s]\n"
     ]
    },
    {
     "name": "stdout",
     "output_type": "stream",
     "text": [
      "Error occurred for material ID mp-25730: 'list' object has no attribute 'to'\n"
     ]
    },
    {
     "name": "stderr",
     "output_type": "stream",
     "text": [
      "Retrieving MaterialsDoc documents: 100%|███████| 1/1 [00:00<00:00, 28728.11it/s]\n",
      "Retrieving MaterialsDoc documents: 100%|███████| 1/1 [00:00<00:00, 31300.78it/s]\n",
      "Retrieving MaterialsDoc documents: 100%|███████| 1/1 [00:00<00:00, 26886.56it/s]\n",
      "Retrieving MaterialsDoc documents: 100%|███████| 1/1 [00:00<00:00, 25731.93it/s]\n",
      "Retrieving MaterialsDoc documents: 100%|███████| 1/1 [00:00<00:00, 27776.85it/s]\n",
      "Retrieving MaterialsDoc documents: 100%|███████| 1/1 [00:00<00:00, 29330.80it/s]\n",
      "Retrieving MaterialsDoc documents: 100%|███████| 1/1 [00:00<00:00, 31068.92it/s]\n",
      "Retrieving MaterialsDoc documents: 100%|███████| 1/1 [00:00<00:00, 20763.88it/s]\n",
      "Retrieving MaterialsDoc documents: 100%|███████| 1/1 [00:00<00:00, 30174.85it/s]\n",
      "Retrieving MaterialsDoc documents: 0it [00:00, ?it/s]\n"
     ]
    },
    {
     "name": "stdout",
     "output_type": "stream",
     "text": [
      "Error occurred for material ID mp-767013: 'list' object has no attribute 'to'\n"
     ]
    },
    {
     "name": "stderr",
     "output_type": "stream",
     "text": [
      "Retrieving MaterialsDoc documents: 100%|███████| 1/1 [00:00<00:00, 28532.68it/s]\n",
      "Retrieving MaterialsDoc documents: 100%|███████| 1/1 [00:00<00:00, 18893.26it/s]\n",
      "Retrieving MaterialsDoc documents: 100%|███████| 1/1 [00:00<00:00, 28532.68it/s]\n",
      "Retrieving MaterialsDoc documents: 100%|███████| 1/1 [00:00<00:00, 27060.03it/s]\n",
      "Retrieving MaterialsDoc documents: 100%|███████| 1/1 [00:00<00:00, 22671.91it/s]\n",
      "Retrieving MaterialsDoc documents: 100%|███████| 1/1 [00:00<00:00, 27776.85it/s]\n",
      "Retrieving MaterialsDoc documents: 100%|███████| 1/1 [00:00<00:00, 26886.56it/s]\n",
      "Retrieving MaterialsDoc documents: 100%|███████| 1/1 [00:00<00:00, 29330.80it/s]\n",
      "Retrieving MaterialsDoc documents: 100%|███████| 1/1 [00:00<00:00, 32263.88it/s]\n",
      "Retrieving MaterialsDoc documents: 100%|███████| 1/1 [00:00<00:00, 28532.68it/s]\n",
      "Retrieving MaterialsDoc documents: 100%|███████| 1/1 [00:00<00:00, 28728.11it/s]\n",
      "Retrieving MaterialsDoc documents: 100%|███████| 1/1 [00:00<00:00, 29330.80it/s]\n",
      "Retrieving MaterialsDoc documents: 100%|███████| 1/1 [00:00<00:00, 27776.85it/s]\n",
      "Retrieving MaterialsDoc documents: 100%|███████| 1/1 [00:00<00:00, 27060.03it/s]\n",
      "Retrieving MaterialsDoc documents: 0it [00:00, ?it/s]\n"
     ]
    },
    {
     "name": "stdout",
     "output_type": "stream",
     "text": [
      "Error occurred for material ID mp-24854: 'list' object has no attribute 'to'\n"
     ]
    },
    {
     "name": "stderr",
     "output_type": "stream",
     "text": [
      "Retrieving MaterialsDoc documents: 100%|███████| 1/1 [00:00<00:00, 26546.23it/s]\n",
      "Retrieving MaterialsDoc documents: 100%|███████| 1/1 [00:00<00:00, 29330.80it/s]\n",
      "Retrieving MaterialsDoc documents: 100%|███████| 1/1 [00:00<00:00, 27962.03it/s]\n",
      "Retrieving MaterialsDoc documents: 100%|███████| 1/1 [00:00<00:00, 30393.51it/s]\n",
      "Retrieving MaterialsDoc documents: 100%|███████| 1/1 [00:00<00:00, 25575.02it/s]\n",
      "Retrieving MaterialsDoc documents: 100%|███████| 1/1 [00:00<00:00, 28728.11it/s]\n",
      "Retrieving MaterialsDoc documents: 0it [00:00, ?it/s]\n"
     ]
    },
    {
     "name": "stdout",
     "output_type": "stream",
     "text": [
      "Error occurred for material ID mp-555391: 'list' object has no attribute 'to'\n"
     ]
    },
    {
     "name": "stderr",
     "output_type": "stream",
     "text": [
      "Retrieving MaterialsDoc documents: 100%|███████| 1/1 [00:00<00:00, 24966.10it/s]\n",
      "Retrieving MaterialsDoc documents: 100%|███████| 1/1 [00:00<00:00, 25575.02it/s]\n",
      "Retrieving MaterialsDoc documents: 100%|███████| 1/1 [00:00<00:00, 28728.11it/s]\n",
      "Retrieving MaterialsDoc documents: 100%|███████| 1/1 [00:00<00:00, 28532.68it/s]\n",
      "Retrieving MaterialsDoc documents: 100%|███████| 1/1 [00:00<00:00, 27060.03it/s]\n",
      "Retrieving MaterialsDoc documents: 100%|███████| 1/1 [00:00<00:00, 29537.35it/s]\n",
      "Retrieving MaterialsDoc documents: 100%|███████| 1/1 [00:00<00:00, 27776.85it/s]\n",
      "Retrieving MaterialsDoc documents: 100%|███████| 1/1 [00:00<00:00, 29330.80it/s]\n",
      "Retrieving MaterialsDoc documents: 100%|███████| 1/1 [00:00<00:00, 25575.02it/s]\n",
      "Retrieving MaterialsDoc documents: 100%|███████| 1/1 [00:00<00:00, 26379.27it/s]\n",
      "Retrieving MaterialsDoc documents: 100%|███████| 1/1 [00:00<00:00, 14122.24it/s]\n",
      "Retrieving MaterialsDoc documents: 100%|████████| 1/1 [00:00<00:00, 1575.03it/s]\n",
      "Retrieving MaterialsDoc documents: 100%|█████████| 1/1 [00:00<00:00, 160.93it/s]\n",
      "Retrieving MaterialsDoc documents: 100%|███████| 1/1 [00:00<00:00, 27060.03it/s]\n",
      "Retrieving MaterialsDoc documents: 100%|███████| 1/1 [00:00<00:00, 25420.02it/s]\n",
      "Retrieving MaterialsDoc documents: 100%|███████| 1/1 [00:00<00:00, 28532.68it/s]\n",
      "Retrieving MaterialsDoc documents: 100%|███████| 1/1 [00:00<00:00, 27776.85it/s]\n",
      "Retrieving MaterialsDoc documents: 0it [00:00, ?it/s]\n"
     ]
    },
    {
     "name": "stdout",
     "output_type": "stream",
     "text": [
      "Error occurred for material ID mp-780811: 'list' object has no attribute 'to'\n"
     ]
    },
    {
     "name": "stderr",
     "output_type": "stream",
     "text": [
      "Retrieving MaterialsDoc documents: 0it [00:00, ?it/s]\n"
     ]
    },
    {
     "name": "stdout",
     "output_type": "stream",
     "text": [
      "Error occurred for material ID mp-773929: 'list' object has no attribute 'to'\n"
     ]
    },
    {
     "name": "stderr",
     "output_type": "stream",
     "text": [
      "Retrieving MaterialsDoc documents: 100%|███████| 1/1 [00:00<00:00, 28532.68it/s]\n",
      "Retrieving MaterialsDoc documents: 100%|███████| 1/1 [00:00<00:00, 28532.68it/s]\n",
      "Retrieving MaterialsDoc documents: 100%|███████| 1/1 [00:00<00:00, 29537.35it/s]\n",
      "Retrieving MaterialsDoc documents: 100%|███████| 1/1 [00:00<00:00, 29537.35it/s]\n",
      "Retrieving MaterialsDoc documents: 100%|███████| 1/1 [00:00<00:00, 30174.85it/s]\n",
      "Retrieving MaterialsDoc documents: 100%|███████| 1/1 [00:00<00:00, 27776.85it/s]\n",
      "Retrieving MaterialsDoc documents: 100%|███████| 1/1 [00:00<00:00, 28728.11it/s]\n",
      "Retrieving MaterialsDoc documents: 100%|███████| 1/1 [00:00<00:00, 28728.11it/s]\n",
      "Retrieving MaterialsDoc documents: 100%|███████| 1/1 [00:00<00:00, 23831.27it/s]\n",
      "Retrieving MaterialsDoc documents: 100%|███████| 1/1 [00:00<00:00, 27594.11it/s]\n",
      "Retrieving MaterialsDoc documents: 100%|███████| 1/1 [00:00<00:00, 27060.03it/s]\n",
      "Retrieving MaterialsDoc documents: 100%|███████| 1/1 [00:00<00:00, 27060.03it/s]\n",
      "Retrieving MaterialsDoc documents: 100%|███████| 1/1 [00:00<00:00, 29330.80it/s]\n",
      "Retrieving MaterialsDoc documents: 100%|███████| 1/1 [00:00<00:00, 26886.56it/s]\n",
      "Retrieving MaterialsDoc documents: 100%|███████| 1/1 [00:00<00:00, 27962.03it/s]\n",
      "Retrieving MaterialsDoc documents: 0it [00:00, ?it/s]\n"
     ]
    },
    {
     "name": "stdout",
     "output_type": "stream",
     "text": [
      "Error occurred for material ID mp-566755: 'list' object has no attribute 'to'\n"
     ]
    },
    {
     "name": "stderr",
     "output_type": "stream",
     "text": [
      "Retrieving MaterialsDoc documents: 0it [00:00, ?it/s]\n"
     ]
    },
    {
     "name": "stdout",
     "output_type": "stream",
     "text": [
      "Error occurred for material ID mp-766953: 'list' object has no attribute 'to'\n"
     ]
    },
    {
     "name": "stderr",
     "output_type": "stream",
     "text": [
      "Retrieving MaterialsDoc documents: 100%|███████| 1/1 [00:00<00:00, 27594.11it/s]\n",
      "Retrieving MaterialsDoc documents: 100%|███████| 1/1 [00:00<00:00, 27962.03it/s]\n",
      "Retrieving MaterialsDoc documents: 100%|███████| 1/1 [00:00<00:00, 28728.11it/s]\n",
      "Retrieving MaterialsDoc documents: 100%|███████| 1/1 [00:00<00:00, 29330.80it/s]\n",
      "Retrieving MaterialsDoc documents: 100%|███████| 1/1 [00:00<00:00, 28339.89it/s]\n",
      "Retrieving MaterialsDoc documents: 100%|███████| 1/1 [00:00<00:00, 29330.80it/s]\n",
      "Retrieving MaterialsDoc documents: 100%|███████| 1/1 [00:00<00:00, 26379.27it/s]\n",
      "Retrieving MaterialsDoc documents: 100%|███████| 1/1 [00:00<00:00, 30393.51it/s]\n",
      "Retrieving MaterialsDoc documents: 100%|███████| 1/1 [00:00<00:00, 30174.85it/s]\n",
      "Retrieving MaterialsDoc documents: 100%|███████| 1/1 [00:00<00:00, 30393.51it/s]\n",
      "Retrieving MaterialsDoc documents: 100%|███████| 1/1 [00:00<00:00, 27776.85it/s]\n",
      "Retrieving MaterialsDoc documents: 100%|███████| 1/1 [00:00<00:00, 27962.03it/s]\n",
      "Retrieving MaterialsDoc documents: 100%|███████| 1/1 [00:00<00:00, 29537.35it/s]\n",
      "Retrieving MaterialsDoc documents: 100%|███████| 1/1 [00:00<00:00, 25575.02it/s]\n",
      "Retrieving MaterialsDoc documents: 100%|███████| 1/1 [00:00<00:00, 31300.78it/s]\n",
      "Retrieving MaterialsDoc documents: 100%|███████| 1/1 [00:00<00:00, 28532.68it/s]\n",
      "Retrieving MaterialsDoc documents: 100%|███████| 1/1 [00:00<00:00, 30174.85it/s]\n",
      "Retrieving MaterialsDoc documents: 100%|███████| 1/1 [00:00<00:00, 28532.68it/s]\n",
      "Retrieving MaterialsDoc documents: 100%|███████| 1/1 [00:00<00:00, 26379.27it/s]\n",
      "Retrieving MaterialsDoc documents: 100%|███████| 1/1 [00:00<00:00, 27594.11it/s]\n",
      "Retrieving MaterialsDoc documents: 100%|███████| 1/1 [00:00<00:00, 26886.56it/s]\n",
      "Retrieving MaterialsDoc documents: 100%|███████| 1/1 [00:00<00:00, 28532.68it/s]\n",
      "Retrieving MaterialsDoc documents: 100%|███████| 1/1 [00:00<00:00, 29330.80it/s]\n",
      "Retrieving MaterialsDoc documents: 100%|███████| 1/1 [00:00<00:00, 30393.51it/s]\n",
      "Retrieving MaterialsDoc documents: 100%|███████| 1/1 [00:00<00:00, 28532.68it/s]\n",
      "Retrieving MaterialsDoc documents: 0it [00:00, ?it/s]\n"
     ]
    },
    {
     "name": "stdout",
     "output_type": "stream",
     "text": [
      "Error occurred for material ID mp-636289: 'list' object has no attribute 'to'\n"
     ]
    },
    {
     "name": "stderr",
     "output_type": "stream",
     "text": [
      "Retrieving MaterialsDoc documents: 100%|███████| 1/1 [00:00<00:00, 28728.11it/s]\n",
      "Retrieving MaterialsDoc documents: 100%|███████| 1/1 [00:00<00:00, 28532.68it/s]\n",
      "Retrieving MaterialsDoc documents: 100%|███████| 1/1 [00:00<00:00, 27776.85it/s]\n",
      "Retrieving MaterialsDoc documents: 100%|███████| 1/1 [00:00<00:00, 28532.68it/s]\n",
      "Retrieving MaterialsDoc documents: 100%|███████| 1/1 [00:00<00:00, 27776.85it/s]\n",
      "Retrieving MaterialsDoc documents: 100%|███████| 1/1 [00:00<00:00, 27060.03it/s]\n",
      "Retrieving MaterialsDoc documents: 100%|███████| 1/1 [00:00<00:00, 29330.80it/s]\n",
      "Retrieving MaterialsDoc documents: 100%|███████| 1/1 [00:00<00:00, 26379.27it/s]\n",
      "Retrieving MaterialsDoc documents: 100%|███████| 1/1 [00:00<00:00, 26379.27it/s]\n",
      "Retrieving MaterialsDoc documents: 100%|███████| 1/1 [00:00<00:00, 26379.27it/s]\n",
      "Retrieving MaterialsDoc documents: 100%|███████| 1/1 [00:00<00:00, 25731.93it/s]\n",
      "Retrieving MaterialsDoc documents: 100%|███████| 1/1 [00:00<00:00, 29537.35it/s]\n",
      "Retrieving MaterialsDoc documents: 100%|███████| 1/1 [00:00<00:00, 29746.84it/s]\n",
      "Retrieving MaterialsDoc documents: 100%|███████| 1/1 [00:00<00:00, 28339.89it/s]\n",
      "Retrieving MaterialsDoc documents: 100%|███████| 1/1 [00:00<00:00, 26214.40it/s]\n",
      "Retrieving MaterialsDoc documents: 100%|███████| 1/1 [00:00<00:00, 29537.35it/s]\n",
      "Retrieving MaterialsDoc documents: 100%|███████| 1/1 [00:00<00:00, 31300.78it/s]\n",
      "Retrieving MaterialsDoc documents: 100%|███████| 1/1 [00:00<00:00, 30174.85it/s]\n",
      "Retrieving MaterialsDoc documents: 100%|███████| 1/1 [00:00<00:00, 27776.85it/s]\n",
      "Retrieving MaterialsDoc documents: 100%|███████| 1/1 [00:00<00:00, 31300.78it/s]\n",
      "Retrieving MaterialsDoc documents: 100%|███████| 1/1 [00:00<00:00, 27594.11it/s]\n",
      "Retrieving MaterialsDoc documents: 100%|███████| 1/1 [00:00<00:00, 27060.03it/s]\n",
      "Retrieving MaterialsDoc documents: 100%|███████| 1/1 [00:00<00:00, 29330.80it/s]\n",
      "Retrieving MaterialsDoc documents: 100%|███████| 1/1 [00:00<00:00, 27776.85it/s]\n",
      "Retrieving MaterialsDoc documents: 100%|███████| 1/1 [00:00<00:00, 30393.51it/s]\n",
      "Retrieving MaterialsDoc documents: 0it [00:00, ?it/s]\n"
     ]
    },
    {
     "name": "stdout",
     "output_type": "stream",
     "text": [
      "Error occurred for material ID mp-765892: 'list' object has no attribute 'to'\n"
     ]
    },
    {
     "name": "stderr",
     "output_type": "stream",
     "text": [
      "Retrieving MaterialsDoc documents: 100%|███████| 1/1 [00:00<00:00, 28339.89it/s]\n",
      "Retrieving MaterialsDoc documents: 100%|███████| 1/1 [00:00<00:00, 28532.68it/s]\n",
      "Retrieving MaterialsDoc documents: 100%|███████| 1/1 [00:00<00:00, 29537.35it/s]\n",
      "Retrieving MaterialsDoc documents: 100%|███████| 1/1 [00:00<00:00, 28532.68it/s]\n",
      "Retrieving MaterialsDoc documents: 100%|███████| 1/1 [00:00<00:00, 29330.80it/s]\n",
      "Retrieving MaterialsDoc documents: 100%|███████| 1/1 [00:00<00:00, 28532.68it/s]\n",
      "Retrieving MaterialsDoc documents: 0it [00:00, ?it/s]\n"
     ]
    },
    {
     "name": "stdout",
     "output_type": "stream",
     "text": [
      "Error occurred for material ID mp-849354: 'list' object has no attribute 'to'\n"
     ]
    },
    {
     "name": "stderr",
     "output_type": "stream",
     "text": [
      "Retrieving MaterialsDoc documents: 0it [00:00, ?it/s]\n"
     ]
    },
    {
     "name": "stdout",
     "output_type": "stream",
     "text": [
      "Error occurred for material ID mp-771811: 'list' object has no attribute 'to'\n"
     ]
    },
    {
     "name": "stderr",
     "output_type": "stream",
     "text": [
      "Retrieving MaterialsDoc documents: 100%|███████| 1/1 [00:00<00:00, 24966.10it/s]\n",
      "Retrieving MaterialsDoc documents: 100%|███████| 1/1 [00:00<00:00, 27776.85it/s]\n",
      "Retrieving MaterialsDoc documents: 0it [00:00, ?it/s]\n"
     ]
    },
    {
     "name": "stdout",
     "output_type": "stream",
     "text": [
      "Error occurred for material ID mp-25118: 'list' object has no attribute 'to'\n"
     ]
    },
    {
     "name": "stderr",
     "output_type": "stream",
     "text": [
      "Retrieving MaterialsDoc documents: 100%|███████| 1/1 [00:00<00:00, 25731.93it/s]\n",
      "Retrieving MaterialsDoc documents: 100%|███████| 1/1 [00:00<00:00, 27235.74it/s]\n",
      "Retrieving MaterialsDoc documents: 100%|███████| 1/1 [00:00<00:00, 28532.68it/s]\n",
      "Retrieving MaterialsDoc documents: 100%|███████| 1/1 [00:00<00:00, 28532.68it/s]\n",
      "Retrieving MaterialsDoc documents: 100%|███████| 1/1 [00:00<00:00, 30393.51it/s]\n",
      "Retrieving MaterialsDoc documents: 100%|███████| 1/1 [00:00<00:00, 27594.11it/s]\n",
      "Retrieving MaterialsDoc documents: 100%|███████| 1/1 [00:00<00:00, 29537.35it/s]\n",
      "Retrieving MaterialsDoc documents: 100%|███████| 1/1 [00:00<00:00, 28532.68it/s]\n",
      "Retrieving MaterialsDoc documents: 100%|███████| 1/1 [00:00<00:00, 30393.51it/s]\n",
      "Retrieving MaterialsDoc documents: 100%|███████| 1/1 [00:00<00:00, 31068.92it/s]\n",
      "Retrieving MaterialsDoc documents: 100%|███████| 1/1 [00:00<00:00, 27060.03it/s]\n",
      "Retrieving MaterialsDoc documents: 100%|███████| 1/1 [00:00<00:00, 29330.80it/s]\n",
      "Retrieving MaterialsDoc documents: 100%|███████| 1/1 [00:00<00:00, 28728.11it/s]\n",
      "Retrieving MaterialsDoc documents: 100%|███████| 1/1 [00:00<00:00, 27060.03it/s]\n",
      "Retrieving MaterialsDoc documents: 100%|███████| 1/1 [00:00<00:00, 25731.93it/s]\n",
      "Retrieving MaterialsDoc documents: 100%|███████| 1/1 [00:00<00:00, 27060.03it/s]\n",
      "Retrieving MaterialsDoc documents: 100%|███████| 1/1 [00:00<00:00, 20867.18it/s]\n",
      "Retrieving MaterialsDoc documents: 100%|███████| 1/1 [00:00<00:00, 21620.12it/s]\n",
      "Retrieving MaterialsDoc documents: 100%|███████| 1/1 [00:00<00:00, 29537.35it/s]\n",
      "Retrieving MaterialsDoc documents: 100%|███████| 1/1 [00:00<00:00, 26214.40it/s]\n",
      "Retrieving MaterialsDoc documents: 100%|███████| 1/1 [00:00<00:00, 29330.80it/s]\n",
      "Retrieving MaterialsDoc documents: 100%|███████| 1/1 [00:00<00:00, 27594.11it/s]\n",
      "Retrieving MaterialsDoc documents: 100%|███████| 1/1 [00:00<00:00, 30393.51it/s]\n",
      "Retrieving MaterialsDoc documents: 0it [00:00, ?it/s]\n"
     ]
    },
    {
     "name": "stdout",
     "output_type": "stream",
     "text": [
      "Error occurred for material ID mp-776864: 'list' object has no attribute 'to'\n"
     ]
    },
    {
     "name": "stderr",
     "output_type": "stream",
     "text": [
      "Retrieving MaterialsDoc documents: 100%|███████| 1/1 [00:00<00:00, 26214.40it/s]\n",
      "Retrieving MaterialsDoc documents: 100%|███████| 1/1 [00:00<00:00, 29746.84it/s]\n",
      "Retrieving MaterialsDoc documents: 100%|███████| 1/1 [00:00<00:00, 28532.68it/s]\n",
      "Retrieving MaterialsDoc documents: 100%|███████| 1/1 [00:00<00:00, 27776.85it/s]\n",
      "Retrieving MaterialsDoc documents: 100%|███████| 1/1 [00:00<00:00, 28532.68it/s]\n",
      "Retrieving MaterialsDoc documents: 100%|███████| 1/1 [00:00<00:00, 31300.78it/s]\n",
      "Retrieving MaterialsDoc documents: 100%|███████| 1/1 [00:00<00:00, 24966.10it/s]\n",
      "Retrieving MaterialsDoc documents: 100%|███████| 1/1 [00:00<00:00, 24818.37it/s]\n",
      "Retrieving MaterialsDoc documents: 100%|███████| 1/1 [00:00<00:00, 28532.68it/s]\n",
      "Retrieving MaterialsDoc documents: 100%|███████| 1/1 [00:00<00:00, 27594.11it/s]\n",
      "Retrieving MaterialsDoc documents: 100%|███████| 1/1 [00:00<00:00, 31068.92it/s]\n",
      "Retrieving MaterialsDoc documents: 100%|███████| 1/1 [00:00<00:00, 27776.85it/s]\n",
      "Retrieving MaterialsDoc documents: 100%|███████| 1/1 [00:00<00:00, 28728.11it/s]\n",
      "Retrieving MaterialsDoc documents: 100%|███████| 1/1 [00:00<00:00, 27594.11it/s]\n",
      "Retrieving MaterialsDoc documents: 100%|███████| 1/1 [00:00<00:00, 28532.68it/s]\n",
      "Retrieving MaterialsDoc documents: 100%|███████| 1/1 [00:00<00:00, 27776.85it/s]\n",
      "Retrieving MaterialsDoc documents: 100%|███████| 1/1 [00:00<00:00, 26886.56it/s]\n",
      "Retrieving MaterialsDoc documents: 100%|███████| 1/1 [00:00<00:00, 26886.56it/s]\n",
      "Retrieving MaterialsDoc documents: 100%|███████| 1/1 [00:00<00:00, 27235.74it/s]\n",
      "Retrieving MaterialsDoc documents: 100%|███████| 1/1 [00:00<00:00, 27776.85it/s]\n",
      "Retrieving MaterialsDoc documents: 100%|███████| 1/1 [00:00<00:00, 27962.03it/s]\n",
      "Retrieving MaterialsDoc documents: 100%|███████| 1/1 [00:00<00:00, 30174.85it/s]\n",
      "Retrieving MaterialsDoc documents: 100%|███████| 1/1 [00:00<00:00, 30393.51it/s]\n",
      "Retrieving MaterialsDoc documents: 100%|███████| 1/1 [00:00<00:00, 27962.03it/s]\n",
      "Retrieving MaterialsDoc documents: 100%|███████| 1/1 [00:00<00:00, 28532.68it/s]\n",
      "Retrieving MaterialsDoc documents: 100%|███████| 1/1 [00:00<00:00, 27776.85it/s]\n",
      "Retrieving MaterialsDoc documents: 100%|███████| 1/1 [00:00<00:00, 28532.68it/s]\n",
      "Retrieving MaterialsDoc documents: 100%|███████| 1/1 [00:00<00:00, 27235.74it/s]\n",
      "Retrieving MaterialsDoc documents: 100%|███████| 1/1 [00:00<00:00, 23831.27it/s]\n",
      "Retrieving MaterialsDoc documents: 100%|███████| 1/1 [00:00<00:00, 29330.80it/s]\n",
      "Retrieving MaterialsDoc documents: 100%|███████| 1/1 [00:00<00:00, 27594.11it/s]\n",
      "Retrieving MaterialsDoc documents: 100%|███████| 1/1 [00:00<00:00, 28728.11it/s]\n",
      "Retrieving MaterialsDoc documents: 100%|███████| 1/1 [00:00<00:00, 26214.40it/s]\n",
      "Retrieving MaterialsDoc documents: 0it [00:00, ?it/s]\n"
     ]
    },
    {
     "name": "stdout",
     "output_type": "stream",
     "text": [
      "Error occurred for material ID mp-559175: 'list' object has no attribute 'to'\n"
     ]
    },
    {
     "name": "stderr",
     "output_type": "stream",
     "text": [
      "Retrieving MaterialsDoc documents: 100%|███████| 1/1 [00:00<00:00, 29537.35it/s]\n",
      "Retrieving MaterialsDoc documents: 100%|███████| 1/1 [00:00<00:00, 31300.78it/s]\n",
      "Retrieving MaterialsDoc documents: 100%|███████| 1/1 [00:00<00:00, 29537.35it/s]\n",
      "Retrieving MaterialsDoc documents: 100%|███████| 1/1 [00:00<00:00, 29330.80it/s]\n",
      "Retrieving MaterialsDoc documents: 100%|███████| 1/1 [00:00<00:00, 27776.85it/s]\n",
      "Retrieving MaterialsDoc documents: 100%|███████| 1/1 [00:00<00:00, 27594.11it/s]\n",
      "Retrieving MaterialsDoc documents: 100%|███████| 1/1 [00:00<00:00, 28532.68it/s]\n",
      "Retrieving MaterialsDoc documents: 100%|███████| 1/1 [00:00<00:00, 27776.85it/s]\n",
      "Retrieving MaterialsDoc documents: 100%|███████| 1/1 [00:00<00:00, 16384.00it/s]\n",
      "Retrieving MaterialsDoc documents: 100%|███████| 1/1 [00:00<00:00, 28532.68it/s]\n",
      "Retrieving MaterialsDoc documents: 100%|███████| 1/1 [00:00<00:00, 25575.02it/s]\n",
      "Retrieving MaterialsDoc documents: 100%|███████| 1/1 [00:00<00:00, 28532.68it/s]\n",
      "Retrieving MaterialsDoc documents: 100%|███████| 1/1 [00:00<00:00, 32263.88it/s]\n",
      "Retrieving MaterialsDoc documents: 100%|███████| 1/1 [00:00<00:00, 26886.56it/s]\n",
      "Retrieving MaterialsDoc documents: 100%|███████| 1/1 [00:00<00:00, 28728.11it/s]\n",
      "Retrieving MaterialsDoc documents: 100%|███████| 1/1 [00:00<00:00, 28532.68it/s]\n",
      "Retrieving MaterialsDoc documents: 100%|███████| 1/1 [00:00<00:00, 29330.80it/s]\n",
      "Retrieving MaterialsDoc documents: 100%|███████| 1/1 [00:00<00:00, 28728.11it/s]\n",
      "Retrieving MaterialsDoc documents: 100%|███████| 1/1 [00:00<00:00, 27060.03it/s]\n",
      "Retrieving MaterialsDoc documents: 100%|███████| 1/1 [00:00<00:00, 29330.80it/s]\n",
      "Retrieving MaterialsDoc documents: 0it [00:00, ?it/s]\n"
     ]
    },
    {
     "name": "stdout",
     "output_type": "stream",
     "text": [
      "Error occurred for material ID mp-763095: 'list' object has no attribute 'to'\n"
     ]
    },
    {
     "name": "stderr",
     "output_type": "stream",
     "text": [
      "Retrieving MaterialsDoc documents: 100%|███████| 1/1 [00:00<00:00, 27776.85it/s]\n",
      "Retrieving MaterialsDoc documents: 100%|███████| 1/1 [00:00<00:00, 27962.03it/s]\n",
      "Retrieving MaterialsDoc documents: 100%|███████| 1/1 [00:00<00:00, 28532.68it/s]\n",
      "Retrieving MaterialsDoc documents: 100%|███████| 1/1 [00:00<00:00, 28532.68it/s]\n",
      "Retrieving MaterialsDoc documents: 100%|███████| 1/1 [00:00<00:00, 27594.11it/s]\n",
      "Retrieving MaterialsDoc documents: 100%|███████| 1/1 [00:00<00:00, 27776.85it/s]\n",
      "Retrieving MaterialsDoc documents: 100%|███████| 1/1 [00:00<00:00, 27776.85it/s]\n",
      "Retrieving MaterialsDoc documents: 100%|███████| 1/1 [00:00<00:00, 28532.68it/s]\n",
      "Retrieving MaterialsDoc documents: 100%|███████| 1/1 [00:00<00:00, 28728.11it/s]\n",
      "Retrieving MaterialsDoc documents: 100%|███████| 1/1 [00:00<00:00, 30615.36it/s]\n",
      "Retrieving MaterialsDoc documents: 100%|███████| 1/1 [00:00<00:00, 31068.92it/s]\n",
      "Retrieving MaterialsDoc documents: 100%|███████| 1/1 [00:00<00:00, 27060.03it/s]\n",
      "Retrieving MaterialsDoc documents: 100%|███████| 1/1 [00:00<00:00, 27776.85it/s]\n",
      "Retrieving MaterialsDoc documents: 100%|███████| 1/1 [00:00<00:00, 27060.03it/s]\n",
      "Retrieving MaterialsDoc documents: 100%|███████| 1/1 [00:00<00:00, 30393.51it/s]\n",
      "Retrieving MaterialsDoc documents: 100%|███████| 1/1 [00:00<00:00, 31068.92it/s]\n",
      "Retrieving MaterialsDoc documents: 100%|███████| 1/1 [00:00<00:00, 27235.74it/s]\n",
      "Retrieving MaterialsDoc documents: 100%|███████| 1/1 [00:00<00:00, 27060.03it/s]\n",
      "Retrieving MaterialsDoc documents: 100%|███████| 1/1 [00:00<00:00, 28532.68it/s]\n",
      "Retrieving MaterialsDoc documents: 100%|███████| 1/1 [00:00<00:00, 28728.11it/s]\n",
      "Retrieving MaterialsDoc documents: 100%|███████| 1/1 [00:00<00:00, 27962.03it/s]\n",
      "Retrieving MaterialsDoc documents: 100%|███████| 1/1 [00:00<00:00, 26379.27it/s]\n",
      "Retrieving MaterialsDoc documents: 100%|███████| 1/1 [00:00<00:00, 26379.27it/s]\n",
      "Retrieving MaterialsDoc documents: 100%|███████| 1/1 [00:00<00:00, 28532.68it/s]\n",
      "Retrieving MaterialsDoc documents: 100%|███████| 1/1 [00:00<00:00, 26379.27it/s]\n",
      "Retrieving MaterialsDoc documents: 100%|███████| 1/1 [00:00<00:00, 29330.80it/s]\n",
      "Retrieving MaterialsDoc documents: 100%|███████| 1/1 [00:00<00:00, 30174.85it/s]\n",
      "Retrieving MaterialsDoc documents: 100%|███████| 1/1 [00:00<00:00, 27594.11it/s]\n",
      "Retrieving MaterialsDoc documents: 0it [00:00, ?it/s]\n"
     ]
    },
    {
     "name": "stdout",
     "output_type": "stream",
     "text": [
      "Error occurred for material ID mp-867300: 'list' object has no attribute 'to'\n"
     ]
    },
    {
     "name": "stderr",
     "output_type": "stream",
     "text": [
      "Retrieving MaterialsDoc documents: 100%|███████| 1/1 [00:00<00:00, 24966.10it/s]\n",
      "Retrieving MaterialsDoc documents: 100%|███████| 1/1 [00:00<00:00, 28532.68it/s]\n",
      "Retrieving MaterialsDoc documents: 100%|███████| 1/1 [00:00<00:00, 26214.40it/s]\n",
      "Retrieving MaterialsDoc documents: 100%|███████| 1/1 [00:00<00:00, 27962.03it/s]\n",
      "Retrieving MaterialsDoc documents: 100%|███████| 1/1 [00:00<00:00, 20068.44it/s]\n",
      "Retrieving MaterialsDoc documents: 100%|███████| 1/1 [00:00<00:00, 29330.80it/s]\n",
      "Retrieving MaterialsDoc documents: 100%|███████| 1/1 [00:00<00:00, 28532.68it/s]\n",
      "Retrieving MaterialsDoc documents: 100%|███████| 1/1 [00:00<00:00, 28532.68it/s]\n",
      "Retrieving MaterialsDoc documents: 100%|███████| 1/1 [00:00<00:00, 29330.80it/s]\n",
      "Retrieving MaterialsDoc documents: 100%|███████| 1/1 [00:00<00:00, 28532.68it/s]\n",
      "Retrieving MaterialsDoc documents: 100%|███████| 1/1 [00:00<00:00, 27962.03it/s]\n",
      "Retrieving MaterialsDoc documents: 0it [00:00, ?it/s]\n"
     ]
    },
    {
     "name": "stdout",
     "output_type": "stream",
     "text": [
      "Error occurred for material ID mp-764716: 'list' object has no attribute 'to'\n"
     ]
    },
    {
     "name": "stderr",
     "output_type": "stream",
     "text": [
      "Retrieving MaterialsDoc documents: 100%|███████| 1/1 [00:00<00:00, 29330.80it/s]\n",
      "Retrieving MaterialsDoc documents: 100%|███████| 1/1 [00:00<00:00, 27962.03it/s]\n",
      "Retrieving MaterialsDoc documents: 100%|███████| 1/1 [00:00<00:00, 30393.51it/s]\n",
      "Retrieving MaterialsDoc documents: 100%|███████| 1/1 [00:00<00:00, 26214.40it/s]\n",
      "Retrieving MaterialsDoc documents: 0it [00:00, ?it/s]\n"
     ]
    },
    {
     "name": "stdout",
     "output_type": "stream",
     "text": [
      "Error occurred for material ID mp-765545: 'list' object has no attribute 'to'\n"
     ]
    },
    {
     "name": "stderr",
     "output_type": "stream",
     "text": [
      "Retrieving MaterialsDoc documents: 100%|███████| 1/1 [00:00<00:00, 27594.11it/s]\n",
      "Retrieving MaterialsDoc documents: 100%|███████| 1/1 [00:00<00:00, 28532.68it/s]\n",
      "Retrieving MaterialsDoc documents: 100%|███████| 1/1 [00:00<00:00, 25115.59it/s]\n",
      "Retrieving MaterialsDoc documents: 100%|███████| 1/1 [00:00<00:00, 27060.03it/s]\n",
      "Retrieving MaterialsDoc documents: 0it [00:00, ?it/s]\n"
     ]
    },
    {
     "name": "stdout",
     "output_type": "stream",
     "text": [
      "Error occurred for material ID mp-767016: 'list' object has no attribute 'to'\n"
     ]
    },
    {
     "name": "stderr",
     "output_type": "stream",
     "text": [
      "Retrieving MaterialsDoc documents: 100%|███████| 1/1 [00:00<00:00, 29330.80it/s]\n",
      "Retrieving MaterialsDoc documents: 100%|███████| 1/1 [00:00<00:00, 16980.99it/s]\n",
      "Retrieving MaterialsDoc documents: 100%|███████| 1/1 [00:00<00:00, 27776.85it/s]\n",
      "Retrieving MaterialsDoc documents: 100%|███████| 1/1 [00:00<00:00, 30174.85it/s]\n",
      "Retrieving MaterialsDoc documents: 100%|███████| 1/1 [00:00<00:00, 27776.85it/s]\n",
      "Retrieving MaterialsDoc documents: 100%|███████| 1/1 [00:00<00:00, 28532.68it/s]\n",
      "Retrieving MaterialsDoc documents: 100%|███████| 1/1 [00:00<00:00, 25731.93it/s]\n",
      "Retrieving MaterialsDoc documents: 100%|███████| 1/1 [00:00<00:00, 28532.68it/s]\n",
      "Retrieving MaterialsDoc documents: 100%|███████| 1/1 [00:00<00:00, 26379.27it/s]\n",
      "Retrieving MaterialsDoc documents: 100%|███████| 1/1 [00:00<00:00, 31300.78it/s]\n",
      "Retrieving MaterialsDoc documents: 100%|███████| 1/1 [00:00<00:00, 27594.11it/s]\n",
      "Retrieving MaterialsDoc documents: 100%|███████| 1/1 [00:00<00:00, 28532.68it/s]\n",
      "Retrieving MaterialsDoc documents: 100%|███████| 1/1 [00:00<00:00, 30174.85it/s]\n",
      "Retrieving MaterialsDoc documents: 100%|███████| 1/1 [00:00<00:00, 27962.03it/s]\n",
      "Retrieving MaterialsDoc documents: 100%|███████| 1/1 [00:00<00:00, 28728.11it/s]\n",
      "Retrieving MaterialsDoc documents: 100%|███████| 1/1 [00:00<00:00, 25575.02it/s]\n",
      "Retrieving MaterialsDoc documents: 100%|███████| 1/1 [00:00<00:00, 26886.56it/s]\n",
      "Retrieving MaterialsDoc documents: 100%|███████| 1/1 [00:00<00:00, 27776.85it/s]\n",
      "Retrieving MaterialsDoc documents: 100%|███████| 1/1 [00:00<00:00, 30174.85it/s]\n",
      "Retrieving MaterialsDoc documents: 0it [00:00, ?it/s]\n"
     ]
    },
    {
     "name": "stdout",
     "output_type": "stream",
     "text": [
      "Error occurred for material ID mp-25122: 'list' object has no attribute 'to'\n"
     ]
    },
    {
     "name": "stderr",
     "output_type": "stream",
     "text": [
      "Retrieving MaterialsDoc documents: 100%|███████| 1/1 [00:00<00:00, 27962.03it/s]\n",
      "Retrieving MaterialsDoc documents: 100%|███████| 1/1 [00:00<00:00, 26379.27it/s]\n",
      "Retrieving MaterialsDoc documents: 100%|███████| 1/1 [00:00<00:00, 27962.03it/s]\n",
      "Retrieving MaterialsDoc documents: 100%|███████| 1/1 [00:00<00:00, 27594.11it/s]\n",
      "Retrieving MaterialsDoc documents: 0it [00:00, ?it/s]\n"
     ]
    },
    {
     "name": "stdout",
     "output_type": "stream",
     "text": [
      "Error occurred for material ID mp-714882: 'list' object has no attribute 'to'\n"
     ]
    },
    {
     "name": "stderr",
     "output_type": "stream",
     "text": [
      "Retrieving MaterialsDoc documents: 100%|███████| 1/1 [00:00<00:00, 27776.85it/s]\n",
      "Retrieving MaterialsDoc documents: 100%|███████| 1/1 [00:00<00:00, 28728.11it/s]\n",
      "Retrieving MaterialsDoc documents: 100%|███████| 1/1 [00:00<00:00, 25115.59it/s]\n",
      "Retrieving MaterialsDoc documents: 100%|███████| 1/1 [00:00<00:00, 27776.85it/s]\n",
      "Retrieving MaterialsDoc documents: 100%|███████| 1/1 [00:00<00:00, 28339.89it/s]\n",
      "Retrieving MaterialsDoc documents: 100%|███████| 1/1 [00:00<00:00, 28728.11it/s]\n",
      "Retrieving MaterialsDoc documents: 100%|███████| 1/1 [00:00<00:00, 27776.85it/s]\n",
      "Retrieving MaterialsDoc documents: 100%|███████| 1/1 [00:00<00:00, 27235.74it/s]\n",
      "Retrieving MaterialsDoc documents: 100%|███████| 1/1 [00:00<00:00, 29330.80it/s]\n",
      "Retrieving MaterialsDoc documents: 100%|███████| 1/1 [00:00<00:00, 28532.68it/s]\n",
      "Retrieving MaterialsDoc documents: 0it [00:00, ?it/s]\n"
     ]
    },
    {
     "name": "stdout",
     "output_type": "stream",
     "text": [
      "Error occurred for material ID mp-764360: 'list' object has no attribute 'to'\n"
     ]
    },
    {
     "name": "stderr",
     "output_type": "stream",
     "text": [
      "Retrieving MaterialsDoc documents: 100%|███████| 1/1 [00:00<00:00, 27235.74it/s]\n",
      "Retrieving MaterialsDoc documents: 0it [00:00, ?it/s]\n"
     ]
    },
    {
     "name": "stdout",
     "output_type": "stream",
     "text": [
      "Error occurred for material ID mp-776137: 'list' object has no attribute 'to'\n"
     ]
    },
    {
     "name": "stderr",
     "output_type": "stream",
     "text": [
      "Retrieving MaterialsDoc documents: 100%|███████| 1/1 [00:00<00:00, 26886.56it/s]\n",
      "Retrieving MaterialsDoc documents: 100%|███████| 1/1 [00:00<00:00, 28728.11it/s]\n",
      "Retrieving MaterialsDoc documents: 100%|███████| 1/1 [00:00<00:00, 32263.88it/s]\n",
      "Retrieving MaterialsDoc documents: 100%|███████| 1/1 [00:00<00:00, 27060.03it/s]\n",
      "Retrieving MaterialsDoc documents: 100%|███████| 1/1 [00:00<00:00, 31300.78it/s]\n",
      "Retrieving MaterialsDoc documents: 100%|███████| 1/1 [00:00<00:00, 27776.85it/s]\n",
      "Retrieving MaterialsDoc documents: 100%|███████| 1/1 [00:00<00:00, 27235.74it/s]\n",
      "Retrieving MaterialsDoc documents: 100%|███████| 1/1 [00:00<00:00, 28532.68it/s]\n",
      "Retrieving MaterialsDoc documents: 100%|███████| 1/1 [00:00<00:00, 27060.03it/s]\n",
      "Retrieving MaterialsDoc documents: 0it [00:00, ?it/s]\n"
     ]
    },
    {
     "name": "stdout",
     "output_type": "stream",
     "text": [
      "Error occurred for material ID mp-764312: 'list' object has no attribute 'to'\n"
     ]
    },
    {
     "name": "stderr",
     "output_type": "stream",
     "text": [
      "Retrieving MaterialsDoc documents: 100%|███████| 1/1 [00:00<00:00, 29330.80it/s]\n",
      "Retrieving MaterialsDoc documents: 100%|███████| 1/1 [00:00<00:00, 30393.51it/s]\n",
      "Retrieving MaterialsDoc documents: 0it [00:00, ?it/s]\n"
     ]
    },
    {
     "name": "stdout",
     "output_type": "stream",
     "text": [
      "Error occurred for material ID mp-773305: 'list' object has no attribute 'to'\n"
     ]
    },
    {
     "name": "stderr",
     "output_type": "stream",
     "text": [
      "Retrieving MaterialsDoc documents: 100%|███████| 1/1 [00:00<00:00, 27594.11it/s]\n",
      "Retrieving MaterialsDoc documents: 100%|███████| 1/1 [00:00<00:00, 29330.80it/s]\n",
      "Retrieving MaterialsDoc documents: 100%|███████| 1/1 [00:00<00:00, 29330.80it/s]\n",
      "Retrieving MaterialsDoc documents: 100%|███████| 1/1 [00:00<00:00, 24385.49it/s]\n",
      "Retrieving MaterialsDoc documents: 100%|███████| 1/1 [00:00<00:00, 26886.56it/s]\n",
      "Retrieving MaterialsDoc documents: 100%|███████| 1/1 [00:00<00:00, 27594.11it/s]\n",
      "Retrieving MaterialsDoc documents: 100%|███████| 1/1 [00:00<00:00, 26379.27it/s]\n",
      "Retrieving MaterialsDoc documents: 100%|███████| 1/1 [00:00<00:00, 27776.85it/s]\n",
      "Retrieving MaterialsDoc documents: 100%|███████| 1/1 [00:00<00:00, 28728.11it/s]\n",
      "Retrieving MaterialsDoc documents: 100%|███████| 1/1 [00:00<00:00, 27962.03it/s]\n",
      "Retrieving MaterialsDoc documents: 100%|███████| 1/1 [00:00<00:00, 28339.89it/s]\n",
      "Retrieving MaterialsDoc documents: 100%|███████| 1/1 [00:00<00:00, 27060.03it/s]\n",
      "Retrieving MaterialsDoc documents: 100%|███████| 1/1 [00:00<00:00, 27962.03it/s]\n",
      "Retrieving MaterialsDoc documents: 100%|███████| 1/1 [00:00<00:00, 19508.39it/s]\n",
      "Retrieving MaterialsDoc documents: 100%|███████| 1/1 [00:00<00:00, 28532.68it/s]\n",
      "Retrieving MaterialsDoc documents: 100%|███████| 1/1 [00:00<00:00, 28532.68it/s]\n",
      "Retrieving MaterialsDoc documents: 100%|███████| 1/1 [00:00<00:00, 28532.68it/s]\n",
      "Retrieving MaterialsDoc documents: 100%|███████| 1/1 [00:00<00:00, 28728.11it/s]\n",
      "Retrieving MaterialsDoc documents: 0it [00:00, ?it/s]\n"
     ]
    },
    {
     "name": "stdout",
     "output_type": "stream",
     "text": [
      "Error occurred for material ID mp-766906: 'list' object has no attribute 'to'\n"
     ]
    },
    {
     "name": "stderr",
     "output_type": "stream",
     "text": [
      "Retrieving MaterialsDoc documents: 100%|███████| 1/1 [00:00<00:00, 31300.78it/s]\n",
      "Retrieving MaterialsDoc documents: 100%|███████| 1/1 [00:00<00:00, 28532.68it/s]\n",
      "Retrieving MaterialsDoc documents: 100%|███████| 1/1 [00:00<00:00, 27776.85it/s]\n",
      "Retrieving MaterialsDoc documents: 100%|███████| 1/1 [00:00<00:00, 28532.68it/s]\n",
      "Retrieving MaterialsDoc documents: 100%|███████| 1/1 [00:00<00:00, 30174.85it/s]\n",
      "Retrieving MaterialsDoc documents: 100%|███████| 1/1 [00:00<00:00, 27962.03it/s]\n",
      "Retrieving MaterialsDoc documents: 100%|███████| 1/1 [00:00<00:00, 29330.80it/s]\n",
      "Retrieving MaterialsDoc documents: 100%|███████| 1/1 [00:00<00:00, 29330.80it/s]\n",
      "Retrieving MaterialsDoc documents: 100%|███████| 1/1 [00:00<00:00, 29330.80it/s]\n",
      "Retrieving MaterialsDoc documents: 100%|███████| 1/1 [00:00<00:00, 27962.03it/s]\n",
      "Retrieving MaterialsDoc documents: 100%|███████| 1/1 [00:00<00:00, 18157.16it/s]\n",
      "Retrieving MaterialsDoc documents: 100%|███████| 1/1 [00:00<00:00, 29537.35it/s]\n",
      "Retrieving MaterialsDoc documents: 100%|███████| 1/1 [00:00<00:00, 29330.80it/s]\n",
      "Retrieving MaterialsDoc documents: 100%|███████| 1/1 [00:00<00:00, 25731.93it/s]\n",
      "Retrieving MaterialsDoc documents: 100%|███████| 1/1 [00:00<00:00, 26886.56it/s]\n",
      "Retrieving MaterialsDoc documents: 100%|███████| 1/1 [00:00<00:00, 28532.68it/s]\n",
      "Retrieving MaterialsDoc documents: 100%|███████| 1/1 [00:00<00:00, 30174.85it/s]\n",
      "Retrieving MaterialsDoc documents: 100%|███████| 1/1 [00:00<00:00, 28728.11it/s]\n",
      "Retrieving MaterialsDoc documents: 100%|███████| 1/1 [00:00<00:00, 30393.51it/s]\n",
      "Retrieving MaterialsDoc documents: 100%|███████| 1/1 [00:00<00:00, 28532.68it/s]\n",
      "Retrieving MaterialsDoc documents: 100%|███████| 1/1 [00:00<00:00, 30174.85it/s]\n",
      "Retrieving MaterialsDoc documents: 100%|███████| 1/1 [00:00<00:00, 26214.40it/s]\n",
      "Retrieving MaterialsDoc documents: 100%|███████| 1/1 [00:00<00:00, 18808.54it/s]\n",
      "Retrieving MaterialsDoc documents: 100%|███████| 1/1 [00:00<00:00, 16578.28it/s]\n",
      "Retrieving MaterialsDoc documents: 100%|███████| 1/1 [00:00<00:00, 26214.40it/s]\n",
      "Retrieving MaterialsDoc documents: 0it [00:00, ?it/s]\n"
     ]
    },
    {
     "name": "stdout",
     "output_type": "stream",
     "text": [
      "Error occurred for material ID mp-764286: 'list' object has no attribute 'to'\n"
     ]
    },
    {
     "name": "stderr",
     "output_type": "stream",
     "text": [
      "Retrieving MaterialsDoc documents: 100%|███████| 1/1 [00:00<00:00, 26886.56it/s]\n",
      "Retrieving MaterialsDoc documents: 100%|███████| 1/1 [00:00<00:00, 24966.10it/s]\n",
      "Retrieving MaterialsDoc documents: 100%|███████| 1/1 [00:00<00:00, 25731.93it/s]\n",
      "Retrieving MaterialsDoc documents: 100%|███████| 1/1 [00:00<00:00, 27776.85it/s]\n",
      "Retrieving MaterialsDoc documents: 100%|███████| 1/1 [00:00<00:00, 31068.92it/s]\n",
      "Retrieving MaterialsDoc documents: 100%|███████| 1/1 [00:00<00:00, 28532.68it/s]\n",
      "Retrieving MaterialsDoc documents: 100%|███████| 1/1 [00:00<00:00, 23301.69it/s]\n",
      "Retrieving MaterialsDoc documents: 100%|███████| 1/1 [00:00<00:00, 29330.80it/s]\n",
      "Retrieving MaterialsDoc documents: 100%|███████| 1/1 [00:00<00:00, 25115.59it/s]\n",
      "Retrieving MaterialsDoc documents: 100%|███████| 1/1 [00:00<00:00, 28532.68it/s]\n",
      "Retrieving MaterialsDoc documents: 100%|███████| 1/1 [00:00<00:00, 28532.68it/s]\n",
      "Retrieving MaterialsDoc documents: 100%|███████| 1/1 [00:00<00:00, 28532.68it/s]\n",
      "Retrieving MaterialsDoc documents: 100%|███████| 1/1 [00:00<00:00, 28532.68it/s]\n",
      "Retrieving MaterialsDoc documents: 100%|███████| 1/1 [00:00<00:00, 28728.11it/s]\n",
      "Retrieving MaterialsDoc documents: 100%|███████| 1/1 [00:00<00:00, 29537.35it/s]\n",
      "Retrieving MaterialsDoc documents: 100%|███████| 1/1 [00:00<00:00, 28728.11it/s]\n",
      "Retrieving MaterialsDoc documents: 100%|███████| 1/1 [00:00<00:00, 20068.44it/s]\n",
      "Retrieving MaterialsDoc documents: 100%|███████| 1/1 [00:00<00:00, 29746.84it/s]\n",
      "Retrieving MaterialsDoc documents: 100%|███████| 1/1 [00:00<00:00, 29330.80it/s]\n",
      "Retrieving MaterialsDoc documents: 100%|███████| 1/1 [00:00<00:00, 28532.68it/s]\n",
      "Retrieving MaterialsDoc documents: 100%|███████| 1/1 [00:00<00:00, 27776.85it/s]\n",
      "Retrieving MaterialsDoc documents: 100%|███████| 1/1 [00:00<00:00, 25731.93it/s]\n",
      "Retrieving MaterialsDoc documents: 0it [00:00, ?it/s]\n"
     ]
    },
    {
     "name": "stdout",
     "output_type": "stream",
     "text": [
      "Error occurred for material ID mp-764895: 'list' object has no attribute 'to'\n"
     ]
    },
    {
     "name": "stderr",
     "output_type": "stream",
     "text": [
      "Retrieving MaterialsDoc documents: 100%|███████| 1/1 [00:00<00:00, 19239.93it/s]\n",
      "Retrieving MaterialsDoc documents: 100%|███████| 1/1 [00:00<00:00, 26886.56it/s]\n",
      "Retrieving MaterialsDoc documents: 100%|███████| 1/1 [00:00<00:00, 32263.88it/s]\n",
      "Retrieving MaterialsDoc documents: 100%|███████| 1/1 [00:00<00:00, 29537.35it/s]\n",
      "Retrieving MaterialsDoc documents: 100%|███████| 1/1 [00:00<00:00, 30174.85it/s]\n",
      "Retrieving MaterialsDoc documents: 100%|███████| 1/1 [00:00<00:00, 31300.78it/s]\n",
      "Retrieving MaterialsDoc documents: 100%|███████| 1/1 [00:00<00:00, 30393.51it/s]\n",
      "Retrieving MaterialsDoc documents: 100%|███████| 1/1 [00:00<00:00, 28728.11it/s]\n",
      "Retrieving MaterialsDoc documents: 100%|███████| 1/1 [00:00<00:00, 27235.74it/s]\n",
      "Retrieving MaterialsDoc documents: 100%|███████| 1/1 [00:00<00:00, 25420.02it/s]\n",
      "Retrieving MaterialsDoc documents: 100%|███████| 1/1 [00:00<00:00, 28532.68it/s]\n",
      "Retrieving MaterialsDoc documents: 100%|███████| 1/1 [00:00<00:00, 28728.11it/s]\n",
      "Retrieving MaterialsDoc documents: 100%|███████| 1/1 [00:00<00:00, 23831.27it/s]\n",
      "Retrieving MaterialsDoc documents: 100%|███████| 1/1 [00:00<00:00, 29330.80it/s]\n",
      "Retrieving MaterialsDoc documents: 100%|███████| 1/1 [00:00<00:00, 29330.80it/s]\n",
      "Retrieving MaterialsDoc documents: 100%|███████| 1/1 [00:00<00:00, 27235.74it/s]\n",
      "Retrieving MaterialsDoc documents: 100%|███████| 1/1 [00:00<00:00, 28532.68it/s]\n",
      "Retrieving MaterialsDoc documents: 100%|███████| 1/1 [00:00<00:00, 28728.11it/s]\n",
      "Retrieving MaterialsDoc documents: 100%|███████| 1/1 [00:00<00:00, 26886.56it/s]\n",
      "Retrieving MaterialsDoc documents: 100%|███████| 1/1 [00:00<00:00, 29537.35it/s]\n",
      "Retrieving MaterialsDoc documents: 100%|███████| 1/1 [00:00<00:00, 27776.85it/s]\n",
      "Retrieving MaterialsDoc documents: 100%|███████| 1/1 [00:00<00:00, 26886.56it/s]\n",
      "Retrieving MaterialsDoc documents: 100%|███████| 1/1 [00:00<00:00, 26886.56it/s]\n",
      "Retrieving MaterialsDoc documents: 100%|███████| 1/1 [00:00<00:00, 29537.35it/s]\n",
      "Retrieving MaterialsDoc documents: 100%|███████| 1/1 [00:00<00:00, 29330.80it/s]\n",
      "Retrieving MaterialsDoc documents: 100%|███████| 1/1 [00:00<00:00, 29330.80it/s]\n",
      "Retrieving MaterialsDoc documents: 100%|███████| 1/1 [00:00<00:00, 28532.68it/s]\n",
      "Retrieving MaterialsDoc documents: 0it [00:00, ?it/s]\n"
     ]
    },
    {
     "name": "stdout",
     "output_type": "stream",
     "text": [
      "Error occurred for material ID mp-25172: 'list' object has no attribute 'to'\n"
     ]
    },
    {
     "name": "stderr",
     "output_type": "stream",
     "text": [
      "Retrieving MaterialsDoc documents: 100%|███████| 1/1 [00:00<00:00, 30174.85it/s]\n",
      "Retrieving MaterialsDoc documents: 100%|███████| 1/1 [00:00<00:00, 29330.80it/s]\n",
      "Retrieving MaterialsDoc documents: 100%|███████| 1/1 [00:00<00:00, 27060.03it/s]\n",
      "Retrieving MaterialsDoc documents: 100%|███████| 1/1 [00:00<00:00, 18477.11it/s]\n",
      "Retrieving MaterialsDoc documents: 100%|███████| 1/1 [00:00<00:00, 27776.85it/s]\n",
      "Retrieving MaterialsDoc documents: 100%|███████| 1/1 [00:00<00:00, 30393.51it/s]\n",
      "Retrieving MaterialsDoc documents: 100%|███████| 1/1 [00:00<00:00, 28339.89it/s]\n",
      "Retrieving MaterialsDoc documents: 100%|███████| 1/1 [00:00<00:00, 28339.89it/s]\n",
      "Retrieving MaterialsDoc documents: 100%|███████| 1/1 [00:00<00:00, 29330.80it/s]\n",
      "Retrieving MaterialsDoc documents: 100%|███████| 1/1 [00:00<00:00, 27594.11it/s]\n",
      "Retrieving MaterialsDoc documents: 100%|███████| 1/1 [00:00<00:00, 30174.85it/s]\n",
      "Retrieving MaterialsDoc documents: 100%|███████| 1/1 [00:00<00:00, 28728.11it/s]\n",
      "Retrieving MaterialsDoc documents: 100%|███████| 1/1 [00:00<00:00, 26379.27it/s]\n",
      "Retrieving MaterialsDoc documents: 100%|███████| 1/1 [00:00<00:00, 30174.85it/s]\n",
      "Retrieving MaterialsDoc documents: 100%|███████| 1/1 [00:00<00:00, 27776.85it/s]\n",
      "Retrieving MaterialsDoc documents: 100%|███████| 1/1 [00:00<00:00, 21732.15it/s]\n",
      "Retrieving MaterialsDoc documents: 100%|███████| 1/1 [00:00<00:00, 29330.80it/s]\n",
      "Retrieving MaterialsDoc documents: 100%|███████| 1/1 [00:00<00:00, 28532.68it/s]\n",
      "Retrieving MaterialsDoc documents: 100%|███████| 1/1 [00:00<00:00, 29537.35it/s]\n",
      "Retrieving MaterialsDoc documents: 100%|███████| 1/1 [00:00<00:00, 27594.11it/s]\n",
      "Retrieving MaterialsDoc documents: 100%|███████| 1/1 [00:00<00:00, 28532.68it/s]\n",
      "Retrieving MaterialsDoc documents: 100%|███████| 1/1 [00:00<00:00, 28532.68it/s]\n",
      "Retrieving MaterialsDoc documents: 100%|███████| 1/1 [00:00<00:00, 30393.51it/s]\n",
      "Retrieving MaterialsDoc documents: 100%|███████| 1/1 [00:00<00:00, 27060.03it/s]\n",
      "Retrieving MaterialsDoc documents: 100%|███████| 1/1 [00:00<00:00, 24385.49it/s]\n",
      "Retrieving MaterialsDoc documents: 100%|███████| 1/1 [00:00<00:00, 32263.88it/s]\n",
      "Retrieving MaterialsDoc documents: 100%|███████| 1/1 [00:00<00:00, 26379.27it/s]\n",
      "Retrieving MaterialsDoc documents: 100%|███████| 1/1 [00:00<00:00, 29330.80it/s]\n",
      "Retrieving MaterialsDoc documents: 100%|███████| 1/1 [00:00<00:00, 28532.68it/s]\n",
      "Retrieving MaterialsDoc documents: 100%|███████| 1/1 [00:00<00:00, 27776.85it/s]\n",
      "Retrieving MaterialsDoc documents: 100%|███████| 1/1 [00:00<00:00, 29330.80it/s]\n",
      "Retrieving MaterialsDoc documents: 100%|███████| 1/1 [00:00<00:00, 18236.10it/s]\n",
      "Retrieving MaterialsDoc documents: 100%|███████| 1/1 [00:00<00:00, 28532.68it/s]\n",
      "Retrieving MaterialsDoc documents: 100%|███████| 1/1 [00:00<00:00, 29537.35it/s]\n",
      "Retrieving MaterialsDoc documents: 100%|███████| 1/1 [00:00<00:00, 33554.43it/s]\n",
      "Retrieving MaterialsDoc documents: 100%|███████| 1/1 [00:00<00:00, 26886.56it/s]\n",
      "Retrieving MaterialsDoc documents: 100%|███████| 1/1 [00:00<00:00, 32017.59it/s]\n",
      "Retrieving MaterialsDoc documents: 100%|███████| 1/1 [00:00<00:00, 31300.78it/s]\n",
      "Retrieving MaterialsDoc documents: 100%|███████| 1/1 [00:00<00:00, 30174.85it/s]\n",
      "Retrieving MaterialsDoc documents: 100%|███████| 1/1 [00:00<00:00, 33288.13it/s]\n",
      "Retrieving MaterialsDoc documents: 100%|███████| 1/1 [00:00<00:00, 28532.68it/s]\n",
      "Retrieving MaterialsDoc documents: 100%|███████| 1/1 [00:00<00:00, 28532.68it/s]\n",
      "Retrieving MaterialsDoc documents: 100%|███████| 1/1 [00:00<00:00, 31300.78it/s]\n",
      "Retrieving MaterialsDoc documents: 100%|███████| 1/1 [00:00<00:00, 27594.11it/s]\n",
      "Retrieving MaterialsDoc documents: 100%|███████| 1/1 [00:00<00:00, 28532.68it/s]\n",
      "Retrieving MaterialsDoc documents: 100%|███████| 1/1 [00:00<00:00, 29537.35it/s]\n",
      "Retrieving MaterialsDoc documents: 100%|███████| 1/1 [00:00<00:00, 18558.87it/s]\n",
      "Retrieving MaterialsDoc documents: 100%|███████| 1/1 [00:00<00:00, 28728.11it/s]\n",
      "Retrieving MaterialsDoc documents: 100%|███████| 1/1 [00:00<00:00, 28532.68it/s]\n",
      "Retrieving MaterialsDoc documents: 100%|███████| 1/1 [00:00<00:00, 28728.11it/s]\n",
      "Retrieving MaterialsDoc documents: 100%|███████| 1/1 [00:00<00:00, 28532.68it/s]\n",
      "Retrieving MaterialsDoc documents: 100%|███████| 1/1 [00:00<00:00, 28532.68it/s]\n",
      "Retrieving MaterialsDoc documents: 100%|███████| 1/1 [00:00<00:00, 27776.85it/s]\n",
      "Retrieving MaterialsDoc documents: 100%|███████| 1/1 [00:00<00:00, 29330.80it/s]\n",
      "Retrieving MaterialsDoc documents: 100%|███████| 1/1 [00:00<00:00, 27776.85it/s]\n",
      "Retrieving MaterialsDoc documents: 100%|███████| 1/1 [00:00<00:00, 27594.11it/s]\n",
      "Retrieving MaterialsDoc documents: 0it [00:00, ?it/s]\n"
     ]
    },
    {
     "name": "stdout",
     "output_type": "stream",
     "text": [
      "Error occurred for material ID mp-716509: 'list' object has no attribute 'to'\n"
     ]
    },
    {
     "name": "stderr",
     "output_type": "stream",
     "text": [
      "Retrieving MaterialsDoc documents: 100%|███████| 1/1 [00:00<00:00, 28728.11it/s]\n",
      "Retrieving MaterialsDoc documents: 100%|███████| 1/1 [00:00<00:00, 27962.03it/s]\n",
      "Retrieving MaterialsDoc documents: 0it [00:00, ?it/s]\n"
     ]
    },
    {
     "name": "stdout",
     "output_type": "stream",
     "text": [
      "Error occurred for material ID mp-543096: 'list' object has no attribute 'to'\n"
     ]
    },
    {
     "name": "stderr",
     "output_type": "stream",
     "text": [
      "Retrieving MaterialsDoc documents: 100%|███████| 1/1 [00:00<00:00, 25731.93it/s]\n",
      "Retrieving MaterialsDoc documents: 100%|███████| 1/1 [00:00<00:00, 27776.85it/s]\n",
      "Retrieving MaterialsDoc documents: 100%|███████| 1/1 [00:00<00:00, 27776.85it/s]\n",
      "Retrieving MaterialsDoc documents: 100%|███████| 1/1 [00:00<00:00, 28532.68it/s]\n",
      "Retrieving MaterialsDoc documents: 100%|███████| 1/1 [00:00<00:00, 27962.03it/s]\n",
      "Retrieving MaterialsDoc documents: 100%|███████| 1/1 [00:00<00:00, 29330.80it/s]\n",
      "Retrieving MaterialsDoc documents: 100%|███████| 1/1 [00:00<00:00, 25115.59it/s]\n",
      "Retrieving MaterialsDoc documents: 100%|███████| 1/1 [00:00<00:00, 26379.27it/s]\n",
      "Retrieving MaterialsDoc documents: 100%|███████| 1/1 [00:00<00:00, 31300.78it/s]\n",
      "Retrieving MaterialsDoc documents: 100%|███████| 1/1 [00:00<00:00, 28728.11it/s]\n",
      "Retrieving MaterialsDoc documents: 100%|███████| 1/1 [00:00<00:00, 24528.09it/s]\n",
      "Retrieving MaterialsDoc documents: 0it [00:00, ?it/s]\n"
     ]
    },
    {
     "name": "stdout",
     "output_type": "stream",
     "text": [
      "Error occurred for material ID mp-556520: 'list' object has no attribute 'to'\n"
     ]
    },
    {
     "name": "stderr",
     "output_type": "stream",
     "text": [
      "Retrieving MaterialsDoc documents: 100%|███████| 1/1 [00:00<00:00, 27962.03it/s]\n",
      "Retrieving MaterialsDoc documents: 100%|███████| 1/1 [00:00<00:00, 27962.03it/s]\n",
      "Retrieving MaterialsDoc documents: 100%|███████| 1/1 [00:00<00:00, 22795.13it/s]\n",
      "Retrieving MaterialsDoc documents: 100%|███████| 1/1 [00:00<00:00, 26379.27it/s]\n",
      "Retrieving MaterialsDoc documents: 100%|███████| 1/1 [00:00<00:00, 29330.80it/s]\n",
      "Retrieving MaterialsDoc documents: 100%|███████| 1/1 [00:00<00:00, 28728.11it/s]\n",
      "Retrieving MaterialsDoc documents: 100%|███████| 1/1 [00:00<00:00, 28532.68it/s]\n",
      "Retrieving MaterialsDoc documents: 100%|███████| 1/1 [00:00<00:00, 27594.11it/s]\n",
      "Retrieving MaterialsDoc documents: 100%|███████| 1/1 [00:00<00:00, 30393.51it/s]\n",
      "Retrieving MaterialsDoc documents: 100%|███████| 1/1 [00:00<00:00, 30393.51it/s]\n",
      "Retrieving MaterialsDoc documents: 100%|███████| 1/1 [00:00<00:00, 28532.68it/s]\n",
      "Retrieving MaterialsDoc documents: 100%|███████| 1/1 [00:00<00:00, 27776.85it/s]\n",
      "Retrieving MaterialsDoc documents: 0it [00:00, ?it/s]\n"
     ]
    },
    {
     "name": "stdout",
     "output_type": "stream",
     "text": [
      "Error occurred for material ID mp-769889: 'list' object has no attribute 'to'\n"
     ]
    },
    {
     "name": "stderr",
     "output_type": "stream",
     "text": [
      "Retrieving MaterialsDoc documents: 100%|███████| 1/1 [00:00<00:00, 28532.68it/s]\n",
      "Retrieving MaterialsDoc documents: 0it [00:00, ?it/s]\n"
     ]
    },
    {
     "name": "stdout",
     "output_type": "stream",
     "text": [
      "Error occurred for material ID mp-765966: 'list' object has no attribute 'to'\n"
     ]
    },
    {
     "name": "stderr",
     "output_type": "stream",
     "text": [
      "Retrieving MaterialsDoc documents: 100%|███████| 1/1 [00:00<00:00, 27060.03it/s]\n",
      "Retrieving MaterialsDoc documents: 100%|███████| 1/1 [00:00<00:00, 29330.80it/s]\n",
      "Retrieving MaterialsDoc documents: 100%|███████| 1/1 [00:00<00:00, 29537.35it/s]\n",
      "Retrieving MaterialsDoc documents: 100%|███████| 1/1 [00:00<00:00, 27776.85it/s]\n",
      "Retrieving MaterialsDoc documents: 100%|███████| 1/1 [00:00<00:00, 25575.02it/s]\n",
      "Retrieving MaterialsDoc documents: 100%|███████| 1/1 [00:00<00:00, 28532.68it/s]\n",
      "Retrieving MaterialsDoc documents: 100%|███████| 1/1 [00:00<00:00, 27776.85it/s]\n",
      "Retrieving MaterialsDoc documents: 100%|███████| 1/1 [00:00<00:00, 29330.80it/s]\n",
      "Retrieving MaterialsDoc documents: 100%|███████| 1/1 [00:00<00:00, 30393.51it/s]\n",
      "Retrieving MaterialsDoc documents: 100%|███████| 1/1 [00:00<00:00, 29537.35it/s]\n",
      "Retrieving MaterialsDoc documents: 100%|███████| 1/1 [00:00<00:00, 27776.85it/s]\n",
      "Retrieving MaterialsDoc documents: 100%|███████| 1/1 [00:00<00:00, 28532.68it/s]\n",
      "Retrieving MaterialsDoc documents: 100%|███████| 1/1 [00:00<00:00, 31300.78it/s]\n",
      "Retrieving MaterialsDoc documents: 100%|███████| 1/1 [00:00<00:00, 27776.85it/s]\n",
      "Retrieving MaterialsDoc documents: 100%|███████| 1/1 [00:00<00:00, 29330.80it/s]\n",
      "Retrieving MaterialsDoc documents: 100%|███████| 1/1 [00:00<00:00, 29746.84it/s]\n",
      "Retrieving MaterialsDoc documents: 100%|███████| 1/1 [00:00<00:00, 19972.88it/s]\n",
      "Retrieving MaterialsDoc documents: 100%|███████| 1/1 [00:00<00:00, 27962.03it/s]\n",
      "Retrieving MaterialsDoc documents: 0it [00:00, ?it/s]\n"
     ]
    },
    {
     "name": "stdout",
     "output_type": "stream",
     "text": [
      "Error occurred for material ID mp-504878: 'list' object has no attribute 'to'\n"
     ]
    },
    {
     "name": "stderr",
     "output_type": "stream",
     "text": [
      "Retrieving MaterialsDoc documents: 100%|███████| 1/1 [00:00<00:00, 26886.56it/s]\n",
      "Retrieving MaterialsDoc documents: 100%|███████| 1/1 [00:00<00:00, 27594.11it/s]\n",
      "Retrieving MaterialsDoc documents: 100%|███████| 1/1 [00:00<00:00, 27776.85it/s]\n",
      "Retrieving MaterialsDoc documents: 100%|███████| 1/1 [00:00<00:00, 27594.11it/s]\n",
      "Retrieving MaterialsDoc documents: 100%|███████| 1/1 [00:00<00:00, 30393.51it/s]\n",
      "Retrieving MaterialsDoc documents: 100%|███████| 1/1 [00:00<00:00, 28728.11it/s]\n",
      "Retrieving MaterialsDoc documents: 100%|███████| 1/1 [00:00<00:00, 27235.74it/s]\n",
      "Retrieving MaterialsDoc documents: 100%|███████| 1/1 [00:00<00:00, 29537.35it/s]\n",
      "Retrieving MaterialsDoc documents: 100%|███████| 1/1 [00:00<00:00, 29330.80it/s]\n",
      "Retrieving MaterialsDoc documents: 100%|███████| 1/1 [00:00<00:00, 29330.80it/s]\n",
      "Retrieving MaterialsDoc documents: 100%|███████| 1/1 [00:00<00:00, 28532.68it/s]\n",
      "Retrieving MaterialsDoc documents: 100%|███████| 1/1 [00:00<00:00, 26214.40it/s]\n",
      "Retrieving MaterialsDoc documents: 100%|███████| 1/1 [00:00<00:00, 29330.80it/s]\n",
      "Retrieving MaterialsDoc documents: 100%|███████| 1/1 [00:00<00:00, 28728.11it/s]\n",
      "Retrieving MaterialsDoc documents: 100%|███████| 1/1 [00:00<00:00, 28532.68it/s]\n",
      "Retrieving MaterialsDoc documents: 100%|███████| 1/1 [00:00<00:00, 23696.63it/s]\n",
      "Retrieving MaterialsDoc documents: 100%|███████| 1/1 [00:00<00:00, 28532.68it/s]\n",
      "Retrieving MaterialsDoc documents: 100%|███████| 1/1 [00:00<00:00, 28728.11it/s]\n",
      "Retrieving MaterialsDoc documents: 100%|███████| 1/1 [00:00<00:00, 25731.93it/s]\n",
      "Retrieving MaterialsDoc documents: 100%|███████| 1/1 [00:00<00:00, 29330.80it/s]\n",
      "Retrieving MaterialsDoc documents: 100%|███████| 1/1 [00:00<00:00, 29537.35it/s]\n",
      "Retrieving MaterialsDoc documents: 100%|███████| 1/1 [00:00<00:00, 27060.03it/s]\n",
      "Retrieving MaterialsDoc documents: 100%|███████| 1/1 [00:00<00:00, 28532.68it/s]\n",
      "Retrieving MaterialsDoc documents: 100%|███████| 1/1 [00:00<00:00, 28532.68it/s]\n",
      "Retrieving MaterialsDoc documents: 100%|███████| 1/1 [00:00<00:00, 28728.11it/s]\n",
      "Retrieving MaterialsDoc documents: 100%|███████| 1/1 [00:00<00:00, 28532.68it/s]\n",
      "Retrieving MaterialsDoc documents: 100%|███████| 1/1 [00:00<00:00, 28532.68it/s]\n",
      "Retrieving MaterialsDoc documents: 100%|███████| 1/1 [00:00<00:00, 30174.85it/s]\n",
      "Retrieving MaterialsDoc documents: 100%|███████| 1/1 [00:00<00:00, 10485.76it/s]\n",
      "Retrieving MaterialsDoc documents: 100%|███████| 1/1 [00:00<00:00, 23172.95it/s]\n",
      "Retrieving MaterialsDoc documents: 100%|███████| 1/1 [00:00<00:00, 29330.80it/s]\n",
      "Retrieving MaterialsDoc documents: 100%|███████| 1/1 [00:00<00:00, 21620.12it/s]\n",
      "Retrieving MaterialsDoc documents: 100%|███████| 1/1 [00:00<00:00, 31300.78it/s]\n",
      "Retrieving MaterialsDoc documents: 100%|███████| 1/1 [00:00<00:00, 26886.56it/s]\n",
      "Retrieving MaterialsDoc documents: 100%|███████| 1/1 [00:00<00:00, 29330.80it/s]\n",
      "Retrieving MaterialsDoc documents: 100%|███████| 1/1 [00:00<00:00, 27060.03it/s]\n",
      "Retrieving MaterialsDoc documents: 100%|███████| 1/1 [00:00<00:00, 28532.68it/s]\n",
      "Retrieving MaterialsDoc documents: 100%|███████| 1/1 [00:00<00:00, 28532.68it/s]\n",
      "Retrieving MaterialsDoc documents: 100%|███████| 1/1 [00:00<00:00, 30174.85it/s]\n",
      "Retrieving MaterialsDoc documents: 100%|███████| 1/1 [00:00<00:00, 31068.92it/s]\n",
      "Retrieving MaterialsDoc documents: 100%|███████| 1/1 [00:00<00:00, 28532.68it/s]\n",
      "Retrieving MaterialsDoc documents: 100%|███████| 1/1 [00:00<00:00, 28532.68it/s]\n",
      "Retrieving MaterialsDoc documents: 100%|███████| 1/1 [00:00<00:00, 25731.93it/s]\n",
      "Retrieving MaterialsDoc documents: 100%|███████| 1/1 [00:00<00:00, 26379.27it/s]\n",
      "Retrieving MaterialsDoc documents: 100%|███████| 1/1 [00:00<00:00, 28532.68it/s]\n",
      "Retrieving MaterialsDoc documents: 100%|███████| 1/1 [00:00<00:00, 31068.92it/s]\n",
      "Retrieving MaterialsDoc documents: 100%|███████| 1/1 [00:00<00:00, 24966.10it/s]\n",
      "Retrieving MaterialsDoc documents: 100%|███████| 1/1 [00:00<00:00, 26379.27it/s]\n",
      "Retrieving MaterialsDoc documents: 100%|███████| 1/1 [00:00<00:00, 28532.68it/s]\n",
      "Retrieving MaterialsDoc documents: 100%|███████| 1/1 [00:00<00:00, 26886.56it/s]\n",
      "Retrieving MaterialsDoc documents: 100%|███████| 1/1 [00:00<00:00, 29537.35it/s]\n",
      "Retrieving MaterialsDoc documents: 0it [00:00, ?it/s]\n"
     ]
    },
    {
     "name": "stdout",
     "output_type": "stream",
     "text": [
      "Error occurred for material ID mp-765125: 'list' object has no attribute 'to'\n"
     ]
    },
    {
     "name": "stderr",
     "output_type": "stream",
     "text": [
      "Retrieving MaterialsDoc documents: 100%|███████| 1/1 [00:00<00:00, 31068.92it/s]\n",
      "Retrieving MaterialsDoc documents: 100%|███████| 1/1 [00:00<00:00, 27060.03it/s]\n",
      "Retrieving MaterialsDoc documents: 100%|███████| 1/1 [00:00<00:00, 19152.07it/s]\n",
      "Retrieving MaterialsDoc documents: 100%|███████| 1/1 [00:00<00:00, 31300.78it/s]\n",
      "Retrieving MaterialsDoc documents: 100%|███████| 1/1 [00:00<00:00, 30393.51it/s]\n",
      "Retrieving MaterialsDoc documents: 100%|███████| 1/1 [00:00<00:00, 27594.11it/s]\n",
      "Retrieving MaterialsDoc documents: 100%|███████| 1/1 [00:00<00:00, 26886.56it/s]\n",
      "Retrieving MaterialsDoc documents: 100%|███████| 1/1 [00:00<00:00, 30174.85it/s]\n",
      "Retrieving MaterialsDoc documents: 100%|███████| 1/1 [00:00<00:00, 32263.88it/s]\n",
      "Retrieving MaterialsDoc documents: 100%|███████| 1/1 [00:00<00:00, 30174.85it/s]\n",
      "Retrieving MaterialsDoc documents: 100%|███████| 1/1 [00:00<00:00, 28532.68it/s]\n",
      "Retrieving MaterialsDoc documents: 100%|███████| 1/1 [00:00<00:00, 27060.03it/s]\n",
      "Retrieving MaterialsDoc documents: 100%|███████| 1/1 [00:00<00:00, 26886.56it/s]\n",
      "Retrieving MaterialsDoc documents: 100%|███████| 1/1 [00:00<00:00, 30174.85it/s]\n",
      "Retrieving MaterialsDoc documents: 100%|███████| 1/1 [00:00<00:00, 28532.68it/s]\n",
      "Retrieving MaterialsDoc documents: 100%|███████| 1/1 [00:00<00:00, 29330.80it/s]\n",
      "Retrieving MaterialsDoc documents: 100%|███████| 1/1 [00:00<00:00, 30393.51it/s]\n",
      "Retrieving MaterialsDoc documents: 100%|███████| 1/1 [00:00<00:00, 28532.68it/s]\n",
      "Retrieving MaterialsDoc documents: 0it [00:00, ?it/s]\n"
     ]
    },
    {
     "name": "stdout",
     "output_type": "stream",
     "text": [
      "Error occurred for material ID mp-781777: 'list' object has no attribute 'to'\n"
     ]
    },
    {
     "name": "stderr",
     "output_type": "stream",
     "text": [
      "Retrieving MaterialsDoc documents: 100%|███████| 1/1 [00:00<00:00, 29537.35it/s]\n",
      "Retrieving MaterialsDoc documents: 100%|███████| 1/1 [00:00<00:00, 20763.88it/s]\n",
      "Retrieving MaterialsDoc documents: 100%|███████| 1/1 [00:00<00:00, 29330.80it/s]\n",
      "Retrieving MaterialsDoc documents: 100%|███████| 1/1 [00:00<00:00, 30174.85it/s]\n",
      "Retrieving MaterialsDoc documents: 100%|███████| 1/1 [00:00<00:00, 30174.85it/s]\n",
      "Retrieving MaterialsDoc documents: 100%|███████| 1/1 [00:00<00:00, 29330.80it/s]\n",
      "Retrieving MaterialsDoc documents: 100%|███████| 1/1 [00:00<00:00, 29330.80it/s]\n",
      "Retrieving MaterialsDoc documents: 100%|███████| 1/1 [00:00<00:00, 26379.27it/s]\n",
      "Retrieving MaterialsDoc documents: 100%|███████| 1/1 [00:00<00:00, 31300.78it/s]\n",
      "Retrieving MaterialsDoc documents: 100%|███████| 1/1 [00:00<00:00, 29330.80it/s]\n",
      "Retrieving MaterialsDoc documents: 100%|███████| 1/1 [00:00<00:00, 28728.11it/s]\n",
      "Retrieving MaterialsDoc documents: 0it [00:00, ?it/s]\n"
     ]
    },
    {
     "name": "stdout",
     "output_type": "stream",
     "text": [
      "Error occurred for material ID mp-771247: 'list' object has no attribute 'to'\n"
     ]
    },
    {
     "name": "stderr",
     "output_type": "stream",
     "text": [
      "Retrieving MaterialsDoc documents: 100%|███████| 1/1 [00:00<00:00, 30174.85it/s]\n",
      "Retrieving MaterialsDoc documents: 100%|███████| 1/1 [00:00<00:00, 31300.78it/s]\n",
      "Retrieving MaterialsDoc documents: 100%|███████| 1/1 [00:00<00:00, 30174.85it/s]\n",
      "Retrieving MaterialsDoc documents: 100%|███████| 1/1 [00:00<00:00, 28532.68it/s]\n",
      "Retrieving MaterialsDoc documents: 100%|███████| 1/1 [00:00<00:00, 32263.88it/s]\n",
      "Retrieving MaterialsDoc documents: 100%|███████| 1/1 [00:00<00:00, 31068.92it/s]\n",
      "Retrieving MaterialsDoc documents: 100%|███████| 1/1 [00:00<00:00, 26886.56it/s]\n",
      "Retrieving MaterialsDoc documents: 100%|███████| 1/1 [00:00<00:00, 21290.88it/s]\n",
      "Retrieving MaterialsDoc documents: 100%|███████| 1/1 [00:00<00:00, 26886.56it/s]\n",
      "Retrieving MaterialsDoc documents: 100%|███████| 1/1 [00:00<00:00, 32263.88it/s]\n",
      "Retrieving MaterialsDoc documents: 100%|███████| 1/1 [00:00<00:00, 31300.78it/s]\n",
      "Retrieving MaterialsDoc documents: 100%|███████| 1/1 [00:00<00:00, 27776.85it/s]\n",
      "Retrieving MaterialsDoc documents: 100%|███████| 1/1 [00:00<00:00, 28532.68it/s]\n",
      "Retrieving MaterialsDoc documents: 100%|███████| 1/1 [00:00<00:00, 31068.92it/s]\n",
      "Retrieving MaterialsDoc documents: 100%|███████| 1/1 [00:00<00:00, 29330.80it/s]\n",
      "Retrieving MaterialsDoc documents: 100%|███████| 1/1 [00:00<00:00, 28532.68it/s]\n",
      "Retrieving MaterialsDoc documents: 0it [00:00, ?it/s]\n"
     ]
    },
    {
     "name": "stdout",
     "output_type": "stream",
     "text": [
      "Error occurred for material ID mp-780539: 'list' object has no attribute 'to'\n"
     ]
    },
    {
     "name": "stderr",
     "output_type": "stream",
     "text": [
      "Retrieving MaterialsDoc documents: 100%|███████| 1/1 [00:00<00:00, 28532.68it/s]\n",
      "Retrieving MaterialsDoc documents: 100%|███████| 1/1 [00:00<00:00, 29330.80it/s]\n",
      "Retrieving MaterialsDoc documents: 100%|███████| 1/1 [00:00<00:00, 31068.92it/s]\n",
      "Retrieving MaterialsDoc documents: 100%|███████| 1/1 [00:00<00:00, 28728.11it/s]\n",
      "Retrieving MaterialsDoc documents: 100%|███████| 1/1 [00:00<00:00, 29330.80it/s]\n",
      "Retrieving MaterialsDoc documents: 100%|███████| 1/1 [00:00<00:00, 28728.11it/s]\n",
      "Retrieving MaterialsDoc documents: 100%|███████| 1/1 [00:00<00:00, 30393.51it/s]\n",
      "Retrieving MaterialsDoc documents: 100%|███████| 1/1 [00:00<00:00, 30393.51it/s]\n",
      "Retrieving MaterialsDoc documents: 100%|███████| 1/1 [00:00<00:00, 27776.85it/s]\n",
      "Retrieving MaterialsDoc documents: 0it [00:00, ?it/s]\n"
     ]
    },
    {
     "name": "stdout",
     "output_type": "stream",
     "text": [
      "Error occurred for material ID mp-763330: 'list' object has no attribute 'to'\n"
     ]
    },
    {
     "name": "stderr",
     "output_type": "stream",
     "text": [
      "Retrieving MaterialsDoc documents: 100%|███████| 1/1 [00:00<00:00, 24966.10it/s]\n",
      "Retrieving MaterialsDoc documents: 100%|███████| 1/1 [00:00<00:00, 30174.85it/s]\n",
      "Retrieving MaterialsDoc documents: 100%|███████| 1/1 [00:00<00:00, 31300.78it/s]\n",
      "Retrieving MaterialsDoc documents: 100%|███████| 1/1 [00:00<00:00, 31068.92it/s]\n",
      "Retrieving MaterialsDoc documents: 100%|███████| 1/1 [00:00<00:00, 28728.11it/s]\n",
      "Retrieving MaterialsDoc documents: 100%|███████| 1/1 [00:00<00:00, 28532.68it/s]\n",
      "Retrieving MaterialsDoc documents: 100%|███████| 1/1 [00:00<00:00, 30393.51it/s]\n",
      "Retrieving MaterialsDoc documents: 100%|███████| 1/1 [00:00<00:00, 30174.85it/s]\n",
      "Retrieving MaterialsDoc documents: 100%|███████| 1/1 [00:00<00:00, 28532.68it/s]\n",
      "Retrieving MaterialsDoc documents: 100%|███████| 1/1 [00:00<00:00, 28728.11it/s]\n",
      "Retrieving MaterialsDoc documents: 100%|███████| 1/1 [00:00<00:00, 30393.51it/s]\n",
      "Retrieving MaterialsDoc documents: 100%|███████| 1/1 [00:00<00:00, 25731.93it/s]\n",
      "Retrieving MaterialsDoc documents: 100%|███████| 1/1 [00:00<00:00, 27776.85it/s]\n",
      "Retrieving MaterialsDoc documents: 100%|███████| 1/1 [00:00<00:00, 18157.16it/s]\n",
      "Retrieving MaterialsDoc documents: 100%|███████| 1/1 [00:00<00:00, 29330.80it/s]\n",
      "Retrieving MaterialsDoc documents: 100%|███████| 1/1 [00:00<00:00, 30393.51it/s]\n",
      "Retrieving MaterialsDoc documents: 100%|███████| 1/1 [00:00<00:00, 31300.78it/s]\n",
      "Retrieving MaterialsDoc documents: 100%|███████| 1/1 [00:00<00:00, 28532.68it/s]\n",
      "Retrieving MaterialsDoc documents: 100%|███████| 1/1 [00:00<00:00, 22795.13it/s]\n",
      "Retrieving MaterialsDoc documents: 100%|███████| 1/1 [00:00<00:00, 30393.51it/s]\n",
      "Retrieving MaterialsDoc documents: 100%|███████| 1/1 [00:00<00:00, 18893.26it/s]\n",
      "Retrieving MaterialsDoc documents: 100%|███████| 1/1 [00:00<00:00, 26379.27it/s]\n",
      "Retrieving MaterialsDoc documents: 100%|███████| 1/1 [00:00<00:00, 24966.10it/s]\n",
      "Retrieving MaterialsDoc documents: 100%|███████| 1/1 [00:00<00:00, 27060.03it/s]\n",
      "Retrieving MaterialsDoc documents: 100%|███████| 1/1 [00:00<00:00, 26886.56it/s]\n",
      "Retrieving MaterialsDoc documents: 100%|███████| 1/1 [00:00<00:00, 29330.80it/s]\n",
      "Retrieving MaterialsDoc documents: 100%|███████| 1/1 [00:00<00:00, 26214.40it/s]\n",
      "Retrieving MaterialsDoc documents: 100%|███████| 1/1 [00:00<00:00, 30393.51it/s]\n",
      "Retrieving MaterialsDoc documents: 100%|███████| 1/1 [00:00<00:00, 29537.35it/s]\n",
      "Retrieving MaterialsDoc documents: 100%|███████| 1/1 [00:00<00:00, 30393.51it/s]\n",
      "Retrieving MaterialsDoc documents: 100%|███████| 1/1 [00:00<00:00, 26214.40it/s]\n",
      "Retrieving MaterialsDoc documents: 100%|███████| 1/1 [00:00<00:00, 28728.11it/s]\n",
      "Retrieving MaterialsDoc documents: 100%|███████| 1/1 [00:00<00:00, 29330.80it/s]\n",
      "Retrieving MaterialsDoc documents: 100%|███████| 1/1 [00:00<00:00, 27594.11it/s]\n",
      "Retrieving MaterialsDoc documents: 100%|███████| 1/1 [00:00<00:00, 29537.35it/s]\n",
      "Retrieving MaterialsDoc documents: 100%|███████| 1/1 [00:00<00:00, 29330.80it/s]\n",
      "Retrieving MaterialsDoc documents: 100%|███████| 1/1 [00:00<00:00, 25115.59it/s]\n",
      "Retrieving MaterialsDoc documents: 100%|███████| 1/1 [00:00<00:00, 29746.84it/s]\n",
      "Retrieving MaterialsDoc documents: 100%|███████| 1/1 [00:00<00:00, 31300.78it/s]\n",
      "Retrieving MaterialsDoc documents: 100%|███████| 1/1 [00:00<00:00, 34663.67it/s]\n",
      "Retrieving MaterialsDoc documents: 100%|███████| 1/1 [00:00<00:00, 30174.85it/s]\n",
      "Retrieving MaterialsDoc documents: 100%|███████| 1/1 [00:00<00:00, 28532.68it/s]\n",
      "Retrieving MaterialsDoc documents: 100%|███████| 1/1 [00:00<00:00, 29330.80it/s]\n",
      "Retrieving MaterialsDoc documents: 100%|███████| 1/1 [00:00<00:00, 32263.88it/s]\n",
      "Retrieving MaterialsDoc documents: 0it [00:00, ?it/s]\n"
     ]
    },
    {
     "name": "stdout",
     "output_type": "stream",
     "text": [
      "Error occurred for material ID mp-24964: 'list' object has no attribute 'to'\n"
     ]
    },
    {
     "name": "stderr",
     "output_type": "stream",
     "text": [
      "Retrieving MaterialsDoc documents: 100%|███████| 1/1 [00:00<00:00, 27060.03it/s]\n",
      "Retrieving MaterialsDoc documents: 100%|███████| 1/1 [00:00<00:00, 24385.49it/s]\n",
      "Retrieving MaterialsDoc documents: 100%|███████| 1/1 [00:00<00:00, 26886.56it/s]\n",
      "Retrieving MaterialsDoc documents: 100%|███████| 1/1 [00:00<00:00, 30393.51it/s]\n",
      "Retrieving MaterialsDoc documents: 100%|███████| 1/1 [00:00<00:00, 28532.68it/s]\n",
      "Retrieving MaterialsDoc documents: 100%|███████| 1/1 [00:00<00:00, 19239.93it/s]\n",
      "Retrieving MaterialsDoc documents: 100%|███████| 1/1 [00:00<00:00, 32263.88it/s]\n",
      "Retrieving MaterialsDoc documents: 0it [00:00, ?it/s]\n"
     ]
    },
    {
     "name": "stdout",
     "output_type": "stream",
     "text": [
      "Error occurred for material ID mp-772246: 'list' object has no attribute 'to'\n"
     ]
    },
    {
     "name": "stderr",
     "output_type": "stream",
     "text": [
      "Retrieving MaterialsDoc documents: 100%|███████| 1/1 [00:00<00:00, 30174.85it/s]\n",
      "Retrieving MaterialsDoc documents: 100%|███████| 1/1 [00:00<00:00, 28532.68it/s]\n",
      "Retrieving MaterialsDoc documents: 100%|███████| 1/1 [00:00<00:00, 26886.56it/s]\n",
      "Retrieving MaterialsDoc documents: 100%|███████| 1/1 [00:00<00:00, 31300.78it/s]\n",
      "Retrieving MaterialsDoc documents: 100%|███████| 1/1 [00:00<00:00, 28532.68it/s]\n",
      "Retrieving MaterialsDoc documents: 100%|███████| 1/1 [00:00<00:00, 26546.23it/s]\n",
      "Retrieving MaterialsDoc documents: 100%|███████| 1/1 [00:00<00:00, 29537.35it/s]\n",
      "Retrieving MaterialsDoc documents: 100%|███████| 1/1 [00:00<00:00, 30393.51it/s]\n",
      "Retrieving MaterialsDoc documents: 0it [00:00, ?it/s]\n"
     ]
    },
    {
     "name": "stdout",
     "output_type": "stream",
     "text": [
      "Error occurred for material ID mp-24864: 'list' object has no attribute 'to'\n"
     ]
    },
    {
     "name": "stderr",
     "output_type": "stream",
     "text": [
      "Retrieving MaterialsDoc documents: 100%|███████| 1/1 [00:00<00:00, 28532.68it/s]\n",
      "Retrieving MaterialsDoc documents: 100%|███████| 1/1 [00:00<00:00, 28532.68it/s]\n",
      "Retrieving MaterialsDoc documents: 100%|███████| 1/1 [00:00<00:00, 30393.51it/s]\n",
      "Retrieving MaterialsDoc documents: 100%|███████| 1/1 [00:00<00:00, 29537.35it/s]\n",
      "Retrieving MaterialsDoc documents: 100%|███████| 1/1 [00:00<00:00, 19972.88it/s]\n",
      "Retrieving MaterialsDoc documents: 100%|███████| 1/1 [00:00<00:00, 32263.88it/s]\n",
      "Retrieving MaterialsDoc documents: 100%|███████| 1/1 [00:00<00:00, 29330.80it/s]\n",
      "Retrieving MaterialsDoc documents: 100%|███████| 1/1 [00:00<00:00, 30174.85it/s]\n",
      "Retrieving MaterialsDoc documents: 100%|███████| 1/1 [00:00<00:00, 28339.89it/s]\n",
      "Retrieving MaterialsDoc documents: 100%|███████| 1/1 [00:00<00:00, 28532.68it/s]\n",
      "Retrieving MaterialsDoc documents: 100%|███████| 1/1 [00:00<00:00, 28339.89it/s]\n",
      "Retrieving MaterialsDoc documents: 100%|███████| 1/1 [00:00<00:00, 32263.88it/s]\n",
      "Retrieving MaterialsDoc documents: 100%|███████| 1/1 [00:00<00:00, 28532.68it/s]\n",
      "Retrieving MaterialsDoc documents: 100%|███████| 1/1 [00:00<00:00, 28532.68it/s]\n",
      "Retrieving MaterialsDoc documents: 100%|███████| 1/1 [00:00<00:00, 30174.85it/s]\n",
      "Retrieving MaterialsDoc documents: 100%|███████| 1/1 [00:00<00:00, 30393.51it/s]\n",
      "Retrieving MaterialsDoc documents: 100%|███████| 1/1 [00:00<00:00, 28728.11it/s]\n",
      "Retrieving MaterialsDoc documents: 100%|███████| 1/1 [00:00<00:00, 29537.35it/s]\n",
      "Retrieving MaterialsDoc documents: 100%|███████| 1/1 [00:00<00:00, 31300.78it/s]\n",
      "Retrieving MaterialsDoc documents: 100%|███████| 1/1 [00:00<00:00, 29537.35it/s]\n",
      "Retrieving MaterialsDoc documents: 100%|███████| 1/1 [00:00<00:00, 30174.85it/s]\n",
      "Retrieving MaterialsDoc documents: 100%|███████| 1/1 [00:00<00:00, 29330.80it/s]\n",
      "Retrieving MaterialsDoc documents: 100%|███████| 1/1 [00:00<00:00, 19878.22it/s]\n",
      "Retrieving MaterialsDoc documents: 0it [00:00, ?it/s]\n"
     ]
    },
    {
     "name": "stdout",
     "output_type": "stream",
     "text": [
      "Error occurred for material ID mp-24932: 'list' object has no attribute 'to'\n"
     ]
    },
    {
     "name": "stderr",
     "output_type": "stream",
     "text": [
      "Retrieving MaterialsDoc documents: 100%|███████| 1/1 [00:00<00:00, 27962.03it/s]\n",
      "Retrieving MaterialsDoc documents: 100%|███████| 1/1 [00:00<00:00, 30174.85it/s]\n",
      "Retrieving MaterialsDoc documents: 100%|███████| 1/1 [00:00<00:00, 29330.80it/s]\n",
      "Retrieving MaterialsDoc documents: 100%|███████| 1/1 [00:00<00:00, 26379.27it/s]\n",
      "Retrieving MaterialsDoc documents: 100%|███████| 1/1 [00:00<00:00, 30393.51it/s]\n",
      "Retrieving MaterialsDoc documents: 100%|███████| 1/1 [00:00<00:00, 28532.68it/s]\n",
      "Retrieving MaterialsDoc documents: 100%|███████| 1/1 [00:00<00:00, 31300.78it/s]\n",
      "Retrieving MaterialsDoc documents: 100%|███████| 1/1 [00:00<00:00, 30174.85it/s]\n",
      "Retrieving MaterialsDoc documents: 100%|███████| 1/1 [00:00<00:00, 28532.68it/s]\n",
      "Retrieving MaterialsDoc documents: 0it [00:00, ?it/s]\n"
     ]
    },
    {
     "name": "stdout",
     "output_type": "stream",
     "text": [
      "Error occurred for material ID mp-705538: 'list' object has no attribute 'to'\n"
     ]
    },
    {
     "name": "stderr",
     "output_type": "stream",
     "text": [
      "Retrieving MaterialsDoc documents: 100%|███████| 1/1 [00:00<00:00, 27962.03it/s]\n",
      "Retrieving MaterialsDoc documents: 100%|███████| 1/1 [00:00<00:00, 28532.68it/s]\n",
      "Retrieving MaterialsDoc documents: 100%|███████| 1/1 [00:00<00:00, 28728.11it/s]\n",
      "Retrieving MaterialsDoc documents: 100%|███████| 1/1 [00:00<00:00, 30393.51it/s]\n",
      "Retrieving MaterialsDoc documents: 100%|███████| 1/1 [00:00<00:00, 29537.35it/s]\n",
      "Retrieving MaterialsDoc documents: 100%|███████| 1/1 [00:00<00:00, 31300.78it/s]\n",
      "Retrieving MaterialsDoc documents: 100%|███████| 1/1 [00:00<00:00, 30174.85it/s]\n",
      "Retrieving MaterialsDoc documents: 0it [00:00, ?it/s]\n"
     ]
    },
    {
     "name": "stdout",
     "output_type": "stream",
     "text": [
      "Error occurred for material ID mp-763300: 'list' object has no attribute 'to'\n"
     ]
    },
    {
     "name": "stderr",
     "output_type": "stream",
     "text": [
      "Retrieving MaterialsDoc documents: 100%|███████| 1/1 [00:00<00:00, 30174.85it/s]\n",
      "Retrieving MaterialsDoc documents: 100%|███████| 1/1 [00:00<00:00, 30174.85it/s]\n",
      "Retrieving MaterialsDoc documents: 100%|███████| 1/1 [00:00<00:00, 30393.51it/s]\n",
      "Retrieving MaterialsDoc documents: 100%|███████| 1/1 [00:00<00:00, 29330.80it/s]\n",
      "Retrieving MaterialsDoc documents: 100%|███████| 1/1 [00:00<00:00, 31300.78it/s]\n",
      "Retrieving MaterialsDoc documents: 100%|███████| 1/1 [00:00<00:00, 31300.78it/s]\n",
      "Retrieving MaterialsDoc documents: 100%|███████| 1/1 [00:00<00:00, 32263.88it/s]\n",
      "Retrieving MaterialsDoc documents: 100%|███████| 1/1 [00:00<00:00, 30174.85it/s]\n",
      "Retrieving MaterialsDoc documents: 100%|███████| 1/1 [00:00<00:00, 27060.03it/s]\n",
      "Retrieving MaterialsDoc documents: 100%|███████| 1/1 [00:00<00:00, 31300.78it/s]\n",
      "Retrieving MaterialsDoc documents: 100%|███████| 1/1 [00:00<00:00, 27060.03it/s]\n",
      "Retrieving MaterialsDoc documents: 100%|███████| 1/1 [00:00<00:00, 27060.03it/s]\n",
      "Retrieving MaterialsDoc documents: 100%|███████| 1/1 [00:00<00:00, 28532.68it/s]\n",
      "Retrieving MaterialsDoc documents: 100%|███████| 1/1 [00:00<00:00, 28532.68it/s]\n",
      "Retrieving MaterialsDoc documents: 100%|███████| 1/1 [00:00<00:00, 29537.35it/s]\n",
      "Retrieving MaterialsDoc documents: 0it [00:00, ?it/s]\n"
     ]
    },
    {
     "name": "stdout",
     "output_type": "stream",
     "text": [
      "Error occurred for material ID mp-771663: 'list' object has no attribute 'to'\n"
     ]
    },
    {
     "name": "stderr",
     "output_type": "stream",
     "text": [
      "Retrieving MaterialsDoc documents: 100%|███████| 1/1 [00:00<00:00, 26379.27it/s]\n",
      "Retrieving MaterialsDoc documents: 100%|███████| 1/1 [00:00<00:00, 30393.51it/s]\n",
      "Retrieving MaterialsDoc documents: 100%|███████| 1/1 [00:00<00:00, 27962.03it/s]\n",
      "Retrieving MaterialsDoc documents: 100%|███████| 1/1 [00:00<00:00, 25731.93it/s]\n",
      "Retrieving MaterialsDoc documents: 100%|███████| 1/1 [00:00<00:00, 26886.56it/s]\n",
      "Retrieving MaterialsDoc documents: 100%|███████| 1/1 [00:00<00:00, 28532.68it/s]\n",
      "Retrieving MaterialsDoc documents: 100%|███████| 1/1 [00:00<00:00, 29537.35it/s]\n",
      "Retrieving MaterialsDoc documents: 100%|███████| 1/1 [00:00<00:00, 22192.08it/s]\n",
      "Retrieving MaterialsDoc documents: 100%|███████| 1/1 [00:00<00:00, 26379.27it/s]\n",
      "Retrieving MaterialsDoc documents: 0it [00:00, ?it/s]\n"
     ]
    },
    {
     "name": "stdout",
     "output_type": "stream",
     "text": [
      "Error occurred for material ID mp-768030: 'list' object has no attribute 'to'\n"
     ]
    },
    {
     "name": "stderr",
     "output_type": "stream",
     "text": [
      "Retrieving MaterialsDoc documents: 100%|███████| 1/1 [00:00<00:00, 28532.68it/s]\n",
      "Retrieving MaterialsDoc documents: 100%|███████| 1/1 [00:00<00:00, 22310.13it/s]\n",
      "Retrieving MaterialsDoc documents: 100%|███████| 1/1 [00:00<00:00, 15141.89it/s]\n",
      "Retrieving MaterialsDoc documents: 100%|███████| 1/1 [00:00<00:00, 24966.10it/s]\n",
      "Retrieving MaterialsDoc documents: 100%|███████| 1/1 [00:00<00:00, 28532.68it/s]\n",
      "Retrieving MaterialsDoc documents: 100%|███████| 1/1 [00:00<00:00, 27776.85it/s]\n",
      "Retrieving MaterialsDoc documents: 100%|███████| 1/1 [00:00<00:00, 28532.68it/s]\n",
      "Retrieving MaterialsDoc documents: 100%|███████| 1/1 [00:00<00:00, 30393.51it/s]\n",
      "Retrieving MaterialsDoc documents: 0it [00:00, ?it/s]\n"
     ]
    },
    {
     "name": "stdout",
     "output_type": "stream",
     "text": [
      "Error occurred for material ID mp-774160: 'list' object has no attribute 'to'\n"
     ]
    },
    {
     "name": "stderr",
     "output_type": "stream",
     "text": [
      "Retrieving MaterialsDoc documents: 100%|███████| 1/1 [00:00<00:00, 27060.03it/s]\n",
      "Retrieving MaterialsDoc documents: 100%|███████| 1/1 [00:00<00:00, 29330.80it/s]\n",
      "Retrieving MaterialsDoc documents: 100%|███████| 1/1 [00:00<00:00, 27594.11it/s]\n",
      "Retrieving MaterialsDoc documents: 100%|███████| 1/1 [00:00<00:00, 29537.35it/s]\n",
      "Retrieving MaterialsDoc documents: 100%|███████| 1/1 [00:00<00:00, 31300.78it/s]\n",
      "Retrieving MaterialsDoc documents: 100%|███████| 1/1 [00:00<00:00, 29330.80it/s]\n",
      "Retrieving MaterialsDoc documents: 100%|███████| 1/1 [00:00<00:00, 30615.36it/s]\n",
      "Retrieving MaterialsDoc documents: 100%|███████| 1/1 [00:00<00:00, 29537.35it/s]\n",
      "Retrieving MaterialsDoc documents: 100%|███████| 1/1 [00:00<00:00, 28532.68it/s]\n",
      "Retrieving MaterialsDoc documents: 100%|███████| 1/1 [00:00<00:00, 27776.85it/s]\n",
      "Retrieving MaterialsDoc documents: 100%|███████| 1/1 [00:00<00:00, 27962.03it/s]\n",
      "Retrieving MaterialsDoc documents: 0it [00:00, ?it/s]\n"
     ]
    },
    {
     "name": "stdout",
     "output_type": "stream",
     "text": [
      "Error occurred for material ID mp-25001: 'list' object has no attribute 'to'\n"
     ]
    },
    {
     "name": "stderr",
     "output_type": "stream",
     "text": [
      "Retrieving MaterialsDoc documents: 100%|███████| 1/1 [00:00<00:00, 28532.68it/s]\n",
      "Retrieving MaterialsDoc documents: 100%|███████| 1/1 [00:00<00:00, 28532.68it/s]\n",
      "Retrieving MaterialsDoc documents: 100%|███████| 1/1 [00:00<00:00, 28532.68it/s]\n",
      "Retrieving MaterialsDoc documents: 100%|███████| 1/1 [00:00<00:00, 29330.80it/s]\n",
      "Retrieving MaterialsDoc documents: 100%|███████| 1/1 [00:00<00:00, 27962.03it/s]\n",
      "Retrieving MaterialsDoc documents: 100%|███████| 1/1 [00:00<00:00, 29537.35it/s]\n",
      "Retrieving MaterialsDoc documents: 100%|███████| 1/1 [00:00<00:00, 27962.03it/s]\n",
      "Retrieving MaterialsDoc documents: 100%|███████| 1/1 [00:00<00:00, 28532.68it/s]\n",
      "Retrieving MaterialsDoc documents: 100%|███████| 1/1 [00:00<00:00, 30615.36it/s]\n",
      "Retrieving MaterialsDoc documents: 100%|███████| 1/1 [00:00<00:00, 27060.03it/s]\n",
      "Retrieving MaterialsDoc documents: 100%|███████| 1/1 [00:00<00:00, 27594.11it/s]\n",
      "Retrieving MaterialsDoc documents: 100%|███████| 1/1 [00:00<00:00, 28532.68it/s]\n",
      "Retrieving MaterialsDoc documents: 100%|███████| 1/1 [00:00<00:00, 28532.68it/s]\n",
      "Retrieving MaterialsDoc documents: 100%|███████| 1/1 [00:00<00:00, 26214.40it/s]\n",
      "Retrieving MaterialsDoc documents: 100%|███████| 1/1 [00:00<00:00, 28728.11it/s]\n",
      "Retrieving MaterialsDoc documents: 100%|███████| 1/1 [00:00<00:00, 31068.92it/s]\n",
      "Retrieving MaterialsDoc documents: 100%|███████| 1/1 [00:00<00:00, 27962.03it/s]\n",
      "Retrieving MaterialsDoc documents: 100%|███████| 1/1 [00:00<00:00, 30174.85it/s]\n",
      "Retrieving MaterialsDoc documents: 100%|███████| 1/1 [00:00<00:00, 29330.80it/s]\n",
      "Retrieving MaterialsDoc documents: 100%|███████| 1/1 [00:00<00:00, 28339.89it/s]\n",
      "Retrieving MaterialsDoc documents: 100%|███████| 1/1 [00:00<00:00, 29537.35it/s]\n",
      "Retrieving MaterialsDoc documents: 0it [00:00, ?it/s]\n"
     ]
    },
    {
     "name": "stdout",
     "output_type": "stream",
     "text": [
      "Error occurred for material ID mp-764322: 'list' object has no attribute 'to'\n"
     ]
    },
    {
     "name": "stderr",
     "output_type": "stream",
     "text": [
      "Retrieving MaterialsDoc documents: 100%|███████| 1/1 [00:00<00:00, 26886.56it/s]\n",
      "Retrieving MaterialsDoc documents: 100%|███████| 1/1 [00:00<00:00, 28339.89it/s]\n",
      "Retrieving MaterialsDoc documents: 100%|███████| 1/1 [00:00<00:00, 30393.51it/s]\n",
      "Retrieving MaterialsDoc documents: 100%|███████| 1/1 [00:00<00:00, 30393.51it/s]\n",
      "Retrieving MaterialsDoc documents: 100%|███████| 1/1 [00:00<00:00, 28728.11it/s]\n",
      "Retrieving MaterialsDoc documents: 100%|███████| 1/1 [00:00<00:00, 27594.11it/s]\n",
      "Retrieving MaterialsDoc documents: 100%|███████| 1/1 [00:00<00:00, 25731.93it/s]\n",
      "Retrieving MaterialsDoc documents: 100%|███████| 1/1 [00:00<00:00, 29330.80it/s]\n",
      "Retrieving MaterialsDoc documents: 100%|███████| 1/1 [00:00<00:00, 15887.52it/s]\n",
      "Retrieving MaterialsDoc documents: 100%|███████| 1/1 [00:00<00:00, 28339.89it/s]\n",
      "Retrieving MaterialsDoc documents: 100%|███████| 1/1 [00:00<00:00, 26886.56it/s]\n",
      "Retrieving MaterialsDoc documents: 100%|███████| 1/1 [00:00<00:00, 28728.11it/s]\n",
      "Retrieving MaterialsDoc documents: 100%|███████| 1/1 [00:00<00:00, 27594.11it/s]\n",
      "Retrieving MaterialsDoc documents: 100%|███████| 1/1 [00:00<00:00, 29330.80it/s]\n",
      "Retrieving MaterialsDoc documents: 100%|███████| 1/1 [00:00<00:00, 31300.78it/s]\n",
      "Retrieving MaterialsDoc documents: 100%|███████| 1/1 [00:00<00:00, 29330.80it/s]\n",
      "Retrieving MaterialsDoc documents: 100%|███████| 1/1 [00:00<00:00, 27594.11it/s]\n",
      "Retrieving MaterialsDoc documents: 100%|███████| 1/1 [00:00<00:00, 27776.85it/s]\n",
      "Retrieving MaterialsDoc documents: 100%|███████| 1/1 [00:00<00:00, 27060.03it/s]\n",
      "Retrieving MaterialsDoc documents: 100%|███████| 1/1 [00:00<00:00, 28532.68it/s]\n",
      "Retrieving MaterialsDoc documents: 100%|███████| 1/1 [00:00<00:00, 29537.35it/s]\n",
      "Retrieving MaterialsDoc documents: 100%|███████| 1/1 [00:00<00:00, 29537.35it/s]\n",
      "Retrieving MaterialsDoc documents: 100%|███████| 1/1 [00:00<00:00, 26214.40it/s]\n",
      "Retrieving MaterialsDoc documents: 100%|███████| 1/1 [00:00<00:00, 29330.80it/s]\n",
      "Retrieving MaterialsDoc documents: 100%|███████| 1/1 [00:00<00:00, 28532.68it/s]\n",
      "Retrieving MaterialsDoc documents: 100%|███████| 1/1 [00:00<00:00, 29537.35it/s]\n",
      "Retrieving MaterialsDoc documents: 100%|███████| 1/1 [00:00<00:00, 25115.59it/s]\n",
      "Retrieving MaterialsDoc documents: 100%|███████| 1/1 [00:00<00:00, 27962.03it/s]\n",
      "Retrieving MaterialsDoc documents: 100%|███████| 1/1 [00:00<00:00, 29746.84it/s]\n",
      "Retrieving MaterialsDoc documents: 100%|███████| 1/1 [00:00<00:00, 30615.36it/s]\n",
      "Retrieving MaterialsDoc documents: 100%|███████| 1/1 [00:00<00:00, 30393.51it/s]\n",
      "Retrieving MaterialsDoc documents: 100%|███████| 1/1 [00:00<00:00, 28532.68it/s]\n",
      "Retrieving MaterialsDoc documents: 100%|███████| 1/1 [00:00<00:00, 28728.11it/s]\n",
      "Retrieving MaterialsDoc documents: 100%|███████| 1/1 [00:00<00:00, 29537.35it/s]\n",
      "Retrieving MaterialsDoc documents: 100%|███████| 1/1 [00:00<00:00, 28532.68it/s]\n",
      "Retrieving MaterialsDoc documents: 100%|███████| 1/1 [00:00<00:00, 29537.35it/s]\n",
      "Retrieving MaterialsDoc documents: 100%|███████| 1/1 [00:00<00:00, 30615.36it/s]\n",
      "Retrieving MaterialsDoc documents: 100%|███████| 1/1 [00:00<00:00, 28728.11it/s]\n",
      "Retrieving MaterialsDoc documents: 100%|███████| 1/1 [00:00<00:00, 27962.03it/s]\n",
      "Retrieving MaterialsDoc documents: 100%|███████| 1/1 [00:00<00:00, 18477.11it/s]\n",
      "Retrieving MaterialsDoc documents: 100%|███████| 1/1 [00:00<00:00, 26886.56it/s]\n",
      "Retrieving MaterialsDoc documents: 100%|███████| 1/1 [00:00<00:00, 29330.80it/s]\n",
      "Retrieving MaterialsDoc documents: 0it [00:00, ?it/s]\n"
     ]
    },
    {
     "name": "stdout",
     "output_type": "stream",
     "text": [
      "Error occurred for material ID mp-565771: 'list' object has no attribute 'to'\n"
     ]
    },
    {
     "name": "stderr",
     "output_type": "stream",
     "text": [
      "Retrieving MaterialsDoc documents: 100%|███████| 1/1 [00:00<00:00, 27594.11it/s]\n",
      "Retrieving MaterialsDoc documents: 100%|███████| 1/1 [00:00<00:00, 27776.85it/s]\n",
      "Retrieving MaterialsDoc documents: 100%|███████| 1/1 [00:00<00:00, 31068.92it/s]\n",
      "Retrieving MaterialsDoc documents: 0it [00:00, ?it/s]\n"
     ]
    },
    {
     "name": "stdout",
     "output_type": "stream",
     "text": [
      "Error occurred for material ID mp-561078: 'list' object has no attribute 'to'\n"
     ]
    },
    {
     "name": "stderr",
     "output_type": "stream",
     "text": [
      "Retrieving MaterialsDoc documents: 100%|███████| 1/1 [00:00<00:00, 28532.68it/s]\n",
      "Retrieving MaterialsDoc documents: 100%|███████| 1/1 [00:00<00:00, 27962.03it/s]\n",
      "Retrieving MaterialsDoc documents: 100%|███████| 1/1 [00:00<00:00, 27776.85it/s]\n",
      "Retrieving MaterialsDoc documents: 100%|███████| 1/1 [00:00<00:00, 28532.68it/s]\n",
      "Retrieving MaterialsDoc documents: 100%|███████| 1/1 [00:00<00:00, 28532.68it/s]\n",
      "Retrieving MaterialsDoc documents: 100%|███████| 1/1 [00:00<00:00, 26379.27it/s]\n",
      "Retrieving MaterialsDoc documents: 100%|███████| 1/1 [00:00<00:00, 20460.02it/s]\n",
      "Retrieving MaterialsDoc documents: 100%|███████| 1/1 [00:00<00:00, 27962.03it/s]\n",
      "Retrieving MaterialsDoc documents: 100%|███████| 1/1 [00:00<00:00, 31300.78it/s]\n",
      "Retrieving MaterialsDoc documents: 100%|███████| 1/1 [00:00<00:00, 29330.80it/s]\n",
      "Retrieving MaterialsDoc documents: 100%|███████| 1/1 [00:00<00:00, 28728.11it/s]\n",
      "Retrieving MaterialsDoc documents: 100%|███████| 1/1 [00:00<00:00, 20867.18it/s]\n",
      "Retrieving MaterialsDoc documents: 100%|███████| 1/1 [00:00<00:00, 30393.51it/s]\n",
      "Retrieving MaterialsDoc documents: 100%|███████| 1/1 [00:00<00:00, 28532.68it/s]\n",
      "Retrieving MaterialsDoc documents: 100%|███████| 1/1 [00:00<00:00, 28532.68it/s]\n",
      "Retrieving MaterialsDoc documents: 100%|███████| 1/1 [00:00<00:00, 28339.89it/s]\n",
      "Retrieving MaterialsDoc documents: 100%|███████| 1/1 [00:00<00:00, 29330.80it/s]\n",
      "Retrieving MaterialsDoc documents: 100%|███████| 1/1 [00:00<00:00, 28532.68it/s]\n",
      "Retrieving MaterialsDoc documents: 100%|███████| 1/1 [00:00<00:00, 29330.80it/s]\n",
      "Retrieving MaterialsDoc documents: 100%|███████| 1/1 [00:00<00:00, 27776.85it/s]\n",
      "Retrieving MaterialsDoc documents: 100%|███████| 1/1 [00:00<00:00, 28532.68it/s]\n",
      "Retrieving MaterialsDoc documents: 100%|███████| 1/1 [00:00<00:00, 28728.11it/s]\n",
      "Retrieving MaterialsDoc documents: 100%|███████| 1/1 [00:00<00:00, 30174.85it/s]\n",
      "Retrieving MaterialsDoc documents: 100%|███████| 1/1 [00:00<00:00, 31068.92it/s]\n",
      "Retrieving MaterialsDoc documents: 100%|███████| 1/1 [00:00<00:00, 29330.80it/s]\n",
      "Retrieving MaterialsDoc documents: 100%|███████| 1/1 [00:00<00:00, 29330.80it/s]\n",
      "Retrieving MaterialsDoc documents: 100%|███████| 1/1 [00:00<00:00, 30174.85it/s]\n",
      "Retrieving MaterialsDoc documents: 100%|███████| 1/1 [00:00<00:00, 28532.68it/s]\n",
      "Retrieving MaterialsDoc documents: 100%|███████| 1/1 [00:00<00:00, 30393.51it/s]\n",
      "Retrieving MaterialsDoc documents: 100%|███████| 1/1 [00:00<00:00, 26379.27it/s]\n",
      "Retrieving MaterialsDoc documents: 100%|███████| 1/1 [00:00<00:00, 28728.11it/s]\n",
      "Retrieving MaterialsDoc documents: 0it [00:00, ?it/s]\n"
     ]
    },
    {
     "name": "stdout",
     "output_type": "stream",
     "text": [
      "Error occurred for material ID mp-672216: 'list' object has no attribute 'to'\n"
     ]
    },
    {
     "name": "stderr",
     "output_type": "stream",
     "text": [
      "Retrieving MaterialsDoc documents: 0it [00:00, ?it/s]\n"
     ]
    },
    {
     "name": "stdout",
     "output_type": "stream",
     "text": [
      "Error occurred for material ID mp-715460: 'list' object has no attribute 'to'\n"
     ]
    },
    {
     "name": "stderr",
     "output_type": "stream",
     "text": [
      "Retrieving MaterialsDoc documents: 100%|███████| 1/1 [00:00<00:00, 27962.03it/s]\n",
      "Retrieving MaterialsDoc documents: 100%|███████| 1/1 [00:00<00:00, 26886.56it/s]\n",
      "Retrieving MaterialsDoc documents: 100%|███████| 1/1 [00:00<00:00, 31300.78it/s]\n",
      "Retrieving MaterialsDoc documents: 100%|███████| 1/1 [00:00<00:00, 28532.68it/s]\n",
      "Retrieving MaterialsDoc documents: 100%|███████| 1/1 [00:00<00:00, 31300.78it/s]\n",
      "Retrieving MaterialsDoc documents: 100%|███████| 1/1 [00:00<00:00, 27776.85it/s]\n",
      "Retrieving MaterialsDoc documents: 100%|███████| 1/1 [00:00<00:00, 27060.03it/s]\n",
      "Retrieving MaterialsDoc documents: 100%|███████| 1/1 [00:00<00:00, 27962.03it/s]\n",
      "Retrieving MaterialsDoc documents: 100%|███████| 1/1 [00:00<00:00, 25731.93it/s]\n",
      "Retrieving MaterialsDoc documents: 100%|███████| 1/1 [00:00<00:00, 27594.11it/s]\n",
      "Retrieving MaterialsDoc documents: 100%|███████| 1/1 [00:00<00:00, 27962.03it/s]\n",
      "Retrieving MaterialsDoc documents: 100%|███████| 1/1 [00:00<00:00, 22192.08it/s]\n",
      "Retrieving MaterialsDoc documents: 100%|███████| 1/1 [00:00<00:00, 28532.68it/s]\n",
      "Retrieving MaterialsDoc documents: 100%|███████| 1/1 [00:00<00:00, 28532.68it/s]\n",
      "Retrieving MaterialsDoc documents: 100%|███████| 1/1 [00:00<00:00, 31300.78it/s]\n",
      "Retrieving MaterialsDoc documents: 100%|███████| 1/1 [00:00<00:00, 30393.51it/s]\n",
      "Retrieving MaterialsDoc documents: 100%|███████| 1/1 [00:00<00:00, 28339.89it/s]\n",
      "Retrieving MaterialsDoc documents: 100%|███████| 1/1 [00:00<00:00, 27776.85it/s]\n",
      "Retrieving MaterialsDoc documents: 100%|███████| 1/1 [00:00<00:00, 28532.68it/s]\n",
      "Retrieving MaterialsDoc documents: 100%|███████| 1/1 [00:00<00:00, 29537.35it/s]\n",
      "Retrieving MaterialsDoc documents: 100%|███████| 1/1 [00:00<00:00, 28728.11it/s]\n",
      "Retrieving MaterialsDoc documents: 100%|███████| 1/1 [00:00<00:00, 27776.85it/s]\n",
      "Retrieving MaterialsDoc documents: 100%|███████| 1/1 [00:00<00:00, 29330.80it/s]\n",
      "Retrieving MaterialsDoc documents: 100%|███████| 1/1 [00:00<00:00, 26214.40it/s]\n",
      "Retrieving MaterialsDoc documents: 100%|███████| 1/1 [00:00<00:00, 28532.68it/s]\n",
      "Retrieving MaterialsDoc documents: 100%|███████| 1/1 [00:00<00:00, 29537.35it/s]\n",
      "Retrieving MaterialsDoc documents: 100%|███████| 1/1 [00:00<00:00, 28728.11it/s]\n",
      "Retrieving MaterialsDoc documents: 100%|███████| 1/1 [00:00<00:00, 28532.68it/s]\n",
      "Retrieving MaterialsDoc documents: 100%|███████| 1/1 [00:00<00:00, 28728.11it/s]\n",
      "Retrieving MaterialsDoc documents: 100%|███████| 1/1 [00:00<00:00, 27962.03it/s]\n",
      "Retrieving MaterialsDoc documents: 100%|███████| 1/1 [00:00<00:00, 28532.68it/s]\n",
      "Retrieving MaterialsDoc documents: 100%|███████| 1/1 [00:00<00:00, 29330.80it/s]\n",
      "Retrieving MaterialsDoc documents: 100%|███████| 1/1 [00:00<00:00, 28532.68it/s]\n",
      "Retrieving MaterialsDoc documents: 100%|███████| 1/1 [00:00<00:00, 28532.68it/s]\n",
      "Retrieving MaterialsDoc documents: 100%|███████| 1/1 [00:00<00:00, 25575.02it/s]\n",
      "Retrieving MaterialsDoc documents: 100%|███████| 1/1 [00:00<00:00, 29537.35it/s]\n",
      "Retrieving MaterialsDoc documents: 100%|███████| 1/1 [00:00<00:00, 26379.27it/s]\n",
      "Retrieving MaterialsDoc documents: 100%|███████| 1/1 [00:00<00:00, 27776.85it/s]\n",
      "Retrieving MaterialsDoc documents: 100%|███████| 1/1 [00:00<00:00, 28532.68it/s]\n",
      "Retrieving MaterialsDoc documents: 100%|███████| 1/1 [00:00<00:00, 27962.03it/s]\n",
      "Retrieving MaterialsDoc documents: 0it [00:00, ?it/s]\n"
     ]
    },
    {
     "name": "stdout",
     "output_type": "stream",
     "text": [
      "Error occurred for material ID mp-771456: 'list' object has no attribute 'to'\n"
     ]
    },
    {
     "name": "stderr",
     "output_type": "stream",
     "text": [
      "Retrieving MaterialsDoc documents: 100%|███████| 1/1 [00:00<00:00, 26546.23it/s]\n",
      "Retrieving MaterialsDoc documents: 100%|███████| 1/1 [00:00<00:00, 28532.68it/s]\n",
      "Retrieving MaterialsDoc documents: 100%|███████| 1/1 [00:00<00:00, 19972.88it/s]\n",
      "Retrieving MaterialsDoc documents: 100%|███████| 1/1 [00:00<00:00, 29330.80it/s]\n",
      "Retrieving MaterialsDoc documents: 100%|███████| 1/1 [00:00<00:00, 27594.11it/s]\n",
      "Retrieving MaterialsDoc documents: 100%|███████| 1/1 [00:00<00:00, 27776.85it/s]\n",
      "Retrieving MaterialsDoc documents: 100%|███████| 1/1 [00:00<00:00, 29746.84it/s]\n",
      "Retrieving MaterialsDoc documents: 100%|███████| 1/1 [00:00<00:00, 29330.80it/s]\n",
      "Retrieving MaterialsDoc documents: 100%|███████| 1/1 [00:00<00:00, 28728.11it/s]\n",
      "Retrieving MaterialsDoc documents: 100%|███████| 1/1 [00:00<00:00, 27776.85it/s]\n",
      "Retrieving MaterialsDoc documents: 0it [00:00, ?it/s]\n"
     ]
    },
    {
     "name": "stdout",
     "output_type": "stream",
     "text": [
      "Error occurred for material ID mp-32497: 'list' object has no attribute 'to'\n"
     ]
    },
    {
     "name": "stderr",
     "output_type": "stream",
     "text": [
      "Retrieving MaterialsDoc documents: 0it [00:00, ?it/s]\n"
     ]
    },
    {
     "name": "stdout",
     "output_type": "stream",
     "text": [
      "Error occurred for material ID mp-775097: 'list' object has no attribute 'to'\n"
     ]
    },
    {
     "name": "stderr",
     "output_type": "stream",
     "text": [
      "Retrieving MaterialsDoc documents: 100%|███████| 1/1 [00:00<00:00, 29537.35it/s]\n",
      "Retrieving MaterialsDoc documents: 100%|███████| 1/1 [00:00<00:00, 28532.68it/s]\n",
      "Retrieving MaterialsDoc documents: 100%|███████| 1/1 [00:00<00:00, 29537.35it/s]\n",
      "Retrieving MaterialsDoc documents: 100%|███████| 1/1 [00:00<00:00, 32263.88it/s]\n",
      "Retrieving MaterialsDoc documents: 0it [00:00, ?it/s]\n"
     ]
    },
    {
     "name": "stdout",
     "output_type": "stream",
     "text": [
      "Error occurred for material ID mp-715469: 'list' object has no attribute 'to'\n"
     ]
    },
    {
     "name": "stderr",
     "output_type": "stream",
     "text": [
      "Retrieving MaterialsDoc documents: 100%|███████| 1/1 [00:00<00:00, 27594.11it/s]\n",
      "Retrieving MaterialsDoc documents: 100%|███████| 1/1 [00:00<00:00, 28532.68it/s]\n",
      "Retrieving MaterialsDoc documents: 100%|███████| 1/1 [00:00<00:00, 30393.51it/s]\n",
      "Retrieving MaterialsDoc documents: 100%|███████| 1/1 [00:00<00:00, 31300.78it/s]\n",
      "Retrieving MaterialsDoc documents: 100%|███████| 1/1 [00:00<00:00, 26214.40it/s]\n",
      "Retrieving MaterialsDoc documents: 100%|███████| 1/1 [00:00<00:00, 29330.80it/s]\n",
      "Retrieving MaterialsDoc documents: 100%|███████| 1/1 [00:00<00:00, 27235.74it/s]\n",
      "Retrieving MaterialsDoc documents: 100%|███████| 1/1 [00:00<00:00, 29330.80it/s]\n",
      "Retrieving MaterialsDoc documents: 100%|███████| 1/1 [00:00<00:00, 27962.03it/s]\n",
      "Retrieving MaterialsDoc documents: 100%|███████| 1/1 [00:00<00:00, 26886.56it/s]\n",
      "Retrieving MaterialsDoc documents: 100%|███████| 1/1 [00:00<00:00, 27776.85it/s]\n",
      "Retrieving MaterialsDoc documents: 100%|███████| 1/1 [00:00<00:00, 26379.27it/s]\n",
      "Retrieving MaterialsDoc documents: 100%|███████| 1/1 [00:00<00:00, 27776.85it/s]\n",
      "Retrieving MaterialsDoc documents: 100%|███████| 1/1 [00:00<00:00, 28532.68it/s]\n",
      "Retrieving MaterialsDoc documents: 100%|███████| 1/1 [00:00<00:00, 31300.78it/s]\n",
      "Retrieving MaterialsDoc documents: 100%|███████| 1/1 [00:00<00:00, 28339.89it/s]\n",
      "Retrieving MaterialsDoc documents: 100%|███████| 1/1 [00:00<00:00, 28532.68it/s]\n",
      "Retrieving MaterialsDoc documents: 100%|███████| 1/1 [00:00<00:00, 23831.27it/s]\n",
      "Retrieving MaterialsDoc documents: 100%|███████| 1/1 [00:00<00:00, 19599.55it/s]\n",
      "Retrieving MaterialsDoc documents: 100%|███████| 1/1 [00:00<00:00, 27776.85it/s]\n",
      "Retrieving MaterialsDoc documents: 100%|███████| 1/1 [00:00<00:00, 29330.80it/s]\n",
      "Retrieving MaterialsDoc documents: 100%|███████| 1/1 [00:00<00:00, 28532.68it/s]\n",
      "Retrieving MaterialsDoc documents: 100%|███████| 1/1 [00:00<00:00, 29330.80it/s]\n",
      "Retrieving MaterialsDoc documents: 100%|███████| 1/1 [00:00<00:00, 24966.10it/s]\n",
      "Retrieving MaterialsDoc documents: 100%|███████| 1/1 [00:00<00:00, 28532.68it/s]\n",
      "Retrieving MaterialsDoc documents: 100%|███████| 1/1 [00:00<00:00, 31068.92it/s]\n",
      "Retrieving MaterialsDoc documents: 100%|███████| 1/1 [00:00<00:00, 30393.51it/s]\n",
      "Retrieving MaterialsDoc documents: 100%|███████| 1/1 [00:00<00:00, 28532.68it/s]\n",
      "Retrieving MaterialsDoc documents: 100%|███████| 1/1 [00:00<00:00, 28532.68it/s]\n",
      "Retrieving MaterialsDoc documents: 100%|███████| 1/1 [00:00<00:00, 30174.85it/s]\n",
      "Retrieving MaterialsDoc documents: 0it [00:00, ?it/s]\n"
     ]
    },
    {
     "name": "stdout",
     "output_type": "stream",
     "text": [
      "Error occurred for material ID mp-2346: 'list' object has no attribute 'to'\n"
     ]
    },
    {
     "name": "stderr",
     "output_type": "stream",
     "text": [
      "Retrieving MaterialsDoc documents: 100%|███████| 1/1 [00:00<00:00, 28532.68it/s]\n",
      "Retrieving MaterialsDoc documents: 100%|███████| 1/1 [00:00<00:00, 27235.74it/s]\n",
      "Retrieving MaterialsDoc documents: 100%|███████| 1/1 [00:00<00:00, 28728.11it/s]\n",
      "Retrieving MaterialsDoc documents: 100%|███████| 1/1 [00:00<00:00, 28728.11it/s]\n",
      "Retrieving MaterialsDoc documents: 100%|███████| 1/1 [00:00<00:00, 20460.02it/s]\n",
      "Retrieving MaterialsDoc documents: 100%|███████| 1/1 [00:00<00:00, 26379.27it/s]\n",
      "Retrieving MaterialsDoc documents: 100%|███████| 1/1 [00:00<00:00, 27235.74it/s]\n",
      "Retrieving MaterialsDoc documents: 100%|███████| 1/1 [00:00<00:00, 29537.35it/s]\n",
      "Retrieving MaterialsDoc documents: 100%|███████| 1/1 [00:00<00:00, 27235.74it/s]\n",
      "Retrieving MaterialsDoc documents: 100%|███████| 1/1 [00:00<00:00, 27594.11it/s]\n",
      "Retrieving MaterialsDoc documents: 100%|███████| 1/1 [00:00<00:00, 31300.78it/s]\n",
      "Retrieving MaterialsDoc documents: 100%|███████| 1/1 [00:00<00:00, 29330.80it/s]\n",
      "Retrieving MaterialsDoc documents: 100%|███████| 1/1 [00:00<00:00, 28532.68it/s]\n",
      "Retrieving MaterialsDoc documents: 100%|███████| 1/1 [00:00<00:00, 28532.68it/s]\n",
      "Retrieving MaterialsDoc documents: 100%|███████| 1/1 [00:00<00:00, 25575.02it/s]\n",
      "Retrieving MaterialsDoc documents: 100%|███████| 1/1 [00:00<00:00, 29330.80it/s]\n",
      "Retrieving MaterialsDoc documents: 100%|███████| 1/1 [00:00<00:00, 32263.88it/s]\n",
      "Retrieving MaterialsDoc documents: 100%|███████| 1/1 [00:00<00:00, 30174.85it/s]\n",
      "Retrieving MaterialsDoc documents: 100%|███████| 1/1 [00:00<00:00, 29537.35it/s]\n",
      "Retrieving MaterialsDoc documents: 100%|███████| 1/1 [00:00<00:00, 12671.61it/s]\n",
      "Retrieving MaterialsDoc documents: 100%|███████| 1/1 [00:00<00:00, 27235.74it/s]\n",
      "Retrieving MaterialsDoc documents: 100%|███████| 1/1 [00:00<00:00, 28532.68it/s]\n",
      "Retrieving MaterialsDoc documents: 100%|███████| 1/1 [00:00<00:00, 27594.11it/s]\n",
      "Retrieving MaterialsDoc documents: 100%|███████| 1/1 [00:00<00:00, 29330.80it/s]\n",
      "Retrieving MaterialsDoc documents: 100%|███████| 1/1 [00:00<00:00, 27776.85it/s]\n",
      "Retrieving MaterialsDoc documents: 100%|███████| 1/1 [00:00<00:00, 31300.78it/s]\n",
      "Retrieving MaterialsDoc documents: 100%|███████| 1/1 [00:00<00:00, 27776.85it/s]\n",
      "Retrieving MaterialsDoc documents: 100%|███████| 1/1 [00:00<00:00, 27962.03it/s]\n",
      "Retrieving MaterialsDoc documents: 100%|███████| 1/1 [00:00<00:00, 27594.11it/s]\n",
      "Retrieving MaterialsDoc documents: 100%|███████| 1/1 [00:00<00:00, 28728.11it/s]\n",
      "Retrieving MaterialsDoc documents: 100%|███████| 1/1 [00:00<00:00, 28339.89it/s]\n",
      "Retrieving MaterialsDoc documents: 100%|███████| 1/1 [00:00<00:00, 28728.11it/s]\n",
      "Retrieving MaterialsDoc documents: 100%|███████| 1/1 [00:00<00:00, 29537.35it/s]\n",
      "Retrieving MaterialsDoc documents: 100%|███████| 1/1 [00:00<00:00, 27962.03it/s]\n",
      "Retrieving MaterialsDoc documents: 100%|███████| 1/1 [00:00<00:00, 28532.68it/s]\n",
      "Retrieving MaterialsDoc documents: 100%|███████| 1/1 [00:00<00:00, 28532.68it/s]\n",
      "Retrieving MaterialsDoc documents: 100%|███████| 1/1 [00:00<00:00, 28339.89it/s]\n",
      "Retrieving MaterialsDoc documents: 100%|███████| 1/1 [00:00<00:00, 29330.80it/s]\n",
      "Retrieving MaterialsDoc documents: 100%|███████| 1/1 [00:00<00:00, 27776.85it/s]\n",
      "Retrieving MaterialsDoc documents: 100%|███████| 1/1 [00:00<00:00, 24528.09it/s]\n",
      "Retrieving MaterialsDoc documents: 100%|███████| 1/1 [00:00<00:00, 28728.11it/s]\n",
      "Retrieving MaterialsDoc documents: 100%|███████| 1/1 [00:00<00:00, 27776.85it/s]\n",
      "Retrieving MaterialsDoc documents: 100%|███████| 1/1 [00:00<00:00, 28532.68it/s]\n",
      "Retrieving MaterialsDoc documents: 100%|███████| 1/1 [00:00<00:00, 26214.40it/s]\n",
      "Retrieving MaterialsDoc documents: 100%|███████| 1/1 [00:00<00:00, 27962.03it/s]\n",
      "Retrieving MaterialsDoc documents: 100%|███████| 1/1 [00:00<00:00, 28728.11it/s]\n",
      "Retrieving MaterialsDoc documents: 100%|███████| 1/1 [00:00<00:00, 32263.88it/s]\n",
      "Retrieving MaterialsDoc documents: 100%|███████| 1/1 [00:00<00:00, 29330.80it/s]\n",
      "Retrieving MaterialsDoc documents: 0it [00:00, ?it/s]\n"
     ]
    },
    {
     "name": "stdout",
     "output_type": "stream",
     "text": [
      "Error occurred for material ID mp-510632: 'list' object has no attribute 'to'\n"
     ]
    },
    {
     "name": "stderr",
     "output_type": "stream",
     "text": [
      "Retrieving MaterialsDoc documents: 100%|███████| 1/1 [00:00<00:00, 29330.80it/s]\n",
      "Retrieving MaterialsDoc documents: 100%|███████| 1/1 [00:00<00:00, 30615.36it/s]\n",
      "Retrieving MaterialsDoc documents: 100%|███████| 1/1 [00:00<00:00, 28532.68it/s]\n",
      "Retrieving MaterialsDoc documents: 100%|███████| 1/1 [00:00<00:00, 29330.80it/s]\n",
      "Retrieving MaterialsDoc documents: 100%|███████| 1/1 [00:00<00:00, 27060.03it/s]\n",
      "Retrieving MaterialsDoc documents: 100%|███████| 1/1 [00:00<00:00, 29330.80it/s]\n",
      "Retrieving MaterialsDoc documents: 0it [00:00, ?it/s]\n"
     ]
    },
    {
     "name": "stdout",
     "output_type": "stream",
     "text": [
      "Error occurred for material ID mp-768032: 'list' object has no attribute 'to'\n"
     ]
    },
    {
     "name": "stderr",
     "output_type": "stream",
     "text": [
      "Retrieving MaterialsDoc documents: 100%|███████| 1/1 [00:00<00:00, 27776.85it/s]\n",
      "Retrieving MaterialsDoc documents: 100%|███████| 1/1 [00:00<00:00, 29330.80it/s]\n",
      "Retrieving MaterialsDoc documents: 100%|███████| 1/1 [00:00<00:00, 27060.03it/s]\n",
      "Retrieving MaterialsDoc documents: 100%|███████| 1/1 [00:00<00:00, 30174.85it/s]\n",
      "Retrieving MaterialsDoc documents: 100%|███████| 1/1 [00:00<00:00, 30393.51it/s]\n",
      "Retrieving MaterialsDoc documents: 100%|███████| 1/1 [00:00<00:00, 28532.68it/s]\n",
      "Retrieving MaterialsDoc documents: 100%|███████| 1/1 [00:00<00:00, 29537.35it/s]\n",
      "Retrieving MaterialsDoc documents: 100%|███████| 1/1 [00:00<00:00, 28532.68it/s]\n",
      "Retrieving MaterialsDoc documents: 100%|███████| 1/1 [00:00<00:00, 28728.11it/s]\n",
      "Retrieving MaterialsDoc documents: 100%|███████| 1/1 [00:00<00:00, 24385.49it/s]\n",
      "Retrieving MaterialsDoc documents: 100%|███████| 1/1 [00:00<00:00, 19152.07it/s]\n",
      "Retrieving MaterialsDoc documents: 100%|███████| 1/1 [00:00<00:00, 26214.40it/s]\n",
      "Retrieving MaterialsDoc documents: 100%|███████| 1/1 [00:00<00:00, 29330.80it/s]\n",
      "Retrieving MaterialsDoc documents: 100%|███████| 1/1 [00:00<00:00, 27962.03it/s]\n",
      "Retrieving MaterialsDoc documents: 100%|███████| 1/1 [00:00<00:00, 28532.68it/s]\n",
      "Retrieving MaterialsDoc documents: 100%|███████| 1/1 [00:00<00:00, 31300.78it/s]\n",
      "Retrieving MaterialsDoc documents: 100%|███████| 1/1 [00:00<00:00, 22671.91it/s]\n",
      "Retrieving MaterialsDoc documents: 100%|███████| 1/1 [00:00<00:00, 24385.49it/s]\n",
      "Retrieving MaterialsDoc documents: 100%|███████| 1/1 [00:00<00:00, 28339.89it/s]\n",
      "Retrieving MaterialsDoc documents: 100%|███████| 1/1 [00:00<00:00, 29330.80it/s]\n",
      "Retrieving MaterialsDoc documents: 100%|███████| 1/1 [00:00<00:00, 28532.68it/s]\n",
      "Retrieving MaterialsDoc documents: 100%|███████| 1/1 [00:00<00:00, 27235.74it/s]\n",
      "Retrieving MaterialsDoc documents: 100%|███████| 1/1 [00:00<00:00, 27060.03it/s]\n",
      "Retrieving MaterialsDoc documents: 100%|███████| 1/1 [00:00<00:00, 25731.93it/s]\n",
      "Retrieving MaterialsDoc documents: 100%|███████| 1/1 [00:00<00:00, 30393.51it/s]\n",
      "Retrieving MaterialsDoc documents: 100%|███████| 1/1 [00:00<00:00, 27962.03it/s]\n",
      "Retrieving MaterialsDoc documents: 100%|███████| 1/1 [00:00<00:00, 31300.78it/s]\n",
      "Retrieving MaterialsDoc documents: 100%|███████| 1/1 [00:00<00:00, 27594.11it/s]\n",
      "Retrieving MaterialsDoc documents: 100%|███████| 1/1 [00:00<00:00, 27776.85it/s]\n",
      "Retrieving MaterialsDoc documents: 100%|███████| 1/1 [00:00<00:00, 28532.68it/s]\n",
      "Retrieving MaterialsDoc documents: 100%|███████| 1/1 [00:00<00:00, 27594.11it/s]\n",
      "Retrieving MaterialsDoc documents: 100%|███████| 1/1 [00:00<00:00, 28532.68it/s]\n",
      "Retrieving MaterialsDoc documents: 100%|███████| 1/1 [00:00<00:00, 29330.80it/s]\n",
      "Retrieving MaterialsDoc documents: 100%|███████| 1/1 [00:00<00:00, 30393.51it/s]\n",
      "Retrieving MaterialsDoc documents: 100%|███████| 1/1 [00:00<00:00, 24385.49it/s]\n",
      "Retrieving MaterialsDoc documents: 100%|███████| 1/1 [00:00<00:00, 26214.40it/s]\n",
      "Retrieving MaterialsDoc documents: 100%|███████| 1/1 [00:00<00:00, 28339.89it/s]\n",
      "Retrieving MaterialsDoc documents: 100%|███████| 1/1 [00:00<00:00, 27060.03it/s]\n",
      "Retrieving MaterialsDoc documents: 100%|███████| 1/1 [00:00<00:00, 27776.85it/s]\n",
      "Retrieving MaterialsDoc documents: 100%|███████| 1/1 [00:00<00:00, 26214.40it/s]\n",
      "Retrieving MaterialsDoc documents: 0it [00:00, ?it/s]\n"
     ]
    },
    {
     "name": "stdout",
     "output_type": "stream",
     "text": [
      "Error occurred for material ID mp-764742: 'list' object has no attribute 'to'\n"
     ]
    },
    {
     "name": "stderr",
     "output_type": "stream",
     "text": [
      "Retrieving MaterialsDoc documents: 100%|███████| 1/1 [00:00<00:00, 29537.35it/s]\n",
      "Retrieving MaterialsDoc documents: 100%|███████| 1/1 [00:00<00:00, 30393.51it/s]\n",
      "Retrieving MaterialsDoc documents: 100%|███████| 1/1 [00:00<00:00, 31300.78it/s]\n",
      "Retrieving MaterialsDoc documents: 100%|███████| 1/1 [00:00<00:00, 27594.11it/s]\n",
      "Retrieving MaterialsDoc documents: 0it [00:00, ?it/s]\n"
     ]
    },
    {
     "name": "stdout",
     "output_type": "stream",
     "text": [
      "Error occurred for material ID mp-771686: 'list' object has no attribute 'to'\n"
     ]
    },
    {
     "name": "stderr",
     "output_type": "stream",
     "text": [
      "Retrieving MaterialsDoc documents: 100%|███████| 1/1 [00:00<00:00, 28532.68it/s]\n",
      "Retrieving MaterialsDoc documents: 0it [00:00, ?it/s]\n"
     ]
    },
    {
     "name": "stdout",
     "output_type": "stream",
     "text": [
      "Error occurred for material ID mp-774148: 'list' object has no attribute 'to'\n"
     ]
    },
    {
     "name": "stderr",
     "output_type": "stream",
     "text": [
      "Retrieving MaterialsDoc documents: 100%|███████| 1/1 [00:00<00:00, 26886.56it/s]\n",
      "Retrieving MaterialsDoc documents: 100%|███████| 1/1 [00:00<00:00, 29537.35it/s]\n",
      "Retrieving MaterialsDoc documents: 100%|███████| 1/1 [00:00<00:00, 28532.68it/s]\n",
      "Retrieving MaterialsDoc documents: 100%|███████| 1/1 [00:00<00:00, 27060.03it/s]\n",
      "Retrieving MaterialsDoc documents: 100%|███████| 1/1 [00:00<00:00, 28728.11it/s]\n",
      "Retrieving MaterialsDoc documents: 100%|███████| 1/1 [00:00<00:00, 28532.68it/s]\n",
      "Retrieving MaterialsDoc documents: 100%|███████| 1/1 [00:00<00:00, 28532.68it/s]\n",
      "Retrieving MaterialsDoc documents: 100%|███████| 1/1 [00:00<00:00, 28532.68it/s]\n",
      "Retrieving MaterialsDoc documents: 100%|███████| 1/1 [00:00<00:00, 28532.68it/s]\n",
      "Retrieving MaterialsDoc documents: 100%|███████| 1/1 [00:00<00:00, 28532.68it/s]\n",
      "Retrieving MaterialsDoc documents: 100%|███████| 1/1 [00:00<00:00, 26886.56it/s]\n",
      "Retrieving MaterialsDoc documents: 100%|███████| 1/1 [00:00<00:00, 25731.93it/s]\n",
      "Retrieving MaterialsDoc documents: 100%|███████| 1/1 [00:00<00:00, 28532.68it/s]\n",
      "Retrieving MaterialsDoc documents: 0it [00:00, ?it/s]\n"
     ]
    },
    {
     "name": "stdout",
     "output_type": "stream",
     "text": [
      "Error occurred for material ID mp-850247: 'list' object has no attribute 'to'\n"
     ]
    },
    {
     "name": "stderr",
     "output_type": "stream",
     "text": [
      "Retrieving MaterialsDoc documents: 100%|███████| 1/1 [00:00<00:00, 28532.68it/s]\n",
      "Retrieving MaterialsDoc documents: 100%|███████| 1/1 [00:00<00:00, 26214.40it/s]\n",
      "Retrieving MaterialsDoc documents: 100%|███████| 1/1 [00:00<00:00, 20867.18it/s]\n",
      "Retrieving MaterialsDoc documents: 100%|███████| 1/1 [00:00<00:00, 26214.40it/s]\n",
      "Retrieving MaterialsDoc documents: 100%|███████| 1/1 [00:00<00:00, 28339.89it/s]\n",
      "Retrieving MaterialsDoc documents: 100%|███████| 1/1 [00:00<00:00, 27060.03it/s]\n",
      "Retrieving MaterialsDoc documents: 100%|███████| 1/1 [00:00<00:00, 30174.85it/s]\n",
      "Retrieving MaterialsDoc documents: 100%|███████| 1/1 [00:00<00:00, 30393.51it/s]\n",
      "Retrieving MaterialsDoc documents: 100%|███████| 1/1 [00:00<00:00, 29330.80it/s]\n",
      "Retrieving MaterialsDoc documents: 100%|███████| 1/1 [00:00<00:00, 28728.11it/s]\n",
      "Retrieving MaterialsDoc documents: 100%|███████| 1/1 [00:00<00:00, 28532.68it/s]\n",
      "Retrieving MaterialsDoc documents: 0it [00:00, ?it/s]\n"
     ]
    },
    {
     "name": "stdout",
     "output_type": "stream",
     "text": [
      "Error occurred for material ID mp-715434: 'list' object has no attribute 'to'\n"
     ]
    },
    {
     "name": "stderr",
     "output_type": "stream",
     "text": [
      "Retrieving MaterialsDoc documents: 100%|███████| 1/1 [00:00<00:00, 28532.68it/s]\n",
      "Retrieving MaterialsDoc documents: 100%|███████| 1/1 [00:00<00:00, 28532.68it/s]\n",
      "Retrieving MaterialsDoc documents: 100%|███████| 1/1 [00:00<00:00, 27962.03it/s]\n",
      "Retrieving MaterialsDoc documents: 100%|███████| 1/1 [00:00<00:00, 30174.85it/s]\n",
      "Retrieving MaterialsDoc documents: 100%|███████| 1/1 [00:00<00:00, 27594.11it/s]\n",
      "Retrieving MaterialsDoc documents: 100%|███████| 1/1 [00:00<00:00, 29330.80it/s]\n",
      "Retrieving MaterialsDoc documents: 100%|███████| 1/1 [00:00<00:00, 31068.92it/s]\n",
      "Retrieving MaterialsDoc documents: 100%|███████| 1/1 [00:00<00:00, 29330.80it/s]\n",
      "Retrieving MaterialsDoc documents: 100%|███████| 1/1 [00:00<00:00, 29330.80it/s]\n",
      "Retrieving MaterialsDoc documents: 100%|███████| 1/1 [00:00<00:00, 28728.11it/s]\n",
      "Retrieving MaterialsDoc documents: 100%|███████| 1/1 [00:00<00:00, 28532.68it/s]\n",
      "Retrieving MaterialsDoc documents: 100%|███████| 1/1 [00:00<00:00, 29537.35it/s]\n",
      "Retrieving MaterialsDoc documents: 100%|███████| 1/1 [00:00<00:00, 28728.11it/s]\n",
      "Retrieving MaterialsDoc documents: 100%|███████| 1/1 [00:00<00:00, 27060.03it/s]\n",
      "Retrieving MaterialsDoc documents: 0it [00:00, ?it/s]\n"
     ]
    },
    {
     "name": "stdout",
     "output_type": "stream",
     "text": [
      "Error occurred for material ID mp-31596: 'list' object has no attribute 'to'\n"
     ]
    },
    {
     "name": "stderr",
     "output_type": "stream",
     "text": [
      "Retrieving MaterialsDoc documents: 0it [00:00, ?it/s]\n"
     ]
    },
    {
     "name": "stdout",
     "output_type": "stream",
     "text": [
      "Error occurred for material ID mp-772053: 'list' object has no attribute 'to'\n"
     ]
    },
    {
     "name": "stderr",
     "output_type": "stream",
     "text": [
      "Retrieving MaterialsDoc documents: 100%|███████| 1/1 [00:00<00:00, 27962.03it/s]\n",
      "Retrieving MaterialsDoc documents: 100%|███████| 1/1 [00:00<00:00, 28532.68it/s]\n",
      "Retrieving MaterialsDoc documents: 100%|███████| 1/1 [00:00<00:00, 30393.51it/s]\n",
      "Retrieving MaterialsDoc documents: 100%|███████| 1/1 [00:00<00:00, 28339.89it/s]\n",
      "Retrieving MaterialsDoc documents: 100%|███████| 1/1 [00:00<00:00, 28532.68it/s]\n",
      "Retrieving MaterialsDoc documents: 100%|███████| 1/1 [00:00<00:00, 17549.39it/s]\n",
      "Retrieving MaterialsDoc documents: 100%|███████| 1/1 [00:00<00:00, 20460.02it/s]\n",
      "Retrieving MaterialsDoc documents: 100%|███████| 1/1 [00:00<00:00, 27594.11it/s]\n",
      "Retrieving MaterialsDoc documents: 100%|███████| 1/1 [00:00<00:00, 29537.35it/s]\n",
      "Retrieving MaterialsDoc documents: 100%|███████| 1/1 [00:00<00:00, 24966.10it/s]\n",
      "Retrieving MaterialsDoc documents: 100%|███████| 1/1 [00:00<00:00, 28339.89it/s]\n",
      "Retrieving MaterialsDoc documents: 100%|███████| 1/1 [00:00<00:00, 28728.11it/s]\n",
      "Retrieving MaterialsDoc documents: 100%|███████| 1/1 [00:00<00:00, 27594.11it/s]\n",
      "Retrieving MaterialsDoc documents: 100%|███████| 1/1 [00:00<00:00, 29330.80it/s]\n",
      "Retrieving MaterialsDoc documents: 0it [00:00, ?it/s]\n"
     ]
    },
    {
     "name": "stdout",
     "output_type": "stream",
     "text": [
      "Error occurred for material ID mp-31769: 'list' object has no attribute 'to'\n"
     ]
    },
    {
     "name": "stderr",
     "output_type": "stream",
     "text": [
      "Retrieving MaterialsDoc documents: 100%|███████| 1/1 [00:00<00:00, 27776.85it/s]\n",
      "Retrieving MaterialsDoc documents: 100%|███████| 1/1 [00:00<00:00, 26214.40it/s]\n",
      "Retrieving MaterialsDoc documents: 100%|███████| 1/1 [00:00<00:00, 29330.80it/s]\n",
      "Retrieving MaterialsDoc documents: 100%|███████| 1/1 [00:00<00:00, 28532.68it/s]\n",
      "Retrieving MaterialsDoc documents: 100%|███████| 1/1 [00:00<00:00, 29330.80it/s]\n",
      "Retrieving MaterialsDoc documents: 100%|███████| 1/1 [00:00<00:00, 26379.27it/s]\n",
      "Retrieving MaterialsDoc documents: 100%|███████| 1/1 [00:00<00:00, 27594.11it/s]\n",
      "Retrieving MaterialsDoc documents: 100%|███████| 1/1 [00:00<00:00, 29537.35it/s]\n",
      "Retrieving MaterialsDoc documents: 100%|███████| 1/1 [00:00<00:00, 27962.03it/s]\n",
      "Retrieving MaterialsDoc documents: 100%|███████| 1/1 [00:00<00:00, 29537.35it/s]\n",
      "Retrieving MaterialsDoc documents: 100%|███████| 1/1 [00:00<00:00, 27594.11it/s]\n",
      "Retrieving MaterialsDoc documents: 100%|███████| 1/1 [00:00<00:00, 27962.03it/s]\n",
      "Retrieving MaterialsDoc documents: 100%|███████| 1/1 [00:00<00:00, 28532.68it/s]\n",
      "Retrieving MaterialsDoc documents: 100%|███████| 1/1 [00:00<00:00, 27776.85it/s]\n",
      "Retrieving MaterialsDoc documents: 100%|███████| 1/1 [00:00<00:00, 27776.85it/s]\n",
      "Retrieving MaterialsDoc documents: 100%|███████| 1/1 [00:00<00:00, 27060.03it/s]\n",
      "Retrieving MaterialsDoc documents: 100%|███████| 1/1 [00:00<00:00, 27962.03it/s]\n",
      "Retrieving MaterialsDoc documents: 100%|███████| 1/1 [00:00<00:00, 24966.10it/s]\n",
      "Retrieving MaterialsDoc documents: 100%|███████| 1/1 [00:00<00:00, 31300.78it/s]\n",
      "Retrieving MaterialsDoc documents: 100%|███████| 1/1 [00:00<00:00, 28339.89it/s]\n",
      "Retrieving MaterialsDoc documents: 100%|███████| 1/1 [00:00<00:00, 30174.85it/s]\n",
      "Retrieving MaterialsDoc documents: 100%|███████| 1/1 [00:00<00:00, 28532.68it/s]\n",
      "Retrieving MaterialsDoc documents: 100%|███████| 1/1 [00:00<00:00, 30174.85it/s]\n",
      "Retrieving MaterialsDoc documents: 100%|███████| 1/1 [00:00<00:00, 27776.85it/s]\n",
      "Retrieving MaterialsDoc documents: 100%|███████| 1/1 [00:00<00:00, 29330.80it/s]\n",
      "Retrieving MaterialsDoc documents: 100%|███████| 1/1 [00:00<00:00, 28532.68it/s]\n",
      "Retrieving MaterialsDoc documents: 100%|███████| 1/1 [00:00<00:00, 26886.56it/s]\n",
      "Retrieving MaterialsDoc documents: 100%|███████| 1/1 [00:00<00:00, 28532.68it/s]\n",
      "Retrieving MaterialsDoc documents: 100%|███████| 1/1 [00:00<00:00, 25575.02it/s]\n",
      "Retrieving MaterialsDoc documents: 100%|███████| 1/1 [00:00<00:00, 30174.85it/s]\n",
      "Retrieving MaterialsDoc documents: 100%|███████| 1/1 [00:00<00:00, 27962.03it/s]\n",
      "Retrieving MaterialsDoc documents: 100%|███████| 1/1 [00:00<00:00, 29330.80it/s]\n",
      "Retrieving MaterialsDoc documents: 100%|███████| 1/1 [00:00<00:00, 16131.94it/s]\n",
      "Retrieving MaterialsDoc documents: 100%|███████| 1/1 [00:00<00:00, 28532.68it/s]\n",
      "Retrieving MaterialsDoc documents: 100%|███████| 1/1 [00:00<00:00, 27235.74it/s]\n",
      "Retrieving MaterialsDoc documents: 100%|███████| 1/1 [00:00<00:00, 25420.02it/s]\n",
      "Retrieving MaterialsDoc documents: 100%|███████| 1/1 [00:00<00:00, 26379.27it/s]\n",
      "Retrieving MaterialsDoc documents: 100%|███████| 1/1 [00:00<00:00, 25115.59it/s]\n",
      "Retrieving MaterialsDoc documents: 100%|███████| 1/1 [00:00<00:00, 28532.68it/s]\n",
      "Retrieving MaterialsDoc documents: 100%|███████| 1/1 [00:00<00:00, 28532.68it/s]\n",
      "Retrieving MaterialsDoc documents: 100%|███████| 1/1 [00:00<00:00, 32017.59it/s]\n",
      "Retrieving MaterialsDoc documents: 100%|███████| 1/1 [00:00<00:00, 29537.35it/s]\n",
      "Retrieving MaterialsDoc documents: 100%|███████| 1/1 [00:00<00:00, 30174.85it/s]\n",
      "Retrieving MaterialsDoc documents: 100%|███████| 1/1 [00:00<00:00, 29537.35it/s]\n",
      "Retrieving MaterialsDoc documents: 100%|███████| 1/1 [00:00<00:00, 27060.03it/s]\n",
      "Retrieving MaterialsDoc documents: 100%|███████| 1/1 [00:00<00:00, 29537.35it/s]\n",
      "Retrieving MaterialsDoc documents: 100%|███████| 1/1 [00:00<00:00, 28532.68it/s]\n",
      "Retrieving MaterialsDoc documents: 100%|███████| 1/1 [00:00<00:00, 29537.35it/s]\n",
      "Retrieving MaterialsDoc documents: 100%|███████| 1/1 [00:00<00:00, 26214.40it/s]\n",
      "Retrieving MaterialsDoc documents: 100%|███████| 1/1 [00:00<00:00, 28532.68it/s]\n",
      "Retrieving MaterialsDoc documents: 100%|███████| 1/1 [00:00<00:00, 28728.11it/s]\n",
      "Retrieving MaterialsDoc documents: 0it [00:00, ?it/s]\n"
     ]
    },
    {
     "name": "stdout",
     "output_type": "stream",
     "text": [
      "Error occurred for material ID mp-578614: 'list' object has no attribute 'to'\n"
     ]
    },
    {
     "name": "stderr",
     "output_type": "stream",
     "text": [
      "Retrieving MaterialsDoc documents: 100%|███████| 1/1 [00:00<00:00, 26886.56it/s]\n",
      "Retrieving MaterialsDoc documents: 100%|███████| 1/1 [00:00<00:00, 29330.80it/s]\n",
      "Retrieving MaterialsDoc documents: 100%|███████| 1/1 [00:00<00:00, 31300.78it/s]\n",
      "Retrieving MaterialsDoc documents: 100%|███████| 1/1 [00:00<00:00, 28728.11it/s]\n",
      "Retrieving MaterialsDoc documents: 100%|███████| 1/1 [00:00<00:00, 27776.85it/s]\n",
      "Retrieving MaterialsDoc documents: 100%|███████| 1/1 [00:00<00:00, 25575.02it/s]\n",
      "Retrieving MaterialsDoc documents: 100%|███████| 1/1 [00:00<00:00, 28728.11it/s]\n",
      "Retrieving MaterialsDoc documents: 100%|███████| 1/1 [00:00<00:00, 27776.85it/s]\n",
      "Retrieving MaterialsDoc documents: 100%|███████| 1/1 [00:00<00:00, 29330.80it/s]\n",
      "Retrieving MaterialsDoc documents: 100%|███████| 1/1 [00:00<00:00, 26886.56it/s]\n",
      "Retrieving MaterialsDoc documents: 100%|███████| 1/1 [00:00<00:00, 27060.03it/s]\n",
      "Retrieving MaterialsDoc documents: 100%|███████| 1/1 [00:00<00:00, 27962.03it/s]\n",
      "Retrieving MaterialsDoc documents: 100%|███████| 1/1 [00:00<00:00, 27962.03it/s]\n",
      "Retrieving MaterialsDoc documents: 100%|███████| 1/1 [00:00<00:00, 28532.68it/s]\n",
      "Retrieving MaterialsDoc documents: 100%|███████| 1/1 [00:00<00:00, 28532.68it/s]\n",
      "Retrieving MaterialsDoc documents: 100%|███████| 1/1 [00:00<00:00, 28532.68it/s]\n",
      "Retrieving MaterialsDoc documents: 100%|███████| 1/1 [00:00<00:00, 25575.02it/s]\n",
      "Retrieving MaterialsDoc documents: 100%|███████| 1/1 [00:00<00:00, 30393.51it/s]\n",
      "Retrieving MaterialsDoc documents: 100%|███████| 1/1 [00:00<00:00, 28532.68it/s]\n",
      "Retrieving MaterialsDoc documents: 100%|███████| 1/1 [00:00<00:00, 30393.51it/s]\n",
      "Retrieving MaterialsDoc documents: 100%|███████| 1/1 [00:00<00:00, 26886.56it/s]\n",
      "Retrieving MaterialsDoc documents: 100%|███████| 1/1 [00:00<00:00, 28532.68it/s]\n",
      "Retrieving MaterialsDoc documents: 100%|███████| 1/1 [00:00<00:00, 28532.68it/s]\n",
      "Retrieving MaterialsDoc documents: 100%|███████| 1/1 [00:00<00:00, 28532.68it/s]\n",
      "Retrieving MaterialsDoc documents: 100%|███████| 1/1 [00:00<00:00, 28532.68it/s]\n",
      "Retrieving MaterialsDoc documents: 100%|███████| 1/1 [00:00<00:00, 19691.57it/s]\n",
      "Retrieving MaterialsDoc documents: 100%|███████| 1/1 [00:00<00:00, 31300.78it/s]\n",
      "Retrieving MaterialsDoc documents: 100%|███████| 1/1 [00:00<00:00, 27060.03it/s]\n",
      "Retrieving MaterialsDoc documents: 100%|███████| 1/1 [00:00<00:00, 27235.74it/s]\n",
      "Retrieving MaterialsDoc documents: 100%|███████| 1/1 [00:00<00:00, 28532.68it/s]\n",
      "Retrieving MaterialsDoc documents: 100%|███████| 1/1 [00:00<00:00, 29330.80it/s]\n",
      "Retrieving MaterialsDoc documents: 100%|███████| 1/1 [00:00<00:00, 31068.92it/s]\n",
      "Retrieving MaterialsDoc documents: 0it [00:00, ?it/s]\n"
     ]
    },
    {
     "name": "stdout",
     "output_type": "stream",
     "text": [
      "Error occurred for material ID mp-542102: 'list' object has no attribute 'to'\n"
     ]
    },
    {
     "name": "stderr",
     "output_type": "stream",
     "text": [
      "Retrieving MaterialsDoc documents: 100%|███████| 1/1 [00:00<00:00, 29330.80it/s]\n",
      "Retrieving MaterialsDoc documents: 100%|███████| 1/1 [00:00<00:00, 27776.85it/s]\n",
      "Retrieving MaterialsDoc documents: 100%|███████| 1/1 [00:00<00:00, 29330.80it/s]\n",
      "Retrieving MaterialsDoc documents: 100%|███████| 1/1 [00:00<00:00, 27060.03it/s]\n",
      "Retrieving MaterialsDoc documents: 100%|███████| 1/1 [00:00<00:00, 27235.74it/s]\n",
      "Retrieving MaterialsDoc documents: 100%|███████| 1/1 [00:00<00:00, 27060.03it/s]\n",
      "Retrieving MaterialsDoc documents: 100%|███████| 1/1 [00:00<00:00, 27776.85it/s]\n",
      "Retrieving MaterialsDoc documents: 100%|███████| 1/1 [00:00<00:00, 26886.56it/s]\n",
      "Retrieving MaterialsDoc documents: 100%|███████| 1/1 [00:00<00:00, 27776.85it/s]\n",
      "Retrieving MaterialsDoc documents: 100%|███████| 1/1 [00:00<00:00, 26886.56it/s]\n",
      "Retrieving MaterialsDoc documents: 100%|███████| 1/1 [00:00<00:00, 27776.85it/s]\n",
      "Retrieving MaterialsDoc documents: 100%|███████| 1/1 [00:00<00:00, 30174.85it/s]\n",
      "Retrieving MaterialsDoc documents: 100%|███████| 1/1 [00:00<00:00, 27962.03it/s]\n",
      "Retrieving MaterialsDoc documents: 100%|███████| 1/1 [00:00<00:00, 25731.93it/s]\n",
      "Retrieving MaterialsDoc documents: 100%|███████| 1/1 [00:00<00:00, 29330.80it/s]\n",
      "Retrieving MaterialsDoc documents: 0it [00:00, ?it/s]\n"
     ]
    },
    {
     "name": "stdout",
     "output_type": "stream",
     "text": [
      "Error occurred for material ID mp-772592: 'list' object has no attribute 'to'\n"
     ]
    },
    {
     "name": "stderr",
     "output_type": "stream",
     "text": [
      "Retrieving MaterialsDoc documents: 100%|███████| 1/1 [00:00<00:00, 28532.68it/s]\n",
      "Retrieving MaterialsDoc documents: 100%|███████| 1/1 [00:00<00:00, 27594.11it/s]\n",
      "Retrieving MaterialsDoc documents: 100%|███████| 1/1 [00:00<00:00, 31300.78it/s]\n",
      "Retrieving MaterialsDoc documents: 100%|███████| 1/1 [00:00<00:00, 27060.03it/s]\n",
      "Retrieving MaterialsDoc documents: 100%|███████| 1/1 [00:00<00:00, 27962.03it/s]\n",
      "Retrieving MaterialsDoc documents: 100%|███████| 1/1 [00:00<00:00, 27962.03it/s]\n",
      "Retrieving MaterialsDoc documents: 0it [00:00, ?it/s]\n"
     ]
    },
    {
     "name": "stdout",
     "output_type": "stream",
     "text": [
      "Error occurred for material ID mp-781698: 'list' object has no attribute 'to'\n"
     ]
    },
    {
     "name": "stderr",
     "output_type": "stream",
     "text": [
      "Retrieving MaterialsDoc documents: 100%|███████| 1/1 [00:00<00:00, 27776.85it/s]\n",
      "Retrieving MaterialsDoc documents: 100%|███████| 1/1 [00:00<00:00, 28532.68it/s]\n",
      "Retrieving MaterialsDoc documents: 100%|███████| 1/1 [00:00<00:00, 28532.68it/s]\n",
      "Retrieving MaterialsDoc documents: 100%|███████| 1/1 [00:00<00:00, 29330.80it/s]\n",
      "Retrieving MaterialsDoc documents: 100%|███████| 1/1 [00:00<00:00, 27776.85it/s]\n",
      "Retrieving MaterialsDoc documents: 100%|███████| 1/1 [00:00<00:00, 29330.80it/s]\n",
      "Retrieving MaterialsDoc documents: 100%|███████| 1/1 [00:00<00:00, 27776.85it/s]\n",
      "Retrieving MaterialsDoc documents: 100%|███████| 1/1 [00:00<00:00, 26886.56it/s]\n",
      "Retrieving MaterialsDoc documents: 100%|███████| 1/1 [00:00<00:00, 30393.51it/s]\n",
      "Retrieving MaterialsDoc documents: 100%|███████| 1/1 [00:00<00:00, 28532.68it/s]\n",
      "Retrieving MaterialsDoc documents: 100%|███████| 1/1 [00:00<00:00, 27776.85it/s]\n",
      "Retrieving MaterialsDoc documents: 100%|███████| 1/1 [00:00<00:00, 29330.80it/s]\n",
      "Retrieving MaterialsDoc documents: 100%|███████| 1/1 [00:00<00:00, 28532.68it/s]\n",
      "Retrieving MaterialsDoc documents: 100%|███████| 1/1 [00:00<00:00, 30393.51it/s]\n",
      "Retrieving MaterialsDoc documents: 100%|███████| 1/1 [00:00<00:00, 25115.59it/s]\n",
      "Retrieving MaterialsDoc documents: 100%|███████| 1/1 [00:00<00:00, 28339.89it/s]\n",
      "Retrieving MaterialsDoc documents: 100%|███████| 1/1 [00:00<00:00, 27776.85it/s]\n",
      "Retrieving MaterialsDoc documents: 100%|███████| 1/1 [00:00<00:00, 28728.11it/s]\n",
      "Retrieving MaterialsDoc documents: 100%|███████| 1/1 [00:00<00:00, 28532.68it/s]\n",
      "Retrieving MaterialsDoc documents: 0it [00:00, ?it/s]\n"
     ]
    },
    {
     "name": "stdout",
     "output_type": "stream",
     "text": [
      "Error occurred for material ID mp-761474: 'list' object has no attribute 'to'\n"
     ]
    },
    {
     "name": "stderr",
     "output_type": "stream",
     "text": [
      "Retrieving MaterialsDoc documents: 100%|███████| 1/1 [00:00<00:00, 26214.40it/s]\n",
      "Retrieving MaterialsDoc documents: 100%|███████| 1/1 [00:00<00:00, 28728.11it/s]\n",
      "Retrieving MaterialsDoc documents: 100%|███████| 1/1 [00:00<00:00, 24385.49it/s]\n",
      "Retrieving MaterialsDoc documents: 100%|███████| 1/1 [00:00<00:00, 29330.80it/s]\n",
      "Retrieving MaterialsDoc documents: 100%|███████| 1/1 [00:00<00:00, 27060.03it/s]\n",
      "Retrieving MaterialsDoc documents: 100%|███████| 1/1 [00:00<00:00, 26886.56it/s]\n",
      "Retrieving MaterialsDoc documents: 100%|███████| 1/1 [00:00<00:00, 26379.27it/s]\n",
      "Retrieving MaterialsDoc documents: 100%|███████| 1/1 [00:00<00:00, 28532.68it/s]\n",
      "Retrieving MaterialsDoc documents: 100%|███████| 1/1 [00:00<00:00, 28728.11it/s]\n",
      "Retrieving MaterialsDoc documents: 100%|███████| 1/1 [00:00<00:00, 27776.85it/s]\n",
      "Retrieving MaterialsDoc documents: 100%|███████| 1/1 [00:00<00:00, 29330.80it/s]\n",
      "Retrieving MaterialsDoc documents: 100%|███████| 1/1 [00:00<00:00, 28728.11it/s]\n",
      "Retrieving MaterialsDoc documents: 100%|███████| 1/1 [00:00<00:00, 25731.93it/s]\n",
      "Retrieving MaterialsDoc documents: 100%|███████| 1/1 [00:00<00:00, 27962.03it/s]\n",
      "Retrieving MaterialsDoc documents: 100%|███████| 1/1 [00:00<00:00, 29330.80it/s]\n",
      "Retrieving MaterialsDoc documents: 100%|███████| 1/1 [00:00<00:00, 32263.88it/s]\n",
      "Retrieving MaterialsDoc documents: 100%|███████| 1/1 [00:00<00:00, 28532.68it/s]\n",
      "Retrieving MaterialsDoc documents: 100%|███████| 1/1 [00:00<00:00, 28532.68it/s]\n",
      "Retrieving MaterialsDoc documents: 100%|███████| 1/1 [00:00<00:00, 30393.51it/s]\n",
      "Retrieving MaterialsDoc documents: 100%|███████| 1/1 [00:00<00:00, 26886.56it/s]\n",
      "Retrieving MaterialsDoc documents: 100%|███████| 1/1 [00:00<00:00, 26214.40it/s]\n",
      "Retrieving MaterialsDoc documents: 100%|███████| 1/1 [00:00<00:00, 28532.68it/s]\n",
      "Retrieving MaterialsDoc documents: 100%|███████| 1/1 [00:00<00:00, 29537.35it/s]\n",
      "Retrieving MaterialsDoc documents: 100%|███████| 1/1 [00:00<00:00, 27776.85it/s]\n",
      "Retrieving MaterialsDoc documents: 100%|███████| 1/1 [00:00<00:00, 16131.94it/s]\n",
      "Retrieving MaterialsDoc documents: 100%|███████| 1/1 [00:00<00:00, 29330.80it/s]\n",
      "Retrieving MaterialsDoc documents: 100%|███████| 1/1 [00:00<00:00, 28532.68it/s]\n",
      "Retrieving MaterialsDoc documents: 100%|███████| 1/1 [00:00<00:00, 30393.51it/s]\n",
      "Retrieving MaterialsDoc documents: 100%|███████| 1/1 [00:00<00:00, 21399.51it/s]\n",
      "Retrieving MaterialsDoc documents: 100%|███████| 1/1 [00:00<00:00, 28532.68it/s]\n",
      "Retrieving MaterialsDoc documents: 100%|███████| 1/1 [00:00<00:00, 26546.23it/s]\n",
      "Retrieving MaterialsDoc documents: 100%|███████| 1/1 [00:00<00:00, 28532.68it/s]\n",
      "Retrieving MaterialsDoc documents: 0it [00:00, ?it/s]\n"
     ]
    },
    {
     "name": "stdout",
     "output_type": "stream",
     "text": [
      "Error occurred for material ID mp-25119: 'list' object has no attribute 'to'\n"
     ]
    },
    {
     "name": "stderr",
     "output_type": "stream",
     "text": [
      "Retrieving MaterialsDoc documents: 0it [00:00, ?it/s]\n"
     ]
    },
    {
     "name": "stdout",
     "output_type": "stream",
     "text": [
      "Error occurred for material ID mp-714976: 'list' object has no attribute 'to'\n"
     ]
    },
    {
     "name": "stderr",
     "output_type": "stream",
     "text": [
      "Retrieving MaterialsDoc documents: 100%|███████| 1/1 [00:00<00:00, 27235.74it/s]\n",
      "Retrieving MaterialsDoc documents: 100%|███████| 1/1 [00:00<00:00, 26214.40it/s]\n",
      "Retrieving MaterialsDoc documents: 100%|███████| 1/1 [00:00<00:00, 28728.11it/s]\n",
      "Retrieving MaterialsDoc documents: 100%|███████| 1/1 [00:00<00:00, 28728.11it/s]\n",
      "Retrieving MaterialsDoc documents: 100%|███████| 1/1 [00:00<00:00, 27060.03it/s]\n",
      "Retrieving MaterialsDoc documents: 100%|███████| 1/1 [00:00<00:00, 29537.35it/s]\n",
      "Retrieving MaterialsDoc documents: 100%|███████| 1/1 [00:00<00:00, 29746.84it/s]\n",
      "Retrieving MaterialsDoc documents: 100%|███████| 1/1 [00:00<00:00, 24966.10it/s]\n",
      "Retrieving MaterialsDoc documents: 100%|███████| 1/1 [00:00<00:00, 27962.03it/s]\n",
      "Retrieving MaterialsDoc documents: 100%|███████| 1/1 [00:00<00:00, 29330.80it/s]\n",
      "Retrieving MaterialsDoc documents: 100%|███████| 1/1 [00:00<00:00, 27962.03it/s]\n",
      "Retrieving MaterialsDoc documents: 100%|███████| 1/1 [00:00<00:00, 25115.59it/s]\n",
      "Retrieving MaterialsDoc documents: 100%|███████| 1/1 [00:00<00:00, 27962.03it/s]\n",
      "Retrieving MaterialsDoc documents: 100%|███████| 1/1 [00:00<00:00, 27235.74it/s]\n",
      "Retrieving MaterialsDoc documents: 100%|███████| 1/1 [00:00<00:00, 27060.03it/s]\n",
      "Retrieving MaterialsDoc documents: 100%|███████| 1/1 [00:00<00:00, 27776.85it/s]\n",
      "Retrieving MaterialsDoc documents: 100%|███████| 1/1 [00:00<00:00, 24966.10it/s]\n",
      "Retrieving MaterialsDoc documents: 100%|███████| 1/1 [00:00<00:00, 29537.35it/s]\n",
      "Retrieving MaterialsDoc documents: 100%|███████| 1/1 [00:00<00:00, 27776.85it/s]\n",
      "Retrieving MaterialsDoc documents: 100%|███████| 1/1 [00:00<00:00, 28728.11it/s]\n",
      "Retrieving MaterialsDoc documents: 100%|███████| 1/1 [00:00<00:00, 27776.85it/s]\n",
      "Retrieving MaterialsDoc documents: 100%|███████| 1/1 [00:00<00:00, 27776.85it/s]\n",
      "Retrieving MaterialsDoc documents: 100%|███████| 1/1 [00:00<00:00, 21290.88it/s]\n",
      "Retrieving MaterialsDoc documents: 100%|███████| 1/1 [00:00<00:00, 29330.80it/s]\n",
      "Retrieving MaterialsDoc documents: 100%|███████| 1/1 [00:00<00:00, 28532.68it/s]\n",
      "Retrieving MaterialsDoc documents: 100%|███████| 1/1 [00:00<00:00, 27776.85it/s]\n",
      "Retrieving MaterialsDoc documents: 100%|███████| 1/1 [00:00<00:00, 29330.80it/s]\n",
      "Retrieving MaterialsDoc documents: 100%|███████| 1/1 [00:00<00:00, 28532.68it/s]\n",
      "Retrieving MaterialsDoc documents: 100%|███████| 1/1 [00:00<00:00, 31300.78it/s]\n",
      "Retrieving MaterialsDoc documents: 100%|███████| 1/1 [00:00<00:00, 31300.78it/s]\n",
      "Retrieving MaterialsDoc documents: 100%|███████| 1/1 [00:00<00:00, 28532.68it/s]\n",
      "Retrieving MaterialsDoc documents: 100%|███████| 1/1 [00:00<00:00, 28532.68it/s]\n",
      "Retrieving MaterialsDoc documents: 100%|███████| 1/1 [00:00<00:00, 26379.27it/s]\n",
      "Retrieving MaterialsDoc documents: 100%|███████| 1/1 [00:00<00:00, 24966.10it/s]\n",
      "Retrieving MaterialsDoc documents: 100%|███████| 1/1 [00:00<00:00, 27060.03it/s]\n",
      "Retrieving MaterialsDoc documents: 100%|███████| 1/1 [00:00<00:00, 29330.80it/s]\n",
      "Retrieving MaterialsDoc documents: 100%|███████| 1/1 [00:00<00:00, 27594.11it/s]\n",
      "Retrieving MaterialsDoc documents: 100%|███████| 1/1 [00:00<00:00, 28532.68it/s]\n",
      "Retrieving MaterialsDoc documents: 100%|███████| 1/1 [00:00<00:00, 29330.80it/s]\n",
      "Retrieving MaterialsDoc documents: 100%|███████| 1/1 [00:00<00:00, 29330.80it/s]\n",
      "Retrieving MaterialsDoc documents: 100%|███████| 1/1 [00:00<00:00, 27060.03it/s]\n",
      "Retrieving MaterialsDoc documents: 0it [00:00, ?it/s]\n"
     ]
    },
    {
     "name": "stdout",
     "output_type": "stream",
     "text": [
      "Error occurred for material ID mp-777130: 'list' object has no attribute 'to'\n"
     ]
    },
    {
     "name": "stderr",
     "output_type": "stream",
     "text": [
      "Retrieving MaterialsDoc documents: 100%|███████| 1/1 [00:00<00:00, 21183.35it/s]\n",
      "Retrieving MaterialsDoc documents: 100%|███████| 1/1 [00:00<00:00, 28728.11it/s]\n",
      "Retrieving MaterialsDoc documents: 100%|███████| 1/1 [00:00<00:00, 27962.03it/s]\n",
      "Retrieving MaterialsDoc documents: 100%|███████| 1/1 [00:00<00:00, 28728.11it/s]\n",
      "Retrieving MaterialsDoc documents: 100%|███████| 1/1 [00:00<00:00, 29330.80it/s]\n",
      "Retrieving MaterialsDoc documents: 100%|███████| 1/1 [00:00<00:00, 27060.03it/s]\n",
      "Retrieving MaterialsDoc documents: 100%|███████| 1/1 [00:00<00:00, 27776.85it/s]\n",
      "Retrieving MaterialsDoc documents: 100%|███████| 1/1 [00:00<00:00, 28339.89it/s]\n",
      "Retrieving MaterialsDoc documents: 100%|███████| 1/1 [00:00<00:00, 23301.69it/s]\n",
      "Retrieving MaterialsDoc documents: 100%|███████| 1/1 [00:00<00:00, 28532.68it/s]\n",
      "Retrieving MaterialsDoc documents: 100%|███████| 1/1 [00:00<00:00, 26886.56it/s]\n",
      "Retrieving MaterialsDoc documents: 100%|███████| 1/1 [00:00<00:00, 29537.35it/s]\n",
      "Retrieving MaterialsDoc documents: 100%|███████| 1/1 [00:00<00:00, 24385.49it/s]\n",
      "Retrieving MaterialsDoc documents: 100%|███████| 1/1 [00:00<00:00, 27594.11it/s]\n",
      "Retrieving MaterialsDoc documents: 0it [00:00, ?it/s]\n"
     ]
    },
    {
     "name": "stdout",
     "output_type": "stream",
     "text": [
      "Error occurred for material ID mp-868610: 'list' object has no attribute 'to'\n"
     ]
    },
    {
     "name": "stderr",
     "output_type": "stream",
     "text": [
      "Retrieving MaterialsDoc documents: 100%|███████| 1/1 [00:00<00:00, 27594.11it/s]\n",
      "Retrieving MaterialsDoc documents: 100%|███████| 1/1 [00:00<00:00, 28532.68it/s]\n",
      "Retrieving MaterialsDoc documents: 100%|███████| 1/1 [00:00<00:00, 24966.10it/s]\n",
      "Retrieving MaterialsDoc documents: 100%|███████| 1/1 [00:00<00:00, 27235.74it/s]\n",
      "Retrieving MaterialsDoc documents: 100%|███████| 1/1 [00:00<00:00, 15141.89it/s]\n",
      "Retrieving MaterialsDoc documents: 100%|███████| 1/1 [00:00<00:00, 30615.36it/s]\n",
      "Retrieving MaterialsDoc documents: 100%|███████| 1/1 [00:00<00:00, 28532.68it/s]\n",
      "Retrieving MaterialsDoc documents: 100%|███████| 1/1 [00:00<00:00, 28532.68it/s]\n",
      "Retrieving MaterialsDoc documents: 100%|███████| 1/1 [00:00<00:00, 31300.78it/s]\n",
      "Retrieving MaterialsDoc documents: 100%|███████| 1/1 [00:00<00:00, 27594.11it/s]\n",
      "Retrieving MaterialsDoc documents: 100%|███████| 1/1 [00:00<00:00, 29330.80it/s]\n",
      "Retrieving MaterialsDoc documents: 100%|███████| 1/1 [00:00<00:00, 29330.80it/s]\n",
      "Retrieving MaterialsDoc documents: 100%|███████| 1/1 [00:00<00:00, 27235.74it/s]\n",
      "Retrieving MaterialsDoc documents: 100%|███████| 1/1 [00:00<00:00, 27594.11it/s]\n",
      "Retrieving MaterialsDoc documents: 100%|███████| 1/1 [00:00<00:00, 28728.11it/s]\n",
      "Retrieving MaterialsDoc documents: 100%|███████| 1/1 [00:00<00:00, 24966.10it/s]\n",
      "Retrieving MaterialsDoc documents: 100%|███████| 1/1 [00:00<00:00, 28532.68it/s]\n",
      "Retrieving MaterialsDoc documents: 100%|███████| 1/1 [00:00<00:00, 28728.11it/s]\n",
      "Retrieving MaterialsDoc documents: 100%|███████| 1/1 [00:00<00:00, 27060.03it/s]\n",
      "Retrieving MaterialsDoc documents: 100%|███████| 1/1 [00:00<00:00, 29746.84it/s]\n",
      "Retrieving MaterialsDoc documents: 100%|███████| 1/1 [00:00<00:00, 28339.89it/s]\n",
      "Retrieving MaterialsDoc documents: 100%|███████| 1/1 [00:00<00:00, 27060.03it/s]\n",
      "Retrieving MaterialsDoc documents: 100%|███████| 1/1 [00:00<00:00, 30174.85it/s]\n",
      "Retrieving MaterialsDoc documents: 100%|███████| 1/1 [00:00<00:00, 29330.80it/s]\n",
      "Retrieving MaterialsDoc documents: 100%|███████| 1/1 [00:00<00:00, 30393.51it/s]\n",
      "Retrieving MaterialsDoc documents: 100%|███████| 1/1 [00:00<00:00, 27060.03it/s]\n",
      "Retrieving MaterialsDoc documents: 100%|███████| 1/1 [00:00<00:00, 27962.03it/s]\n",
      "Retrieving MaterialsDoc documents: 100%|███████| 1/1 [00:00<00:00, 27776.85it/s]\n",
      "Retrieving MaterialsDoc documents: 100%|███████| 1/1 [00:00<00:00, 16644.06it/s]\n",
      "Retrieving MaterialsDoc documents: 100%|███████| 1/1 [00:00<00:00, 26886.56it/s]\n",
      "Retrieving MaterialsDoc documents: 100%|███████| 1/1 [00:00<00:00, 27776.85it/s]\n",
      "Retrieving MaterialsDoc documents: 100%|███████| 1/1 [00:00<00:00, 24966.10it/s]\n",
      "Retrieving MaterialsDoc documents: 100%|███████| 1/1 [00:00<00:00, 27776.85it/s]\n",
      "Retrieving MaterialsDoc documents: 100%|███████| 1/1 [00:00<00:00, 27962.03it/s]\n",
      "Retrieving MaterialsDoc documents: 100%|███████| 1/1 [00:00<00:00, 27594.11it/s]\n",
      "Retrieving MaterialsDoc documents: 100%|███████| 1/1 [00:00<00:00, 28728.11it/s]\n",
      "Retrieving MaterialsDoc documents: 100%|███████| 1/1 [00:00<00:00, 19972.88it/s]\n",
      "Retrieving MaterialsDoc documents: 100%|███████| 1/1 [00:00<00:00, 26214.40it/s]\n",
      "Retrieving MaterialsDoc documents: 100%|███████| 1/1 [00:00<00:00, 30393.51it/s]\n",
      "Retrieving MaterialsDoc documents: 100%|███████| 1/1 [00:00<00:00, 27776.85it/s]\n",
      "Retrieving MaterialsDoc documents: 100%|███████| 1/1 [00:00<00:00, 29330.80it/s]\n",
      "Retrieving MaterialsDoc documents: 100%|███████| 1/1 [00:00<00:00, 26214.40it/s]\n",
      "Retrieving MaterialsDoc documents: 100%|███████| 1/1 [00:00<00:00, 28532.68it/s]\n",
      "Retrieving MaterialsDoc documents: 100%|███████| 1/1 [00:00<00:00, 16384.00it/s]\n",
      "Retrieving MaterialsDoc documents: 100%|███████| 1/1 [00:00<00:00, 27962.03it/s]\n",
      "Retrieving MaterialsDoc documents: 0it [00:00, ?it/s]\n"
     ]
    },
    {
     "name": "stdout",
     "output_type": "stream",
     "text": [
      "Error occurred for material ID mp-763326: 'list' object has no attribute 'to'\n"
     ]
    },
    {
     "name": "stderr",
     "output_type": "stream",
     "text": [
      "Retrieving MaterialsDoc documents: 100%|███████| 1/1 [00:00<00:00, 29537.35it/s]\n",
      "Retrieving MaterialsDoc documents: 100%|███████| 1/1 [00:00<00:00, 28532.68it/s]\n",
      "Retrieving MaterialsDoc documents: 100%|███████| 1/1 [00:00<00:00, 28728.11it/s]\n",
      "Retrieving MaterialsDoc documents: 100%|███████| 1/1 [00:00<00:00, 27776.85it/s]\n",
      "Retrieving MaterialsDoc documents: 100%|███████| 1/1 [00:00<00:00, 28728.11it/s]\n",
      "Retrieving MaterialsDoc documents: 0it [00:00, ?it/s]\n"
     ]
    },
    {
     "name": "stdout",
     "output_type": "stream",
     "text": [
      "Error occurred for material ID mp-626902: 'list' object has no attribute 'to'\n"
     ]
    },
    {
     "name": "stderr",
     "output_type": "stream",
     "text": [
      "Retrieving MaterialsDoc documents: 100%|███████| 1/1 [00:00<00:00, 27594.11it/s]\n",
      "Retrieving MaterialsDoc documents: 100%|███████| 1/1 [00:00<00:00, 27594.11it/s]\n",
      "Retrieving MaterialsDoc documents: 100%|███████| 1/1 [00:00<00:00, 30393.51it/s]\n",
      "Retrieving MaterialsDoc documents: 100%|███████| 1/1 [00:00<00:00, 27776.85it/s]\n",
      "Retrieving MaterialsDoc documents: 100%|███████| 1/1 [00:00<00:00, 28532.68it/s]\n",
      "Retrieving MaterialsDoc documents: 100%|███████| 1/1 [00:00<00:00, 29330.80it/s]\n",
      "Retrieving MaterialsDoc documents: 100%|███████| 1/1 [00:00<00:00, 31300.78it/s]\n",
      "Retrieving MaterialsDoc documents: 100%|███████| 1/1 [00:00<00:00, 30174.85it/s]\n",
      "Retrieving MaterialsDoc documents: 100%|███████| 1/1 [00:00<00:00, 28728.11it/s]\n",
      "Retrieving MaterialsDoc documents: 100%|███████| 1/1 [00:00<00:00, 29330.80it/s]\n",
      "Retrieving MaterialsDoc documents: 100%|███████| 1/1 [00:00<00:00, 31300.78it/s]\n",
      "Retrieving MaterialsDoc documents: 100%|███████| 1/1 [00:00<00:00, 30174.85it/s]\n",
      "Retrieving MaterialsDoc documents: 100%|███████| 1/1 [00:00<00:00, 26214.40it/s]\n",
      "Retrieving MaterialsDoc documents: 100%|███████| 1/1 [00:00<00:00, 27776.85it/s]\n",
      "Retrieving MaterialsDoc documents: 100%|███████| 1/1 [00:00<00:00, 27235.74it/s]\n",
      "Retrieving MaterialsDoc documents: 100%|███████| 1/1 [00:00<00:00, 27235.74it/s]\n",
      "Retrieving MaterialsDoc documents: 100%|███████| 1/1 [00:00<00:00, 29330.80it/s]\n",
      "Retrieving MaterialsDoc documents: 100%|███████| 1/1 [00:00<00:00, 27060.03it/s]\n",
      "Retrieving MaterialsDoc documents: 100%|███████| 1/1 [00:00<00:00, 28532.68it/s]\n",
      "Retrieving MaterialsDoc documents: 100%|███████| 1/1 [00:00<00:00, 28532.68it/s]\n",
      "Retrieving MaterialsDoc documents: 100%|███████| 1/1 [00:00<00:00, 26886.56it/s]\n",
      "Retrieving MaterialsDoc documents: 100%|███████| 1/1 [00:00<00:00, 28532.68it/s]\n",
      "Retrieving MaterialsDoc documents: 100%|███████| 1/1 [00:00<00:00, 28532.68it/s]\n",
      "Retrieving MaterialsDoc documents: 100%|███████| 1/1 [00:00<00:00, 27962.03it/s]\n",
      "Retrieving MaterialsDoc documents: 100%|███████| 1/1 [00:00<00:00, 28532.68it/s]\n",
      "Retrieving MaterialsDoc documents: 100%|███████| 1/1 [00:00<00:00, 28728.11it/s]\n",
      "Retrieving MaterialsDoc documents: 100%|███████| 1/1 [00:00<00:00, 27776.85it/s]\n",
      "Retrieving MaterialsDoc documents: 100%|███████| 1/1 [00:00<00:00, 25575.02it/s]\n",
      "Retrieving MaterialsDoc documents: 100%|███████| 1/1 [00:00<00:00, 28728.11it/s]\n",
      "Retrieving MaterialsDoc documents: 100%|███████| 1/1 [00:00<00:00, 29330.80it/s]\n",
      "Retrieving MaterialsDoc documents: 100%|███████| 1/1 [00:00<00:00, 29330.80it/s]\n",
      "Retrieving MaterialsDoc documents: 100%|███████| 1/1 [00:00<00:00, 29330.80it/s]\n",
      "Retrieving MaterialsDoc documents: 100%|███████| 1/1 [00:00<00:00, 21290.88it/s]\n",
      "Retrieving MaterialsDoc documents: 100%|███████| 1/1 [00:00<00:00, 27776.85it/s]\n",
      "Retrieving MaterialsDoc documents: 100%|███████| 1/1 [00:00<00:00, 29330.80it/s]\n",
      "Retrieving MaterialsDoc documents: 100%|███████| 1/1 [00:00<00:00, 26886.56it/s]\n",
      "Retrieving MaterialsDoc documents: 100%|███████| 1/1 [00:00<00:00, 28532.68it/s]\n",
      "Retrieving MaterialsDoc documents: 100%|███████| 1/1 [00:00<00:00, 29746.84it/s]\n",
      "Retrieving MaterialsDoc documents: 0it [00:00, ?it/s]\n"
     ]
    },
    {
     "name": "stdout",
     "output_type": "stream",
     "text": [
      "Error occurred for material ID mp-795616: 'list' object has no attribute 'to'\n"
     ]
    },
    {
     "name": "stderr",
     "output_type": "stream",
     "text": [
      "Retrieving MaterialsDoc documents: 100%|███████| 1/1 [00:00<00:00, 27060.03it/s]\n",
      "Retrieving MaterialsDoc documents: 100%|███████| 1/1 [00:00<00:00, 27060.03it/s]\n",
      "Retrieving MaterialsDoc documents: 100%|███████| 1/1 [00:00<00:00, 27060.03it/s]\n",
      "Retrieving MaterialsDoc documents: 100%|███████| 1/1 [00:00<00:00, 27962.03it/s]\n",
      "Retrieving MaterialsDoc documents: 0it [00:00, ?it/s]\n"
     ]
    },
    {
     "name": "stdout",
     "output_type": "stream",
     "text": [
      "Error occurred for material ID mp-777225: 'list' object has no attribute 'to'\n"
     ]
    },
    {
     "name": "stderr",
     "output_type": "stream",
     "text": [
      "Retrieving MaterialsDoc documents: 100%|███████| 1/1 [00:00<00:00, 29537.35it/s]\n",
      "Retrieving MaterialsDoc documents: 100%|███████| 1/1 [00:00<00:00, 29746.84it/s]\n",
      "Retrieving MaterialsDoc documents: 100%|███████| 1/1 [00:00<00:00, 28532.68it/s]\n",
      "Retrieving MaterialsDoc documents: 100%|███████| 1/1 [00:00<00:00, 30393.51it/s]\n",
      "Retrieving MaterialsDoc documents: 100%|███████| 1/1 [00:00<00:00, 27776.85it/s]\n",
      "Retrieving MaterialsDoc documents: 100%|███████| 1/1 [00:00<00:00, 26886.56it/s]\n",
      "Retrieving MaterialsDoc documents: 100%|███████| 1/1 [00:00<00:00, 30174.85it/s]\n",
      "Retrieving MaterialsDoc documents: 100%|███████| 1/1 [00:00<00:00, 27776.85it/s]\n",
      "Retrieving MaterialsDoc documents: 100%|███████| 1/1 [00:00<00:00, 28532.68it/s]\n",
      "Retrieving MaterialsDoc documents: 100%|███████| 1/1 [00:00<00:00, 27962.03it/s]\n",
      "Retrieving MaterialsDoc documents: 100%|███████| 1/1 [00:00<00:00, 26886.56it/s]\n",
      "Retrieving MaterialsDoc documents: 0it [00:00, ?it/s]\n"
     ]
    },
    {
     "name": "stdout",
     "output_type": "stream",
     "text": [
      "Error occurred for material ID mp-24972: 'list' object has no attribute 'to'\n"
     ]
    },
    {
     "name": "stderr",
     "output_type": "stream",
     "text": [
      "Retrieving MaterialsDoc documents: 100%|███████| 1/1 [00:00<00:00, 27594.11it/s]\n",
      "Retrieving MaterialsDoc documents: 0it [00:00, ?it/s]\n"
     ]
    },
    {
     "name": "stdout",
     "output_type": "stream",
     "text": [
      "Error occurred for material ID mp-770583: 'list' object has no attribute 'to'\n"
     ]
    },
    {
     "name": "stderr",
     "output_type": "stream",
     "text": [
      "Retrieving MaterialsDoc documents: 100%|███████| 1/1 [00:00<00:00, 25575.02it/s]\n",
      "Retrieving MaterialsDoc documents: 100%|███████| 1/1 [00:00<00:00, 30174.85it/s]\n",
      "Retrieving MaterialsDoc documents: 100%|███████| 1/1 [00:00<00:00, 30393.51it/s]\n",
      "Retrieving MaterialsDoc documents: 100%|███████| 1/1 [00:00<00:00, 30393.51it/s]\n",
      "Retrieving MaterialsDoc documents: 100%|███████| 1/1 [00:00<00:00, 27060.03it/s]\n",
      "Retrieving MaterialsDoc documents: 100%|███████| 1/1 [00:00<00:00, 28532.68it/s]\n",
      "Retrieving MaterialsDoc documents: 100%|███████| 1/1 [00:00<00:00, 27594.11it/s]\n",
      "Retrieving MaterialsDoc documents: 100%|███████| 1/1 [00:00<00:00, 27776.85it/s]\n",
      "Retrieving MaterialsDoc documents: 100%|███████| 1/1 [00:00<00:00, 31300.78it/s]\n",
      "Retrieving MaterialsDoc documents: 100%|███████| 1/1 [00:00<00:00, 28532.68it/s]\n",
      "Retrieving MaterialsDoc documents: 100%|███████| 1/1 [00:00<00:00, 27962.03it/s]\n",
      "Retrieving MaterialsDoc documents: 100%|███████| 1/1 [00:00<00:00, 28339.89it/s]\n",
      "Retrieving MaterialsDoc documents: 100%|███████| 1/1 [00:00<00:00, 29330.80it/s]\n",
      "Retrieving MaterialsDoc documents: 100%|███████| 1/1 [00:00<00:00, 28532.68it/s]\n",
      "Retrieving MaterialsDoc documents: 100%|███████| 1/1 [00:00<00:00, 26886.56it/s]\n",
      "Retrieving MaterialsDoc documents: 100%|███████| 1/1 [00:00<00:00, 30615.36it/s]\n",
      "Retrieving MaterialsDoc documents: 100%|███████| 1/1 [00:00<00:00, 27060.03it/s]\n",
      "Retrieving MaterialsDoc documents: 100%|███████| 1/1 [00:00<00:00, 29330.80it/s]\n",
      "Retrieving MaterialsDoc documents: 100%|███████| 1/1 [00:00<00:00, 28532.68it/s]\n",
      "Retrieving MaterialsDoc documents: 100%|███████| 1/1 [00:00<00:00, 26379.27it/s]\n",
      "Retrieving MaterialsDoc documents: 100%|███████| 1/1 [00:00<00:00, 28728.11it/s]\n",
      "Retrieving MaterialsDoc documents: 100%|███████| 1/1 [00:00<00:00, 27235.74it/s]\n",
      "Retrieving MaterialsDoc documents: 100%|███████| 1/1 [00:00<00:00, 25115.59it/s]\n",
      "Retrieving MaterialsDoc documents: 100%|███████| 1/1 [00:00<00:00, 27962.03it/s]\n",
      "Retrieving MaterialsDoc documents: 100%|███████| 1/1 [00:00<00:00, 29330.80it/s]\n",
      "Retrieving MaterialsDoc documents: 100%|███████| 1/1 [00:00<00:00, 23301.69it/s]\n",
      "Retrieving MaterialsDoc documents: 100%|███████| 1/1 [00:00<00:00, 29537.35it/s]\n",
      "Retrieving MaterialsDoc documents: 100%|███████| 1/1 [00:00<00:00, 24966.10it/s]\n",
      "Retrieving MaterialsDoc documents: 100%|███████| 1/1 [00:00<00:00, 28728.11it/s]\n",
      "Retrieving MaterialsDoc documents: 100%|███████| 1/1 [00:00<00:00, 30174.85it/s]\n",
      "Retrieving MaterialsDoc documents: 0it [00:00, ?it/s]\n"
     ]
    },
    {
     "name": "stdout",
     "output_type": "stream",
     "text": [
      "Error occurred for material ID mp-765777: 'list' object has no attribute 'to'\n"
     ]
    },
    {
     "name": "stderr",
     "output_type": "stream",
     "text": [
      "Retrieving MaterialsDoc documents: 100%|███████| 1/1 [00:00<00:00, 27776.85it/s]\n",
      "Retrieving MaterialsDoc documents: 100%|███████| 1/1 [00:00<00:00, 29537.35it/s]\n",
      "Retrieving MaterialsDoc documents: 100%|███████| 1/1 [00:00<00:00, 27060.03it/s]\n",
      "Retrieving MaterialsDoc documents: 100%|███████| 1/1 [00:00<00:00, 29330.80it/s]\n",
      "Retrieving MaterialsDoc documents: 0it [00:00, ?it/s]\n"
     ]
    },
    {
     "name": "stdout",
     "output_type": "stream",
     "text": [
      "Error occurred for material ID mp-565348: 'list' object has no attribute 'to'\n"
     ]
    },
    {
     "name": "stderr",
     "output_type": "stream",
     "text": [
      "Retrieving MaterialsDoc documents: 100%|███████| 1/1 [00:00<00:00, 27060.03it/s]\n",
      "Retrieving MaterialsDoc documents: 100%|███████| 1/1 [00:00<00:00, 29330.80it/s]\n",
      "Retrieving MaterialsDoc documents: 100%|███████| 1/1 [00:00<00:00, 27776.85it/s]\n",
      "Retrieving MaterialsDoc documents: 100%|███████| 1/1 [00:00<00:00, 29330.80it/s]\n",
      "Retrieving MaterialsDoc documents: 100%|███████| 1/1 [00:00<00:00, 27962.03it/s]\n",
      "Retrieving MaterialsDoc documents: 100%|███████| 1/1 [00:00<00:00, 28532.68it/s]\n",
      "Retrieving MaterialsDoc documents: 100%|███████| 1/1 [00:00<00:00, 29537.35it/s]\n",
      "Retrieving MaterialsDoc documents: 100%|███████| 1/1 [00:00<00:00, 27594.11it/s]\n",
      "Retrieving MaterialsDoc documents: 100%|███████| 1/1 [00:00<00:00, 29537.35it/s]\n",
      "Retrieving MaterialsDoc documents: 100%|███████| 1/1 [00:00<00:00, 28728.11it/s]\n",
      "Retrieving MaterialsDoc documents: 0it [00:00, ?it/s]\n"
     ]
    },
    {
     "name": "stdout",
     "output_type": "stream",
     "text": [
      "Error occurred for material ID mp-761361: 'list' object has no attribute 'to'\n"
     ]
    },
    {
     "name": "stderr",
     "output_type": "stream",
     "text": [
      "Retrieving MaterialsDoc documents: 100%|███████| 1/1 [00:00<00:00, 29330.80it/s]\n",
      "Retrieving MaterialsDoc documents: 100%|███████| 1/1 [00:00<00:00, 27776.85it/s]\n",
      "Retrieving MaterialsDoc documents: 100%|███████| 1/1 [00:00<00:00, 27060.03it/s]\n",
      "Retrieving MaterialsDoc documents: 100%|███████| 1/1 [00:00<00:00, 29330.80it/s]\n",
      "Retrieving MaterialsDoc documents: 100%|███████| 1/1 [00:00<00:00, 30393.51it/s]\n",
      "Retrieving MaterialsDoc documents: 100%|███████| 1/1 [00:00<00:00, 30174.85it/s]\n",
      "Retrieving MaterialsDoc documents: 100%|███████| 1/1 [00:00<00:00, 27962.03it/s]\n",
      "Retrieving MaterialsDoc documents: 0it [00:00, ?it/s]\n"
     ]
    },
    {
     "name": "stdout",
     "output_type": "stream",
     "text": [
      "Error occurred for material ID mp-775845: 'list' object has no attribute 'to'\n"
     ]
    },
    {
     "name": "stderr",
     "output_type": "stream",
     "text": [
      "Retrieving MaterialsDoc documents: 100%|███████| 1/1 [00:00<00:00, 27060.03it/s]\n",
      "Retrieving MaterialsDoc documents: 100%|███████| 1/1 [00:00<00:00, 28728.11it/s]\n",
      "Retrieving MaterialsDoc documents: 100%|███████| 1/1 [00:00<00:00, 30393.51it/s]\n",
      "Retrieving MaterialsDoc documents: 100%|███████| 1/1 [00:00<00:00, 28532.68it/s]\n",
      "Retrieving MaterialsDoc documents: 100%|███████| 1/1 [00:00<00:00, 27594.11it/s]\n",
      "Retrieving MaterialsDoc documents: 100%|███████| 1/1 [00:00<00:00, 29537.35it/s]\n",
      "Retrieving MaterialsDoc documents: 100%|███████| 1/1 [00:00<00:00, 27594.11it/s]\n",
      "Retrieving MaterialsDoc documents: 100%|███████| 1/1 [00:00<00:00, 30174.85it/s]\n",
      "Retrieving MaterialsDoc documents: 100%|███████| 1/1 [00:00<00:00, 28532.68it/s]\n",
      "Retrieving MaterialsDoc documents: 100%|███████| 1/1 [00:00<00:00, 19599.55it/s]\n",
      "Retrieving MaterialsDoc documents: 100%|███████| 1/1 [00:00<00:00, 28532.68it/s]\n",
      "Retrieving MaterialsDoc documents: 100%|███████| 1/1 [00:00<00:00, 31300.78it/s]\n",
      "Retrieving MaterialsDoc documents: 100%|███████| 1/1 [00:00<00:00, 27776.85it/s]\n",
      "Retrieving MaterialsDoc documents: 100%|███████| 1/1 [00:00<00:00, 29330.80it/s]\n",
      "Retrieving MaterialsDoc documents: 100%|███████| 1/1 [00:00<00:00, 28728.11it/s]\n",
      "Retrieving MaterialsDoc documents: 100%|███████| 1/1 [00:00<00:00, 28532.68it/s]\n",
      "Retrieving MaterialsDoc documents: 100%|███████| 1/1 [00:00<00:00, 25731.93it/s]\n",
      "Retrieving MaterialsDoc documents: 100%|███████| 1/1 [00:00<00:00, 29537.35it/s]\n",
      "Retrieving MaterialsDoc documents: 100%|███████| 1/1 [00:00<00:00, 30393.51it/s]\n",
      "Retrieving MaterialsDoc documents: 100%|███████| 1/1 [00:00<00:00, 28339.89it/s]\n",
      "Retrieving MaterialsDoc documents: 100%|███████| 1/1 [00:00<00:00, 27776.85it/s]\n",
      "Retrieving MaterialsDoc documents: 100%|███████| 1/1 [00:00<00:00, 30174.85it/s]\n",
      "Retrieving MaterialsDoc documents: 100%|███████| 1/1 [00:00<00:00, 27235.74it/s]\n",
      "Retrieving MaterialsDoc documents: 100%|███████| 1/1 [00:00<00:00, 28532.68it/s]\n",
      "Retrieving MaterialsDoc documents: 100%|███████| 1/1 [00:00<00:00, 32263.88it/s]\n",
      "Retrieving MaterialsDoc documents: 100%|███████| 1/1 [00:00<00:00, 27235.74it/s]\n",
      "Retrieving MaterialsDoc documents: 0it [00:00, ?it/s]\n"
     ]
    },
    {
     "name": "stdout",
     "output_type": "stream",
     "text": [
      "Error occurred for material ID mp-779948: 'list' object has no attribute 'to'\n"
     ]
    },
    {
     "name": "stderr",
     "output_type": "stream",
     "text": [
      "Retrieving MaterialsDoc documents: 100%|███████| 1/1 [00:00<00:00, 30174.85it/s]\n",
      "Retrieving MaterialsDoc documents: 100%|███████| 1/1 [00:00<00:00, 27060.03it/s]\n",
      "Retrieving MaterialsDoc documents: 100%|███████| 1/1 [00:00<00:00, 27060.03it/s]\n",
      "Retrieving MaterialsDoc documents: 100%|███████| 1/1 [00:00<00:00, 27594.11it/s]\n",
      "Retrieving MaterialsDoc documents: 100%|███████| 1/1 [00:00<00:00, 27594.11it/s]\n",
      "Retrieving MaterialsDoc documents: 0it [00:00, ?it/s]\n"
     ]
    },
    {
     "name": "stdout",
     "output_type": "stream",
     "text": [
      "Error occurred for material ID mp-769933: 'list' object has no attribute 'to'\n"
     ]
    },
    {
     "name": "stderr",
     "output_type": "stream",
     "text": [
      "Retrieving MaterialsDoc documents: 100%|███████| 1/1 [00:00<00:00, 18808.54it/s]\n",
      "Retrieving MaterialsDoc documents: 100%|███████| 1/1 [00:00<00:00, 27962.03it/s]\n",
      "Retrieving MaterialsDoc documents: 0it [00:00, ?it/s]\n"
     ]
    },
    {
     "name": "stdout",
     "output_type": "stream",
     "text": [
      "Error occurred for material ID mp-768060: 'list' object has no attribute 'to'\n"
     ]
    },
    {
     "name": "stderr",
     "output_type": "stream",
     "text": [
      "Retrieving MaterialsDoc documents: 100%|███████| 1/1 [00:00<00:00, 27594.11it/s]\n",
      "Retrieving MaterialsDoc documents: 100%|███████| 1/1 [00:00<00:00, 27776.85it/s]\n",
      "Retrieving MaterialsDoc documents: 100%|███████| 1/1 [00:00<00:00, 28532.68it/s]\n",
      "Retrieving MaterialsDoc documents: 100%|███████| 1/1 [00:00<00:00, 28532.68it/s]\n",
      "Retrieving MaterialsDoc documents: 100%|███████| 1/1 [00:00<00:00, 27594.11it/s]\n",
      "Retrieving MaterialsDoc documents: 100%|███████| 1/1 [00:00<00:00, 27594.11it/s]\n",
      "Retrieving MaterialsDoc documents: 100%|███████| 1/1 [00:00<00:00, 29537.35it/s]\n",
      "Retrieving MaterialsDoc documents: 100%|███████| 1/1 [00:00<00:00, 27235.74it/s]\n",
      "Retrieving MaterialsDoc documents: 100%|███████| 1/1 [00:00<00:00, 27235.74it/s]\n",
      "Retrieving MaterialsDoc documents: 100%|███████| 1/1 [00:00<00:00, 29330.80it/s]\n",
      "Retrieving MaterialsDoc documents: 100%|███████| 1/1 [00:00<00:00, 20068.44it/s]\n",
      "Retrieving MaterialsDoc documents: 100%|███████| 1/1 [00:00<00:00, 29330.80it/s]\n",
      "Retrieving MaterialsDoc documents: 100%|███████| 1/1 [00:00<00:00, 27060.03it/s]\n",
      "Retrieving MaterialsDoc documents: 100%|███████| 1/1 [00:00<00:00, 27235.74it/s]\n",
      "Retrieving MaterialsDoc documents: 100%|███████| 1/1 [00:00<00:00, 30393.51it/s]\n",
      "Retrieving MaterialsDoc documents: 100%|███████| 1/1 [00:00<00:00, 31300.78it/s]\n",
      "Retrieving MaterialsDoc documents: 100%|███████| 1/1 [00:00<00:00, 27594.11it/s]\n",
      "Retrieving MaterialsDoc documents: 100%|███████| 1/1 [00:00<00:00, 28339.89it/s]\n",
      "Retrieving MaterialsDoc documents: 100%|███████| 1/1 [00:00<00:00, 29537.35it/s]\n",
      "Retrieving MaterialsDoc documents: 100%|███████| 1/1 [00:00<00:00, 27776.85it/s]\n",
      "Retrieving MaterialsDoc documents: 100%|███████| 1/1 [00:00<00:00, 27776.85it/s]\n",
      "Retrieving MaterialsDoc documents: 100%|███████| 1/1 [00:00<00:00, 29330.80it/s]\n",
      "Retrieving MaterialsDoc documents: 100%|███████| 1/1 [00:00<00:00, 23301.69it/s]\n",
      "Retrieving MaterialsDoc documents: 100%|███████| 1/1 [00:00<00:00, 27776.85it/s]\n",
      "Retrieving MaterialsDoc documents: 0it [00:00, ?it/s]\n"
     ]
    },
    {
     "name": "stdout",
     "output_type": "stream",
     "text": [
      "Error occurred for material ID mp-561800: 'list' object has no attribute 'to'\n"
     ]
    },
    {
     "name": "stderr",
     "output_type": "stream",
     "text": [
      "Retrieving MaterialsDoc documents: 100%|███████| 1/1 [00:00<00:00, 28532.68it/s]\n",
      "Retrieving MaterialsDoc documents: 100%|███████| 1/1 [00:00<00:00, 27060.03it/s]\n",
      "Retrieving MaterialsDoc documents: 100%|███████| 1/1 [00:00<00:00, 29537.35it/s]\n",
      "Retrieving MaterialsDoc documents: 100%|███████| 1/1 [00:00<00:00, 27594.11it/s]\n",
      "Retrieving MaterialsDoc documents: 100%|███████| 1/1 [00:00<00:00, 27594.11it/s]\n",
      "Retrieving MaterialsDoc documents: 100%|███████| 1/1 [00:00<00:00, 26379.27it/s]\n",
      "Retrieving MaterialsDoc documents: 100%|███████| 1/1 [00:00<00:00, 29330.80it/s]\n",
      "Retrieving MaterialsDoc documents: 100%|███████| 1/1 [00:00<00:00, 27962.03it/s]\n",
      "Retrieving MaterialsDoc documents: 100%|███████| 1/1 [00:00<00:00, 29330.80it/s]\n",
      "Retrieving MaterialsDoc documents: 100%|███████| 1/1 [00:00<00:00, 26546.23it/s]\n",
      "Retrieving MaterialsDoc documents: 100%|███████| 1/1 [00:00<00:00, 27776.85it/s]\n",
      "Retrieving MaterialsDoc documents: 0it [00:00, ?it/s]\n"
     ]
    },
    {
     "name": "stdout",
     "output_type": "stream",
     "text": [
      "Error occurred for material ID mp-775089: 'list' object has no attribute 'to'\n"
     ]
    },
    {
     "name": "stderr",
     "output_type": "stream",
     "text": [
      "Retrieving MaterialsDoc documents: 100%|███████| 1/1 [00:00<00:00, 27594.11it/s]\n",
      "Retrieving MaterialsDoc documents: 100%|███████| 1/1 [00:00<00:00, 28532.68it/s]\n",
      "Retrieving MaterialsDoc documents: 100%|███████| 1/1 [00:00<00:00, 28339.89it/s]\n",
      "Retrieving MaterialsDoc documents: 100%|███████| 1/1 [00:00<00:00, 29330.80it/s]\n",
      "Retrieving MaterialsDoc documents: 100%|███████| 1/1 [00:00<00:00, 28532.68it/s]\n",
      "Retrieving MaterialsDoc documents: 100%|███████| 1/1 [00:00<00:00, 28532.68it/s]\n",
      "Retrieving MaterialsDoc documents: 100%|███████| 1/1 [00:00<00:00, 28532.68it/s]\n",
      "Retrieving MaterialsDoc documents: 100%|███████| 1/1 [00:00<00:00, 27594.11it/s]\n",
      "Retrieving MaterialsDoc documents: 100%|███████| 1/1 [00:00<00:00, 29330.80it/s]\n",
      "Retrieving MaterialsDoc documents: 100%|███████| 1/1 [00:00<00:00, 22671.91it/s]\n",
      "Retrieving MaterialsDoc documents: 100%|███████| 1/1 [00:00<00:00, 30393.51it/s]\n",
      "Retrieving MaterialsDoc documents: 100%|███████| 1/1 [00:00<00:00, 30393.51it/s]\n",
      "Retrieving MaterialsDoc documents: 100%|███████| 1/1 [00:00<00:00, 28728.11it/s]\n",
      "Retrieving MaterialsDoc documents: 100%|███████| 1/1 [00:00<00:00, 27962.03it/s]\n",
      "Retrieving MaterialsDoc documents: 100%|███████| 1/1 [00:00<00:00, 27962.03it/s]\n",
      "Retrieving MaterialsDoc documents: 100%|███████| 1/1 [00:00<00:00, 26379.27it/s]\n",
      "Retrieving MaterialsDoc documents: 100%|███████| 1/1 [00:00<00:00, 29330.80it/s]\n",
      "Retrieving MaterialsDoc documents: 100%|███████| 1/1 [00:00<00:00, 28728.11it/s]\n",
      "Retrieving MaterialsDoc documents: 100%|███████| 1/1 [00:00<00:00, 31068.92it/s]\n",
      "Retrieving MaterialsDoc documents: 100%|███████| 1/1 [00:00<00:00, 28532.68it/s]\n",
      "Retrieving MaterialsDoc documents: 100%|███████| 1/1 [00:00<00:00, 27962.03it/s]\n",
      "Retrieving MaterialsDoc documents: 100%|███████| 1/1 [00:00<00:00, 27594.11it/s]\n",
      "Retrieving MaterialsDoc documents: 100%|███████| 1/1 [00:00<00:00, 27776.85it/s]\n",
      "Retrieving MaterialsDoc documents: 100%|███████| 1/1 [00:00<00:00, 31300.78it/s]\n",
      "Retrieving MaterialsDoc documents: 100%|███████| 1/1 [00:00<00:00, 25575.02it/s]\n",
      "Retrieving MaterialsDoc documents: 100%|███████| 1/1 [00:00<00:00, 26214.40it/s]\n",
      "Retrieving MaterialsDoc documents: 100%|███████| 1/1 [00:00<00:00, 23831.27it/s]\n",
      "Retrieving MaterialsDoc documents: 100%|███████| 1/1 [00:00<00:00, 27594.11it/s]\n",
      "Retrieving MaterialsDoc documents: 100%|███████| 1/1 [00:00<00:00, 28532.68it/s]\n",
      "Retrieving MaterialsDoc documents: 100%|███████| 1/1 [00:00<00:00, 30393.51it/s]\n",
      "Retrieving MaterialsDoc documents: 100%|███████| 1/1 [00:00<00:00, 28532.68it/s]\n",
      "Retrieving MaterialsDoc documents: 0it [00:00, ?it/s]\n"
     ]
    },
    {
     "name": "stdout",
     "output_type": "stream",
     "text": [
      "Error occurred for material ID mp-867133: 'list' object has no attribute 'to'\n"
     ]
    },
    {
     "name": "stderr",
     "output_type": "stream",
     "text": [
      "Retrieving MaterialsDoc documents: 100%|███████| 1/1 [00:00<00:00, 28532.68it/s]\n",
      "Retrieving MaterialsDoc documents: 100%|███████| 1/1 [00:00<00:00, 27962.03it/s]\n",
      "Retrieving MaterialsDoc documents: 100%|███████| 1/1 [00:00<00:00, 30174.85it/s]\n",
      "Retrieving MaterialsDoc documents: 100%|███████| 1/1 [00:00<00:00, 32263.88it/s]\n",
      "Retrieving MaterialsDoc documents: 100%|███████| 1/1 [00:00<00:00, 27962.03it/s]\n",
      "Retrieving MaterialsDoc documents: 100%|███████| 1/1 [00:00<00:00, 27594.11it/s]\n",
      "Retrieving MaterialsDoc documents: 100%|███████| 1/1 [00:00<00:00, 28532.68it/s]\n",
      "Retrieving MaterialsDoc documents: 100%|███████| 1/1 [00:00<00:00, 28532.68it/s]\n",
      "Retrieving MaterialsDoc documents: 100%|███████| 1/1 [00:00<00:00, 28532.68it/s]\n",
      "Retrieving MaterialsDoc documents: 100%|███████| 1/1 [00:00<00:00, 29330.80it/s]\n",
      "Retrieving MaterialsDoc documents: 100%|███████| 1/1 [00:00<00:00, 31300.78it/s]\n",
      "Retrieving MaterialsDoc documents: 100%|███████| 1/1 [00:00<00:00, 28532.68it/s]\n",
      "Retrieving MaterialsDoc documents: 100%|███████| 1/1 [00:00<00:00, 29537.35it/s]\n",
      "Retrieving MaterialsDoc documents: 100%|███████| 1/1 [00:00<00:00, 27594.11it/s]\n",
      "Retrieving MaterialsDoc documents: 100%|███████| 1/1 [00:00<00:00, 29537.35it/s]\n",
      "Retrieving MaterialsDoc documents: 100%|███████| 1/1 [00:00<00:00, 25575.02it/s]\n",
      "Retrieving MaterialsDoc documents: 100%|███████| 1/1 [00:00<00:00, 29537.35it/s]\n",
      "Retrieving MaterialsDoc documents: 100%|███████| 1/1 [00:00<00:00, 27962.03it/s]\n",
      "Retrieving MaterialsDoc documents: 100%|███████| 1/1 [00:00<00:00, 23831.27it/s]\n",
      "Retrieving MaterialsDoc documents: 100%|███████| 1/1 [00:00<00:00, 27235.74it/s]\n",
      "Retrieving MaterialsDoc documents: 0it [00:00, ?it/s]\n"
     ]
    },
    {
     "name": "stdout",
     "output_type": "stream",
     "text": [
      "Error occurred for material ID mp-764309: 'list' object has no attribute 'to'\n"
     ]
    },
    {
     "name": "stderr",
     "output_type": "stream",
     "text": [
      "Retrieving MaterialsDoc documents: 0it [00:00, ?it/s]\n"
     ]
    },
    {
     "name": "stdout",
     "output_type": "stream",
     "text": [
      "Error occurred for material ID mp-773534: 'list' object has no attribute 'to'\n"
     ]
    },
    {
     "name": "stderr",
     "output_type": "stream",
     "text": [
      "Retrieving MaterialsDoc documents: 100%|███████| 1/1 [00:00<00:00, 27776.85it/s]\n",
      "Retrieving MaterialsDoc documents: 100%|███████| 1/1 [00:00<00:00, 27060.03it/s]\n",
      "Retrieving MaterialsDoc documents: 100%|███████| 1/1 [00:00<00:00, 27060.03it/s]\n",
      "Retrieving MaterialsDoc documents: 100%|███████| 1/1 [00:00<00:00, 24385.49it/s]\n",
      "Retrieving MaterialsDoc documents: 100%|███████| 1/1 [00:00<00:00, 27594.11it/s]\n",
      "Retrieving MaterialsDoc documents: 100%|███████| 1/1 [00:00<00:00, 26214.40it/s]\n",
      "Retrieving MaterialsDoc documents: 100%|███████| 1/1 [00:00<00:00, 27060.03it/s]\n",
      "Retrieving MaterialsDoc documents: 100%|███████| 1/1 [00:00<00:00, 12372.58it/s]\n",
      "Retrieving MaterialsDoc documents: 100%|███████| 1/1 [00:00<00:00, 28532.68it/s]\n",
      "Retrieving MaterialsDoc documents: 100%|███████| 1/1 [00:00<00:00, 29330.80it/s]\n",
      "Retrieving MaterialsDoc documents: 100%|███████| 1/1 [00:00<00:00, 27776.85it/s]\n",
      "Retrieving MaterialsDoc documents: 100%|███████| 1/1 [00:00<00:00, 30393.51it/s]\n",
      "Retrieving MaterialsDoc documents: 0it [00:00, ?it/s]\n"
     ]
    },
    {
     "name": "stdout",
     "output_type": "stream",
     "text": [
      "Error occurred for material ID mp-867700: 'list' object has no attribute 'to'\n"
     ]
    },
    {
     "name": "stderr",
     "output_type": "stream",
     "text": [
      "Retrieving MaterialsDoc documents: 100%|███████| 1/1 [00:00<00:00, 28532.68it/s]\n",
      "Retrieving MaterialsDoc documents: 100%|███████| 1/1 [00:00<00:00, 25115.59it/s]\n",
      "Retrieving MaterialsDoc documents: 100%|███████| 1/1 [00:00<00:00, 26214.40it/s]\n",
      "Retrieving MaterialsDoc documents: 100%|███████| 1/1 [00:00<00:00, 27060.03it/s]\n",
      "Retrieving MaterialsDoc documents: 100%|███████| 1/1 [00:00<00:00, 27060.03it/s]\n",
      "Retrieving MaterialsDoc documents: 100%|███████| 1/1 [00:00<00:00, 28728.11it/s]\n",
      "Retrieving MaterialsDoc documents: 100%|███████| 1/1 [00:00<00:00, 32263.88it/s]\n",
      "Retrieving MaterialsDoc documents: 100%|███████| 1/1 [00:00<00:00, 29330.80it/s]\n",
      "Retrieving MaterialsDoc documents: 100%|███████| 1/1 [00:00<00:00, 28339.89it/s]\n",
      "Retrieving MaterialsDoc documents: 100%|███████| 1/1 [00:00<00:00, 30174.85it/s]\n",
      "Retrieving MaterialsDoc documents: 100%|███████| 1/1 [00:00<00:00, 26379.27it/s]\n",
      "Retrieving MaterialsDoc documents: 100%|███████| 1/1 [00:00<00:00, 27235.74it/s]\n",
      "Retrieving MaterialsDoc documents: 100%|███████| 1/1 [00:00<00:00, 29537.35it/s]\n",
      "Retrieving MaterialsDoc documents: 100%|███████| 1/1 [00:00<00:00, 28532.68it/s]\n",
      "Retrieving MaterialsDoc documents: 100%|███████| 1/1 [00:00<00:00, 28532.68it/s]\n",
      "Retrieving MaterialsDoc documents: 100%|███████| 1/1 [00:00<00:00, 27060.03it/s]\n",
      "Retrieving MaterialsDoc documents: 100%|███████| 1/1 [00:00<00:00, 27594.11it/s]\n",
      "Retrieving MaterialsDoc documents: 100%|███████| 1/1 [00:00<00:00, 29330.80it/s]\n",
      "Retrieving MaterialsDoc documents: 100%|███████| 1/1 [00:00<00:00, 22192.08it/s]\n",
      "Retrieving MaterialsDoc documents: 100%|███████| 1/1 [00:00<00:00, 29537.35it/s]\n",
      "Retrieving MaterialsDoc documents: 100%|███████| 1/1 [00:00<00:00, 28532.68it/s]\n",
      "Retrieving MaterialsDoc documents: 100%|███████| 1/1 [00:00<00:00, 26379.27it/s]\n",
      "Retrieving MaterialsDoc documents: 100%|███████| 1/1 [00:00<00:00, 28532.68it/s]\n",
      "Retrieving MaterialsDoc documents: 100%|███████| 1/1 [00:00<00:00, 28728.11it/s]\n",
      "Retrieving MaterialsDoc documents: 100%|███████| 1/1 [00:00<00:00, 29537.35it/s]\n",
      "Retrieving MaterialsDoc documents: 100%|███████| 1/1 [00:00<00:00, 30393.51it/s]\n",
      "Retrieving MaterialsDoc documents: 100%|███████| 1/1 [00:00<00:00, 27060.03it/s]\n",
      "Retrieving MaterialsDoc documents: 100%|███████| 1/1 [00:00<00:00, 30393.51it/s]\n",
      "Retrieving MaterialsDoc documents: 100%|███████| 1/1 [00:00<00:00, 27594.11it/s]\n",
      "Retrieving MaterialsDoc documents: 100%|███████| 1/1 [00:00<00:00, 20867.18it/s]\n",
      "Retrieving MaterialsDoc documents: 100%|███████| 1/1 [00:00<00:00, 29330.80it/s]\n",
      "Retrieving MaterialsDoc documents: 100%|███████| 1/1 [00:00<00:00, 28728.11it/s]\n",
      "Retrieving MaterialsDoc documents: 100%|███████| 1/1 [00:00<00:00, 27594.11it/s]\n",
      "Retrieving MaterialsDoc documents: 100%|███████| 1/1 [00:00<00:00, 27962.03it/s]\n",
      "Retrieving MaterialsDoc documents: 100%|███████| 1/1 [00:00<00:00, 28532.68it/s]\n",
      "Retrieving MaterialsDoc documents: 100%|███████| 1/1 [00:00<00:00, 31300.78it/s]\n",
      "Retrieving MaterialsDoc documents: 100%|███████| 1/1 [00:00<00:00, 28532.68it/s]\n",
      "Retrieving MaterialsDoc documents: 100%|███████| 1/1 [00:00<00:00, 28532.68it/s]\n",
      "Retrieving MaterialsDoc documents: 100%|███████| 1/1 [00:00<00:00, 28532.68it/s]\n",
      "Retrieving MaterialsDoc documents: 100%|███████| 1/1 [00:00<00:00, 28532.68it/s]\n",
      "Retrieving MaterialsDoc documents: 100%|███████| 1/1 [00:00<00:00, 28532.68it/s]\n",
      "Retrieving MaterialsDoc documents: 100%|███████| 1/1 [00:00<00:00, 28728.11it/s]\n",
      "Retrieving MaterialsDoc documents: 100%|███████| 1/1 [00:00<00:00, 31300.78it/s]\n",
      "Retrieving MaterialsDoc documents: 100%|███████| 1/1 [00:00<00:00, 28532.68it/s]\n",
      "Retrieving MaterialsDoc documents: 100%|███████| 1/1 [00:00<00:00, 27776.85it/s]\n",
      "Retrieving MaterialsDoc documents: 100%|███████| 1/1 [00:00<00:00, 28532.68it/s]\n",
      "Retrieving MaterialsDoc documents: 100%|███████| 1/1 [00:00<00:00, 28532.68it/s]\n",
      "Retrieving MaterialsDoc documents: 100%|███████| 1/1 [00:00<00:00, 29330.80it/s]\n",
      "Retrieving MaterialsDoc documents: 100%|███████| 1/1 [00:00<00:00, 28728.11it/s]\n",
      "Retrieving MaterialsDoc documents: 100%|███████| 1/1 [00:00<00:00, 31300.78it/s]\n",
      "Retrieving MaterialsDoc documents: 100%|███████| 1/1 [00:00<00:00, 28532.68it/s]\n",
      "Retrieving MaterialsDoc documents: 100%|███████| 1/1 [00:00<00:00, 27776.85it/s]\n",
      "Retrieving MaterialsDoc documents: 100%|███████| 1/1 [00:00<00:00, 27962.03it/s]\n",
      "Retrieving MaterialsDoc documents: 100%|███████| 1/1 [00:00<00:00, 29537.35it/s]\n",
      "Retrieving MaterialsDoc documents: 100%|███████| 1/1 [00:00<00:00, 29330.80it/s]\n",
      "Retrieving MaterialsDoc documents: 100%|███████| 1/1 [00:00<00:00, 26886.56it/s]\n",
      "Retrieving MaterialsDoc documents: 0it [00:00, ?it/s]\n"
     ]
    },
    {
     "name": "stdout",
     "output_type": "stream",
     "text": [
      "Error occurred for material ID mp-771796: 'list' object has no attribute 'to'\n"
     ]
    },
    {
     "name": "stderr",
     "output_type": "stream",
     "text": [
      "Retrieving MaterialsDoc documents: 100%|███████| 1/1 [00:00<00:00, 29330.80it/s]\n",
      "Retrieving MaterialsDoc documents: 100%|███████| 1/1 [00:00<00:00, 26886.56it/s]\n",
      "Retrieving MaterialsDoc documents: 100%|███████| 1/1 [00:00<00:00, 30393.51it/s]\n",
      "Retrieving MaterialsDoc documents: 100%|███████| 1/1 [00:00<00:00, 27776.85it/s]\n",
      "Retrieving MaterialsDoc documents: 100%|███████| 1/1 [00:00<00:00, 29330.80it/s]\n",
      "Retrieving MaterialsDoc documents: 100%|███████| 1/1 [00:00<00:00, 32513.98it/s]\n",
      "Retrieving MaterialsDoc documents: 0it [00:00, ?it/s]\n"
     ]
    },
    {
     "name": "stdout",
     "output_type": "stream",
     "text": [
      "Error occurred for material ID mp-772359: 'list' object has no attribute 'to'\n"
     ]
    },
    {
     "name": "stderr",
     "output_type": "stream",
     "text": [
      "Retrieving MaterialsDoc documents: 100%|███████| 1/1 [00:00<00:00, 29537.35it/s]\n",
      "Retrieving MaterialsDoc documents: 100%|███████| 1/1 [00:00<00:00, 28728.11it/s]\n",
      "Retrieving MaterialsDoc documents: 100%|███████| 1/1 [00:00<00:00, 27776.85it/s]\n",
      "Retrieving MaterialsDoc documents: 0it [00:00, ?it/s]\n"
     ]
    },
    {
     "name": "stdout",
     "output_type": "stream",
     "text": [
      "Error occurred for material ID mp-782682: 'list' object has no attribute 'to'\n"
     ]
    },
    {
     "name": "stderr",
     "output_type": "stream",
     "text": [
      "Retrieving MaterialsDoc documents: 0it [00:00, ?it/s]\n"
     ]
    },
    {
     "name": "stdout",
     "output_type": "stream",
     "text": [
      "Error occurred for material ID mp-776881: 'list' object has no attribute 'to'\n"
     ]
    },
    {
     "name": "stderr",
     "output_type": "stream",
     "text": [
      "Retrieving MaterialsDoc documents: 100%|███████| 1/1 [00:00<00:00, 27776.85it/s]\n",
      "Retrieving MaterialsDoc documents: 100%|███████| 1/1 [00:00<00:00, 28728.11it/s]\n",
      "Retrieving MaterialsDoc documents: 100%|███████| 1/1 [00:00<00:00, 30393.51it/s]\n",
      "Retrieving MaterialsDoc documents: 100%|███████| 1/1 [00:00<00:00, 29330.80it/s]\n",
      "Retrieving MaterialsDoc documents: 100%|███████| 1/1 [00:00<00:00, 26886.56it/s]\n",
      "Retrieving MaterialsDoc documents: 100%|███████| 1/1 [00:00<00:00, 30174.85it/s]\n",
      "Retrieving MaterialsDoc documents: 100%|███████| 1/1 [00:00<00:00, 31068.92it/s]\n",
      "Retrieving MaterialsDoc documents: 100%|███████| 1/1 [00:00<00:00, 27776.85it/s]\n",
      "Retrieving MaterialsDoc documents: 0it [00:00, ?it/s]\n"
     ]
    },
    {
     "name": "stdout",
     "output_type": "stream",
     "text": [
      "Error occurred for material ID mp-555047: 'list' object has no attribute 'to'\n"
     ]
    },
    {
     "name": "stderr",
     "output_type": "stream",
     "text": [
      "Retrieving MaterialsDoc documents: 100%|███████| 1/1 [00:00<00:00, 29330.80it/s]\n",
      "Retrieving MaterialsDoc documents: 100%|███████| 1/1 [00:00<00:00, 27962.03it/s]\n",
      "Retrieving MaterialsDoc documents: 100%|███████| 1/1 [00:00<00:00, 29537.35it/s]\n",
      "Retrieving MaterialsDoc documents: 100%|███████| 1/1 [00:00<00:00, 28728.11it/s]\n",
      "Retrieving MaterialsDoc documents: 100%|███████| 1/1 [00:00<00:00, 29537.35it/s]\n",
      "Retrieving MaterialsDoc documents: 100%|███████| 1/1 [00:00<00:00, 30174.85it/s]\n",
      "Retrieving MaterialsDoc documents: 100%|███████| 1/1 [00:00<00:00, 28339.89it/s]\n",
      "Retrieving MaterialsDoc documents: 100%|███████| 1/1 [00:00<00:00, 27594.11it/s]\n",
      "Retrieving MaterialsDoc documents: 100%|███████| 1/1 [00:00<00:00, 28339.89it/s]\n",
      "Retrieving MaterialsDoc documents: 100%|███████| 1/1 [00:00<00:00, 28532.68it/s]\n",
      "Retrieving MaterialsDoc documents: 100%|███████| 1/1 [00:00<00:00, 28532.68it/s]\n",
      "Retrieving MaterialsDoc documents: 100%|███████| 1/1 [00:00<00:00, 28728.11it/s]\n",
      "Retrieving MaterialsDoc documents: 100%|███████| 1/1 [00:00<00:00, 30174.85it/s]\n",
      "Retrieving MaterialsDoc documents: 100%|███████| 1/1 [00:00<00:00, 32263.88it/s]\n",
      "Retrieving MaterialsDoc documents: 100%|███████| 1/1 [00:00<00:00, 30393.51it/s]\n",
      "Retrieving MaterialsDoc documents: 100%|███████| 1/1 [00:00<00:00, 27060.03it/s]\n",
      "Retrieving MaterialsDoc documents: 100%|███████| 1/1 [00:00<00:00, 28532.68it/s]\n",
      "Retrieving MaterialsDoc documents: 100%|███████| 1/1 [00:00<00:00, 27962.03it/s]\n",
      "Retrieving MaterialsDoc documents: 100%|███████| 1/1 [00:00<00:00, 28728.11it/s]\n",
      "Retrieving MaterialsDoc documents: 100%|███████| 1/1 [00:00<00:00, 33288.13it/s]\n",
      "Retrieving MaterialsDoc documents: 100%|███████| 1/1 [00:00<00:00, 27594.11it/s]\n",
      "Retrieving MaterialsDoc documents: 100%|███████| 1/1 [00:00<00:00, 30174.85it/s]\n",
      "Retrieving MaterialsDoc documents: 100%|███████| 1/1 [00:00<00:00, 30174.85it/s]\n",
      "Retrieving MaterialsDoc documents: 0it [00:00, ?it/s]\n"
     ]
    },
    {
     "name": "stdout",
     "output_type": "stream",
     "text": [
      "Error occurred for material ID mp-853130: 'list' object has no attribute 'to'\n"
     ]
    },
    {
     "name": "stderr",
     "output_type": "stream",
     "text": [
      "Retrieving MaterialsDoc documents: 100%|███████| 1/1 [00:00<00:00, 27776.85it/s]\n",
      "Retrieving MaterialsDoc documents: 100%|███████| 1/1 [00:00<00:00, 32263.88it/s]\n",
      "Retrieving MaterialsDoc documents: 100%|███████| 1/1 [00:00<00:00, 27776.85it/s]\n",
      "Retrieving MaterialsDoc documents: 100%|███████| 1/1 [00:00<00:00, 28339.89it/s]\n",
      "Retrieving MaterialsDoc documents: 100%|███████| 1/1 [00:00<00:00, 29330.80it/s]\n",
      "Retrieving MaterialsDoc documents: 100%|███████| 1/1 [00:00<00:00, 25731.93it/s]\n",
      "Retrieving MaterialsDoc documents: 100%|███████| 1/1 [00:00<00:00, 29537.35it/s]\n",
      "Retrieving MaterialsDoc documents: 100%|███████| 1/1 [00:00<00:00, 27776.85it/s]\n",
      "Retrieving MaterialsDoc documents: 100%|███████| 1/1 [00:00<00:00, 29330.80it/s]\n",
      "Retrieving MaterialsDoc documents: 100%|███████| 1/1 [00:00<00:00, 27776.85it/s]\n",
      "Retrieving MaterialsDoc documents: 100%|███████| 1/1 [00:00<00:00, 30174.85it/s]\n",
      "Retrieving MaterialsDoc documents: 0it [00:00, ?it/s]\n"
     ]
    },
    {
     "name": "stdout",
     "output_type": "stream",
     "text": [
      "Error occurred for material ID mp-773296: 'list' object has no attribute 'to'\n"
     ]
    },
    {
     "name": "stderr",
     "output_type": "stream",
     "text": [
      "Retrieving MaterialsDoc documents: 0it [00:00, ?it/s]\n"
     ]
    },
    {
     "name": "stdout",
     "output_type": "stream",
     "text": [
      "Error occurred for material ID mp-540682: 'list' object has no attribute 'to'\n"
     ]
    },
    {
     "name": "stderr",
     "output_type": "stream",
     "text": [
      "Retrieving MaterialsDoc documents: 100%|███████| 1/1 [00:00<00:00, 27776.85it/s]\n",
      "Retrieving MaterialsDoc documents: 100%|███████| 1/1 [00:00<00:00, 19972.88it/s]\n",
      "Retrieving MaterialsDoc documents: 0it [00:00, ?it/s]\n"
     ]
    },
    {
     "name": "stdout",
     "output_type": "stream",
     "text": [
      "Error occurred for material ID mp-779972: 'list' object has no attribute 'to'\n"
     ]
    },
    {
     "name": "stderr",
     "output_type": "stream",
     "text": [
      "Retrieving MaterialsDoc documents: 100%|███████| 1/1 [00:00<00:00, 27962.03it/s]\n",
      "Retrieving MaterialsDoc documents: 100%|███████| 1/1 [00:00<00:00, 24385.49it/s]\n",
      "Retrieving MaterialsDoc documents: 100%|███████| 1/1 [00:00<00:00, 31300.78it/s]\n",
      "Retrieving MaterialsDoc documents: 100%|███████| 1/1 [00:00<00:00, 28532.68it/s]\n",
      "Retrieving MaterialsDoc documents: 0it [00:00, ?it/s]\n"
     ]
    },
    {
     "name": "stdout",
     "output_type": "stream",
     "text": [
      "Error occurred for material ID mp-771789: 'list' object has no attribute 'to'\n"
     ]
    },
    {
     "name": "stderr",
     "output_type": "stream",
     "text": [
      "Retrieving MaterialsDoc documents: 100%|███████| 1/1 [00:00<00:00, 28728.11it/s]\n",
      "Retrieving MaterialsDoc documents: 100%|███████| 1/1 [00:00<00:00, 28728.11it/s]\n",
      "Retrieving MaterialsDoc documents: 100%|███████| 1/1 [00:00<00:00, 21732.15it/s]\n",
      "Retrieving MaterialsDoc documents: 100%|███████| 1/1 [00:00<00:00, 28532.68it/s]\n",
      "Retrieving MaterialsDoc documents: 100%|███████| 1/1 [00:00<00:00, 27594.11it/s]\n",
      "Retrieving MaterialsDoc documents: 100%|███████| 1/1 [00:00<00:00, 28728.11it/s]\n",
      "Retrieving MaterialsDoc documents: 100%|███████| 1/1 [00:00<00:00, 28532.68it/s]\n",
      "Retrieving MaterialsDoc documents: 100%|███████| 1/1 [00:00<00:00, 28339.89it/s]\n",
      "Retrieving MaterialsDoc documents: 100%|███████| 1/1 [00:00<00:00, 30393.51it/s]\n",
      "Retrieving MaterialsDoc documents: 100%|███████| 1/1 [00:00<00:00, 29537.35it/s]\n",
      "Retrieving MaterialsDoc documents: 100%|███████| 1/1 [00:00<00:00, 30174.85it/s]\n",
      "Retrieving MaterialsDoc documents: 0it [00:00, ?it/s]\n"
     ]
    },
    {
     "name": "stdout",
     "output_type": "stream",
     "text": [
      "Error occurred for material ID mp-24946: 'list' object has no attribute 'to'\n"
     ]
    },
    {
     "name": "stderr",
     "output_type": "stream",
     "text": [
      "Retrieving MaterialsDoc documents: 100%|███████| 1/1 [00:00<00:00, 27776.85it/s]\n",
      "Retrieving MaterialsDoc documents: 100%|███████| 1/1 [00:00<00:00, 32263.88it/s]\n",
      "Retrieving MaterialsDoc documents: 100%|███████| 1/1 [00:00<00:00, 26379.27it/s]\n",
      "Retrieving MaterialsDoc documents: 100%|███████| 1/1 [00:00<00:00, 28532.68it/s]\n",
      "Retrieving MaterialsDoc documents: 100%|███████| 1/1 [00:00<00:00, 27594.11it/s]\n",
      "Retrieving MaterialsDoc documents: 100%|███████| 1/1 [00:00<00:00, 28728.11it/s]\n",
      "Retrieving MaterialsDoc documents: 100%|███████| 1/1 [00:00<00:00, 28532.68it/s]\n",
      "Retrieving MaterialsDoc documents: 100%|███████| 1/1 [00:00<00:00, 28532.68it/s]\n",
      "Retrieving MaterialsDoc documents: 100%|███████| 1/1 [00:00<00:00, 26886.56it/s]\n",
      "Retrieving MaterialsDoc documents: 100%|███████| 1/1 [00:00<00:00, 29537.35it/s]\n",
      "Retrieving MaterialsDoc documents: 100%|███████| 1/1 [00:00<00:00, 28532.68it/s]\n",
      "Retrieving MaterialsDoc documents: 100%|███████| 1/1 [00:00<00:00, 29537.35it/s]\n",
      "Retrieving MaterialsDoc documents: 100%|███████| 1/1 [00:00<00:00, 30393.51it/s]\n",
      "Retrieving MaterialsDoc documents: 100%|███████| 1/1 [00:00<00:00, 27594.11it/s]\n",
      "Retrieving MaterialsDoc documents: 100%|███████| 1/1 [00:00<00:00, 28728.11it/s]\n",
      "Retrieving MaterialsDoc documents: 100%|███████| 1/1 [00:00<00:00, 27594.11it/s]\n",
      "Retrieving MaterialsDoc documents: 100%|███████| 1/1 [00:00<00:00, 28532.68it/s]\n",
      "Retrieving MaterialsDoc documents: 100%|███████| 1/1 [00:00<00:00, 30174.85it/s]\n",
      "Retrieving MaterialsDoc documents: 100%|███████| 1/1 [00:00<00:00, 31300.78it/s]\n",
      "Retrieving MaterialsDoc documents: 100%|███████| 1/1 [00:00<00:00, 27235.74it/s]\n",
      "Retrieving MaterialsDoc documents: 0it [00:00, ?it/s]\n"
     ]
    },
    {
     "name": "stdout",
     "output_type": "stream",
     "text": [
      "Error occurred for material ID mp-24842: 'list' object has no attribute 'to'\n"
     ]
    },
    {
     "name": "stderr",
     "output_type": "stream",
     "text": [
      "Retrieving MaterialsDoc documents: 100%|███████| 1/1 [00:00<00:00, 30174.85it/s]\n",
      "Retrieving MaterialsDoc documents: 100%|███████| 1/1 [00:00<00:00, 26886.56it/s]\n",
      "Retrieving MaterialsDoc documents: 100%|███████| 1/1 [00:00<00:00, 28728.11it/s]\n",
      "Retrieving MaterialsDoc documents: 100%|███████| 1/1 [00:00<00:00, 29330.80it/s]\n",
      "Retrieving MaterialsDoc documents: 100%|███████| 1/1 [00:00<00:00, 27594.11it/s]\n",
      "Retrieving MaterialsDoc documents: 100%|███████| 1/1 [00:00<00:00, 27776.85it/s]\n",
      "Retrieving MaterialsDoc documents: 100%|███████| 1/1 [00:00<00:00, 29330.80it/s]\n",
      "Retrieving MaterialsDoc documents: 100%|███████| 1/1 [00:00<00:00, 28532.68it/s]\n",
      "Retrieving MaterialsDoc documents: 100%|███████| 1/1 [00:00<00:00, 27776.85it/s]\n",
      "Retrieving MaterialsDoc documents: 100%|███████| 1/1 [00:00<00:00, 24966.10it/s]\n",
      "Retrieving MaterialsDoc documents: 100%|███████| 1/1 [00:00<00:00, 28532.68it/s]\n",
      "Retrieving MaterialsDoc documents: 0it [00:00, ?it/s]\n"
     ]
    },
    {
     "name": "stdout",
     "output_type": "stream",
     "text": [
      "Error occurred for material ID mp-780002: 'list' object has no attribute 'to'\n"
     ]
    },
    {
     "name": "stderr",
     "output_type": "stream",
     "text": [
      "Retrieving MaterialsDoc documents: 100%|███████| 1/1 [00:00<00:00, 27776.85it/s]\n",
      "Retrieving MaterialsDoc documents: 0it [00:00, ?it/s]\n"
     ]
    },
    {
     "name": "stdout",
     "output_type": "stream",
     "text": [
      "Error occurred for material ID mp-764698: 'list' object has no attribute 'to'\n"
     ]
    },
    {
     "name": "stderr",
     "output_type": "stream",
     "text": [
      "Retrieving MaterialsDoc documents: 100%|███████| 1/1 [00:00<00:00, 26379.27it/s]\n",
      "Retrieving MaterialsDoc documents: 0it [00:00, ?it/s]\n"
     ]
    },
    {
     "name": "stdout",
     "output_type": "stream",
     "text": [
      "Error occurred for material ID mp-779190: 'list' object has no attribute 'to'\n"
     ]
    },
    {
     "name": "stderr",
     "output_type": "stream",
     "text": [
      "Retrieving MaterialsDoc documents: 100%|███████| 1/1 [00:00<00:00, 31300.78it/s]\n",
      "Retrieving MaterialsDoc documents: 100%|███████| 1/1 [00:00<00:00, 27776.85it/s]\n",
      "Retrieving MaterialsDoc documents: 100%|███████| 1/1 [00:00<00:00, 24966.10it/s]\n",
      "Retrieving MaterialsDoc documents: 100%|███████| 1/1 [00:00<00:00, 28728.11it/s]\n",
      "Retrieving MaterialsDoc documents: 100%|███████| 1/1 [00:00<00:00, 29537.35it/s]\n",
      "Retrieving MaterialsDoc documents: 100%|███████| 1/1 [00:00<00:00, 27776.85it/s]\n",
      "Retrieving MaterialsDoc documents: 100%|███████| 1/1 [00:00<00:00, 26886.56it/s]\n",
      "Retrieving MaterialsDoc documents: 100%|███████| 1/1 [00:00<00:00, 27594.11it/s]\n",
      "Retrieving MaterialsDoc documents: 100%|███████| 1/1 [00:00<00:00, 27060.03it/s]\n",
      "Retrieving MaterialsDoc documents: 100%|███████| 1/1 [00:00<00:00, 27594.11it/s]\n",
      "Retrieving MaterialsDoc documents: 100%|███████| 1/1 [00:00<00:00, 16710.37it/s]\n",
      "Retrieving MaterialsDoc documents: 100%|███████| 1/1 [00:00<00:00, 25731.93it/s]\n",
      "Retrieving MaterialsDoc documents: 100%|███████| 1/1 [00:00<00:00, 28532.68it/s]\n",
      "Retrieving MaterialsDoc documents: 100%|███████| 1/1 [00:00<00:00, 29330.80it/s]\n",
      "Retrieving MaterialsDoc documents: 100%|███████| 1/1 [00:00<00:00, 29537.35it/s]\n",
      "Retrieving MaterialsDoc documents: 100%|███████| 1/1 [00:00<00:00, 29330.80it/s]\n",
      "Retrieving MaterialsDoc documents: 100%|███████| 1/1 [00:00<00:00, 30174.85it/s]\n",
      "Retrieving MaterialsDoc documents: 100%|███████| 1/1 [00:00<00:00, 28532.68it/s]\n",
      "Retrieving MaterialsDoc documents: 100%|███████| 1/1 [00:00<00:00, 27776.85it/s]\n",
      "Retrieving MaterialsDoc documents: 100%|███████| 1/1 [00:00<00:00, 24385.49it/s]\n",
      "Retrieving MaterialsDoc documents: 100%|███████| 1/1 [00:00<00:00, 25731.93it/s]\n",
      "Retrieving MaterialsDoc documents: 100%|███████| 1/1 [00:00<00:00, 28728.11it/s]\n",
      "Retrieving MaterialsDoc documents: 100%|███████| 1/1 [00:00<00:00, 27594.11it/s]\n",
      "Retrieving MaterialsDoc documents: 100%|███████| 1/1 [00:00<00:00, 27594.11it/s]\n",
      "Retrieving MaterialsDoc documents: 100%|███████| 1/1 [00:00<00:00, 27776.85it/s]\n",
      "Retrieving MaterialsDoc documents: 100%|███████| 1/1 [00:00<00:00, 28532.68it/s]\n",
      "Retrieving MaterialsDoc documents: 100%|███████| 1/1 [00:00<00:00, 28532.68it/s]\n",
      "Retrieving MaterialsDoc documents: 100%|███████| 1/1 [00:00<00:00, 28532.68it/s]\n",
      "Retrieving MaterialsDoc documents: 100%|███████| 1/1 [00:00<00:00, 32513.98it/s]\n",
      "Retrieving MaterialsDoc documents: 100%|███████| 1/1 [00:00<00:00, 27235.74it/s]\n",
      "Retrieving MaterialsDoc documents: 100%|███████| 1/1 [00:00<00:00, 30174.85it/s]\n",
      "Retrieving MaterialsDoc documents: 100%|███████| 1/1 [00:00<00:00, 26379.27it/s]\n",
      "Retrieving MaterialsDoc documents: 100%|███████| 1/1 [00:00<00:00, 27776.85it/s]\n",
      "Retrieving MaterialsDoc documents: 100%|███████| 1/1 [00:00<00:00, 28532.68it/s]\n",
      "Retrieving MaterialsDoc documents: 100%|███████| 1/1 [00:00<00:00, 27776.85it/s]\n",
      "Retrieving MaterialsDoc documents: 100%|███████| 1/1 [00:00<00:00, 28532.68it/s]\n",
      "Retrieving MaterialsDoc documents: 100%|███████| 1/1 [00:00<00:00, 24818.37it/s]\n",
      "Retrieving MaterialsDoc documents: 100%|███████| 1/1 [00:00<00:00, 28532.68it/s]\n",
      "Retrieving MaterialsDoc documents: 100%|███████| 1/1 [00:00<00:00, 28728.11it/s]\n",
      "Retrieving MaterialsDoc documents: 100%|███████| 1/1 [00:00<00:00, 29330.80it/s]\n",
      "Retrieving MaterialsDoc documents: 100%|███████| 1/1 [00:00<00:00, 30393.51it/s]\n",
      "Retrieving MaterialsDoc documents: 100%|███████| 1/1 [00:00<00:00, 27962.03it/s]\n",
      "Retrieving MaterialsDoc documents: 100%|███████| 1/1 [00:00<00:00, 26886.56it/s]\n",
      "Retrieving MaterialsDoc documents: 100%|███████| 1/1 [00:00<00:00, 28532.68it/s]\n",
      "Retrieving MaterialsDoc documents: 100%|███████| 1/1 [00:00<00:00, 27962.03it/s]\n",
      "Retrieving MaterialsDoc documents: 100%|███████| 1/1 [00:00<00:00, 28532.68it/s]\n",
      "Retrieving MaterialsDoc documents: 100%|███████| 1/1 [00:00<00:00, 27235.74it/s]\n",
      "Retrieving MaterialsDoc documents: 100%|███████| 1/1 [00:00<00:00, 26886.56it/s]\n",
      "Retrieving MaterialsDoc documents: 100%|███████| 1/1 [00:00<00:00, 30393.51it/s]\n",
      "Retrieving MaterialsDoc documents: 100%|███████| 1/1 [00:00<00:00, 28532.68it/s]\n",
      "Retrieving MaterialsDoc documents: 100%|███████| 1/1 [00:00<00:00, 28532.68it/s]\n",
      "Retrieving MaterialsDoc documents: 100%|███████| 1/1 [00:00<00:00, 32263.88it/s]\n",
      "Retrieving MaterialsDoc documents: 100%|███████| 1/1 [00:00<00:00, 32263.88it/s]\n",
      "Retrieving MaterialsDoc documents: 100%|███████| 1/1 [00:00<00:00, 30174.85it/s]\n",
      "Retrieving MaterialsDoc documents: 100%|███████| 1/1 [00:00<00:00, 27060.03it/s]\n",
      "Retrieving MaterialsDoc documents: 100%|███████| 1/1 [00:00<00:00, 28728.11it/s]\n",
      "Retrieving MaterialsDoc documents: 100%|███████| 1/1 [00:00<00:00, 25731.93it/s]\n",
      "Retrieving MaterialsDoc documents: 100%|███████| 1/1 [00:00<00:00, 20460.02it/s]\n",
      "Retrieving MaterialsDoc documents: 100%|███████| 1/1 [00:00<00:00, 27060.03it/s]\n",
      "Retrieving MaterialsDoc documents: 100%|███████| 1/1 [00:00<00:00, 27235.74it/s]\n",
      "Retrieving MaterialsDoc documents: 100%|███████| 1/1 [00:00<00:00, 17476.27it/s]\n",
      "Retrieving MaterialsDoc documents: 0it [00:00, ?it/s]\n"
     ]
    },
    {
     "name": "stdout",
     "output_type": "stream",
     "text": [
      "Error occurred for material ID mp-25111: 'list' object has no attribute 'to'\n"
     ]
    },
    {
     "name": "stderr",
     "output_type": "stream",
     "text": [
      "Retrieving MaterialsDoc documents: 100%|███████| 1/1 [00:00<00:00, 23172.95it/s]\n",
      "Retrieving MaterialsDoc documents: 100%|███████| 1/1 [00:00<00:00, 27962.03it/s]\n",
      "Retrieving MaterialsDoc documents: 100%|███████| 1/1 [00:00<00:00, 28728.11it/s]\n",
      "Retrieving MaterialsDoc documents: 100%|███████| 1/1 [00:00<00:00, 31300.78it/s]\n",
      "Retrieving MaterialsDoc documents: 100%|███████| 1/1 [00:00<00:00, 27962.03it/s]\n",
      "Retrieving MaterialsDoc documents: 100%|███████| 1/1 [00:00<00:00, 29330.80it/s]\n",
      "Retrieving MaterialsDoc documents: 100%|███████| 1/1 [00:00<00:00, 27776.85it/s]\n",
      "Retrieving MaterialsDoc documents: 100%|███████| 1/1 [00:00<00:00, 28728.11it/s]\n",
      "Retrieving MaterialsDoc documents: 100%|███████| 1/1 [00:00<00:00, 26214.40it/s]\n",
      "Retrieving MaterialsDoc documents: 100%|███████| 1/1 [00:00<00:00, 27776.85it/s]\n",
      "Retrieving MaterialsDoc documents: 100%|███████| 1/1 [00:00<00:00, 23172.95it/s]\n",
      "Retrieving MaterialsDoc documents: 100%|███████| 1/1 [00:00<00:00, 20867.18it/s]\n",
      "Retrieving MaterialsDoc documents: 100%|███████| 1/1 [00:00<00:00, 28728.11it/s]\n",
      "Retrieving MaterialsDoc documents: 100%|███████| 1/1 [00:00<00:00, 27594.11it/s]\n",
      "Retrieving MaterialsDoc documents: 100%|███████| 1/1 [00:00<00:00, 30174.85it/s]\n",
      "Retrieving MaterialsDoc documents: 100%|███████| 1/1 [00:00<00:00, 30393.51it/s]\n",
      "Retrieving MaterialsDoc documents: 100%|███████| 1/1 [00:00<00:00, 26886.56it/s]\n",
      "Retrieving MaterialsDoc documents: 100%|███████| 1/1 [00:00<00:00, 28532.68it/s]\n",
      "Retrieving MaterialsDoc documents: 100%|███████| 1/1 [00:00<00:00, 27962.03it/s]\n",
      "Retrieving MaterialsDoc documents: 100%|███████| 1/1 [00:00<00:00, 29330.80it/s]\n",
      "Retrieving MaterialsDoc documents: 100%|███████| 1/1 [00:00<00:00, 25420.02it/s]\n",
      "Retrieving MaterialsDoc documents: 100%|███████| 1/1 [00:00<00:00, 27962.03it/s]\n",
      "Retrieving MaterialsDoc documents: 100%|███████| 1/1 [00:00<00:00, 28532.68it/s]\n",
      "Retrieving MaterialsDoc documents: 100%|███████| 1/1 [00:00<00:00, 29330.80it/s]\n",
      "Retrieving MaterialsDoc documents: 100%|███████| 1/1 [00:00<00:00, 27594.11it/s]\n",
      "Retrieving MaterialsDoc documents: 0it [00:00, ?it/s]\n"
     ]
    },
    {
     "name": "stdout",
     "output_type": "stream",
     "text": [
      "Error occurred for material ID mp-690470: 'list' object has no attribute 'to'\n"
     ]
    },
    {
     "name": "stderr",
     "output_type": "stream",
     "text": [
      "Retrieving MaterialsDoc documents: 100%|███████| 1/1 [00:00<00:00, 27962.03it/s]\n",
      "Retrieving MaterialsDoc documents: 100%|███████| 1/1 [00:00<00:00, 28532.68it/s]\n",
      "Retrieving MaterialsDoc documents: 100%|███████| 1/1 [00:00<00:00, 30174.85it/s]\n",
      "Retrieving MaterialsDoc documents: 100%|███████| 1/1 [00:00<00:00, 27594.11it/s]\n",
      "Retrieving MaterialsDoc documents: 100%|███████| 1/1 [00:00<00:00, 31536.12it/s]\n",
      "Retrieving MaterialsDoc documents: 100%|███████| 1/1 [00:00<00:00, 27594.11it/s]\n",
      "Retrieving MaterialsDoc documents: 100%|███████| 1/1 [00:00<00:00, 29330.80it/s]\n",
      "Retrieving MaterialsDoc documents: 100%|███████| 1/1 [00:00<00:00, 27060.03it/s]\n",
      "Retrieving MaterialsDoc documents: 100%|███████| 1/1 [00:00<00:00, 29537.35it/s]\n",
      "Retrieving MaterialsDoc documents: 100%|███████| 1/1 [00:00<00:00, 29330.80it/s]\n",
      "Retrieving MaterialsDoc documents: 100%|███████| 1/1 [00:00<00:00, 27235.74it/s]\n",
      "Retrieving MaterialsDoc documents: 100%|███████| 1/1 [00:00<00:00, 20068.44it/s]\n",
      "Retrieving MaterialsDoc documents: 100%|███████| 1/1 [00:00<00:00, 28532.68it/s]\n",
      "Retrieving MaterialsDoc documents: 100%|███████| 1/1 [00:00<00:00, 19691.57it/s]\n",
      "Retrieving MaterialsDoc documents: 100%|███████| 1/1 [00:00<00:00, 26886.56it/s]\n",
      "Retrieving MaterialsDoc documents: 100%|███████| 1/1 [00:00<00:00, 28728.11it/s]\n",
      "Retrieving MaterialsDoc documents: 100%|███████| 1/1 [00:00<00:00, 27776.85it/s]\n",
      "Retrieving MaterialsDoc documents: 100%|███████| 1/1 [00:00<00:00, 20360.70it/s]\n",
      "Retrieving MaterialsDoc documents: 100%|███████| 1/1 [00:00<00:00, 28728.11it/s]\n",
      "Retrieving MaterialsDoc documents: 100%|███████| 1/1 [00:00<00:00, 32513.98it/s]\n",
      "Retrieving MaterialsDoc documents: 100%|███████| 1/1 [00:00<00:00, 28532.68it/s]\n",
      "Retrieving MaterialsDoc documents: 100%|███████| 1/1 [00:00<00:00, 30393.51it/s]\n",
      "Retrieving MaterialsDoc documents: 100%|███████| 1/1 [00:00<00:00, 30393.51it/s]\n",
      "Retrieving MaterialsDoc documents: 100%|███████| 1/1 [00:00<00:00, 26886.56it/s]\n",
      "Retrieving MaterialsDoc documents: 100%|███████| 1/1 [00:00<00:00, 27776.85it/s]\n",
      "Retrieving MaterialsDoc documents: 100%|███████| 1/1 [00:00<00:00, 29537.35it/s]\n",
      "Retrieving MaterialsDoc documents: 100%|███████| 1/1 [00:00<00:00, 28532.68it/s]\n",
      "Retrieving MaterialsDoc documents: 0it [00:00, ?it/s]\n"
     ]
    },
    {
     "name": "stdout",
     "output_type": "stream",
     "text": [
      "Error occurred for material ID mp-25145: 'list' object has no attribute 'to'\n"
     ]
    },
    {
     "name": "stderr",
     "output_type": "stream",
     "text": [
      "Retrieving MaterialsDoc documents: 100%|███████| 1/1 [00:00<00:00, 25731.93it/s]\n",
      "Retrieving MaterialsDoc documents: 100%|███████| 1/1 [00:00<00:00, 29330.80it/s]\n",
      "Retrieving MaterialsDoc documents: 100%|███████| 1/1 [00:00<00:00, 29330.80it/s]\n",
      "Retrieving MaterialsDoc documents: 100%|███████| 1/1 [00:00<00:00, 27962.03it/s]\n",
      "Retrieving MaterialsDoc documents: 100%|███████| 1/1 [00:00<00:00, 30174.85it/s]\n",
      "Retrieving MaterialsDoc documents: 100%|███████| 1/1 [00:00<00:00, 25731.93it/s]\n",
      "Retrieving MaterialsDoc documents: 100%|███████| 1/1 [00:00<00:00, 29330.80it/s]\n",
      "Retrieving MaterialsDoc documents: 100%|███████| 1/1 [00:00<00:00, 27962.03it/s]\n",
      "Retrieving MaterialsDoc documents: 100%|███████| 1/1 [00:00<00:00, 30393.51it/s]\n",
      "Retrieving MaterialsDoc documents: 100%|███████| 1/1 [00:00<00:00, 28532.68it/s]\n",
      "Retrieving MaterialsDoc documents: 100%|███████| 1/1 [00:00<00:00, 27776.85it/s]\n",
      "Retrieving MaterialsDoc documents: 100%|███████| 1/1 [00:00<00:00, 29330.80it/s]\n",
      "Retrieving MaterialsDoc documents: 100%|███████| 1/1 [00:00<00:00, 28532.68it/s]\n",
      "Retrieving MaterialsDoc documents: 100%|███████| 1/1 [00:00<00:00, 29330.80it/s]\n",
      "Retrieving MaterialsDoc documents: 100%|███████| 1/1 [00:00<00:00, 29330.80it/s]\n",
      "Retrieving MaterialsDoc documents: 100%|███████| 1/1 [00:00<00:00, 28339.89it/s]\n",
      "Retrieving MaterialsDoc documents: 100%|███████| 1/1 [00:00<00:00, 28532.68it/s]\n",
      "Retrieving MaterialsDoc documents: 100%|███████| 1/1 [00:00<00:00, 32263.88it/s]\n",
      "Retrieving MaterialsDoc documents: 100%|███████| 1/1 [00:00<00:00, 28532.68it/s]\n",
      "Retrieving MaterialsDoc documents: 100%|███████| 1/1 [00:00<00:00, 28532.68it/s]\n",
      "Retrieving MaterialsDoc documents: 100%|███████| 1/1 [00:00<00:00, 29330.80it/s]\n",
      "Retrieving MaterialsDoc documents: 100%|███████| 1/1 [00:00<00:00, 28532.68it/s]\n",
      "Retrieving MaterialsDoc documents: 100%|███████| 1/1 [00:00<00:00, 27060.03it/s]\n",
      "Retrieving MaterialsDoc documents: 100%|███████| 1/1 [00:00<00:00, 19239.93it/s]\n",
      "Retrieving MaterialsDoc documents: 100%|███████| 1/1 [00:00<00:00, 26379.27it/s]\n",
      "Retrieving MaterialsDoc documents: 100%|███████| 1/1 [00:00<00:00, 27060.03it/s]\n",
      "Retrieving MaterialsDoc documents: 100%|███████| 1/1 [00:00<00:00, 27594.11it/s]\n",
      "Retrieving MaterialsDoc documents: 100%|███████| 1/1 [00:00<00:00, 27962.03it/s]\n",
      "Retrieving MaterialsDoc documents: 100%|███████| 1/1 [00:00<00:00, 23831.27it/s]\n",
      "Retrieving MaterialsDoc documents: 100%|███████| 1/1 [00:00<00:00, 27060.03it/s]\n",
      "Retrieving MaterialsDoc documents: 100%|███████| 1/1 [00:00<00:00, 27962.03it/s]\n",
      "Retrieving MaterialsDoc documents: 100%|███████| 1/1 [00:00<00:00, 28532.68it/s]\n",
      "Retrieving MaterialsDoc documents: 100%|███████| 1/1 [00:00<00:00, 29746.84it/s]\n",
      "Retrieving MaterialsDoc documents: 100%|███████| 1/1 [00:00<00:00, 28728.11it/s]\n",
      "Retrieving MaterialsDoc documents: 100%|███████| 1/1 [00:00<00:00, 28532.68it/s]\n",
      "Retrieving MaterialsDoc documents: 100%|███████| 1/1 [00:00<00:00, 29330.80it/s]\n",
      "Retrieving MaterialsDoc documents: 0it [00:00, ?it/s]\n"
     ]
    },
    {
     "name": "stdout",
     "output_type": "stream",
     "text": [
      "Error occurred for material ID mp-763052: 'list' object has no attribute 'to'\n"
     ]
    },
    {
     "name": "stderr",
     "output_type": "stream",
     "text": [
      "Retrieving MaterialsDoc documents: 100%|███████| 1/1 [00:00<00:00, 30393.51it/s]\n",
      "Retrieving MaterialsDoc documents: 100%|███████| 1/1 [00:00<00:00, 29330.80it/s]\n",
      "Retrieving MaterialsDoc documents: 100%|███████| 1/1 [00:00<00:00, 28532.68it/s]\n",
      "Retrieving MaterialsDoc documents: 100%|███████| 1/1 [00:00<00:00, 27776.85it/s]\n",
      "Retrieving MaterialsDoc documents: 100%|███████| 1/1 [00:00<00:00, 30174.85it/s]\n",
      "Retrieving MaterialsDoc documents: 100%|███████| 1/1 [00:00<00:00, 28532.68it/s]\n",
      "Retrieving MaterialsDoc documents: 100%|███████| 1/1 [00:00<00:00, 27776.85it/s]\n",
      "Retrieving MaterialsDoc documents: 100%|███████| 1/1 [00:00<00:00, 27776.85it/s]\n",
      "Retrieving MaterialsDoc documents: 100%|███████| 1/1 [00:00<00:00, 22192.08it/s]\n",
      "Retrieving MaterialsDoc documents: 100%|███████| 1/1 [00:00<00:00, 27776.85it/s]\n",
      "Retrieving MaterialsDoc documents: 100%|███████| 1/1 [00:00<00:00, 29330.80it/s]\n",
      "Retrieving MaterialsDoc documents: 100%|███████| 1/1 [00:00<00:00, 28728.11it/s]\n",
      "Retrieving MaterialsDoc documents: 100%|███████| 1/1 [00:00<00:00, 30393.51it/s]\n",
      "Retrieving MaterialsDoc documents: 100%|███████| 1/1 [00:00<00:00, 20763.88it/s]\n",
      "Retrieving MaterialsDoc documents: 100%|███████| 1/1 [00:00<00:00, 28728.11it/s]\n",
      "Retrieving MaterialsDoc documents: 100%|███████| 1/1 [00:00<00:00, 17549.39it/s]\n",
      "Retrieving MaterialsDoc documents: 100%|███████| 1/1 [00:00<00:00, 27776.85it/s]\n",
      "Retrieving MaterialsDoc documents: 100%|███████| 1/1 [00:00<00:00, 29330.80it/s]\n",
      "Retrieving MaterialsDoc documents: 100%|███████| 1/1 [00:00<00:00, 31300.78it/s]\n",
      "Retrieving MaterialsDoc documents: 100%|███████| 1/1 [00:00<00:00, 26214.40it/s]\n",
      "Retrieving MaterialsDoc documents: 100%|███████| 1/1 [00:00<00:00, 26214.40it/s]\n",
      "Retrieving MaterialsDoc documents: 100%|███████| 1/1 [00:00<00:00, 27776.85it/s]\n",
      "Retrieving MaterialsDoc documents: 100%|███████| 1/1 [00:00<00:00, 31300.78it/s]\n",
      "Retrieving MaterialsDoc documents: 100%|███████| 1/1 [00:00<00:00, 25575.02it/s]\n",
      "Retrieving MaterialsDoc documents: 100%|███████| 1/1 [00:00<00:00, 19878.22it/s]\n",
      "Retrieving MaterialsDoc documents: 100%|███████| 1/1 [00:00<00:00, 29330.80it/s]\n",
      "Retrieving MaterialsDoc documents: 100%|███████| 1/1 [00:00<00:00, 27776.85it/s]\n",
      "Retrieving MaterialsDoc documents: 100%|███████| 1/1 [00:00<00:00, 29330.80it/s]\n",
      "Retrieving MaterialsDoc documents: 100%|███████| 1/1 [00:00<00:00, 27962.03it/s]\n",
      "Retrieving MaterialsDoc documents: 100%|███████| 1/1 [00:00<00:00, 26379.27it/s]\n",
      "Retrieving MaterialsDoc documents: 100%|███████| 1/1 [00:00<00:00, 26886.56it/s]\n",
      "Retrieving MaterialsDoc documents: 0it [00:00, ?it/s]\n"
     ]
    },
    {
     "name": "stdout",
     "output_type": "stream",
     "text": [
      "Error occurred for material ID mp-776513: 'list' object has no attribute 'to'\n"
     ]
    },
    {
     "name": "stderr",
     "output_type": "stream",
     "text": [
      "Retrieving MaterialsDoc documents: 100%|███████| 1/1 [00:00<00:00, 27776.85it/s]\n",
      "Retrieving MaterialsDoc documents: 100%|███████| 1/1 [00:00<00:00, 28532.68it/s]\n",
      "Retrieving MaterialsDoc documents: 0it [00:00, ?it/s]\n"
     ]
    },
    {
     "name": "stdout",
     "output_type": "stream",
     "text": [
      "Error occurred for material ID mp-770602: 'list' object has no attribute 'to'\n"
     ]
    },
    {
     "name": "stderr",
     "output_type": "stream",
     "text": [
      "Retrieving MaterialsDoc documents: 100%|███████| 1/1 [00:00<00:00, 29330.80it/s]\n",
      "Retrieving MaterialsDoc documents: 100%|███████| 1/1 [00:00<00:00, 30174.85it/s]\n",
      "Retrieving MaterialsDoc documents: 100%|███████| 1/1 [00:00<00:00, 27235.74it/s]\n",
      "Retrieving MaterialsDoc documents: 100%|███████| 1/1 [00:00<00:00, 26886.56it/s]\n",
      "Retrieving MaterialsDoc documents: 100%|███████| 1/1 [00:00<00:00, 26379.27it/s]\n",
      "Retrieving MaterialsDoc documents: 100%|███████| 1/1 [00:00<00:00, 25731.93it/s]\n",
      "Retrieving MaterialsDoc documents: 100%|███████| 1/1 [00:00<00:00, 31300.78it/s]\n",
      "Retrieving MaterialsDoc documents: 100%|███████| 1/1 [00:00<00:00, 23831.27it/s]\n",
      "Retrieving MaterialsDoc documents: 0it [00:00, ?it/s]\n"
     ]
    },
    {
     "name": "stdout",
     "output_type": "stream",
     "text": [
      "Error occurred for material ID mp-769789: 'list' object has no attribute 'to'\n"
     ]
    },
    {
     "name": "stderr",
     "output_type": "stream",
     "text": [
      "Retrieving MaterialsDoc documents: 100%|███████| 1/1 [00:00<00:00, 29330.80it/s]\n",
      "Retrieving MaterialsDoc documents: 100%|███████| 1/1 [00:00<00:00, 27962.03it/s]\n",
      "Retrieving MaterialsDoc documents: 100%|███████| 1/1 [00:00<00:00, 26379.27it/s]\n",
      "Retrieving MaterialsDoc documents: 100%|███████| 1/1 [00:00<00:00, 27776.85it/s]\n",
      "Retrieving MaterialsDoc documents: 100%|███████| 1/1 [00:00<00:00, 26214.40it/s]\n",
      "Retrieving MaterialsDoc documents: 100%|███████| 1/1 [00:00<00:00, 26379.27it/s]\n",
      "Retrieving MaterialsDoc documents: 100%|███████| 1/1 [00:00<00:00, 28532.68it/s]\n",
      "Retrieving MaterialsDoc documents: 100%|███████| 1/1 [00:00<00:00, 28532.68it/s]\n",
      "Retrieving MaterialsDoc documents: 100%|███████| 1/1 [00:00<00:00, 17189.77it/s]\n",
      "Retrieving MaterialsDoc documents: 100%|███████| 1/1 [00:00<00:00, 30393.51it/s]\n",
      "Retrieving MaterialsDoc documents: 0it [00:00, ?it/s]\n"
     ]
    },
    {
     "name": "stdout",
     "output_type": "stream",
     "text": [
      "Error occurred for material ID mp-773450: 'list' object has no attribute 'to'\n"
     ]
    },
    {
     "name": "stderr",
     "output_type": "stream",
     "text": [
      "Retrieving MaterialsDoc documents: 100%|███████| 1/1 [00:00<00:00, 25575.02it/s]\n",
      "Retrieving MaterialsDoc documents: 100%|███████| 1/1 [00:00<00:00, 29330.80it/s]\n",
      "Retrieving MaterialsDoc documents: 100%|███████| 1/1 [00:00<00:00, 28339.89it/s]\n",
      "Retrieving MaterialsDoc documents: 100%|███████| 1/1 [00:00<00:00, 26214.40it/s]\n",
      "Retrieving MaterialsDoc documents: 100%|███████| 1/1 [00:00<00:00, 26886.56it/s]\n",
      "Retrieving MaterialsDoc documents: 100%|███████| 1/1 [00:00<00:00, 30393.51it/s]\n",
      "Retrieving MaterialsDoc documents: 100%|███████| 1/1 [00:00<00:00, 27776.85it/s]\n",
      "Retrieving MaterialsDoc documents: 100%|███████| 1/1 [00:00<00:00, 28532.68it/s]\n",
      "Retrieving MaterialsDoc documents: 100%|███████| 1/1 [00:00<00:00, 30393.51it/s]\n",
      "Retrieving MaterialsDoc documents: 100%|███████| 1/1 [00:00<00:00, 29746.84it/s]\n",
      "Retrieving MaterialsDoc documents: 100%|███████| 1/1 [00:00<00:00, 29746.84it/s]\n",
      "Retrieving MaterialsDoc documents: 100%|███████| 1/1 [00:00<00:00, 25731.93it/s]\n",
      "Retrieving MaterialsDoc documents: 100%|███████| 1/1 [00:00<00:00, 27776.85it/s]\n",
      "Retrieving MaterialsDoc documents: 0it [00:00, ?it/s]\n"
     ]
    },
    {
     "name": "stdout",
     "output_type": "stream",
     "text": [
      "Error occurred for material ID mp-765135: 'list' object has no attribute 'to'\n"
     ]
    },
    {
     "name": "stderr",
     "output_type": "stream",
     "text": [
      "Retrieving MaterialsDoc documents: 100%|███████| 1/1 [00:00<00:00, 28532.68it/s]\n",
      "Retrieving MaterialsDoc documents: 100%|███████| 1/1 [00:00<00:00, 28339.89it/s]\n",
      "Retrieving MaterialsDoc documents: 0it [00:00, ?it/s]\n"
     ]
    },
    {
     "name": "stdout",
     "output_type": "stream",
     "text": [
      "Error occurred for material ID mp-763056: 'list' object has no attribute 'to'\n"
     ]
    },
    {
     "name": "stderr",
     "output_type": "stream",
     "text": [
      "Retrieving MaterialsDoc documents: 100%|███████| 1/1 [00:00<00:00, 27962.03it/s]\n",
      "Retrieving MaterialsDoc documents: 100%|███████| 1/1 [00:00<00:00, 28532.68it/s]\n",
      "Retrieving MaterialsDoc documents: 100%|███████| 1/1 [00:00<00:00, 17476.27it/s]\n",
      "Retrieving MaterialsDoc documents: 100%|███████| 1/1 [00:00<00:00, 28532.68it/s]\n",
      "Retrieving MaterialsDoc documents: 100%|███████| 1/1 [00:00<00:00, 26886.56it/s]\n",
      "Retrieving MaterialsDoc documents: 100%|███████| 1/1 [00:00<00:00, 30174.85it/s]\n",
      "Retrieving MaterialsDoc documents: 100%|███████| 1/1 [00:00<00:00, 28728.11it/s]\n",
      "Retrieving MaterialsDoc documents: 100%|███████| 1/1 [00:00<00:00, 31068.92it/s]\n",
      "Retrieving MaterialsDoc documents: 0it [00:00, ?it/s]\n"
     ]
    },
    {
     "name": "stdout",
     "output_type": "stream",
     "text": [
      "Error occurred for material ID mp-561589: 'list' object has no attribute 'to'\n"
     ]
    },
    {
     "name": "stderr",
     "output_type": "stream",
     "text": [
      "Retrieving MaterialsDoc documents: 100%|███████| 1/1 [00:00<00:00, 27776.85it/s]\n",
      "Retrieving MaterialsDoc documents: 100%|███████| 1/1 [00:00<00:00, 26886.56it/s]\n",
      "Retrieving MaterialsDoc documents: 100%|███████| 1/1 [00:00<00:00, 27776.85it/s]\n",
      "Retrieving MaterialsDoc documents: 100%|███████| 1/1 [00:00<00:00, 28728.11it/s]\n",
      "Retrieving MaterialsDoc documents: 100%|███████| 1/1 [00:00<00:00, 14315.03it/s]\n",
      "Retrieving MaterialsDoc documents: 100%|███████| 1/1 [00:00<00:00, 30615.36it/s]\n",
      "Retrieving MaterialsDoc documents: 0it [00:00, ?it/s]\n"
     ]
    },
    {
     "name": "stdout",
     "output_type": "stream",
     "text": [
      "Error occurred for material ID mp-540098: 'list' object has no attribute 'to'\n"
     ]
    },
    {
     "name": "stderr",
     "output_type": "stream",
     "text": [
      "Retrieving MaterialsDoc documents: 100%|███████| 1/1 [00:00<00:00, 29537.35it/s]\n",
      "Retrieving MaterialsDoc documents: 100%|███████| 1/1 [00:00<00:00, 28532.68it/s]\n",
      "Retrieving MaterialsDoc documents: 100%|███████| 1/1 [00:00<00:00, 30615.36it/s]\n",
      "Retrieving MaterialsDoc documents: 100%|███████| 1/1 [00:00<00:00, 29537.35it/s]\n",
      "Retrieving MaterialsDoc documents: 100%|███████| 1/1 [00:00<00:00, 32263.88it/s]\n",
      "Retrieving MaterialsDoc documents: 100%|███████| 1/1 [00:00<00:00, 29330.80it/s]\n",
      "Retrieving MaterialsDoc documents: 100%|███████| 1/1 [00:00<00:00, 30174.85it/s]\n",
      "Retrieving MaterialsDoc documents: 100%|███████| 1/1 [00:00<00:00, 29537.35it/s]\n",
      "Retrieving MaterialsDoc documents: 100%|███████| 1/1 [00:00<00:00, 27594.11it/s]\n",
      "Retrieving MaterialsDoc documents: 100%|███████| 1/1 [00:00<00:00, 29330.80it/s]\n",
      "Retrieving MaterialsDoc documents: 100%|███████| 1/1 [00:00<00:00, 28728.11it/s]\n",
      "Retrieving MaterialsDoc documents: 100%|███████| 1/1 [00:00<00:00, 29537.35it/s]\n",
      "Retrieving MaterialsDoc documents: 100%|███████| 1/1 [00:00<00:00, 27776.85it/s]\n",
      "Retrieving MaterialsDoc documents: 100%|███████| 1/1 [00:00<00:00, 32263.88it/s]\n",
      "Retrieving MaterialsDoc documents: 100%|███████| 1/1 [00:00<00:00, 28532.68it/s]\n",
      "Retrieving MaterialsDoc documents: 0it [00:00, ?it/s]\n"
     ]
    },
    {
     "name": "stdout",
     "output_type": "stream",
     "text": [
      "Error occurred for material ID mp-766784: 'list' object has no attribute 'to'\n"
     ]
    },
    {
     "name": "stderr",
     "output_type": "stream",
     "text": [
      "Retrieving MaterialsDoc documents: 100%|███████| 1/1 [00:00<00:00, 27060.03it/s]\n",
      "Retrieving MaterialsDoc documents: 100%|███████| 1/1 [00:00<00:00, 26379.27it/s]\n",
      "Retrieving MaterialsDoc documents: 100%|███████| 1/1 [00:00<00:00, 19239.93it/s]\n",
      "Retrieving MaterialsDoc documents: 100%|███████| 1/1 [00:00<00:00, 27060.03it/s]\n",
      "Retrieving MaterialsDoc documents: 100%|███████| 1/1 [00:00<00:00, 29330.80it/s]\n",
      "Retrieving MaterialsDoc documents: 100%|███████| 1/1 [00:00<00:00, 31068.92it/s]\n",
      "Retrieving MaterialsDoc documents: 100%|███████| 1/1 [00:00<00:00, 27776.85it/s]\n",
      "Retrieving MaterialsDoc documents: 100%|███████| 1/1 [00:00<00:00, 30174.85it/s]\n",
      "Retrieving MaterialsDoc documents: 100%|███████| 1/1 [00:00<00:00, 28728.11it/s]\n",
      "Retrieving MaterialsDoc documents: 100%|███████| 1/1 [00:00<00:00, 28728.11it/s]\n",
      "Retrieving MaterialsDoc documents: 100%|███████| 1/1 [00:00<00:00, 30174.85it/s]\n",
      "Retrieving MaterialsDoc documents: 0it [00:00, ?it/s]\n"
     ]
    },
    {
     "name": "stdout",
     "output_type": "stream",
     "text": [
      "Error occurred for material ID mp-703260: 'list' object has no attribute 'to'\n"
     ]
    },
    {
     "name": "stderr",
     "output_type": "stream",
     "text": [
      "Retrieving MaterialsDoc documents: 100%|███████| 1/1 [00:00<00:00, 29746.84it/s]\n",
      "Retrieving MaterialsDoc documents: 100%|███████| 1/1 [00:00<00:00, 28532.68it/s]\n",
      "Retrieving MaterialsDoc documents: 100%|███████| 1/1 [00:00<00:00, 29330.80it/s]\n",
      "Retrieving MaterialsDoc documents: 100%|███████| 1/1 [00:00<00:00, 30393.51it/s]\n",
      "Retrieving MaterialsDoc documents: 100%|███████| 1/1 [00:00<00:00, 29330.80it/s]\n",
      "Retrieving MaterialsDoc documents: 100%|███████| 1/1 [00:00<00:00, 31300.78it/s]\n",
      "Retrieving MaterialsDoc documents: 100%|███████| 1/1 [00:00<00:00, 27594.11it/s]\n",
      "Retrieving MaterialsDoc documents: 100%|███████| 1/1 [00:00<00:00, 29330.80it/s]\n",
      "Retrieving MaterialsDoc documents: 100%|███████| 1/1 [00:00<00:00, 31300.78it/s]\n",
      "Retrieving MaterialsDoc documents: 100%|███████| 1/1 [00:00<00:00, 27776.85it/s]\n",
      "Retrieving MaterialsDoc documents: 100%|███████| 1/1 [00:00<00:00, 17623.13it/s]\n",
      "Retrieving MaterialsDoc documents: 100%|███████| 1/1 [00:00<00:00, 28532.68it/s]\n",
      "Retrieving MaterialsDoc documents: 100%|███████| 1/1 [00:00<00:00, 27776.85it/s]\n",
      "Retrieving MaterialsDoc documents: 100%|███████| 1/1 [00:00<00:00, 26886.56it/s]\n",
      "Retrieving MaterialsDoc documents: 100%|███████| 1/1 [00:00<00:00, 27776.85it/s]\n",
      "Retrieving MaterialsDoc documents: 100%|███████| 1/1 [00:00<00:00, 28728.11it/s]\n",
      "Retrieving MaterialsDoc documents: 100%|███████| 1/1 [00:00<00:00, 26886.56it/s]\n",
      "Retrieving MaterialsDoc documents: 100%|███████| 1/1 [00:00<00:00, 29330.80it/s]\n",
      "Retrieving MaterialsDoc documents: 100%|███████| 1/1 [00:00<00:00, 29330.80it/s]\n",
      "Retrieving MaterialsDoc documents: 100%|███████| 1/1 [00:00<00:00, 30393.51it/s]\n",
      "Retrieving MaterialsDoc documents: 0it [00:00, ?it/s]\n"
     ]
    },
    {
     "name": "stdout",
     "output_type": "stream",
     "text": [
      "Error occurred for material ID mp-774003: 'list' object has no attribute 'to'\n"
     ]
    },
    {
     "name": "stderr",
     "output_type": "stream",
     "text": [
      "Retrieving MaterialsDoc documents: 100%|███████| 1/1 [00:00<00:00, 24385.49it/s]\n",
      "Retrieving MaterialsDoc documents: 100%|███████| 1/1 [00:00<00:00, 30174.85it/s]\n",
      "Retrieving MaterialsDoc documents: 100%|███████| 1/1 [00:00<00:00, 29537.35it/s]\n",
      "Retrieving MaterialsDoc documents: 100%|███████| 1/1 [00:00<00:00, 27962.03it/s]\n",
      "Retrieving MaterialsDoc documents: 100%|███████| 1/1 [00:00<00:00, 31300.78it/s]\n",
      "Retrieving MaterialsDoc documents: 100%|███████| 1/1 [00:00<00:00, 27776.85it/s]\n",
      "Retrieving MaterialsDoc documents: 100%|███████| 1/1 [00:00<00:00, 27776.85it/s]\n",
      "Retrieving MaterialsDoc documents: 100%|███████| 1/1 [00:00<00:00, 30393.51it/s]\n",
      "Retrieving MaterialsDoc documents: 100%|███████| 1/1 [00:00<00:00, 28532.68it/s]\n",
      "Retrieving MaterialsDoc documents: 100%|███████| 1/1 [00:00<00:00, 27776.85it/s]\n",
      "Retrieving MaterialsDoc documents: 100%|███████| 1/1 [00:00<00:00, 29537.35it/s]\n",
      "Retrieving MaterialsDoc documents: 100%|███████| 1/1 [00:00<00:00, 31068.92it/s]\n",
      "Retrieving MaterialsDoc documents: 100%|███████| 1/1 [00:00<00:00, 30393.51it/s]\n",
      "Retrieving MaterialsDoc documents: 100%|███████| 1/1 [00:00<00:00, 28532.68it/s]\n",
      "Retrieving MaterialsDoc documents: 100%|███████| 1/1 [00:00<00:00, 30393.51it/s]\n",
      "Retrieving MaterialsDoc documents: 100%|███████| 1/1 [00:00<00:00, 28728.11it/s]\n",
      "Retrieving MaterialsDoc documents: 0it [00:00, ?it/s]\n"
     ]
    },
    {
     "name": "stdout",
     "output_type": "stream",
     "text": [
      "Error occurred for material ID mp-715463: 'list' object has no attribute 'to'\n"
     ]
    },
    {
     "name": "stderr",
     "output_type": "stream",
     "text": [
      "Retrieving MaterialsDoc documents: 100%|███████| 1/1 [00:00<00:00, 29330.80it/s]\n",
      "Retrieving MaterialsDoc documents: 100%|███████| 1/1 [00:00<00:00, 30393.51it/s]\n",
      "Retrieving MaterialsDoc documents: 100%|███████| 1/1 [00:00<00:00, 29330.80it/s]\n",
      "Retrieving MaterialsDoc documents: 100%|███████| 1/1 [00:00<00:00, 28728.11it/s]\n",
      "Retrieving MaterialsDoc documents: 100%|███████| 1/1 [00:00<00:00, 29330.80it/s]\n",
      "Retrieving MaterialsDoc documents: 100%|███████| 1/1 [00:00<00:00, 28532.68it/s]\n",
      "Retrieving MaterialsDoc documents: 100%|███████| 1/1 [00:00<00:00, 26379.27it/s]\n",
      "Retrieving MaterialsDoc documents: 100%|███████| 1/1 [00:00<00:00, 27235.74it/s]\n",
      "Retrieving MaterialsDoc documents: 100%|███████| 1/1 [00:00<00:00, 27594.11it/s]\n",
      "Retrieving MaterialsDoc documents: 100%|███████| 1/1 [00:00<00:00, 28728.11it/s]\n",
      "Retrieving MaterialsDoc documents: 100%|███████| 1/1 [00:00<00:00, 33554.43it/s]\n",
      "Retrieving MaterialsDoc documents: 100%|███████| 1/1 [00:00<00:00, 27594.11it/s]\n",
      "Retrieving MaterialsDoc documents: 100%|███████| 1/1 [00:00<00:00, 30393.51it/s]\n",
      "Retrieving MaterialsDoc documents: 100%|███████| 1/1 [00:00<00:00, 26886.56it/s]\n",
      "Retrieving MaterialsDoc documents: 100%|███████| 1/1 [00:00<00:00, 28532.68it/s]\n",
      "Retrieving MaterialsDoc documents: 100%|███████| 1/1 [00:00<00:00, 30393.51it/s]\n",
      "Retrieving MaterialsDoc documents: 100%|███████| 1/1 [00:00<00:00, 26214.40it/s]\n",
      "Retrieving MaterialsDoc documents: 100%|███████| 1/1 [00:00<00:00, 25115.59it/s]\n",
      "Retrieving MaterialsDoc documents: 100%|███████| 1/1 [00:00<00:00, 28339.89it/s]\n",
      "Retrieving MaterialsDoc documents: 0it [00:00, ?it/s]\n"
     ]
    },
    {
     "name": "stdout",
     "output_type": "stream",
     "text": [
      "Error occurred for material ID mp-771787: 'list' object has no attribute 'to'\n"
     ]
    },
    {
     "name": "stderr",
     "output_type": "stream",
     "text": [
      "Retrieving MaterialsDoc documents: 100%|███████| 1/1 [00:00<00:00, 27060.03it/s]\n",
      "Retrieving MaterialsDoc documents: 100%|███████| 1/1 [00:00<00:00, 27776.85it/s]\n",
      "Retrieving MaterialsDoc documents: 100%|███████| 1/1 [00:00<00:00, 27060.03it/s]\n",
      "Retrieving MaterialsDoc documents: 100%|███████| 1/1 [00:00<00:00, 29537.35it/s]\n",
      "Retrieving MaterialsDoc documents: 100%|███████| 1/1 [00:00<00:00, 28728.11it/s]\n",
      "Retrieving MaterialsDoc documents: 100%|███████| 1/1 [00:00<00:00, 29330.80it/s]\n",
      "Retrieving MaterialsDoc documents: 100%|███████| 1/1 [00:00<00:00, 28728.11it/s]\n",
      "Retrieving MaterialsDoc documents: 100%|███████| 1/1 [00:00<00:00, 29330.80it/s]\n",
      "Retrieving MaterialsDoc documents: 100%|███████| 1/1 [00:00<00:00, 29330.80it/s]\n",
      "Retrieving MaterialsDoc documents: 100%|███████| 1/1 [00:00<00:00, 31300.78it/s]\n",
      "Retrieving MaterialsDoc documents: 100%|███████| 1/1 [00:00<00:00, 29537.35it/s]\n",
      "Retrieving MaterialsDoc documents: 100%|███████| 1/1 [00:00<00:00, 29330.80it/s]\n",
      "Retrieving MaterialsDoc documents: 100%|███████| 1/1 [00:00<00:00, 28532.68it/s]\n",
      "Retrieving MaterialsDoc documents: 100%|███████| 1/1 [00:00<00:00, 27776.85it/s]\n",
      "Retrieving MaterialsDoc documents: 100%|███████| 1/1 [00:00<00:00, 27060.03it/s]\n",
      "Retrieving MaterialsDoc documents: 100%|███████| 1/1 [00:00<00:00, 26214.40it/s]\n",
      "Retrieving MaterialsDoc documents: 100%|███████| 1/1 [00:00<00:00, 27060.03it/s]\n",
      "Retrieving MaterialsDoc documents: 100%|███████| 1/1 [00:00<00:00, 27962.03it/s]\n",
      "Retrieving MaterialsDoc documents: 100%|███████| 1/1 [00:00<00:00, 28728.11it/s]\n",
      "Retrieving MaterialsDoc documents: 100%|███████| 1/1 [00:00<00:00, 28532.68it/s]\n",
      "Retrieving MaterialsDoc documents: 100%|███████| 1/1 [00:00<00:00, 27776.85it/s]\n",
      "Retrieving MaterialsDoc documents: 100%|███████| 1/1 [00:00<00:00, 15363.75it/s]\n",
      "Retrieving MaterialsDoc documents: 100%|███████| 1/1 [00:00<00:00, 27776.85it/s]\n",
      "Retrieving MaterialsDoc documents: 100%|███████| 1/1 [00:00<00:00, 29330.80it/s]\n",
      "Retrieving MaterialsDoc documents: 100%|███████| 1/1 [00:00<00:00, 30393.51it/s]\n",
      "Retrieving MaterialsDoc documents: 100%|███████| 1/1 [00:00<00:00, 27962.03it/s]\n",
      "Retrieving MaterialsDoc documents: 100%|███████| 1/1 [00:00<00:00, 26379.27it/s]\n",
      "Retrieving MaterialsDoc documents: 100%|███████| 1/1 [00:00<00:00, 28532.68it/s]\n",
      "Retrieving MaterialsDoc documents: 100%|███████| 1/1 [00:00<00:00, 30393.51it/s]\n",
      "Retrieving MaterialsDoc documents: 100%|███████| 1/1 [00:00<00:00, 27962.03it/s]\n",
      "Retrieving MaterialsDoc documents: 100%|███████| 1/1 [00:00<00:00, 29330.80it/s]\n",
      "Retrieving MaterialsDoc documents: 100%|███████| 1/1 [00:00<00:00, 27060.03it/s]\n",
      "Retrieving MaterialsDoc documents: 100%|███████| 1/1 [00:00<00:00, 28532.68it/s]\n",
      "Retrieving MaterialsDoc documents: 100%|███████| 1/1 [00:00<00:00, 29330.80it/s]\n",
      "Retrieving MaterialsDoc documents: 100%|███████| 1/1 [00:00<00:00, 29330.80it/s]\n",
      "Retrieving MaterialsDoc documents: 100%|███████| 1/1 [00:00<00:00, 29746.84it/s]\n",
      "Retrieving MaterialsDoc documents: 100%|███████| 1/1 [00:00<00:00, 28532.68it/s]\n",
      "Retrieving MaterialsDoc documents: 100%|███████| 1/1 [00:00<00:00, 27776.85it/s]\n",
      "Retrieving MaterialsDoc documents: 100%|███████| 1/1 [00:00<00:00, 26379.27it/s]\n",
      "Retrieving MaterialsDoc documents: 100%|███████| 1/1 [00:00<00:00, 31300.78it/s]\n",
      "Retrieving MaterialsDoc documents: 100%|███████| 1/1 [00:00<00:00, 29330.80it/s]\n",
      "Retrieving MaterialsDoc documents: 100%|███████| 1/1 [00:00<00:00, 30393.51it/s]\n",
      "Retrieving MaterialsDoc documents: 100%|███████| 1/1 [00:00<00:00, 29746.84it/s]\n",
      "Retrieving MaterialsDoc documents: 100%|███████| 1/1 [00:00<00:00, 28532.68it/s]\n",
      "Retrieving MaterialsDoc documents: 100%|███████| 1/1 [00:00<00:00, 29330.80it/s]\n",
      "Retrieving MaterialsDoc documents: 100%|███████| 1/1 [00:00<00:00, 27962.03it/s]\n",
      "Retrieving MaterialsDoc documents: 100%|███████| 1/1 [00:00<00:00, 26886.56it/s]\n",
      "Retrieving MaterialsDoc documents: 100%|███████| 1/1 [00:00<00:00, 30393.51it/s]\n",
      "Retrieving MaterialsDoc documents: 100%|███████| 1/1 [00:00<00:00, 28532.68it/s]\n",
      "Retrieving MaterialsDoc documents: 100%|███████| 1/1 [00:00<00:00, 27962.03it/s]\n",
      "Retrieving MaterialsDoc documents: 100%|███████| 1/1 [00:00<00:00, 27776.85it/s]\n",
      "Retrieving MaterialsDoc documents: 100%|███████| 1/1 [00:00<00:00, 20763.88it/s]\n",
      "Retrieving MaterialsDoc documents: 100%|███████| 1/1 [00:00<00:00, 28728.11it/s]\n",
      "Retrieving MaterialsDoc documents: 0it [00:00, ?it/s]\n"
     ]
    },
    {
     "name": "stdout",
     "output_type": "stream",
     "text": [
      "Error occurred for material ID mp-25150: 'list' object has no attribute 'to'\n"
     ]
    },
    {
     "name": "stderr",
     "output_type": "stream",
     "text": [
      "Retrieving MaterialsDoc documents: 100%|███████| 1/1 [00:00<00:00, 29330.80it/s]\n",
      "Retrieving MaterialsDoc documents: 100%|███████| 1/1 [00:00<00:00, 20460.02it/s]\n",
      "Retrieving MaterialsDoc documents: 100%|███████| 1/1 [00:00<00:00, 28728.11it/s]\n",
      "Retrieving MaterialsDoc documents: 100%|███████| 1/1 [00:00<00:00, 28728.11it/s]\n",
      "Retrieving MaterialsDoc documents: 100%|███████| 1/1 [00:00<00:00, 26886.56it/s]\n",
      "Retrieving MaterialsDoc documents: 100%|███████| 1/1 [00:00<00:00, 29330.80it/s]\n",
      "Retrieving MaterialsDoc documents: 100%|███████| 1/1 [00:00<00:00, 29330.80it/s]\n",
      "Retrieving MaterialsDoc documents: 100%|███████| 1/1 [00:00<00:00, 30174.85it/s]\n",
      "Retrieving MaterialsDoc documents: 100%|███████| 1/1 [00:00<00:00, 28532.68it/s]\n",
      "Retrieving MaterialsDoc documents: 100%|███████| 1/1 [00:00<00:00, 27776.85it/s]\n",
      "Retrieving MaterialsDoc documents: 100%|███████| 1/1 [00:00<00:00, 29330.80it/s]\n",
      "Retrieving MaterialsDoc documents: 100%|███████| 1/1 [00:00<00:00, 27962.03it/s]\n",
      "Retrieving MaterialsDoc documents: 100%|███████| 1/1 [00:00<00:00, 26886.56it/s]\n",
      "Retrieving MaterialsDoc documents: 100%|███████| 1/1 [00:00<00:00, 28728.11it/s]\n",
      "Retrieving MaterialsDoc documents: 100%|███████| 1/1 [00:00<00:00, 28532.68it/s]\n",
      "Retrieving MaterialsDoc documents: 100%|███████| 1/1 [00:00<00:00, 28532.68it/s]\n",
      "Retrieving MaterialsDoc documents: 100%|███████| 1/1 [00:00<00:00, 29330.80it/s]\n",
      "Retrieving MaterialsDoc documents: 100%|███████| 1/1 [00:00<00:00, 27962.03it/s]\n",
      "Retrieving MaterialsDoc documents: 100%|███████| 1/1 [00:00<00:00, 29330.80it/s]\n",
      "Retrieving MaterialsDoc documents: 100%|███████| 1/1 [00:00<00:00, 28532.68it/s]\n",
      "Retrieving MaterialsDoc documents: 100%|███████| 1/1 [00:00<00:00, 29330.80it/s]\n",
      "Retrieving MaterialsDoc documents: 100%|███████| 1/1 [00:00<00:00, 28532.68it/s]\n",
      "Retrieving MaterialsDoc documents: 100%|███████| 1/1 [00:00<00:00, 16912.52it/s]\n",
      "Retrieving MaterialsDoc documents: 100%|███████| 1/1 [00:00<00:00, 29330.80it/s]\n",
      "Retrieving MaterialsDoc documents: 100%|███████| 1/1 [00:00<00:00, 27594.11it/s]\n",
      "Retrieving MaterialsDoc documents: 100%|███████| 1/1 [00:00<00:00, 26886.56it/s]\n",
      "Retrieving MaterialsDoc documents: 100%|███████| 1/1 [00:00<00:00, 26886.56it/s]\n",
      "Retrieving MaterialsDoc documents: 100%|███████| 1/1 [00:00<00:00, 27235.74it/s]\n",
      "Retrieving MaterialsDoc documents: 100%|███████| 1/1 [00:00<00:00, 30393.51it/s]\n",
      "Retrieving MaterialsDoc documents: 100%|███████| 1/1 [00:00<00:00, 28532.68it/s]\n",
      "Retrieving MaterialsDoc documents: 100%|███████| 1/1 [00:00<00:00, 28728.11it/s]\n",
      "Retrieving MaterialsDoc documents: 100%|███████| 1/1 [00:00<00:00, 27776.85it/s]\n",
      "Retrieving MaterialsDoc documents: 100%|███████| 1/1 [00:00<00:00, 27776.85it/s]\n",
      "Retrieving MaterialsDoc documents: 100%|███████| 1/1 [00:00<00:00, 29537.35it/s]\n",
      "Retrieving MaterialsDoc documents: 100%|███████| 1/1 [00:00<00:00, 24385.49it/s]\n",
      "Retrieving MaterialsDoc documents: 100%|███████| 1/1 [00:00<00:00, 25575.02it/s]\n",
      "Retrieving MaterialsDoc documents: 100%|███████| 1/1 [00:00<00:00, 28532.68it/s]\n",
      "Retrieving MaterialsDoc documents: 100%|███████| 1/1 [00:00<00:00, 27776.85it/s]\n",
      "Retrieving MaterialsDoc documents: 100%|███████| 1/1 [00:00<00:00, 28532.68it/s]\n",
      "Retrieving MaterialsDoc documents: 100%|███████| 1/1 [00:00<00:00, 29330.80it/s]\n",
      "Retrieving MaterialsDoc documents: 100%|███████| 1/1 [00:00<00:00, 28532.68it/s]\n",
      "Retrieving MaterialsDoc documents: 100%|███████| 1/1 [00:00<00:00, 25731.93it/s]\n",
      "Retrieving MaterialsDoc documents: 100%|███████| 1/1 [00:00<00:00, 28728.11it/s]\n",
      "Retrieving MaterialsDoc documents: 100%|███████| 1/1 [00:00<00:00, 28728.11it/s]\n",
      "Retrieving MaterialsDoc documents: 100%|███████| 1/1 [00:00<00:00, 30615.36it/s]\n",
      "Retrieving MaterialsDoc documents: 100%|███████| 1/1 [00:00<00:00, 24966.10it/s]\n",
      "Retrieving MaterialsDoc documents: 100%|███████| 1/1 [00:00<00:00, 27060.03it/s]\n",
      "Retrieving MaterialsDoc documents: 100%|███████| 1/1 [00:00<00:00, 27776.85it/s]\n",
      "Retrieving MaterialsDoc documents: 0it [00:00, ?it/s]\n"
     ]
    },
    {
     "name": "stdout",
     "output_type": "stream",
     "text": [
      "Error occurred for material ID mp-768037: 'list' object has no attribute 'to'\n"
     ]
    },
    {
     "name": "stderr",
     "output_type": "stream",
     "text": [
      "Retrieving MaterialsDoc documents: 100%|███████| 1/1 [00:00<00:00, 28728.11it/s]\n",
      "Retrieving MaterialsDoc documents: 100%|███████| 1/1 [00:00<00:00, 28339.89it/s]\n",
      "Retrieving MaterialsDoc documents: 100%|███████| 1/1 [00:00<00:00, 27962.03it/s]\n",
      "Retrieving MaterialsDoc documents: 0it [00:00, ?it/s]\n"
     ]
    },
    {
     "name": "stdout",
     "output_type": "stream",
     "text": [
      "Error occurred for material ID mp-25035: 'list' object has no attribute 'to'\n"
     ]
    },
    {
     "name": "stderr",
     "output_type": "stream",
     "text": [
      "Retrieving MaterialsDoc documents: 100%|███████| 1/1 [00:00<00:00, 25575.02it/s]\n",
      "Retrieving MaterialsDoc documents: 100%|███████| 1/1 [00:00<00:00, 28532.68it/s]\n",
      "Retrieving MaterialsDoc documents: 100%|███████| 1/1 [00:00<00:00, 28728.11it/s]\n",
      "Retrieving MaterialsDoc documents: 100%|███████| 1/1 [00:00<00:00, 28532.68it/s]\n",
      "Retrieving MaterialsDoc documents: 100%|███████| 1/1 [00:00<00:00, 28532.68it/s]\n",
      "Retrieving MaterialsDoc documents: 100%|███████| 1/1 [00:00<00:00, 25575.02it/s]\n",
      "Retrieving MaterialsDoc documents: 100%|███████| 1/1 [00:00<00:00, 31300.78it/s]\n",
      "Retrieving MaterialsDoc documents: 100%|███████| 1/1 [00:00<00:00, 29330.80it/s]\n",
      "Retrieving MaterialsDoc documents: 100%|███████| 1/1 [00:00<00:00, 28532.68it/s]\n",
      "Retrieving MaterialsDoc documents: 100%|███████| 1/1 [00:00<00:00, 31300.78it/s]\n",
      "Retrieving MaterialsDoc documents: 100%|███████| 1/1 [00:00<00:00, 18558.87it/s]\n",
      "Retrieving MaterialsDoc documents: 100%|███████| 1/1 [00:00<00:00, 28728.11it/s]\n",
      "Retrieving MaterialsDoc documents: 100%|███████| 1/1 [00:00<00:00, 28532.68it/s]\n",
      "Retrieving MaterialsDoc documents: 100%|███████| 1/1 [00:00<00:00, 26886.56it/s]\n",
      "Retrieving MaterialsDoc documents: 100%|███████| 1/1 [00:00<00:00, 30174.85it/s]\n",
      "Retrieving MaterialsDoc documents: 100%|███████| 1/1 [00:00<00:00, 30615.36it/s]\n",
      "Retrieving MaterialsDoc documents: 100%|███████| 1/1 [00:00<00:00, 29537.35it/s]\n",
      "Retrieving MaterialsDoc documents: 100%|███████| 1/1 [00:00<00:00, 29330.80it/s]\n",
      "Retrieving MaterialsDoc documents: 100%|███████| 1/1 [00:00<00:00, 28532.68it/s]\n",
      "Retrieving MaterialsDoc documents: 100%|███████| 1/1 [00:00<00:00, 29330.80it/s]\n",
      "Retrieving MaterialsDoc documents: 100%|███████| 1/1 [00:00<00:00, 28728.11it/s]\n",
      "Retrieving MaterialsDoc documents: 100%|███████| 1/1 [00:00<00:00, 27776.85it/s]\n",
      "Retrieving MaterialsDoc documents: 100%|███████| 1/1 [00:00<00:00, 27962.03it/s]\n",
      "Retrieving MaterialsDoc documents: 100%|███████| 1/1 [00:00<00:00, 28728.11it/s]\n",
      "Retrieving MaterialsDoc documents: 100%|███████| 1/1 [00:00<00:00, 26379.27it/s]\n",
      "Retrieving MaterialsDoc documents: 0it [00:00, ?it/s]\n"
     ]
    },
    {
     "name": "stdout",
     "output_type": "stream",
     "text": [
      "Error occurred for material ID mp-774156: 'list' object has no attribute 'to'\n"
     ]
    },
    {
     "name": "stderr",
     "output_type": "stream",
     "text": [
      "Retrieving MaterialsDoc documents: 100%|███████| 1/1 [00:00<00:00, 25115.59it/s]\n",
      "Retrieving MaterialsDoc documents: 100%|███████| 1/1 [00:00<00:00, 26886.56it/s]\n",
      "Retrieving MaterialsDoc documents: 100%|███████| 1/1 [00:00<00:00, 27962.03it/s]\n",
      "Retrieving MaterialsDoc documents: 100%|███████| 1/1 [00:00<00:00, 29746.84it/s]\n",
      "Retrieving MaterialsDoc documents: 100%|███████| 1/1 [00:00<00:00, 29537.35it/s]\n",
      "Retrieving MaterialsDoc documents: 100%|███████| 1/1 [00:00<00:00, 30174.85it/s]\n",
      "Retrieving MaterialsDoc documents: 100%|███████| 1/1 [00:00<00:00, 29330.80it/s]\n",
      "Retrieving MaterialsDoc documents: 100%|███████| 1/1 [00:00<00:00, 28532.68it/s]\n",
      "Retrieving MaterialsDoc documents: 100%|███████| 1/1 [00:00<00:00, 23831.27it/s]\n",
      "Retrieving MaterialsDoc documents: 100%|███████| 1/1 [00:00<00:00, 27776.85it/s]\n",
      "Retrieving MaterialsDoc documents: 100%|███████| 1/1 [00:00<00:00, 29330.80it/s]\n"
     ]
    }
   ],
   "source": [
    "with open('cif_files/not_found.txt', 'a') as t:\n",
    "    for material_id in cif_list['material-id']:\n",
    "        try:\n",
    "            structure = m.get_structure_by_material_id(material_id)\n",
    "            cif_data = structure.to(fmt=\"cif\")\n",
    "            with open(f'cif_files/{material_id}.cif', 'w') as f:\n",
    "                f.write(cif_data)\n",
    "        except Exception as e:\n",
    "            t.write(f'{material_id}\\n')\n",
    "            print(f\"Error occurred for material ID {material_id}: {e}\")"
   ]
  },
  {
   "cell_type": "code",
   "execution_count": null,
   "id": "087b58ad-830b-44be-bed3-e4ce7eb67f67",
   "metadata": {},
   "outputs": [],
   "source": []
  }
 ],
 "metadata": {
  "kernelspec": {
   "display_name": "Python 3 (ipykernel)",
   "language": "python",
   "name": "python3"
  },
  "language_info": {
   "codemirror_mode": {
    "name": "ipython",
    "version": 3
   },
   "file_extension": ".py",
   "mimetype": "text/x-python",
   "name": "python",
   "nbconvert_exporter": "python",
   "pygments_lexer": "ipython3",
   "version": "3.10.14"
  }
 },
 "nbformat": 4,
 "nbformat_minor": 5
}
