{
 "cells": [
  {
   "cell_type": "code",
   "execution_count": 27,
   "metadata": {},
   "outputs": [],
   "source": [
    "import numpy as np\n",
    "import pandas as pd\n",
    "import requests\n",
    "import pymatgen.core as pmg\n",
    "import warnings\n",
    "import matplotlib.pyplot as plt\n",
    "# !pip install pip install mp-api\n",
    "# !pip install pymatgen"
   ]
  },
  {
   "cell_type": "code",
   "execution_count": 3,
   "metadata": {},
   "outputs": [],
   "source": [
    "\n",
    "MP_API_KEY = \"XizEPyfLpTFxjMrtCpObYPshzopUe5aG\""
   ]
  },
  {
   "cell_type": "code",
   "execution_count": 4,
   "metadata": {},
   "outputs": [
    {
     "name": "stdout",
     "output_type": "stream",
     "text": [
      "{\"detail\":\"Not Found\"}\n"
     ]
    }
   ],
   "source": [
    "response = requests.get(\"https://api.materialsproject.org/materials/mp-149/?fields=material_id%2Cstructure&all_fields=false\", \n",
    "                        headers={\"X-API-KEY\": MP_API_KEY})\n",
    "\n",
    "print(response.text)"
   ]
  },
  {
   "cell_type": "code",
   "execution_count": 5,
   "metadata": {},
   "outputs": [],
   "source": [
    "#helper fn to shorten lists\n",
    "def shortlist(long_list, n=5):\n",
    "    print(\"First {} of {} items:\".format(min(n, 5), len(long_list)))\n",
    "    for item in long_list[0:n]:\n",
    "        print(item)"
   ]
  },
  {
   "cell_type": "code",
   "execution_count": 6,
   "metadata": {},
   "outputs": [
    {
     "name": "stdout",
     "output_type": "stream",
     "text": [
      "No module named 'phonopy'\n",
      "No module named 'phonopy'\n"
     ]
    },
    {
     "name": "stderr",
     "output_type": "stream",
     "text": [
      "C:\\Users\\yashb\\AppData\\Local\\Temp\\ipykernel_24960\\3305843628.py:4: DeprecationWarning: Accessing summary data through MPRester.summary is deprecated. Please use MPRester.materials.summary instead.\n",
      "  docs = mpr.summary.search(material_ids=[\"mp-149\"])\n"
     ]
    },
    {
     "data": {
      "application/vnd.jupyter.widget-view+json": {
       "model_id": "f3fe3b4b8df241e48ca36ec896faa78a",
       "version_major": 2,
       "version_minor": 0
      },
      "text/plain": [
       "Retrieving SummaryDoc documents:   0%|          | 0/1 [00:00<?, ?it/s]"
      ]
     },
     "metadata": {},
     "output_type": "display_data"
    },
    {
     "data": {
      "text/plain": [
       "\u001b[4m\u001b[1mMPDataDoc<SummaryDoc>\u001b[0;0m\u001b[0;0m(\n",
       "\u001b[1mbuilder_meta\u001b[0;0m=EmmetMeta(emmet_version='0.72.20', pymatgen_version='2023.11.12', pull_request=990, database_version='2023.11.1', build_date=datetime.datetime(2023, 11, 22, 19, 46, 57, 168000), license='BY-C'),\n",
       "\u001b[1mnsites\u001b[0;0m=2,\n",
       "\u001b[1melements\u001b[0;0m=[Element Si],\n",
       "\u001b[1mnelements\u001b[0;0m=1,\n",
       "\u001b[1mcomposition\u001b[0;0m=Composition('Si2'),\n",
       "\u001b[1mcomposition_reduced\u001b[0;0m=Composition('Si1'),\n",
       "\u001b[1mformula_pretty\u001b[0;0m='Si',\n",
       "\u001b[1mformula_anonymous\u001b[0;0m='A',\n",
       "\u001b[1mchemsys\u001b[0;0m='Si',\n",
       "\u001b[1mvolume\u001b[0;0m=40.32952684741405,\n",
       "\u001b[1mdensity\u001b[0;0m=2.312800253345134,\n",
       "\u001b[1mdensity_atomic\u001b[0;0m=20.164763423707026,\n",
       "\u001b[1msymmetry\u001b[0;0m=SymmetryData(crystal_system=<CrystalSystem.cubic: 'Cubic'>, symbol='Fd-3m', number=227, point_group='m-3m', symprec=0.1, version='2.0.2'),\n",
       "\u001b[1mproperty_name\u001b[0;0m='summary',\n",
       "\u001b[1mmaterial_id\u001b[0;0m=MPID(mp-149),\n",
       "\u001b[1mdeprecated\u001b[0;0m=False,\n",
       "\u001b[1mdeprecation_reasons\u001b[0;0m=None,\n",
       "\u001b[1mlast_updated\u001b[0;0m=datetime.datetime(2023, 11, 22, 19, 46, 57, 169000),\n",
       "\u001b[1morigins\u001b[0;0m=[PropertyOrigin(name='structure', task_id=MPID(mp-1947498), last_updated=datetime.datetime(2021, 3, 5, 11, 47, 3, 84000)), PropertyOrigin(name='energy', task_id=MPID(mp-1947498), last_updated=datetime.datetime(2023, 8, 3, 18, 52, 51, 362000)), PropertyOrigin(name='magnetism', task_id=MPID(mp-1947498), last_updated=datetime.datetime(2021, 3, 5, 11, 47, 3, 84000)), PropertyOrigin(name='dielectric', task_id=MPID(mp-1141021), last_updated=datetime.datetime(2018, 12, 19, 21, 45, 41, 99000)), PropertyOrigin(name='absorption', task_id=MPID(mp-2768327), last_updated=datetime.datetime(2023, 8, 9, 6, 11, 12, 495000))],\n",
       "\u001b[1mwarnings\u001b[0;0m=[],\n",
       "\u001b[1mstructure\u001b[0;0m=Structure Summary\n",
       "Lattice\n",
       "    abc : 3.8492784033699095 3.8492794116013456 3.849278\n",
       " angles : 60.00001213094421 60.00000346645984 60.0000109754579\n",
       " volume : 40.32952684741405\n",
       "      A : 3.333573 0.0 1.924639\n",
       "      B : 1.111191 3.142924 1.924639\n",
       "      C : 0.0 0.0 3.849278\n",
       "    pbc : True True True\n",
       "PeriodicSite: Si (3.889, 2.75, 6.736) [0.875, 0.875, 0.875]\n",
       "PeriodicSite: Si (0.5556, 0.3929, 0.9623) [0.125, 0.125, 0.125],\n",
       "\u001b[1mtask_ids\u001b[0;0m=[MPID(mp-2768327), MPID(mp-2629357), MPID(mp-2064214), MPID(mp-1267607), MPID(mp-655585), MPID(mp-1592727), MPID(mp-1141021), MPID(mp-2693792), MPID(mp-2064724), MPID(mp-2375705), MPID(mp-1950734), MPID(mp-2693536), MPID(mp-1248038), MPID(mp-2375896), MPID(mp-655936), MPID(mp-1249516), MPID(mp-149), MPID(mp-1120258), MPID(mp-1440634), MPID(mp-1947498), MPID(mp-1057366), MPID(mp-1057384), MPID(mp-2683297), MPID(mp-2683378), MPID(mp-1594776), MPID(mp-1686587), MPID(mp-1120259), MPID(mp-1059603), MPID(mp-1057373), MPID(mp-2375783), MPID(mp-1057380), MPID(mp-1059589), MPID(mp-1536661), MPID(mp-2250750), MPID(mp-2299819), MPID(mp-656511), MPID(mp-1059585), MPID(mp-1059604), MPID(mp-2291052), MPID(mp-11721), MPID(mp-2629333), MPID(mp-1791788)],\n",
       "\u001b[1muncorrected_energy_per_atom\u001b[0;0m=-8.773764595,\n",
       "\u001b[1menergy_per_atom\u001b[0;0m=-8.773764595,\n",
       "\u001b[1mformation_energy_per_atom\u001b[0;0m=0.0,\n",
       "\u001b[1menergy_above_hull\u001b[0;0m=0.0,\n",
       "\u001b[1mis_stable\u001b[0;0m=True,\n",
       "\u001b[1mequilibrium_reaction_energy_per_atom\u001b[0;0m=0.0,\n",
       "\u001b[1mdecomposes_to\u001b[0;0m=None,\n",
       "\u001b[1mxas\u001b[0;0m=[XASSearchData(edge=<Edge.K: 'K'>, absorbing_element=Element Si, spectrum_type=<Type.XANES: 'XANES'>), XASSearchData(edge=<Edge.K: 'K'>, absorbing_element=Element Si, spectrum_type=<Type.XAFS: 'XAFS'>), XASSearchData(edge=<Edge.K: 'K'>, absorbing_element=Element Si, spectrum_type=<Type.EXAFS: 'EXAFS'>)],\n",
       "\u001b[1mgrain_boundaries\u001b[0;0m=None,\n",
       "\u001b[1mband_gap\u001b[0;0m=0.6105,\n",
       "\u001b[1mcbm\u001b[0;0m=6.227,\n",
       "\u001b[1mvbm\u001b[0;0m=5.6165,\n",
       "\u001b[1mefermi\u001b[0;0m=5.63019776,\n",
       "\u001b[1mis_gap_direct\u001b[0;0m=False,\n",
       "\u001b[1mis_metal\u001b[0;0m=False,\n",
       "\u001b[1mes_source_calc_id\u001b[0;0m=None,\n",
       "\u001b[1mbandstructure\u001b[0;0m=BandstructureData(setyawan_curtarolo=BandStructureSummaryData(task_id=MPID(mp-1057384), band_gap=0.6105, cbm={'band_index': {'1': [4]}, 'kpoint_index': ['19'], 'kpoint': <pymatgen.electronic_structure.bandstructure.Kpoint object at 0x0000024F61C83C70>, 'energy': 6.227, 'projections': {'1': [[0.0524, 0.0524], [0.0454, 0.0454], [0.0, 0.0], [0.0, 0.0], [0.0, 0.0], [0.0, 0.0], [0.0, 0.0], [0.0, 0.0], [0.0, 0.0]]}}, vbm={'band_index': {'1': [1, 2, 3]}, 'kpoint_index': [0, 72, 73], 'kpoint': <pymatgen.electronic_structure.bandstructure.Kpoint object at 0x0000024F62A288E0>, 'energy': 5.6165, 'projections': {'1': [[0.0, 0.0], [0.0066, 0.0066], [0.1974, 0.1974], [0.0098, 0.0098], [0.0, 0.0], [0.0, 0.0], [0.0, 0.0], [0.0, 0.0], [0.0, 0.0]]}}, efermi=5.63019776, is_gap_direct=False, is_metal=False, magnetic_ordering='NM', nbands=12.0, equivalent_labels={'setyawan_curtarolo': {'latimer_munro': {'\\\\Gamma': 'Γ', 'K': 'q_{1}', 'L': 'a', 'U': 'q', 'W': 'r', 'X': 'd'}, 'hinuma': {'\\\\Gamma': 'GAMMA', 'K': 'K', 'L': 'L', 'U': 'U', 'W': 'W', 'X': 'X'}}, 'latimer_munro': {'setyawan_curtarolo': {'q': 'U', 'd': 'X', 'a': 'L', 'Γ': '\\\\Gamma', 'q_{1}': 'K', 'r': 'W'}, 'hinuma': {'q': 'U', 'd': 'X', 'a': 'L', 'Γ': 'GAMMA', 'q_{1}': 'K', 'r': 'W'}}, 'hinuma': {'setyawan_curtarolo': {'GAMMA': '\\\\Gamma', 'X': 'X', 'L': 'L', 'W': 'W', 'K': 'K', 'U': 'U', 'W_2': 'W^{*}'}, 'latimer_munro': {'GAMMA': 'Γ', 'X': 'd', 'L': 'a', 'W': 'r', 'K': 'q_{1}', 'U': 'q', 'W_2': 'r^{*}'}}}, direct_gap=2.5563000000000002), hinuma=BandStructureSummaryData(task_id=MPID(mp-2064214), band_gap=0.6102999999999996, cbm={'band_index': {'1': [4]}, 'kpoint_index': ['19'], 'kpoint': <pymatgen.electronic_structure.bandstructure.Kpoint object at 0x0000024F625D4940>, 'energy': 6.2277, 'projections': {'1': [[0.0524, 0.0524], [0.0454, 0.0454], [0.0, 0.0], [0.0, 0.0], [0.0, 0.0], [0.0, 0.0], [0.0, 0.0], [0.0, 0.0], [0.0, 0.0]]}}, vbm={'band_index': {'1': [1, 2, 3]}, 'kpoint_index': [0, 59, 60], 'kpoint': <pymatgen.electronic_structure.bandstructure.Kpoint object at 0x0000024F61C16B90>, 'energy': 5.6174, 'projections': {'1': [[0.0, 0.0], [0.0713, 0.0713], [0.0712, 0.0712], [0.0713, 0.0713], [0.0, 0.0], [0.0, 0.0], [0.0, 0.0], [0.0, 0.0], [0.0, 0.0]]}}, efermi=5.7819901, is_gap_direct=False, is_metal=False, magnetic_ordering='NM', nbands=96.0, equivalent_labels={'setyawan_curtarolo': {'latimer_munro': {'\\\\Gamma': 'Γ', 'K': 'q', 'L': 'a', 'U': 'q_{1}', 'W': 'r', 'X': 'd'}, 'hinuma': {'\\\\Gamma': 'GAMMA', 'K': 'K', 'L': 'L', 'U': 'U', 'W': 'W', 'X': 'X'}}, 'latimer_munro': {'setyawan_curtarolo': {'a': 'L', 'd': 'X', 'Γ': '\\\\Gamma', 'q': 'K', 'r': 'W', 'q_{1}': 'U'}, 'hinuma': {'a': 'L', 'd': 'X', 'Γ': 'GAMMA', 'q': 'K', 'r': 'W', 'q_{1}': 'U'}}, 'hinuma': {'setyawan_curtarolo': {'GAMMA': '\\\\Gamma', 'X': 'X', 'L': 'L', 'W': 'W', 'K': 'K', 'U': 'U', 'W_2': 'W^{*}'}, 'latimer_munro': {'GAMMA': 'Γ', 'X': 'd', 'L': 'a', 'W': 'r', 'K': 'q', 'U': 'q_{1}', 'W_2': 'r^{*}'}}}, direct_gap=2.5564), latimer_munro=BandStructureSummaryData(task_id=MPID(mp-2693792), band_gap=0.6102999999999996, cbm={'band_index': {'1': [4]}, 'kpoint_index': ['160'], 'kpoint': <pymatgen.electronic_structure.bandstructure.Kpoint object at 0x0000024F61C152D0>, 'energy': 6.2277, 'projections': {'1': [[0.0524, 0.0524], [0.0, 0.0], [0.0454, 0.0454], [0.0, 0.0], [0.0, 0.0], [0.0, 0.0], [0.0, 0.0], [0.0, 0.0], [0.0, 0.0]]}}, vbm={'band_index': {'1': [1, 2, 3]}, 'kpoint_index': [36, 37, 140, 141, 165], 'kpoint': <pymatgen.electronic_structure.bandstructure.Kpoint object at 0x0000024F61C15360>, 'energy': 5.6174, 'projections': {'1': [[0.0, 0.0], [0.0712, 0.0712], [0.0713, 0.0713], [0.0713, 0.0713], [0.0, 0.0], [0.0, 0.0], [0.0, 0.0], [0.0, 0.0], [0.0, 0.0]]}}, efermi=5.779833, is_gap_direct=False, is_metal=False, magnetic_ordering='NM', nbands=96.0, equivalent_labels={'setyawan_curtarolo': {'latimer_munro': {'\\\\Gamma': 'Γ', 'K': 'q', 'L': 'a', 'U': 'q_{1}', 'W': 'r', 'X': 'd'}, 'hinuma': {'\\\\Gamma': 'GAMMA', 'K': 'K', 'L': 'L', 'U': 'U', 'W': 'W', 'X': 'X'}}, 'latimer_munro': {'setyawan_curtarolo': {'a': 'L', 'd': 'X', 'Γ': '\\\\Gamma', 'q': 'K', 'r': 'W', 'q_{1}': 'U'}, 'hinuma': {'a': 'L', 'd': 'X', 'Γ': 'GAMMA', 'q': 'K', 'r': 'W', 'q_{1}': 'U'}}, 'hinuma': {'setyawan_curtarolo': {'GAMMA': '\\\\Gamma', 'X': 'X', 'L': 'L', 'W': 'W', 'K': 'K', 'U': 'U', 'W_2': 'W^{*}'}, 'latimer_munro': {'GAMMA': 'Γ', 'X': 'd', 'L': 'a', 'W': 'r', 'K': 'q', 'U': 'q_{1}', 'W_2': 'r^{*}'}}}, direct_gap=2.5564)),\n",
       "\u001b[1mdos\u001b[0;0m=DosData(total={'1': DosSummaryData(task_id=MPID(mp-2250750), band_gap=0.6517, cbm=6.2537, vbm=5.602, efermi=5.60204155, spin_polarization=None)}, elemental={Element Si: {'total': {'1': DosSummaryData(task_id=MPID(mp-2250750), band_gap=0.6517, cbm=6.2537, vbm=5.602, efermi=5.60204155, spin_polarization=None)}, 's': {'1': DosSummaryData(task_id=MPID(mp-2250750), band_gap=0.6665000000000001, cbm=6.2537, vbm=5.5872, efermi=5.60204155, spin_polarization=None)}, 'p': {'1': DosSummaryData(task_id=MPID(mp-2250750), band_gap=0.6517, cbm=6.2537, vbm=5.602, efermi=5.60204155, spin_polarization=None)}, 'd': {'1': DosSummaryData(task_id=MPID(mp-2250750), band_gap=29.6227, cbm=22.0871, vbm=-7.5356, efermi=5.60204155, spin_polarization=None)}}}, orbital={'s': {'1': DosSummaryData(task_id=MPID(mp-2250750), band_gap=0.6665000000000001, cbm=6.2537, vbm=5.5872, efermi=5.60204155, spin_polarization=None)}, 'p': {'1': DosSummaryData(task_id=MPID(mp-2250750), band_gap=0.6517, cbm=6.2537, vbm=5.602, efermi=5.60204155, spin_polarization=None)}, 'd': {'1': DosSummaryData(task_id=MPID(mp-2250750), band_gap=29.6227, cbm=22.0871, vbm=-7.5356, efermi=5.60204155, spin_polarization=None)}}, magnetic_ordering='NM'),\n",
       "\u001b[1mdos_energy_up\u001b[0;0m=None,\n",
       "\u001b[1mdos_energy_down\u001b[0;0m=None,\n",
       "\u001b[1mis_magnetic\u001b[0;0m=False,\n",
       "\u001b[1mordering\u001b[0;0m='NM',\n",
       "\u001b[1mtotal_magnetization\u001b[0;0m=0.0,\n",
       "\u001b[1mtotal_magnetization_normalized_vol\u001b[0;0m=0.0,\n",
       "\u001b[1mtotal_magnetization_normalized_formula_units\u001b[0;0m=0.0,\n",
       "\u001b[1mnum_magnetic_sites\u001b[0;0m=0,\n",
       "\u001b[1mnum_unique_magnetic_sites\u001b[0;0m=0,\n",
       "\u001b[1mtypes_of_magnetic_species\u001b[0;0m=[],\n",
       "\u001b[1mbulk_modulus\u001b[0;0m={'voigt': 88.916, 'reuss': 88.916, 'vrh': 88.916},\n",
       "\u001b[1mshear_modulus\u001b[0;0m={'voigt': 63.833, 'reuss': 61.057, 'vrh': 62.445},\n",
       "\u001b[1muniversal_anisotropy\u001b[0;0m=0.227,\n",
       "\u001b[1mhomogeneous_poisson\u001b[0;0m=0.215,\n",
       "\u001b[1me_total\u001b[0;0m=13.003383160000025,\n",
       "\u001b[1me_ionic\u001b[0;0m=0.0,\n",
       "\u001b[1me_electronic\u001b[0;0m=13.003383160000025,\n",
       "\u001b[1mn\u001b[0;0m=3.6060204048230267,\n",
       "\u001b[1me_ij_max\u001b[0;0m=None,\n",
       "\u001b[1mweighted_surface_energy_EV_PER_ANG2\u001b[0;0m=0.08284816797681305,\n",
       "\u001b[1mweighted_surface_energy\u001b[0;0m=1.3273739277139247,\n",
       "\u001b[1mweighted_work_function\u001b[0;0m=4.727598156108368,\n",
       "\u001b[1msurface_anisotropy\u001b[0;0m=0.046483676566591,\n",
       "\u001b[1mshape_factor\u001b[0;0m=5.080957776573802,\n",
       "\u001b[1mhas_reconstructed\u001b[0;0m=True,\n",
       "\u001b[1mpossible_species\u001b[0;0m=[],\n",
       "\u001b[1mhas_props\u001b[0;0m={'materials': True, 'thermo': True, 'xas': True, 'grain_boundaries': False, 'chemenv': True, 'electronic_structure': True, 'absorption': True, 'bandstructure': True, 'dos': True, 'magnetism': True, 'elasticity': True, 'dielectric': True, 'piezoelectric': False, 'surface_properties': True, 'oxi_states': True, 'provenance': True, 'charge_density': True, 'eos': True, 'phonon': True, 'insertion_electrodes': False, 'substrates': True},\n",
       "\u001b[1mtheoretical\u001b[0;0m=False,\n",
       "\u001b[1mdatabase_IDs\u001b[0;0m={'icsd': ['icsd-53782', 'icsd-150530', 'icsd-60385', 'icsd-181355', 'icsd-94261', 'icsd-52266', 'icsd-60388', 'icsd-191759', 'icsd-29287', 'icsd-181356', 'icsd-41979', 'icsd-43403', 'icsd-51688', 'icsd-53783', 'icsd-29288', 'icsd-67788', 'icsd-659044', 'icsd-60389', 'icsd-60386', 'icsd-76268', 'icsd-182730', 'icsd-181907', 'icsd-52457', 'icsd-60387', 'icsd-652255', 'icsd-652257', 'icsd-652265', 'icsd-426975', 'icsd-43610', 'icsd-652258']},\n",
       "\u001b[1mfields_not_requested\u001b[0;0m=[]\n",
       ")"
      ]
     },
     "execution_count": 6,
     "metadata": {},
     "output_type": "execute_result"
    }
   ],
   "source": [
    "from mp_api.client import MPRester\n",
    "import json\n",
    "with MPRester(\"XizEPyfLpTFxjMrtCpObYPshzopUe5aG\") as mpr:\n",
    "    docs = mpr.summary.search(material_ids=[\"mp-149\"])\n",
    "\n",
    "docs[0]"
   ]
  },
  {
   "cell_type": "code",
   "execution_count": 7,
   "metadata": {},
   "outputs": [
    {
     "data": {
      "text/plain": [
       "('Si', MPID(mp-149))"
      ]
     },
     "execution_count": 7,
     "metadata": {},
     "output_type": "execute_result"
    }
   ],
   "source": [
    "example_doc = docs[0]\n",
    "\n",
    "mpid = example_doc.material_id\n",
    "formula = example_doc.formula_pretty\n",
    "formula, mpid"
   ]
  },
  {
   "cell_type": "code",
   "execution_count": 8,
   "metadata": {},
   "outputs": [
    {
     "name": "stderr",
     "output_type": "stream",
     "text": [
      "C:\\Users\\yashb\\AppData\\Local\\Temp\\ipykernel_24960\\285861960.py:2: DeprecationWarning: Accessing summary data through MPRester.summary is deprecated. Please use MPRester.materials.summary instead.\n",
      "  list_of_available_fields = mpr.summary.available_fields\n"
     ]
    },
    {
     "data": {
      "text/plain": [
       "['material_id',\n",
       " 'nsites',\n",
       " 'elements',\n",
       " 'nelements',\n",
       " 'composition',\n",
       " 'composition_reduced',\n",
       " 'formula_pretty',\n",
       " 'formula_anonymous',\n",
       " 'chemsys',\n",
       " 'volume',\n",
       " 'density',\n",
       " 'density_atomic',\n",
       " 'symmetry',\n",
       " 'property_name',\n",
       " 'builder_meta',\n",
       " 'deprecated',\n",
       " 'deprecation_reasons',\n",
       " 'last_updated',\n",
       " 'origins',\n",
       " 'warnings',\n",
       " 'structure',\n",
       " 'task_ids',\n",
       " 'uncorrected_energy_per_atom',\n",
       " 'energy_per_atom',\n",
       " 'formation_energy_per_atom',\n",
       " 'energy_above_hull',\n",
       " 'is_stable',\n",
       " 'equilibrium_reaction_energy_per_atom',\n",
       " 'decomposes_to',\n",
       " 'xas',\n",
       " 'grain_boundaries',\n",
       " 'band_gap',\n",
       " 'cbm',\n",
       " 'vbm',\n",
       " 'efermi',\n",
       " 'is_gap_direct',\n",
       " 'is_metal',\n",
       " 'es_source_calc_id',\n",
       " 'bandstructure',\n",
       " 'dos',\n",
       " 'dos_energy_up',\n",
       " 'dos_energy_down',\n",
       " 'is_magnetic',\n",
       " 'ordering',\n",
       " 'total_magnetization',\n",
       " 'total_magnetization_normalized_vol',\n",
       " 'total_magnetization_normalized_formula_units',\n",
       " 'num_magnetic_sites',\n",
       " 'num_unique_magnetic_sites',\n",
       " 'types_of_magnetic_species',\n",
       " 'bulk_modulus',\n",
       " 'shear_modulus',\n",
       " 'universal_anisotropy',\n",
       " 'homogeneous_poisson',\n",
       " 'e_total',\n",
       " 'e_ionic',\n",
       " 'e_electronic',\n",
       " 'n',\n",
       " 'e_ij_max',\n",
       " 'weighted_surface_energy_EV_PER_ANG2',\n",
       " 'weighted_surface_energy',\n",
       " 'weighted_work_function',\n",
       " 'surface_anisotropy',\n",
       " 'shape_factor',\n",
       " 'has_reconstructed',\n",
       " 'possible_species',\n",
       " 'has_props',\n",
       " 'theoretical',\n",
       " 'database_IDs']"
      ]
     },
     "execution_count": 8,
     "metadata": {},
     "output_type": "execute_result"
    }
   ],
   "source": [
    "#list of available fields\n",
    "list_of_available_fields = mpr.summary.available_fields\n",
    "temp = list_of_available_fields[0]\n",
    "list_of_available_fields[0] = list_of_available_fields[14]\n",
    "list_of_available_fields[14] = temp\n",
    "list_of_available_fields\n"
   ]
  },
  {
   "cell_type": "code",
   "execution_count": 9,
   "metadata": {},
   "outputs": [
    {
     "name": "stderr",
     "output_type": "stream",
     "text": [
      "C:\\Users\\yashb\\AppData\\Local\\Temp\\ipykernel_24960\\1355330979.py:2: DeprecationWarning: Accessing thermo data through MPRester.thermo is deprecated. Please use MPRester.materials.thermo instead.\n",
      "  print(mpr.thermo.available_fields)\n"
     ]
    },
    {
     "name": "stdout",
     "output_type": "stream",
     "text": [
      "['builder_meta', 'nsites', 'elements', 'nelements', 'composition', 'composition_reduced', 'formula_pretty', 'formula_anonymous', 'chemsys', 'volume', 'density', 'density_atomic', 'symmetry', 'property_name', 'material_id', 'deprecated', 'deprecation_reasons', 'last_updated', 'origins', 'warnings', 'thermo_type', 'thermo_id', 'uncorrected_energy_per_atom', 'energy_per_atom', 'energy_uncertainy_per_atom', 'formation_energy_per_atom', 'energy_above_hull', 'is_stable', 'equilibrium_reaction_energy_per_atom', 'decomposes_to', 'decomposition_enthalpy', 'decomposition_enthalpy_decomposes_to', 'energy_type', 'entry_types', 'entries']\n"
     ]
    }
   ],
   "source": [
    "with MPRester(MP_API_KEY) as mpr:\n",
    "    print(mpr.thermo.available_fields)"
   ]
  },
  {
   "cell_type": "markdown",
   "metadata": {},
   "source": [
    "Pymatgen\n"
   ]
  },
  {
   "cell_type": "markdown",
   "metadata": {},
   "source": [
    "______________________________\n"
   ]
  },
  {
   "cell_type": "code",
   "execution_count": 38,
   "metadata": {},
   "outputs": [
    {
     "data": {
      "application/vnd.jupyter.widget-view+json": {
       "model_id": "b30587272ae7498cb6c58bb2107c881b",
       "version_major": 2,
       "version_minor": 0
      },
      "text/plain": [
       "Retrieving SummaryDoc documents:   0%|          | 0/3201 [00:00<?, ?it/s]"
      ]
     },
     "metadata": {},
     "output_type": "display_data"
    },
    {
     "data": {
      "text/html": [
       "<div>\n",
       "<style scoped>\n",
       "    .dataframe tbody tr th:only-of-type {\n",
       "        vertical-align: middle;\n",
       "    }\n",
       "\n",
       "    .dataframe tbody tr th {\n",
       "        vertical-align: top;\n",
       "    }\n",
       "\n",
       "    .dataframe thead th {\n",
       "        text-align: right;\n",
       "    }\n",
       "</style>\n",
       "<table border=\"1\" class=\"dataframe\">\n",
       "  <thead>\n",
       "    <tr style=\"text-align: right;\">\n",
       "      <th></th>\n",
       "      <th>material_id</th>\n",
       "      <th>formula_pretty</th>\n",
       "      <th>energy_per_atom</th>\n",
       "      <th>formation_energy_per_atom</th>\n",
       "      <th>band_gap</th>\n",
       "      <th>efermi</th>\n",
       "      <th>is_metal</th>\n",
       "      <th>bulk_modulus</th>\n",
       "      <th>shear_modulus</th>\n",
       "      <th>homogeneous_poisson</th>\n",
       "    </tr>\n",
       "  </thead>\n",
       "  <tbody>\n",
       "    <tr>\n",
       "      <th>0</th>\n",
       "      <td>mp-21464</td>\n",
       "      <td>CoReB</td>\n",
       "      <td>-24.557722</td>\n",
       "      <td>-0.227322</td>\n",
       "      <td>0.0</td>\n",
       "      <td>8.137121</td>\n",
       "      <td>True</td>\n",
       "      <td>{'voigt': 352.377, 'reuss': 351.893, 'vrh': 35...</td>\n",
       "      <td>{'voigt': 152.011, 'reuss': 93.78, 'vrh': 122....</td>\n",
       "      <td>0.344</td>\n",
       "    </tr>\n",
       "    <tr>\n",
       "      <th>1</th>\n",
       "      <td>mp-10394</td>\n",
       "      <td>CrCoGe</td>\n",
       "      <td>-7.215667</td>\n",
       "      <td>-0.079170</td>\n",
       "      <td>0.0</td>\n",
       "      <td>7.531247</td>\n",
       "      <td>True</td>\n",
       "      <td>{'voigt': 186.094, 'reuss': 181.562, 'vrh': 18...</td>\n",
       "      <td>{'voigt': 76.63, 'reuss': 71.531, 'vrh': 74.08}</td>\n",
       "      <td>0.322</td>\n",
       "    </tr>\n",
       "    <tr>\n",
       "      <th>2</th>\n",
       "      <td>mp-1941</td>\n",
       "      <td>GaNi</td>\n",
       "      <td>-12.067912</td>\n",
       "      <td>-0.355665</td>\n",
       "      <td>0.0</td>\n",
       "      <td>7.629778</td>\n",
       "      <td>True</td>\n",
       "      <td>{'voigt': 152.55, 'reuss': 152.55, 'vrh': 152.55}</td>\n",
       "      <td>{'voigt': 52.973, 'reuss': 32.215, 'vrh': 42.594}</td>\n",
       "      <td>0.372</td>\n",
       "    </tr>\n",
       "    <tr>\n",
       "      <th>3</th>\n",
       "      <td>mp-2025</td>\n",
       "      <td>HfBe5</td>\n",
       "      <td>-5.005097</td>\n",
       "      <td>-0.229388</td>\n",
       "      <td>0.0</td>\n",
       "      <td>4.210674</td>\n",
       "      <td>True</td>\n",
       "      <td>{'voigt': 130.988, 'reuss': 130.924, 'vrh': 13...</td>\n",
       "      <td>{'voigt': 124.641, 'reuss': 116.19, 'vrh': 120...</td>\n",
       "      <td>0.148</td>\n",
       "    </tr>\n",
       "    <tr>\n",
       "      <th>4</th>\n",
       "      <td>mp-889</td>\n",
       "      <td>Cr3B4</td>\n",
       "      <td>-11.005136</td>\n",
       "      <td>-0.347215</td>\n",
       "      <td>0.0</td>\n",
       "      <td>8.690741</td>\n",
       "      <td>True</td>\n",
       "      <td>{'voigt': 301.792, 'reuss': 299.627, 'vrh': 30...</td>\n",
       "      <td>{'voigt': 207.139, 'reuss': 204.181, 'vrh': 20...</td>\n",
       "      <td>0.222</td>\n",
       "    </tr>\n",
       "    <tr>\n",
       "      <th>...</th>\n",
       "      <td>...</td>\n",
       "      <td>...</td>\n",
       "      <td>...</td>\n",
       "      <td>...</td>\n",
       "      <td>...</td>\n",
       "      <td>...</td>\n",
       "      <td>...</td>\n",
       "      <td>...</td>\n",
       "      <td>...</td>\n",
       "      <td>...</td>\n",
       "    </tr>\n",
       "    <tr>\n",
       "      <th>3196</th>\n",
       "      <td>mp-866152</td>\n",
       "      <td>TiBeCo2</td>\n",
       "      <td>-6.897446</td>\n",
       "      <td>-0.422011</td>\n",
       "      <td>0.0</td>\n",
       "      <td>6.143854</td>\n",
       "      <td>True</td>\n",
       "      <td>{'voigt': 191.214, 'reuss': 191.214, 'vrh': 19...</td>\n",
       "      <td>{'voigt': 105.101, 'reuss': 104.896, 'vrh': 10...</td>\n",
       "      <td>0.268</td>\n",
       "    </tr>\n",
       "    <tr>\n",
       "      <th>3197</th>\n",
       "      <td>mp-13503</td>\n",
       "      <td>ScZn2</td>\n",
       "      <td>-3.297138</td>\n",
       "      <td>-0.346486</td>\n",
       "      <td>0.0</td>\n",
       "      <td>3.617106</td>\n",
       "      <td>True</td>\n",
       "      <td>{'voigt': 81.142, 'reuss': 81.113, 'vrh': 81.128}</td>\n",
       "      <td>{'voigt': 49.655, 'reuss': 49.596, 'vrh': 49.625}</td>\n",
       "      <td>0.246</td>\n",
       "    </tr>\n",
       "    <tr>\n",
       "      <th>3198</th>\n",
       "      <td>mp-559</td>\n",
       "      <td>YPd3</td>\n",
       "      <td>-23.180417</td>\n",
       "      <td>-0.881677</td>\n",
       "      <td>0.0</td>\n",
       "      <td>5.260351</td>\n",
       "      <td>True</td>\n",
       "      <td>{'voigt': 124.541, 'reuss': 124.541, 'vrh': 12...</td>\n",
       "      <td>{'voigt': 52.197, 'reuss': 44.494, 'vrh': 48.346}</td>\n",
       "      <td>0.328</td>\n",
       "    </tr>\n",
       "    <tr>\n",
       "      <th>3199</th>\n",
       "      <td>mp-1953</td>\n",
       "      <td>TiAl</td>\n",
       "      <td>-10.281885</td>\n",
       "      <td>-0.446957</td>\n",
       "      <td>0.0</td>\n",
       "      <td>6.808373</td>\n",
       "      <td>True</td>\n",
       "      <td>{'voigt': 113.507, 'reuss': 113.46, 'vrh': 113...</td>\n",
       "      <td>{'voigt': 74.422, 'reuss': 62.49, 'vrh': 68.456}</td>\n",
       "      <td>0.249</td>\n",
       "    </tr>\n",
       "    <tr>\n",
       "      <th>3200</th>\n",
       "      <td>mp-2327</td>\n",
       "      <td>TiZn16</td>\n",
       "      <td>-1.714389</td>\n",
       "      <td>-0.064307</td>\n",
       "      <td>0.0</td>\n",
       "      <td>3.312432</td>\n",
       "      <td>True</td>\n",
       "      <td>{'voigt': 79.484, 'reuss': 79.107, 'vrh': 79.295}</td>\n",
       "      <td>{'voigt': 26.678, 'reuss': 21.407, 'vrh': 24.042}</td>\n",
       "      <td>0.362</td>\n",
       "    </tr>\n",
       "  </tbody>\n",
       "</table>\n",
       "<p>3201 rows × 10 columns</p>\n",
       "</div>"
      ],
      "text/plain": [
       "     material_id formula_pretty  energy_per_atom  formation_energy_per_atom  \\\n",
       "0       mp-21464          CoReB       -24.557722                  -0.227322   \n",
       "1       mp-10394         CrCoGe        -7.215667                  -0.079170   \n",
       "2        mp-1941           GaNi       -12.067912                  -0.355665   \n",
       "3        mp-2025          HfBe5        -5.005097                  -0.229388   \n",
       "4         mp-889          Cr3B4       -11.005136                  -0.347215   \n",
       "...          ...            ...              ...                        ...   \n",
       "3196   mp-866152        TiBeCo2        -6.897446                  -0.422011   \n",
       "3197    mp-13503          ScZn2        -3.297138                  -0.346486   \n",
       "3198      mp-559           YPd3       -23.180417                  -0.881677   \n",
       "3199     mp-1953           TiAl       -10.281885                  -0.446957   \n",
       "3200     mp-2327         TiZn16        -1.714389                  -0.064307   \n",
       "\n",
       "      band_gap    efermi  is_metal  \\\n",
       "0          0.0  8.137121      True   \n",
       "1          0.0  7.531247      True   \n",
       "2          0.0  7.629778      True   \n",
       "3          0.0  4.210674      True   \n",
       "4          0.0  8.690741      True   \n",
       "...        ...       ...       ...   \n",
       "3196       0.0  6.143854      True   \n",
       "3197       0.0  3.617106      True   \n",
       "3198       0.0  5.260351      True   \n",
       "3199       0.0  6.808373      True   \n",
       "3200       0.0  3.312432      True   \n",
       "\n",
       "                                           bulk_modulus  \\\n",
       "0     {'voigt': 352.377, 'reuss': 351.893, 'vrh': 35...   \n",
       "1     {'voigt': 186.094, 'reuss': 181.562, 'vrh': 18...   \n",
       "2     {'voigt': 152.55, 'reuss': 152.55, 'vrh': 152.55}   \n",
       "3     {'voigt': 130.988, 'reuss': 130.924, 'vrh': 13...   \n",
       "4     {'voigt': 301.792, 'reuss': 299.627, 'vrh': 30...   \n",
       "...                                                 ...   \n",
       "3196  {'voigt': 191.214, 'reuss': 191.214, 'vrh': 19...   \n",
       "3197  {'voigt': 81.142, 'reuss': 81.113, 'vrh': 81.128}   \n",
       "3198  {'voigt': 124.541, 'reuss': 124.541, 'vrh': 12...   \n",
       "3199  {'voigt': 113.507, 'reuss': 113.46, 'vrh': 113...   \n",
       "3200  {'voigt': 79.484, 'reuss': 79.107, 'vrh': 79.295}   \n",
       "\n",
       "                                          shear_modulus  homogeneous_poisson  \n",
       "0     {'voigt': 152.011, 'reuss': 93.78, 'vrh': 122....                0.344  \n",
       "1       {'voigt': 76.63, 'reuss': 71.531, 'vrh': 74.08}                0.322  \n",
       "2     {'voigt': 52.973, 'reuss': 32.215, 'vrh': 42.594}                0.372  \n",
       "3     {'voigt': 124.641, 'reuss': 116.19, 'vrh': 120...                0.148  \n",
       "4     {'voigt': 207.139, 'reuss': 204.181, 'vrh': 20...                0.222  \n",
       "...                                                 ...                  ...  \n",
       "3196  {'voigt': 105.101, 'reuss': 104.896, 'vrh': 10...                0.268  \n",
       "3197  {'voigt': 49.655, 'reuss': 49.596, 'vrh': 49.625}                0.246  \n",
       "3198  {'voigt': 52.197, 'reuss': 44.494, 'vrh': 48.346}                0.328  \n",
       "3199   {'voigt': 74.422, 'reuss': 62.49, 'vrh': 68.456}                0.249  \n",
       "3200  {'voigt': 26.678, 'reuss': 21.407, 'vrh': 24.042}                0.362  \n",
       "\n",
       "[3201 rows x 10 columns]"
      ]
     },
     "execution_count": 38,
     "metadata": {},
     "output_type": "execute_result"
    }
   ],
   "source": [
    "\n",
    "\n",
    "with MPRester(MP_API_KEY) as mpr:\n",
    "  def read_first_column(filename):\n",
    "      # Read the CSV file into a pandas DataFrame\n",
    "      df = pd.read_csv(filename)\n",
    "\n",
    "      # Extract the first column and convert it to a list\n",
    "      first_column_values = df.iloc[:, 0].tolist()\n",
    "\n",
    "      return first_column_values\n",
    "\n",
    "  # Example usage:\n",
    "  filename = \"mp-ids-3402.csv\"\n",
    "  first_column_values = read_first_column(filename)\n",
    "  # print(\"First column values:\", first_column_values)\n",
    "  material_ids = first_column_values\n",
    "  docs = mpr.materials.summary.search(material_ids=material_ids) \n",
    "\n",
    "df = pd.DataFrame(columns=['material_id','formula_pretty', 'energy_per_atom', 'formation_energy_per_atom',\n",
    "                   'band_gap',  'efermi', 'is_metal',  'bulk_modulus',  \n",
    "                    'shear_modulus', 'homogeneous_poisson'])\n",
    "\n",
    "\n",
    "# Access information about each crystal\n",
    "rctr = 0\n",
    "for doc in docs:\n",
    "    warnings.filterwarnings(\"ignore\", category=FutureWarning)\n",
    "    df.loc[rctr] = {'material_id':doc.material_id, 'formula_pretty':doc.formula_pretty,    \n",
    "                    'energy_per_atom':doc.energy_per_atom,  'formation_energy_per_atom':doc.formation_energy_per_atom,'band_gap':doc.band_gap,  'efermi':doc.efermi,  \n",
    "                    'is_metal':doc.is_metal, \n",
    "                    'bulk_modulus':doc.bulk_modulus,  \n",
    "                    'shear_modulus':doc.shear_modulus, 'homogeneous_poisson':doc.homogeneous_poisson}\n",
    "\n",
    "\n",
    "    rctr+=1\n",
    "\n",
    "df\n",
    "\n",
    "\n"
   ]
  },
  {
   "cell_type": "code",
   "execution_count": 39,
   "metadata": {},
   "outputs": [],
   "source": [
    "# removing rows with no bulk modulus and other parameter data (purely missing data, independent of any trend so cannot be imputed)\n",
    "# df = df.dropna(subset=['bulk_modulus'])\n",
    "# df"
   ]
  },
  {
   "cell_type": "code",
   "execution_count": 26,
   "metadata": {},
   "outputs": [],
   "source": [
    "# df.to_excel(\"materialswithprop.xlsx\")\n",
    "\n"
   ]
  },
  {
   "cell_type": "code",
   "execution_count": 37,
   "metadata": {},
   "outputs": [
    {
     "data": {
      "image/png": "[encoded data removed]",
      "text/plain": [
       "<Figure size 640x480 with 1 Axes>"
      ]
     },
     "metadata": {},
     "output_type": "display_data"
    },
    {
     "data": {
      "image/png": "[encoded data removed]",
      "text/plain": [
       "<Figure size 640x480 with 1 Axes>"
      ]
     },
     "metadata": {},
     "output_type": "display_data"
    },
    {
     "data": {
      "image/png": "[encoded data removed]",
      "text/plain": [
       "<Figure size 640x480 with 1 Axes>"
      ]
     },
     "metadata": {},
     "output_type": "display_data"
    },
    {
     "data": {
      "image/png": "[encoded data removed]",
      "text/plain": [
       "<Figure size 640x480 with 1 Axes>"
      ]
     },
     "metadata": {},
     "output_type": "display_data"
    }
   ],
   "source": [
    "# Plot histograms for different properties\n",
    "colnames = ['Absolute Energy per atom (Ev/atom)', 'Formation Energy per atom (Ev/atom)', 'Band gap (Ev)', 'Fermi Energy (Ev)']\n",
    "for i,j in zip(df.columns[2:6], colnames):\n",
    "    plt.hist(df[i], bins=30, edgecolor='black')\n",
    "    plt.title(f'{j}')\n",
    "    plt.xlabel('Value')\n",
    "    plt.ylabel('Frequency')\n",
    "    plt.grid()\n",
    "    plt.show()"
   ]
  }
 ],
 "metadata": {
  "kernelspec": {
   "display_name": "Python 3",
   "language": "python",
   "name": "python3"
  },
  "language_info": {
   "codemirror_mode": {
    "name": "ipython",
    "version": 3
   },
   "file_extension": ".py",
   "mimetype": "text/x-python",
   "name": "python",
   "nbconvert_exporter": "python",
   "pygments_lexer": "ipython3",
   "version": "3.10.11"
  }
 },
 "nbformat": 4,
 "nbformat_minor": 2
}
