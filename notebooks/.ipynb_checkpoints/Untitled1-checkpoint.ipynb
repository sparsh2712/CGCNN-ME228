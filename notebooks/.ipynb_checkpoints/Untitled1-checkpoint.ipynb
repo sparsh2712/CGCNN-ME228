{
 "cells": [
  {
   "cell_type": "code",
   "execution_count": 1,
   "id": "7d1b4e95-69c4-48d7-aad4-af3042423b7a",
   "metadata": {},
   "outputs": [
    {
     "name": "stderr",
     "output_type": "stream",
     "text": [
      "/opt/anaconda3/envs/cgcnn/lib/python3.10/site-packages/tqdm/auto.py:21: TqdmWarning: IProgress not found. Please update jupyter and ipywidgets. See https://ipywidgets.readthedocs.io/en/stable/user_install.html\n",
      "  from .autonotebook import tqdm as notebook_tqdm\n"
     ]
    }
   ],
   "source": [
    "import numpy as np\n",
    "import pandas as pd\n",
    "import requests\n",
    "import pymatgen.core as pmg\n",
    "import warnings\n",
    "import matplotlib.pyplot as plt\n",
    "from mp_api.client import MPRester\n",
    "import json"
   ]
  },
  {
   "cell_type": "code",
   "execution_count": 2,
   "id": "b9416d46-9cfc-49c6-a8e6-a4b8eb39f37e",
   "metadata": {},
   "outputs": [],
   "source": [
    "MP_API_KEY = 'PULAwCzMQFzgXRhElkO1T4BoM6mQAjnO'"
   ]
  },
  {
   "cell_type": "code",
   "execution_count": 3,
   "id": "e72374a4-ceb0-4fa4-be5c-2abeca4218a9",
   "metadata": {},
   "outputs": [],
   "source": [
    "df = pd.read_csv('../data/mp-ids-3402.csv', header=None, names=['mpid'])\n",
    "list_of_mpid = df['mpid'].tolist()"
   ]
  },
  {
   "cell_type": "code",
   "execution_count": 4,
   "id": "d38abae2-550c-4584-bcff-e13f4dc5f261",
   "metadata": {},
   "outputs": [],
   "source": [
    "id_prop_dict = {}\n",
    "fields = ['material_id','formula_pretty', 'energy_per_atom', 'formation_energy_per_atom','band_gap', 'efermi', \n",
    "         'bulk_modulus', 'shear_modulus', 'homogeneous_poisson']"
   ]
  },
  {
   "cell_type": "code",
   "execution_count": null,
   "id": "3e59348a-8c5a-48cc-83f6-198a8e68db07",
   "metadata": {},
   "outputs": [
    {
     "name": "stderr",
     "output_type": "stream",
     "text": [
      "Retrieving SummaryDoc documents: 100%|█████████| 1/1 [00:00<00:00, 10618.49it/s]\n",
      "Retrieving SummaryDoc documents: 100%|█████████| 1/1 [00:00<00:00, 23301.69it/s]\n",
      "Retrieving SummaryDoc documents: 100%|█████████| 1/1 [00:00<00:00, 23301.69it/s]\n",
      "Retrieving SummaryDoc documents: 100%|█████████| 1/1 [00:00<00:00, 20262.34it/s]\n",
      "Retrieving SummaryDoc documents: 100%|█████████| 1/1 [00:00<00:00, 21620.12it/s]\n",
      "Retrieving SummaryDoc documents: 100%|█████████| 1/1 [00:00<00:00, 27060.03it/s]\n",
      "Retrieving SummaryDoc documents: 100%|█████████| 1/1 [00:00<00:00, 22795.13it/s]\n",
      "Retrieving SummaryDoc documents: 100%|█████████| 1/1 [00:00<00:00, 25420.02it/s]\n",
      "Retrieving SummaryDoc documents: 100%|█████████| 1/1 [00:00<00:00, 25731.93it/s]\n",
      "Retrieving SummaryDoc documents: 100%|█████████| 1/1 [00:00<00:00, 23301.69it/s]\n",
      "Retrieving SummaryDoc documents: 100%|█████████| 1/1 [00:00<00:00, 22671.91it/s]\n",
      "Retrieving SummaryDoc documents: 100%|█████████| 1/1 [00:00<00:00, 22192.08it/s]\n",
      "Retrieving SummaryDoc documents: 100%|█████████| 1/1 [00:00<00:00, 26379.27it/s]\n",
      "Retrieving SummaryDoc documents: 100%|█████████| 1/1 [00:00<00:00, 26379.27it/s]\n",
      "Retrieving SummaryDoc documents: 100%|█████████| 1/1 [00:00<00:00, 26214.40it/s]\n",
      "Retrieving SummaryDoc documents: 100%|█████████| 1/1 [00:00<00:00, 22671.91it/s]\n",
      "Retrieving SummaryDoc documents: 100%|█████████| 1/1 [00:00<00:00, 21732.15it/s]\n",
      "Retrieving SummaryDoc documents: 100%|█████████| 1/1 [00:00<00:00, 23301.69it/s]\n",
      "Retrieving SummaryDoc documents: 100%|█████████| 1/1 [00:00<00:00, 22192.08it/s]\n",
      "Retrieving SummaryDoc documents: 100%|█████████| 1/1 [00:00<00:00, 30174.85it/s]\n",
      "Retrieving SummaryDoc documents: 100%|█████████| 1/1 [00:00<00:00, 22192.08it/s]\n",
      "Retrieving SummaryDoc documents: 100%|█████████| 1/1 [00:00<00:00, 24966.10it/s]\n",
      "Retrieving SummaryDoc documents: 100%|█████████| 1/1 [00:00<00:00, 23831.27it/s]\n",
      "Retrieving SummaryDoc documents: 100%|█████████| 1/1 [00:00<00:00, 22671.91it/s]\n",
      "Retrieving SummaryDoc documents: 100%|█████████| 1/1 [00:00<00:00, 23301.69it/s]\n",
      "Retrieving SummaryDoc documents: 100%|█████████| 1/1 [00:00<00:00, 22795.13it/s]\n",
      "Retrieving SummaryDoc documents: 100%|█████████| 1/1 [00:00<00:00, 23172.95it/s]\n",
      "Retrieving SummaryDoc documents: 100%|█████████| 1/1 [00:00<00:00, 23172.95it/s]\n",
      "Retrieving SummaryDoc documents: 100%|█████████| 1/1 [00:00<00:00, 22192.08it/s]\n",
      "Retrieving SummaryDoc documents: 0it [00:00, ?it/s]\n"
     ]
    },
    {
     "name": "stdout",
     "output_type": "stream",
     "text": [
      "Error list index out of range occured for material id: mp-776791\n"
     ]
    },
    {
     "name": "stderr",
     "output_type": "stream",
     "text": [
      "Retrieving SummaryDoc documents: 100%|█████████| 1/1 [00:00<00:00, 20460.02it/s]\n",
      "Retrieving SummaryDoc documents: 100%|█████████| 1/1 [00:00<00:00, 23172.95it/s]\n",
      "Retrieving SummaryDoc documents: 100%|█████████| 1/1 [00:00<00:00, 23301.69it/s]\n",
      "Retrieving SummaryDoc documents: 100%|█████████| 1/1 [00:00<00:00, 23301.69it/s]\n",
      "Retrieving SummaryDoc documents: 100%|█████████| 1/1 [00:00<00:00, 24385.49it/s]\n",
      "Retrieving SummaryDoc documents: 0it [00:00, ?it/s]\n"
     ]
    },
    {
     "name": "stdout",
     "output_type": "stream",
     "text": [
      "Error list index out of range occured for material id: mp-764004\n"
     ]
    },
    {
     "name": "stderr",
     "output_type": "stream",
     "text": [
      "Retrieving SummaryDoc documents: 100%|█████████| 1/1 [00:00<00:00, 23301.69it/s]\n",
      "Retrieving SummaryDoc documents: 100%|█████████| 1/1 [00:00<00:00, 23831.27it/s]\n",
      "Retrieving SummaryDoc documents: 100%|█████████| 1/1 [00:00<00:00, 23301.69it/s]\n",
      "Retrieving SummaryDoc documents: 100%|█████████| 1/1 [00:00<00:00, 22192.08it/s]\n",
      "Retrieving SummaryDoc documents: 100%|█████████| 1/1 [00:00<00:00, 21732.15it/s]\n",
      "Retrieving SummaryDoc documents: 100%|█████████| 1/1 [00:00<00:00, 21290.88it/s]\n",
      "Retrieving SummaryDoc documents: 100%|█████████| 1/1 [00:00<00:00, 22192.08it/s]\n",
      "Retrieving SummaryDoc documents: 100%|█████████| 1/1 [00:00<00:00, 25115.59it/s]\n",
      "Retrieving SummaryDoc documents: 100%|█████████| 1/1 [00:00<00:00, 22919.69it/s]\n",
      "Retrieving SummaryDoc documents: 100%|█████████| 1/1 [00:00<00:00, 20867.18it/s]\n",
      "Retrieving SummaryDoc documents: 100%|█████████| 1/1 [00:00<00:00, 22192.08it/s]\n",
      "Retrieving SummaryDoc documents: 100%|█████████| 1/1 [00:00<00:00, 21732.15it/s]\n",
      "Retrieving SummaryDoc documents: 100%|█████████| 1/1 [00:00<00:00, 23301.69it/s]\n",
      "Retrieving SummaryDoc documents: 100%|█████████| 1/1 [00:00<00:00, 20763.88it/s]\n",
      "Retrieving SummaryDoc documents: 100%|█████████| 1/1 [00:00<00:00, 22192.08it/s]\n",
      "Retrieving SummaryDoc documents: 100%|█████████| 1/1 [00:00<00:00, 21290.88it/s]\n",
      "Retrieving SummaryDoc documents: 100%|█████████| 1/1 [00:00<00:00, 23301.69it/s]\n",
      "Retrieving SummaryDoc documents: 100%|█████████| 1/1 [00:00<00:00, 22429.43it/s]\n",
      "Retrieving SummaryDoc documents: 100%|█████████| 1/1 [00:00<00:00, 21845.33it/s]\n",
      "Retrieving SummaryDoc documents: 100%|█████████| 1/1 [00:00<00:00, 22671.91it/s]\n",
      "Retrieving SummaryDoc documents: 100%|█████████| 1/1 [00:00<00:00, 21620.12it/s]\n",
      "Retrieving SummaryDoc documents: 0it [00:00, ?it/s]\n"
     ]
    },
    {
     "name": "stdout",
     "output_type": "stream",
     "text": [
      "Error list index out of range occured for material id: mp-675163\n"
     ]
    },
    {
     "name": "stderr",
     "output_type": "stream",
     "text": [
      "Retrieving SummaryDoc documents: 100%|█████████| 1/1 [00:00<00:00, 22671.91it/s]\n",
      "Retrieving SummaryDoc documents: 100%|█████████| 1/1 [00:00<00:00, 23172.95it/s]\n",
      "Retrieving SummaryDoc documents: 100%|█████████| 1/1 [00:00<00:00, 21620.12it/s]\n",
      "Retrieving SummaryDoc documents: 100%|█████████| 1/1 [00:00<00:00, 20971.52it/s]\n",
      "Retrieving SummaryDoc documents: 0it [00:00, ?it/s]\n"
     ]
    },
    {
     "name": "stdout",
     "output_type": "stream",
     "text": [
      "Error list index out of range occured for material id: mp-25545\n"
     ]
    },
    {
     "name": "stderr",
     "output_type": "stream",
     "text": [
      "Retrieving SummaryDoc documents: 0it [00:00, ?it/s]\n"
     ]
    },
    {
     "name": "stdout",
     "output_type": "stream",
     "text": [
      "Error list index out of range occured for material id: mp-778780\n"
     ]
    },
    {
     "name": "stderr",
     "output_type": "stream",
     "text": [
      "Retrieving SummaryDoc documents: 100%|█████████| 1/1 [00:00<00:00, 21290.88it/s]\n",
      "Retrieving SummaryDoc documents: 100%|█████████| 1/1 [00:00<00:00, 32263.88it/s]\n",
      "Retrieving SummaryDoc documents: 100%|█████████| 1/1 [00:00<00:00, 19239.93it/s]\n",
      "Retrieving SummaryDoc documents: 100%|█████████| 1/1 [00:00<00:00, 23831.27it/s]\n",
      "Retrieving SummaryDoc documents: 100%|█████████| 1/1 [00:00<00:00, 21620.12it/s]\n",
      "Retrieving SummaryDoc documents: 100%|█████████| 1/1 [00:00<00:00, 22310.13it/s]\n",
      "Retrieving SummaryDoc documents: 100%|█████████| 1/1 [00:00<00:00, 22192.08it/s]\n",
      "Retrieving SummaryDoc documents: 100%|█████████| 1/1 [00:00<00:00, 22671.91it/s]\n",
      "Retrieving SummaryDoc documents: 100%|█████████| 1/1 [00:00<00:00, 25731.93it/s]\n",
      "Retrieving SummaryDoc documents: 100%|█████████| 1/1 [00:00<00:00, 19691.57it/s]\n",
      "Retrieving SummaryDoc documents: 100%|█████████| 1/1 [00:00<00:00, 21183.35it/s]\n",
      "Retrieving SummaryDoc documents: 100%|█████████| 1/1 [00:00<00:00, 18157.16it/s]\n",
      "Retrieving SummaryDoc documents: 100%|█████████| 1/1 [00:00<00:00, 21290.88it/s]\n",
      "Retrieving SummaryDoc documents: 100%|█████████| 1/1 [00:00<00:00, 21732.15it/s]\n",
      "Retrieving SummaryDoc documents: 100%|█████████| 1/1 [00:00<00:00, 21620.12it/s]\n",
      "Retrieving SummaryDoc documents: 100%|█████████| 1/1 [00:00<00:00, 21845.33it/s]\n",
      "Retrieving SummaryDoc documents: 100%|█████████| 1/1 [00:00<00:00, 21290.88it/s]\n",
      "Retrieving SummaryDoc documents: 100%|█████████| 1/1 [00:00<00:00, 22671.91it/s]\n",
      "Retrieving SummaryDoc documents: 100%|█████████| 1/1 [00:00<00:00, 21183.35it/s]\n",
      "Retrieving SummaryDoc documents: 100%|█████████| 1/1 [00:00<00:00, 22192.08it/s]\n",
      "Retrieving SummaryDoc documents: 100%|█████████| 1/1 [00:00<00:00, 22192.08it/s]\n",
      "Retrieving SummaryDoc documents: 100%|█████████| 1/1 [00:00<00:00, 20763.88it/s]\n",
      "Retrieving SummaryDoc documents: 100%|█████████| 1/1 [00:00<00:00, 20360.70it/s]\n",
      "Retrieving SummaryDoc documents: 100%|█████████| 1/1 [00:00<00:00, 21732.15it/s]\n",
      "Retrieving SummaryDoc documents: 100%|█████████| 1/1 [00:00<00:00, 21183.35it/s]\n",
      "Retrieving SummaryDoc documents: 100%|█████████| 1/1 [00:00<00:00, 27962.03it/s]\n",
      "Retrieving SummaryDoc documents: 100%|█████████| 1/1 [00:00<00:00, 22192.08it/s]\n",
      "Retrieving SummaryDoc documents: 100%|█████████| 1/1 [00:00<00:00, 22192.08it/s]\n",
      "Retrieving SummaryDoc documents: 100%|█████████| 1/1 [00:00<00:00, 21290.88it/s]\n",
      "Retrieving SummaryDoc documents: 100%|█████████| 1/1 [00:00<00:00, 19239.93it/s]\n",
      "Retrieving SummaryDoc documents: 100%|█████████| 1/1 [00:00<00:00, 23563.51it/s]\n",
      "Retrieving SummaryDoc documents: 100%|█████████| 1/1 [00:00<00:00, 21845.33it/s]\n",
      "Retrieving SummaryDoc documents: 100%|█████████| 1/1 [00:00<00:00, 24385.49it/s]\n",
      "Retrieving SummaryDoc documents: 100%|█████████| 1/1 [00:00<00:00, 22795.13it/s]\n",
      "Retrieving SummaryDoc documents: 100%|█████████| 1/1 [00:00<00:00, 20068.44it/s]\n",
      "Retrieving SummaryDoc documents: 0it [00:00, ?it/s]\n"
     ]
    },
    {
     "name": "stdout",
     "output_type": "stream",
     "text": [
      "Error list index out of range occured for material id: mp-770002\n"
     ]
    },
    {
     "name": "stderr",
     "output_type": "stream",
     "text": [
      "Retrieving SummaryDoc documents: 100%|█████████| 1/1 [00:00<00:00, 24528.09it/s]\n",
      "Retrieving SummaryDoc documents: 100%|█████████| 1/1 [00:00<00:00, 21845.33it/s]\n",
      "Retrieving SummaryDoc documents: 100%|█████████| 1/1 [00:00<00:00, 23301.69it/s]\n",
      "Retrieving SummaryDoc documents: 100%|█████████| 1/1 [00:00<00:00, 30393.51it/s]\n",
      "Retrieving SummaryDoc documents: 100%|█████████| 1/1 [00:00<00:00, 22671.91it/s]\n",
      "Retrieving SummaryDoc documents: 100%|█████████| 1/1 [00:00<00:00, 20763.88it/s]\n",
      "Retrieving SummaryDoc documents: 0it [00:00, ?it/s]\n"
     ]
    },
    {
     "name": "stdout",
     "output_type": "stream",
     "text": [
      "Error list index out of range occured for material id: mp-675127\n"
     ]
    },
    {
     "name": "stderr",
     "output_type": "stream",
     "text": [
      "Retrieving SummaryDoc documents: 100%|█████████| 1/1 [00:00<00:00, 23172.95it/s]\n",
      "Retrieving SummaryDoc documents: 100%|█████████| 1/1 [00:00<00:00, 22795.13it/s]\n",
      "Retrieving SummaryDoc documents: 100%|█████████| 1/1 [00:00<00:00, 20068.44it/s]\n",
      "Retrieving SummaryDoc documents: 100%|█████████| 1/1 [00:00<00:00, 24385.49it/s]\n",
      "Retrieving SummaryDoc documents: 100%|█████████| 1/1 [00:00<00:00, 22671.91it/s]\n",
      "Retrieving SummaryDoc documents: 100%|█████████| 1/1 [00:00<00:00, 23172.95it/s]\n",
      "Retrieving SummaryDoc documents: 100%|█████████| 1/1 [00:00<00:00, 22671.91it/s]\n",
      "Retrieving SummaryDoc documents: 100%|█████████| 1/1 [00:00<00:00, 22192.08it/s]\n",
      "Retrieving SummaryDoc documents: 100%|█████████| 1/1 [00:00<00:00, 24966.10it/s]\n",
      "Retrieving SummaryDoc documents: 100%|█████████| 1/1 [00:00<00:00, 23172.95it/s]\n",
      "Retrieving SummaryDoc documents: 100%|█████████| 1/1 [00:00<00:00, 27235.74it/s]\n",
      "Retrieving SummaryDoc documents: 100%|█████████| 1/1 [00:00<00:00, 23831.27it/s]\n",
      "Retrieving SummaryDoc documents: 100%|█████████| 1/1 [00:00<00:00, 25575.02it/s]\n",
      "Retrieving SummaryDoc documents: 100%|█████████| 1/1 [00:00<00:00, 24244.53it/s]\n",
      "Retrieving SummaryDoc documents: 100%|█████████| 1/1 [00:00<00:00, 20068.44it/s]\n",
      "Retrieving SummaryDoc documents: 100%|█████████| 1/1 [00:00<00:00, 22671.91it/s]\n",
      "Retrieving SummaryDoc documents: 100%|█████████| 1/1 [00:00<00:00, 19508.39it/s]\n",
      "Retrieving SummaryDoc documents: 100%|█████████| 1/1 [00:00<00:00, 25420.02it/s]\n",
      "Retrieving SummaryDoc documents: 100%|█████████| 1/1 [00:00<00:00, 22671.91it/s]\n",
      "Retrieving SummaryDoc documents: 100%|█████████| 1/1 [00:00<00:00, 22795.13it/s]\n",
      "Retrieving SummaryDoc documents: 100%|█████████| 1/1 [00:00<00:00, 25731.93it/s]\n",
      "Retrieving SummaryDoc documents: 100%|█████████| 1/1 [00:00<00:00, 22671.91it/s]\n",
      "Retrieving SummaryDoc documents: 100%|█████████| 1/1 [00:00<00:00, 21620.12it/s]\n",
      "Retrieving SummaryDoc documents: 100%|█████████| 1/1 [00:00<00:00, 24244.53it/s]\n",
      "Retrieving SummaryDoc documents: 100%|█████████| 1/1 [00:00<00:00, 20460.02it/s]\n",
      "Retrieving SummaryDoc documents: 100%|█████████| 1/1 [00:00<00:00, 22310.13it/s]\n",
      "Retrieving SummaryDoc documents: 100%|█████████| 1/1 [00:00<00:00, 22310.13it/s]\n",
      "Retrieving SummaryDoc documents: 100%|█████████| 1/1 [00:00<00:00, 26214.40it/s]\n",
      "Retrieving SummaryDoc documents: 100%|█████████| 1/1 [00:00<00:00, 21290.88it/s]\n",
      "Retrieving SummaryDoc documents: 100%|█████████| 1/1 [00:00<00:00, 22671.91it/s]\n",
      "Retrieving SummaryDoc documents: 100%|█████████| 1/1 [00:00<00:00, 23301.69it/s]\n",
      "Retrieving SummaryDoc documents: 0it [00:00, ?it/s]\n"
     ]
    },
    {
     "name": "stdout",
     "output_type": "stream",
     "text": [
      "Error list index out of range occured for material id: mp-772245\n"
     ]
    },
    {
     "name": "stderr",
     "output_type": "stream",
     "text": [
      "Retrieving SummaryDoc documents: 100%|█████████| 1/1 [00:00<00:00, 22192.08it/s]\n",
      "Retrieving SummaryDoc documents: 100%|█████████| 1/1 [00:00<00:00, 23831.27it/s]\n",
      "Retrieving SummaryDoc documents: 100%|█████████| 1/1 [00:00<00:00, 22671.91it/s]\n",
      "Retrieving SummaryDoc documents: 100%|█████████| 1/1 [00:00<00:00, 21732.15it/s]\n",
      "Retrieving SummaryDoc documents: 100%|█████████| 1/1 [00:00<00:00, 23831.27it/s]\n",
      "Retrieving SummaryDoc documents: 100%|█████████| 1/1 [00:00<00:00, 22192.08it/s]\n",
      "Retrieving SummaryDoc documents: 100%|█████████| 1/1 [00:00<00:00, 22671.91it/s]\n",
      "Retrieving SummaryDoc documents: 100%|█████████| 1/1 [00:00<00:00, 22671.91it/s]\n",
      "Retrieving SummaryDoc documents: 100%|█████████| 1/1 [00:00<00:00, 23301.69it/s]\n",
      "Retrieving SummaryDoc documents: 100%|█████████| 1/1 [00:00<00:00, 21290.88it/s]\n",
      "Retrieving SummaryDoc documents: 0it [00:00, ?it/s]\n"
     ]
    },
    {
     "name": "stdout",
     "output_type": "stream",
     "text": [
      "Error list index out of range occured for material id: mp-565994\n"
     ]
    },
    {
     "name": "stderr",
     "output_type": "stream",
     "text": [
      "Retrieving SummaryDoc documents: 0it [00:00, ?it/s]\n"
     ]
    },
    {
     "name": "stdout",
     "output_type": "stream",
     "text": [
      "Error list index out of range occured for material id: mp-561637\n"
     ]
    },
    {
     "name": "stderr",
     "output_type": "stream",
     "text": [
      "Retrieving SummaryDoc documents: 100%|█████████| 1/1 [00:00<00:00, 22795.13it/s]\n",
      "Retrieving SummaryDoc documents: 100%|█████████| 1/1 [00:00<00:00, 23301.69it/s]\n",
      "Retrieving SummaryDoc documents: 100%|█████████| 1/1 [00:00<00:00, 23301.69it/s]\n",
      "Retrieving SummaryDoc documents: 100%|█████████| 1/1 [00:00<00:00, 23831.27it/s]\n",
      "Retrieving SummaryDoc documents: 100%|█████████| 1/1 [00:00<00:00, 22671.91it/s]\n",
      "Retrieving SummaryDoc documents: 100%|█████████| 1/1 [00:00<00:00, 23172.95it/s]\n",
      "Retrieving SummaryDoc documents: 100%|█████████| 1/1 [00:00<00:00, 29330.80it/s]\n",
      "Retrieving SummaryDoc documents: 100%|█████████| 1/1 [00:00<00:00, 22795.13it/s]\n",
      "Retrieving SummaryDoc documents: 100%|█████████| 1/1 [00:00<00:00, 22192.08it/s]\n",
      "Retrieving SummaryDoc documents: 100%|█████████| 1/1 [00:00<00:00, 22795.13it/s]\n",
      "Retrieving SummaryDoc documents: 100%|█████████| 1/1 [00:00<00:00, 22671.91it/s]\n",
      "Retrieving SummaryDoc documents: 100%|█████████| 1/1 [00:00<00:00, 24244.53it/s]\n",
      "Retrieving SummaryDoc documents: 100%|█████████| 1/1 [00:00<00:00, 22192.08it/s]\n",
      "Retrieving SummaryDoc documents: 100%|█████████| 1/1 [00:00<00:00, 28532.68it/s]\n",
      "Retrieving SummaryDoc documents: 100%|█████████| 1/1 [00:00<00:00, 21845.33it/s]\n",
      "Retrieving SummaryDoc documents: 100%|█████████| 1/1 [00:00<00:00, 22671.91it/s]\n",
      "Retrieving SummaryDoc documents: 100%|█████████| 1/1 [00:00<00:00, 22671.91it/s]\n",
      "Retrieving SummaryDoc documents: 100%|█████████| 1/1 [00:00<00:00, 23831.27it/s]\n",
      "Retrieving SummaryDoc documents: 100%|█████████| 1/1 [00:00<00:00, 26379.27it/s]\n",
      "Retrieving SummaryDoc documents: 100%|█████████| 1/1 [00:00<00:00, 25420.02it/s]\n",
      "Retrieving SummaryDoc documents: 100%|█████████| 1/1 [00:00<00:00, 22919.69it/s]\n",
      "Retrieving SummaryDoc documents: 100%|█████████| 1/1 [00:00<00:00, 22671.91it/s]\n",
      "Retrieving SummaryDoc documents: 100%|█████████| 1/1 [00:00<00:00, 23831.27it/s]\n",
      "Retrieving SummaryDoc documents: 100%|█████████| 1/1 [00:00<00:00, 22671.91it/s]\n",
      "Retrieving SummaryDoc documents: 100%|█████████| 1/1 [00:00<00:00, 23696.63it/s]\n",
      "Retrieving SummaryDoc documents: 0it [00:00, ?it/s]\n"
     ]
    },
    {
     "name": "stdout",
     "output_type": "stream",
     "text": [
      "Error list index out of range occured for material id: mp-741706\n"
     ]
    },
    {
     "name": "stderr",
     "output_type": "stream",
     "text": [
      "Retrieving SummaryDoc documents: 100%|█████████| 1/1 [00:00<00:00, 23301.69it/s]\n",
      "Retrieving SummaryDoc documents: 100%|█████████| 1/1 [00:00<00:00, 24528.09it/s]\n",
      "Retrieving SummaryDoc documents: 100%|█████████| 1/1 [00:00<00:00, 25575.02it/s]\n",
      "Retrieving SummaryDoc documents: 100%|█████████| 1/1 [00:00<00:00, 23831.27it/s]\n",
      "Retrieving SummaryDoc documents: 100%|█████████| 1/1 [00:00<00:00, 23301.69it/s]\n",
      "Retrieving SummaryDoc documents: 100%|█████████| 1/1 [00:00<00:00, 23172.95it/s]\n",
      "Retrieving SummaryDoc documents: 100%|█████████| 1/1 [00:00<00:00, 29746.84it/s]\n",
      "Retrieving SummaryDoc documents: 100%|█████████| 1/1 [00:00<00:00, 23301.69it/s]\n",
      "Retrieving SummaryDoc documents: 100%|█████████| 1/1 [00:00<00:00, 23172.95it/s]\n",
      "Retrieving SummaryDoc documents: 100%|█████████| 1/1 [00:00<00:00, 21620.12it/s]\n",
      "Retrieving SummaryDoc documents: 0it [00:00, ?it/s]\n"
     ]
    },
    {
     "name": "stdout",
     "output_type": "stream",
     "text": [
      "Error list index out of range occured for material id: mp-561238\n"
     ]
    },
    {
     "name": "stderr",
     "output_type": "stream",
     "text": [
      "Retrieving SummaryDoc documents: 100%|█████████| 1/1 [00:00<00:00, 22192.08it/s]\n",
      "Retrieving SummaryDoc documents: 100%|█████████| 1/1 [00:00<00:00, 23172.95it/s]\n",
      "Retrieving SummaryDoc documents: 100%|█████████| 1/1 [00:00<00:00, 23301.69it/s]\n",
      "Retrieving SummaryDoc documents: 100%|█████████| 1/1 [00:00<00:00, 21620.12it/s]\n",
      "Retrieving SummaryDoc documents: 100%|█████████| 1/1 [00:00<00:00, 23831.27it/s]\n",
      "Retrieving SummaryDoc documents: 0it [00:00, ?it/s]\n"
     ]
    },
    {
     "name": "stdout",
     "output_type": "stream",
     "text": [
      "Error list index out of range occured for material id: mp-766917\n"
     ]
    },
    {
     "name": "stderr",
     "output_type": "stream",
     "text": [
      "Retrieving SummaryDoc documents: 100%|█████████| 1/1 [00:00<00:00, 22795.13it/s]\n",
      "Retrieving SummaryDoc documents: 100%|█████████| 1/1 [00:00<00:00, 23172.95it/s]\n",
      "Retrieving SummaryDoc documents: 100%|█████████| 1/1 [00:00<00:00, 27235.74it/s]\n",
      "Retrieving SummaryDoc documents: 100%|█████████| 1/1 [00:00<00:00, 21183.35it/s]\n",
      "Retrieving SummaryDoc documents: 100%|█████████| 1/1 [00:00<00:00, 22671.91it/s]\n",
      "Retrieving SummaryDoc documents: 100%|█████████| 1/1 [00:00<00:00, 22795.13it/s]\n",
      "Retrieving SummaryDoc documents: 100%|█████████| 1/1 [00:00<00:00, 23172.95it/s]\n",
      "Retrieving SummaryDoc documents: 100%|█████████| 1/1 [00:00<00:00, 24385.49it/s]\n",
      "Retrieving SummaryDoc documents: 0it [00:00, ?it/s]\n"
     ]
    },
    {
     "name": "stdout",
     "output_type": "stream",
     "text": [
      "Error list index out of range occured for material id: mp-772231\n"
     ]
    },
    {
     "name": "stderr",
     "output_type": "stream",
     "text": [
      "Retrieving SummaryDoc documents: 0it [00:00, ?it/s]\n"
     ]
    },
    {
     "name": "stdout",
     "output_type": "stream",
     "text": [
      "Error list index out of range occured for material id: mp-774117\n"
     ]
    },
    {
     "name": "stderr",
     "output_type": "stream",
     "text": [
      "Retrieving SummaryDoc documents: 100%|█████████| 1/1 [00:00<00:00, 23431.87it/s]\n",
      "Retrieving SummaryDoc documents: 100%|█████████| 1/1 [00:00<00:00, 27594.11it/s]\n",
      "Retrieving SummaryDoc documents: 100%|█████████| 1/1 [00:00<00:00, 22671.91it/s]\n",
      "Retrieving SummaryDoc documents: 100%|█████████| 1/1 [00:00<00:00, 24385.49it/s]\n",
      "Retrieving SummaryDoc documents: 100%|█████████| 1/1 [00:00<00:00, 22795.13it/s]\n",
      "Retrieving SummaryDoc documents: 100%|█████████| 1/1 [00:00<00:00, 23831.27it/s]\n",
      "Retrieving SummaryDoc documents: 100%|█████████| 1/1 [00:00<00:00, 23831.27it/s]\n",
      "Retrieving SummaryDoc documents: 100%|█████████| 1/1 [00:00<00:00, 22795.13it/s]\n",
      "Retrieving SummaryDoc documents: 100%|█████████| 1/1 [00:00<00:00, 20763.88it/s]\n",
      "Retrieving SummaryDoc documents: 100%|█████████| 1/1 [00:00<00:00, 22671.91it/s]\n",
      "Retrieving SummaryDoc documents: 100%|█████████| 1/1 [00:00<00:00, 21732.15it/s]\n",
      "Retrieving SummaryDoc documents: 100%|█████████| 1/1 [00:00<00:00, 23831.27it/s]\n",
      "Retrieving SummaryDoc documents: 100%|█████████| 1/1 [00:00<00:00, 22919.69it/s]\n",
      "Retrieving SummaryDoc documents: 100%|█████████| 1/1 [00:00<00:00, 21620.12it/s]\n",
      "Retrieving SummaryDoc documents: 100%|█████████| 1/1 [00:00<00:00, 23831.27it/s]\n",
      "Retrieving SummaryDoc documents: 0it [00:00, ?it/s]\n"
     ]
    },
    {
     "name": "stdout",
     "output_type": "stream",
     "text": [
      "Error list index out of range occured for material id: mp-32449\n"
     ]
    },
    {
     "name": "stderr",
     "output_type": "stream",
     "text": [
      "Retrieving SummaryDoc documents: 100%|█████████| 1/1 [00:00<00:00, 22192.08it/s]\n",
      "Retrieving SummaryDoc documents: 100%|█████████| 1/1 [00:00<00:00, 23172.95it/s]\n",
      "Retrieving SummaryDoc documents: 100%|█████████| 1/1 [00:00<00:00, 20360.70it/s]\n",
      "Retrieving SummaryDoc documents: 0it [00:00, ?it/s]\n"
     ]
    },
    {
     "name": "stdout",
     "output_type": "stream",
     "text": [
      "Error list index out of range occured for material id: mp-12992\n"
     ]
    },
    {
     "name": "stderr",
     "output_type": "stream",
     "text": [
      "Retrieving SummaryDoc documents: 100%|█████████| 1/1 [00:00<00:00, 20867.18it/s]\n",
      "Retrieving SummaryDoc documents: 100%|█████████| 1/1 [00:00<00:00, 25575.02it/s]\n",
      "Retrieving SummaryDoc documents: 0it [00:00, ?it/s]\n"
     ]
    },
    {
     "name": "stdout",
     "output_type": "stream",
     "text": [
      "Error list index out of range occured for material id: mp-766154\n"
     ]
    },
    {
     "name": "stderr",
     "output_type": "stream",
     "text": [
      "Retrieving SummaryDoc documents: 100%|█████████| 1/1 [00:00<00:00, 22192.08it/s]\n",
      "Retrieving SummaryDoc documents: 100%|█████████| 1/1 [00:00<00:00, 20360.70it/s]\n",
      "Retrieving SummaryDoc documents: 100%|█████████| 1/1 [00:00<00:00, 22192.08it/s]\n",
      "Retrieving SummaryDoc documents: 100%|█████████| 1/1 [00:00<00:00, 22671.91it/s]\n",
      "Retrieving SummaryDoc documents: 100%|█████████| 1/1 [00:00<00:00, 23696.63it/s]\n",
      "Retrieving SummaryDoc documents: 100%|█████████| 1/1 [00:00<00:00, 25575.02it/s]\n",
      "Retrieving SummaryDoc documents: 100%|█████████| 1/1 [00:00<00:00, 23172.95it/s]\n",
      "Retrieving SummaryDoc documents: 100%|█████████| 1/1 [00:00<00:00, 23831.27it/s]\n",
      "Retrieving SummaryDoc documents: 100%|█████████| 1/1 [00:00<00:00, 22795.13it/s]\n",
      "Retrieving SummaryDoc documents: 100%|█████████| 1/1 [00:00<00:00, 22192.08it/s]\n",
      "Retrieving SummaryDoc documents: 100%|█████████| 1/1 [00:00<00:00, 22192.08it/s]\n",
      "Retrieving SummaryDoc documents: 100%|█████████| 1/1 [00:00<00:00, 13706.88it/s]\n",
      "Retrieving SummaryDoc documents: 100%|█████████| 1/1 [00:00<00:00, 22192.08it/s]\n",
      "Retrieving SummaryDoc documents: 100%|█████████| 1/1 [00:00<00:00, 22192.08it/s]\n",
      "Retrieving SummaryDoc documents: 100%|█████████| 1/1 [00:00<00:00, 21845.33it/s]\n",
      "Retrieving SummaryDoc documents: 0it [00:00, ?it/s]\n"
     ]
    },
    {
     "name": "stdout",
     "output_type": "stream",
     "text": [
      "Error list index out of range occured for material id: mp-776184\n"
     ]
    },
    {
     "name": "stderr",
     "output_type": "stream",
     "text": [
      "Retrieving SummaryDoc documents: 100%|█████████| 1/1 [00:00<00:00, 21620.12it/s]\n",
      "Retrieving SummaryDoc documents: 100%|█████████| 1/1 [00:00<00:00, 17623.13it/s]\n",
      "Retrieving SummaryDoc documents: 100%|█████████| 1/1 [00:00<00:00, 21732.15it/s]\n",
      "Retrieving SummaryDoc documents: 100%|█████████| 1/1 [00:00<00:00, 21732.15it/s]\n",
      "Retrieving SummaryDoc documents: 100%|█████████| 1/1 [00:00<00:00, 23301.69it/s]\n",
      "Retrieving SummaryDoc documents: 100%|█████████| 1/1 [00:00<00:00, 23696.63it/s]\n",
      "Retrieving SummaryDoc documents: 100%|█████████| 1/1 [00:00<00:00, 19239.93it/s]\n",
      "Retrieving SummaryDoc documents: 100%|█████████| 1/1 [00:00<00:00, 26379.27it/s]\n",
      "Retrieving SummaryDoc documents: 100%|█████████| 1/1 [00:00<00:00, 21732.15it/s]\n",
      "Retrieving SummaryDoc documents: 100%|█████████| 1/1 [00:00<00:00, 27060.03it/s]\n",
      "Retrieving SummaryDoc documents: 100%|█████████| 1/1 [00:00<00:00, 25575.02it/s]\n",
      "Retrieving SummaryDoc documents: 100%|█████████| 1/1 [00:00<00:00, 24818.37it/s]\n",
      "Retrieving SummaryDoc documents: 100%|█████████| 1/1 [00:00<00:00, 23301.69it/s]\n",
      "Retrieving SummaryDoc documents: 100%|█████████| 1/1 [00:00<00:00, 22919.69it/s]\n",
      "Retrieving SummaryDoc documents: 100%|█████████| 1/1 [00:00<00:00, 22671.91it/s]\n",
      "Retrieving SummaryDoc documents: 100%|█████████| 1/1 [00:00<00:00, 23301.69it/s]\n",
      "Retrieving SummaryDoc documents: 100%|█████████| 1/1 [00:00<00:00, 18893.26it/s]\n",
      "Retrieving SummaryDoc documents: 100%|█████████| 1/1 [00:00<00:00, 21290.88it/s]\n",
      "Retrieving SummaryDoc documents: 100%|█████████| 1/1 [00:00<00:00, 22310.13it/s]\n",
      "Retrieving SummaryDoc documents: 0it [00:00, ?it/s]\n"
     ]
    },
    {
     "name": "stdout",
     "output_type": "stream",
     "text": [
      "Error list index out of range occured for material id: mp-762915\n"
     ]
    },
    {
     "name": "stderr",
     "output_type": "stream",
     "text": [
      "Retrieving SummaryDoc documents: 100%|█████████| 1/1 [00:00<00:00, 23301.69it/s]\n",
      "Retrieving SummaryDoc documents: 100%|█████████| 1/1 [00:00<00:00, 24966.10it/s]\n",
      "Retrieving SummaryDoc documents: 0it [00:00, ?it/s]\n"
     ]
    },
    {
     "name": "stdout",
     "output_type": "stream",
     "text": [
      "Error list index out of range occured for material id: mp-853247\n"
     ]
    },
    {
     "name": "stderr",
     "output_type": "stream",
     "text": [
      "Retrieving SummaryDoc documents: 100%|█████████| 1/1 [00:00<00:00, 22795.13it/s]\n",
      "Retrieving SummaryDoc documents: 100%|█████████| 1/1 [00:00<00:00, 21732.15it/s]\n",
      "Retrieving SummaryDoc documents: 100%|█████████| 1/1 [00:00<00:00, 23172.95it/s]\n",
      "Retrieving SummaryDoc documents: 100%|█████████| 1/1 [00:00<00:00, 21732.15it/s]\n",
      "Retrieving SummaryDoc documents: 0it [00:00, ?it/s]\n"
     ]
    },
    {
     "name": "stdout",
     "output_type": "stream",
     "text": [
      "Error list index out of range occured for material id: mp-764362\n"
     ]
    },
    {
     "name": "stderr",
     "output_type": "stream",
     "text": [
      "Retrieving SummaryDoc documents: 100%|█████████| 1/1 [00:00<00:00, 22671.91it/s]\n",
      "Retrieving SummaryDoc documents: 100%|█████████| 1/1 [00:00<00:00, 24966.10it/s]\n",
      "Retrieving SummaryDoc documents: 100%|█████████| 1/1 [00:00<00:00, 22310.13it/s]\n",
      "Retrieving SummaryDoc documents: 100%|█████████| 1/1 [00:00<00:00, 28532.68it/s]\n",
      "Retrieving SummaryDoc documents: 100%|█████████| 1/1 [00:00<00:00, 23172.95it/s]\n",
      "Retrieving SummaryDoc documents: 100%|█████████| 1/1 [00:00<00:00, 23301.69it/s]\n",
      "Retrieving SummaryDoc documents: 100%|█████████| 1/1 [00:00<00:00, 22192.08it/s]\n",
      "Retrieving SummaryDoc documents: 0it [00:00, ?it/s]\n"
     ]
    },
    {
     "name": "stdout",
     "output_type": "stream",
     "text": [
      "Error list index out of range occured for material id: mp-762920\n"
     ]
    },
    {
     "name": "stderr",
     "output_type": "stream",
     "text": [
      "Retrieving SummaryDoc documents: 100%|█████████| 1/1 [00:00<00:00, 25575.02it/s]\n",
      "Retrieving SummaryDoc documents: 0it [00:00, ?it/s]\n"
     ]
    },
    {
     "name": "stdout",
     "output_type": "stream",
     "text": [
      "Error list index out of range occured for material id: mp-776626\n"
     ]
    },
    {
     "name": "stderr",
     "output_type": "stream",
     "text": [
      "Retrieving SummaryDoc documents: 100%|█████████| 1/1 [00:00<00:00, 22671.91it/s]\n",
      "Retrieving SummaryDoc documents: 100%|█████████| 1/1 [00:00<00:00, 24385.49it/s]\n",
      "Retrieving SummaryDoc documents: 100%|█████████| 1/1 [00:00<00:00, 26379.27it/s]\n",
      "Retrieving SummaryDoc documents: 100%|█████████| 1/1 [00:00<00:00, 20763.88it/s]\n",
      "Retrieving SummaryDoc documents: 100%|█████████| 1/1 [00:00<00:00, 22795.13it/s]\n",
      "Retrieving SummaryDoc documents: 100%|█████████| 1/1 [00:00<00:00, 22795.13it/s]\n",
      "Retrieving SummaryDoc documents: 100%|█████████| 1/1 [00:00<00:00, 22671.91it/s]\n",
      "Retrieving SummaryDoc documents: 100%|█████████| 1/1 [00:00<00:00, 22192.08it/s]\n",
      "Retrieving SummaryDoc documents: 100%|█████████| 1/1 [00:00<00:00, 23172.95it/s]\n",
      "Retrieving SummaryDoc documents: 100%|█████████| 1/1 [00:00<00:00, 22192.08it/s]\n",
      "Retrieving SummaryDoc documents: 100%|█████████| 1/1 [00:00<00:00, 22671.91it/s]\n",
      "Retrieving SummaryDoc documents: 100%|█████████| 1/1 [00:00<00:00, 23831.27it/s]\n",
      "Retrieving SummaryDoc documents: 100%|█████████| 1/1 [00:00<00:00, 22671.91it/s]\n",
      "Retrieving SummaryDoc documents: 100%|█████████| 1/1 [00:00<00:00, 27235.74it/s]\n",
      "Retrieving SummaryDoc documents: 100%|█████████| 1/1 [00:00<00:00, 21732.15it/s]\n",
      "Retrieving SummaryDoc documents: 100%|█████████| 1/1 [00:00<00:00, 24385.49it/s]\n",
      "Retrieving SummaryDoc documents: 100%|█████████| 1/1 [00:00<00:00, 24385.49it/s]\n",
      "Retrieving SummaryDoc documents: 100%|█████████| 1/1 [00:00<00:00, 22192.08it/s]\n",
      "Retrieving SummaryDoc documents: 100%|█████████| 1/1 [00:00<00:00, 22192.08it/s]\n",
      "Retrieving SummaryDoc documents: 100%|█████████| 1/1 [00:00<00:00, 22671.91it/s]\n",
      "Retrieving SummaryDoc documents: 100%|█████████| 1/1 [00:00<00:00, 22671.91it/s]\n",
      "Retrieving SummaryDoc documents: 100%|█████████| 1/1 [00:00<00:00, 19972.88it/s]\n",
      "Retrieving SummaryDoc documents: 100%|█████████| 1/1 [00:00<00:00, 26379.27it/s]\n",
      "Retrieving SummaryDoc documents: 100%|█████████| 1/1 [00:00<00:00, 20460.02it/s]\n",
      "Retrieving SummaryDoc documents: 100%|█████████| 1/1 [00:00<00:00, 24818.37it/s]\n",
      "Retrieving SummaryDoc documents: 100%|█████████| 1/1 [00:00<00:00, 23172.95it/s]\n",
      "Retrieving SummaryDoc documents: 0it [00:00, ?it/s]\n"
     ]
    },
    {
     "name": "stdout",
     "output_type": "stream",
     "text": [
      "Error list index out of range occured for material id: mp-776985\n"
     ]
    },
    {
     "name": "stderr",
     "output_type": "stream",
     "text": [
      "Retrieving SummaryDoc documents: 100%|█████████| 1/1 [00:00<00:00, 21732.15it/s]\n",
      "Retrieving SummaryDoc documents: 100%|█████████| 1/1 [00:00<00:00, 26886.56it/s]\n",
      "Retrieving SummaryDoc documents: 100%|█████████| 1/1 [00:00<00:00, 22671.91it/s]\n",
      "Retrieving SummaryDoc documents: 100%|█████████| 1/1 [00:00<00:00, 26214.40it/s]\n",
      "Retrieving SummaryDoc documents: 0it [00:00, ?it/s]\n"
     ]
    },
    {
     "name": "stdout",
     "output_type": "stream",
     "text": [
      "Error list index out of range occured for material id: mp-626512\n"
     ]
    },
    {
     "name": "stderr",
     "output_type": "stream",
     "text": [
      "Retrieving SummaryDoc documents: 100%|█████████| 1/1 [00:00<00:00, 21732.15it/s]\n",
      "Retrieving SummaryDoc documents: 100%|█████████| 1/1 [00:00<00:00, 23831.27it/s]\n",
      "Retrieving SummaryDoc documents: 100%|█████████| 1/1 [00:00<00:00, 22795.13it/s]\n",
      "Retrieving SummaryDoc documents: 100%|█████████| 1/1 [00:00<00:00, 24966.10it/s]\n",
      "Retrieving SummaryDoc documents: 100%|█████████| 1/1 [00:00<00:00, 23301.69it/s]\n",
      "Retrieving SummaryDoc documents: 100%|█████████| 1/1 [00:00<00:00, 21732.15it/s]\n",
      "Retrieving SummaryDoc documents: 100%|█████████| 1/1 [00:00<00:00, 23172.95it/s]\n",
      "Retrieving SummaryDoc documents: 100%|█████████| 1/1 [00:00<00:00, 23301.69it/s]\n",
      "Retrieving SummaryDoc documents: 100%|█████████| 1/1 [00:00<00:00, 23831.27it/s]\n",
      "Retrieving SummaryDoc documents: 100%|█████████| 1/1 [00:00<00:00, 25731.93it/s]\n",
      "Retrieving SummaryDoc documents: 100%|█████████| 1/1 [00:00<00:00, 22192.08it/s]\n",
      "Retrieving SummaryDoc documents: 100%|█████████| 1/1 [00:00<00:00, 22192.08it/s]\n",
      "Retrieving SummaryDoc documents: 100%|█████████| 1/1 [00:00<00:00, 19599.55it/s]\n",
      "Retrieving SummaryDoc documents: 100%|█████████| 1/1 [00:00<00:00, 22795.13it/s]\n",
      "Retrieving SummaryDoc documents: 100%|█████████| 1/1 [00:00<00:00, 25731.93it/s]\n",
      "Retrieving SummaryDoc documents: 100%|█████████| 1/1 [00:00<00:00, 21290.88it/s]\n",
      "Retrieving SummaryDoc documents: 100%|█████████| 1/1 [00:00<00:00, 27060.03it/s]\n",
      "Retrieving SummaryDoc documents: 100%|█████████| 1/1 [00:00<00:00, 24385.49it/s]\n",
      "Retrieving SummaryDoc documents: 100%|█████████| 1/1 [00:00<00:00, 22192.08it/s]\n",
      "Retrieving SummaryDoc documents: 100%|█████████| 1/1 [00:00<00:00, 23831.27it/s]\n",
      "Retrieving SummaryDoc documents: 100%|█████████| 1/1 [00:00<00:00, 23301.69it/s]\n",
      "Retrieving SummaryDoc documents: 100%|█████████| 1/1 [00:00<00:00, 22192.08it/s]\n",
      "Retrieving SummaryDoc documents: 100%|█████████| 1/1 [00:00<00:00, 23301.69it/s]\n",
      "Retrieving SummaryDoc documents: 100%|█████████| 1/1 [00:00<00:00, 23172.95it/s]\n",
      "Retrieving SummaryDoc documents: 100%|█████████| 1/1 [00:00<00:00, 18477.11it/s]\n",
      "Retrieving SummaryDoc documents: 100%|█████████| 1/1 [00:00<00:00, 26379.27it/s]\n",
      "Retrieving SummaryDoc documents: 100%|█████████| 1/1 [00:00<00:00, 23696.63it/s]\n",
      "Retrieving SummaryDoc documents: 100%|█████████| 1/1 [00:00<00:00, 23831.27it/s]\n",
      "Retrieving SummaryDoc documents: 100%|█████████| 1/1 [00:00<00:00, 23172.95it/s]\n",
      "Retrieving SummaryDoc documents: 100%|█████████| 1/1 [00:00<00:00, 22795.13it/s]\n",
      "Retrieving SummaryDoc documents: 100%|█████████| 1/1 [00:00<00:00, 23831.27it/s]\n",
      "Retrieving SummaryDoc documents: 100%|█████████| 1/1 [00:00<00:00, 22795.13it/s]\n",
      "Retrieving SummaryDoc documents: 100%|█████████| 1/1 [00:00<00:00, 22310.13it/s]\n",
      "Retrieving SummaryDoc documents: 100%|█████████| 1/1 [00:00<00:00, 22795.13it/s]\n",
      "Retrieving SummaryDoc documents: 100%|█████████| 1/1 [00:00<00:00, 25731.93it/s]\n",
      "Retrieving SummaryDoc documents: 100%|█████████| 1/1 [00:00<00:00, 21620.12it/s]\n",
      "Retrieving SummaryDoc documents: 100%|█████████| 1/1 [00:00<00:00, 19972.88it/s]\n",
      "Retrieving SummaryDoc documents: 100%|█████████| 1/1 [00:00<00:00, 22192.08it/s]\n",
      "Retrieving SummaryDoc documents: 100%|█████████| 1/1 [00:00<00:00, 24966.10it/s]\n",
      "Retrieving SummaryDoc documents: 100%|█████████| 1/1 [00:00<00:00, 22192.08it/s]\n",
      "Retrieving SummaryDoc documents: 100%|█████████| 1/1 [00:00<00:00, 20460.02it/s]\n",
      "Retrieving SummaryDoc documents: 100%|█████████| 1/1 [00:00<00:00, 23301.69it/s]\n",
      "Retrieving SummaryDoc documents: 100%|█████████| 1/1 [00:00<00:00, 22671.91it/s]\n",
      "Retrieving SummaryDoc documents: 100%|█████████| 1/1 [00:00<00:00, 22671.91it/s]\n",
      "Retrieving SummaryDoc documents: 100%|█████████| 1/1 [00:00<00:00, 23301.69it/s]\n",
      "Retrieving SummaryDoc documents: 100%|█████████| 1/1 [00:00<00:00, 24385.49it/s]\n",
      "Retrieving SummaryDoc documents: 100%|█████████| 1/1 [00:00<00:00, 21732.15it/s]\n",
      "Retrieving SummaryDoc documents: 100%|█████████| 1/1 [00:00<00:00, 22795.13it/s]\n",
      "Retrieving SummaryDoc documents: 100%|█████████| 1/1 [00:00<00:00, 23301.69it/s]\n",
      "Retrieving SummaryDoc documents: 100%|█████████| 1/1 [00:00<00:00, 21732.15it/s]\n",
      "Retrieving SummaryDoc documents: 100%|█████████| 1/1 [00:00<00:00, 21732.15it/s]\n",
      "Retrieving SummaryDoc documents: 100%|█████████| 1/1 [00:00<00:00, 23172.95it/s]\n",
      "Retrieving SummaryDoc documents: 100%|█████████| 1/1 [00:00<00:00, 22310.13it/s]\n",
      "Retrieving SummaryDoc documents: 100%|█████████| 1/1 [00:00<00:00, 23301.69it/s]\n",
      "Retrieving SummaryDoc documents: 100%|█████████| 1/1 [00:00<00:00, 24385.49it/s]\n",
      "Retrieving SummaryDoc documents: 100%|█████████| 1/1 [00:00<00:00, 20867.18it/s]\n",
      "Retrieving SummaryDoc documents: 100%|█████████| 1/1 [00:00<00:00, 22795.13it/s]\n",
      "Retrieving SummaryDoc documents: 100%|█████████| 1/1 [00:00<00:00, 24244.53it/s]\n",
      "Retrieving SummaryDoc documents: 100%|█████████| 1/1 [00:00<00:00, 21399.51it/s]\n",
      "Retrieving SummaryDoc documents: 100%|█████████| 1/1 [00:00<00:00, 31300.78it/s]\n",
      "Retrieving SummaryDoc documents: 100%|█████████| 1/1 [00:00<00:00, 22192.08it/s]\n",
      "Retrieving SummaryDoc documents: 100%|█████████| 1/1 [00:00<00:00, 24385.49it/s]\n",
      "Retrieving SummaryDoc documents: 100%|█████████| 1/1 [00:00<00:00, 22192.08it/s]\n",
      "Retrieving SummaryDoc documents: 100%|█████████| 1/1 [00:00<00:00, 22795.13it/s]\n",
      "Retrieving SummaryDoc documents: 100%|█████████| 1/1 [00:00<00:00, 22192.08it/s]\n",
      "Retrieving SummaryDoc documents: 100%|█████████| 1/1 [00:00<00:00, 25115.59it/s]\n",
      "Retrieving SummaryDoc documents: 100%|█████████| 1/1 [00:00<00:00, 22671.91it/s]\n",
      "Retrieving SummaryDoc documents: 100%|█████████| 1/1 [00:00<00:00, 21290.88it/s]\n",
      "Retrieving SummaryDoc documents: 100%|█████████| 1/1 [00:00<00:00, 22192.08it/s]\n",
      "Retrieving SummaryDoc documents: 100%|█████████| 1/1 [00:00<00:00, 22795.13it/s]\n",
      "Retrieving SummaryDoc documents: 100%|█████████| 1/1 [00:00<00:00, 25115.59it/s]\n",
      "Retrieving SummaryDoc documents: 100%|█████████| 1/1 [00:00<00:00, 23831.27it/s]\n",
      "Retrieving SummaryDoc documents: 0it [00:00, ?it/s]\n"
     ]
    },
    {
     "name": "stdout",
     "output_type": "stream",
     "text": [
      "Error list index out of range occured for material id: mp-867689\n"
     ]
    },
    {
     "name": "stderr",
     "output_type": "stream",
     "text": [
      "Retrieving SummaryDoc documents: 100%|█████████| 1/1 [00:00<00:00, 24385.49it/s]\n",
      "Retrieving SummaryDoc documents: 0it [00:00, ?it/s]\n"
     ]
    },
    {
     "name": "stdout",
     "output_type": "stream",
     "text": [
      "Error list index out of range occured for material id: mp-34134\n"
     ]
    },
    {
     "name": "stderr",
     "output_type": "stream",
     "text": [
      "Retrieving SummaryDoc documents: 100%|█████████| 1/1 [00:00<00:00, 23172.95it/s]\n",
      "Retrieving SummaryDoc documents: 100%|█████████| 1/1 [00:00<00:00, 22192.08it/s]\n",
      "Retrieving SummaryDoc documents: 100%|█████████| 1/1 [00:00<00:00, 22671.91it/s]\n",
      "Retrieving SummaryDoc documents: 100%|█████████| 1/1 [00:00<00:00, 22671.91it/s]\n",
      "Retrieving SummaryDoc documents: 0it [00:00, ?it/s]\n"
     ]
    },
    {
     "name": "stdout",
     "output_type": "stream",
     "text": [
      "Error list index out of range occured for material id: mp-771798\n"
     ]
    },
    {
     "name": "stderr",
     "output_type": "stream",
     "text": [
      "Retrieving SummaryDoc documents: 100%|█████████| 1/1 [00:00<00:00, 23301.69it/s]\n",
      "Retrieving SummaryDoc documents: 100%|█████████| 1/1 [00:00<00:00, 23431.87it/s]\n",
      "Retrieving SummaryDoc documents: 100%|█████████| 1/1 [00:00<00:00, 22671.91it/s]\n",
      "Retrieving SummaryDoc documents: 100%|█████████| 1/1 [00:00<00:00, 23172.95it/s]\n",
      "Retrieving SummaryDoc documents: 100%|█████████| 1/1 [00:00<00:00, 22192.08it/s]\n",
      "Retrieving SummaryDoc documents: 100%|█████████| 1/1 [00:00<00:00, 27060.03it/s]\n",
      "Retrieving SummaryDoc documents: 100%|█████████| 1/1 [00:00<00:00, 30393.51it/s]\n",
      "Retrieving SummaryDoc documents: 100%|█████████| 1/1 [00:00<00:00, 22795.13it/s]\n",
      "Retrieving SummaryDoc documents: 100%|█████████| 1/1 [00:00<00:00, 24385.49it/s]\n",
      "Retrieving SummaryDoc documents: 100%|█████████| 1/1 [00:00<00:00, 21620.12it/s]\n",
      "Retrieving SummaryDoc documents: 100%|█████████| 1/1 [00:00<00:00, 23301.69it/s]\n",
      "Retrieving SummaryDoc documents: 100%|█████████| 1/1 [00:00<00:00, 24818.37it/s]\n",
      "Retrieving SummaryDoc documents: 100%|█████████| 1/1 [00:00<00:00, 25420.02it/s]\n",
      "Retrieving SummaryDoc documents: 0it [00:00, ?it/s]\n"
     ]
    },
    {
     "name": "stdout",
     "output_type": "stream",
     "text": [
      "Error list index out of range occured for material id: mp-771844\n"
     ]
    },
    {
     "name": "stderr",
     "output_type": "stream",
     "text": [
      "Retrieving SummaryDoc documents: 100%|█████████| 1/1 [00:00<00:00, 22671.91it/s]\n",
      "Retrieving SummaryDoc documents: 100%|█████████| 1/1 [00:00<00:00, 21732.15it/s]\n",
      "Retrieving SummaryDoc documents: 100%|█████████| 1/1 [00:00<00:00, 23831.27it/s]\n",
      "Retrieving SummaryDoc documents: 100%|█████████| 1/1 [00:00<00:00, 21290.88it/s]\n",
      "Retrieving SummaryDoc documents: 100%|█████████| 1/1 [00:00<00:00, 23831.27it/s]\n",
      "Retrieving SummaryDoc documents: 0it [00:00, ?it/s]\n"
     ]
    },
    {
     "name": "stdout",
     "output_type": "stream",
     "text": [
      "Error list index out of range occured for material id: mp-770086\n"
     ]
    },
    {
     "name": "stderr",
     "output_type": "stream",
     "text": [
      "Retrieving SummaryDoc documents: 100%|█████████| 1/1 [00:00<00:00, 22429.43it/s]\n",
      "Retrieving SummaryDoc documents: 100%|█████████| 1/1 [00:00<00:00, 23172.95it/s]\n",
      "Retrieving SummaryDoc documents: 0it [00:00, ?it/s]\n"
     ]
    },
    {
     "name": "stdout",
     "output_type": "stream",
     "text": [
      "Error list index out of range occured for material id: mp-762869\n"
     ]
    },
    {
     "name": "stderr",
     "output_type": "stream",
     "text": [
      "Retrieving SummaryDoc documents: 0it [00:00, ?it/s]\n"
     ]
    },
    {
     "name": "stdout",
     "output_type": "stream",
     "text": [
      "Error list index out of range occured for material id: mp-765445\n"
     ]
    },
    {
     "name": "stderr",
     "output_type": "stream",
     "text": [
      "Retrieving SummaryDoc documents: 100%|█████████| 1/1 [00:00<00:00, 20262.34it/s]\n",
      "Retrieving SummaryDoc documents: 100%|█████████| 1/1 [00:00<00:00, 22671.91it/s]\n",
      "Retrieving SummaryDoc documents: 100%|█████████| 1/1 [00:00<00:00, 21290.88it/s]\n",
      "Retrieving SummaryDoc documents: 100%|█████████| 1/1 [00:00<00:00, 21399.51it/s]\n",
      "Retrieving SummaryDoc documents: 100%|█████████| 1/1 [00:00<00:00, 23301.69it/s]\n",
      "Retrieving SummaryDoc documents: 100%|█████████| 1/1 [00:00<00:00, 25115.59it/s]\n",
      "Retrieving SummaryDoc documents: 100%|█████████| 1/1 [00:00<00:00, 24528.09it/s]\n",
      "Retrieving SummaryDoc documents: 100%|█████████| 1/1 [00:00<00:00, 23831.27it/s]\n",
      "Retrieving SummaryDoc documents: 100%|█████████| 1/1 [00:00<00:00, 24966.10it/s]\n",
      "Retrieving SummaryDoc documents: 100%|█████████| 1/1 [00:00<00:00, 24385.49it/s]\n",
      "Retrieving SummaryDoc documents: 100%|█████████| 1/1 [00:00<00:00, 22671.91it/s]\n",
      "Retrieving SummaryDoc documents: 100%|█████████| 1/1 [00:00<00:00, 23172.95it/s]\n",
      "Retrieving SummaryDoc documents: 100%|█████████| 1/1 [00:00<00:00, 20867.18it/s]\n",
      "Retrieving SummaryDoc documents: 100%|█████████| 1/1 [00:00<00:00, 22310.13it/s]\n",
      "Retrieving SummaryDoc documents: 100%|█████████| 1/1 [00:00<00:00, 24385.49it/s]\n",
      "Retrieving SummaryDoc documents: 100%|█████████| 1/1 [00:00<00:00, 27962.03it/s]\n",
      "Retrieving SummaryDoc documents: 100%|█████████| 1/1 [00:00<00:00, 23301.69it/s]\n",
      "Retrieving SummaryDoc documents: 100%|█████████| 1/1 [00:00<00:00, 23831.27it/s]\n",
      "Retrieving SummaryDoc documents: 100%|█████████| 1/1 [00:00<00:00, 21183.35it/s]\n",
      "Retrieving SummaryDoc documents: 0it [00:00, ?it/s]\n"
     ]
    },
    {
     "name": "stdout",
     "output_type": "stream",
     "text": [
      "Error list index out of range occured for material id: mp-25008\n"
     ]
    },
    {
     "name": "stderr",
     "output_type": "stream",
     "text": [
      "Retrieving SummaryDoc documents: 100%|█████████| 1/1 [00:00<00:00, 22671.91it/s]\n",
      "Retrieving SummaryDoc documents: 100%|█████████| 1/1 [00:00<00:00, 22671.91it/s]\n",
      "Retrieving SummaryDoc documents: 100%|█████████| 1/1 [00:00<00:00, 22795.13it/s]\n",
      "Retrieving SummaryDoc documents: 100%|█████████| 1/1 [00:00<00:00, 23831.27it/s]\n",
      "Retrieving SummaryDoc documents: 100%|█████████| 1/1 [00:00<00:00, 22429.43it/s]\n",
      "Retrieving SummaryDoc documents: 0it [00:00, ?it/s]\n"
     ]
    },
    {
     "name": "stdout",
     "output_type": "stream",
     "text": [
      "Error list index out of range occured for material id: mp-510559\n"
     ]
    },
    {
     "name": "stderr",
     "output_type": "stream",
     "text": [
      "Retrieving SummaryDoc documents: 100%|█████████| 1/1 [00:00<00:00, 22192.08it/s]\n",
      "Retrieving SummaryDoc documents: 100%|█████████| 1/1 [00:00<00:00, 24244.53it/s]\n",
      "Retrieving SummaryDoc documents: 100%|█████████| 1/1 [00:00<00:00, 22671.91it/s]\n",
      "Retrieving SummaryDoc documents: 100%|█████████| 1/1 [00:00<00:00, 23301.69it/s]\n",
      "Retrieving SummaryDoc documents: 100%|█████████| 1/1 [00:00<00:00, 22192.08it/s]\n",
      "Retrieving SummaryDoc documents: 100%|█████████| 1/1 [00:00<00:00, 22310.13it/s]\n",
      "Retrieving SummaryDoc documents: 100%|█████████| 1/1 [00:00<00:00, 19972.88it/s]\n",
      "Retrieving SummaryDoc documents: 100%|█████████| 1/1 [00:00<00:00, 21399.51it/s]\n",
      "Retrieving SummaryDoc documents: 100%|█████████| 1/1 [00:00<00:00, 22671.91it/s]\n",
      "Retrieving SummaryDoc documents: 100%|█████████| 1/1 [00:00<00:00, 22671.91it/s]\n",
      "Retrieving SummaryDoc documents: 100%|█████████| 1/1 [00:00<00:00, 22310.13it/s]\n",
      "Retrieving SummaryDoc documents: 0it [00:00, ?it/s]\n"
     ]
    },
    {
     "name": "stdout",
     "output_type": "stream",
     "text": [
      "Error list index out of range occured for material id: mp-775620\n"
     ]
    },
    {
     "name": "stderr",
     "output_type": "stream",
     "text": [
      "Retrieving SummaryDoc documents: 100%|█████████| 1/1 [00:00<00:00, 23301.69it/s]\n",
      "Retrieving SummaryDoc documents: 100%|█████████| 1/1 [00:00<00:00, 22795.13it/s]\n",
      "Retrieving SummaryDoc documents: 100%|█████████| 1/1 [00:00<00:00, 22795.13it/s]\n",
      "Retrieving SummaryDoc documents: 100%|█████████| 1/1 [00:00<00:00, 20867.18it/s]\n",
      "Retrieving SummaryDoc documents: 100%|█████████| 1/1 [00:00<00:00, 24385.49it/s]\n",
      "Retrieving SummaryDoc documents: 0it [00:00, ?it/s]\n"
     ]
    },
    {
     "name": "stdout",
     "output_type": "stream",
     "text": [
      "Error list index out of range occured for material id: mp-764338\n"
     ]
    },
    {
     "name": "stderr",
     "output_type": "stream",
     "text": [
      "Retrieving SummaryDoc documents: 100%|█████████| 1/1 [00:00<00:00, 22192.08it/s]\n",
      "Retrieving SummaryDoc documents: 100%|█████████| 1/1 [00:00<00:00, 22192.08it/s]\n",
      "Retrieving SummaryDoc documents: 100%|█████████| 1/1 [00:00<00:00, 23831.27it/s]\n",
      "Retrieving SummaryDoc documents: 100%|█████████| 1/1 [00:00<00:00, 27060.03it/s]\n",
      "Retrieving SummaryDoc documents: 100%|█████████| 1/1 [00:00<00:00, 22192.08it/s]\n",
      "Retrieving SummaryDoc documents: 100%|█████████| 1/1 [00:00<00:00, 21732.15it/s]\n",
      "Retrieving SummaryDoc documents: 100%|█████████| 1/1 [00:00<00:00, 23831.27it/s]\n",
      "Retrieving SummaryDoc documents: 100%|█████████| 1/1 [00:00<00:00, 23831.27it/s]\n",
      "Retrieving SummaryDoc documents: 100%|█████████| 1/1 [00:00<00:00, 22671.91it/s]\n",
      "Retrieving SummaryDoc documents: 100%|█████████| 1/1 [00:00<00:00, 23831.27it/s]\n",
      "Retrieving SummaryDoc documents: 100%|█████████| 1/1 [00:00<00:00, 23831.27it/s]\n",
      "Retrieving SummaryDoc documents: 100%|█████████| 1/1 [00:00<00:00, 23172.95it/s]\n",
      "Retrieving SummaryDoc documents: 100%|█████████| 1/1 [00:00<00:00, 23831.27it/s]\n",
      "Retrieving SummaryDoc documents: 100%|█████████| 1/1 [00:00<00:00, 25115.59it/s]\n",
      "Retrieving SummaryDoc documents: 100%|█████████| 1/1 [00:00<00:00, 23431.87it/s]\n",
      "Retrieving SummaryDoc documents: 100%|█████████| 1/1 [00:00<00:00, 21183.35it/s]\n",
      "Retrieving SummaryDoc documents: 0it [00:00, ?it/s]\n"
     ]
    },
    {
     "name": "stdout",
     "output_type": "stream",
     "text": [
      "Error list index out of range occured for material id: mp-868359\n"
     ]
    },
    {
     "name": "stderr",
     "output_type": "stream",
     "text": [
      "Retrieving SummaryDoc documents: 100%|█████████| 1/1 [00:00<00:00, 26379.27it/s]\n",
      "Retrieving SummaryDoc documents: 100%|█████████| 1/1 [00:00<00:00, 21183.35it/s]\n",
      "Retrieving SummaryDoc documents: 100%|█████████| 1/1 [00:00<00:00, 27235.74it/s]\n",
      "Retrieving SummaryDoc documents: 100%|█████████| 1/1 [00:00<00:00, 23831.27it/s]\n",
      "Retrieving SummaryDoc documents: 100%|█████████| 1/1 [00:00<00:00, 22192.08it/s]\n",
      "Retrieving SummaryDoc documents: 100%|█████████| 1/1 [00:00<00:00, 22671.91it/s]\n",
      "Retrieving SummaryDoc documents: 100%|█████████| 1/1 [00:00<00:00, 21845.33it/s]\n",
      "Retrieving SummaryDoc documents: 0it [00:00, ?it/s]\n"
     ]
    },
    {
     "name": "stdout",
     "output_type": "stream",
     "text": [
      "Error list index out of range occured for material id: mp-771532\n"
     ]
    },
    {
     "name": "stderr",
     "output_type": "stream",
     "text": [
      "Retrieving SummaryDoc documents: 100%|█████████| 1/1 [00:00<00:00, 23831.27it/s]\n",
      "Retrieving SummaryDoc documents: 100%|█████████| 1/1 [00:00<00:00, 22192.08it/s]\n",
      "Retrieving SummaryDoc documents: 100%|█████████| 1/1 [00:00<00:00, 22671.91it/s]\n",
      "Retrieving SummaryDoc documents: 100%|█████████| 1/1 [00:00<00:00, 25731.93it/s]\n",
      "Retrieving SummaryDoc documents: 100%|█████████| 1/1 [00:00<00:00, 21183.35it/s]\n",
      "Retrieving SummaryDoc documents: 100%|█████████| 1/1 [00:00<00:00, 22671.91it/s]\n",
      "Retrieving SummaryDoc documents: 100%|█████████| 1/1 [00:00<00:00, 25575.02it/s]\n",
      "Retrieving SummaryDoc documents: 100%|█████████| 1/1 [00:00<00:00, 23172.95it/s]\n",
      "Retrieving SummaryDoc documents: 100%|█████████| 1/1 [00:00<00:00, 22192.08it/s]\n",
      "Retrieving SummaryDoc documents: 100%|█████████| 1/1 [00:00<00:00, 24966.10it/s]\n",
      "Retrieving SummaryDoc documents: 100%|█████████| 1/1 [00:00<00:00, 26886.56it/s]\n",
      "Retrieving SummaryDoc documents: 100%|█████████| 1/1 [00:00<00:00, 25575.02it/s]\n",
      "Retrieving SummaryDoc documents: 100%|█████████| 1/1 [00:00<00:00, 26379.27it/s]\n",
      "Retrieving SummaryDoc documents: 100%|█████████| 1/1 [00:00<00:00, 26214.40it/s]\n",
      "Retrieving SummaryDoc documents: 100%|█████████| 1/1 [00:00<00:00, 24385.49it/s]\n",
      "Retrieving SummaryDoc documents: 100%|█████████| 1/1 [00:00<00:00, 22192.08it/s]\n",
      "Retrieving SummaryDoc documents: 100%|█████████| 1/1 [00:00<00:00, 23696.63it/s]\n",
      "Retrieving SummaryDoc documents: 100%|█████████| 1/1 [00:00<00:00, 23301.69it/s]\n",
      "Retrieving SummaryDoc documents: 100%|█████████| 1/1 [00:00<00:00, 24966.10it/s]\n",
      "Retrieving SummaryDoc documents: 100%|█████████| 1/1 [00:00<00:00, 24244.53it/s]\n",
      "Retrieving SummaryDoc documents: 100%|█████████| 1/1 [00:00<00:00, 23172.95it/s]\n",
      "Retrieving SummaryDoc documents: 100%|█████████| 1/1 [00:00<00:00, 26886.56it/s]\n",
      "Retrieving SummaryDoc documents: 100%|█████████| 1/1 [00:00<00:00, 22192.08it/s]\n",
      "Retrieving SummaryDoc documents: 100%|█████████| 1/1 [00:00<00:00, 23831.27it/s]\n",
      "Retrieving SummaryDoc documents: 100%|█████████| 1/1 [00:00<00:00, 22919.69it/s]\n",
      "Retrieving SummaryDoc documents: 100%|█████████| 1/1 [00:00<00:00, 21290.88it/s]\n",
      "Retrieving SummaryDoc documents: 100%|█████████| 1/1 [00:00<00:00, 22671.91it/s]\n",
      "Retrieving SummaryDoc documents: 100%|█████████| 1/1 [00:00<00:00, 26379.27it/s]\n",
      "Retrieving SummaryDoc documents: 100%|█████████| 1/1 [00:00<00:00, 22671.91it/s]\n",
      "Retrieving SummaryDoc documents: 100%|█████████| 1/1 [00:00<00:00, 23831.27it/s]\n",
      "Retrieving SummaryDoc documents: 100%|█████████| 1/1 [00:00<00:00, 23301.69it/s]\n",
      "Retrieving SummaryDoc documents: 100%|█████████| 1/1 [00:00<00:00, 24385.49it/s]\n",
      "Retrieving SummaryDoc documents: 100%|█████████| 1/1 [00:00<00:00, 24385.49it/s]\n",
      "Retrieving SummaryDoc documents: 100%|█████████| 1/1 [00:00<00:00, 26214.40it/s]\n",
      "Retrieving SummaryDoc documents: 100%|█████████| 1/1 [00:00<00:00, 24966.10it/s]\n",
      "Retrieving SummaryDoc documents: 100%|█████████| 1/1 [00:00<00:00, 23172.95it/s]\n",
      "Retrieving SummaryDoc documents: 0it [00:00, ?it/s]\n"
     ]
    },
    {
     "name": "stdout",
     "output_type": "stream",
     "text": [
      "Error list index out of range occured for material id: mp-552787\n"
     ]
    },
    {
     "name": "stderr",
     "output_type": "stream",
     "text": [
      "Retrieving SummaryDoc documents: 100%|█████████| 1/1 [00:00<00:00, 22671.91it/s]\n",
      "Retrieving SummaryDoc documents: 100%|█████████| 1/1 [00:00<00:00, 22671.91it/s]\n",
      "Retrieving SummaryDoc documents: 100%|█████████| 1/1 [00:00<00:00, 23696.63it/s]\n",
      "Retrieving SummaryDoc documents: 0it [00:00, ?it/s]\n"
     ]
    },
    {
     "name": "stdout",
     "output_type": "stream",
     "text": [
      "Error list index out of range occured for material id: mp-771858\n"
     ]
    },
    {
     "name": "stderr",
     "output_type": "stream",
     "text": [
      "Retrieving SummaryDoc documents: 100%|█████████| 1/1 [00:00<00:00, 22919.69it/s]\n",
      "Retrieving SummaryDoc documents: 100%|█████████| 1/1 [00:00<00:00, 22192.08it/s]\n",
      "Retrieving SummaryDoc documents: 100%|█████████| 1/1 [00:00<00:00, 23831.27it/s]\n",
      "Retrieving SummaryDoc documents: 100%|█████████| 1/1 [00:00<00:00, 22795.13it/s]\n",
      "Retrieving SummaryDoc documents: 100%|█████████| 1/1 [00:00<00:00, 23301.69it/s]\n",
      "Retrieving SummaryDoc documents: 100%|█████████| 1/1 [00:00<00:00, 25731.93it/s]\n",
      "Retrieving SummaryDoc documents: 100%|█████████| 1/1 [00:00<00:00, 24966.10it/s]\n",
      "Retrieving SummaryDoc documents: 100%|█████████| 1/1 [00:00<00:00, 25575.02it/s]\n",
      "Retrieving SummaryDoc documents: 100%|█████████| 1/1 [00:00<00:00, 22671.91it/s]\n",
      "Retrieving SummaryDoc documents: 100%|█████████| 1/1 [00:00<00:00, 24385.49it/s]\n",
      "Retrieving SummaryDoc documents: 100%|█████████| 1/1 [00:00<00:00, 24966.10it/s]\n",
      "Retrieving SummaryDoc documents: 100%|█████████| 1/1 [00:00<00:00, 22671.91it/s]\n",
      "Retrieving SummaryDoc documents: 100%|█████████| 1/1 [00:00<00:00, 23301.69it/s]\n",
      "Retrieving SummaryDoc documents: 100%|█████████| 1/1 [00:00<00:00, 23172.95it/s]\n",
      "Retrieving SummaryDoc documents: 100%|█████████| 1/1 [00:00<00:00, 22671.91it/s]\n",
      "Retrieving SummaryDoc documents: 100%|█████████| 1/1 [00:00<00:00, 22795.13it/s]\n",
      "Retrieving SummaryDoc documents: 100%|█████████| 1/1 [00:00<00:00, 22671.91it/s]\n",
      "Retrieving SummaryDoc documents: 100%|█████████| 1/1 [00:00<00:00, 21290.88it/s]\n",
      "Retrieving SummaryDoc documents: 100%|█████████| 1/1 [00:00<00:00, 22671.91it/s]\n",
      "Retrieving SummaryDoc documents: 100%|█████████| 1/1 [00:00<00:00, 23301.69it/s]\n",
      "Retrieving SummaryDoc documents: 0it [00:00, ?it/s]\n"
     ]
    },
    {
     "name": "stdout",
     "output_type": "stream",
     "text": [
      "Error list index out of range occured for material id: mp-690526\n"
     ]
    },
    {
     "name": "stderr",
     "output_type": "stream",
     "text": [
      "Retrieving SummaryDoc documents: 100%|█████████| 1/1 [00:00<00:00, 22310.13it/s]\n",
      "Retrieving SummaryDoc documents: 100%|█████████| 1/1 [00:00<00:00, 23696.63it/s]\n",
      "Retrieving SummaryDoc documents: 100%|█████████| 1/1 [00:00<00:00, 22671.91it/s]\n",
      "Retrieving SummaryDoc documents: 100%|█████████| 1/1 [00:00<00:00, 21732.15it/s]\n",
      "Retrieving SummaryDoc documents: 100%|█████████| 1/1 [00:00<00:00, 22671.91it/s]\n",
      "Retrieving SummaryDoc documents: 100%|█████████| 1/1 [00:00<00:00, 22671.91it/s]\n",
      "Retrieving SummaryDoc documents: 100%|█████████| 1/1 [00:00<00:00, 23172.95it/s]\n",
      "Retrieving SummaryDoc documents: 100%|█████████| 1/1 [00:00<00:00, 23831.27it/s]\n",
      "Retrieving SummaryDoc documents: 100%|█████████| 1/1 [00:00<00:00, 21290.88it/s]\n",
      "Retrieving SummaryDoc documents: 100%|█████████| 1/1 [00:00<00:00, 23301.69it/s]\n",
      "Retrieving SummaryDoc documents: 100%|█████████| 1/1 [00:00<00:00, 22192.08it/s]\n",
      "Retrieving SummaryDoc documents: 100%|█████████| 1/1 [00:00<00:00, 22671.91it/s]\n",
      "Retrieving SummaryDoc documents: 100%|█████████| 1/1 [00:00<00:00, 23301.69it/s]\n",
      "Retrieving SummaryDoc documents: 100%|█████████| 1/1 [00:00<00:00, 23831.27it/s]\n",
      "Retrieving SummaryDoc documents: 100%|█████████| 1/1 [00:00<00:00, 24966.10it/s]\n",
      "Retrieving SummaryDoc documents: 100%|█████████| 1/1 [00:00<00:00, 23301.69it/s]\n",
      "Retrieving SummaryDoc documents: 100%|█████████| 1/1 [00:00<00:00, 22192.08it/s]\n",
      "Retrieving SummaryDoc documents: 100%|█████████| 1/1 [00:00<00:00, 23831.27it/s]\n",
      "Retrieving SummaryDoc documents: 100%|█████████| 1/1 [00:00<00:00, 22192.08it/s]\n",
      "Retrieving SummaryDoc documents: 100%|█████████| 1/1 [00:00<00:00, 23301.69it/s]\n",
      "Retrieving SummaryDoc documents: 100%|█████████| 1/1 [00:00<00:00, 21732.15it/s]\n",
      "Retrieving SummaryDoc documents: 100%|█████████| 1/1 [00:00<00:00, 23172.95it/s]\n",
      "Retrieving SummaryDoc documents: 100%|█████████| 1/1 [00:00<00:00, 23831.27it/s]\n",
      "Retrieving SummaryDoc documents: 100%|█████████| 1/1 [00:00<00:00, 22919.69it/s]\n",
      "Retrieving SummaryDoc documents: 100%|█████████| 1/1 [00:00<00:00, 22192.08it/s]\n",
      "Retrieving SummaryDoc documents: 100%|█████████| 1/1 [00:00<00:00, 27235.74it/s]\n",
      "Retrieving SummaryDoc documents: 100%|█████████| 1/1 [00:00<00:00, 22192.08it/s]\n",
      "Retrieving SummaryDoc documents: 100%|█████████| 1/1 [00:00<00:00, 24385.49it/s]\n",
      "Retrieving SummaryDoc documents: 100%|█████████| 1/1 [00:00<00:00, 23831.27it/s]\n",
      "Retrieving SummaryDoc documents: 100%|█████████| 1/1 [00:00<00:00, 25115.59it/s]\n",
      "Retrieving SummaryDoc documents: 100%|█████████| 1/1 [00:00<00:00, 26214.40it/s]\n",
      "Retrieving SummaryDoc documents: 100%|█████████| 1/1 [00:00<00:00, 23431.87it/s]\n",
      "Retrieving SummaryDoc documents: 100%|█████████| 1/1 [00:00<00:00, 23831.27it/s]\n",
      "Retrieving SummaryDoc documents: 100%|█████████| 1/1 [00:00<00:00, 32263.88it/s]\n",
      "Retrieving SummaryDoc documents: 100%|█████████| 1/1 [00:00<00:00, 24528.09it/s]\n",
      "Retrieving SummaryDoc documents: 100%|█████████| 1/1 [00:00<00:00, 29330.80it/s]\n",
      "Retrieving SummaryDoc documents: 100%|█████████| 1/1 [00:00<00:00, 22671.91it/s]\n",
      "Retrieving SummaryDoc documents: 100%|█████████| 1/1 [00:00<00:00, 24385.49it/s]\n",
      "Retrieving SummaryDoc documents: 100%|█████████| 1/1 [00:00<00:00, 24385.49it/s]\n",
      "Retrieving SummaryDoc documents: 100%|█████████| 1/1 [00:00<00:00, 22671.91it/s]\n",
      "Retrieving SummaryDoc documents: 0it [00:00, ?it/s]\n"
     ]
    },
    {
     "name": "stdout",
     "output_type": "stream",
     "text": [
      "Error list index out of range occured for material id: mp-776803\n"
     ]
    },
    {
     "name": "stderr",
     "output_type": "stream",
     "text": [
      "Retrieving SummaryDoc documents: 100%|█████████| 1/1 [00:00<00:00, 23172.95it/s]\n",
      "Retrieving SummaryDoc documents: 100%|█████████| 1/1 [00:00<00:00, 27962.03it/s]\n",
      "Retrieving SummaryDoc documents: 100%|█████████| 1/1 [00:00<00:00, 27776.85it/s]\n",
      "Retrieving SummaryDoc documents: 100%|█████████| 1/1 [00:00<00:00, 23172.95it/s]\n",
      "Retrieving SummaryDoc documents: 100%|█████████| 1/1 [00:00<00:00, 23831.27it/s]\n",
      "Retrieving SummaryDoc documents: 100%|█████████| 1/1 [00:00<00:00, 21620.12it/s]\n",
      "Retrieving SummaryDoc documents: 100%|█████████| 1/1 [00:00<00:00, 22795.13it/s]\n",
      "Retrieving SummaryDoc documents: 100%|█████████| 1/1 [00:00<00:00, 22192.08it/s]\n",
      "Retrieving SummaryDoc documents: 100%|█████████| 1/1 [00:00<00:00, 27962.03it/s]\n",
      "Retrieving SummaryDoc documents: 100%|█████████| 1/1 [00:00<00:00, 19878.22it/s]\n",
      "Retrieving SummaryDoc documents: 100%|█████████| 1/1 [00:00<00:00, 22192.08it/s]\n",
      "Retrieving SummaryDoc documents: 100%|█████████| 1/1 [00:00<00:00, 21290.88it/s]\n",
      "Retrieving SummaryDoc documents: 100%|█████████| 1/1 [00:00<00:00, 22795.13it/s]\n",
      "Retrieving SummaryDoc documents: 100%|█████████| 1/1 [00:00<00:00, 22671.91it/s]\n",
      "Retrieving SummaryDoc documents: 100%|█████████| 1/1 [00:00<00:00, 21732.15it/s]\n",
      "Retrieving SummaryDoc documents: 100%|█████████| 1/1 [00:00<00:00, 23301.69it/s]\n",
      "Retrieving SummaryDoc documents: 100%|█████████| 1/1 [00:00<00:00, 23831.27it/s]\n",
      "Retrieving SummaryDoc documents: 100%|█████████| 1/1 [00:00<00:00, 26379.27it/s]\n",
      "Retrieving SummaryDoc documents: 100%|█████████| 1/1 [00:00<00:00, 21399.51it/s]\n",
      "Retrieving SummaryDoc documents: 0it [00:00, ?it/s]\n"
     ]
    },
    {
     "name": "stdout",
     "output_type": "stream",
     "text": [
      "Error list index out of range occured for material id: mp-690110\n"
     ]
    },
    {
     "name": "stderr",
     "output_type": "stream",
     "text": [
      "Retrieving SummaryDoc documents: 100%|█████████| 1/1 [00:00<00:00, 22795.13it/s]\n",
      "Retrieving SummaryDoc documents: 100%|█████████| 1/1 [00:00<00:00, 22671.91it/s]\n",
      "Retrieving SummaryDoc documents: 100%|█████████| 1/1 [00:00<00:00, 27594.11it/s]\n",
      "Retrieving SummaryDoc documents: 100%|█████████| 1/1 [00:00<00:00, 22192.08it/s]\n",
      "Retrieving SummaryDoc documents: 100%|█████████| 1/1 [00:00<00:00, 21620.12it/s]\n",
      "Retrieving SummaryDoc documents: 100%|█████████| 1/1 [00:00<00:00, 19239.93it/s]\n",
      "Retrieving SummaryDoc documents: 100%|█████████| 1/1 [00:00<00:00, 21732.15it/s]\n",
      "Retrieving SummaryDoc documents: 0it [00:00, ?it/s]\n"
     ]
    },
    {
     "name": "stdout",
     "output_type": "stream",
     "text": [
      "Error list index out of range occured for material id: mp-775236\n"
     ]
    },
    {
     "name": "stderr",
     "output_type": "stream",
     "text": [
      "Retrieving SummaryDoc documents: 100%|█████████| 1/1 [00:00<00:00, 21183.35it/s]\n",
      "Retrieving SummaryDoc documents: 100%|█████████| 1/1 [00:00<00:00, 22192.08it/s]\n",
      "Retrieving SummaryDoc documents: 100%|█████████| 1/1 [00:00<00:00, 22671.91it/s]\n",
      "Retrieving SummaryDoc documents: 100%|█████████| 1/1 [00:00<00:00, 22671.91it/s]\n",
      "Retrieving SummaryDoc documents: 100%|█████████| 1/1 [00:00<00:00, 19508.39it/s]\n",
      "Retrieving SummaryDoc documents: 100%|█████████| 1/1 [00:00<00:00, 22795.13it/s]\n",
      "Retrieving SummaryDoc documents: 100%|█████████| 1/1 [00:00<00:00, 22671.91it/s]\n",
      "Retrieving SummaryDoc documents: 100%|█████████| 1/1 [00:00<00:00, 24966.10it/s]\n",
      "Retrieving SummaryDoc documents: 100%|█████████| 1/1 [00:00<00:00, 23831.27it/s]\n",
      "Retrieving SummaryDoc documents: 100%|█████████| 1/1 [00:00<00:00, 23831.27it/s]\n",
      "Retrieving SummaryDoc documents: 100%|█████████| 1/1 [00:00<00:00, 22192.08it/s]\n",
      "Retrieving SummaryDoc documents: 100%|█████████| 1/1 [00:00<00:00, 22671.91it/s]\n",
      "Retrieving SummaryDoc documents: 100%|█████████| 1/1 [00:00<00:00, 22310.13it/s]\n",
      "Retrieving SummaryDoc documents: 100%|█████████| 1/1 [00:00<00:00, 21732.15it/s]\n",
      "Retrieving SummaryDoc documents: 100%|█████████| 1/1 [00:00<00:00, 22671.91it/s]\n",
      "Retrieving SummaryDoc documents: 100%|█████████| 1/1 [00:00<00:00, 23172.95it/s]\n",
      "Retrieving SummaryDoc documents: 100%|█████████| 1/1 [00:00<00:00, 22671.91it/s]\n",
      "Retrieving SummaryDoc documents: 100%|█████████| 1/1 [00:00<00:00, 24385.49it/s]\n",
      "Retrieving SummaryDoc documents: 100%|█████████| 1/1 [00:00<00:00, 24385.49it/s]\n",
      "Retrieving SummaryDoc documents: 100%|█████████| 1/1 [00:00<00:00, 23831.27it/s]\n",
      "Retrieving SummaryDoc documents: 0it [00:00, ?it/s]\n"
     ]
    },
    {
     "name": "stdout",
     "output_type": "stream",
     "text": [
      "Error list index out of range occured for material id: mp-770398\n"
     ]
    },
    {
     "name": "stderr",
     "output_type": "stream",
     "text": [
      "Retrieving SummaryDoc documents: 100%|█████████| 1/1 [00:00<00:00, 22192.08it/s]\n",
      "Retrieving SummaryDoc documents: 100%|█████████| 1/1 [00:00<00:00, 22192.08it/s]\n",
      "Retrieving SummaryDoc documents: 100%|█████████| 1/1 [00:00<00:00, 22671.91it/s]\n",
      "Retrieving SummaryDoc documents: 100%|█████████| 1/1 [00:00<00:00, 21290.88it/s]\n",
      "Retrieving SummaryDoc documents: 100%|█████████| 1/1 [00:00<00:00, 22192.08it/s]\n",
      "Retrieving SummaryDoc documents: 100%|█████████| 1/1 [00:00<00:00, 24385.49it/s]\n",
      "Retrieving SummaryDoc documents: 100%|█████████| 1/1 [00:00<00:00, 22192.08it/s]\n",
      "Retrieving SummaryDoc documents: 100%|█████████| 1/1 [00:00<00:00, 20763.88it/s]\n",
      "Retrieving SummaryDoc documents: 100%|█████████| 1/1 [00:00<00:00, 23172.95it/s]\n",
      "Retrieving SummaryDoc documents: 100%|█████████| 1/1 [00:00<00:00, 24385.49it/s]\n",
      "Retrieving SummaryDoc documents: 100%|█████████| 1/1 [00:00<00:00, 23301.69it/s]\n",
      "Retrieving SummaryDoc documents: 100%|█████████| 1/1 [00:00<00:00, 23301.69it/s]\n",
      "Retrieving SummaryDoc documents: 100%|█████████| 1/1 [00:00<00:00, 22192.08it/s]\n",
      "Retrieving SummaryDoc documents: 100%|█████████| 1/1 [00:00<00:00, 24244.53it/s]\n",
      "Retrieving SummaryDoc documents: 100%|█████████| 1/1 [00:00<00:00, 22310.13it/s]\n",
      "Retrieving SummaryDoc documents: 100%|█████████| 1/1 [00:00<00:00, 23301.69it/s]\n",
      "Retrieving SummaryDoc documents: 100%|█████████| 1/1 [00:00<00:00, 23831.27it/s]\n",
      "Retrieving SummaryDoc documents: 100%|█████████| 1/1 [00:00<00:00, 21183.35it/s]\n",
      "Retrieving SummaryDoc documents: 100%|█████████| 1/1 [00:00<00:00, 18477.11it/s]\n",
      "Retrieving SummaryDoc documents: 100%|█████████| 1/1 [00:00<00:00, 23301.69it/s]\n",
      "Retrieving SummaryDoc documents: 100%|█████████| 1/1 [00:00<00:00, 23301.69it/s]\n",
      "Retrieving SummaryDoc documents: 0it [00:00, ?it/s]\n"
     ]
    },
    {
     "name": "stdout",
     "output_type": "stream",
     "text": [
      "Error list index out of range occured for material id: mp-765183\n"
     ]
    },
    {
     "name": "stderr",
     "output_type": "stream",
     "text": [
      "Retrieving SummaryDoc documents: 100%|█████████| 1/1 [00:00<00:00, 26214.40it/s]\n",
      "Retrieving SummaryDoc documents: 100%|█████████| 1/1 [00:00<00:00, 22671.91it/s]\n",
      "Retrieving SummaryDoc documents: 100%|█████████| 1/1 [00:00<00:00, 25731.93it/s]\n",
      "Retrieving SummaryDoc documents: 100%|█████████| 1/1 [00:00<00:00, 19972.88it/s]\n",
      "Retrieving SummaryDoc documents: 100%|█████████| 1/1 [00:00<00:00, 20867.18it/s]\n",
      "Retrieving SummaryDoc documents: 100%|█████████| 1/1 [00:00<00:00, 21620.12it/s]\n",
      "Retrieving SummaryDoc documents: 100%|█████████| 1/1 [00:00<00:00, 21183.35it/s]\n",
      "Retrieving SummaryDoc documents: 100%|█████████| 1/1 [00:00<00:00, 22310.13it/s]\n",
      "Retrieving SummaryDoc documents: 100%|█████████| 1/1 [00:00<00:00, 22795.13it/s]\n",
      "Retrieving SummaryDoc documents: 100%|█████████| 1/1 [00:00<00:00, 21732.15it/s]\n",
      "Retrieving SummaryDoc documents: 0it [00:00, ?it/s]\n"
     ]
    },
    {
     "name": "stdout",
     "output_type": "stream",
     "text": [
      "Error list index out of range occured for material id: mp-714961\n"
     ]
    },
    {
     "name": "stderr",
     "output_type": "stream",
     "text": [
      "Retrieving SummaryDoc documents: 100%|█████████| 1/1 [00:00<00:00, 20867.18it/s]\n",
      "Retrieving SummaryDoc documents: 100%|█████████| 1/1 [00:00<00:00, 22192.08it/s]\n",
      "Retrieving SummaryDoc documents: 100%|█████████| 1/1 [00:00<00:00, 21732.15it/s]\n",
      "Retrieving SummaryDoc documents: 100%|█████████| 1/1 [00:00<00:00, 22192.08it/s]\n",
      "Retrieving SummaryDoc documents: 100%|█████████| 1/1 [00:00<00:00, 24244.53it/s]\n",
      "Retrieving SummaryDoc documents: 100%|█████████| 1/1 [00:00<00:00, 23172.95it/s]\n",
      "Retrieving SummaryDoc documents: 100%|█████████| 1/1 [00:00<00:00, 20360.70it/s]\n",
      "Retrieving SummaryDoc documents: 100%|█████████| 1/1 [00:00<00:00, 22310.13it/s]\n",
      "Retrieving SummaryDoc documents: 100%|█████████| 1/1 [00:00<00:00, 19599.55it/s]\n",
      "Retrieving SummaryDoc documents: 100%|█████████| 1/1 [00:00<00:00, 23696.63it/s]\n",
      "Retrieving SummaryDoc documents: 100%|█████████| 1/1 [00:00<00:00, 25115.59it/s]\n",
      "Retrieving SummaryDoc documents: 100%|█████████| 1/1 [00:00<00:00, 24385.49it/s]\n",
      "Retrieving SummaryDoc documents: 0it [00:00, ?it/s]\n"
     ]
    },
    {
     "name": "stdout",
     "output_type": "stream",
     "text": [
      "Error list index out of range occured for material id: mp-19575\n"
     ]
    },
    {
     "name": "stderr",
     "output_type": "stream",
     "text": [
      "Retrieving SummaryDoc documents: 100%|█████████| 1/1 [00:00<00:00, 23172.95it/s]\n",
      "Retrieving SummaryDoc documents: 100%|█████████| 1/1 [00:00<00:00, 23831.27it/s]\n",
      "Retrieving SummaryDoc documents: 100%|█████████| 1/1 [00:00<00:00, 28532.68it/s]\n",
      "Retrieving SummaryDoc documents: 100%|█████████| 1/1 [00:00<00:00, 22671.91it/s]\n",
      "Retrieving SummaryDoc documents: 100%|█████████| 1/1 [00:00<00:00, 23172.95it/s]\n",
      "Retrieving SummaryDoc documents: 100%|█████████| 1/1 [00:00<00:00, 24966.10it/s]\n",
      "Retrieving SummaryDoc documents: 100%|█████████| 1/1 [00:00<00:00, 24966.10it/s]\n",
      "Retrieving SummaryDoc documents: 100%|█████████| 1/1 [00:00<00:00, 23696.63it/s]\n",
      "Retrieving SummaryDoc documents: 100%|█████████| 1/1 [00:00<00:00, 23301.69it/s]\n",
      "Retrieving SummaryDoc documents: 100%|█████████| 1/1 [00:00<00:00, 23831.27it/s]\n",
      "Retrieving SummaryDoc documents: 100%|█████████| 1/1 [00:00<00:00, 23172.95it/s]\n",
      "Retrieving SummaryDoc documents: 100%|█████████| 1/1 [00:00<00:00, 22192.08it/s]\n",
      "Retrieving SummaryDoc documents: 100%|█████████| 1/1 [00:00<00:00, 22671.91it/s]\n",
      "Retrieving SummaryDoc documents: 100%|█████████| 1/1 [00:00<00:00, 25115.59it/s]\n",
      "Retrieving SummaryDoc documents: 100%|█████████| 1/1 [00:00<00:00, 23301.69it/s]\n",
      "Retrieving SummaryDoc documents: 100%|█████████| 1/1 [00:00<00:00, 23301.69it/s]\n",
      "Retrieving SummaryDoc documents: 100%|█████████| 1/1 [00:00<00:00, 20460.02it/s]\n",
      "Retrieving SummaryDoc documents: 100%|█████████| 1/1 [00:00<00:00, 22310.13it/s]\n",
      "Retrieving SummaryDoc documents: 100%|█████████| 1/1 [00:00<00:00, 26886.56it/s]\n",
      "Retrieving SummaryDoc documents: 100%|█████████| 1/1 [00:00<00:00, 16644.06it/s]\n",
      "Retrieving SummaryDoc documents: 100%|█████████| 1/1 [00:00<00:00, 22310.13it/s]\n",
      "Retrieving SummaryDoc documents: 100%|█████████| 1/1 [00:00<00:00, 23301.69it/s]\n",
      "Retrieving SummaryDoc documents: 100%|█████████| 1/1 [00:00<00:00, 24385.49it/s]\n",
      "Retrieving SummaryDoc documents: 100%|█████████| 1/1 [00:00<00:00, 23831.27it/s]\n",
      "Retrieving SummaryDoc documents: 100%|█████████| 1/1 [00:00<00:00, 26886.56it/s]\n",
      "Retrieving SummaryDoc documents: 100%|█████████| 1/1 [00:00<00:00, 23831.27it/s]\n",
      "Retrieving SummaryDoc documents: 100%|█████████| 1/1 [00:00<00:00, 23172.95it/s]\n",
      "Retrieving SummaryDoc documents: 100%|█████████| 1/1 [00:00<00:00, 22192.08it/s]\n",
      "Retrieving SummaryDoc documents: 100%|█████████| 1/1 [00:00<00:00, 22192.08it/s]\n",
      "Retrieving SummaryDoc documents: 100%|█████████| 1/1 [00:00<00:00, 22429.43it/s]\n",
      "Retrieving SummaryDoc documents: 100%|█████████| 1/1 [00:00<00:00, 19239.93it/s]\n",
      "Retrieving SummaryDoc documents: 100%|█████████| 1/1 [00:00<00:00, 21845.33it/s]\n",
      "Retrieving SummaryDoc documents: 100%|█████████| 1/1 [00:00<00:00, 27594.11it/s]\n",
      "Retrieving SummaryDoc documents: 100%|█████████| 1/1 [00:00<00:00, 21620.12it/s]\n",
      "Retrieving SummaryDoc documents: 100%|█████████| 1/1 [00:00<00:00, 18893.26it/s]\n",
      "Retrieving SummaryDoc documents: 100%|█████████| 1/1 [00:00<00:00, 22671.91it/s]\n",
      "Retrieving SummaryDoc documents: 100%|█████████| 1/1 [00:00<00:00, 25731.93it/s]\n",
      "Retrieving SummaryDoc documents: 100%|█████████| 1/1 [00:00<00:00, 22192.08it/s]\n",
      "Retrieving SummaryDoc documents: 100%|█████████| 1/1 [00:00<00:00, 23301.69it/s]\n",
      "Retrieving SummaryDoc documents: 100%|█████████| 1/1 [00:00<00:00, 19972.88it/s]\n",
      "Retrieving SummaryDoc documents: 100%|█████████| 1/1 [00:00<00:00, 22795.13it/s]\n",
      "Retrieving SummaryDoc documents: 100%|█████████| 1/1 [00:00<00:00, 26214.40it/s]\n",
      "Retrieving SummaryDoc documents: 100%|█████████| 1/1 [00:00<00:00, 18157.16it/s]\n",
      "Retrieving SummaryDoc documents: 100%|█████████| 1/1 [00:00<00:00, 22429.43it/s]\n",
      "Retrieving SummaryDoc documents: 100%|█████████| 1/1 [00:00<00:00, 22671.91it/s]\n",
      "Retrieving SummaryDoc documents: 100%|█████████| 1/1 [00:00<00:00, 23696.63it/s]\n",
      "Retrieving SummaryDoc documents: 100%|█████████| 1/1 [00:00<00:00, 23301.69it/s]\n",
      "Retrieving SummaryDoc documents: 100%|█████████| 1/1 [00:00<00:00, 23831.27it/s]\n",
      "Retrieving SummaryDoc documents: 100%|█████████| 1/1 [00:00<00:00, 23172.95it/s]\n",
      "Retrieving SummaryDoc documents: 100%|█████████| 1/1 [00:00<00:00, 22671.91it/s]\n",
      "Retrieving SummaryDoc documents: 100%|█████████| 1/1 [00:00<00:00, 22671.91it/s]\n",
      "Retrieving SummaryDoc documents: 100%|█████████| 1/1 [00:00<00:00, 24966.10it/s]\n",
      "Retrieving SummaryDoc documents: 100%|█████████| 1/1 [00:00<00:00, 21620.12it/s]\n",
      "Retrieving SummaryDoc documents: 100%|█████████| 1/1 [00:00<00:00, 21732.15it/s]\n",
      "Retrieving SummaryDoc documents: 100%|█████████| 1/1 [00:00<00:00, 23831.27it/s]\n",
      "Retrieving SummaryDoc documents: 100%|█████████| 1/1 [00:00<00:00, 27962.03it/s]\n",
      "Retrieving SummaryDoc documents: 100%|█████████| 1/1 [00:00<00:00, 24385.49it/s]\n",
      "Retrieving SummaryDoc documents: 100%|█████████| 1/1 [00:00<00:00, 22310.13it/s]\n",
      "Retrieving SummaryDoc documents: 100%|█████████| 1/1 [00:00<00:00, 23301.69it/s]\n",
      "Retrieving SummaryDoc documents: 100%|█████████| 1/1 [00:00<00:00, 21732.15it/s]\n",
      "Retrieving SummaryDoc documents: 100%|█████████| 1/1 [00:00<00:00, 22671.91it/s]\n",
      "Retrieving SummaryDoc documents: 100%|█████████| 1/1 [00:00<00:00, 27594.11it/s]\n",
      "Retrieving SummaryDoc documents: 100%|█████████| 1/1 [00:00<00:00, 22795.13it/s]\n",
      "Retrieving SummaryDoc documents: 100%|█████████| 1/1 [00:00<00:00, 23831.27it/s]\n",
      "Retrieving SummaryDoc documents: 100%|█████████| 1/1 [00:00<00:00, 22671.91it/s]\n",
      "Retrieving SummaryDoc documents: 100%|█████████| 1/1 [00:00<00:00, 22671.91it/s]\n",
      "Retrieving SummaryDoc documents: 100%|█████████| 1/1 [00:00<00:00, 21845.33it/s]\n",
      "Retrieving SummaryDoc documents: 100%|█████████| 1/1 [00:00<00:00, 23831.27it/s]\n",
      "Retrieving SummaryDoc documents: 100%|█████████| 1/1 [00:00<00:00, 23696.63it/s]\n",
      "Retrieving SummaryDoc documents: 100%|█████████| 1/1 [00:00<00:00, 20867.18it/s]\n",
      "Retrieving SummaryDoc documents: 100%|█████████| 1/1 [00:00<00:00, 21290.88it/s]\n",
      "Retrieving SummaryDoc documents: 0it [00:00, ?it/s]\n"
     ]
    },
    {
     "name": "stdout",
     "output_type": "stream",
     "text": [
      "Error list index out of range occured for material id: mp-778746\n"
     ]
    },
    {
     "name": "stderr",
     "output_type": "stream",
     "text": [
      "Retrieving SummaryDoc documents: 100%|█████████| 1/1 [00:00<00:00, 23301.69it/s]\n",
      "Retrieving SummaryDoc documents: 100%|█████████| 1/1 [00:00<00:00, 23696.63it/s]\n",
      "Retrieving SummaryDoc documents: 100%|█████████| 1/1 [00:00<00:00, 21290.88it/s]\n",
      "Retrieving SummaryDoc documents: 0it [00:00, ?it/s]\n"
     ]
    },
    {
     "name": "stdout",
     "output_type": "stream",
     "text": [
      "Error list index out of range occured for material id: mp-782681\n"
     ]
    },
    {
     "name": "stderr",
     "output_type": "stream",
     "text": [
      "Retrieving SummaryDoc documents: 100%|█████████| 1/1 [00:00<00:00, 22192.08it/s]\n",
      "Retrieving SummaryDoc documents: 100%|█████████| 1/1 [00:00<00:00, 21290.88it/s]\n",
      "Retrieving SummaryDoc documents: 100%|█████████| 1/1 [00:00<00:00, 22671.91it/s]\n",
      "Retrieving SummaryDoc documents: 100%|█████████| 1/1 [00:00<00:00, 25575.02it/s]\n",
      "Retrieving SummaryDoc documents: 100%|█████████| 1/1 [00:00<00:00, 22192.08it/s]\n",
      "Retrieving SummaryDoc documents: 100%|█████████| 1/1 [00:00<00:00, 23831.27it/s]\n",
      "Retrieving SummaryDoc documents: 100%|█████████| 1/1 [00:00<00:00, 21732.15it/s]\n",
      "Retrieving SummaryDoc documents: 100%|█████████| 1/1 [00:00<00:00, 19691.57it/s]\n",
      "Retrieving SummaryDoc documents: 100%|█████████| 1/1 [00:00<00:00, 29330.80it/s]\n",
      "Retrieving SummaryDoc documents: 100%|█████████| 1/1 [00:00<00:00, 22310.13it/s]\n",
      "Retrieving SummaryDoc documents: 100%|█████████| 1/1 [00:00<00:00, 22795.13it/s]\n",
      "Retrieving SummaryDoc documents: 100%|█████████| 1/1 [00:00<00:00, 21399.51it/s]\n",
      "Retrieving SummaryDoc documents: 100%|█████████| 1/1 [00:00<00:00, 25575.02it/s]\n",
      "Retrieving SummaryDoc documents: 100%|█████████| 1/1 [00:00<00:00, 21845.33it/s]\n",
      "Retrieving SummaryDoc documents: 100%|█████████| 1/1 [00:00<00:00, 11125.47it/s]\n",
      "Retrieving SummaryDoc documents: 100%|█████████| 1/1 [00:00<00:00, 21845.33it/s]\n",
      "Retrieving SummaryDoc documents: 100%|█████████| 1/1 [00:00<00:00, 19972.88it/s]\n",
      "Retrieving SummaryDoc documents: 100%|█████████| 1/1 [00:00<00:00, 21290.88it/s]\n",
      "Retrieving SummaryDoc documents: 100%|█████████| 1/1 [00:00<00:00, 19599.55it/s]\n",
      "Retrieving SummaryDoc documents: 100%|█████████| 1/1 [00:00<00:00, 21620.12it/s]\n",
      "Retrieving SummaryDoc documents: 100%|█████████| 1/1 [00:00<00:00, 21732.15it/s]\n",
      "Retrieving SummaryDoc documents: 100%|█████████| 1/1 [00:00<00:00, 22192.08it/s]\n",
      "Retrieving SummaryDoc documents: 100%|█████████| 1/1 [00:00<00:00, 29537.35it/s]\n",
      "Retrieving SummaryDoc documents: 100%|█████████| 1/1 [00:00<00:00, 19239.93it/s]\n",
      "Retrieving SummaryDoc documents: 100%|█████████| 1/1 [00:00<00:00, 21732.15it/s]\n",
      "Retrieving SummaryDoc documents: 100%|█████████| 1/1 [00:00<00:00, 23301.69it/s]\n",
      "Retrieving SummaryDoc documents: 100%|█████████| 1/1 [00:00<00:00, 24385.49it/s]\n",
      "Retrieving SummaryDoc documents: 100%|█████████| 1/1 [00:00<00:00, 22192.08it/s]\n",
      "Retrieving SummaryDoc documents: 100%|█████████| 1/1 [00:00<00:00, 23831.27it/s]\n",
      "Retrieving SummaryDoc documents: 100%|█████████| 1/1 [00:00<00:00, 22310.13it/s]\n",
      "Retrieving SummaryDoc documents: 100%|█████████| 1/1 [00:00<00:00, 22671.91it/s]\n",
      "Retrieving SummaryDoc documents: 100%|█████████| 1/1 [00:00<00:00, 22671.91it/s]\n",
      "Retrieving SummaryDoc documents: 100%|█████████| 1/1 [00:00<00:00, 22671.91it/s]\n",
      "Retrieving SummaryDoc documents: 100%|█████████| 1/1 [00:00<00:00, 22671.91it/s]\n",
      "Retrieving SummaryDoc documents: 100%|█████████| 1/1 [00:00<00:00, 26379.27it/s]\n",
      "Retrieving SummaryDoc documents: 100%|█████████| 1/1 [00:00<00:00, 21732.15it/s]\n",
      "Retrieving SummaryDoc documents: 100%|█████████| 1/1 [00:00<00:00, 28532.68it/s]\n",
      "Retrieving SummaryDoc documents: 100%|█████████| 1/1 [00:00<00:00, 23172.95it/s]\n",
      "Retrieving SummaryDoc documents: 100%|█████████| 1/1 [00:00<00:00, 23172.95it/s]\n",
      "Retrieving SummaryDoc documents: 100%|█████████| 1/1 [00:00<00:00, 20867.18it/s]\n",
      "Retrieving SummaryDoc documents: 100%|█████████| 1/1 [00:00<00:00, 22671.91it/s]\n",
      "Retrieving SummaryDoc documents: 100%|█████████| 1/1 [00:00<00:00, 23831.27it/s]\n",
      "Retrieving SummaryDoc documents: 100%|█████████| 1/1 [00:00<00:00, 23301.69it/s]\n",
      "Retrieving SummaryDoc documents: 100%|█████████| 1/1 [00:00<00:00, 25731.93it/s]\n",
      "Retrieving SummaryDoc documents: 100%|█████████| 1/1 [00:00<00:00, 23831.27it/s]\n",
      "Retrieving SummaryDoc documents: 100%|█████████| 1/1 [00:00<00:00, 22671.91it/s]\n",
      "Retrieving SummaryDoc documents: 100%|█████████| 1/1 [00:00<00:00, 24966.10it/s]\n",
      "Retrieving SummaryDoc documents: 100%|█████████| 1/1 [00:00<00:00, 23831.27it/s]\n",
      "Retrieving SummaryDoc documents: 100%|█████████| 1/1 [00:00<00:00, 22671.91it/s]\n",
      "Retrieving SummaryDoc documents: 100%|█████████| 1/1 [00:00<00:00, 21732.15it/s]\n",
      "Retrieving SummaryDoc documents: 100%|█████████| 1/1 [00:00<00:00, 23831.27it/s]\n",
      "Retrieving SummaryDoc documents: 100%|█████████| 1/1 [00:00<00:00, 20460.02it/s]\n",
      "Retrieving SummaryDoc documents: 100%|█████████| 1/1 [00:00<00:00, 24385.49it/s]\n",
      "Retrieving SummaryDoc documents: 100%|█████████| 1/1 [00:00<00:00, 24528.09it/s]\n",
      "Retrieving SummaryDoc documents: 100%|█████████| 1/1 [00:00<00:00, 23831.27it/s]\n",
      "Retrieving SummaryDoc documents: 100%|█████████| 1/1 [00:00<00:00, 22795.13it/s]\n",
      "Retrieving SummaryDoc documents: 100%|█████████| 1/1 [00:00<00:00, 23831.27it/s]\n",
      "Retrieving SummaryDoc documents: 100%|█████████| 1/1 [00:00<00:00, 22671.91it/s]\n",
      "Retrieving SummaryDoc documents: 100%|█████████| 1/1 [00:00<00:00, 23301.69it/s]\n",
      "Retrieving SummaryDoc documents: 0it [00:00, ?it/s]\n"
     ]
    },
    {
     "name": "stdout",
     "output_type": "stream",
     "text": [
      "Error list index out of range occured for material id: mp-777555\n"
     ]
    },
    {
     "name": "stderr",
     "output_type": "stream",
     "text": [
      "Retrieving SummaryDoc documents: 100%|█████████| 1/1 [00:00<00:00, 23831.27it/s]\n",
      "Retrieving SummaryDoc documents: 100%|█████████| 1/1 [00:00<00:00, 25115.59it/s]\n",
      "Retrieving SummaryDoc documents: 100%|█████████| 1/1 [00:00<00:00, 22192.08it/s]\n",
      "Retrieving SummaryDoc documents: 100%|█████████| 1/1 [00:00<00:00, 24244.53it/s]\n",
      "Retrieving SummaryDoc documents: 100%|█████████| 1/1 [00:00<00:00, 22192.08it/s]\n",
      "Retrieving SummaryDoc documents: 100%|█████████| 1/1 [00:00<00:00, 22671.91it/s]\n",
      "Retrieving SummaryDoc documents: 100%|█████████| 1/1 [00:00<00:00, 23172.95it/s]\n",
      "Retrieving SummaryDoc documents: 100%|█████████| 1/1 [00:00<00:00, 22671.91it/s]\n",
      "Retrieving SummaryDoc documents: 100%|█████████| 1/1 [00:00<00:00, 23696.63it/s]\n",
      "Retrieving SummaryDoc documents: 100%|█████████| 1/1 [00:00<00:00, 23301.69it/s]\n",
      "Retrieving SummaryDoc documents: 100%|█████████| 1/1 [00:00<00:00, 24385.49it/s]\n",
      "Retrieving SummaryDoc documents: 100%|█████████| 1/1 [00:00<00:00, 22795.13it/s]\n",
      "Retrieving SummaryDoc documents: 100%|█████████| 1/1 [00:00<00:00, 23831.27it/s]\n",
      "Retrieving SummaryDoc documents: 100%|█████████| 1/1 [00:00<00:00, 23172.95it/s]\n",
      "Retrieving SummaryDoc documents: 100%|█████████| 1/1 [00:00<00:00, 21732.15it/s]\n",
      "Retrieving SummaryDoc documents: 100%|█████████| 1/1 [00:00<00:00, 23172.95it/s]\n",
      "Retrieving SummaryDoc documents: 100%|█████████| 1/1 [00:00<00:00, 19691.57it/s]\n",
      "Retrieving SummaryDoc documents: 100%|█████████| 1/1 [00:00<00:00, 22192.08it/s]\n",
      "Retrieving SummaryDoc documents: 0it [00:00, ?it/s]\n"
     ]
    },
    {
     "name": "stdout",
     "output_type": "stream",
     "text": [
      "Error list index out of range occured for material id: mp-763136\n"
     ]
    },
    {
     "name": "stderr",
     "output_type": "stream",
     "text": [
      "Retrieving SummaryDoc documents: 100%|█████████| 1/1 [00:00<00:00, 23831.27it/s]\n",
      "Retrieving SummaryDoc documents: 100%|█████████| 1/1 [00:00<00:00, 23301.69it/s]\n",
      "Retrieving SummaryDoc documents: 100%|█████████| 1/1 [00:00<00:00, 24966.10it/s]\n",
      "Retrieving SummaryDoc documents: 100%|█████████| 1/1 [00:00<00:00, 23831.27it/s]\n",
      "Retrieving SummaryDoc documents: 100%|█████████| 1/1 [00:00<00:00, 19239.93it/s]\n",
      "Retrieving SummaryDoc documents: 100%|█████████| 1/1 [00:00<00:00, 22671.91it/s]\n",
      "Retrieving SummaryDoc documents: 100%|█████████| 1/1 [00:00<00:00, 23831.27it/s]\n",
      "Retrieving SummaryDoc documents: 100%|█████████| 1/1 [00:00<00:00, 24385.49it/s]\n",
      "Retrieving SummaryDoc documents: 100%|█████████| 1/1 [00:00<00:00, 23831.27it/s]\n",
      "Retrieving SummaryDoc documents: 100%|█████████| 1/1 [00:00<00:00, 25115.59it/s]\n",
      "Retrieving SummaryDoc documents: 100%|█████████| 1/1 [00:00<00:00, 24385.49it/s]\n",
      "Retrieving SummaryDoc documents: 100%|█████████| 1/1 [00:00<00:00, 29537.35it/s]\n",
      "Retrieving SummaryDoc documents: 100%|█████████| 1/1 [00:00<00:00, 22671.91it/s]\n",
      "Retrieving SummaryDoc documents: 100%|█████████| 1/1 [00:00<00:00, 22919.69it/s]\n",
      "Retrieving SummaryDoc documents: 100%|█████████| 1/1 [00:00<00:00, 22671.91it/s]\n",
      "Retrieving SummaryDoc documents: 100%|█████████| 1/1 [00:00<00:00, 23172.95it/s]\n",
      "Retrieving SummaryDoc documents: 100%|█████████| 1/1 [00:00<00:00, 22192.08it/s]\n",
      "Retrieving SummaryDoc documents: 100%|█████████| 1/1 [00:00<00:00, 23831.27it/s]\n",
      "Retrieving SummaryDoc documents: 100%|█████████| 1/1 [00:00<00:00, 30393.51it/s]\n",
      "Retrieving SummaryDoc documents: 100%|█████████| 1/1 [00:00<00:00, 30393.51it/s]\n",
      "Retrieving SummaryDoc documents: 100%|█████████| 1/1 [00:00<00:00, 25420.02it/s]\n",
      "Retrieving SummaryDoc documents: 0it [00:00, ?it/s]\n"
     ]
    },
    {
     "name": "stdout",
     "output_type": "stream",
     "text": [
      "Error list index out of range occured for material id: mp-765967\n"
     ]
    },
    {
     "name": "stderr",
     "output_type": "stream",
     "text": [
      "Retrieving SummaryDoc documents: 100%|█████████| 1/1 [00:00<00:00, 18477.11it/s]\n",
      "Retrieving SummaryDoc documents: 100%|█████████| 1/1 [00:00<00:00, 24818.37it/s]\n",
      "Retrieving SummaryDoc documents: 100%|█████████| 1/1 [00:00<00:00, 22671.91it/s]\n",
      "Retrieving SummaryDoc documents: 100%|█████████| 1/1 [00:00<00:00, 30174.85it/s]\n",
      "Retrieving SummaryDoc documents: 100%|█████████| 1/1 [00:00<00:00, 18808.54it/s]\n",
      "Retrieving SummaryDoc documents: 100%|█████████| 1/1 [00:00<00:00, 21732.15it/s]\n",
      "Retrieving SummaryDoc documents: 100%|█████████| 1/1 [00:00<00:00, 19599.55it/s]\n",
      "Retrieving SummaryDoc documents: 100%|█████████| 1/1 [00:00<00:00, 14768.68it/s]\n",
      "Retrieving SummaryDoc documents: 100%|█████████| 1/1 [00:00<00:00, 22671.91it/s]\n",
      "Retrieving SummaryDoc documents: 100%|█████████| 1/1 [00:00<00:00, 21183.35it/s]\n",
      "Retrieving SummaryDoc documents: 100%|█████████| 1/1 [00:00<00:00, 25731.93it/s]\n",
      "Retrieving SummaryDoc documents: 100%|█████████| 1/1 [00:00<00:00, 22192.08it/s]\n",
      "Retrieving SummaryDoc documents: 100%|█████████| 1/1 [00:00<00:00, 22192.08it/s]\n",
      "Retrieving SummaryDoc documents: 100%|█████████| 1/1 [00:00<00:00, 22671.91it/s]\n",
      "Retrieving SummaryDoc documents: 100%|█████████| 1/1 [00:00<00:00, 19878.22it/s]\n",
      "Retrieving SummaryDoc documents: 100%|█████████| 1/1 [00:00<00:00, 22192.08it/s]\n",
      "Retrieving SummaryDoc documents: 100%|█████████| 1/1 [00:00<00:00, 22671.91it/s]\n",
      "Retrieving SummaryDoc documents: 100%|█████████| 1/1 [00:00<00:00, 20971.52it/s]\n",
      "Retrieving SummaryDoc documents: 100%|█████████| 1/1 [00:00<00:00, 28728.11it/s]\n",
      "Retrieving SummaryDoc documents: 100%|█████████| 1/1 [00:00<00:00, 20763.88it/s]\n",
      "Retrieving SummaryDoc documents: 100%|█████████| 1/1 [00:00<00:00, 21845.33it/s]\n",
      "Retrieving SummaryDoc documents: 100%|█████████| 1/1 [00:00<00:00, 21845.33it/s]\n",
      "Retrieving SummaryDoc documents: 100%|█████████| 1/1 [00:00<00:00, 19599.55it/s]\n",
      "Retrieving SummaryDoc documents: 100%|█████████| 1/1 [00:00<00:00, 27060.03it/s]\n",
      "Retrieving SummaryDoc documents: 100%|█████████| 1/1 [00:00<00:00, 27776.85it/s]\n",
      "Retrieving SummaryDoc documents: 100%|█████████| 1/1 [00:00<00:00, 19972.88it/s]\n",
      "Retrieving SummaryDoc documents: 100%|█████████| 1/1 [00:00<00:00, 23831.27it/s]\n",
      "Retrieving SummaryDoc documents: 100%|█████████| 1/1 [00:00<00:00, 22919.69it/s]\n",
      "Retrieving SummaryDoc documents: 100%|█████████| 1/1 [00:00<00:00, 22192.08it/s]\n",
      "Retrieving SummaryDoc documents: 100%|█████████| 1/1 [00:00<00:00, 23831.27it/s]\n",
      "Retrieving SummaryDoc documents: 100%|█████████| 1/1 [00:00<00:00, 26214.40it/s]\n",
      "Retrieving SummaryDoc documents: 0it [00:00, ?it/s]\n"
     ]
    },
    {
     "name": "stdout",
     "output_type": "stream",
     "text": [
      "Error list index out of range occured for material id: mp-778717\n"
     ]
    },
    {
     "name": "stderr",
     "output_type": "stream",
     "text": [
      "Retrieving SummaryDoc documents: 0it [00:00, ?it/s]\n"
     ]
    },
    {
     "name": "stdout",
     "output_type": "stream",
     "text": [
      "Error list index out of range occured for material id: mp-776230\n"
     ]
    },
    {
     "name": "stderr",
     "output_type": "stream",
     "text": [
      "Retrieving SummaryDoc documents: 100%|█████████| 1/1 [00:00<00:00, 24966.10it/s]\n",
      "Retrieving SummaryDoc documents: 100%|█████████| 1/1 [00:00<00:00, 22671.91it/s]\n",
      "Retrieving SummaryDoc documents: 100%|█████████| 1/1 [00:00<00:00, 27594.11it/s]\n",
      "Retrieving SummaryDoc documents: 100%|█████████| 1/1 [00:00<00:00, 22310.13it/s]\n",
      "Retrieving SummaryDoc documents: 100%|█████████| 1/1 [00:00<00:00, 22192.08it/s]\n",
      "Retrieving SummaryDoc documents: 100%|█████████| 1/1 [00:00<00:00, 22795.13it/s]\n",
      "Retrieving SummaryDoc documents: 100%|█████████| 1/1 [00:00<00:00, 21620.12it/s]\n",
      "Retrieving SummaryDoc documents: 100%|█████████| 1/1 [00:00<00:00, 23831.27it/s]\n",
      "Retrieving SummaryDoc documents: 100%|█████████| 1/1 [00:00<00:00, 24385.49it/s]\n",
      "Retrieving SummaryDoc documents: 100%|█████████| 1/1 [00:00<00:00, 23301.69it/s]\n",
      "Retrieving SummaryDoc documents: 100%|█████████| 1/1 [00:00<00:00, 25731.93it/s]\n",
      "Retrieving SummaryDoc documents: 100%|█████████| 1/1 [00:00<00:00, 23831.27it/s]\n",
      "Retrieving SummaryDoc documents: 100%|█████████| 1/1 [00:00<00:00, 21732.15it/s]\n",
      "Retrieving SummaryDoc documents: 100%|█████████| 1/1 [00:00<00:00, 24385.49it/s]\n",
      "Retrieving SummaryDoc documents: 100%|█████████| 1/1 [00:00<00:00, 23172.95it/s]\n",
      "Retrieving SummaryDoc documents: 100%|█████████| 1/1 [00:00<00:00, 22671.91it/s]\n",
      "Retrieving SummaryDoc documents: 100%|█████████| 1/1 [00:00<00:00, 21183.35it/s]\n",
      "Retrieving SummaryDoc documents: 100%|█████████| 1/1 [00:00<00:00, 22192.08it/s]\n",
      "Retrieving SummaryDoc documents: 100%|█████████| 1/1 [00:00<00:00, 24244.53it/s]\n",
      "Retrieving SummaryDoc documents: 100%|█████████| 1/1 [00:00<00:00, 18558.87it/s]\n",
      "Retrieving SummaryDoc documents: 100%|█████████| 1/1 [00:00<00:00, 21732.15it/s]\n",
      "Retrieving SummaryDoc documents: 100%|█████████| 1/1 [00:00<00:00, 22310.13it/s]\n",
      "Retrieving SummaryDoc documents: 100%|█████████| 1/1 [00:00<00:00, 27235.74it/s]\n",
      "Retrieving SummaryDoc documents: 100%|█████████| 1/1 [00:00<00:00, 25575.02it/s]\n",
      "Retrieving SummaryDoc documents: 100%|█████████| 1/1 [00:00<00:00, 18808.54it/s]\n",
      "Retrieving SummaryDoc documents: 100%|█████████| 1/1 [00:00<00:00, 22671.91it/s]\n",
      "Retrieving SummaryDoc documents: 100%|█████████| 1/1 [00:00<00:00, 22192.08it/s]\n",
      "Retrieving SummaryDoc documents: 100%|█████████| 1/1 [00:00<00:00, 27060.03it/s]\n",
      "Retrieving SummaryDoc documents: 100%|█████████| 1/1 [00:00<00:00, 30393.51it/s]\n",
      "Retrieving SummaryDoc documents: 100%|█████████| 1/1 [00:00<00:00, 20763.88it/s]\n",
      "Retrieving SummaryDoc documents: 100%|█████████| 1/1 [00:00<00:00, 27962.03it/s]\n",
      "Retrieving SummaryDoc documents: 100%|█████████| 1/1 [00:00<00:00, 30393.51it/s]\n",
      "Retrieving SummaryDoc documents: 100%|█████████| 1/1 [00:00<00:00, 30174.85it/s]\n",
      "Retrieving SummaryDoc documents: 100%|█████████| 1/1 [00:00<00:00, 30174.85it/s]\n",
      "Retrieving SummaryDoc documents: 100%|█████████| 1/1 [00:00<00:00, 25731.93it/s]\n",
      "Retrieving SummaryDoc documents: 100%|█████████| 1/1 [00:00<00:00, 21732.15it/s]\n",
      "Retrieving SummaryDoc documents: 100%|█████████| 1/1 [00:00<00:00, 23301.69it/s]\n",
      "Retrieving SummaryDoc documents: 100%|█████████| 1/1 [00:00<00:00, 21732.15it/s]\n",
      "Retrieving SummaryDoc documents: 100%|█████████| 1/1 [00:00<00:00, 23696.63it/s]\n",
      "Retrieving SummaryDoc documents: 100%|█████████| 1/1 [00:00<00:00, 23301.69it/s]\n",
      "Retrieving SummaryDoc documents: 100%|█████████| 1/1 [00:00<00:00, 20460.02it/s]\n",
      "Retrieving SummaryDoc documents: 100%|█████████| 1/1 [00:00<00:00, 24385.49it/s]\n",
      "Retrieving SummaryDoc documents: 100%|█████████| 1/1 [00:00<00:00, 22192.08it/s]\n",
      "Retrieving SummaryDoc documents: 100%|█████████| 1/1 [00:00<00:00, 27776.85it/s]\n",
      "Retrieving SummaryDoc documents: 100%|█████████| 1/1 [00:00<00:00, 23172.95it/s]\n",
      "Retrieving SummaryDoc documents: 100%|█████████| 1/1 [00:00<00:00, 27060.03it/s]\n",
      "Retrieving SummaryDoc documents: 100%|█████████| 1/1 [00:00<00:00, 22310.13it/s]\n",
      "Retrieving SummaryDoc documents: 100%|█████████| 1/1 [00:00<00:00, 27060.03it/s]\n",
      "Retrieving SummaryDoc documents: 100%|█████████| 1/1 [00:00<00:00, 23172.95it/s]\n",
      "Retrieving SummaryDoc documents: 100%|█████████| 1/1 [00:00<00:00, 26214.40it/s]\n",
      "Retrieving SummaryDoc documents: 0it [00:00, ?it/s]\n"
     ]
    },
    {
     "name": "stdout",
     "output_type": "stream",
     "text": [
      "Error list index out of range occured for material id: mp-767367\n"
     ]
    },
    {
     "name": "stderr",
     "output_type": "stream",
     "text": [
      "Retrieving SummaryDoc documents: 100%|█████████| 1/1 [00:00<00:00, 25115.59it/s]\n",
      "Retrieving SummaryDoc documents: 100%|█████████| 1/1 [00:00<00:00, 21845.33it/s]\n",
      "Retrieving SummaryDoc documents: 100%|█████████| 1/1 [00:00<00:00, 28532.68it/s]\n",
      "Retrieving SummaryDoc documents: 100%|█████████| 1/1 [00:00<00:00, 22671.91it/s]\n",
      "Retrieving SummaryDoc documents: 100%|█████████| 1/1 [00:00<00:00, 24818.37it/s]\n",
      "Retrieving SummaryDoc documents: 100%|█████████| 1/1 [00:00<00:00, 22671.91it/s]\n",
      "Retrieving SummaryDoc documents: 100%|█████████| 1/1 [00:00<00:00, 22192.08it/s]\n",
      "Retrieving SummaryDoc documents: 100%|█████████| 1/1 [00:00<00:00, 25731.93it/s]\n",
      "Retrieving SummaryDoc documents: 100%|█████████| 1/1 [00:00<00:00, 20360.70it/s]\n",
      "Retrieving SummaryDoc documents: 0it [00:00, ?it/s]\n"
     ]
    },
    {
     "name": "stdout",
     "output_type": "stream",
     "text": [
      "Error list index out of range occured for material id: mp-715324\n"
     ]
    },
    {
     "name": "stderr",
     "output_type": "stream",
     "text": [
      "Retrieving SummaryDoc documents: 100%|█████████| 1/1 [00:00<00:00, 16448.25it/s]\n",
      "Retrieving SummaryDoc documents: 100%|█████████| 1/1 [00:00<00:00, 27594.11it/s]\n",
      "Retrieving SummaryDoc documents: 100%|█████████| 1/1 [00:00<00:00, 22919.69it/s]\n",
      "Retrieving SummaryDoc documents: 0it [00:00, ?it/s]\n"
     ]
    },
    {
     "name": "stdout",
     "output_type": "stream",
     "text": [
      "Error list index out of range occured for material id: mp-771841\n"
     ]
    },
    {
     "name": "stderr",
     "output_type": "stream",
     "text": [
      "Retrieving SummaryDoc documents: 100%|█████████| 1/1 [00:00<00:00, 17848.10it/s]\n",
      "Retrieving SummaryDoc documents: 100%|█████████| 1/1 [00:00<00:00, 24966.10it/s]\n",
      "Retrieving SummaryDoc documents: 100%|█████████| 1/1 [00:00<00:00, 26214.40it/s]\n",
      "Retrieving SummaryDoc documents: 100%|█████████| 1/1 [00:00<00:00, 22192.08it/s]\n",
      "Retrieving SummaryDoc documents: 100%|█████████| 1/1 [00:00<00:00, 22192.08it/s]\n",
      "Retrieving SummaryDoc documents: 100%|█████████| 1/1 [00:00<00:00, 19599.55it/s]\n",
      "Retrieving SummaryDoc documents: 100%|█████████| 1/1 [00:00<00:00, 24244.53it/s]\n",
      "Retrieving SummaryDoc documents: 100%|█████████| 1/1 [00:00<00:00, 21732.15it/s]\n",
      "Retrieving SummaryDoc documents: 100%|█████████| 1/1 [00:00<00:00, 22671.91it/s]\n",
      "Retrieving SummaryDoc documents: 100%|█████████| 1/1 [00:00<00:00, 20360.70it/s]\n",
      "Retrieving SummaryDoc documents: 100%|█████████| 1/1 [00:00<00:00, 21399.51it/s]\n",
      "Retrieving SummaryDoc documents: 100%|█████████| 1/1 [00:00<00:00, 21732.15it/s]\n",
      "Retrieving SummaryDoc documents: 100%|█████████| 1/1 [00:00<00:00, 21732.15it/s]\n",
      "Retrieving SummaryDoc documents: 100%|█████████| 1/1 [00:00<00:00, 16384.00it/s]\n",
      "Retrieving SummaryDoc documents: 100%|█████████| 1/1 [00:00<00:00, 26886.56it/s]\n",
      "Retrieving SummaryDoc documents: 100%|█████████| 1/1 [00:00<00:00, 19972.88it/s]\n",
      "Retrieving SummaryDoc documents: 0it [00:00, ?it/s]\n"
     ]
    },
    {
     "name": "stdout",
     "output_type": "stream",
     "text": [
      "Error list index out of range occured for material id: mp-764226\n"
     ]
    },
    {
     "name": "stderr",
     "output_type": "stream",
     "text": [
      "Retrieving SummaryDoc documents: 100%|██████████| 1/1 [00:00<00:00, 4718.00it/s]\n",
      "Retrieving SummaryDoc documents: 100%|█████████| 1/1 [00:00<00:00, 26214.40it/s]\n",
      "Retrieving SummaryDoc documents: 100%|█████████| 1/1 [00:00<00:00, 26379.27it/s]\n",
      "Retrieving SummaryDoc documents: 100%|█████████| 1/1 [00:00<00:00, 23831.27it/s]\n",
      "Retrieving SummaryDoc documents: 100%|█████████| 1/1 [00:00<00:00, 20360.70it/s]\n",
      "Retrieving SummaryDoc documents: 100%|█████████| 1/1 [00:00<00:00, 22671.91it/s]\n",
      "Retrieving SummaryDoc documents: 100%|█████████| 1/1 [00:00<00:00, 23831.27it/s]\n",
      "Retrieving SummaryDoc documents: 100%|█████████| 1/1 [00:00<00:00, 22192.08it/s]\n",
      "Retrieving SummaryDoc documents: 100%|█████████| 1/1 [00:00<00:00, 22795.13it/s]\n",
      "Retrieving SummaryDoc documents: 100%|█████████| 1/1 [00:00<00:00, 22795.13it/s]\n",
      "Retrieving SummaryDoc documents: 100%|█████████| 1/1 [00:00<00:00, 22192.08it/s]\n",
      "Retrieving SummaryDoc documents: 100%|█████████| 1/1 [00:00<00:00, 22192.08it/s]\n",
      "Retrieving SummaryDoc documents: 100%|█████████| 1/1 [00:00<00:00, 25731.93it/s]\n",
      "Retrieving SummaryDoc documents: 100%|█████████| 1/1 [00:00<00:00, 20460.02it/s]\n",
      "Retrieving SummaryDoc documents: 100%|█████████| 1/1 [00:00<00:00, 21732.15it/s]\n",
      "Retrieving SummaryDoc documents: 100%|█████████| 1/1 [00:00<00:00, 23831.27it/s]\n",
      "Retrieving SummaryDoc documents: 100%|█████████| 1/1 [00:00<00:00, 20867.18it/s]\n",
      "Retrieving SummaryDoc documents: 100%|█████████| 1/1 [00:00<00:00, 21732.15it/s]\n",
      "Retrieving SummaryDoc documents: 100%|█████████| 1/1 [00:00<00:00, 22192.08it/s]\n",
      "Retrieving SummaryDoc documents: 100%|█████████| 1/1 [00:00<00:00, 20971.52it/s]\n",
      "Retrieving SummaryDoc documents: 100%|█████████| 1/1 [00:00<00:00, 22671.91it/s]\n",
      "Retrieving SummaryDoc documents: 100%|█████████| 1/1 [00:00<00:00, 22192.08it/s]\n",
      "Retrieving SummaryDoc documents: 100%|█████████| 1/1 [00:00<00:00, 23301.69it/s]\n",
      "Retrieving SummaryDoc documents: 100%|█████████| 1/1 [00:00<00:00, 25575.02it/s]\n",
      "Retrieving SummaryDoc documents: 100%|█████████| 1/1 [00:00<00:00, 22671.91it/s]\n",
      "Retrieving SummaryDoc documents: 100%|█████████| 1/1 [00:00<00:00, 18157.16it/s]\n",
      "Retrieving SummaryDoc documents: 100%|█████████| 1/1 [00:00<00:00, 13662.23it/s]\n",
      "Retrieving SummaryDoc documents: 100%|█████████| 1/1 [00:00<00:00, 21732.15it/s]\n",
      "Retrieving SummaryDoc documents: 100%|█████████| 1/1 [00:00<00:00, 22671.91it/s]\n",
      "Retrieving SummaryDoc documents: 100%|█████████| 1/1 [00:00<00:00, 21290.88it/s]\n",
      "Retrieving SummaryDoc documents: 100%|█████████| 1/1 [00:00<00:00, 22192.08it/s]\n",
      "Retrieving SummaryDoc documents: 100%|█████████| 1/1 [00:00<00:00, 22192.08it/s]\n",
      "Retrieving SummaryDoc documents: 100%|█████████| 1/1 [00:00<00:00, 18157.16it/s]\n",
      "Retrieving SummaryDoc documents: 100%|█████████| 1/1 [00:00<00:00, 18157.16it/s]\n",
      "Retrieving SummaryDoc documents: 100%|█████████| 1/1 [00:00<00:00, 27776.85it/s]\n",
      "Retrieving SummaryDoc documents: 100%|█████████| 1/1 [00:00<00:00, 24385.49it/s]\n",
      "Retrieving SummaryDoc documents: 100%|█████████| 1/1 [00:00<00:00, 23831.27it/s]\n",
      "Retrieving SummaryDoc documents: 100%|█████████| 1/1 [00:00<00:00, 22671.91it/s]\n",
      "Retrieving SummaryDoc documents: 100%|█████████| 1/1 [00:00<00:00, 22310.13it/s]\n",
      "Retrieving SummaryDoc documents: 100%|█████████| 1/1 [00:00<00:00, 20971.52it/s]\n",
      "Retrieving SummaryDoc documents: 100%|█████████| 1/1 [00:00<00:00, 29330.80it/s]\n",
      "Retrieving SummaryDoc documents: 100%|█████████| 1/1 [00:00<00:00, 22192.08it/s]\n",
      "Retrieving SummaryDoc documents: 100%|█████████| 1/1 [00:00<00:00, 23301.69it/s]\n",
      "Retrieving SummaryDoc documents: 100%|█████████| 1/1 [00:00<00:00, 22310.13it/s]\n",
      "Retrieving SummaryDoc documents: 100%|█████████| 1/1 [00:00<00:00, 22310.13it/s]\n",
      "Retrieving SummaryDoc documents: 100%|█████████| 1/1 [00:00<00:00, 22192.08it/s]\n",
      "Retrieving SummaryDoc documents: 100%|█████████| 1/1 [00:00<00:00, 21845.33it/s]\n",
      "Retrieving SummaryDoc documents: 100%|█████████| 1/1 [00:00<00:00, 19239.93it/s]\n",
      "Retrieving SummaryDoc documents: 100%|█████████| 1/1 [00:00<00:00, 22310.13it/s]\n",
      "Retrieving SummaryDoc documents: 100%|█████████| 1/1 [00:00<00:00, 22671.91it/s]\n",
      "Retrieving SummaryDoc documents: 100%|█████████| 1/1 [00:00<00:00, 24385.49it/s]\n",
      "Retrieving SummaryDoc documents: 100%|█████████| 1/1 [00:00<00:00, 22795.13it/s]\n",
      "Retrieving SummaryDoc documents: 100%|█████████| 1/1 [00:00<00:00, 22310.13it/s]\n",
      "Retrieving SummaryDoc documents: 100%|█████████| 1/1 [00:00<00:00, 20867.18it/s]\n",
      "Retrieving SummaryDoc documents: 0it [00:00, ?it/s]\n"
     ]
    },
    {
     "name": "stdout",
     "output_type": "stream",
     "text": [
      "Error list index out of range occured for material id: mp-763351\n"
     ]
    },
    {
     "name": "stderr",
     "output_type": "stream",
     "text": [
      "Retrieving SummaryDoc documents: 100%|█████████| 1/1 [00:00<00:00, 21620.12it/s]\n",
      "Retrieving SummaryDoc documents: 0it [00:00, ?it/s]\n"
     ]
    },
    {
     "name": "stdout",
     "output_type": "stream",
     "text": [
      "Error list index out of range occured for material id: mp-25094\n"
     ]
    },
    {
     "name": "stderr",
     "output_type": "stream",
     "text": [
      "Retrieving SummaryDoc documents: 100%|█████████| 1/1 [00:00<00:00, 23831.27it/s]\n",
      "Retrieving SummaryDoc documents: 100%|█████████| 1/1 [00:00<00:00, 22795.13it/s]\n",
      "Retrieving SummaryDoc documents: 100%|█████████| 1/1 [00:00<00:00, 22671.91it/s]\n",
      "Retrieving SummaryDoc documents: 100%|█████████| 1/1 [00:00<00:00, 23172.95it/s]\n",
      "Retrieving SummaryDoc documents: 100%|█████████| 1/1 [00:00<00:00, 20360.70it/s]\n",
      "Retrieving SummaryDoc documents: 100%|█████████| 1/1 [00:00<00:00, 23301.69it/s]\n",
      "Retrieving SummaryDoc documents: 100%|█████████| 1/1 [00:00<00:00, 23172.95it/s]\n",
      "Retrieving SummaryDoc documents: 100%|█████████| 1/1 [00:00<00:00, 23696.63it/s]\n",
      "Retrieving SummaryDoc documents: 100%|█████████| 1/1 [00:00<00:00, 20360.70it/s]\n",
      "Retrieving SummaryDoc documents: 100%|█████████| 1/1 [00:00<00:00, 23301.69it/s]\n",
      "Retrieving SummaryDoc documents: 100%|█████████| 1/1 [00:00<00:00, 24385.49it/s]\n",
      "Retrieving SummaryDoc documents: 100%|█████████| 1/1 [00:00<00:00, 16644.06it/s]\n",
      "Retrieving SummaryDoc documents: 100%|█████████| 1/1 [00:00<00:00, 20763.88it/s]\n",
      "Retrieving SummaryDoc documents: 100%|█████████| 1/1 [00:00<00:00, 20763.88it/s]\n",
      "Retrieving SummaryDoc documents: 100%|█████████| 1/1 [00:00<00:00, 13148.29it/s]\n",
      "Retrieving SummaryDoc documents: 100%|█████████| 1/1 [00:00<00:00, 18157.16it/s]\n",
      "Retrieving SummaryDoc documents: 100%|█████████| 1/1 [00:00<00:00, 19239.93it/s]\n",
      "Retrieving SummaryDoc documents: 100%|█████████| 1/1 [00:00<00:00, 20068.44it/s]\n",
      "Retrieving SummaryDoc documents: 100%|█████████| 1/1 [00:00<00:00, 16644.06it/s]\n",
      "Retrieving SummaryDoc documents: 100%|█████████| 1/1 [00:00<00:00, 15887.52it/s]\n",
      "Retrieving SummaryDoc documents: 100%|█████████| 1/1 [00:00<00:00, 20360.70it/s]\n",
      "Retrieving SummaryDoc documents: 100%|█████████| 1/1 [00:00<00:00, 17260.51it/s]\n",
      "Retrieving SummaryDoc documents: 100%|█████████| 1/1 [00:00<00:00, 19239.93it/s]\n",
      "Retrieving SummaryDoc documents: 100%|█████████| 1/1 [00:00<00:00, 15196.75it/s]\n",
      "Retrieving SummaryDoc documents: 100%|█████████| 1/1 [00:00<00:00, 24385.49it/s]\n",
      "Retrieving SummaryDoc documents: 100%|█████████| 1/1 [00:00<00:00, 20360.70it/s]\n",
      "Retrieving SummaryDoc documents: 100%|█████████| 1/1 [00:00<00:00, 22671.91it/s]\n",
      "Retrieving SummaryDoc documents: 100%|█████████| 1/1 [00:00<00:00, 22671.91it/s]\n",
      "Retrieving SummaryDoc documents: 100%|█████████| 1/1 [00:00<00:00, 22192.08it/s]\n",
      "Retrieving SummaryDoc documents: 100%|█████████| 1/1 [00:00<00:00, 26886.56it/s]\n",
      "Retrieving SummaryDoc documents: 100%|█████████| 1/1 [00:00<00:00, 19599.55it/s]\n",
      "Retrieving SummaryDoc documents: 0it [00:00, ?it/s]\n"
     ]
    },
    {
     "name": "stdout",
     "output_type": "stream",
     "text": [
      "Error list index out of range occured for material id: mp-715590\n"
     ]
    },
    {
     "name": "stderr",
     "output_type": "stream",
     "text": [
      "Retrieving SummaryDoc documents: 100%|█████████| 1/1 [00:00<00:00, 23831.27it/s]\n",
      "Retrieving SummaryDoc documents: 100%|█████████| 1/1 [00:00<00:00, 24966.10it/s]\n",
      "Retrieving SummaryDoc documents: 100%|█████████| 1/1 [00:00<00:00, 23301.69it/s]\n",
      "Retrieving SummaryDoc documents: 100%|█████████| 1/1 [00:00<00:00, 23301.69it/s]\n",
      "Retrieving SummaryDoc documents: 100%|█████████| 1/1 [00:00<00:00, 24385.49it/s]\n",
      "Retrieving SummaryDoc documents: 100%|█████████| 1/1 [00:00<00:00, 21732.15it/s]\n",
      "Retrieving SummaryDoc documents: 100%|█████████| 1/1 [00:00<00:00, 21732.15it/s]\n",
      "Retrieving SummaryDoc documents: 0it [00:00, ?it/s]\n"
     ]
    },
    {
     "name": "stdout",
     "output_type": "stream",
     "text": [
      "Error list index out of range occured for material id: mp-776827\n"
     ]
    },
    {
     "name": "stderr",
     "output_type": "stream",
     "text": [
      "Retrieving SummaryDoc documents: 100%|█████████| 1/1 [00:00<00:00, 23301.69it/s]\n",
      "Retrieving SummaryDoc documents: 100%|█████████| 1/1 [00:00<00:00, 21845.33it/s]\n",
      "Retrieving SummaryDoc documents: 100%|█████████| 1/1 [00:00<00:00, 26214.40it/s]\n",
      "Retrieving SummaryDoc documents: 100%|█████████| 1/1 [00:00<00:00, 29330.80it/s]\n",
      "Retrieving SummaryDoc documents: 100%|█████████| 1/1 [00:00<00:00, 22671.91it/s]\n",
      "Retrieving SummaryDoc documents: 100%|█████████| 1/1 [00:00<00:00, 20867.18it/s]\n",
      "Retrieving SummaryDoc documents: 100%|█████████| 1/1 [00:00<00:00, 26379.27it/s]\n",
      "Retrieving SummaryDoc documents: 100%|█████████| 1/1 [00:00<00:00, 22192.08it/s]\n",
      "Retrieving SummaryDoc documents: 100%|█████████| 1/1 [00:00<00:00, 23831.27it/s]\n",
      "Retrieving SummaryDoc documents: 100%|█████████| 1/1 [00:00<00:00, 24966.10it/s]\n",
      "Retrieving SummaryDoc documents: 100%|█████████| 1/1 [00:00<00:00, 21290.88it/s]\n",
      "Retrieving SummaryDoc documents: 100%|█████████| 1/1 [00:00<00:00, 23301.69it/s]\n",
      "Retrieving SummaryDoc documents: 100%|█████████| 1/1 [00:00<00:00, 22795.13it/s]\n",
      "Retrieving SummaryDoc documents: 100%|█████████| 1/1 [00:00<00:00, 23301.69it/s]\n",
      "Retrieving SummaryDoc documents: 100%|█████████| 1/1 [00:00<00:00, 21183.35it/s]\n",
      "Retrieving SummaryDoc documents: 100%|█████████| 1/1 [00:00<00:00, 20867.18it/s]\n",
      "Retrieving SummaryDoc documents: 100%|█████████| 1/1 [00:00<00:00, 21845.33it/s]\n",
      "Retrieving SummaryDoc documents: 100%|█████████| 1/1 [00:00<00:00, 23831.27it/s]\n",
      "Retrieving SummaryDoc documents: 0it [00:00, ?it/s]\n"
     ]
    },
    {
     "name": "stdout",
     "output_type": "stream",
     "text": [
      "Error list index out of range occured for material id: mp-32403\n"
     ]
    },
    {
     "name": "stderr",
     "output_type": "stream",
     "text": [
      "Retrieving SummaryDoc documents: 100%|█████████| 1/1 [00:00<00:00, 24528.09it/s]\n",
      "Retrieving SummaryDoc documents: 100%|█████████| 1/1 [00:00<00:00, 23831.27it/s]\n",
      "Retrieving SummaryDoc documents: 100%|█████████| 1/1 [00:00<00:00, 27962.03it/s]\n",
      "Retrieving SummaryDoc documents: 100%|█████████| 1/1 [00:00<00:00, 22192.08it/s]\n",
      "Retrieving SummaryDoc documents: 100%|█████████| 1/1 [00:00<00:00, 19691.57it/s]\n",
      "Retrieving SummaryDoc documents: 100%|█████████| 1/1 [00:00<00:00, 26379.27it/s]\n",
      "Retrieving SummaryDoc documents: 100%|█████████| 1/1 [00:00<00:00, 22795.13it/s]\n",
      "Retrieving SummaryDoc documents: 100%|█████████| 1/1 [00:00<00:00, 24385.49it/s]\n",
      "Retrieving SummaryDoc documents: 100%|█████████| 1/1 [00:00<00:00, 18808.54it/s]\n",
      "Retrieving SummaryDoc documents: 100%|█████████| 1/1 [00:00<00:00, 24966.10it/s]\n",
      "Retrieving SummaryDoc documents: 100%|█████████| 1/1 [00:00<00:00, 21732.15it/s]\n",
      "Retrieving SummaryDoc documents: 100%|█████████| 1/1 [00:00<00:00, 22671.91it/s]\n",
      "Retrieving SummaryDoc documents: 100%|█████████| 1/1 [00:00<00:00, 25575.02it/s]\n",
      "Retrieving SummaryDoc documents: 100%|█████████| 1/1 [00:00<00:00, 20867.18it/s]\n",
      "Retrieving SummaryDoc documents: 100%|█████████| 1/1 [00:00<00:00, 22671.91it/s]\n",
      "Retrieving SummaryDoc documents: 0it [00:00, ?it/s]\n"
     ]
    },
    {
     "name": "stdout",
     "output_type": "stream",
     "text": [
      "Error list index out of range occured for material id: mp-25730\n"
     ]
    },
    {
     "name": "stderr",
     "output_type": "stream",
     "text": [
      "Retrieving SummaryDoc documents: 100%|█████████| 1/1 [00:00<00:00, 23696.63it/s]\n",
      "Retrieving SummaryDoc documents: 100%|█████████| 1/1 [00:00<00:00, 22671.91it/s]\n",
      "Retrieving SummaryDoc documents: 100%|█████████| 1/1 [00:00<00:00, 32263.88it/s]\n",
      "Retrieving SummaryDoc documents: 100%|█████████| 1/1 [00:00<00:00, 23831.27it/s]\n",
      "Retrieving SummaryDoc documents: 100%|█████████| 1/1 [00:00<00:00, 23831.27it/s]\n",
      "Retrieving SummaryDoc documents: 100%|█████████| 1/1 [00:00<00:00, 23301.69it/s]\n",
      "Retrieving SummaryDoc documents: 100%|█████████| 1/1 [00:00<00:00, 23831.27it/s]\n",
      "Retrieving SummaryDoc documents: 100%|█████████| 1/1 [00:00<00:00, 24244.53it/s]\n",
      "Retrieving SummaryDoc documents: 100%|█████████| 1/1 [00:00<00:00, 23301.69it/s]\n",
      "Retrieving SummaryDoc documents: 0it [00:00, ?it/s]\n"
     ]
    },
    {
     "name": "stdout",
     "output_type": "stream",
     "text": [
      "Error list index out of range occured for material id: mp-767013\n"
     ]
    },
    {
     "name": "stderr",
     "output_type": "stream",
     "text": [
      "Retrieving SummaryDoc documents: 100%|█████████| 1/1 [00:00<00:00, 23831.27it/s]\n",
      "Retrieving SummaryDoc documents: 100%|█████████| 1/1 [00:00<00:00, 22919.69it/s]\n",
      "Retrieving SummaryDoc documents: 100%|█████████| 1/1 [00:00<00:00, 24966.10it/s]\n",
      "Retrieving SummaryDoc documents: 100%|█████████| 1/1 [00:00<00:00, 26379.27it/s]\n",
      "Retrieving SummaryDoc documents: 100%|█████████| 1/1 [00:00<00:00, 23831.27it/s]\n",
      "Retrieving SummaryDoc documents: 100%|█████████| 1/1 [00:00<00:00, 23301.69it/s]\n",
      "Retrieving SummaryDoc documents: 100%|█████████| 1/1 [00:00<00:00, 23831.27it/s]\n",
      "Retrieving SummaryDoc documents: 100%|█████████| 1/1 [00:00<00:00, 23831.27it/s]\n",
      "Retrieving SummaryDoc documents: 100%|█████████| 1/1 [00:00<00:00, 19599.55it/s]\n",
      "Retrieving SummaryDoc documents: 100%|█████████| 1/1 [00:00<00:00, 23301.69it/s]\n",
      "Retrieving SummaryDoc documents: 100%|█████████| 1/1 [00:00<00:00, 22192.08it/s]\n",
      "Retrieving SummaryDoc documents: 100%|█████████| 1/1 [00:00<00:00, 23831.27it/s]\n",
      "Retrieving SummaryDoc documents: 100%|█████████| 1/1 [00:00<00:00, 24385.49it/s]\n",
      "Retrieving SummaryDoc documents: 100%|█████████| 1/1 [00:00<00:00, 23301.69it/s]\n",
      "Retrieving SummaryDoc documents: 0it [00:00, ?it/s]\n"
     ]
    },
    {
     "name": "stdout",
     "output_type": "stream",
     "text": [
      "Error list index out of range occured for material id: mp-24854\n"
     ]
    },
    {
     "name": "stderr",
     "output_type": "stream",
     "text": [
      "Retrieving SummaryDoc documents: 100%|█████████| 1/1 [00:00<00:00, 22671.91it/s]\n",
      "Retrieving SummaryDoc documents: 100%|█████████| 1/1 [00:00<00:00, 24528.09it/s]\n",
      "Retrieving SummaryDoc documents: 100%|█████████| 1/1 [00:00<00:00, 26379.27it/s]\n",
      "Retrieving SummaryDoc documents: 100%|█████████| 1/1 [00:00<00:00, 25115.59it/s]\n",
      "Retrieving SummaryDoc documents: 100%|█████████| 1/1 [00:00<00:00, 25575.02it/s]\n",
      "Retrieving SummaryDoc documents: 100%|█████████| 1/1 [00:00<00:00, 23301.69it/s]\n",
      "Retrieving SummaryDoc documents: 0it [00:00, ?it/s]\n"
     ]
    },
    {
     "name": "stdout",
     "output_type": "stream",
     "text": [
      "Error list index out of range occured for material id: mp-555391\n"
     ]
    },
    {
     "name": "stderr",
     "output_type": "stream",
     "text": [
      "Retrieving SummaryDoc documents: 100%|█████████| 1/1 [00:00<00:00, 25115.59it/s]\n",
      "Retrieving SummaryDoc documents: 100%|█████████| 1/1 [00:00<00:00, 21845.33it/s]\n",
      "Retrieving SummaryDoc documents: 100%|█████████| 1/1 [00:00<00:00, 21399.51it/s]\n",
      "Retrieving SummaryDoc documents: 100%|█████████| 1/1 [00:00<00:00, 24244.53it/s]\n",
      "Retrieving SummaryDoc documents: 100%|█████████| 1/1 [00:00<00:00, 24818.37it/s]\n",
      "Retrieving SummaryDoc documents: 100%|█████████| 1/1 [00:00<00:00, 22192.08it/s]\n",
      "Retrieving SummaryDoc documents: 100%|█████████| 1/1 [00:00<00:00, 23831.27it/s]\n",
      "Retrieving SummaryDoc documents: 100%|█████████| 1/1 [00:00<00:00, 22192.08it/s]\n",
      "Retrieving SummaryDoc documents: 100%|█████████| 1/1 [00:00<00:00, 22795.13it/s]\n",
      "Retrieving SummaryDoc documents: 100%|█████████| 1/1 [00:00<00:00, 22310.13it/s]\n",
      "Retrieving SummaryDoc documents: 100%|█████████| 1/1 [00:00<00:00, 23301.69it/s]\n",
      "Retrieving SummaryDoc documents: 100%|█████████| 1/1 [00:00<00:00, 21732.15it/s]\n",
      "Retrieving SummaryDoc documents: 100%|█████████| 1/1 [00:00<00:00, 22192.08it/s]\n",
      "Retrieving SummaryDoc documents: 100%|█████████| 1/1 [00:00<00:00, 24818.37it/s]\n",
      "Retrieving SummaryDoc documents: 100%|█████████| 1/1 [00:00<00:00, 21183.35it/s]\n",
      "Retrieving SummaryDoc documents: 100%|█████████| 1/1 [00:00<00:00, 25731.93it/s]\n",
      "Retrieving SummaryDoc documents: 100%|█████████| 1/1 [00:00<00:00, 23301.69it/s]\n",
      "Retrieving SummaryDoc documents: 0it [00:00, ?it/s]\n"
     ]
    },
    {
     "name": "stdout",
     "output_type": "stream",
     "text": [
      "Error list index out of range occured for material id: mp-780811\n"
     ]
    },
    {
     "name": "stderr",
     "output_type": "stream",
     "text": [
      "Retrieving SummaryDoc documents: 0it [00:00, ?it/s]\n"
     ]
    },
    {
     "name": "stdout",
     "output_type": "stream",
     "text": [
      "Error list index out of range occured for material id: mp-773929\n"
     ]
    },
    {
     "name": "stderr",
     "output_type": "stream",
     "text": [
      "Retrieving SummaryDoc documents: 100%|█████████| 1/1 [00:00<00:00, 24385.49it/s]\n",
      "Retrieving SummaryDoc documents: 100%|█████████| 1/1 [00:00<00:00, 23831.27it/s]\n",
      "Retrieving SummaryDoc documents: 100%|█████████| 1/1 [00:00<00:00, 24385.49it/s]\n",
      "Retrieving SummaryDoc documents: 100%|█████████| 1/1 [00:00<00:00, 22671.91it/s]\n",
      "Retrieving SummaryDoc documents: 100%|█████████| 1/1 [00:00<00:00, 23831.27it/s]\n",
      "Retrieving SummaryDoc documents: 100%|█████████| 1/1 [00:00<00:00, 24385.49it/s]\n",
      "Retrieving SummaryDoc documents: 100%|█████████| 1/1 [00:00<00:00, 23172.95it/s]\n",
      "Retrieving SummaryDoc documents: 100%|█████████| 1/1 [00:00<00:00, 25575.02it/s]\n",
      "Retrieving SummaryDoc documents: 100%|█████████| 1/1 [00:00<00:00, 22795.13it/s]\n",
      "Retrieving SummaryDoc documents: 100%|█████████| 1/1 [00:00<00:00, 23696.63it/s]\n",
      "Retrieving SummaryDoc documents: 100%|█████████| 1/1 [00:00<00:00, 23301.69it/s]\n",
      "Retrieving SummaryDoc documents: 100%|█████████| 1/1 [00:00<00:00, 22192.08it/s]\n",
      "Retrieving SummaryDoc documents: 100%|█████████| 1/1 [00:00<00:00, 24385.49it/s]\n",
      "Retrieving SummaryDoc documents: 100%|█████████| 1/1 [00:00<00:00, 26379.27it/s]\n",
      "Retrieving SummaryDoc documents: 100%|█████████| 1/1 [00:00<00:00, 25731.93it/s]\n",
      "Retrieving SummaryDoc documents: 0it [00:00, ?it/s]\n"
     ]
    },
    {
     "name": "stdout",
     "output_type": "stream",
     "text": [
      "Error list index out of range occured for material id: mp-566755\n"
     ]
    },
    {
     "name": "stderr",
     "output_type": "stream",
     "text": [
      "Retrieving SummaryDoc documents: 0it [00:00, ?it/s]\n"
     ]
    },
    {
     "name": "stdout",
     "output_type": "stream",
     "text": [
      "Error list index out of range occured for material id: mp-766953\n"
     ]
    },
    {
     "name": "stderr",
     "output_type": "stream",
     "text": [
      "Retrieving SummaryDoc documents: 100%|██████████| 1/1 [00:00<00:00, 7695.97it/s]\n",
      "Retrieving SummaryDoc documents: 100%|██████████| 1/1 [00:00<00:00, 8112.77it/s]\n",
      "Retrieving SummaryDoc documents: 100%|███████████| 1/1 [00:00<00:00, 729.95it/s]\n",
      "Retrieving SummaryDoc documents: 100%|█████████| 1/1 [00:00<00:00, 24966.10it/s]\n",
      "Retrieving SummaryDoc documents: 100%|█████████| 1/1 [00:00<00:00, 26214.40it/s]\n",
      "Retrieving SummaryDoc documents: 100%|██████████| 1/1 [00:00<00:00, 6853.44it/s]\n",
      "Retrieving SummaryDoc documents: 100%|█████████| 1/1 [00:00<00:00, 26886.56it/s]\n",
      "Retrieving SummaryDoc documents: 100%|█████████| 1/1 [00:00<00:00, 22192.08it/s]\n",
      "Retrieving SummaryDoc documents: 100%|█████████| 1/1 [00:00<00:00, 24385.49it/s]\n",
      "Retrieving SummaryDoc documents: 100%|█████████| 1/1 [00:00<00:00, 23831.27it/s]\n",
      "Retrieving SummaryDoc documents: 100%|█████████| 1/1 [00:00<00:00, 20763.88it/s]\n",
      "Retrieving SummaryDoc documents: 100%|█████████| 1/1 [00:00<00:00, 23431.87it/s]\n",
      "Retrieving SummaryDoc documents: 100%|█████████| 1/1 [00:00<00:00, 23172.95it/s]\n",
      "Retrieving SummaryDoc documents: 100%|█████████| 1/1 [00:00<00:00, 26379.27it/s]\n",
      "Retrieving SummaryDoc documents: 100%|█████████| 1/1 [00:00<00:00, 23696.63it/s]\n",
      "Retrieving SummaryDoc documents: 100%|█████████| 1/1 [00:00<00:00, 22795.13it/s]\n",
      "Retrieving SummaryDoc documents: 100%|█████████| 1/1 [00:00<00:00, 24528.09it/s]\n",
      "Retrieving SummaryDoc documents: 100%|█████████| 1/1 [00:00<00:00, 24385.49it/s]\n",
      "Retrieving SummaryDoc documents: 100%|██████████| 1/1 [00:00<00:00, 8322.03it/s]\n",
      "Retrieving SummaryDoc documents: 100%|█████████| 1/1 [00:00<00:00, 21732.15it/s]\n",
      "Retrieving SummaryDoc documents: 100%|█████████| 1/1 [00:00<00:00, 25731.93it/s]\n",
      "Retrieving SummaryDoc documents: 100%|█████████| 1/1 [00:00<00:00, 22671.91it/s]\n",
      "Retrieving SummaryDoc documents: 100%|█████████| 1/1 [00:00<00:00, 21845.33it/s]\n",
      "Retrieving SummaryDoc documents: 100%|█████████| 1/1 [00:00<00:00, 26886.56it/s]\n",
      "Retrieving SummaryDoc documents: 100%|█████████| 1/1 [00:00<00:00, 25115.59it/s]\n",
      "Retrieving SummaryDoc documents: 0it [00:00, ?it/s]\n"
     ]
    },
    {
     "name": "stdout",
     "output_type": "stream",
     "text": [
      "Error list index out of range occured for material id: mp-636289\n"
     ]
    },
    {
     "name": "stderr",
     "output_type": "stream",
     "text": [
      "Retrieving SummaryDoc documents: 100%|█████████| 1/1 [00:00<00:00, 20460.02it/s]\n",
      "Retrieving SummaryDoc documents: 100%|█████████| 1/1 [00:00<00:00, 18808.54it/s]\n",
      "Retrieving SummaryDoc documents: 100%|█████████| 1/1 [00:00<00:00, 21620.12it/s]\n",
      "Retrieving SummaryDoc documents: 100%|█████████| 1/1 [00:00<00:00, 24385.49it/s]\n",
      "Retrieving SummaryDoc documents: 100%|█████████| 1/1 [00:00<00:00, 23831.27it/s]\n",
      "Retrieving SummaryDoc documents: 100%|█████████| 1/1 [00:00<00:00, 22795.13it/s]\n",
      "Retrieving SummaryDoc documents: 100%|█████████| 1/1 [00:00<00:00, 25115.59it/s]\n",
      "Retrieving SummaryDoc documents: 100%|█████████| 1/1 [00:00<00:00, 20763.88it/s]\n",
      "Retrieving SummaryDoc documents: 100%|█████████| 1/1 [00:00<00:00, 22795.13it/s]\n",
      "Retrieving SummaryDoc documents: 100%|█████████| 1/1 [00:00<00:00, 23831.27it/s]\n",
      "Retrieving SummaryDoc documents: 100%|█████████| 1/1 [00:00<00:00, 22795.13it/s]\n",
      "Retrieving SummaryDoc documents: 100%|█████████| 1/1 [00:00<00:00, 26214.40it/s]\n",
      "Retrieving SummaryDoc documents: 100%|█████████| 1/1 [00:00<00:00, 23301.69it/s]\n",
      "Retrieving SummaryDoc documents: 100%|█████████| 1/1 [00:00<00:00, 24528.09it/s]\n",
      "Retrieving SummaryDoc documents: 100%|█████████| 1/1 [00:00<00:00, 24385.49it/s]\n",
      "Retrieving SummaryDoc documents: 100%|█████████| 1/1 [00:00<00:00, 25731.93it/s]\n",
      "Retrieving SummaryDoc documents: 100%|█████████| 1/1 [00:00<00:00, 21732.15it/s]\n",
      "Retrieving SummaryDoc documents: 100%|█████████| 1/1 [00:00<00:00, 21732.15it/s]\n",
      "Retrieving SummaryDoc documents: 100%|█████████| 1/1 [00:00<00:00, 24385.49it/s]\n",
      "Retrieving SummaryDoc documents: 100%|█████████| 1/1 [00:00<00:00, 23172.95it/s]\n",
      "Retrieving SummaryDoc documents: 100%|█████████| 1/1 [00:00<00:00, 24966.10it/s]\n",
      "Retrieving SummaryDoc documents: 100%|█████████| 1/1 [00:00<00:00, 22192.08it/s]\n",
      "Retrieving SummaryDoc documents: 100%|█████████| 1/1 [00:00<00:00, 24385.49it/s]\n",
      "Retrieving SummaryDoc documents: 100%|█████████| 1/1 [00:00<00:00, 25115.59it/s]\n",
      "Retrieving SummaryDoc documents: 100%|█████████| 1/1 [00:00<00:00, 26214.40it/s]\n",
      "Retrieving SummaryDoc documents: 0it [00:00, ?it/s]\n"
     ]
    },
    {
     "name": "stdout",
     "output_type": "stream",
     "text": [
      "Error list index out of range occured for material id: mp-765892\n"
     ]
    },
    {
     "name": "stderr",
     "output_type": "stream",
     "text": [
      "Retrieving SummaryDoc documents: 100%|█████████| 1/1 [00:00<00:00, 24966.10it/s]\n",
      "Retrieving SummaryDoc documents: 100%|█████████| 1/1 [00:00<00:00, 23431.87it/s]\n",
      "Retrieving SummaryDoc documents: 100%|█████████| 1/1 [00:00<00:00, 25731.93it/s]\n",
      "Retrieving SummaryDoc documents: 100%|█████████| 1/1 [00:00<00:00, 25731.93it/s]\n",
      "Retrieving SummaryDoc documents: 100%|█████████| 1/1 [00:00<00:00, 27594.11it/s]\n",
      "Retrieving SummaryDoc documents: 100%|█████████| 1/1 [00:00<00:00, 22671.91it/s]\n",
      "Retrieving SummaryDoc documents: 0it [00:00, ?it/s]\n"
     ]
    },
    {
     "name": "stdout",
     "output_type": "stream",
     "text": [
      "Error list index out of range occured for material id: mp-849354\n"
     ]
    },
    {
     "name": "stderr",
     "output_type": "stream",
     "text": [
      "Retrieving SummaryDoc documents: 0it [00:00, ?it/s]\n"
     ]
    },
    {
     "name": "stdout",
     "output_type": "stream",
     "text": [
      "Error list index out of range occured for material id: mp-771811\n"
     ]
    },
    {
     "name": "stderr",
     "output_type": "stream",
     "text": [
      "Retrieving SummaryDoc documents: 100%|█████████| 1/1 [00:00<00:00, 22192.08it/s]\n",
      "Retrieving SummaryDoc documents: 100%|█████████| 1/1 [00:00<00:00, 22671.91it/s]\n",
      "Retrieving SummaryDoc documents: 0it [00:00, ?it/s]\n"
     ]
    },
    {
     "name": "stdout",
     "output_type": "stream",
     "text": [
      "Error list index out of range occured for material id: mp-25118\n"
     ]
    },
    {
     "name": "stderr",
     "output_type": "stream",
     "text": [
      "Retrieving SummaryDoc documents: 100%|█████████| 1/1 [00:00<00:00, 23831.27it/s]\n",
      "Retrieving SummaryDoc documents: 100%|█████████| 1/1 [00:00<00:00, 23172.95it/s]\n",
      "Retrieving SummaryDoc documents: 100%|█████████| 1/1 [00:00<00:00, 23831.27it/s]\n",
      "Retrieving SummaryDoc documents: 100%|█████████| 1/1 [00:00<00:00, 25575.02it/s]\n",
      "Retrieving SummaryDoc documents: 100%|█████████| 1/1 [00:00<00:00, 23301.69it/s]\n",
      "Retrieving SummaryDoc documents: 100%|█████████| 1/1 [00:00<00:00, 24385.49it/s]\n",
      "Retrieving SummaryDoc documents: 100%|█████████| 1/1 [00:00<00:00, 25115.59it/s]\n",
      "Retrieving SummaryDoc documents: 100%|█████████| 1/1 [00:00<00:00, 23831.27it/s]\n",
      "Retrieving SummaryDoc documents: 100%|█████████| 1/1 [00:00<00:00, 24385.49it/s]\n",
      "Retrieving SummaryDoc documents: 100%|█████████| 1/1 [00:00<00:00, 20460.02it/s]\n",
      "Retrieving SummaryDoc documents: 100%|█████████| 1/1 [00:00<00:00, 22192.08it/s]\n",
      "Retrieving SummaryDoc documents: 100%|█████████| 1/1 [00:00<00:00, 22671.91it/s]\n",
      "Retrieving SummaryDoc documents: 100%|█████████| 1/1 [00:00<00:00, 22192.08it/s]\n",
      "Retrieving SummaryDoc documents: 100%|█████████| 1/1 [00:00<00:00, 22192.08it/s]\n",
      "Retrieving SummaryDoc documents: 100%|█████████| 1/1 [00:00<00:00, 24966.10it/s]\n",
      "Retrieving SummaryDoc documents: 100%|█████████| 1/1 [00:00<00:00, 25731.93it/s]\n",
      "Retrieving SummaryDoc documents: 100%|█████████| 1/1 [00:00<00:00, 25575.02it/s]\n",
      "Retrieving SummaryDoc documents: 100%|█████████| 1/1 [00:00<00:00, 26379.27it/s]\n",
      "Retrieving SummaryDoc documents: 100%|█████████| 1/1 [00:00<00:00, 24385.49it/s]\n",
      "Retrieving SummaryDoc documents: 100%|█████████| 1/1 [00:00<00:00, 25420.02it/s]\n",
      "Retrieving SummaryDoc documents: 100%|█████████| 1/1 [00:00<00:00, 22919.69it/s]\n",
      "Retrieving SummaryDoc documents: 100%|█████████| 1/1 [00:00<00:00, 23172.95it/s]\n",
      "Retrieving SummaryDoc documents: 100%|█████████| 1/1 [00:00<00:00, 28532.68it/s]\n",
      "Retrieving SummaryDoc documents: 0it [00:00, ?it/s]\n"
     ]
    },
    {
     "name": "stdout",
     "output_type": "stream",
     "text": [
      "Error list index out of range occured for material id: mp-776864\n"
     ]
    },
    {
     "name": "stderr",
     "output_type": "stream",
     "text": [
      "Retrieving SummaryDoc documents: 100%|█████████| 1/1 [00:00<00:00, 21732.15it/s]\n",
      "Retrieving SummaryDoc documents: 100%|█████████| 1/1 [00:00<00:00, 23301.69it/s]\n",
      "Retrieving SummaryDoc documents: 100%|█████████| 1/1 [00:00<00:00, 23301.69it/s]\n",
      "Retrieving SummaryDoc documents: 100%|█████████| 1/1 [00:00<00:00, 23301.69it/s]\n",
      "Retrieving SummaryDoc documents: 100%|█████████| 1/1 [00:00<00:00, 23301.69it/s]\n",
      "Retrieving SummaryDoc documents: 100%|█████████| 1/1 [00:00<00:00, 22795.13it/s]\n",
      "Retrieving SummaryDoc documents: 100%|█████████| 1/1 [00:00<00:00, 26379.27it/s]\n",
      "Retrieving SummaryDoc documents: 100%|█████████| 1/1 [00:00<00:00, 27235.74it/s]\n",
      "Retrieving SummaryDoc documents: 100%|█████████| 1/1 [00:00<00:00, 28532.68it/s]\n",
      "Retrieving SummaryDoc documents: 100%|█████████| 1/1 [00:00<00:00, 22671.91it/s]\n",
      "Retrieving SummaryDoc documents: 100%|█████████| 1/1 [00:00<00:00, 20068.44it/s]\n",
      "Retrieving SummaryDoc documents: 100%|█████████| 1/1 [00:00<00:00, 22671.91it/s]\n",
      "Retrieving SummaryDoc documents: 100%|█████████| 1/1 [00:00<00:00, 21290.88it/s]\n",
      "Retrieving SummaryDoc documents: 100%|█████████| 1/1 [00:00<00:00, 26214.40it/s]\n",
      "Retrieving SummaryDoc documents: 100%|█████████| 1/1 [00:00<00:00, 21399.51it/s]\n",
      "Retrieving SummaryDoc documents: 100%|█████████| 1/1 [00:00<00:00, 22192.08it/s]\n",
      "Retrieving SummaryDoc documents: 100%|█████████| 1/1 [00:00<00:00, 22192.08it/s]\n",
      "Retrieving SummaryDoc documents: 100%|█████████| 1/1 [00:00<00:00, 22671.91it/s]\n",
      "Retrieving SummaryDoc documents: 100%|█████████| 1/1 [00:00<00:00, 21845.33it/s]\n",
      "Retrieving SummaryDoc documents: 100%|█████████| 1/1 [00:00<00:00, 22671.91it/s]\n",
      "Retrieving SummaryDoc documents: 100%|█████████| 1/1 [00:00<00:00, 21845.33it/s]\n",
      "Retrieving SummaryDoc documents: 100%|█████████| 1/1 [00:00<00:00, 17476.27it/s]\n",
      "Retrieving SummaryDoc documents: 100%|█████████| 1/1 [00:00<00:00, 16578.28it/s]\n",
      "Retrieving SummaryDoc documents: 100%|█████████| 1/1 [00:00<00:00, 25420.02it/s]\n",
      "Retrieving SummaryDoc documents: 100%|█████████| 1/1 [00:00<00:00, 27594.11it/s]\n",
      "Retrieving SummaryDoc documents: 100%|█████████| 1/1 [00:00<00:00, 26886.56it/s]\n",
      "Retrieving SummaryDoc documents: 100%|█████████| 1/1 [00:00<00:00, 19599.55it/s]\n",
      "Retrieving SummaryDoc documents: 100%|█████████| 1/1 [00:00<00:00, 23696.63it/s]\n",
      "Retrieving SummaryDoc documents: 100%|█████████| 1/1 [00:00<00:00, 22671.91it/s]\n",
      "Retrieving SummaryDoc documents: 100%|█████████| 1/1 [00:00<00:00, 21845.33it/s]\n",
      "Retrieving SummaryDoc documents: 100%|█████████| 1/1 [00:00<00:00, 21732.15it/s]\n",
      "Retrieving SummaryDoc documents: 100%|█████████| 1/1 [00:00<00:00, 21732.15it/s]\n",
      "Retrieving SummaryDoc documents: 100%|█████████| 1/1 [00:00<00:00, 19878.22it/s]\n",
      "Retrieving SummaryDoc documents: 0it [00:00, ?it/s]\n"
     ]
    },
    {
     "name": "stdout",
     "output_type": "stream",
     "text": [
      "Error list index out of range occured for material id: mp-559175\n"
     ]
    },
    {
     "name": "stderr",
     "output_type": "stream",
     "text": [
      "Retrieving SummaryDoc documents: 100%|█████████| 1/1 [00:00<00:00, 22671.91it/s]\n",
      "Retrieving SummaryDoc documents: 100%|█████████| 1/1 [00:00<00:00, 22310.13it/s]\n",
      "Retrieving SummaryDoc documents: 100%|█████████| 1/1 [00:00<00:00, 22795.13it/s]\n",
      "Retrieving SummaryDoc documents: 100%|█████████| 1/1 [00:00<00:00, 24966.10it/s]\n",
      "Retrieving SummaryDoc documents: 100%|█████████| 1/1 [00:00<00:00, 21620.12it/s]\n",
      "Retrieving SummaryDoc documents: 100%|█████████| 1/1 [00:00<00:00, 22671.91it/s]\n",
      "Retrieving SummaryDoc documents: 100%|█████████| 1/1 [00:00<00:00, 20460.02it/s]\n",
      "Retrieving SummaryDoc documents: 100%|█████████| 1/1 [00:00<00:00, 22671.91it/s]\n",
      "Retrieving SummaryDoc documents: 100%|█████████| 1/1 [00:00<00:00, 20262.34it/s]\n",
      "Retrieving SummaryDoc documents: 100%|█████████| 1/1 [00:00<00:00, 17260.51it/s]\n",
      "Retrieving SummaryDoc documents: 100%|█████████| 1/1 [00:00<00:00, 16131.94it/s]\n",
      "Retrieving SummaryDoc documents: 100%|█████████| 1/1 [00:00<00:00, 16384.00it/s]\n",
      "Retrieving SummaryDoc documents: 100%|█████████| 1/1 [00:00<00:00, 16644.06it/s]\n",
      "Retrieving SummaryDoc documents: 100%|█████████| 1/1 [00:00<00:00, 22310.13it/s]\n",
      "Retrieving SummaryDoc documents: 100%|█████████| 1/1 [00:00<00:00, 27060.03it/s]\n",
      "Retrieving SummaryDoc documents: 100%|█████████| 1/1 [00:00<00:00, 30174.85it/s]\n",
      "Retrieving SummaryDoc documents: 100%|█████████| 1/1 [00:00<00:00, 24966.10it/s]\n",
      "Retrieving SummaryDoc documents: 100%|█████████| 1/1 [00:00<00:00, 25575.02it/s]\n",
      "Retrieving SummaryDoc documents: 100%|█████████| 1/1 [00:00<00:00, 23831.27it/s]\n",
      "Retrieving SummaryDoc documents: 100%|█████████| 1/1 [00:00<00:00, 22671.91it/s]\n",
      "Retrieving SummaryDoc documents: 0it [00:00, ?it/s]\n"
     ]
    },
    {
     "name": "stdout",
     "output_type": "stream",
     "text": [
      "Error list index out of range occured for material id: mp-763095\n"
     ]
    },
    {
     "name": "stderr",
     "output_type": "stream",
     "text": [
      "Retrieving SummaryDoc documents: 100%|█████████| 1/1 [00:00<00:00, 22192.08it/s]\n",
      "Retrieving SummaryDoc documents: 100%|█████████| 1/1 [00:00<00:00, 26379.27it/s]\n",
      "Retrieving SummaryDoc documents: 100%|█████████| 1/1 [00:00<00:00, 21845.33it/s]\n",
      "Retrieving SummaryDoc documents: 100%|█████████| 1/1 [00:00<00:00, 21399.51it/s]\n",
      "Retrieving SummaryDoc documents: 100%|█████████| 1/1 [00:00<00:00, 15196.75it/s]\n",
      "Retrieving SummaryDoc documents: 100%|█████████| 1/1 [00:00<00:00, 18477.11it/s]\n",
      "Retrieving SummaryDoc documents: 100%|█████████| 1/1 [00:00<00:00, 16448.25it/s]\n",
      "Retrieving SummaryDoc documents: 100%|█████████| 1/1 [00:00<00:00, 18477.11it/s]\n",
      "Retrieving SummaryDoc documents: 100%|█████████| 1/1 [00:00<00:00, 16131.94it/s]\n",
      "Retrieving SummaryDoc documents: 100%|█████████| 1/1 [00:00<00:00, 22192.08it/s]\n",
      "Retrieving SummaryDoc documents: 100%|█████████| 1/1 [00:00<00:00, 20763.88it/s]\n",
      "Retrieving SummaryDoc documents: 100%|█████████| 1/1 [00:00<00:00, 24528.09it/s]\n",
      "Retrieving SummaryDoc documents: 100%|█████████| 1/1 [00:00<00:00, 23172.95it/s]\n",
      "Retrieving SummaryDoc documents: 100%|█████████| 1/1 [00:00<00:00, 23831.27it/s]\n",
      "Retrieving SummaryDoc documents: 100%|█████████| 1/1 [00:00<00:00, 22795.13it/s]\n",
      "Retrieving SummaryDoc documents: 100%|█████████| 1/1 [00:00<00:00, 23301.69it/s]\n",
      "Retrieving SummaryDoc documents: 100%|█████████| 1/1 [00:00<00:00, 21290.88it/s]\n",
      "Retrieving SummaryDoc documents: 100%|█████████| 1/1 [00:00<00:00, 25115.59it/s]\n",
      "Retrieving SummaryDoc documents: 100%|█████████| 1/1 [00:00<00:00, 28728.11it/s]\n",
      "Retrieving SummaryDoc documents: 100%|█████████| 1/1 [00:00<00:00, 23172.95it/s]\n",
      "Retrieving SummaryDoc documents: 100%|█████████| 1/1 [00:00<00:00, 22671.91it/s]\n",
      "Retrieving SummaryDoc documents: 100%|█████████| 1/1 [00:00<00:00, 22192.08it/s]\n",
      "Retrieving SummaryDoc documents: 100%|█████████| 1/1 [00:00<00:00, 19239.93it/s]\n",
      "Retrieving SummaryDoc documents: 100%|█████████| 1/1 [00:00<00:00, 18808.54it/s]\n",
      "Retrieving SummaryDoc documents: 100%|█████████| 1/1 [00:00<00:00, 21620.12it/s]\n",
      "Retrieving SummaryDoc documents: 100%|█████████| 1/1 [00:00<00:00, 22192.08it/s]\n",
      "Retrieving SummaryDoc documents: 100%|█████████| 1/1 [00:00<00:00, 21290.88it/s]\n",
      "Retrieving SummaryDoc documents: 100%|█████████| 1/1 [00:00<00:00, 20460.02it/s]\n",
      "Retrieving SummaryDoc documents: 0it [00:00, ?it/s]\n"
     ]
    },
    {
     "name": "stdout",
     "output_type": "stream",
     "text": [
      "Error list index out of range occured for material id: mp-867300\n"
     ]
    },
    {
     "name": "stderr",
     "output_type": "stream",
     "text": [
      "Retrieving SummaryDoc documents: 100%|█████████| 1/1 [00:00<00:00, 22671.91it/s]\n",
      "Retrieving SummaryDoc documents: 100%|█████████| 1/1 [00:00<00:00, 23831.27it/s]\n",
      "Retrieving SummaryDoc documents: 100%|█████████| 1/1 [00:00<00:00, 25575.02it/s]\n",
      "Retrieving SummaryDoc documents: 100%|█████████| 1/1 [00:00<00:00, 22671.91it/s]\n",
      "Retrieving SummaryDoc documents: 100%|█████████| 1/1 [00:00<00:00, 23301.69it/s]\n",
      "Retrieving SummaryDoc documents: 100%|█████████| 1/1 [00:00<00:00, 23301.69it/s]\n",
      "Retrieving SummaryDoc documents: 100%|█████████| 1/1 [00:00<00:00, 24385.49it/s]\n",
      "Retrieving SummaryDoc documents: 100%|█████████| 1/1 [00:00<00:00, 24966.10it/s]\n",
      "Retrieving SummaryDoc documents: 100%|█████████| 1/1 [00:00<00:00, 22671.91it/s]\n",
      "Retrieving SummaryDoc documents: 100%|█████████| 1/1 [00:00<00:00, 13148.29it/s]\n",
      "Retrieving SummaryDoc documents: 100%|█████████| 1/1 [00:00<00:00, 29330.80it/s]\n",
      "Retrieving SummaryDoc documents: 0it [00:00, ?it/s]\n"
     ]
    },
    {
     "name": "stdout",
     "output_type": "stream",
     "text": [
      "Error list index out of range occured for material id: mp-764716\n"
     ]
    },
    {
     "name": "stderr",
     "output_type": "stream",
     "text": [
      "Retrieving SummaryDoc documents: 100%|█████████| 1/1 [00:00<00:00, 21845.33it/s]\n",
      "Retrieving SummaryDoc documents: 100%|█████████| 1/1 [00:00<00:00, 23301.69it/s]\n",
      "Retrieving SummaryDoc documents: 100%|█████████| 1/1 [00:00<00:00, 22795.13it/s]\n",
      "Retrieving SummaryDoc documents: 100%|█████████| 1/1 [00:00<00:00, 23831.27it/s]\n",
      "Retrieving SummaryDoc documents: 0it [00:00, ?it/s]\n"
     ]
    },
    {
     "name": "stdout",
     "output_type": "stream",
     "text": [
      "Error list index out of range occured for material id: mp-765545\n"
     ]
    },
    {
     "name": "stderr",
     "output_type": "stream",
     "text": [
      "Retrieving SummaryDoc documents: 100%|█████████| 1/1 [00:00<00:00, 21399.51it/s]\n",
      "Retrieving SummaryDoc documents: 100%|█████████| 1/1 [00:00<00:00, 23172.95it/s]\n",
      "Retrieving SummaryDoc documents: 100%|█████████| 1/1 [00:00<00:00, 20068.44it/s]\n",
      "Retrieving SummaryDoc documents: 100%|█████████| 1/1 [00:00<00:00, 21290.88it/s]\n",
      "Retrieving SummaryDoc documents: 0it [00:00, ?it/s]\n"
     ]
    },
    {
     "name": "stdout",
     "output_type": "stream",
     "text": [
      "Error list index out of range occured for material id: mp-767016\n"
     ]
    },
    {
     "name": "stderr",
     "output_type": "stream",
     "text": [
      "Retrieving SummaryDoc documents: 100%|█████████| 1/1 [00:00<00:00, 25575.02it/s]\n",
      "Retrieving SummaryDoc documents: 100%|█████████| 1/1 [00:00<00:00, 21732.15it/s]\n",
      "Retrieving SummaryDoc documents: 100%|█████████| 1/1 [00:00<00:00, 23831.27it/s]\n",
      "Retrieving SummaryDoc documents: 100%|█████████| 1/1 [00:00<00:00, 26379.27it/s]\n",
      "Retrieving SummaryDoc documents: 100%|█████████| 1/1 [00:00<00:00, 22919.69it/s]\n",
      "Retrieving SummaryDoc documents: 100%|█████████| 1/1 [00:00<00:00, 22310.13it/s]\n",
      "Retrieving SummaryDoc documents: 100%|█████████| 1/1 [00:00<00:00, 20460.02it/s]\n",
      "Retrieving SummaryDoc documents: 100%|█████████| 1/1 [00:00<00:00, 25115.59it/s]\n",
      "Retrieving SummaryDoc documents: 100%|█████████| 1/1 [00:00<00:00, 23831.27it/s]\n",
      "Retrieving SummaryDoc documents: 100%|█████████| 1/1 [00:00<00:00, 17848.10it/s]\n",
      "Retrieving SummaryDoc documents: 100%|█████████| 1/1 [00:00<00:00, 20867.18it/s]\n",
      "Retrieving SummaryDoc documents: 100%|█████████| 1/1 [00:00<00:00, 22671.91it/s]\n",
      "Retrieving SummaryDoc documents: 100%|█████████| 1/1 [00:00<00:00, 23301.69it/s]\n",
      "Retrieving SummaryDoc documents: 100%|█████████| 1/1 [00:00<00:00, 25420.02it/s]\n",
      "Retrieving SummaryDoc documents: 100%|█████████| 1/1 [00:00<00:00, 24528.09it/s]\n",
      "Retrieving SummaryDoc documents: 100%|█████████| 1/1 [00:00<00:00, 28532.68it/s]\n",
      "Retrieving SummaryDoc documents: 100%|█████████| 1/1 [00:00<00:00, 23696.63it/s]\n",
      "Retrieving SummaryDoc documents: 100%|█████████| 1/1 [00:00<00:00, 24966.10it/s]\n",
      "Retrieving SummaryDoc documents: 100%|█████████| 1/1 [00:00<00:00, 23831.27it/s]\n",
      "Retrieving SummaryDoc documents: 0it [00:00, ?it/s]\n"
     ]
    },
    {
     "name": "stdout",
     "output_type": "stream",
     "text": [
      "Error list index out of range occured for material id: mp-25122\n"
     ]
    },
    {
     "name": "stderr",
     "output_type": "stream",
     "text": [
      "Retrieving SummaryDoc documents: 100%|█████████| 1/1 [00:00<00:00, 30393.51it/s]\n",
      "Retrieving SummaryDoc documents: 100%|█████████| 1/1 [00:00<00:00, 22192.08it/s]\n",
      "Retrieving SummaryDoc documents: 100%|█████████| 1/1 [00:00<00:00, 23172.95it/s]\n",
      "Retrieving SummaryDoc documents: 100%|█████████| 1/1 [00:00<00:00, 26214.40it/s]\n",
      "Retrieving SummaryDoc documents: 0it [00:00, ?it/s]\n"
     ]
    },
    {
     "name": "stdout",
     "output_type": "stream",
     "text": [
      "Error list index out of range occured for material id: mp-714882\n"
     ]
    },
    {
     "name": "stderr",
     "output_type": "stream",
     "text": [
      "Retrieving SummaryDoc documents: 100%|█████████| 1/1 [00:00<00:00, 24818.37it/s]\n",
      "Retrieving SummaryDoc documents: 100%|█████████| 1/1 [00:00<00:00, 23831.27it/s]\n",
      "Retrieving SummaryDoc documents: 100%|█████████| 1/1 [00:00<00:00, 29537.35it/s]\n",
      "Retrieving SummaryDoc documents: 100%|█████████| 1/1 [00:00<00:00, 22919.69it/s]\n",
      "Retrieving SummaryDoc documents: 100%|█████████| 1/1 [00:00<00:00, 21845.33it/s]\n",
      "Retrieving SummaryDoc documents: 100%|█████████| 1/1 [00:00<00:00, 22192.08it/s]\n",
      "Retrieving SummaryDoc documents: 100%|█████████| 1/1 [00:00<00:00, 23696.63it/s]\n",
      "Retrieving SummaryDoc documents: 100%|█████████| 1/1 [00:00<00:00, 25731.93it/s]\n",
      "Retrieving SummaryDoc documents: 100%|█████████| 1/1 [00:00<00:00, 19691.57it/s]\n",
      "Retrieving SummaryDoc documents: 100%|█████████| 1/1 [00:00<00:00, 23831.27it/s]\n",
      "Retrieving SummaryDoc documents: 0it [00:00, ?it/s]\n"
     ]
    },
    {
     "name": "stdout",
     "output_type": "stream",
     "text": [
      "Error list index out of range occured for material id: mp-764360\n",
      "Error HTTPSConnectionPool(host='api.materialsproject.org', port=443): Max retries exceeded with url: /materials/summary/?_fields=material_id%2Cformula_pretty%2Cenergy_per_atom%2Cformation_energy_per_atom%2Cband_gap%2Cefermi%2Cbulk_modulus%2Cshear_modulus%2Chomogeneous_poisson&material_ids=mp-31454&_limit=1000 (Caused by NameResolutionError(\"<urllib3.connection.HTTPSConnection object at 0x297f7da20>: Failed to resolve 'api.materialsproject.org' ([Errno 8] nodename nor servname provided, or not known)\")) occured for material id: mp-31454\n",
      "Error HTTPSConnectionPool(host='api.materialsproject.org', port=443): Max retries exceeded with url: /materials/summary/?_fields=material_id%2Cformula_pretty%2Cenergy_per_atom%2Cformation_energy_per_atom%2Cband_gap%2Cefermi%2Cbulk_modulus%2Cshear_modulus%2Chomogeneous_poisson&material_ids=mp-776137&_limit=1000 (Caused by NameResolutionError(\"<urllib3.connection.HTTPSConnection object at 0x297f7fd30>: Failed to resolve 'api.materialsproject.org' ([Errno 8] nodename nor servname provided, or not known)\")) occured for material id: mp-776137\n",
      "Error HTTPSConnectionPool(host='api.materialsproject.org', port=443): Max retries exceeded with url: /materials/summary/?_fields=material_id%2Cformula_pretty%2Cenergy_per_atom%2Cformation_energy_per_atom%2Cband_gap%2Cefermi%2Cbulk_modulus%2Cshear_modulus%2Chomogeneous_poisson&material_ids=mp-22903&_limit=1000 (Caused by ReadTimeoutError(\"HTTPSConnectionPool(host='api.materialsproject.org', port=443): Read timed out. (read timeout=20)\")) occured for material id: mp-22903\n",
      "Error HTTPSConnectionPool(host='api.materialsproject.org', port=443): Max retries exceeded with url: /materials/summary/?_fields=material_id%2Cformula_pretty%2Cenergy_per_atom%2Cformation_energy_per_atom%2Cband_gap%2Cefermi%2Cbulk_modulus%2Cshear_modulus%2Chomogeneous_poisson&material_ids=mp-637614&_limit=1000 (Caused by NameResolutionError(\"<urllib3.connection.HTTPSConnection object at 0x297f7ca90>: Failed to resolve 'api.materialsproject.org' ([Errno 8] nodename nor servname provided, or not known)\")) occured for material id: mp-637614\n",
      "Error HTTPSConnectionPool(host='api.materialsproject.org', port=443): Max retries exceeded with url: /materials/summary/?_fields=material_id%2Cformula_pretty%2Cenergy_per_atom%2Cformation_energy_per_atom%2Cband_gap%2Cefermi%2Cbulk_modulus%2Cshear_modulus%2Chomogeneous_poisson&material_ids=mp-761415&_limit=1000 (Caused by NameResolutionError(\"<urllib3.connection.HTTPSConnection object at 0x297f7e500>: Failed to resolve 'api.materialsproject.org' ([Errno 8] nodename nor servname provided, or not known)\")) occured for material id: mp-761415\n",
      "Error HTTPSConnectionPool(host='api.materialsproject.org', port=443): Max retries exceeded with url: /materials/summary/?_fields=material_id%2Cformula_pretty%2Cenergy_per_atom%2Cformation_energy_per_atom%2Cband_gap%2Cefermi%2Cbulk_modulus%2Cshear_modulus%2Chomogeneous_poisson&material_ids=mp-4666&_limit=1000 (Caused by NameResolutionError(\"<urllib3.connection.HTTPSConnection object at 0x299546fe0>: Failed to resolve 'api.materialsproject.org' ([Errno 8] nodename nor servname provided, or not known)\")) occured for material id: mp-4666\n",
      "Error HTTPSConnectionPool(host='api.materialsproject.org', port=443): Max retries exceeded with url: /materials/summary/?_fields=material_id%2Cformula_pretty%2Cenergy_per_atom%2Cformation_energy_per_atom%2Cband_gap%2Cefermi%2Cbulk_modulus%2Cshear_modulus%2Chomogeneous_poisson&material_ids=mp-19943&_limit=1000 (Caused by NameResolutionError(\"<urllib3.connection.HTTPSConnection object at 0x297f7ca90>: Failed to resolve 'api.materialsproject.org' ([Errno 8] nodename nor servname provided, or not known)\")) occured for material id: mp-19943\n",
      "Error HTTPSConnectionPool(host='api.materialsproject.org', port=443): Max retries exceeded with url: /materials/summary/?_fields=material_id%2Cformula_pretty%2Cenergy_per_atom%2Cformation_energy_per_atom%2Cband_gap%2Cefermi%2Cbulk_modulus%2Cshear_modulus%2Chomogeneous_poisson&material_ids=mp-165&_limit=1000 (Caused by NameResolutionError(\"<urllib3.connection.HTTPSConnection object at 0x299773eb0>: Failed to resolve 'api.materialsproject.org' ([Errno 8] nodename nor servname provided, or not known)\")) occured for material id: mp-165\n",
      "Error HTTPSConnectionPool(host='api.materialsproject.org', port=443): Max retries exceeded with url: /materials/summary/?_fields=material_id%2Cformula_pretty%2Cenergy_per_atom%2Cformation_energy_per_atom%2Cband_gap%2Cefermi%2Cbulk_modulus%2Cshear_modulus%2Chomogeneous_poisson&material_ids=mp-1180&_limit=1000 (Caused by NameResolutionError(\"<urllib3.connection.HTTPSConnection object at 0x297f7e680>: Failed to resolve 'api.materialsproject.org' ([Errno 8] nodename nor servname provided, or not known)\")) occured for material id: mp-1180\n",
      "Error HTTPSConnectionPool(host='api.materialsproject.org', port=443): Max retries exceeded with url: /materials/summary/?_fields=material_id%2Cformula_pretty%2Cenergy_per_atom%2Cformation_energy_per_atom%2Cband_gap%2Cefermi%2Cbulk_modulus%2Cshear_modulus%2Chomogeneous_poisson&material_ids=mp-10161&_limit=1000 (Caused by NameResolutionError(\"<urllib3.connection.HTTPSConnection object at 0x299773e20>: Failed to resolve 'api.materialsproject.org' ([Errno 8] nodename nor servname provided, or not known)\")) occured for material id: mp-10161\n",
      "Error HTTPSConnectionPool(host='api.materialsproject.org', port=443): Max retries exceeded with url: /materials/summary/?_fields=material_id%2Cformula_pretty%2Cenergy_per_atom%2Cformation_energy_per_atom%2Cband_gap%2Cefermi%2Cbulk_modulus%2Cshear_modulus%2Chomogeneous_poisson&material_ids=mp-9459&_limit=1000 (Caused by NameResolutionError(\"<urllib3.connection.HTTPSConnection object at 0x2997701f0>: Failed to resolve 'api.materialsproject.org' ([Errno 8] nodename nor servname provided, or not known)\")) occured for material id: mp-9459\n",
      "Error HTTPSConnectionPool(host='api.materialsproject.org', port=443): Max retries exceeded with url: /materials/summary/?_fields=material_id%2Cformula_pretty%2Cenergy_per_atom%2Cformation_energy_per_atom%2Cband_gap%2Cefermi%2Cbulk_modulus%2Cshear_modulus%2Chomogeneous_poisson&material_ids=mp-764312&_limit=1000 (Caused by NameResolutionError(\"<urllib3.connection.HTTPSConnection object at 0x297f7fa60>: Failed to resolve 'api.materialsproject.org' ([Errno 8] nodename nor servname provided, or not known)\")) occured for material id: mp-764312\n",
      "Error HTTPSConnectionPool(host='api.materialsproject.org', port=443): Max retries exceeded with url: /materials/summary/?_fields=material_id%2Cformula_pretty%2Cenergy_per_atom%2Cformation_energy_per_atom%2Cband_gap%2Cefermi%2Cbulk_modulus%2Cshear_modulus%2Chomogeneous_poisson&material_ids=mp-11879&_limit=1000 (Caused by NameResolutionError(\"<urllib3.connection.HTTPSConnection object at 0x2997733d0>: Failed to resolve 'api.materialsproject.org' ([Errno 8] nodename nor servname provided, or not known)\")) occured for material id: mp-11879\n",
      "Error HTTPSConnectionPool(host='api.materialsproject.org', port=443): Max retries exceeded with url: /materials/summary/?_fields=material_id%2Cformula_pretty%2Cenergy_per_atom%2Cformation_energy_per_atom%2Cband_gap%2Cefermi%2Cbulk_modulus%2Cshear_modulus%2Chomogeneous_poisson&material_ids=mp-1784&_limit=1000 (Caused by NameResolutionError(\"<urllib3.connection.HTTPSConnection object at 0x299770160>: Failed to resolve 'api.materialsproject.org' ([Errno 8] nodename nor servname provided, or not known)\")) occured for material id: mp-1784\n",
      "Error HTTPSConnectionPool(host='api.materialsproject.org', port=443): Max retries exceeded with url: /materials/summary/?_fields=material_id%2Cformula_pretty%2Cenergy_per_atom%2Cformation_energy_per_atom%2Cband_gap%2Cefermi%2Cbulk_modulus%2Cshear_modulus%2Chomogeneous_poisson&material_ids=mp-773305&_limit=1000 (Caused by NameResolutionError(\"<urllib3.connection.HTTPSConnection object at 0x299772b60>: Failed to resolve 'api.materialsproject.org' ([Errno 8] nodename nor servname provided, or not known)\")) occured for material id: mp-773305\n",
      "Error HTTPSConnectionPool(host='api.materialsproject.org', port=443): Max retries exceeded with url: /materials/summary/?_fields=material_id%2Cformula_pretty%2Cenergy_per_atom%2Cformation_energy_per_atom%2Cband_gap%2Cefermi%2Cbulk_modulus%2Cshear_modulus%2Chomogeneous_poisson&material_ids=mp-11022&_limit=1000 (Caused by NameResolutionError(\"<urllib3.connection.HTTPSConnection object at 0x299772f50>: Failed to resolve 'api.materialsproject.org' ([Errno 8] nodename nor servname provided, or not known)\")) occured for material id: mp-11022\n",
      "Error HTTPSConnectionPool(host='api.materialsproject.org', port=443): Max retries exceeded with url: /materials/summary/?_fields=material_id%2Cformula_pretty%2Cenergy_per_atom%2Cformation_energy_per_atom%2Cband_gap%2Cefermi%2Cbulk_modulus%2Cshear_modulus%2Chomogeneous_poisson&material_ids=mp-1239&_limit=1000 (Caused by NameResolutionError(\"<urllib3.connection.HTTPSConnection object at 0x299772fe0>: Failed to resolve 'api.materialsproject.org' ([Errno 8] nodename nor servname provided, or not known)\")) occured for material id: mp-1239\n",
      "Error HTTPSConnectionPool(host='api.materialsproject.org', port=443): Max retries exceeded with url: /materials/summary/?_fields=material_id%2Cformula_pretty%2Cenergy_per_atom%2Cformation_energy_per_atom%2Cband_gap%2Cefermi%2Cbulk_modulus%2Cshear_modulus%2Chomogeneous_poisson&material_ids=mp-684668&_limit=1000 (Caused by NameResolutionError(\"<urllib3.connection.HTTPSConnection object at 0x299770340>: Failed to resolve 'api.materialsproject.org' ([Errno 8] nodename nor servname provided, or not known)\")) occured for material id: mp-684668\n",
      "Error HTTPSConnectionPool(host='api.materialsproject.org', port=443): Max retries exceeded with url: /materials/summary/?_fields=material_id%2Cformula_pretty%2Cenergy_per_atom%2Cformation_energy_per_atom%2Cband_gap%2Cefermi%2Cbulk_modulus%2Cshear_modulus%2Chomogeneous_poisson&material_ids=mp-11334&_limit=1000 (Caused by NameResolutionError(\"<urllib3.connection.HTTPSConnection object at 0x297f9e890>: Failed to resolve 'api.materialsproject.org' ([Errno 8] nodename nor servname provided, or not known)\")) occured for material id: mp-11334\n",
      "Error HTTPSConnectionPool(host='api.materialsproject.org', port=443): Max retries exceeded with url: /materials/summary/?_fields=material_id%2Cformula_pretty%2Cenergy_per_atom%2Cformation_energy_per_atom%2Cband_gap%2Cefermi%2Cbulk_modulus%2Cshear_modulus%2Chomogeneous_poisson&material_ids=mp-8276&_limit=1000 (Caused by NameResolutionError(\"<urllib3.connection.HTTPSConnection object at 0x299773640>: Failed to resolve 'api.materialsproject.org' ([Errno 8] nodename nor servname provided, or not known)\")) occured for material id: mp-8276\n",
      "Error HTTPSConnectionPool(host='api.materialsproject.org', port=443): Max retries exceeded with url: /materials/summary/?_fields=material_id%2Cformula_pretty%2Cenergy_per_atom%2Cformation_energy_per_atom%2Cband_gap%2Cefermi%2Cbulk_modulus%2Cshear_modulus%2Chomogeneous_poisson&material_ids=mp-1264&_limit=1000 (Caused by NameResolutionError(\"<urllib3.connection.HTTPSConnection object at 0x2997726b0>: Failed to resolve 'api.materialsproject.org' ([Errno 8] nodename nor servname provided, or not known)\")) occured for material id: mp-1264\n",
      "Error HTTPSConnectionPool(host='api.materialsproject.org', port=443): Max retries exceeded with url: /materials/summary/?_fields=material_id%2Cformula_pretty%2Cenergy_per_atom%2Cformation_energy_per_atom%2Cband_gap%2Cefermi%2Cbulk_modulus%2Cshear_modulus%2Chomogeneous_poisson&material_ids=mp-977580&_limit=1000 (Caused by NameResolutionError(\"<urllib3.connection.HTTPSConnection object at 0x299772200>: Failed to resolve 'api.materialsproject.org' ([Errno 8] nodename nor servname provided, or not known)\")) occured for material id: mp-977580\n",
      "Error HTTPSConnectionPool(host='api.materialsproject.org', port=443): Max retries exceeded with url: /materials/summary/?_fields=material_id%2Cformula_pretty%2Cenergy_per_atom%2Cformation_energy_per_atom%2Cband_gap%2Cefermi%2Cbulk_modulus%2Cshear_modulus%2Chomogeneous_poisson&material_ids=mp-570081&_limit=1000 (Caused by NameResolutionError(\"<urllib3.connection.HTTPSConnection object at 0x299773460>: Failed to resolve 'api.materialsproject.org' ([Errno 8] nodename nor servname provided, or not known)\")) occured for material id: mp-570081\n",
      "Error HTTPSConnectionPool(host='api.materialsproject.org', port=443): Max retries exceeded with url: /materials/summary/?_fields=material_id%2Cformula_pretty%2Cenergy_per_atom%2Cformation_energy_per_atom%2Cband_gap%2Cefermi%2Cbulk_modulus%2Cshear_modulus%2Chomogeneous_poisson&material_ids=mp-830&_limit=1000 (Caused by NameResolutionError(\"<urllib3.connection.HTTPSConnection object at 0x299773340>: Failed to resolve 'api.materialsproject.org' ([Errno 8] nodename nor servname provided, or not known)\")) occured for material id: mp-830\n",
      "Error HTTPSConnectionPool(host='api.materialsproject.org', port=443): Max retries exceeded with url: /materials/summary/?_fields=material_id%2Cformula_pretty%2Cenergy_per_atom%2Cformation_energy_per_atom%2Cband_gap%2Cefermi%2Cbulk_modulus%2Cshear_modulus%2Chomogeneous_poisson&material_ids=mp-20061&_limit=1000 (Caused by NameResolutionError(\"<urllib3.connection.HTTPSConnection object at 0x299770700>: Failed to resolve 'api.materialsproject.org' ([Errno 8] nodename nor servname provided, or not known)\")) occured for material id: mp-20061\n",
      "Error HTTPSConnectionPool(host='api.materialsproject.org', port=443): Max retries exceeded with url: /materials/summary/?_fields=material_id%2Cformula_pretty%2Cenergy_per_atom%2Cformation_energy_per_atom%2Cband_gap%2Cefermi%2Cbulk_modulus%2Cshear_modulus%2Chomogeneous_poisson&material_ids=mp-972916&_limit=1000 (Caused by NameResolutionError(\"<urllib3.connection.HTTPSConnection object at 0x2997714b0>: Failed to resolve 'api.materialsproject.org' ([Errno 8] nodename nor servname provided, or not known)\")) occured for material id: mp-972916\n",
      "Error HTTPSConnectionPool(host='api.materialsproject.org', port=443): Max retries exceeded with url: /materials/summary/?_fields=material_id%2Cformula_pretty%2Cenergy_per_atom%2Cformation_energy_per_atom%2Cband_gap%2Cefermi%2Cbulk_modulus%2Cshear_modulus%2Chomogeneous_poisson&material_ids=mp-22095&_limit=1000 (Caused by NameResolutionError(\"<urllib3.connection.HTTPSConnection object at 0x299771c00>: Failed to resolve 'api.materialsproject.org' ([Errno 8] nodename nor servname provided, or not known)\")) occured for material id: mp-22095\n",
      "Error HTTPSConnectionPool(host='api.materialsproject.org', port=443): Max retries exceeded with url: /materials/summary/?_fields=material_id%2Cformula_pretty%2Cenergy_per_atom%2Cformation_energy_per_atom%2Cband_gap%2Cefermi%2Cbulk_modulus%2Cshear_modulus%2Chomogeneous_poisson&material_ids=mp-2515&_limit=1000 (Caused by NameResolutionError(\"<urllib3.connection.HTTPSConnection object at 0x2997739a0>: Failed to resolve 'api.materialsproject.org' ([Errno 8] nodename nor servname provided, or not known)\")) occured for material id: mp-2515\n",
      "Error HTTPSConnectionPool(host='api.materialsproject.org', port=443): Max retries exceeded with url: /materials/summary/?_fields=material_id%2Cformula_pretty%2Cenergy_per_atom%2Cformation_energy_per_atom%2Cband_gap%2Cefermi%2Cbulk_modulus%2Cshear_modulus%2Chomogeneous_poisson&material_ids=mp-11176&_limit=1000 (Caused by NameResolutionError(\"<urllib3.connection.HTTPSConnection object at 0x299771cc0>: Failed to resolve 'api.materialsproject.org' ([Errno 8] nodename nor servname provided, or not known)\")) occured for material id: mp-11176\n",
      "Error HTTPSConnectionPool(host='api.materialsproject.org', port=443): Max retries exceeded with url: /materials/summary/?_fields=material_id%2Cformula_pretty%2Cenergy_per_atom%2Cformation_energy_per_atom%2Cband_gap%2Cefermi%2Cbulk_modulus%2Cshear_modulus%2Chomogeneous_poisson&material_ids=mp-22637&_limit=1000 (Caused by NameResolutionError(\"<urllib3.connection.HTTPSConnection object at 0x299773d90>: Failed to resolve 'api.materialsproject.org' ([Errno 8] nodename nor servname provided, or not known)\")) occured for material id: mp-22637\n",
      "Error HTTPSConnectionPool(host='api.materialsproject.org', port=443): Max retries exceeded with url: /materials/summary/?_fields=material_id%2Cformula_pretty%2Cenergy_per_atom%2Cformation_energy_per_atom%2Cband_gap%2Cefermi%2Cbulk_modulus%2Cshear_modulus%2Chomogeneous_poisson&material_ids=mp-581786&_limit=1000 (Caused by NameResolutionError(\"<urllib3.connection.HTTPSConnection object at 0x297f7c220>: Failed to resolve 'api.materialsproject.org' ([Errno 8] nodename nor servname provided, or not known)\")) occured for material id: mp-581786\n",
      "Error HTTPSConnectionPool(host='api.materialsproject.org', port=443): Max retries exceeded with url: /materials/summary/?_fields=material_id%2Cformula_pretty%2Cenergy_per_atom%2Cformation_energy_per_atom%2Cband_gap%2Cefermi%2Cbulk_modulus%2Cshear_modulus%2Chomogeneous_poisson&material_ids=mp-3701&_limit=1000 (Caused by NameResolutionError(\"<urllib3.connection.HTTPSConnection object at 0x299771f90>: Failed to resolve 'api.materialsproject.org' ([Errno 8] nodename nor servname provided, or not known)\")) occured for material id: mp-3701\n",
      "Error HTTPSConnectionPool(host='api.materialsproject.org', port=443): Max retries exceeded with url: /materials/summary/?_fields=material_id%2Cformula_pretty%2Cenergy_per_atom%2Cformation_energy_per_atom%2Cband_gap%2Cefermi%2Cbulk_modulus%2Cshear_modulus%2Chomogeneous_poisson&material_ids=mp-241&_limit=1000 (Caused by NameResolutionError(\"<urllib3.connection.HTTPSConnection object at 0x299771e70>: Failed to resolve 'api.materialsproject.org' ([Errno 8] nodename nor servname provided, or not known)\")) occured for material id: mp-241\n",
      "Error HTTPSConnectionPool(host='api.materialsproject.org', port=443): Max retries exceeded with url: /materials/summary/?_fields=material_id%2Cformula_pretty%2Cenergy_per_atom%2Cformation_energy_per_atom%2Cband_gap%2Cefermi%2Cbulk_modulus%2Cshear_modulus%2Chomogeneous_poisson&material_ids=mp-766906&_limit=1000 (Caused by NameResolutionError(\"<urllib3.connection.HTTPSConnection object at 0x297f7f940>: Failed to resolve 'api.materialsproject.org' ([Errno 8] nodename nor servname provided, or not known)\")) occured for material id: mp-766906\n",
      "Error HTTPSConnectionPool(host='api.materialsproject.org', port=443): Max retries exceeded with url: /materials/summary/?_fields=material_id%2Cformula_pretty%2Cenergy_per_atom%2Cformation_energy_per_atom%2Cband_gap%2Cefermi%2Cbulk_modulus%2Cshear_modulus%2Chomogeneous_poisson&material_ids=mp-21851&_limit=1000 (Caused by NameResolutionError(\"<urllib3.connection.HTTPSConnection object at 0x299771510>: Failed to resolve 'api.materialsproject.org' ([Errno 8] nodename nor servname provided, or not known)\")) occured for material id: mp-21851\n",
      "Error HTTPSConnectionPool(host='api.materialsproject.org', port=443): Max retries exceeded with url: /materials/summary/?_fields=material_id%2Cformula_pretty%2Cenergy_per_atom%2Cformation_energy_per_atom%2Cband_gap%2Cefermi%2Cbulk_modulus%2Cshear_modulus%2Chomogeneous_poisson&material_ids=mp-8352&_limit=1000 (Caused by NameResolutionError(\"<urllib3.connection.HTTPSConnection object at 0x297f7d720>: Failed to resolve 'api.materialsproject.org' ([Errno 8] nodename nor servname provided, or not known)\")) occured for material id: mp-8352\n",
      "Error HTTPSConnectionPool(host='api.materialsproject.org', port=443): Max retries exceeded with url: /materials/summary/?_fields=material_id%2Cformula_pretty%2Cenergy_per_atom%2Cformation_energy_per_atom%2Cband_gap%2Cefermi%2Cbulk_modulus%2Cshear_modulus%2Chomogeneous_poisson&material_ids=mp-13947&_limit=1000 (Caused by NameResolutionError(\"<urllib3.connection.HTTPSConnection object at 0x297f7dab0>: Failed to resolve 'api.materialsproject.org' ([Errno 8] nodename nor servname provided, or not known)\")) occured for material id: mp-13947\n",
      "Error HTTPSConnectionPool(host='api.materialsproject.org', port=443): Max retries exceeded with url: /materials/summary/?_fields=material_id%2Cformula_pretty%2Cenergy_per_atom%2Cformation_energy_per_atom%2Cband_gap%2Cefermi%2Cbulk_modulus%2Cshear_modulus%2Chomogeneous_poisson&material_ids=mp-755309&_limit=1000 (Caused by NameResolutionError(\"<urllib3.connection.HTTPSConnection object at 0x299770e80>: Failed to resolve 'api.materialsproject.org' ([Errno 8] nodename nor servname provided, or not known)\")) occured for material id: mp-755309\n",
      "Error HTTPSConnectionPool(host='api.materialsproject.org', port=443): Max retries exceeded with url: /materials/summary/?_fields=material_id%2Cformula_pretty%2Cenergy_per_atom%2Cformation_energy_per_atom%2Cband_gap%2Cefermi%2Cbulk_modulus%2Cshear_modulus%2Chomogeneous_poisson&material_ids=mp-31297&_limit=1000 (Caused by NameResolutionError(\"<urllib3.connection.HTTPSConnection object at 0x297f7d390>: Failed to resolve 'api.materialsproject.org' ([Errno 8] nodename nor servname provided, or not known)\")) occured for material id: mp-31297\n",
      "Error HTTPSConnectionPool(host='api.materialsproject.org', port=443): Max retries exceeded with url: /materials/summary/?_fields=material_id%2Cformula_pretty%2Cenergy_per_atom%2Cformation_energy_per_atom%2Cband_gap%2Cefermi%2Cbulk_modulus%2Cshear_modulus%2Chomogeneous_poisson&material_ids=mp-11489&_limit=1000 (Caused by NameResolutionError(\"<urllib3.connection.HTTPSConnection object at 0x297f7ee90>: Failed to resolve 'api.materialsproject.org' ([Errno 8] nodename nor servname provided, or not known)\")) occured for material id: mp-11489\n",
      "Error HTTPSConnectionPool(host='api.materialsproject.org', port=443): Max retries exceeded with url: /materials/summary/?_fields=material_id%2Cformula_pretty%2Cenergy_per_atom%2Cformation_energy_per_atom%2Cband_gap%2Cefermi%2Cbulk_modulus%2Cshear_modulus%2Chomogeneous_poisson&material_ids=mp-5456&_limit=1000 (Caused by NameResolutionError(\"<urllib3.connection.HTTPSConnection object at 0x299773ac0>: Failed to resolve 'api.materialsproject.org' ([Errno 8] nodename nor servname provided, or not known)\")) occured for material id: mp-5456\n",
      "Error HTTPSConnectionPool(host='api.materialsproject.org', port=443): Max retries exceeded with url: /materials/summary/?_fields=material_id%2Cformula_pretty%2Cenergy_per_atom%2Cformation_energy_per_atom%2Cband_gap%2Cefermi%2Cbulk_modulus%2Cshear_modulus%2Chomogeneous_poisson&material_ids=mp-5827&_limit=1000 (Caused by NameResolutionError(\"<urllib3.connection.HTTPSConnection object at 0x297f7f8e0>: Failed to resolve 'api.materialsproject.org' ([Errno 8] nodename nor servname provided, or not known)\")) occured for material id: mp-5827\n",
      "Error HTTPSConnectionPool(host='api.materialsproject.org', port=443): Max retries exceeded with url: /materials/summary/?_fields=material_id%2Cformula_pretty%2Cenergy_per_atom%2Cformation_energy_per_atom%2Cband_gap%2Cefermi%2Cbulk_modulus%2Cshear_modulus%2Chomogeneous_poisson&material_ids=mp-1949&_limit=1000 (Caused by NameResolutionError(\"<urllib3.connection.HTTPSConnection object at 0x299771c30>: Failed to resolve 'api.materialsproject.org' ([Errno 8] nodename nor servname provided, or not known)\")) occured for material id: mp-1949\n",
      "Error HTTPSConnectionPool(host='api.materialsproject.org', port=443): Max retries exceeded with url: /materials/summary/?_fields=material_id%2Cformula_pretty%2Cenergy_per_atom%2Cformation_energy_per_atom%2Cband_gap%2Cefermi%2Cbulk_modulus%2Cshear_modulus%2Chomogeneous_poisson&material_ids=mp-16488&_limit=1000 (Caused by NameResolutionError(\"<urllib3.connection.HTTPSConnection object at 0x299773dc0>: Failed to resolve 'api.materialsproject.org' ([Errno 8] nodename nor servname provided, or not known)\")) occured for material id: mp-16488\n",
      "Error HTTPSConnectionPool(host='api.materialsproject.org', port=443): Max retries exceeded with url: /materials/summary/?_fields=material_id%2Cformula_pretty%2Cenergy_per_atom%2Cformation_energy_per_atom%2Cband_gap%2Cefermi%2Cbulk_modulus%2Cshear_modulus%2Chomogeneous_poisson&material_ids=mp-5046&_limit=1000 (Caused by NameResolutionError(\"<urllib3.connection.HTTPSConnection object at 0x297f7e620>: Failed to resolve 'api.materialsproject.org' ([Errno 8] nodename nor servname provided, or not known)\")) occured for material id: mp-5046\n",
      "Error HTTPSConnectionPool(host='api.materialsproject.org', port=443): Max retries exceeded with url: /materials/summary/?_fields=material_id%2Cformula_pretty%2Cenergy_per_atom%2Cformation_energy_per_atom%2Cband_gap%2Cefermi%2Cbulk_modulus%2Cshear_modulus%2Chomogeneous_poisson&material_ids=mp-1067&_limit=1000 (Caused by NameResolutionError(\"<urllib3.connection.HTTPSConnection object at 0x299771030>: Failed to resolve 'api.materialsproject.org' ([Errno 8] nodename nor servname provided, or not known)\")) occured for material id: mp-1067\n",
      "Error HTTPSConnectionPool(host='api.materialsproject.org', port=443): Max retries exceeded with url: /materials/summary/?_fields=material_id%2Cformula_pretty%2Cenergy_per_atom%2Cformation_energy_per_atom%2Cband_gap%2Cefermi%2Cbulk_modulus%2Cshear_modulus%2Chomogeneous_poisson&material_ids=mp-510412&_limit=1000 (Caused by NameResolutionError(\"<urllib3.connection.HTTPSConnection object at 0x297f7d6f0>: Failed to resolve 'api.materialsproject.org' ([Errno 8] nodename nor servname provided, or not known)\")) occured for material id: mp-510412\n",
      "Error HTTPSConnectionPool(host='api.materialsproject.org', port=443): Max retries exceeded with url: /materials/summary/?_fields=material_id%2Cformula_pretty%2Cenergy_per_atom%2Cformation_energy_per_atom%2Cband_gap%2Cefermi%2Cbulk_modulus%2Cshear_modulus%2Chomogeneous_poisson&material_ids=mp-2008&_limit=1000 (Caused by NameResolutionError(\"<urllib3.connection.HTTPSConnection object at 0x297f7f460>: Failed to resolve 'api.materialsproject.org' ([Errno 8] nodename nor servname provided, or not known)\")) occured for material id: mp-2008\n",
      "Error HTTPSConnectionPool(host='api.materialsproject.org', port=443): Max retries exceeded with url: /materials/summary/?_fields=material_id%2Cformula_pretty%2Cenergy_per_atom%2Cformation_energy_per_atom%2Cband_gap%2Cefermi%2Cbulk_modulus%2Cshear_modulus%2Chomogeneous_poisson&material_ids=mp-22258&_limit=1000 (Caused by NameResolutionError(\"<urllib3.connection.HTTPSConnection object at 0x297f7ded0>: Failed to resolve 'api.materialsproject.org' ([Errno 8] nodename nor servname provided, or not known)\")) occured for material id: mp-22258\n",
      "Error HTTPSConnectionPool(host='api.materialsproject.org', port=443): Max retries exceeded with url: /materials/summary/?_fields=material_id%2Cformula_pretty%2Cenergy_per_atom%2Cformation_energy_per_atom%2Cband_gap%2Cefermi%2Cbulk_modulus%2Cshear_modulus%2Chomogeneous_poisson&material_ids=mp-571264&_limit=1000 (Caused by NameResolutionError(\"<urllib3.connection.HTTPSConnection object at 0x299772da0>: Failed to resolve 'api.materialsproject.org' ([Errno 8] nodename nor servname provided, or not known)\")) occured for material id: mp-571264\n",
      "Error HTTPSConnectionPool(host='api.materialsproject.org', port=443): Max retries exceeded with url: /materials/summary/?_fields=material_id%2Cformula_pretty%2Cenergy_per_atom%2Cformation_energy_per_atom%2Cband_gap%2Cefermi%2Cbulk_modulus%2Cshear_modulus%2Chomogeneous_poisson&material_ids=mp-1451&_limit=1000 (Caused by NameResolutionError(\"<urllib3.connection.HTTPSConnection object at 0x297f9d660>: Failed to resolve 'api.materialsproject.org' ([Errno 8] nodename nor servname provided, or not known)\")) occured for material id: mp-1451\n",
      "Error HTTPSConnectionPool(host='api.materialsproject.org', port=443): Max retries exceeded with url: /materials/summary/?_fields=material_id%2Cformula_pretty%2Cenergy_per_atom%2Cformation_energy_per_atom%2Cband_gap%2Cefermi%2Cbulk_modulus%2Cshear_modulus%2Chomogeneous_poisson&material_ids=mp-12777&_limit=1000 (Caused by NameResolutionError(\"<urllib3.connection.HTTPSConnection object at 0x299772bf0>: Failed to resolve 'api.materialsproject.org' ([Errno 8] nodename nor servname provided, or not known)\")) occured for material id: mp-12777\n",
      "Error HTTPSConnectionPool(host='api.materialsproject.org', port=443): Max retries exceeded with url: /materials/summary/?_fields=material_id%2Cformula_pretty%2Cenergy_per_atom%2Cformation_energy_per_atom%2Cband_gap%2Cefermi%2Cbulk_modulus%2Cshear_modulus%2Chomogeneous_poisson&material_ids=mp-5652&_limit=1000 (Caused by NameResolutionError(\"<urllib3.connection.HTTPSConnection object at 0x297f9d3c0>: Failed to resolve 'api.materialsproject.org' ([Errno 8] nodename nor servname provided, or not known)\")) occured for material id: mp-5652\n"
     ]
    },
    {
     "name": "stderr",
     "output_type": "stream",
     "text": [
      "Retrieving SummaryDoc documents: 100%|█████████| 1/1 [00:00<00:00, 12826.62it/s]\n",
      "Retrieving SummaryDoc documents: 100%|█████████| 1/1 [00:00<00:00, 23172.95it/s]\n",
      "Retrieving SummaryDoc documents: 100%|█████████| 1/1 [00:00<00:00, 23696.63it/s]\n",
      "Retrieving SummaryDoc documents: 100%|█████████| 1/1 [00:00<00:00, 21732.15it/s]\n",
      "Retrieving SummaryDoc documents: 100%|█████████| 1/1 [00:00<00:00, 22310.13it/s]\n",
      "Retrieving SummaryDoc documents: 100%|█████████| 1/1 [00:00<00:00, 23301.69it/s]\n"
     ]
    },
    {
     "name": "stdout",
     "output_type": "stream",
     "text": [
      "Error HTTPSConnectionPool(host='api.materialsproject.org', port=443): Max retries exceeded with url: /materials/summary/?_fields=material_id%2Cformula_pretty%2Cenergy_per_atom%2Cformation_energy_per_atom%2Cband_gap%2Cefermi%2Cbulk_modulus%2Cshear_modulus%2Chomogeneous_poisson&material_ids=mp-764286&_limit=1000 (Caused by NameResolutionError(\"<urllib3.connection.HTTPSConnection object at 0x299a9c220>: Failed to resolve 'api.materialsproject.org' ([Errno 8] nodename nor servname provided, or not known)\")) occured for material id: mp-764286\n",
      "Error HTTPSConnectionPool(host='api.materialsproject.org', port=443): Max retries exceeded with url: /materials/summary/?_fields=material_id%2Cformula_pretty%2Cenergy_per_atom%2Cformation_energy_per_atom%2Cband_gap%2Cefermi%2Cbulk_modulus%2Cshear_modulus%2Chomogeneous_poisson&material_ids=mp-1265&_limit=1000 (Caused by NameResolutionError(\"<urllib3.connection.HTTPSConnection object at 0x299a9d870>: Failed to resolve 'api.materialsproject.org' ([Errno 8] nodename nor servname provided, or not known)\")) occured for material id: mp-1265\n",
      "Error HTTPSConnectionPool(host='api.materialsproject.org', port=443): Max retries exceeded with url: /materials/summary/?_fields=material_id%2Cformula_pretty%2Cenergy_per_atom%2Cformation_energy_per_atom%2Cband_gap%2Cefermi%2Cbulk_modulus%2Cshear_modulus%2Chomogeneous_poisson&material_ids=mp-427&_limit=1000 (Caused by NameResolutionError(\"<urllib3.connection.HTTPSConnection object at 0x299a9efe0>: Failed to resolve 'api.materialsproject.org' ([Errno 8] nodename nor servname provided, or not known)\")) occured for material id: mp-427\n",
      "Error HTTPSConnectionPool(host='api.materialsproject.org', port=443): Max retries exceeded with url: /materials/summary/?_fields=material_id%2Cformula_pretty%2Cenergy_per_atom%2Cformation_energy_per_atom%2Cband_gap%2Cefermi%2Cbulk_modulus%2Cshear_modulus%2Chomogeneous_poisson&material_ids=mp-2672&_limit=1000 (Caused by NameResolutionError(\"<urllib3.connection.HTTPSConnection object at 0x299a9f130>: Failed to resolve 'api.materialsproject.org' ([Errno 8] nodename nor servname provided, or not known)\")) occured for material id: mp-2672\n",
      "Error HTTPSConnectionPool(host='api.materialsproject.org', port=443): Max retries exceeded with url: /materials/summary/?_fields=material_id%2Cformula_pretty%2Cenergy_per_atom%2Cformation_energy_per_atom%2Cband_gap%2Cefermi%2Cbulk_modulus%2Cshear_modulus%2Chomogeneous_poisson&material_ids=mp-10133&_limit=1000 (Caused by NameResolutionError(\"<urllib3.connection.HTTPSConnection object at 0x299a9ddb0>: Failed to resolve 'api.materialsproject.org' ([Errno 8] nodename nor servname provided, or not known)\")) occured for material id: mp-10133\n",
      "Error HTTPSConnectionPool(host='api.materialsproject.org', port=443): Max retries exceeded with url: /materials/summary/?_fields=material_id%2Cformula_pretty%2Cenergy_per_atom%2Cformation_energy_per_atom%2Cband_gap%2Cefermi%2Cbulk_modulus%2Cshear_modulus%2Chomogeneous_poisson&material_ids=mp-1552&_limit=1000 (Caused by NameResolutionError(\"<urllib3.connection.HTTPSConnection object at 0x299770580>: Failed to resolve 'api.materialsproject.org' ([Errno 8] nodename nor servname provided, or not known)\")) occured for material id: mp-1552\n",
      "Error HTTPSConnectionPool(host='api.materialsproject.org', port=443): Max retries exceeded with url: /materials/summary/?_fields=material_id%2Cformula_pretty%2Cenergy_per_atom%2Cformation_energy_per_atom%2Cband_gap%2Cefermi%2Cbulk_modulus%2Cshear_modulus%2Chomogeneous_poisson&material_ids=mp-978273&_limit=1000 (Caused by NameResolutionError(\"<urllib3.connection.HTTPSConnection object at 0x299a9f070>: Failed to resolve 'api.materialsproject.org' ([Errno 8] nodename nor servname provided, or not known)\")) occured for material id: mp-978273\n",
      "Error HTTPSConnectionPool(host='api.materialsproject.org', port=443): Max retries exceeded with url: /materials/summary/?_fields=material_id%2Cformula_pretty%2Cenergy_per_atom%2Cformation_energy_per_atom%2Cband_gap%2Cefermi%2Cbulk_modulus%2Cshear_modulus%2Chomogeneous_poisson&material_ids=mp-31212&_limit=1000 (Caused by NameResolutionError(\"<urllib3.connection.HTTPSConnection object at 0x299bb10c0>: Failed to resolve 'api.materialsproject.org' ([Errno 8] nodename nor servname provided, or not known)\")) occured for material id: mp-31212\n",
      "Error HTTPSConnectionPool(host='api.materialsproject.org', port=443): Max retries exceeded with url: /materials/summary/?_fields=material_id%2Cformula_pretty%2Cenergy_per_atom%2Cformation_energy_per_atom%2Cband_gap%2Cefermi%2Cbulk_modulus%2Cshear_modulus%2Chomogeneous_poisson&material_ids=mp-284&_limit=1000 (Caused by NameResolutionError(\"<urllib3.connection.HTTPSConnection object at 0x297f7e3b0>: Failed to resolve 'api.materialsproject.org' ([Errno 8] nodename nor servname provided, or not known)\")) occured for material id: mp-284\n",
      "Error HTTPSConnectionPool(host='api.materialsproject.org', port=443): Max retries exceeded with url: /materials/summary/?_fields=material_id%2Cformula_pretty%2Cenergy_per_atom%2Cformation_energy_per_atom%2Cband_gap%2Cefermi%2Cbulk_modulus%2Cshear_modulus%2Chomogeneous_poisson&material_ids=mp-20724&_limit=1000 (Caused by NameResolutionError(\"<urllib3.connection.HTTPSConnection object at 0x299a9f5b0>: Failed to resolve 'api.materialsproject.org' ([Errno 8] nodename nor servname provided, or not known)\")) occured for material id: mp-20724\n",
      "Error HTTPSConnectionPool(host='api.materialsproject.org', port=443): Max retries exceeded with url: /materials/summary/?_fields=material_id%2Cformula_pretty%2Cenergy_per_atom%2Cformation_energy_per_atom%2Cband_gap%2Cefermi%2Cbulk_modulus%2Cshear_modulus%2Chomogeneous_poisson&material_ids=mp-517&_limit=1000 (Caused by NameResolutionError(\"<urllib3.connection.HTTPSConnection object at 0x299bb1b70>: Failed to resolve 'api.materialsproject.org' ([Errno 8] nodename nor servname provided, or not known)\")) occured for material id: mp-517\n",
      "Error HTTPSConnectionPool(host='api.materialsproject.org', port=443): Max retries exceeded with url: /materials/summary/?_fields=material_id%2Cformula_pretty%2Cenergy_per_atom%2Cformation_energy_per_atom%2Cband_gap%2Cefermi%2Cbulk_modulus%2Cshear_modulus%2Chomogeneous_poisson&material_ids=mp-567929&_limit=1000 (Caused by NameResolutionError(\"<urllib3.connection.HTTPSConnection object at 0x299a9ce20>: Failed to resolve 'api.materialsproject.org' ([Errno 8] nodename nor servname provided, or not known)\")) occured for material id: mp-567929\n",
      "Error HTTPSConnectionPool(host='api.materialsproject.org', port=443): Max retries exceeded with url: /materials/summary/?_fields=material_id%2Cformula_pretty%2Cenergy_per_atom%2Cformation_energy_per_atom%2Cband_gap%2Cefermi%2Cbulk_modulus%2Cshear_modulus%2Chomogeneous_poisson&material_ids=mp-9615&_limit=1000 (Caused by NameResolutionError(\"<urllib3.connection.HTTPSConnection object at 0x299bb0b80>: Failed to resolve 'api.materialsproject.org' ([Errno 8] nodename nor servname provided, or not known)\")) occured for material id: mp-9615\n",
      "Error HTTPSConnectionPool(host='api.materialsproject.org', port=443): Max retries exceeded with url: /materials/summary/?_fields=material_id%2Cformula_pretty%2Cenergy_per_atom%2Cformation_energy_per_atom%2Cband_gap%2Cefermi%2Cbulk_modulus%2Cshear_modulus%2Chomogeneous_poisson&material_ids=mp-258&_limit=1000 (Caused by NameResolutionError(\"<urllib3.connection.HTTPSConnection object at 0x299bb2cb0>: Failed to resolve 'api.materialsproject.org' ([Errno 8] nodename nor servname provided, or not known)\")) occured for material id: mp-258\n",
      "Error HTTPSConnectionPool(host='api.materialsproject.org', port=443): Max retries exceeded with url: /materials/summary/?_fields=material_id%2Cformula_pretty%2Cenergy_per_atom%2Cformation_energy_per_atom%2Cband_gap%2Cefermi%2Cbulk_modulus%2Cshear_modulus%2Chomogeneous_poisson&material_ids=mp-21035&_limit=1000 (Caused by NameResolutionError(\"<urllib3.connection.HTTPSConnection object at 0x299a9f400>: Failed to resolve 'api.materialsproject.org' ([Errno 8] nodename nor servname provided, or not known)\")) occured for material id: mp-21035\n",
      "Error HTTPSConnectionPool(host='api.materialsproject.org', port=443): Max retries exceeded with url: /materials/summary/?_fields=material_id%2Cformula_pretty%2Cenergy_per_atom%2Cformation_energy_per_atom%2Cband_gap%2Cefermi%2Cbulk_modulus%2Cshear_modulus%2Chomogeneous_poisson&material_ids=mp-638&_limit=1000 (Caused by NameResolutionError(\"<urllib3.connection.HTTPSConnection object at 0x299bb37c0>: Failed to resolve 'api.materialsproject.org' ([Errno 8] nodename nor servname provided, or not known)\")) occured for material id: mp-638\n",
      "Error HTTPSConnectionPool(host='api.materialsproject.org', port=443): Max retries exceeded with url: /materials/summary/?_fields=material_id%2Cformula_pretty%2Cenergy_per_atom%2Cformation_energy_per_atom%2Cband_gap%2Cefermi%2Cbulk_modulus%2Cshear_modulus%2Chomogeneous_poisson&material_ids=mp-437&_limit=1000 (Caused by NameResolutionError(\"<urllib3.connection.HTTPSConnection object at 0x299bb3490>: Failed to resolve 'api.materialsproject.org' ([Errno 8] nodename nor servname provided, or not known)\")) occured for material id: mp-437\n",
      "Error HTTPSConnectionPool(host='api.materialsproject.org', port=443): Max retries exceeded with url: /materials/summary/?_fields=material_id%2Cformula_pretty%2Cenergy_per_atom%2Cformation_energy_per_atom%2Cband_gap%2Cefermi%2Cbulk_modulus%2Cshear_modulus%2Chomogeneous_poisson&material_ids=mp-11227&_limit=1000 (Caused by NameResolutionError(\"<urllib3.connection.HTTPSConnection object at 0x299bb0a60>: Failed to resolve 'api.materialsproject.org' ([Errno 8] nodename nor servname provided, or not known)\")) occured for material id: mp-11227\n",
      "Error HTTPSConnectionPool(host='api.materialsproject.org', port=443): Max retries exceeded with url: /materials/summary/?_fields=material_id%2Cformula_pretty%2Cenergy_per_atom%2Cformation_energy_per_atom%2Cband_gap%2Cefermi%2Cbulk_modulus%2Cshear_modulus%2Chomogeneous_poisson&material_ids=mp-15722&_limit=1000 (Caused by NameResolutionError(\"<urllib3.connection.HTTPSConnection object at 0x299bb17b0>: Failed to resolve 'api.materialsproject.org' ([Errno 8] nodename nor servname provided, or not known)\")) occured for material id: mp-15722\n",
      "Error HTTPSConnectionPool(host='api.materialsproject.org', port=443): Max retries exceeded with url: /materials/summary/?_fields=material_id%2Cformula_pretty%2Cenergy_per_atom%2Cformation_energy_per_atom%2Cband_gap%2Cefermi%2Cbulk_modulus%2Cshear_modulus%2Chomogeneous_poisson&material_ids=mp-3834&_limit=1000 (Caused by NameResolutionError(\"<urllib3.connection.HTTPSConnection object at 0x294ec6080>: Failed to resolve 'api.materialsproject.org' ([Errno 8] nodename nor servname provided, or not known)\")) occured for material id: mp-3834\n",
      "Error HTTPSConnectionPool(host='api.materialsproject.org', port=443): Max retries exceeded with url: /materials/summary/?_fields=material_id%2Cformula_pretty%2Cenergy_per_atom%2Cformation_energy_per_atom%2Cband_gap%2Cefermi%2Cbulk_modulus%2Cshear_modulus%2Chomogeneous_poisson&material_ids=mp-10712&_limit=1000 (Caused by NameResolutionError(\"<urllib3.connection.HTTPSConnection object at 0x299bb1660>: Failed to resolve 'api.materialsproject.org' ([Errno 8] nodename nor servname provided, or not known)\")) occured for material id: mp-10712\n",
      "Error HTTPSConnectionPool(host='api.materialsproject.org', port=443): Max retries exceeded with url: /materials/summary/?_fields=material_id%2Cformula_pretty%2Cenergy_per_atom%2Cformation_energy_per_atom%2Cband_gap%2Cefermi%2Cbulk_modulus%2Cshear_modulus%2Chomogeneous_poisson&material_ids=mp-22636&_limit=1000 (Caused by NameResolutionError(\"<urllib3.connection.HTTPSConnection object at 0x299bb37f0>: Failed to resolve 'api.materialsproject.org' ([Errno 8] nodename nor servname provided, or not known)\")) occured for material id: mp-22636\n",
      "Error HTTPSConnectionPool(host='api.materialsproject.org', port=443): Max retries exceeded with url: /materials/summary/?_fields=material_id%2Cformula_pretty%2Cenergy_per_atom%2Cformation_energy_per_atom%2Cband_gap%2Cefermi%2Cbulk_modulus%2Cshear_modulus%2Chomogeneous_poisson&material_ids=mp-23560&_limit=1000 (Caused by NameResolutionError(\"<urllib3.connection.HTTPSConnection object at 0x299bb2170>: Failed to resolve 'api.materialsproject.org' ([Errno 8] nodename nor servname provided, or not known)\")) occured for material id: mp-23560\n",
      "Error HTTPSConnectionPool(host='api.materialsproject.org', port=443): Max retries exceeded with url: /materials/summary/?_fields=material_id%2Cformula_pretty%2Cenergy_per_atom%2Cformation_energy_per_atom%2Cband_gap%2Cefermi%2Cbulk_modulus%2Cshear_modulus%2Chomogeneous_poisson&material_ids=mp-764895&_limit=1000 (Caused by NameResolutionError(\"<urllib3.connection.HTTPSConnection object at 0x299bb17b0>: Failed to resolve 'api.materialsproject.org' ([Errno 8] nodename nor servname provided, or not known)\")) occured for material id: mp-764895\n",
      "Error HTTPSConnectionPool(host='api.materialsproject.org', port=443): Max retries exceeded with url: /materials/summary/?_fields=material_id%2Cformula_pretty%2Cenergy_per_atom%2Cformation_energy_per_atom%2Cband_gap%2Cefermi%2Cbulk_modulus%2Cshear_modulus%2Chomogeneous_poisson&material_ids=mp-20418&_limit=1000 (Caused by NameResolutionError(\"<urllib3.connection.HTTPSConnection object at 0x299bb0520>: Failed to resolve 'api.materialsproject.org' ([Errno 8] nodename nor servname provided, or not known)\")) occured for material id: mp-20418\n",
      "Error HTTPSConnectionPool(host='api.materialsproject.org', port=443): Max retries exceeded with url: /materials/summary/?_fields=material_id%2Cformula_pretty%2Cenergy_per_atom%2Cformation_energy_per_atom%2Cband_gap%2Cefermi%2Cbulk_modulus%2Cshear_modulus%2Chomogeneous_poisson&material_ids=mp-11361&_limit=1000 (Caused by NameResolutionError(\"<urllib3.connection.HTTPSConnection object at 0x299a9fdc0>: Failed to resolve 'api.materialsproject.org' ([Errno 8] nodename nor servname provided, or not known)\")) occured for material id: mp-11361\n",
      "Error HTTPSConnectionPool(host='api.materialsproject.org', port=443): Max retries exceeded with url: /materials/summary/?_fields=material_id%2Cformula_pretty%2Cenergy_per_atom%2Cformation_energy_per_atom%2Cband_gap%2Cefermi%2Cbulk_modulus%2Cshear_modulus%2Chomogeneous_poisson&material_ids=mp-863744&_limit=1000 (Caused by NameResolutionError(\"<urllib3.connection.HTTPSConnection object at 0x299bb1750>: Failed to resolve 'api.materialsproject.org' ([Errno 8] nodename nor servname provided, or not known)\")) occured for material id: mp-863744\n",
      "Error HTTPSConnectionPool(host='api.materialsproject.org', port=443): Max retries exceeded with url: /materials/summary/?_fields=material_id%2Cformula_pretty%2Cenergy_per_atom%2Cformation_energy_per_atom%2Cband_gap%2Cefermi%2Cbulk_modulus%2Cshear_modulus%2Chomogeneous_poisson&material_ids=mp-996975&_limit=1000 (Caused by NameResolutionError(\"<urllib3.connection.HTTPSConnection object at 0x299bb23b0>: Failed to resolve 'api.materialsproject.org' ([Errno 8] nodename nor servname provided, or not known)\")) occured for material id: mp-996975\n",
      "Error HTTPSConnectionPool(host='api.materialsproject.org', port=443): Max retries exceeded with url: /materials/summary/?_fields=material_id%2Cformula_pretty%2Cenergy_per_atom%2Cformation_energy_per_atom%2Cband_gap%2Cefermi%2Cbulk_modulus%2Cshear_modulus%2Chomogeneous_poisson&material_ids=mp-11023&_limit=1000 (Caused by NameResolutionError(\"<urllib3.connection.HTTPSConnection object at 0x299a9dab0>: Failed to resolve 'api.materialsproject.org' ([Errno 8] nodename nor servname provided, or not known)\")) occured for material id: mp-11023\n",
      "Error HTTPSConnectionPool(host='api.materialsproject.org', port=443): Max retries exceeded with url: /materials/summary/?_fields=material_id%2Cformula_pretty%2Cenergy_per_atom%2Cformation_energy_per_atom%2Cband_gap%2Cefermi%2Cbulk_modulus%2Cshear_modulus%2Chomogeneous_poisson&material_ids=mp-7781&_limit=1000 (Caused by NameResolutionError(\"<urllib3.connection.HTTPSConnection object at 0x299bb2320>: Failed to resolve 'api.materialsproject.org' ([Errno 8] nodename nor servname provided, or not known)\")) occured for material id: mp-7781\n",
      "Error HTTPSConnectionPool(host='api.materialsproject.org', port=443): Max retries exceeded with url: /materials/summary/?_fields=material_id%2Cformula_pretty%2Cenergy_per_atom%2Cformation_energy_per_atom%2Cband_gap%2Cefermi%2Cbulk_modulus%2Cshear_modulus%2Chomogeneous_poisson&material_ids=mp-30438&_limit=1000 (Caused by NameResolutionError(\"<urllib3.connection.HTTPSConnection object at 0x299a9e980>: Failed to resolve 'api.materialsproject.org' ([Errno 8] nodename nor servname provided, or not known)\")) occured for material id: mp-30438\n",
      "Error HTTPSConnectionPool(host='api.materialsproject.org', port=443): Max retries exceeded with url: /materials/summary/?_fields=material_id%2Cformula_pretty%2Cenergy_per_atom%2Cformation_energy_per_atom%2Cband_gap%2Cefermi%2Cbulk_modulus%2Cshear_modulus%2Chomogeneous_poisson&material_ids=mp-2103&_limit=1000 (Caused by NameResolutionError(\"<urllib3.connection.HTTPSConnection object at 0x299bb3400>: Failed to resolve 'api.materialsproject.org' ([Errno 8] nodename nor servname provided, or not known)\")) occured for material id: mp-2103\n",
      "Error HTTPSConnectionPool(host='api.materialsproject.org', port=443): Max retries exceeded with url: /materials/summary/?_fields=material_id%2Cformula_pretty%2Cenergy_per_atom%2Cformation_energy_per_atom%2Cband_gap%2Cefermi%2Cbulk_modulus%2Cshear_modulus%2Chomogeneous_poisson&material_ids=mp-1020&_limit=1000 (Caused by NameResolutionError(\"<urllib3.connection.HTTPSConnection object at 0x299bb0af0>: Failed to resolve 'api.materialsproject.org' ([Errno 8] nodename nor servname provided, or not known)\")) occured for material id: mp-1020\n",
      "Error HTTPSConnectionPool(host='api.materialsproject.org', port=443): Max retries exceeded with url: /materials/summary/?_fields=material_id%2Cformula_pretty%2Cenergy_per_atom%2Cformation_energy_per_atom%2Cband_gap%2Cefermi%2Cbulk_modulus%2Cshear_modulus%2Chomogeneous_poisson&material_ids=mp-7017&_limit=1000 (Caused by NameResolutionError(\"<urllib3.connection.HTTPSConnection object at 0x299a9cd00>: Failed to resolve 'api.materialsproject.org' ([Errno 8] nodename nor servname provided, or not known)\")) occured for material id: mp-7017\n",
      "Error HTTPSConnectionPool(host='api.materialsproject.org', port=443): Max retries exceeded with url: /materials/summary/?_fields=material_id%2Cformula_pretty%2Cenergy_per_atom%2Cformation_energy_per_atom%2Cband_gap%2Cefermi%2Cbulk_modulus%2Cshear_modulus%2Chomogeneous_poisson&material_ids=mp-19443&_limit=1000 (Caused by NameResolutionError(\"<urllib3.connection.HTTPSConnection object at 0x299a9ca90>: Failed to resolve 'api.materialsproject.org' ([Errno 8] nodename nor servname provided, or not known)\")) occured for material id: mp-19443\n",
      "Error HTTPSConnectionPool(host='api.materialsproject.org', port=443): Max retries exceeded with url: /materials/summary/?_fields=material_id%2Cformula_pretty%2Cenergy_per_atom%2Cformation_energy_per_atom%2Cband_gap%2Cefermi%2Cbulk_modulus%2Cshear_modulus%2Chomogeneous_poisson&material_ids=mp-607111&_limit=1000 (Caused by NameResolutionError(\"<urllib3.connection.HTTPSConnection object at 0x299bb2e60>: Failed to resolve 'api.materialsproject.org' ([Errno 8] nodename nor servname provided, or not known)\")) occured for material id: mp-607111\n",
      "Error HTTPSConnectionPool(host='api.materialsproject.org', port=443): Max retries exceeded with url: /materials/summary/?_fields=material_id%2Cformula_pretty%2Cenergy_per_atom%2Cformation_energy_per_atom%2Cband_gap%2Cefermi%2Cbulk_modulus%2Cshear_modulus%2Chomogeneous_poisson&material_ids=mp-2612&_limit=1000 (Caused by NameResolutionError(\"<urllib3.connection.HTTPSConnection object at 0x297f7f6a0>: Failed to resolve 'api.materialsproject.org' ([Errno 8] nodename nor servname provided, or not known)\")) occured for material id: mp-2612\n",
      "Error HTTPSConnectionPool(host='api.materialsproject.org', port=443): Max retries exceeded with url: /materials/summary/?_fields=material_id%2Cformula_pretty%2Cenergy_per_atom%2Cformation_energy_per_atom%2Cband_gap%2Cefermi%2Cbulk_modulus%2Cshear_modulus%2Chomogeneous_poisson&material_ids=mp-3159&_limit=1000 (Caused by NameResolutionError(\"<urllib3.connection.HTTPSConnection object at 0x297f7cfa0>: Failed to resolve 'api.materialsproject.org' ([Errno 8] nodename nor servname provided, or not known)\")) occured for material id: mp-3159\n",
      "Error HTTPSConnectionPool(host='api.materialsproject.org', port=443): Max retries exceeded with url: /materials/summary/?_fields=material_id%2Cformula_pretty%2Cenergy_per_atom%2Cformation_energy_per_atom%2Cband_gap%2Cefermi%2Cbulk_modulus%2Cshear_modulus%2Chomogeneous_poisson&material_ids=mp-16497&_limit=1000 (Caused by NameResolutionError(\"<urllib3.connection.HTTPSConnection object at 0x299bb2680>: Failed to resolve 'api.materialsproject.org' ([Errno 8] nodename nor servname provided, or not known)\")) occured for material id: mp-16497\n",
      "Error HTTPSConnectionPool(host='api.materialsproject.org', port=443): Max retries exceeded with url: /materials/summary/?_fields=material_id%2Cformula_pretty%2Cenergy_per_atom%2Cformation_energy_per_atom%2Cband_gap%2Cefermi%2Cbulk_modulus%2Cshear_modulus%2Chomogeneous_poisson&material_ids=mp-12725&_limit=1000 (Caused by NameResolutionError(\"<urllib3.connection.HTTPSConnection object at 0x2995f2800>: Failed to resolve 'api.materialsproject.org' ([Errno 8] nodename nor servname provided, or not known)\")) occured for material id: mp-12725\n",
      "Error HTTPSConnectionPool(host='api.materialsproject.org', port=443): Max retries exceeded with url: /materials/summary/?_fields=material_id%2Cformula_pretty%2Cenergy_per_atom%2Cformation_energy_per_atom%2Cband_gap%2Cefermi%2Cbulk_modulus%2Cshear_modulus%2Chomogeneous_poisson&material_ids=mp-675120&_limit=1000 (Caused by NameResolutionError(\"<urllib3.connection.HTTPSConnection object at 0x299bb3b80>: Failed to resolve 'api.materialsproject.org' ([Errno 8] nodename nor servname provided, or not known)\")) occured for material id: mp-675120\n",
      "Error HTTPSConnectionPool(host='api.materialsproject.org', port=443): Max retries exceeded with url: /materials/summary/?_fields=material_id%2Cformula_pretty%2Cenergy_per_atom%2Cformation_energy_per_atom%2Cband_gap%2Cefermi%2Cbulk_modulus%2Cshear_modulus%2Chomogeneous_poisson&material_ids=mp-30490&_limit=1000 (Caused by NameResolutionError(\"<urllib3.connection.HTTPSConnection object at 0x299bb2290>: Failed to resolve 'api.materialsproject.org' ([Errno 8] nodename nor servname provided, or not known)\")) occured for material id: mp-30490\n",
      "Error HTTPSConnectionPool(host='api.materialsproject.org', port=443): Max retries exceeded with url: /materials/summary/?_fields=material_id%2Cformula_pretty%2Cenergy_per_atom%2Cformation_energy_per_atom%2Cband_gap%2Cefermi%2Cbulk_modulus%2Cshear_modulus%2Chomogeneous_poisson&material_ids=mp-7089&_limit=1000 (Caused by NameResolutionError(\"<urllib3.connection.HTTPSConnection object at 0x2995f35e0>: Failed to resolve 'api.materialsproject.org' ([Errno 8] nodename nor servname provided, or not known)\")) occured for material id: mp-7089\n",
      "Error HTTPSConnectionPool(host='api.materialsproject.org', port=443): Max retries exceeded with url: /materials/summary/?_fields=material_id%2Cformula_pretty%2Cenergy_per_atom%2Cformation_energy_per_atom%2Cband_gap%2Cefermi%2Cbulk_modulus%2Cshear_modulus%2Chomogeneous_poisson&material_ids=mp-1089&_limit=1000 (Caused by NameResolutionError(\"<urllib3.connection.HTTPSConnection object at 0x299bb0c70>: Failed to resolve 'api.materialsproject.org' ([Errno 8] nodename nor servname provided, or not known)\")) occured for material id: mp-1089\n",
      "Error HTTPSConnectionPool(host='api.materialsproject.org', port=443): Max retries exceeded with url: /materials/summary/?_fields=material_id%2Cformula_pretty%2Cenergy_per_atom%2Cformation_energy_per_atom%2Cband_gap%2Cefermi%2Cbulk_modulus%2Cshear_modulus%2Chomogeneous_poisson&material_ids=mp-541037&_limit=1000 (Caused by NameResolutionError(\"<urllib3.connection.HTTPSConnection object at 0x2995f3580>: Failed to resolve 'api.materialsproject.org' ([Errno 8] nodename nor servname provided, or not known)\")) occured for material id: mp-541037\n",
      "Error HTTPSConnectionPool(host='api.materialsproject.org', port=443): Max retries exceeded with url: /materials/summary/?_fields=material_id%2Cformula_pretty%2Cenergy_per_atom%2Cformation_energy_per_atom%2Cband_gap%2Cefermi%2Cbulk_modulus%2Cshear_modulus%2Chomogeneous_poisson&material_ids=mp-11567&_limit=1000 (Caused by NameResolutionError(\"<urllib3.connection.HTTPSConnection object at 0x2995f3370>: Failed to resolve 'api.materialsproject.org' ([Errno 8] nodename nor servname provided, or not known)\")) occured for material id: mp-11567\n",
      "Error HTTPSConnectionPool(host='api.materialsproject.org', port=443): Max retries exceeded with url: /materials/summary/?_fields=material_id%2Cformula_pretty%2Cenergy_per_atom%2Cformation_energy_per_atom%2Cband_gap%2Cefermi%2Cbulk_modulus%2Cshear_modulus%2Chomogeneous_poisson&material_ids=mp-2031&_limit=1000 (Caused by NameResolutionError(\"<urllib3.connection.HTTPSConnection object at 0x299bb2e60>: Failed to resolve 'api.materialsproject.org' ([Errno 8] nodename nor servname provided, or not known)\")) occured for material id: mp-2031\n",
      "Error HTTPSConnectionPool(host='api.materialsproject.org', port=443): Max retries exceeded with url: /materials/summary/?_fields=material_id%2Cformula_pretty%2Cenergy_per_atom%2Cformation_energy_per_atom%2Cband_gap%2Cefermi%2Cbulk_modulus%2Cshear_modulus%2Chomogeneous_poisson&material_ids=mp-13686&_limit=1000 (Caused by NameResolutionError(\"<urllib3.connection.HTTPSConnection object at 0x2995f22c0>: Failed to resolve 'api.materialsproject.org' ([Errno 8] nodename nor servname provided, or not known)\")) occured for material id: mp-13686\n",
      "Error HTTPSConnectionPool(host='api.materialsproject.org', port=443): Max retries exceeded with url: /materials/summary/?_fields=material_id%2Cformula_pretty%2Cenergy_per_atom%2Cformation_energy_per_atom%2Cband_gap%2Cefermi%2Cbulk_modulus%2Cshear_modulus%2Chomogeneous_poisson&material_ids=mp-3618&_limit=1000 (Caused by NameResolutionError(\"<urllib3.connection.HTTPSConnection object at 0x299bb29e0>: Failed to resolve 'api.materialsproject.org' ([Errno 8] nodename nor servname provided, or not known)\")) occured for material id: mp-3618\n",
      "Error HTTPSConnectionPool(host='api.materialsproject.org', port=443): Max retries exceeded with url: /materials/summary/?_fields=material_id%2Cformula_pretty%2Cenergy_per_atom%2Cformation_energy_per_atom%2Cband_gap%2Cefermi%2Cbulk_modulus%2Cshear_modulus%2Chomogeneous_poisson&material_ids=mp-22033&_limit=1000 (Caused by NameResolutionError(\"<urllib3.connection.HTTPSConnection object at 0x2995f02b0>: Failed to resolve 'api.materialsproject.org' ([Errno 8] nodename nor servname provided, or not known)\")) occured for material id: mp-22033\n",
      "Error HTTPSConnectionPool(host='api.materialsproject.org', port=443): Max retries exceeded with url: /materials/summary/?_fields=material_id%2Cformula_pretty%2Cenergy_per_atom%2Cformation_energy_per_atom%2Cband_gap%2Cefermi%2Cbulk_modulus%2Cshear_modulus%2Chomogeneous_poisson&material_ids=mp-510441&_limit=1000 (Caused by NameResolutionError(\"<urllib3.connection.HTTPSConnection object at 0x2995f36a0>: Failed to resolve 'api.materialsproject.org' ([Errno 8] nodename nor servname provided, or not known)\")) occured for material id: mp-510441\n",
      "Error HTTPSConnectionPool(host='api.materialsproject.org', port=443): Max retries exceeded with url: /materials/summary/?_fields=material_id%2Cformula_pretty%2Cenergy_per_atom%2Cformation_energy_per_atom%2Cband_gap%2Cefermi%2Cbulk_modulus%2Cshear_modulus%2Chomogeneous_poisson&material_ids=mp-25172&_limit=1000 (Caused by NameResolutionError(\"<urllib3.connection.HTTPSConnection object at 0x299bb3370>: Failed to resolve 'api.materialsproject.org' ([Errno 8] nodename nor servname provided, or not known)\")) occured for material id: mp-25172\n",
      "Error HTTPSConnectionPool(host='api.materialsproject.org', port=443): Max retries exceeded with url: /materials/summary/?_fields=material_id%2Cformula_pretty%2Cenergy_per_atom%2Cformation_energy_per_atom%2Cband_gap%2Cefermi%2Cbulk_modulus%2Cshear_modulus%2Chomogeneous_poisson&material_ids=mp-568328&_limit=1000 (Caused by NameResolutionError(\"<urllib3.connection.HTTPSConnection object at 0x2995f3d30>: Failed to resolve 'api.materialsproject.org' ([Errno 8] nodename nor servname provided, or not known)\")) occured for material id: mp-568328\n",
      "Error HTTPSConnectionPool(host='api.materialsproject.org', port=443): Max retries exceeded with url: /materials/summary/?_fields=material_id%2Cformula_pretty%2Cenergy_per_atom%2Cformation_energy_per_atom%2Cband_gap%2Cefermi%2Cbulk_modulus%2Cshear_modulus%2Chomogeneous_poisson&material_ids=mp-5149&_limit=1000 (Caused by NameResolutionError(\"<urllib3.connection.HTTPSConnection object at 0x2995f2fb0>: Failed to resolve 'api.materialsproject.org' ([Errno 8] nodename nor servname provided, or not known)\")) occured for material id: mp-5149\n",
      "Error HTTPSConnectionPool(host='api.materialsproject.org', port=443): Max retries exceeded with url: /materials/summary/?_fields=material_id%2Cformula_pretty%2Cenergy_per_atom%2Cformation_energy_per_atom%2Cband_gap%2Cefermi%2Cbulk_modulus%2Cshear_modulus%2Chomogeneous_poisson&material_ids=mp-583&_limit=1000 (Caused by NameResolutionError(\"<urllib3.connection.HTTPSConnection object at 0x2995f0dc0>: Failed to resolve 'api.materialsproject.org' ([Errno 8] nodename nor servname provided, or not known)\")) occured for material id: mp-583\n",
      "Error HTTPSConnectionPool(host='api.materialsproject.org', port=443): Max retries exceeded with url: /materials/summary/?_fields=material_id%2Cformula_pretty%2Cenergy_per_atom%2Cformation_energy_per_atom%2Cband_gap%2Cefermi%2Cbulk_modulus%2Cshear_modulus%2Chomogeneous_poisson&material_ids=mp-571555&_limit=1000 (Caused by NameResolutionError(\"<urllib3.connection.HTTPSConnection object at 0x2995f0ac0>: Failed to resolve 'api.materialsproject.org' ([Errno 8] nodename nor servname provided, or not known)\")) occured for material id: mp-571555\n",
      "Error HTTPSConnectionPool(host='api.materialsproject.org', port=443): Max retries exceeded with url: /materials/summary/?_fields=material_id%2Cformula_pretty%2Cenergy_per_atom%2Cformation_energy_per_atom%2Cband_gap%2Cefermi%2Cbulk_modulus%2Cshear_modulus%2Chomogeneous_poisson&material_ids=mp-22795&_limit=1000 (Caused by NameResolutionError(\"<urllib3.connection.HTTPSConnection object at 0x2995f0c10>: Failed to resolve 'api.materialsproject.org' ([Errno 8] nodename nor servname provided, or not known)\")) occured for material id: mp-22795\n",
      "Error HTTPSConnectionPool(host='api.materialsproject.org', port=443): Max retries exceeded with url: /materials/summary/?_fields=material_id%2Cformula_pretty%2Cenergy_per_atom%2Cformation_energy_per_atom%2Cband_gap%2Cefermi%2Cbulk_modulus%2Cshear_modulus%2Chomogeneous_poisson&material_ids=mp-20466&_limit=1000 (Caused by NameResolutionError(\"<urllib3.connection.HTTPSConnection object at 0x2995f24d0>: Failed to resolve 'api.materialsproject.org' ([Errno 8] nodename nor servname provided, or not known)\")) occured for material id: mp-20466\n",
      "Error HTTPSConnectionPool(host='api.materialsproject.org', port=443): Max retries exceeded with url: /materials/summary/?_fields=material_id%2Cformula_pretty%2Cenergy_per_atom%2Cformation_energy_per_atom%2Cband_gap%2Cefermi%2Cbulk_modulus%2Cshear_modulus%2Chomogeneous_poisson&material_ids=mp-20565&_limit=1000 (Caused by NameResolutionError(\"<urllib3.connection.HTTPSConnection object at 0x2995f14b0>: Failed to resolve 'api.materialsproject.org' ([Errno 8] nodename nor servname provided, or not known)\")) occured for material id: mp-20565\n",
      "Error HTTPSConnectionPool(host='api.materialsproject.org', port=443): Max retries exceeded with url: /materials/summary/?_fields=material_id%2Cformula_pretty%2Cenergy_per_atom%2Cformation_energy_per_atom%2Cband_gap%2Cefermi%2Cbulk_modulus%2Cshear_modulus%2Chomogeneous_poisson&material_ids=mp-18198&_limit=1000 (Caused by NameResolutionError(\"<urllib3.connection.HTTPSConnection object at 0x2995f2020>: Failed to resolve 'api.materialsproject.org' ([Errno 8] nodename nor servname provided, or not known)\")) occured for material id: mp-18198\n",
      "Error HTTPSConnectionPool(host='api.materialsproject.org', port=443): Max retries exceeded with url: /materials/summary/?_fields=material_id%2Cformula_pretty%2Cenergy_per_atom%2Cformation_energy_per_atom%2Cband_gap%2Cefermi%2Cbulk_modulus%2Cshear_modulus%2Chomogeneous_poisson&material_ids=mp-16483&_limit=1000 (Caused by NameResolutionError(\"<urllib3.connection.HTTPSConnection object at 0x2995f3520>: Failed to resolve 'api.materialsproject.org' ([Errno 8] nodename nor servname provided, or not known)\")) occured for material id: mp-16483\n",
      "Error HTTPSConnectionPool(host='api.materialsproject.org', port=443): Max retries exceeded with url: /materials/summary/?_fields=material_id%2Cformula_pretty%2Cenergy_per_atom%2Cformation_energy_per_atom%2Cband_gap%2Cefermi%2Cbulk_modulus%2Cshear_modulus%2Chomogeneous_poisson&material_ids=mp-1001023&_limit=1000 (Caused by NameResolutionError(\"<urllib3.connection.HTTPSConnection object at 0x2995f0970>: Failed to resolve 'api.materialsproject.org' ([Errno 8] nodename nor servname provided, or not known)\")) occured for material id: mp-1001023\n",
      "Error HTTPSConnectionPool(host='api.materialsproject.org', port=443): Max retries exceeded with url: /materials/summary/?_fields=material_id%2Cformula_pretty%2Cenergy_per_atom%2Cformation_energy_per_atom%2Cband_gap%2Cefermi%2Cbulk_modulus%2Cshear_modulus%2Chomogeneous_poisson&material_ids=mp-21255&_limit=1000 (Caused by NameResolutionError(\"<urllib3.connection.HTTPSConnection object at 0x294ec5ed0>: Failed to resolve 'api.materialsproject.org' ([Errno 8] nodename nor servname provided, or not known)\")) occured for material id: mp-21255\n",
      "Error HTTPSConnectionPool(host='api.materialsproject.org', port=443): Max retries exceeded with url: /materials/summary/?_fields=material_id%2Cformula_pretty%2Cenergy_per_atom%2Cformation_energy_per_atom%2Cband_gap%2Cefermi%2Cbulk_modulus%2Cshear_modulus%2Chomogeneous_poisson&material_ids=mp-21447&_limit=1000 (Caused by NameResolutionError(\"<urllib3.connection.HTTPSConnection object at 0x2995f2290>: Failed to resolve 'api.materialsproject.org' ([Errno 8] nodename nor servname provided, or not known)\")) occured for material id: mp-21447\n",
      "Error HTTPSConnectionPool(host='api.materialsproject.org', port=443): Max retries exceeded with url: /materials/summary/?_fields=material_id%2Cformula_pretty%2Cenergy_per_atom%2Cformation_energy_per_atom%2Cband_gap%2Cefermi%2Cbulk_modulus%2Cshear_modulus%2Chomogeneous_poisson&material_ids=mp-20757&_limit=1000 (Caused by NameResolutionError(\"<urllib3.connection.HTTPSConnection object at 0x2995f38b0>: Failed to resolve 'api.materialsproject.org' ([Errno 8] nodename nor servname provided, or not known)\")) occured for material id: mp-20757\n",
      "Error HTTPSConnectionPool(host='api.materialsproject.org', port=443): Max retries exceeded with url: /materials/summary/?_fields=material_id%2Cformula_pretty%2Cenergy_per_atom%2Cformation_energy_per_atom%2Cband_gap%2Cefermi%2Cbulk_modulus%2Cshear_modulus%2Chomogeneous_poisson&material_ids=mp-567749&_limit=1000 (Caused by NameResolutionError(\"<urllib3.connection.HTTPSConnection object at 0x299a9f160>: Failed to resolve 'api.materialsproject.org' ([Errno 8] nodename nor servname provided, or not known)\")) occured for material id: mp-567749\n",
      "Error HTTPSConnectionPool(host='api.materialsproject.org', port=443): Max retries exceeded with url: /materials/summary/?_fields=material_id%2Cformula_pretty%2Cenergy_per_atom%2Cformation_energy_per_atom%2Cband_gap%2Cefermi%2Cbulk_modulus%2Cshear_modulus%2Chomogeneous_poisson&material_ids=mp-8145&_limit=1000 (Caused by NameResolutionError(\"<urllib3.connection.HTTPSConnection object at 0x2995f1d50>: Failed to resolve 'api.materialsproject.org' ([Errno 8] nodename nor servname provided, or not known)\")) occured for material id: mp-8145\n",
      "Error HTTPSConnectionPool(host='api.materialsproject.org', port=443): Max retries exceeded with url: /materials/summary/?_fields=material_id%2Cformula_pretty%2Cenergy_per_atom%2Cformation_energy_per_atom%2Cband_gap%2Cefermi%2Cbulk_modulus%2Cshear_modulus%2Chomogeneous_poisson&material_ids=mp-2478&_limit=1000 (Caused by NameResolutionError(\"<urllib3.connection.HTTPSConnection object at 0x2995f3b50>: Failed to resolve 'api.materialsproject.org' ([Errno 8] nodename nor servname provided, or not known)\")) occured for material id: mp-2478\n",
      "Error HTTPSConnectionPool(host='api.materialsproject.org', port=443): Max retries exceeded with url: /materials/summary/?_fields=material_id%2Cformula_pretty%2Cenergy_per_atom%2Cformation_energy_per_atom%2Cband_gap%2Cefermi%2Cbulk_modulus%2Cshear_modulus%2Chomogeneous_poisson&material_ids=mp-865842&_limit=1000 (Caused by NameResolutionError(\"<urllib3.connection.HTTPSConnection object at 0x299a9fa00>: Failed to resolve 'api.materialsproject.org' ([Errno 8] nodename nor servname provided, or not known)\")) occured for material id: mp-865842\n",
      "Error HTTPSConnectionPool(host='api.materialsproject.org', port=443): Max retries exceeded with url: /materials/summary/?_fields=material_id%2Cformula_pretty%2Cenergy_per_atom%2Cformation_energy_per_atom%2Cband_gap%2Cefermi%2Cbulk_modulus%2Cshear_modulus%2Chomogeneous_poisson&material_ids=mp-22980&_limit=1000 (Caused by NameResolutionError(\"<urllib3.connection.HTTPSConnection object at 0x2995f2e60>: Failed to resolve 'api.materialsproject.org' ([Errno 8] nodename nor servname provided, or not known)\")) occured for material id: mp-22980\n",
      "Error HTTPSConnectionPool(host='api.materialsproject.org', port=443): Max retries exceeded with url: /materials/summary/?_fields=material_id%2Cformula_pretty%2Cenergy_per_atom%2Cformation_energy_per_atom%2Cband_gap%2Cefermi%2Cbulk_modulus%2Cshear_modulus%2Chomogeneous_poisson&material_ids=mp-12565&_limit=1000 (Caused by NameResolutionError(\"<urllib3.connection.HTTPSConnection object at 0x299a9e1a0>: Failed to resolve 'api.materialsproject.org' ([Errno 8] nodename nor servname provided, or not known)\")) occured for material id: mp-12565\n",
      "Error HTTPSConnectionPool(host='api.materialsproject.org', port=443): Max retries exceeded with url: /materials/summary/?_fields=material_id%2Cformula_pretty%2Cenergy_per_atom%2Cformation_energy_per_atom%2Cband_gap%2Cefermi%2Cbulk_modulus%2Cshear_modulus%2Chomogeneous_poisson&material_ids=mp-20305&_limit=1000 (Caused by NameResolutionError(\"<urllib3.connection.HTTPSConnection object at 0x299a9f4c0>: Failed to resolve 'api.materialsproject.org' ([Errno 8] nodename nor servname provided, or not known)\")) occured for material id: mp-20305\n",
      "Error HTTPSConnectionPool(host='api.materialsproject.org', port=443): Max retries exceeded with url: /materials/summary/?_fields=material_id%2Cformula_pretty%2Cenergy_per_atom%2Cformation_energy_per_atom%2Cband_gap%2Cefermi%2Cbulk_modulus%2Cshear_modulus%2Chomogeneous_poisson&material_ids=mp-570677&_limit=1000 (Caused by NameResolutionError(\"<urllib3.connection.HTTPSConnection object at 0x299a9ee30>: Failed to resolve 'api.materialsproject.org' ([Errno 8] nodename nor servname provided, or not known)\")) occured for material id: mp-570677\n",
      "Error HTTPSConnectionPool(host='api.materialsproject.org', port=443): Max retries exceeded with url: /materials/summary/?_fields=material_id%2Cformula_pretty%2Cenergy_per_atom%2Cformation_energy_per_atom%2Cband_gap%2Cefermi%2Cbulk_modulus%2Cshear_modulus%2Chomogeneous_poisson&material_ids=mp-13453&_limit=1000 (Caused by NameResolutionError(\"<urllib3.connection.HTTPSConnection object at 0x299a9f7f0>: Failed to resolve 'api.materialsproject.org' ([Errno 8] nodename nor servname provided, or not known)\")) occured for material id: mp-13453\n",
      "Error HTTPSConnectionPool(host='api.materialsproject.org', port=443): Max retries exceeded with url: /materials/summary/?_fields=material_id%2Cformula_pretty%2Cenergy_per_atom%2Cformation_energy_per_atom%2Cband_gap%2Cefermi%2Cbulk_modulus%2Cshear_modulus%2Chomogeneous_poisson&material_ids=mp-861738&_limit=1000 (Caused by NameResolutionError(\"<urllib3.connection.HTTPSConnection object at 0x299bb2890>: Failed to resolve 'api.materialsproject.org' ([Errno 8] nodename nor servname provided, or not known)\")) occured for material id: mp-861738\n",
      "Error HTTPSConnectionPool(host='api.materialsproject.org', port=443): Max retries exceeded with url: /materials/summary/?_fields=material_id%2Cformula_pretty%2Cenergy_per_atom%2Cformation_energy_per_atom%2Cband_gap%2Cefermi%2Cbulk_modulus%2Cshear_modulus%2Chomogeneous_poisson&material_ids=mp-157&_limit=1000 (Caused by NameResolutionError(\"<urllib3.connection.HTTPSConnection object at 0x299a9cf10>: Failed to resolve 'api.materialsproject.org' ([Errno 8] nodename nor servname provided, or not known)\")) occured for material id: mp-157\n",
      "Error HTTPSConnectionPool(host='api.materialsproject.org', port=443): Max retries exceeded with url: /materials/summary/?_fields=material_id%2Cformula_pretty%2Cenergy_per_atom%2Cformation_energy_per_atom%2Cband_gap%2Cefermi%2Cbulk_modulus%2Cshear_modulus%2Chomogeneous_poisson&material_ids=mp-13119&_limit=1000 (Caused by NameResolutionError(\"<urllib3.connection.HTTPSConnection object at 0x2995f21a0>: Failed to resolve 'api.materialsproject.org' ([Errno 8] nodename nor servname provided, or not known)\")) occured for material id: mp-13119\n",
      "Error HTTPSConnectionPool(host='api.materialsproject.org', port=443): Max retries exceeded with url: /materials/summary/?_fields=material_id%2Cformula_pretty%2Cenergy_per_atom%2Cformation_energy_per_atom%2Cband_gap%2Cefermi%2Cbulk_modulus%2Cshear_modulus%2Chomogeneous_poisson&material_ids=mp-8458&_limit=1000 (Caused by NameResolutionError(\"<urllib3.connection.HTTPSConnection object at 0x2995f3a00>: Failed to resolve 'api.materialsproject.org' ([Errno 8] nodename nor servname provided, or not known)\")) occured for material id: mp-8458\n",
      "Error HTTPSConnectionPool(host='api.materialsproject.org', port=443): Max retries exceeded with url: /materials/summary/?_fields=material_id%2Cformula_pretty%2Cenergy_per_atom%2Cformation_energy_per_atom%2Cband_gap%2Cefermi%2Cbulk_modulus%2Cshear_modulus%2Chomogeneous_poisson&material_ids=mp-126&_limit=1000 (Caused by NameResolutionError(\"<urllib3.connection.HTTPSConnection object at 0x299a9e110>: Failed to resolve 'api.materialsproject.org' ([Errno 8] nodename nor servname provided, or not known)\")) occured for material id: mp-126\n",
      "Error HTTPSConnectionPool(host='api.materialsproject.org', port=443): Max retries exceeded with url: /materials/summary/?_fields=material_id%2Cformula_pretty%2Cenergy_per_atom%2Cformation_energy_per_atom%2Cband_gap%2Cefermi%2Cbulk_modulus%2Cshear_modulus%2Chomogeneous_poisson&material_ids=mp-10527&_limit=1000 (Caused by NameResolutionError(\"<urllib3.connection.HTTPSConnection object at 0x299bb2230>: Failed to resolve 'api.materialsproject.org' ([Errno 8] nodename nor servname provided, or not known)\")) occured for material id: mp-10527\n",
      "Error HTTPSConnectionPool(host='api.materialsproject.org', port=443): Max retries exceeded with url: /materials/summary/?_fields=material_id%2Cformula_pretty%2Cenergy_per_atom%2Cformation_energy_per_atom%2Cband_gap%2Cefermi%2Cbulk_modulus%2Cshear_modulus%2Chomogeneous_poisson&material_ids=mp-580234&_limit=1000 (Caused by NameResolutionError(\"<urllib3.connection.HTTPSConnection object at 0x299a9c700>: Failed to resolve 'api.materialsproject.org' ([Errno 8] nodename nor servname provided, or not known)\")) occured for material id: mp-580234\n"
     ]
    },
    {
     "name": "stderr",
     "output_type": "stream",
     "text": [
      "Retrieving SummaryDoc documents: 100%|█████████| 1/1 [00:00<00:00, 23301.69it/s]\n",
      "Retrieving SummaryDoc documents: 100%|█████████| 1/1 [00:00<00:00, 23172.95it/s]\n",
      "Retrieving SummaryDoc documents: 100%|█████████| 1/1 [00:00<00:00, 22795.13it/s]\n",
      "Retrieving SummaryDoc documents: 100%|█████████| 1/1 [00:00<00:00, 22192.08it/s]\n",
      "Retrieving SummaryDoc documents: 100%|█████████| 1/1 [00:00<00:00, 28532.68it/s]\n"
     ]
    },
    {
     "name": "stdout",
     "output_type": "stream",
     "text": [
      "Error HTTPSConnectionPool(host='api.materialsproject.org', port=443): Max retries exceeded with url: /materials/summary/?_fields=material_id%2Cformula_pretty%2Cenergy_per_atom%2Cformation_energy_per_atom%2Cband_gap%2Cefermi%2Cbulk_modulus%2Cshear_modulus%2Chomogeneous_poisson&material_ids=mp-866169&_limit=1000 (Caused by NameResolutionError(\"<urllib3.connection.HTTPSConnection object at 0x2951e41f0>: Failed to resolve 'api.materialsproject.org' ([Errno 8] nodename nor servname provided, or not known)\")) occured for material id: mp-866169\n",
      "Error HTTPSConnectionPool(host='api.materialsproject.org', port=443): Max retries exceeded with url: /materials/summary/?_fields=material_id%2Cformula_pretty%2Cenergy_per_atom%2Cformation_energy_per_atom%2Cband_gap%2Cefermi%2Cbulk_modulus%2Cshear_modulus%2Chomogeneous_poisson&material_ids=mp-2828&_limit=1000 (Caused by NameResolutionError(\"<urllib3.connection.HTTPSConnection object at 0x2951e5810>: Failed to resolve 'api.materialsproject.org' ([Errno 8] nodename nor servname provided, or not known)\")) occured for material id: mp-2828\n",
      "Error HTTPSConnectionPool(host='api.materialsproject.org', port=443): Max retries exceeded with url: /materials/summary/?_fields=material_id%2Cformula_pretty%2Cenergy_per_atom%2Cformation_energy_per_atom%2Cband_gap%2Cefermi%2Cbulk_modulus%2Cshear_modulus%2Chomogeneous_poisson&material_ids=mp-15649&_limit=1000 (Caused by NameResolutionError(\"<urllib3.connection.HTTPSConnection object at 0x1767a5510>: Failed to resolve 'api.materialsproject.org' ([Errno 8] nodename nor servname provided, or not known)\")) occured for material id: mp-15649\n",
      "Error HTTPSConnectionPool(host='api.materialsproject.org', port=443): Max retries exceeded with url: /materials/summary/?_fields=material_id%2Cformula_pretty%2Cenergy_per_atom%2Cformation_energy_per_atom%2Cband_gap%2Cefermi%2Cbulk_modulus%2Cshear_modulus%2Chomogeneous_poisson&material_ids=mp-20949&_limit=1000 (Caused by NameResolutionError(\"<urllib3.connection.HTTPSConnection object at 0x294829630>: Failed to resolve 'api.materialsproject.org' ([Errno 8] nodename nor servname provided, or not known)\")) occured for material id: mp-20949\n",
      "Error HTTPSConnectionPool(host='api.materialsproject.org', port=443): Max retries exceeded with url: /materials/summary/?_fields=material_id%2Cformula_pretty%2Cenergy_per_atom%2Cformation_energy_per_atom%2Cband_gap%2Cefermi%2Cbulk_modulus%2Cshear_modulus%2Chomogeneous_poisson&material_ids=mp-4876&_limit=1000 (Caused by NameResolutionError(\"<urllib3.connection.HTTPSConnection object at 0x2951e43d0>: Failed to resolve 'api.materialsproject.org' ([Errno 8] nodename nor servname provided, or not known)\")) occured for material id: mp-4876\n",
      "Error HTTPSConnectionPool(host='api.materialsproject.org', port=443): Max retries exceeded with url: /materials/summary/?_fields=material_id%2Cformula_pretty%2Cenergy_per_atom%2Cformation_energy_per_atom%2Cband_gap%2Cefermi%2Cbulk_modulus%2Cshear_modulus%2Chomogeneous_poisson&material_ids=mp-30245&_limit=1000 (Caused by NameResolutionError(\"<urllib3.connection.HTTPSConnection object at 0x2951e7040>: Failed to resolve 'api.materialsproject.org' ([Errno 8] nodename nor servname provided, or not known)\")) occured for material id: mp-30245\n",
      "Error HTTPSConnectionPool(host='api.materialsproject.org', port=443): Max retries exceeded with url: /materials/summary/?_fields=material_id%2Cformula_pretty%2Cenergy_per_atom%2Cformation_energy_per_atom%2Cband_gap%2Cefermi%2Cbulk_modulus%2Cshear_modulus%2Chomogeneous_poisson&material_ids=mp-1334&_limit=1000 (Caused by NameResolutionError(\"<urllib3.connection.HTTPSConnection object at 0x2951e4cd0>: Failed to resolve 'api.materialsproject.org' ([Errno 8] nodename nor servname provided, or not known)\")) occured for material id: mp-1334\n",
      "Error HTTPSConnectionPool(host='api.materialsproject.org', port=443): Max retries exceeded with url: /materials/summary/?_fields=material_id%2Cformula_pretty%2Cenergy_per_atom%2Cformation_energy_per_atom%2Cband_gap%2Cefermi%2Cbulk_modulus%2Cshear_modulus%2Chomogeneous_poisson&material_ids=mp-446&_limit=1000 (Caused by NameResolutionError(\"<urllib3.connection.HTTPSConnection object at 0x2995f0a30>: Failed to resolve 'api.materialsproject.org' ([Errno 8] nodename nor servname provided, or not known)\")) occured for material id: mp-446\n",
      "Error HTTPSConnectionPool(host='api.materialsproject.org', port=443): Max retries exceeded with url: /materials/summary/?_fields=material_id%2Cformula_pretty%2Cenergy_per_atom%2Cformation_energy_per_atom%2Cband_gap%2Cefermi%2Cbulk_modulus%2Cshear_modulus%2Chomogeneous_poisson&material_ids=mp-3094&_limit=1000 (Caused by NameResolutionError(\"<urllib3.connection.HTTPSConnection object at 0x2997709a0>: Failed to resolve 'api.materialsproject.org' ([Errno 8] nodename nor servname provided, or not known)\")) occured for material id: mp-3094\n",
      "Error HTTPSConnectionPool(host='api.materialsproject.org', port=443): Max retries exceeded with url: /materials/summary/?_fields=material_id%2Cformula_pretty%2Cenergy_per_atom%2Cformation_energy_per_atom%2Cband_gap%2Cefermi%2Cbulk_modulus%2Cshear_modulus%2Chomogeneous_poisson&material_ids=mp-23259&_limit=1000 (Caused by NameResolutionError(\"<urllib3.connection.HTTPSConnection object at 0x2951e44c0>: Failed to resolve 'api.materialsproject.org' ([Errno 8] nodename nor servname provided, or not known)\")) occured for material id: mp-23259\n",
      "Error HTTPSConnectionPool(host='api.materialsproject.org', port=443): Max retries exceeded with url: /materials/summary/?_fields=material_id%2Cformula_pretty%2Cenergy_per_atom%2Cformation_energy_per_atom%2Cband_gap%2Cefermi%2Cbulk_modulus%2Cshear_modulus%2Chomogeneous_poisson&material_ids=mp-2560&_limit=1000 (Caused by NameResolutionError(\"<urllib3.connection.HTTPSConnection object at 0x299a9c7f0>: Failed to resolve 'api.materialsproject.org' ([Errno 8] nodename nor servname provided, or not known)\")) occured for material id: mp-2560\n",
      "Error HTTPSConnectionPool(host='api.materialsproject.org', port=443): Max retries exceeded with url: /materials/summary/?_fields=material_id%2Cformula_pretty%2Cenergy_per_atom%2Cformation_energy_per_atom%2Cband_gap%2Cefermi%2Cbulk_modulus%2Cshear_modulus%2Chomogeneous_poisson&material_ids=mp-755690&_limit=1000 (Caused by NameResolutionError(\"<urllib3.connection.HTTPSConnection object at 0x29482ba30>: Failed to resolve 'api.materialsproject.org' ([Errno 8] nodename nor servname provided, or not known)\")) occured for material id: mp-755690\n",
      "Error HTTPSConnectionPool(host='api.materialsproject.org', port=443): Max retries exceeded with url: /materials/summary/?_fields=material_id%2Cformula_pretty%2Cenergy_per_atom%2Cformation_energy_per_atom%2Cband_gap%2Cefermi%2Cbulk_modulus%2Cshear_modulus%2Chomogeneous_poisson&material_ids=mp-4864&_limit=1000 (Caused by NameResolutionError(\"<urllib3.connection.HTTPSConnection object at 0x2951e4670>: Failed to resolve 'api.materialsproject.org' ([Errno 8] nodename nor servname provided, or not known)\")) occured for material id: mp-4864\n",
      "Error HTTPSConnectionPool(host='api.materialsproject.org', port=443): Max retries exceeded with url: /materials/summary/?_fields=material_id%2Cformula_pretty%2Cenergy_per_atom%2Cformation_energy_per_atom%2Cband_gap%2Cefermi%2Cbulk_modulus%2Cshear_modulus%2Chomogeneous_poisson&material_ids=mp-505562&_limit=1000 (Caused by NameResolutionError(\"<urllib3.connection.HTTPSConnection object at 0x299bb33d0>: Failed to resolve 'api.materialsproject.org' ([Errno 8] nodename nor servname provided, or not known)\")) occured for material id: mp-505562\n",
      "Error HTTPSConnectionPool(host='api.materialsproject.org', port=443): Max retries exceeded with url: /materials/summary/?_fields=material_id%2Cformula_pretty%2Cenergy_per_atom%2Cformation_energy_per_atom%2Cband_gap%2Cefermi%2Cbulk_modulus%2Cshear_modulus%2Chomogeneous_poisson&material_ids=mp-862260&_limit=1000 (Caused by NameResolutionError(\"<urllib3.connection.HTTPSConnection object at 0x2995f0be0>: Failed to resolve 'api.materialsproject.org' ([Errno 8] nodename nor servname provided, or not known)\")) occured for material id: mp-862260\n",
      "Error HTTPSConnectionPool(host='api.materialsproject.org', port=443): Max retries exceeded with url: /materials/summary/?_fields=material_id%2Cformula_pretty%2Cenergy_per_atom%2Cformation_energy_per_atom%2Cband_gap%2Cefermi%2Cbulk_modulus%2Cshear_modulus%2Chomogeneous_poisson&material_ids=mp-1011860&_limit=1000 (Caused by NameResolutionError(\"<urllib3.connection.HTTPSConnection object at 0x2951e70a0>: Failed to resolve 'api.materialsproject.org' ([Errno 8] nodename nor servname provided, or not known)\")) occured for material id: mp-1011860\n",
      "Error HTTPSConnectionPool(host='api.materialsproject.org', port=443): Max retries exceeded with url: /materials/summary/?_fields=material_id%2Cformula_pretty%2Cenergy_per_atom%2Cformation_energy_per_atom%2Cband_gap%2Cefermi%2Cbulk_modulus%2Cshear_modulus%2Chomogeneous_poisson&material_ids=mp-765508&_limit=1000 (Caused by NameResolutionError(\"<urllib3.connection.HTTPSConnection object at 0x1767a5ea0>: Failed to resolve 'api.materialsproject.org' ([Errno 8] nodename nor servname provided, or not known)\")) occured for material id: mp-765508\n",
      "Error HTTPSConnectionPool(host='api.materialsproject.org', port=443): Max retries exceeded with url: /materials/summary/?_fields=material_id%2Cformula_pretty%2Cenergy_per_atom%2Cformation_energy_per_atom%2Cband_gap%2Cefermi%2Cbulk_modulus%2Cshear_modulus%2Chomogeneous_poisson&material_ids=mp-15661&_limit=1000 (Caused by NameResolutionError(\"<urllib3.connection.HTTPSConnection object at 0x2951e4610>: Failed to resolve 'api.materialsproject.org' ([Errno 8] nodename nor servname provided, or not known)\")) occured for material id: mp-15661\n",
      "Error HTTPSConnectionPool(host='api.materialsproject.org', port=443): Max retries exceeded with url: /materials/summary/?_fields=material_id%2Cformula_pretty%2Cenergy_per_atom%2Cformation_energy_per_atom%2Cband_gap%2Cefermi%2Cbulk_modulus%2Cshear_modulus%2Chomogeneous_poisson&material_ids=mp-22461&_limit=1000 (Caused by NameResolutionError(\"<urllib3.connection.HTTPSConnection object at 0x299bb1f90>: Failed to resolve 'api.materialsproject.org' ([Errno 8] nodename nor servname provided, or not known)\")) occured for material id: mp-22461\n",
      "Error HTTPSConnectionPool(host='api.materialsproject.org', port=443): Max retries exceeded with url: /materials/summary/?_fields=material_id%2Cformula_pretty%2Cenergy_per_atom%2Cformation_energy_per_atom%2Cband_gap%2Cefermi%2Cbulk_modulus%2Cshear_modulus%2Chomogeneous_poisson&material_ids=mp-20892&_limit=1000 (Caused by NameResolutionError(\"<urllib3.connection.HTTPSConnection object at 0x1767a6e60>: Failed to resolve 'api.materialsproject.org' ([Errno 8] nodename nor servname provided, or not known)\")) occured for material id: mp-20892\n",
      "Error HTTPSConnectionPool(host='api.materialsproject.org', port=443): Max retries exceeded with url: /materials/summary/?_fields=material_id%2Cformula_pretty%2Cenergy_per_atom%2Cformation_energy_per_atom%2Cband_gap%2Cefermi%2Cbulk_modulus%2Cshear_modulus%2Chomogeneous_poisson&material_ids=mp-2114&_limit=1000 (Caused by NameResolutionError(\"<urllib3.connection.HTTPSConnection object at 0x2951e68f0>: Failed to resolve 'api.materialsproject.org' ([Errno 8] nodename nor servname provided, or not known)\")) occured for material id: mp-2114\n",
      "Error HTTPSConnectionPool(host='api.materialsproject.org', port=443): Max retries exceeded with url: /materials/summary/?_fields=material_id%2Cformula_pretty%2Cenergy_per_atom%2Cformation_energy_per_atom%2Cband_gap%2Cefermi%2Cbulk_modulus%2Cshear_modulus%2Chomogeneous_poisson&material_ids=mp-567713&_limit=1000 (Caused by NameResolutionError(\"<urllib3.connection.HTTPSConnection object at 0x1767a6ec0>: Failed to resolve 'api.materialsproject.org' ([Errno 8] nodename nor servname provided, or not known)\")) occured for material id: mp-567713\n",
      "Error HTTPSConnectionPool(host='api.materialsproject.org', port=443): Max retries exceeded with url: /materials/summary/?_fields=material_id%2Cformula_pretty%2Cenergy_per_atom%2Cformation_energy_per_atom%2Cband_gap%2Cefermi%2Cbulk_modulus%2Cshear_modulus%2Chomogeneous_poisson&material_ids=mp-716509&_limit=1000 (Caused by NameResolutionError(\"<urllib3.connection.HTTPSConnection object at 0x1767a4490>: Failed to resolve 'api.materialsproject.org' ([Errno 8] nodename nor servname provided, or not known)\")) occured for material id: mp-716509\n",
      "Error HTTPSConnectionPool(host='api.materialsproject.org', port=443): Max retries exceeded with url: /materials/summary/?_fields=material_id%2Cformula_pretty%2Cenergy_per_atom%2Cformation_energy_per_atom%2Cband_gap%2Cefermi%2Cbulk_modulus%2Cshear_modulus%2Chomogeneous_poisson&material_ids=mp-13160&_limit=1000 (Caused by NameResolutionError(\"<urllib3.connection.HTTPSConnection object at 0x1767a55d0>: Failed to resolve 'api.materialsproject.org' ([Errno 8] nodename nor servname provided, or not known)\")) occured for material id: mp-13160\n",
      "Error HTTPSConnectionPool(host='api.materialsproject.org', port=443): Max retries exceeded with url: /materials/summary/?_fields=material_id%2Cformula_pretty%2Cenergy_per_atom%2Cformation_energy_per_atom%2Cband_gap%2Cefermi%2Cbulk_modulus%2Cshear_modulus%2Chomogeneous_poisson&material_ids=mp-9565&_limit=1000 (Caused by NameResolutionError(\"<urllib3.connection.HTTPSConnection object at 0x1767a5b10>: Failed to resolve 'api.materialsproject.org' ([Errno 8] nodename nor servname provided, or not known)\")) occured for material id: mp-9565\n",
      "Error HTTPSConnectionPool(host='api.materialsproject.org', port=443): Max retries exceeded with url: /materials/summary/?_fields=material_id%2Cformula_pretty%2Cenergy_per_atom%2Cformation_energy_per_atom%2Cband_gap%2Cefermi%2Cbulk_modulus%2Cshear_modulus%2Chomogeneous_poisson&material_ids=mp-543096&_limit=1000 (Caused by NameResolutionError(\"<urllib3.connection.HTTPSConnection object at 0x1767a4430>: Failed to resolve 'api.materialsproject.org' ([Errno 8] nodename nor servname provided, or not known)\")) occured for material id: mp-543096\n",
      "Error HTTPSConnectionPool(host='api.materialsproject.org', port=443): Max retries exceeded with url: /materials/summary/?_fields=material_id%2Cformula_pretty%2Cenergy_per_atom%2Cformation_energy_per_atom%2Cband_gap%2Cefermi%2Cbulk_modulus%2Cshear_modulus%2Chomogeneous_poisson&material_ids=mp-25417&_limit=1000 (Caused by NameResolutionError(\"<urllib3.connection.HTTPSConnection object at 0x1767a5660>: Failed to resolve 'api.materialsproject.org' ([Errno 8] nodename nor servname provided, or not known)\")) occured for material id: mp-25417\n",
      "Error HTTPSConnectionPool(host='api.materialsproject.org', port=443): Max retries exceeded with url: /materials/summary/?_fields=material_id%2Cformula_pretty%2Cenergy_per_atom%2Cformation_energy_per_atom%2Cband_gap%2Cefermi%2Cbulk_modulus%2Cshear_modulus%2Chomogeneous_poisson&material_ids=mp-19163&_limit=1000 (Caused by NameResolutionError(\"<urllib3.connection.HTTPSConnection object at 0x1767a7a60>: Failed to resolve 'api.materialsproject.org' ([Errno 8] nodename nor servname provided, or not known)\")) occured for material id: mp-19163\n",
      "Error HTTPSConnectionPool(host='api.materialsproject.org', port=443): Max retries exceeded with url: /materials/summary/?_fields=material_id%2Cformula_pretty%2Cenergy_per_atom%2Cformation_energy_per_atom%2Cband_gap%2Cefermi%2Cbulk_modulus%2Cshear_modulus%2Chomogeneous_poisson&material_ids=mp-1708&_limit=1000 (Caused by NameResolutionError(\"<urllib3.connection.HTTPSConnection object at 0x1767a6230>: Failed to resolve 'api.materialsproject.org' ([Errno 8] nodename nor servname provided, or not known)\")) occured for material id: mp-1708\n",
      "Error HTTPSConnectionPool(host='api.materialsproject.org', port=443): Max retries exceeded with url: /materials/summary/?_fields=material_id%2Cformula_pretty%2Cenergy_per_atom%2Cformation_energy_per_atom%2Cband_gap%2Cefermi%2Cbulk_modulus%2Cshear_modulus%2Chomogeneous_poisson&material_ids=mp-774712&_limit=1000 (Caused by NameResolutionError(\"<urllib3.connection.HTTPSConnection object at 0x1767a5ae0>: Failed to resolve 'api.materialsproject.org' ([Errno 8] nodename nor servname provided, or not known)\")) occured for material id: mp-774712\n",
      "Error HTTPSConnectionPool(host='api.materialsproject.org', port=443): Max retries exceeded with url: /materials/summary/?_fields=material_id%2Cformula_pretty%2Cenergy_per_atom%2Cformation_energy_per_atom%2Cband_gap%2Cefermi%2Cbulk_modulus%2Cshear_modulus%2Chomogeneous_poisson&material_ids=mp-8279&_limit=1000 (Caused by NameResolutionError(\"<urllib3.connection.HTTPSConnection object at 0x294a50520>: Failed to resolve 'api.materialsproject.org' ([Errno 8] nodename nor servname provided, or not known)\")) occured for material id: mp-8279\n",
      "Error HTTPSConnectionPool(host='api.materialsproject.org', port=443): Max retries exceeded with url: /materials/summary/?_fields=material_id%2Cformula_pretty%2Cenergy_per_atom%2Cformation_energy_per_atom%2Cband_gap%2Cefermi%2Cbulk_modulus%2Cshear_modulus%2Chomogeneous_poisson&material_ids=mp-567612&_limit=1000 (Caused by NameResolutionError(\"<urllib3.connection.HTTPSConnection object at 0x289bd3880>: Failed to resolve 'api.materialsproject.org' ([Errno 8] nodename nor servname provided, or not known)\")) occured for material id: mp-567612\n",
      "Error HTTPSConnectionPool(host='api.materialsproject.org', port=443): Max retries exceeded with url: /materials/summary/?_fields=material_id%2Cformula_pretty%2Cenergy_per_atom%2Cformation_energy_per_atom%2Cband_gap%2Cefermi%2Cbulk_modulus%2Cshear_modulus%2Chomogeneous_poisson&material_ids=mp-13095&_limit=1000 (Caused by NameResolutionError(\"<urllib3.connection.HTTPSConnection object at 0x1767a79d0>: Failed to resolve 'api.materialsproject.org' ([Errno 8] nodename nor servname provided, or not known)\")) occured for material id: mp-13095\n",
      "Error HTTPSConnectionPool(host='api.materialsproject.org', port=443): Max retries exceeded with url: /materials/summary/?_fields=material_id%2Cformula_pretty%2Cenergy_per_atom%2Cformation_energy_per_atom%2Cband_gap%2Cefermi%2Cbulk_modulus%2Cshear_modulus%2Chomogeneous_poisson&material_ids=mp-569833&_limit=1000 (Caused by NameResolutionError(\"<urllib3.connection.HTTPSConnection object at 0x29779faf0>: Failed to resolve 'api.materialsproject.org' ([Errno 8] nodename nor servname provided, or not known)\")) occured for material id: mp-569833\n",
      "Error HTTPSConnectionPool(host='api.materialsproject.org', port=443): Max retries exceeded with url: /materials/summary/?_fields=material_id%2Cformula_pretty%2Cenergy_per_atom%2Cformation_energy_per_atom%2Cband_gap%2Cefermi%2Cbulk_modulus%2Cshear_modulus%2Chomogeneous_poisson&material_ids=mp-22302&_limit=1000 (Caused by NameResolutionError(\"<urllib3.connection.HTTPSConnection object at 0x1767a5b10>: Failed to resolve 'api.materialsproject.org' ([Errno 8] nodename nor servname provided, or not known)\")) occured for material id: mp-22302\n",
      "Error HTTPSConnectionPool(host='api.materialsproject.org', port=443): Max retries exceeded with url: /materials/summary/?_fields=material_id%2Cformula_pretty%2Cenergy_per_atom%2Cformation_energy_per_atom%2Cband_gap%2Cefermi%2Cbulk_modulus%2Cshear_modulus%2Chomogeneous_poisson&material_ids=mp-736&_limit=1000 (Caused by NameResolutionError(\"<urllib3.connection.HTTPSConnection object at 0x1767a5db0>: Failed to resolve 'api.materialsproject.org' ([Errno 8] nodename nor servname provided, or not known)\")) occured for material id: mp-736\n",
      "Error HTTPSConnectionPool(host='api.materialsproject.org', port=443): Max retries exceeded with url: /materials/summary/?_fields=material_id%2Cformula_pretty%2Cenergy_per_atom%2Cformation_energy_per_atom%2Cband_gap%2Cefermi%2Cbulk_modulus%2Cshear_modulus%2Chomogeneous_poisson&material_ids=mp-1009083&_limit=1000 (Caused by NameResolutionError(\"<urllib3.connection.HTTPSConnection object at 0x29779d090>: Failed to resolve 'api.materialsproject.org' ([Errno 8] nodename nor servname provided, or not known)\")) occured for material id: mp-1009083\n",
      "Error HTTPSConnectionPool(host='api.materialsproject.org', port=443): Max retries exceeded with url: /materials/summary/?_fields=material_id%2Cformula_pretty%2Cenergy_per_atom%2Cformation_energy_per_atom%2Cband_gap%2Cefermi%2Cbulk_modulus%2Cshear_modulus%2Chomogeneous_poisson&material_ids=mp-556520&_limit=1000 (Caused by NameResolutionError(\"<urllib3.connection.HTTPSConnection object at 0x1767a4d00>: Failed to resolve 'api.materialsproject.org' ([Errno 8] nodename nor servname provided, or not known)\")) occured for material id: mp-556520\n",
      "Error HTTPSConnectionPool(host='api.materialsproject.org', port=443): Max retries exceeded with url: /materials/summary/?_fields=material_id%2Cformula_pretty%2Cenergy_per_atom%2Cformation_energy_per_atom%2Cband_gap%2Cefermi%2Cbulk_modulus%2Cshear_modulus%2Chomogeneous_poisson&material_ids=mp-8605&_limit=1000 (Caused by NameResolutionError(\"<urllib3.connection.HTTPSConnection object at 0x29779f850>: Failed to resolve 'api.materialsproject.org' ([Errno 8] nodename nor servname provided, or not known)\")) occured for material id: mp-8605\n",
      "Error HTTPSConnectionPool(host='api.materialsproject.org', port=443): Max retries exceeded with url: /materials/summary/?_fields=material_id%2Cformula_pretty%2Cenergy_per_atom%2Cformation_energy_per_atom%2Cband_gap%2Cefermi%2Cbulk_modulus%2Cshear_modulus%2Chomogeneous_poisson&material_ids=mp-22864&_limit=1000 (Caused by NameResolutionError(\"<urllib3.connection.HTTPSConnection object at 0x29779d030>: Failed to resolve 'api.materialsproject.org' ([Errno 8] nodename nor servname provided, or not known)\")) occured for material id: mp-22864\n",
      "Error HTTPSConnectionPool(host='api.materialsproject.org', port=443): Max retries exceeded with url: /materials/summary/?_fields=material_id%2Cformula_pretty%2Cenergy_per_atom%2Cformation_energy_per_atom%2Cband_gap%2Cefermi%2Cbulk_modulus%2Cshear_modulus%2Chomogeneous_poisson&material_ids=mp-3805&_limit=1000 (Caused by NameResolutionError(\"<urllib3.connection.HTTPSConnection object at 0x1767a4310>: Failed to resolve 'api.materialsproject.org' ([Errno 8] nodename nor servname provided, or not known)\")) occured for material id: mp-3805\n",
      "Error HTTPSConnectionPool(host='api.materialsproject.org', port=443): Max retries exceeded with url: /materials/summary/?_fields=material_id%2Cformula_pretty%2Cenergy_per_atom%2Cformation_energy_per_atom%2Cband_gap%2Cefermi%2Cbulk_modulus%2Cshear_modulus%2Chomogeneous_poisson&material_ids=mp-7437&_limit=1000 (Caused by NameResolutionError(\"<urllib3.connection.HTTPSConnection object at 0x1767a4280>: Failed to resolve 'api.materialsproject.org' ([Errno 8] nodename nor servname provided, or not known)\")) occured for material id: mp-7437\n",
      "Error HTTPSConnectionPool(host='api.materialsproject.org', port=443): Max retries exceeded with url: /materials/summary/?_fields=material_id%2Cformula_pretty%2Cenergy_per_atom%2Cformation_energy_per_atom%2Cband_gap%2Cefermi%2Cbulk_modulus%2Cshear_modulus%2Chomogeneous_poisson&material_ids=mp-6985&_limit=1000 (Caused by NameResolutionError(\"<urllib3.connection.HTTPSConnection object at 0x1767a49d0>: Failed to resolve 'api.materialsproject.org' ([Errno 8] nodename nor servname provided, or not known)\")) occured for material id: mp-6985\n",
      "Error HTTPSConnectionPool(host='api.materialsproject.org', port=443): Max retries exceeded with url: /materials/summary/?_fields=material_id%2Cformula_pretty%2Cenergy_per_atom%2Cformation_energy_per_atom%2Cband_gap%2Cefermi%2Cbulk_modulus%2Cshear_modulus%2Chomogeneous_poisson&material_ids=mp-2807&_limit=1000 (Caused by NameResolutionError(\"<urllib3.connection.HTTPSConnection object at 0x1767a77f0>: Failed to resolve 'api.materialsproject.org' ([Errno 8] nodename nor servname provided, or not known)\")) occured for material id: mp-2807\n",
      "Error HTTPSConnectionPool(host='api.materialsproject.org', port=443): Max retries exceeded with url: /materials/summary/?_fields=material_id%2Cformula_pretty%2Cenergy_per_atom%2Cformation_energy_per_atom%2Cband_gap%2Cefermi%2Cbulk_modulus%2Cshear_modulus%2Chomogeneous_poisson&material_ids=mp-8017&_limit=1000 (Caused by NameResolutionError(\"<urllib3.connection.HTTPSConnection object at 0x1767a5e70>: Failed to resolve 'api.materialsproject.org' ([Errno 8] nodename nor servname provided, or not known)\")) occured for material id: mp-8017\n",
      "Error HTTPSConnectionPool(host='api.materialsproject.org', port=443): Max retries exceeded with url: /materials/summary/?_fields=material_id%2Cformula_pretty%2Cenergy_per_atom%2Cformation_energy_per_atom%2Cband_gap%2Cefermi%2Cbulk_modulus%2Cshear_modulus%2Chomogeneous_poisson&material_ids=mp-30737&_limit=1000 (Caused by NameResolutionError(\"<urllib3.connection.HTTPSConnection object at 0x1767a5bd0>: Failed to resolve 'api.materialsproject.org' ([Errno 8] nodename nor servname provided, or not known)\")) occured for material id: mp-30737\n",
      "Error HTTPSConnectionPool(host='api.materialsproject.org', port=443): Max retries exceeded with url: /materials/summary/?_fields=material_id%2Cformula_pretty%2Cenergy_per_atom%2Cformation_energy_per_atom%2Cband_gap%2Cefermi%2Cbulk_modulus%2Cshear_modulus%2Chomogeneous_poisson&material_ids=mp-10044&_limit=1000 (Caused by NameResolutionError(\"<urllib3.connection.HTTPSConnection object at 0x1767a41c0>: Failed to resolve 'api.materialsproject.org' ([Errno 8] nodename nor servname provided, or not known)\")) occured for material id: mp-10044\n",
      "Error HTTPSConnectionPool(host='api.materialsproject.org', port=443): Max retries exceeded with url: /materials/summary/?_fields=material_id%2Cformula_pretty%2Cenergy_per_atom%2Cformation_energy_per_atom%2Cband_gap%2Cefermi%2Cbulk_modulus%2Cshear_modulus%2Chomogeneous_poisson&material_ids=mp-22262&_limit=1000 (Caused by NameResolutionError(\"<urllib3.connection.HTTPSConnection object at 0x1767a5fc0>: Failed to resolve 'api.materialsproject.org' ([Errno 8] nodename nor servname provided, or not known)\")) occured for material id: mp-22262\n",
      "Error HTTPSConnectionPool(host='api.materialsproject.org', port=443): Max retries exceeded with url: /materials/summary/?_fields=material_id%2Cformula_pretty%2Cenergy_per_atom%2Cformation_energy_per_atom%2Cband_gap%2Cefermi%2Cbulk_modulus%2Cshear_modulus%2Chomogeneous_poisson&material_ids=mp-10300&_limit=1000 (Caused by NameResolutionError(\"<urllib3.connection.HTTPSConnection object at 0x1767a6290>: Failed to resolve 'api.materialsproject.org' ([Errno 8] nodename nor servname provided, or not known)\")) occured for material id: mp-10300\n",
      "Error HTTPSConnectionPool(host='api.materialsproject.org', port=443): Max retries exceeded with url: /materials/summary/?_fields=material_id%2Cformula_pretty%2Cenergy_per_atom%2Cformation_energy_per_atom%2Cband_gap%2Cefermi%2Cbulk_modulus%2Cshear_modulus%2Chomogeneous_poisson&material_ids=mp-864794&_limit=1000 (Caused by NameResolutionError(\"<urllib3.connection.HTTPSConnection object at 0x1767a74f0>: Failed to resolve 'api.materialsproject.org' ([Errno 8] nodename nor servname provided, or not known)\")) occured for material id: mp-864794\n",
      "Error HTTPSConnectionPool(host='api.materialsproject.org', port=443): Max retries exceeded with url: /materials/summary/?_fields=material_id%2Cformula_pretty%2Cenergy_per_atom%2Cformation_energy_per_atom%2Cband_gap%2Cefermi%2Cbulk_modulus%2Cshear_modulus%2Chomogeneous_poisson&material_ids=mp-769889&_limit=1000 (Caused by NameResolutionError(\"<urllib3.connection.HTTPSConnection object at 0x1767a5c00>: Failed to resolve 'api.materialsproject.org' ([Errno 8] nodename nor servname provided, or not known)\")) occured for material id: mp-769889\n",
      "Error HTTPSConnectionPool(host='api.materialsproject.org', port=443): Max retries exceeded with url: /materials/summary/?_fields=material_id%2Cformula_pretty%2Cenergy_per_atom%2Cformation_energy_per_atom%2Cband_gap%2Cefermi%2Cbulk_modulus%2Cshear_modulus%2Chomogeneous_poisson&material_ids=mp-21440&_limit=1000 (Caused by NameResolutionError(\"<urllib3.connection.HTTPSConnection object at 0x1767a4be0>: Failed to resolve 'api.materialsproject.org' ([Errno 8] nodename nor servname provided, or not known)\")) occured for material id: mp-21440\n",
      "Error HTTPSConnectionPool(host='api.materialsproject.org', port=443): Max retries exceeded with url: /materials/summary/?_fields=material_id%2Cformula_pretty%2Cenergy_per_atom%2Cformation_energy_per_atom%2Cband_gap%2Cefermi%2Cbulk_modulus%2Cshear_modulus%2Chomogeneous_poisson&material_ids=mp-765966&_limit=1000 (Caused by NameResolutionError(\"<urllib3.connection.HTTPSConnection object at 0x1767a4e80>: Failed to resolve 'api.materialsproject.org' ([Errno 8] nodename nor servname provided, or not known)\")) occured for material id: mp-765966\n",
      "Error HTTPSConnectionPool(host='api.materialsproject.org', port=443): Max retries exceeded with url: /materials/summary/?_fields=material_id%2Cformula_pretty%2Cenergy_per_atom%2Cformation_energy_per_atom%2Cband_gap%2Cefermi%2Cbulk_modulus%2Cshear_modulus%2Chomogeneous_poisson&material_ids=mp-8402&_limit=1000 (Caused by NameResolutionError(\"<urllib3.connection.HTTPSConnection object at 0x1767a4220>: Failed to resolve 'api.materialsproject.org' ([Errno 8] nodename nor servname provided, or not known)\")) occured for material id: mp-8402\n",
      "Error HTTPSConnectionPool(host='api.materialsproject.org', port=443): Max retries exceeded with url: /materials/summary/?_fields=material_id%2Cformula_pretty%2Cenergy_per_atom%2Cformation_energy_per_atom%2Cband_gap%2Cefermi%2Cbulk_modulus%2Cshear_modulus%2Chomogeneous_poisson&material_ids=mp-19870&_limit=1000 (Caused by NameResolutionError(\"<urllib3.connection.HTTPSConnection object at 0x1767a7160>: Failed to resolve 'api.materialsproject.org' ([Errno 8] nodename nor servname provided, or not known)\")) occured for material id: mp-19870\n",
      "Error HTTPSConnectionPool(host='api.materialsproject.org', port=443): Max retries exceeded with url: /materials/summary/?_fields=material_id%2Cformula_pretty%2Cenergy_per_atom%2Cformation_energy_per_atom%2Cband_gap%2Cefermi%2Cbulk_modulus%2Cshear_modulus%2Chomogeneous_poisson&material_ids=mp-30428&_limit=1000 (Caused by NameResolutionError(\"<urllib3.connection.HTTPSConnection object at 0x1767a74f0>: Failed to resolve 'api.materialsproject.org' ([Errno 8] nodename nor servname provided, or not known)\")) occured for material id: mp-30428\n",
      "Error HTTPSConnectionPool(host='api.materialsproject.org', port=443): Max retries exceeded with url: /materials/summary/?_fields=material_id%2Cformula_pretty%2Cenergy_per_atom%2Cformation_energy_per_atom%2Cband_gap%2Cefermi%2Cbulk_modulus%2Cshear_modulus%2Chomogeneous_poisson&material_ids=mp-23710&_limit=1000 (Caused by NameResolutionError(\"<urllib3.connection.HTTPSConnection object at 0x1767a5fc0>: Failed to resolve 'api.materialsproject.org' ([Errno 8] nodename nor servname provided, or not known)\")) occured for material id: mp-23710\n",
      "Error HTTPSConnectionPool(host='api.materialsproject.org', port=443): Max retries exceeded with url: /materials/summary/?_fields=material_id%2Cformula_pretty%2Cenergy_per_atom%2Cformation_energy_per_atom%2Cband_gap%2Cefermi%2Cbulk_modulus%2Cshear_modulus%2Chomogeneous_poisson&material_ids=mp-31460&_limit=1000 (Caused by NameResolutionError(\"<urllib3.connection.HTTPSConnection object at 0x1767a5db0>: Failed to resolve 'api.materialsproject.org' ([Errno 8] nodename nor servname provided, or not known)\")) occured for material id: mp-31460\n",
      "Error HTTPSConnectionPool(host='api.materialsproject.org', port=443): Max retries exceeded with url: /materials/summary/?_fields=material_id%2Cformula_pretty%2Cenergy_per_atom%2Cformation_energy_per_atom%2Cband_gap%2Cefermi%2Cbulk_modulus%2Cshear_modulus%2Chomogeneous_poisson&material_ids=mp-13137&_limit=1000 (Caused by NameResolutionError(\"<urllib3.connection.HTTPSConnection object at 0x1767a6650>: Failed to resolve 'api.materialsproject.org' ([Errno 8] nodename nor servname provided, or not known)\")) occured for material id: mp-13137\n",
      "Error HTTPSConnectionPool(host='api.materialsproject.org', port=443): Max retries exceeded with url: /materials/summary/?_fields=material_id%2Cformula_pretty%2Cenergy_per_atom%2Cformation_energy_per_atom%2Cband_gap%2Cefermi%2Cbulk_modulus%2Cshear_modulus%2Chomogeneous_poisson&material_ids=mp-556548&_limit=1000 (Caused by NameResolutionError(\"<urllib3.connection.HTTPSConnection object at 0x1767a7df0>: Failed to resolve 'api.materialsproject.org' ([Errno 8] nodename nor servname provided, or not known)\")) occured for material id: mp-556548\n",
      "Error HTTPSConnectionPool(host='api.materialsproject.org', port=443): Max retries exceeded with url: /materials/summary/?_fields=material_id%2Cformula_pretty%2Cenergy_per_atom%2Cformation_energy_per_atom%2Cband_gap%2Cefermi%2Cbulk_modulus%2Cshear_modulus%2Chomogeneous_poisson&material_ids=mp-2187&_limit=1000 (Caused by NameResolutionError(\"<urllib3.connection.HTTPSConnection object at 0x1767a7310>: Failed to resolve 'api.materialsproject.org' ([Errno 8] nodename nor servname provided, or not known)\")) occured for material id: mp-2187\n",
      "Error HTTPSConnectionPool(host='api.materialsproject.org', port=443): Max retries exceeded with url: /materials/summary/?_fields=material_id%2Cformula_pretty%2Cenergy_per_atom%2Cformation_energy_per_atom%2Cband_gap%2Cefermi%2Cbulk_modulus%2Cshear_modulus%2Chomogeneous_poisson&material_ids=mp-11413&_limit=1000 (Caused by NameResolutionError(\"<urllib3.connection.HTTPSConnection object at 0x1767a5540>: Failed to resolve 'api.materialsproject.org' ([Errno 8] nodename nor servname provided, or not known)\")) occured for material id: mp-11413\n",
      "Error HTTPSConnectionPool(host='api.materialsproject.org', port=443): Max retries exceeded with url: /materials/summary/?_fields=material_id%2Cformula_pretty%2Cenergy_per_atom%2Cformation_energy_per_atom%2Cband_gap%2Cefermi%2Cbulk_modulus%2Cshear_modulus%2Chomogeneous_poisson&material_ids=mp-985805&_limit=1000 (Caused by NameResolutionError(\"<urllib3.connection.HTTPSConnection object at 0x1767a4670>: Failed to resolve 'api.materialsproject.org' ([Errno 8] nodename nor servname provided, or not known)\")) occured for material id: mp-985805\n",
      "Error HTTPSConnectionPool(host='api.materialsproject.org', port=443): Max retries exceeded with url: /materials/summary/?_fields=material_id%2Cformula_pretty%2Cenergy_per_atom%2Cformation_energy_per_atom%2Cband_gap%2Cefermi%2Cbulk_modulus%2Cshear_modulus%2Chomogeneous_poisson&material_ids=mp-865051&_limit=1000 (Caused by NameResolutionError(\"<urllib3.connection.HTTPSConnection object at 0x1767a5090>: Failed to resolve 'api.materialsproject.org' ([Errno 8] nodename nor servname provided, or not known)\")) occured for material id: mp-865051\n",
      "Error HTTPSConnectionPool(host='api.materialsproject.org', port=443): Max retries exceeded with url: /materials/summary/?_fields=material_id%2Cformula_pretty%2Cenergy_per_atom%2Cformation_energy_per_atom%2Cband_gap%2Cefermi%2Cbulk_modulus%2Cshear_modulus%2Chomogeneous_poisson&material_ids=mp-1734&_limit=1000 (Caused by NameResolutionError(\"<urllib3.connection.HTTPSConnection object at 0x1767a4940>: Failed to resolve 'api.materialsproject.org' ([Errno 8] nodename nor servname provided, or not known)\")) occured for material id: mp-1734\n",
      "Error HTTPSConnectionPool(host='api.materialsproject.org', port=443): Max retries exceeded with url: /materials/summary/?_fields=material_id%2Cformula_pretty%2Cenergy_per_atom%2Cformation_energy_per_atom%2Cband_gap%2Cefermi%2Cbulk_modulus%2Cshear_modulus%2Chomogeneous_poisson&material_ids=mp-14112&_limit=1000 (Caused by NameResolutionError(\"<urllib3.connection.HTTPSConnection object at 0x1767a5e40>: Failed to resolve 'api.materialsproject.org' ([Errno 8] nodename nor servname provided, or not known)\")) occured for material id: mp-14112\n",
      "Error HTTPSConnectionPool(host='api.materialsproject.org', port=443): Max retries exceeded with url: /materials/summary/?_fields=material_id%2Cformula_pretty%2Cenergy_per_atom%2Cformation_energy_per_atom%2Cband_gap%2Cefermi%2Cbulk_modulus%2Cshear_modulus%2Chomogeneous_poisson&material_ids=mp-1285&_limit=1000 (Caused by NameResolutionError(\"<urllib3.connection.HTTPSConnection object at 0x2997709a0>: Failed to resolve 'api.materialsproject.org' ([Errno 8] nodename nor servname provided, or not known)\")) occured for material id: mp-1285\n",
      "Error HTTPSConnectionPool(host='api.materialsproject.org', port=443): Max retries exceeded with url: /materials/summary/?_fields=material_id%2Cformula_pretty%2Cenergy_per_atom%2Cformation_energy_per_atom%2Cband_gap%2Cefermi%2Cbulk_modulus%2Cshear_modulus%2Chomogeneous_poisson&material_ids=mp-541487&_limit=1000 (Caused by NameResolutionError(\"<urllib3.connection.HTTPSConnection object at 0x1767a4190>: Failed to resolve 'api.materialsproject.org' ([Errno 8] nodename nor servname provided, or not known)\")) occured for material id: mp-541487\n",
      "Error HTTPSConnectionPool(host='api.materialsproject.org', port=443): Max retries exceeded with url: /materials/summary/?_fields=material_id%2Cformula_pretty%2Cenergy_per_atom%2Cformation_energy_per_atom%2Cband_gap%2Cefermi%2Cbulk_modulus%2Cshear_modulus%2Chomogeneous_poisson&material_ids=mp-568827&_limit=1000 (Caused by NameResolutionError(\"<urllib3.connection.HTTPSConnection object at 0x289bd38b0>: Failed to resolve 'api.materialsproject.org' ([Errno 8] nodename nor servname provided, or not known)\")) occured for material id: mp-568827\n",
      "Error HTTPSConnectionPool(host='api.materialsproject.org', port=443): Max retries exceeded with url: /materials/summary/?_fields=material_id%2Cformula_pretty%2Cenergy_per_atom%2Cformation_energy_per_atom%2Cband_gap%2Cefermi%2Cbulk_modulus%2Cshear_modulus%2Chomogeneous_poisson&material_ids=mp-50&_limit=1000 (Caused by NameResolutionError(\"<urllib3.connection.HTTPSConnection object at 0x294e86080>: Failed to resolve 'api.materialsproject.org' ([Errno 8] nodename nor servname provided, or not known)\")) occured for material id: mp-50\n",
      "Error HTTPSConnectionPool(host='api.materialsproject.org', port=443): Max retries exceeded with url: /materials/summary/?_fields=material_id%2Cformula_pretty%2Cenergy_per_atom%2Cformation_energy_per_atom%2Cband_gap%2Cefermi%2Cbulk_modulus%2Cshear_modulus%2Chomogeneous_poisson&material_ids=mp-754126&_limit=1000 (Caused by NameResolutionError(\"<urllib3.connection.HTTPSConnection object at 0x1767a6440>: Failed to resolve 'api.materialsproject.org' ([Errno 8] nodename nor servname provided, or not known)\")) occured for material id: mp-754126\n",
      "Error HTTPSConnectionPool(host='api.materialsproject.org', port=443): Max retries exceeded with url: /materials/summary/?_fields=material_id%2Cformula_pretty%2Cenergy_per_atom%2Cformation_energy_per_atom%2Cband_gap%2Cefermi%2Cbulk_modulus%2Cshear_modulus%2Chomogeneous_poisson&material_ids=mp-504878&_limit=1000 (Caused by NameResolutionError(\"<urllib3.connection.HTTPSConnection object at 0x299bb14b0>: Failed to resolve 'api.materialsproject.org' ([Errno 8] nodename nor servname provided, or not known)\")) occured for material id: mp-504878\n",
      "Error HTTPSConnectionPool(host='api.materialsproject.org', port=443): Max retries exceeded with url: /materials/summary/?_fields=material_id%2Cformula_pretty%2Cenergy_per_atom%2Cformation_energy_per_atom%2Cband_gap%2Cefermi%2Cbulk_modulus%2Cshear_modulus%2Chomogeneous_poisson&material_ids=mp-27726&_limit=1000 (Caused by NameResolutionError(\"<urllib3.connection.HTTPSConnection object at 0x299bb1930>: Failed to resolve 'api.materialsproject.org' ([Errno 8] nodename nor servname provided, or not known)\")) occured for material id: mp-27726\n",
      "Error HTTPSConnectionPool(host='api.materialsproject.org', port=443): Max retries exceeded with url: /materials/summary/?_fields=material_id%2Cformula_pretty%2Cenergy_per_atom%2Cformation_energy_per_atom%2Cband_gap%2Cefermi%2Cbulk_modulus%2Cshear_modulus%2Chomogeneous_poisson&material_ids=mp-30856&_limit=1000 (Caused by NameResolutionError(\"<urllib3.connection.HTTPSConnection object at 0x1767a7490>: Failed to resolve 'api.materialsproject.org' ([Errno 8] nodename nor servname provided, or not known)\")) occured for material id: mp-30856\n",
      "Error HTTPSConnectionPool(host='api.materialsproject.org', port=443): Max retries exceeded with url: /materials/summary/?_fields=material_id%2Cformula_pretty%2Cenergy_per_atom%2Cformation_energy_per_atom%2Cband_gap%2Cefermi%2Cbulk_modulus%2Cshear_modulus%2Chomogeneous_poisson&material_ids=mp-1219&_limit=1000 (Caused by NameResolutionError(\"<urllib3.connection.HTTPSConnection object at 0x299a9d960>: Failed to resolve 'api.materialsproject.org' ([Errno 8] nodename nor servname provided, or not known)\")) occured for material id: mp-1219\n",
      "Error HTTPSConnectionPool(host='api.materialsproject.org', port=443): Max retries exceeded with url: /materials/summary/?_fields=material_id%2Cformula_pretty%2Cenergy_per_atom%2Cformation_energy_per_atom%2Cband_gap%2Cefermi%2Cbulk_modulus%2Cshear_modulus%2Chomogeneous_poisson&material_ids=mp-581733&_limit=1000 (Caused by NameResolutionError(\"<urllib3.connection.HTTPSConnection object at 0x299a9d2a0>: Failed to resolve 'api.materialsproject.org' ([Errno 8] nodename nor servname provided, or not known)\")) occured for material id: mp-581733\n",
      "Error HTTPSConnectionPool(host='api.materialsproject.org', port=443): Max retries exceeded with url: /materials/summary/?_fields=material_id%2Cformula_pretty%2Cenergy_per_atom%2Cformation_energy_per_atom%2Cband_gap%2Cefermi%2Cbulk_modulus%2Cshear_modulus%2Chomogeneous_poisson&material_ids=mp-416&_limit=1000 (Caused by NameResolutionError(\"<urllib3.connection.HTTPSConnection object at 0x299bb0be0>: Failed to resolve 'api.materialsproject.org' ([Errno 8] nodename nor servname provided, or not known)\")) occured for material id: mp-416\n",
      "Error HTTPSConnectionPool(host='api.materialsproject.org', port=443): Max retries exceeded with url: /materials/summary/?_fields=material_id%2Cformula_pretty%2Cenergy_per_atom%2Cformation_energy_per_atom%2Cband_gap%2Cefermi%2Cbulk_modulus%2Cshear_modulus%2Chomogeneous_poisson&material_ids=mp-546125&_limit=1000 (Caused by NameResolutionError(\"<urllib3.connection.HTTPSConnection object at 0x295117ca0>: Failed to resolve 'api.materialsproject.org' ([Errno 8] nodename nor servname provided, or not known)\")) occured for material id: mp-546125\n",
      "Error HTTPSConnectionPool(host='api.materialsproject.org', port=443): Max retries exceeded with url: /materials/summary/?_fields=material_id%2Cformula_pretty%2Cenergy_per_atom%2Cformation_energy_per_atom%2Cband_gap%2Cefermi%2Cbulk_modulus%2Cshear_modulus%2Chomogeneous_poisson&material_ids=mp-8861&_limit=1000 (Caused by NameResolutionError(\"<urllib3.connection.HTTPSConnection object at 0x295117d00>: Failed to resolve 'api.materialsproject.org' ([Errno 8] nodename nor servname provided, or not known)\")) occured for material id: mp-8861\n",
      "Error HTTPSConnectionPool(host='api.materialsproject.org', port=443): Max retries exceeded with url: /materials/summary/?_fields=material_id%2Cformula_pretty%2Cenergy_per_atom%2Cformation_energy_per_atom%2Cband_gap%2Cefermi%2Cbulk_modulus%2Cshear_modulus%2Chomogeneous_poisson&material_ids=mp-3792&_limit=1000 (Caused by NameResolutionError(\"<urllib3.connection.HTTPSConnection object at 0x299bb3df0>: Failed to resolve 'api.materialsproject.org' ([Errno 8] nodename nor servname provided, or not known)\")) occured for material id: mp-3792\n",
      "Error HTTPSConnectionPool(host='api.materialsproject.org', port=443): Max retries exceeded with url: /materials/summary/?_fields=material_id%2Cformula_pretty%2Cenergy_per_atom%2Cformation_energy_per_atom%2Cband_gap%2Cefermi%2Cbulk_modulus%2Cshear_modulus%2Chomogeneous_poisson&material_ids=mp-18773&_limit=1000 (Caused by NameResolutionError(\"<urllib3.connection.HTTPSConnection object at 0x1767a65c0>: Failed to resolve 'api.materialsproject.org' ([Errno 8] nodename nor servname provided, or not known)\")) occured for material id: mp-18773\n",
      "Error HTTPSConnectionPool(host='api.materialsproject.org', port=443): Max retries exceeded with url: /materials/summary/?_fields=material_id%2Cformula_pretty%2Cenergy_per_atom%2Cformation_energy_per_atom%2Cband_gap%2Cefermi%2Cbulk_modulus%2Cshear_modulus%2Chomogeneous_poisson&material_ids=mp-758104&_limit=1000 (Caused by NameResolutionError(\"<urllib3.connection.HTTPSConnection object at 0x299a9c7f0>: Failed to resolve 'api.materialsproject.org' ([Errno 8] nodename nor servname provided, or not known)\")) occured for material id: mp-758104\n",
      "Error HTTPSConnectionPool(host='api.materialsproject.org', port=443): Max retries exceeded with url: /materials/summary/?_fields=material_id%2Cformula_pretty%2Cenergy_per_atom%2Cformation_energy_per_atom%2Cband_gap%2Cefermi%2Cbulk_modulus%2Cshear_modulus%2Chomogeneous_poisson&material_ids=mp-953&_limit=1000 (Caused by NameResolutionError(\"<urllib3.connection.HTTPSConnection object at 0x299bb03d0>: Failed to resolve 'api.materialsproject.org' ([Errno 8] nodename nor servname provided, or not known)\")) occured for material id: mp-953\n",
      "Error HTTPSConnectionPool(host='api.materialsproject.org', port=443): Max retries exceeded with url: /materials/summary/?_fields=material_id%2Cformula_pretty%2Cenergy_per_atom%2Cformation_energy_per_atom%2Cband_gap%2Cefermi%2Cbulk_modulus%2Cshear_modulus%2Chomogeneous_poisson&material_ids=mp-556417&_limit=1000 (Caused by NameResolutionError(\"<urllib3.connection.HTTPSConnection object at 0x1767a7700>: Failed to resolve 'api.materialsproject.org' ([Errno 8] nodename nor servname provided, or not known)\")) occured for material id: mp-556417\n",
      "Error HTTPSConnectionPool(host='api.materialsproject.org', port=443): Max retries exceeded with url: /materials/summary/?_fields=material_id%2Cformula_pretty%2Cenergy_per_atom%2Cformation_energy_per_atom%2Cband_gap%2Cefermi%2Cbulk_modulus%2Cshear_modulus%2Chomogeneous_poisson&material_ids=mp-16305&_limit=1000 (Caused by NameResolutionError(\"<urllib3.connection.HTTPSConnection object at 0x299bb0970>: Failed to resolve 'api.materialsproject.org' ([Errno 8] nodename nor servname provided, or not known)\")) occured for material id: mp-16305\n",
      "Error HTTPSConnectionPool(host='api.materialsproject.org', port=443): Max retries exceeded with url: /materials/summary/?_fields=material_id%2Cformula_pretty%2Cenergy_per_atom%2Cformation_energy_per_atom%2Cband_gap%2Cefermi%2Cbulk_modulus%2Cshear_modulus%2Chomogeneous_poisson&material_ids=mp-33009&_limit=1000 (Caused by NameResolutionError(\"<urllib3.connection.HTTPSConnection object at 0x1767a6560>: Failed to resolve 'api.materialsproject.org' ([Errno 8] nodename nor servname provided, or not known)\")) occured for material id: mp-33009\n",
      "Error HTTPSConnectionPool(host='api.materialsproject.org', port=443): Max retries exceeded with url: /materials/summary/?_fields=material_id%2Cformula_pretty%2Cenergy_per_atom%2Cformation_energy_per_atom%2Cband_gap%2Cefermi%2Cbulk_modulus%2Cshear_modulus%2Chomogeneous_poisson&material_ids=mp-9339&_limit=1000 (Caused by NameResolutionError(\"<urllib3.connection.HTTPSConnection object at 0x1767a5b70>: Failed to resolve 'api.materialsproject.org' ([Errno 8] nodename nor servname provided, or not known)\")) occured for material id: mp-9339\n",
      "Error HTTPSConnectionPool(host='api.materialsproject.org', port=443): Max retries exceeded with url: /materials/summary/?_fields=material_id%2Cformula_pretty%2Cenergy_per_atom%2Cformation_energy_per_atom%2Cband_gap%2Cefermi%2Cbulk_modulus%2Cshear_modulus%2Chomogeneous_poisson&material_ids=mp-2090&_limit=1000 (Caused by NameResolutionError(\"<urllib3.connection.HTTPSConnection object at 0x299bb2cb0>: Failed to resolve 'api.materialsproject.org' ([Errno 8] nodename nor servname provided, or not known)\")) occured for material id: mp-2090\n",
      "Error HTTPSConnectionPool(host='api.materialsproject.org', port=443): Max retries exceeded with url: /materials/summary/?_fields=material_id%2Cformula_pretty%2Cenergy_per_atom%2Cformation_energy_per_atom%2Cband_gap%2Cefermi%2Cbulk_modulus%2Cshear_modulus%2Chomogeneous_poisson&material_ids=mp-8780&_limit=1000 (Caused by NameResolutionError(\"<urllib3.connection.HTTPSConnection object at 0x1767a70d0>: Failed to resolve 'api.materialsproject.org' ([Errno 8] nodename nor servname provided, or not known)\")) occured for material id: mp-8780\n",
      "Error HTTPSConnectionPool(host='api.materialsproject.org', port=443): Max retries exceeded with url: /materials/summary/?_fields=material_id%2Cformula_pretty%2Cenergy_per_atom%2Cformation_energy_per_atom%2Cband_gap%2Cefermi%2Cbulk_modulus%2Cshear_modulus%2Chomogeneous_poisson&material_ids=mp-18717&_limit=1000 (Caused by NameResolutionError(\"<urllib3.connection.HTTPSConnection object at 0x1767a4250>: Failed to resolve 'api.materialsproject.org' ([Errno 8] nodename nor servname provided, or not known)\")) occured for material id: mp-18717\n",
      "Error HTTPSConnectionPool(host='api.materialsproject.org', port=443): Max retries exceeded with url: /materials/summary/?_fields=material_id%2Cformula_pretty%2Cenergy_per_atom%2Cformation_energy_per_atom%2Cband_gap%2Cefermi%2Cbulk_modulus%2Cshear_modulus%2Chomogeneous_poisson&material_ids=mp-11697&_limit=1000 (Caused by NameResolutionError(\"<urllib3.connection.HTTPSConnection object at 0x1767a6470>: Failed to resolve 'api.materialsproject.org' ([Errno 8] nodename nor servname provided, or not known)\")) occured for material id: mp-11697\n",
      "Error HTTPSConnectionPool(host='api.materialsproject.org', port=443): Max retries exceeded with url: /materials/summary/?_fields=material_id%2Cformula_pretty%2Cenergy_per_atom%2Cformation_energy_per_atom%2Cband_gap%2Cefermi%2Cbulk_modulus%2Cshear_modulus%2Chomogeneous_poisson&material_ids=mp-19069&_limit=1000 (Caused by NameResolutionError(\"<urllib3.connection.HTTPSConnection object at 0x1767a7df0>: Failed to resolve 'api.materialsproject.org' ([Errno 8] nodename nor servname provided, or not known)\")) occured for material id: mp-19069\n",
      "Error HTTPSConnectionPool(host='api.materialsproject.org', port=443): Max retries exceeded with url: /materials/summary/?_fields=material_id%2Cformula_pretty%2Cenergy_per_atom%2Cformation_energy_per_atom%2Cband_gap%2Cefermi%2Cbulk_modulus%2Cshear_modulus%2Chomogeneous_poisson&material_ids=mp-1973&_limit=1000 (Caused by NameResolutionError(\"<urllib3.connection.HTTPSConnection object at 0x2951e5330>: Failed to resolve 'api.materialsproject.org' ([Errno 8] nodename nor servname provided, or not known)\")) occured for material id: mp-1973\n",
      "Error HTTPSConnectionPool(host='api.materialsproject.org', port=443): Max retries exceeded with url: /materials/summary/?_fields=material_id%2Cformula_pretty%2Cenergy_per_atom%2Cformation_energy_per_atom%2Cband_gap%2Cefermi%2Cbulk_modulus%2Cshear_modulus%2Chomogeneous_poisson&material_ids=mp-8484&_limit=1000 (Caused by NameResolutionError(\"<urllib3.connection.HTTPSConnection object at 0x1767a65f0>: Failed to resolve 'api.materialsproject.org' ([Errno 8] nodename nor servname provided, or not known)\")) occured for material id: mp-8484\n",
      "Error HTTPSConnectionPool(host='api.materialsproject.org', port=443): Max retries exceeded with url: /materials/summary/?_fields=material_id%2Cformula_pretty%2Cenergy_per_atom%2Cformation_energy_per_atom%2Cband_gap%2Cefermi%2Cbulk_modulus%2Cshear_modulus%2Chomogeneous_poisson&material_ids=mp-20382&_limit=1000 (Caused by NameResolutionError(\"<urllib3.connection.HTTPSConnection object at 0x2951e7a60>: Failed to resolve 'api.materialsproject.org' ([Errno 8] nodename nor servname provided, or not known)\")) occured for material id: mp-20382\n",
      "Error HTTPSConnectionPool(host='api.materialsproject.org', port=443): Max retries exceeded with url: /materials/summary/?_fields=material_id%2Cformula_pretty%2Cenergy_per_atom%2Cformation_energy_per_atom%2Cband_gap%2Cefermi%2Cbulk_modulus%2Cshear_modulus%2Chomogeneous_poisson&material_ids=mp-622570&_limit=1000 (Caused by NameResolutionError(\"<urllib3.connection.HTTPSConnection object at 0x2995f1750>: Failed to resolve 'api.materialsproject.org' ([Errno 8] nodename nor servname provided, or not known)\")) occured for material id: mp-622570\n",
      "Error HTTPSConnectionPool(host='api.materialsproject.org', port=443): Max retries exceeded with url: /materials/summary/?_fields=material_id%2Cformula_pretty%2Cenergy_per_atom%2Cformation_energy_per_atom%2Cband_gap%2Cefermi%2Cbulk_modulus%2Cshear_modulus%2Chomogeneous_poisson&material_ids=mp-15985&_limit=1000 (Caused by NameResolutionError(\"<urllib3.connection.HTTPSConnection object at 0x1767a5900>: Failed to resolve 'api.materialsproject.org' ([Errno 8] nodename nor servname provided, or not known)\")) occured for material id: mp-15985\n",
      "Error HTTPSConnectionPool(host='api.materialsproject.org', port=443): Max retries exceeded with url: /materials/summary/?_fields=material_id%2Cformula_pretty%2Cenergy_per_atom%2Cformation_energy_per_atom%2Cband_gap%2Cefermi%2Cbulk_modulus%2Cshear_modulus%2Chomogeneous_poisson&material_ids=mp-20202&_limit=1000 (Caused by NameResolutionError(\"<urllib3.connection.HTTPSConnection object at 0x2995f24a0>: Failed to resolve 'api.materialsproject.org' ([Errno 8] nodename nor servname provided, or not known)\")) occured for material id: mp-20202\n",
      "Error HTTPSConnectionPool(host='api.materialsproject.org', port=443): Max retries exceeded with url: /materials/summary/?_fields=material_id%2Cformula_pretty%2Cenergy_per_atom%2Cformation_energy_per_atom%2Cband_gap%2Cefermi%2Cbulk_modulus%2Cshear_modulus%2Chomogeneous_poisson&material_ids=mp-777479&_limit=1000 (Caused by NameResolutionError(\"<urllib3.connection.HTTPSConnection object at 0x29779cbb0>: Failed to resolve 'api.materialsproject.org' ([Errno 8] nodename nor servname provided, or not known)\")) occured for material id: mp-777479\n",
      "Error HTTPSConnectionPool(host='api.materialsproject.org', port=443): Max retries exceeded with url: /materials/summary/?_fields=material_id%2Cformula_pretty%2Cenergy_per_atom%2Cformation_energy_per_atom%2Cband_gap%2Cefermi%2Cbulk_modulus%2Cshear_modulus%2Chomogeneous_poisson&material_ids=mp-3427&_limit=1000 (Caused by NameResolutionError(\"<urllib3.connection.HTTPSConnection object at 0x2995f0f40>: Failed to resolve 'api.materialsproject.org' ([Errno 8] nodename nor servname provided, or not known)\")) occured for material id: mp-3427\n",
      "Error HTTPSConnectionPool(host='api.materialsproject.org', port=443): Max retries exceeded with url: /materials/summary/?_fields=material_id%2Cformula_pretty%2Cenergy_per_atom%2Cformation_energy_per_atom%2Cband_gap%2Cefermi%2Cbulk_modulus%2Cshear_modulus%2Chomogeneous_poisson&material_ids=mp-30175&_limit=1000 (Caused by NameResolutionError(\"<urllib3.connection.HTTPSConnection object at 0x1767a57b0>: Failed to resolve 'api.materialsproject.org' ([Errno 8] nodename nor servname provided, or not known)\")) occured for material id: mp-30175\n",
      "Error HTTPSConnectionPool(host='api.materialsproject.org', port=443): Max retries exceeded with url: /materials/summary/?_fields=material_id%2Cformula_pretty%2Cenergy_per_atom%2Cformation_energy_per_atom%2Cband_gap%2Cefermi%2Cbulk_modulus%2Cshear_modulus%2Chomogeneous_poisson&material_ids=mp-13450&_limit=1000 (Caused by NameResolutionError(\"<urllib3.connection.HTTPSConnection object at 0x29779d960>: Failed to resolve 'api.materialsproject.org' ([Errno 8] nodename nor servname provided, or not known)\")) occured for material id: mp-13450\n",
      "Error HTTPSConnectionPool(host='api.materialsproject.org', port=443): Max retries exceeded with url: /materials/summary/?_fields=material_id%2Cformula_pretty%2Cenergy_per_atom%2Cformation_energy_per_atom%2Cband_gap%2Cefermi%2Cbulk_modulus%2Cshear_modulus%2Chomogeneous_poisson&material_ids=mp-1648&_limit=1000 (Caused by NameResolutionError(\"<urllib3.connection.HTTPSConnection object at 0x2995f2170>: Failed to resolve 'api.materialsproject.org' ([Errno 8] nodename nor servname provided, or not known)\")) occured for material id: mp-1648\n",
      "Error HTTPSConnectionPool(host='api.materialsproject.org', port=443): Max retries exceeded with url: /materials/summary/?_fields=material_id%2Cformula_pretty%2Cenergy_per_atom%2Cformation_energy_per_atom%2Cband_gap%2Cefermi%2Cbulk_modulus%2Cshear_modulus%2Chomogeneous_poisson&material_ids=mp-10200&_limit=1000 (Caused by NameResolutionError(\"<urllib3.connection.HTTPSConnection object at 0x2951e7550>: Failed to resolve 'api.materialsproject.org' ([Errno 8] nodename nor servname provided, or not known)\")) occured for material id: mp-10200\n",
      "Error HTTPSConnectionPool(host='api.materialsproject.org', port=443): Max retries exceeded with url: /materials/summary/?_fields=material_id%2Cformula_pretty%2Cenergy_per_atom%2Cformation_energy_per_atom%2Cband_gap%2Cefermi%2Cbulk_modulus%2Cshear_modulus%2Chomogeneous_poisson&material_ids=mp-22426&_limit=1000 (Caused by NameResolutionError(\"<urllib3.connection.HTTPSConnection object at 0x29779e680>: Failed to resolve 'api.materialsproject.org' ([Errno 8] nodename nor servname provided, or not known)\")) occured for material id: mp-22426\n",
      "Error HTTPSConnectionPool(host='api.materialsproject.org', port=443): Max retries exceeded with url: /materials/summary/?_fields=material_id%2Cformula_pretty%2Cenergy_per_atom%2Cformation_energy_per_atom%2Cband_gap%2Cefermi%2Cbulk_modulus%2Cshear_modulus%2Chomogeneous_poisson&material_ids=mp-2012&_limit=1000 (Caused by NameResolutionError(\"<urllib3.connection.HTTPSConnection object at 0x2995f2800>: Failed to resolve 'api.materialsproject.org' ([Errno 8] nodename nor servname provided, or not known)\")) occured for material id: mp-2012\n",
      "Error HTTPSConnectionPool(host='api.materialsproject.org', port=443): Max retries exceeded with url: /materials/summary/?_fields=material_id%2Cformula_pretty%2Cenergy_per_atom%2Cformation_energy_per_atom%2Cband_gap%2Cefermi%2Cbulk_modulus%2Cshear_modulus%2Chomogeneous_poisson&material_ids=mp-558432&_limit=1000 (Caused by NameResolutionError(\"<urllib3.connection.HTTPSConnection object at 0x1767a42b0>: Failed to resolve 'api.materialsproject.org' ([Errno 8] nodename nor servname provided, or not known)\")) occured for material id: mp-558432\n",
      "Error HTTPSConnectionPool(host='api.materialsproject.org', port=443): Max retries exceeded with url: /materials/summary/?_fields=material_id%2Cformula_pretty%2Cenergy_per_atom%2Cformation_energy_per_atom%2Cband_gap%2Cefermi%2Cbulk_modulus%2Cshear_modulus%2Chomogeneous_poisson&material_ids=mp-9023&_limit=1000 (Caused by NameResolutionError(\"<urllib3.connection.HTTPSConnection object at 0x1767a4790>: Failed to resolve 'api.materialsproject.org' ([Errno 8] nodename nor servname provided, or not known)\")) occured for material id: mp-9023\n",
      "Error HTTPSConnectionPool(host='api.materialsproject.org', port=443): Max retries exceeded with url: /materials/summary/?_fields=material_id%2Cformula_pretty%2Cenergy_per_atom%2Cformation_energy_per_atom%2Cband_gap%2Cefermi%2Cbulk_modulus%2Cshear_modulus%2Chomogeneous_poisson&material_ids=mp-21850&_limit=1000 (Caused by NameResolutionError(\"<urllib3.connection.HTTPSConnection object at 0x2995f2170>: Failed to resolve 'api.materialsproject.org' ([Errno 8] nodename nor servname provided, or not known)\")) occured for material id: mp-21850\n",
      "Error HTTPSConnectionPool(host='api.materialsproject.org', port=443): Max retries exceeded with url: /materials/summary/?_fields=material_id%2Cformula_pretty%2Cenergy_per_atom%2Cformation_energy_per_atom%2Cband_gap%2Cefermi%2Cbulk_modulus%2Cshear_modulus%2Chomogeneous_poisson&material_ids=mp-15316&_limit=1000 (Caused by NameResolutionError(\"<urllib3.connection.HTTPSConnection object at 0x29779df90>: Failed to resolve 'api.materialsproject.org' ([Errno 8] nodename nor servname provided, or not known)\")) occured for material id: mp-15316\n",
      "Error HTTPSConnectionPool(host='api.materialsproject.org', port=443): Max retries exceeded with url: /materials/summary/?_fields=material_id%2Cformula_pretty%2Cenergy_per_atom%2Cformation_energy_per_atom%2Cband_gap%2Cefermi%2Cbulk_modulus%2Cshear_modulus%2Chomogeneous_poisson&material_ids=mp-30788&_limit=1000 (Caused by NameResolutionError(\"<urllib3.connection.HTTPSConnection object at 0x2995f39d0>: Failed to resolve 'api.materialsproject.org' ([Errno 8] nodename nor servname provided, or not known)\")) occured for material id: mp-30788\n",
      "Error HTTPSConnectionPool(host='api.materialsproject.org', port=443): Max retries exceeded with url: /materials/summary/?_fields=material_id%2Cformula_pretty%2Cenergy_per_atom%2Cformation_energy_per_atom%2Cband_gap%2Cefermi%2Cbulk_modulus%2Cshear_modulus%2Chomogeneous_poisson&material_ids=mp-10748&_limit=1000 (Caused by NameResolutionError(\"<urllib3.connection.HTTPSConnection object at 0x2951e6b60>: Failed to resolve 'api.materialsproject.org' ([Errno 8] nodename nor servname provided, or not known)\")) occured for material id: mp-10748\n",
      "Error HTTPSConnectionPool(host='api.materialsproject.org', port=443): Max retries exceeded with url: /materials/summary/?_fields=material_id%2Cformula_pretty%2Cenergy_per_atom%2Cformation_energy_per_atom%2Cband_gap%2Cefermi%2Cbulk_modulus%2Cshear_modulus%2Chomogeneous_poisson&material_ids=mp-18922&_limit=1000 (Caused by NameResolutionError(\"<urllib3.connection.HTTPSConnection object at 0x29482ba30>: Failed to resolve 'api.materialsproject.org' ([Errno 8] nodename nor servname provided, or not known)\")) occured for material id: mp-18922\n",
      "Error HTTPSConnectionPool(host='api.materialsproject.org', port=443): Max retries exceeded with url: /materials/summary/?_fields=material_id%2Cformula_pretty%2Cenergy_per_atom%2Cformation_energy_per_atom%2Cband_gap%2Cefermi%2Cbulk_modulus%2Cshear_modulus%2Chomogeneous_poisson&material_ids=mp-3747&_limit=1000 (Caused by NameResolutionError(\"<urllib3.connection.HTTPSConnection object at 0x297f9ea10>: Failed to resolve 'api.materialsproject.org' ([Errno 8] nodename nor servname provided, or not known)\")) occured for material id: mp-3747\n"
     ]
    },
    {
     "name": "stderr",
     "output_type": "stream",
     "text": [
      "Retrieving SummaryDoc documents: 100%|█████████| 1/1 [00:00<00:00, 22192.08it/s]\n",
      "Retrieving SummaryDoc documents: 100%|█████████| 1/1 [00:00<00:00, 21732.15it/s]\n",
      "Retrieving SummaryDoc documents: 100%|█████████| 1/1 [00:00<00:00, 23831.27it/s]\n",
      "Retrieving SummaryDoc documents: 100%|█████████| 1/1 [00:00<00:00, 23172.95it/s]\n",
      "Retrieving SummaryDoc documents: 100%|█████████| 1/1 [00:00<00:00, 27776.85it/s]\n",
      "Retrieving SummaryDoc documents: 100%|█████████| 1/1 [00:00<00:00, 22671.91it/s]\n",
      "Retrieving SummaryDoc documents: 100%|█████████| 1/1 [00:00<00:00, 27776.85it/s]\n",
      "Retrieving SummaryDoc documents: 100%|█████████| 1/1 [00:00<00:00, 23831.27it/s]\n",
      "Retrieving SummaryDoc documents: 100%|█████████| 1/1 [00:00<00:00, 25115.59it/s]\n",
      "Retrieving SummaryDoc documents: 0it [00:00, ?it/s]\n"
     ]
    },
    {
     "name": "stdout",
     "output_type": "stream",
     "text": [
      "Error list index out of range occured for material id: mp-765125\n"
     ]
    },
    {
     "name": "stderr",
     "output_type": "stream",
     "text": [
      "Retrieving SummaryDoc documents: 100%|█████████| 1/1 [00:00<00:00, 22671.91it/s]\n",
      "Retrieving SummaryDoc documents: 100%|█████████| 1/1 [00:00<00:00, 22795.13it/s]\n",
      "Retrieving SummaryDoc documents: 100%|█████████| 1/1 [00:00<00:00, 23301.69it/s]\n",
      "Retrieving SummaryDoc documents: 100%|█████████| 1/1 [00:00<00:00, 23696.63it/s]\n",
      "Retrieving SummaryDoc documents: 100%|█████████| 1/1 [00:00<00:00, 23172.95it/s]\n",
      "Retrieving SummaryDoc documents: 100%|█████████| 1/1 [00:00<00:00, 22671.91it/s]\n",
      "Retrieving SummaryDoc documents: 100%|█████████| 1/1 [00:00<00:00, 23831.27it/s]\n",
      "Retrieving SummaryDoc documents: 100%|█████████| 1/1 [00:00<00:00, 23301.69it/s]\n",
      "Retrieving SummaryDoc documents: 100%|█████████| 1/1 [00:00<00:00, 15141.89it/s]\n",
      "Retrieving SummaryDoc documents: 100%|█████████| 1/1 [00:00<00:00, 23831.27it/s]\n",
      "Retrieving SummaryDoc documents: 100%|█████████| 1/1 [00:00<00:00, 22429.43it/s]\n",
      "Retrieving SummaryDoc documents: 100%|█████████| 1/1 [00:00<00:00, 27776.85it/s]\n",
      "Retrieving SummaryDoc documents: 100%|█████████| 1/1 [00:00<00:00, 25731.93it/s]\n",
      "Retrieving SummaryDoc documents: 100%|█████████| 1/1 [00:00<00:00, 23831.27it/s]\n",
      "Retrieving SummaryDoc documents: 100%|█████████| 1/1 [00:00<00:00, 23301.69it/s]\n",
      "Retrieving SummaryDoc documents: 100%|█████████| 1/1 [00:00<00:00, 20360.70it/s]\n",
      "Retrieving SummaryDoc documents: 100%|█████████| 1/1 [00:00<00:00, 23831.27it/s]\n",
      "Retrieving SummaryDoc documents: 100%|█████████| 1/1 [00:00<00:00, 21399.51it/s]\n",
      "Retrieving SummaryDoc documents: 0it [00:00, ?it/s]\n"
     ]
    },
    {
     "name": "stdout",
     "output_type": "stream",
     "text": [
      "Error list index out of range occured for material id: mp-781777\n"
     ]
    },
    {
     "name": "stderr",
     "output_type": "stream",
     "text": [
      "Retrieving SummaryDoc documents: 100%|█████████| 1/1 [00:00<00:00, 19599.55it/s]\n",
      "Retrieving SummaryDoc documents: 100%|█████████| 1/1 [00:00<00:00, 20867.18it/s]\n",
      "Retrieving SummaryDoc documents: 100%|█████████| 1/1 [00:00<00:00, 25115.59it/s]\n"
     ]
    },
    {
     "name": "stdout",
     "output_type": "stream",
     "text": [
      "Error HTTPSConnectionPool(host='api.materialsproject.org', port=443): Max retries exceeded with url: /materials/summary/?_fields=material_id%2Cformula_pretty%2Cenergy_per_atom%2Cformation_energy_per_atom%2Cband_gap%2Cefermi%2Cbulk_modulus%2Cshear_modulus%2Chomogeneous_poisson&material_ids=mp-977207&_limit=1000 (Caused by NameResolutionError(\"<urllib3.connection.HTTPSConnection object at 0x298f2ecb0>: Failed to resolve 'api.materialsproject.org' ([Errno 8] nodename nor servname provided, or not known)\")) occured for material id: mp-977207\n",
      "Error HTTPSConnectionPool(host='api.materialsproject.org', port=443): Max retries exceeded with url: /materials/summary/?_fields=material_id%2Cformula_pretty%2Cenergy_per_atom%2Cformation_energy_per_atom%2Cband_gap%2Cefermi%2Cbulk_modulus%2Cshear_modulus%2Chomogeneous_poisson&material_ids=mp-10379&_limit=1000 (Caused by NameResolutionError(\"<urllib3.connection.HTTPSConnection object at 0x298c94280>: Failed to resolve 'api.materialsproject.org' ([Errno 8] nodename nor servname provided, or not known)\")) occured for material id: mp-10379\n",
      "Error HTTPSConnectionPool(host='api.materialsproject.org', port=443): Max retries exceeded with url: /materials/summary/?_fields=material_id%2Cformula_pretty%2Cenergy_per_atom%2Cformation_energy_per_atom%2Cband_gap%2Cefermi%2Cbulk_modulus%2Cshear_modulus%2Chomogeneous_poisson&material_ids=mp-22156&_limit=1000 (Caused by NameResolutionError(\"<urllib3.connection.HTTPSConnection object at 0x298f2f3a0>: Failed to resolve 'api.materialsproject.org' ([Errno 8] nodename nor servname provided, or not known)\")) occured for material id: mp-22156\n",
      "Error HTTPSConnectionPool(host='api.materialsproject.org', port=443): Max retries exceeded with url: /materials/summary/?_fields=material_id%2Cformula_pretty%2Cenergy_per_atom%2Cformation_energy_per_atom%2Cband_gap%2Cefermi%2Cbulk_modulus%2Cshear_modulus%2Chomogeneous_poisson&material_ids=mp-2243&_limit=1000 (Caused by NameResolutionError(\"<urllib3.connection.HTTPSConnection object at 0x298c97220>: Failed to resolve 'api.materialsproject.org' ([Errno 8] nodename nor servname provided, or not known)\")) occured for material id: mp-2243\n"
     ]
    },
    {
     "name": "stderr",
     "output_type": "stream",
     "text": [
      "Retrieving SummaryDoc documents: 100%|█████████| 1/1 [00:00<00:00, 21845.33it/s]\n",
      "Retrieving SummaryDoc documents: 100%|█████████| 1/1 [00:00<00:00, 24244.53it/s]\n",
      "Retrieving SummaryDoc documents: 100%|█████████| 1/1 [00:00<00:00, 22310.13it/s]\n",
      "Retrieving SummaryDoc documents: 100%|█████████| 1/1 [00:00<00:00, 27594.11it/s]\n",
      "Retrieving SummaryDoc documents: 0it [00:00, ?it/s]\n"
     ]
    },
    {
     "name": "stdout",
     "output_type": "stream",
     "text": [
      "Error list index out of range occured for material id: mp-771247\n"
     ]
    },
    {
     "name": "stderr",
     "output_type": "stream",
     "text": [
      "Retrieving SummaryDoc documents: 100%|█████████| 1/1 [00:00<00:00, 23301.69it/s]\n",
      "Retrieving SummaryDoc documents: 100%|█████████| 1/1 [00:00<00:00, 24385.49it/s]\n",
      "Retrieving SummaryDoc documents: 100%|█████████| 1/1 [00:00<00:00, 20068.44it/s]\n",
      "Retrieving SummaryDoc documents: 100%|█████████| 1/1 [00:00<00:00, 25731.93it/s]\n",
      "Retrieving SummaryDoc documents: 100%|█████████| 1/1 [00:00<00:00, 21399.51it/s]\n",
      "Retrieving SummaryDoc documents: 100%|█████████| 1/1 [00:00<00:00, 28532.68it/s]\n",
      "Retrieving SummaryDoc documents: 100%|█████████| 1/1 [00:00<00:00, 21399.51it/s]\n",
      "Retrieving SummaryDoc documents: 100%|█████████| 1/1 [00:00<00:00, 23831.27it/s]\n",
      "Retrieving SummaryDoc documents: 100%|█████████| 1/1 [00:00<00:00, 21183.35it/s]\n",
      "Retrieving SummaryDoc documents: 100%|█████████| 1/1 [00:00<00:00, 26886.56it/s]\n",
      "Retrieving SummaryDoc documents: 100%|█████████| 1/1 [00:00<00:00, 22795.13it/s]\n",
      "Retrieving SummaryDoc documents: 100%|█████████| 1/1 [00:00<00:00, 26214.40it/s]\n",
      "Retrieving SummaryDoc documents: 100%|█████████| 1/1 [00:00<00:00, 23301.69it/s]\n",
      "Retrieving SummaryDoc documents: 100%|█████████| 1/1 [00:00<00:00, 20068.44it/s]\n",
      "Retrieving SummaryDoc documents: 100%|█████████| 1/1 [00:00<00:00, 20867.18it/s]\n",
      "Retrieving SummaryDoc documents: 100%|█████████| 1/1 [00:00<00:00, 22671.91it/s]\n",
      "Retrieving SummaryDoc documents: 0it [00:00, ?it/s]\n"
     ]
    },
    {
     "name": "stdout",
     "output_type": "stream",
     "text": [
      "Error list index out of range occured for material id: mp-780539\n"
     ]
    },
    {
     "name": "stderr",
     "output_type": "stream",
     "text": [
      "Retrieving SummaryDoc documents: 100%|█████████| 1/1 [00:00<00:00, 24818.37it/s]\n",
      "Retrieving SummaryDoc documents: 100%|█████████| 1/1 [00:00<00:00, 24244.53it/s]\n",
      "Retrieving SummaryDoc documents: 100%|█████████| 1/1 [00:00<00:00, 23301.69it/s]\n",
      "Retrieving SummaryDoc documents: 100%|█████████| 1/1 [00:00<00:00, 21620.12it/s]\n",
      "Retrieving SummaryDoc documents: 100%|█████████| 1/1 [00:00<00:00, 24244.53it/s]\n",
      "Retrieving SummaryDoc documents: 100%|█████████| 1/1 [00:00<00:00, 23831.27it/s]\n",
      "Retrieving SummaryDoc documents: 100%|█████████| 1/1 [00:00<00:00, 24966.10it/s]\n"
     ]
    },
    {
     "name": "stdout",
     "output_type": "stream",
     "text": [
      "Error HTTPSConnectionPool(host='api.materialsproject.org', port=443): Max retries exceeded with url: /materials/summary/?_fields=material_id%2Cformula_pretty%2Cenergy_per_atom%2Cformation_energy_per_atom%2Cband_gap%2Cefermi%2Cbulk_modulus%2Cshear_modulus%2Chomogeneous_poisson&material_ids=mp-718&_limit=1000 (Caused by NameResolutionError(\"<urllib3.connection.HTTPSConnection object at 0x297b5cdf0>: Failed to resolve 'api.materialsproject.org' ([Errno 8] nodename nor servname provided, or not known)\")) occured for material id: mp-718\n",
      "Error HTTPSConnectionPool(host='api.materialsproject.org', port=443): Max retries exceeded with url: /materials/summary/?_fields=material_id%2Cformula_pretty%2Cenergy_per_atom%2Cformation_energy_per_atom%2Cband_gap%2Cefermi%2Cbulk_modulus%2Cshear_modulus%2Chomogeneous_poisson&material_ids=mp-1028&_limit=1000 (Caused by NameResolutionError(\"<urllib3.connection.HTTPSConnection object at 0x297b5f5e0>: Failed to resolve 'api.materialsproject.org' ([Errno 8] nodename nor servname provided, or not known)\")) occured for material id: mp-1028\n",
      "Error HTTPSConnectionPool(host='api.materialsproject.org', port=443): Max retries exceeded with url: /materials/summary/?_fields=material_id%2Cformula_pretty%2Cenergy_per_atom%2Cformation_energy_per_atom%2Cband_gap%2Cefermi%2Cbulk_modulus%2Cshear_modulus%2Chomogeneous_poisson&material_ids=mp-763330&_limit=1000 (Caused by NameResolutionError(\"<urllib3.connection.HTTPSConnection object at 0x2951e75e0>: Failed to resolve 'api.materialsproject.org' ([Errno 8] nodename nor servname provided, or not known)\")) occured for material id: mp-763330\n",
      "Error HTTPSConnectionPool(host='api.materialsproject.org', port=443): Max retries exceeded with url: /materials/summary/?_fields=material_id%2Cformula_pretty%2Cenergy_per_atom%2Cformation_energy_per_atom%2Cband_gap%2Cefermi%2Cbulk_modulus%2Cshear_modulus%2Chomogeneous_poisson&material_ids=mp-1038&_limit=1000 (Caused by NameResolutionError(\"<urllib3.connection.HTTPSConnection object at 0x29a157dc0>: Failed to resolve 'api.materialsproject.org' ([Errno 8] nodename nor servname provided, or not known)\")) occured for material id: mp-1038\n",
      "Error HTTPSConnectionPool(host='api.materialsproject.org', port=443): Max retries exceeded with url: /materials/summary/?_fields=material_id%2Cformula_pretty%2Cenergy_per_atom%2Cformation_energy_per_atom%2Cband_gap%2Cefermi%2Cbulk_modulus%2Cshear_modulus%2Chomogeneous_poisson&material_ids=mp-754455&_limit=1000 (Caused by NameResolutionError(\"<urllib3.connection.HTTPSConnection object at 0x29a156bf0>: Failed to resolve 'api.materialsproject.org' ([Errno 8] nodename nor servname provided, or not known)\")) occured for material id: mp-754455\n",
      "Error HTTPSConnectionPool(host='api.materialsproject.org', port=443): Max retries exceeded with url: /materials/summary/?_fields=material_id%2Cformula_pretty%2Cenergy_per_atom%2Cformation_energy_per_atom%2Cband_gap%2Cefermi%2Cbulk_modulus%2Cshear_modulus%2Chomogeneous_poisson&material_ids=mp-570751&_limit=1000 (Caused by NameResolutionError(\"<urllib3.connection.HTTPSConnection object at 0x29773a7a0>: Failed to resolve 'api.materialsproject.org' ([Errno 8] nodename nor servname provided, or not known)\")) occured for material id: mp-570751\n",
      "Error HTTPSConnectionPool(host='api.materialsproject.org', port=443): Max retries exceeded with url: /materials/summary/?_fields=material_id%2Cformula_pretty%2Cenergy_per_atom%2Cformation_energy_per_atom%2Cband_gap%2Cefermi%2Cbulk_modulus%2Cshear_modulus%2Chomogeneous_poisson&material_ids=mp-30871&_limit=1000 (Caused by NameResolutionError(\"<urllib3.connection.HTTPSConnection object at 0x29a157880>: Failed to resolve 'api.materialsproject.org' ([Errno 8] nodename nor servname provided, or not known)\")) occured for material id: mp-30871\n"
     ]
    },
    {
     "name": "stderr",
     "output_type": "stream",
     "text": [
      "Retrieving SummaryDoc documents: 100%|█████████| 1/1 [00:00<00:00, 18893.26it/s]\n",
      "Retrieving SummaryDoc documents: 100%|█████████| 1/1 [00:00<00:00, 21845.33it/s]\n",
      "Retrieving SummaryDoc documents: 100%|█████████| 1/1 [00:00<00:00, 23301.69it/s]\n",
      "Retrieving SummaryDoc documents: 100%|█████████| 1/1 [00:00<00:00, 23172.95it/s]\n",
      "Retrieving SummaryDoc documents: 100%|█████████| 1/1 [00:00<00:00, 24244.53it/s]\n",
      "Retrieving SummaryDoc documents: 100%|█████████| 1/1 [00:00<00:00, 22671.91it/s]\n",
      "Retrieving SummaryDoc documents: 100%|█████████| 1/1 [00:00<00:00, 23831.27it/s]\n",
      "Retrieving SummaryDoc documents: 100%|█████████| 1/1 [00:00<00:00, 27776.85it/s]\n",
      "Retrieving SummaryDoc documents: 100%|█████████| 1/1 [00:00<00:00, 22671.91it/s]\n",
      "Retrieving SummaryDoc documents: 100%|█████████| 1/1 [00:00<00:00, 30393.51it/s]\n",
      "Retrieving SummaryDoc documents: 100%|█████████| 1/1 [00:00<00:00, 19691.57it/s]\n",
      "Retrieving SummaryDoc documents: 100%|█████████| 1/1 [00:00<00:00, 21732.15it/s]\n",
      "Retrieving SummaryDoc documents: 100%|█████████| 1/1 [00:00<00:00, 26214.40it/s]\n",
      "Retrieving SummaryDoc documents: 100%|█████████| 1/1 [00:00<00:00, 22192.08it/s]\n",
      "Retrieving SummaryDoc documents: 100%|█████████| 1/1 [00:00<00:00, 26214.40it/s]\n",
      "Retrieving SummaryDoc documents: 100%|█████████| 1/1 [00:00<00:00, 16912.52it/s]\n",
      "Retrieving SummaryDoc documents: 100%|█████████| 1/1 [00:00<00:00, 20460.02it/s]\n",
      "Retrieving SummaryDoc documents: 100%|█████████| 1/1 [00:00<00:00, 22192.08it/s]\n",
      "Retrieving SummaryDoc documents: 100%|█████████| 1/1 [00:00<00:00, 22192.08it/s]\n",
      "Retrieving SummaryDoc documents: 100%|█████████| 1/1 [00:00<00:00, 11214.72it/s]\n",
      "Retrieving SummaryDoc documents: 100%|█████████| 1/1 [00:00<00:00, 13662.23it/s]\n",
      "Retrieving SummaryDoc documents: 100%|█████████| 1/1 [00:00<00:00, 23831.27it/s]\n",
      "Retrieving SummaryDoc documents: 100%|█████████| 1/1 [00:00<00:00, 20971.52it/s]\n",
      "Retrieving SummaryDoc documents: 100%|█████████| 1/1 [00:00<00:00, 23831.27it/s]\n",
      "Retrieving SummaryDoc documents: 100%|█████████| 1/1 [00:00<00:00, 18558.87it/s]\n",
      "Retrieving SummaryDoc documents: 100%|█████████| 1/1 [00:00<00:00, 22671.91it/s]\n",
      "Retrieving SummaryDoc documents: 100%|█████████| 1/1 [00:00<00:00, 22192.08it/s]\n",
      "Retrieving SummaryDoc documents: 100%|█████████| 1/1 [00:00<00:00, 17549.39it/s]\n",
      "Retrieving SummaryDoc documents: 100%|█████████| 1/1 [00:00<00:00, 26886.56it/s]\n",
      "Retrieving SummaryDoc documents: 100%|█████████| 1/1 [00:00<00:00, 22671.91it/s]\n",
      "Retrieving SummaryDoc documents: 100%|█████████| 1/1 [00:00<00:00, 22795.13it/s]\n",
      "Retrieving SummaryDoc documents: 100%|█████████| 1/1 [00:00<00:00, 23172.95it/s]\n"
     ]
    }
   ],
   "source": [
    "with MPRester(MP_API_KEY) as mpr:\n",
    "    # Retrieve summary information for the specified materials\n",
    "    for id in list_of_mpid:\n",
    "        try:\n",
    "            doc = mpr.materials.summary.search(\n",
    "                material_ids=id,\n",
    "                fields=fields\n",
    "            )\n",
    "            id_prop_dict[id] = [doc[0].formula_pretty, doc[0].energy_per_atom, doc[0].formation_energy_per_atom, doc[0].band_gap,\n",
    "                                doc[0].efermi, doc[0].bulk_modulus, doc[0].shear_modulus, doc[0].homogeneous_poisson]\n",
    "        \n",
    "        except Exception as e:\n",
    "            print(f'Error {e} occured for material id: {id}')\n",
    "            with open ('../data/error.txt', 'a') as file:\n",
    "                file.write(f'{id}\\n')\n",
    "                \n",
    "            \n",
    "            "
   ]
  },
  {
   "cell_type": "code",
   "execution_count": 23,
   "id": "1ffcb7d4-b700-40d5-99cd-12a7ca80b6af",
   "metadata": {},
   "outputs": [
    {
     "data": {
      "text/plain": [
       "{'mp-9251': ['TlTe3Pt2',\n",
       "  -4.631565129166664,\n",
       "  -0.6409557230555537,\n",
       "  0.0,\n",
       "  5.76940749,\n",
       "  {'voigt': 30.728, 'reuss': 15.423, 'vrh': 23.076},\n",
       "  {'voigt': 19.126, 'reuss': 11.688, 'vrh': 15.407},\n",
       "  0.227],\n",
       " 'mp-10846': ['NiAsSe',\n",
       "  -13.981162110833333,\n",
       "  -0.3142259846874988,\n",
       "  0.0,\n",
       "  6.31662975,\n",
       "  {'voigt': 1386049.882, 'reuss': 117.452, 'vrh': 693083.667},\n",
       "  {'voigt': 831625.489, 'reuss': 61.579, 'vrh': 415843.534},\n",
       "  0.25],\n",
       " 'mp-10003': ['Nb4CoSi',\n",
       "  -9.164011044166667,\n",
       "  -0.3366852258333341,\n",
       "  0.0,\n",
       "  5.79495023,\n",
       "  {'voigt': 194.14, 'reuss': 194.137, 'vrh': 194.139},\n",
       "  {'voigt': 100.955, 'reuss': 100.527, 'vrh': 100.741},\n",
       "  0.279],\n",
       " 'mp-19247': ['ScVO4',\n",
       "  -8.909906478333333,\n",
       "  -3.0390014675000003,\n",
       "  2.6851,\n",
       "  1.50552044,\n",
       "  None,\n",
       "  None,\n",
       "  None]}"
      ]
     },
     "execution_count": 23,
     "metadata": {},
     "output_type": "execute_result"
    }
   ],
   "source": [
    "mp_prop_df = pd.DataFrame(id_prop_dict,columns=['material_id', 'properties'])"
   ]
  },
  {
   "cell_type": "code",
   "execution_count": null,
   "id": "d2be786e-457d-416b-9c28-aa0f5dea1a28",
   "metadata": {},
   "outputs": [],
   "source": []
  },
  {
   "cell_type": "code",
   "execution_count": null,
   "id": "d3c122eb-9fc2-4937-9e21-6c1054154af6",
   "metadata": {},
   "outputs": [],
   "source": []
  }
 ],
 "metadata": {
  "kernelspec": {
   "display_name": "Python 3 (ipykernel)",
   "language": "python",
   "name": "python3"
  },
  "language_info": {
   "codemirror_mode": {
    "name": "ipython",
    "version": 3
   },
   "file_extension": ".py",
   "mimetype": "text/x-python",
   "name": "python",
   "nbconvert_exporter": "python",
   "pygments_lexer": "ipython3",
   "version": "3.10.14"
  }
 },
 "nbformat": 4,
 "nbformat_minor": 5
}
